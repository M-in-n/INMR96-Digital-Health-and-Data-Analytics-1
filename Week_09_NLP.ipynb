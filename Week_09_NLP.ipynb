{
  "cells": [
    {
      "cell_type": "markdown",
      "metadata": {
        "id": "view-in-github",
        "colab_type": "text"
      },
      "source": [
        "<a href=\"https://colab.research.google.com/github/nbchan/INMR96-Digital-Health-and-Data-Analytics/blob/main/Week_09_NLP.ipynb\" target=\"_parent\"><img src=\"https://colab.research.google.com/assets/colab-badge.svg\" alt=\"Open In Colab\"/></a>"
      ]
    },
    {
      "cell_type": "markdown",
      "source": [
        "# Week 9: Natural Language Processing (NLP) in Healthcare"
      ],
      "metadata": {
        "id": "J-nt_S-8ovvQ"
      }
    },
    {
      "cell_type": "markdown",
      "source": [
        "---\n",
        "\n",
        "# S1. Background and Objectives\n",
        "\n",
        "**Dataset Description**\n",
        "\n",
        "We would be using the [Drug Review Dataset](https://archive.ics.uci.edu/ml/datasets/Drug+Review+Dataset+%28Drugs.com%29) for this code demonstration. The dataset provides patient reviews on specific drugs along with their related conditions and a 10-star patient rating reflecting their overall patient satisfaction. The data was obtained by crawling online pharmaceutical review sites. The intention was to study:\n",
        "\n",
        "1.   Sentiment analysis of drug experience over multiple facets, i.e. sentiments learned on specific aspects such as effectiveness and side effects;\n",
        "2.   The transferability of models among domains, i.e. conditions; and\n",
        "3.   The transferability of models among different data sources (see 'Drug Review Dataset (Druglib.com)').\n",
        "\n",
        "**Dataset Split**\n",
        "\n",
        "The data is split into a train (75%) and a test (25%) partition (see publication) and stored in two .tsv (tab-separated-values) files, respectively.\n",
        "\n",
        "**Columns Description**\n",
        "\n",
        "|  | Column Name | Data Type | Description |\n",
        "|---|---|---|---|\n",
        "| 1 | drugName | categorical | name of drug |\n",
        "| 2 | condition | categorical | name of condition |\n",
        "| 3 | review | text | patient review |\n",
        "| 4 | rating | numeric | patient rating ranging from 1 to 10 |\n",
        "| 5 | date | date | date of review entry |\n",
        "| 6 | usefulCount | numeric | number of users who found the review useful |\n",
        "\n",
        "**Citation**\n",
        "\n",
        "Felix Gräßer, Surya Kallumadi, Hagen Malberg, and Sebastian Zaunseder. 2018. Aspect-Based Sentiment Analysis of Drug Reviews Applying Cross-Domain and Cross-Data Learning. In Proceedings of the 2018 International Conference on Digital Health (DH '18). ACM, New York, NY, USA, 121-125."
      ],
      "metadata": {
        "id": "xcLpjj6PTQQT"
      }
    },
    {
      "cell_type": "markdown",
      "source": [
        "---\n",
        "\n",
        "# S2. Data Import"
      ],
      "metadata": {
        "id": "wCHETLMTpUfA"
      }
    },
    {
      "cell_type": "code",
      "source": [
        "# Set up our base working folder to data import.\n",
        "work_path = \"/content\"\n",
        "print(work_path)"
      ],
      "metadata": {
        "id": "kLQ2TrngtCgZ",
        "outputId": "923170ed-5ea2-4300-acfd-0dd4dbe50e3f",
        "colab": {
          "base_uri": "https://localhost:8080/"
        }
      },
      "execution_count": 1,
      "outputs": [
        {
          "output_type": "stream",
          "name": "stdout",
          "text": [
            "/content\n"
          ]
        }
      ]
    },
    {
      "cell_type": "code",
      "source": [
        "# Download the dataset to our Colab runtime.\n",
        "# If you wish to download it to your Google Drive instead, you would have to \n",
        "# grant Colab access to your Google Drive like what we have done in previous\n",
        "# sessions.\n",
        "!wget -P $work_path https://archive.ics.uci.edu/ml/machine-learning-databases/00462/drugsCom_raw.zip"
      ],
      "metadata": {
        "id": "Aj16bL9nnYPY",
        "outputId": "edbbe5cf-76d8-4569-ad36-0e227889b1e1",
        "colab": {
          "base_uri": "https://localhost:8080/"
        }
      },
      "execution_count": 2,
      "outputs": [
        {
          "output_type": "stream",
          "name": "stdout",
          "text": [
            "--2023-03-16 23:08:48--  https://archive.ics.uci.edu/ml/machine-learning-databases/00462/drugsCom_raw.zip\n",
            "Resolving archive.ics.uci.edu (archive.ics.uci.edu)... 128.195.10.252\n",
            "Connecting to archive.ics.uci.edu (archive.ics.uci.edu)|128.195.10.252|:443... connected.\n",
            "HTTP request sent, awaiting response... 200 OK\n",
            "Length: 42989872 (41M) [application/x-httpd-php]\n",
            "Saving to: ‘/content/drugsCom_raw.zip’\n",
            "\n",
            "drugsCom_raw.zip    100%[===================>]  41.00M  27.6MB/s    in 1.5s    \n",
            "\n",
            "2023-03-16 23:08:50 (27.6 MB/s) - ‘/content/drugsCom_raw.zip’ saved [42989872/42989872]\n",
            "\n"
          ]
        }
      ]
    },
    {
      "cell_type": "code",
      "source": [
        "# Uncompress the raw data into the base folder by using the python \n",
        "# package zipfile. Doing so would create two files in the folder: \n",
        "# `drugsComTrain_raw.tsv` and `drugsComTest_raw.tsv`\n",
        "import os\n",
        "from zipfile import ZipFile\n",
        "\n",
        "# Load the drugom_raw.zip file and create a zip object, which will \n",
        "# be used to unzip the raw data. \n",
        "with ZipFile(os.path.join(work_path, \"drugsCom_raw.zip\"), 'r') as zo:\n",
        "  # Extract specific file in the zip into our base folder.\n",
        "  zo.extractall(path=work_path)\n",
        "\n",
        "# It is always recommended to close the zip object after the unzip progress\n",
        "# to free memory.\n",
        "zo.close()"
      ],
      "metadata": {
        "id": "5CiTj51unYM7"
      },
      "execution_count": 3,
      "outputs": []
    },
    {
      "cell_type": "code",
      "source": [
        "# Have a look at what we have under this folder.\n",
        "!ls -al $work_path"
      ],
      "metadata": {
        "id": "Zq02YahvrzOg",
        "outputId": "d9daa199-a989-48a9-80f4-a462406c030a",
        "colab": {
          "base_uri": "https://localhost:8080/"
        }
      },
      "execution_count": 8,
      "outputs": [
        {
          "output_type": "stream",
          "name": "stdout",
          "text": [
            "total 151732\n",
            "drwxr-xr-x 1 root root     4096 Mar 16 23:09 .\n",
            "drwxr-xr-x 1 root root     4096 Mar 16 23:08 ..\n",
            "drwxr-xr-x 4 root root     4096 Mar 15 13:39 .config\n",
            "-rw-r--r-- 1 root root 42989872 Oct  8  2018 drugsCom_raw.zip\n",
            "-rw-r--r-- 1 root root 28071166 Mar 16 23:09 drugsComTest_raw.tsv\n",
            "-rw-r--r-- 1 root root 84289175 Mar 16 23:09 drugsComTrain_raw.tsv\n",
            "drwxr-xr-x 1 root root     4096 Mar 15 13:40 sample_data\n"
          ]
        }
      ]
    },
    {
      "cell_type": "code",
      "source": [
        "import pandas as pd"
      ],
      "metadata": {
        "id": "D4na7UlRnYKQ"
      },
      "execution_count": 9,
      "outputs": []
    },
    {
      "cell_type": "code",
      "source": [
        "# Read in the raw `drugsComTrain_raw.tsv` file into a pandas DataFrame.\n",
        "train_set = pd.read_csv(os.path.join(work_path, \"drugsComTrain_raw.tsv\"), sep=\"\\t\")"
      ],
      "metadata": {
        "id": "ltyPH3zQnYIL"
      },
      "execution_count": 10,
      "outputs": []
    },
    {
      "cell_type": "code",
      "source": [
        "# Print the size of the train set, and have a look at the whole dataset.\n",
        "print(train_set.shape)\n",
        "train_set"
      ],
      "metadata": {
        "colab": {
          "base_uri": "https://localhost:8080/",
          "height": 676
        },
        "id": "_eN3v4tWKpm1",
        "outputId": "fef4c636-716f-4d4a-a3b4-cba2b782996f"
      },
      "execution_count": 11,
      "outputs": [
        {
          "output_type": "stream",
          "name": "stdout",
          "text": [
            "(161297, 7)\n"
          ]
        },
        {
          "output_type": "execute_result",
          "data": {
            "text/plain": [
              "        Unnamed: 0                  drugName                     condition  \\\n",
              "0           206461                 Valsartan  Left Ventricular Dysfunction   \n",
              "1            95260                Guanfacine                          ADHD   \n",
              "2            92703                    Lybrel                 Birth Control   \n",
              "3           138000                Ortho Evra                 Birth Control   \n",
              "4            35696  Buprenorphine / naloxone             Opiate Dependence   \n",
              "...            ...                       ...                           ...   \n",
              "161292      191035                   Campral            Alcohol Dependence   \n",
              "161293      127085            Metoclopramide               Nausea/Vomiting   \n",
              "161294      187382                   Orencia          Rheumatoid Arthritis   \n",
              "161295       47128        Thyroid desiccated           Underactive Thyroid   \n",
              "161296      215220              Lubiprostone         Constipation, Chronic   \n",
              "\n",
              "                                                   review  rating  \\\n",
              "0       \"It has no side effect, I take it in combinati...     9.0   \n",
              "1       \"My son is halfway through his fourth week of ...     8.0   \n",
              "2       \"I used to take another oral contraceptive, wh...     5.0   \n",
              "3       \"This is my first time using any form of birth...     8.0   \n",
              "4       \"Suboxone has completely turned my life around...     9.0   \n",
              "...                                                   ...     ...   \n",
              "161292  \"I wrote my first report in Mid-October of 201...    10.0   \n",
              "161293  \"I was given this in IV before surgey. I immed...     1.0   \n",
              "161294  \"Limited improvement after 4 months, developed...     2.0   \n",
              "161295  \"I&#039;ve been on thyroid medication 49 years...    10.0   \n",
              "161296  \"I&#039;ve had chronic constipation all my adu...     9.0   \n",
              "\n",
              "                      date  usefulCount  \n",
              "0             May 20, 2012           27  \n",
              "1           April 27, 2010          192  \n",
              "2        December 14, 2009           17  \n",
              "3         November 3, 2015           10  \n",
              "4        November 27, 2016           37  \n",
              "...                    ...          ...  \n",
              "161292        May 31, 2015          125  \n",
              "161293    November 1, 2011           34  \n",
              "161294      March 15, 2014           35  \n",
              "161295  September 19, 2015           79  \n",
              "161296   December 13, 2014          116  \n",
              "\n",
              "[161297 rows x 7 columns]"
            ],
            "text/html": [
              "\n",
              "  <div id=\"df-f4a55999-7bd3-4f73-9b3a-13faa9430c40\">\n",
              "    <div class=\"colab-df-container\">\n",
              "      <div>\n",
              "<style scoped>\n",
              "    .dataframe tbody tr th:only-of-type {\n",
              "        vertical-align: middle;\n",
              "    }\n",
              "\n",
              "    .dataframe tbody tr th {\n",
              "        vertical-align: top;\n",
              "    }\n",
              "\n",
              "    .dataframe thead th {\n",
              "        text-align: right;\n",
              "    }\n",
              "</style>\n",
              "<table border=\"1\" class=\"dataframe\">\n",
              "  <thead>\n",
              "    <tr style=\"text-align: right;\">\n",
              "      <th></th>\n",
              "      <th>Unnamed: 0</th>\n",
              "      <th>drugName</th>\n",
              "      <th>condition</th>\n",
              "      <th>review</th>\n",
              "      <th>rating</th>\n",
              "      <th>date</th>\n",
              "      <th>usefulCount</th>\n",
              "    </tr>\n",
              "  </thead>\n",
              "  <tbody>\n",
              "    <tr>\n",
              "      <th>0</th>\n",
              "      <td>206461</td>\n",
              "      <td>Valsartan</td>\n",
              "      <td>Left Ventricular Dysfunction</td>\n",
              "      <td>\"It has no side effect, I take it in combinati...</td>\n",
              "      <td>9.0</td>\n",
              "      <td>May 20, 2012</td>\n",
              "      <td>27</td>\n",
              "    </tr>\n",
              "    <tr>\n",
              "      <th>1</th>\n",
              "      <td>95260</td>\n",
              "      <td>Guanfacine</td>\n",
              "      <td>ADHD</td>\n",
              "      <td>\"My son is halfway through his fourth week of ...</td>\n",
              "      <td>8.0</td>\n",
              "      <td>April 27, 2010</td>\n",
              "      <td>192</td>\n",
              "    </tr>\n",
              "    <tr>\n",
              "      <th>2</th>\n",
              "      <td>92703</td>\n",
              "      <td>Lybrel</td>\n",
              "      <td>Birth Control</td>\n",
              "      <td>\"I used to take another oral contraceptive, wh...</td>\n",
              "      <td>5.0</td>\n",
              "      <td>December 14, 2009</td>\n",
              "      <td>17</td>\n",
              "    </tr>\n",
              "    <tr>\n",
              "      <th>3</th>\n",
              "      <td>138000</td>\n",
              "      <td>Ortho Evra</td>\n",
              "      <td>Birth Control</td>\n",
              "      <td>\"This is my first time using any form of birth...</td>\n",
              "      <td>8.0</td>\n",
              "      <td>November 3, 2015</td>\n",
              "      <td>10</td>\n",
              "    </tr>\n",
              "    <tr>\n",
              "      <th>4</th>\n",
              "      <td>35696</td>\n",
              "      <td>Buprenorphine / naloxone</td>\n",
              "      <td>Opiate Dependence</td>\n",
              "      <td>\"Suboxone has completely turned my life around...</td>\n",
              "      <td>9.0</td>\n",
              "      <td>November 27, 2016</td>\n",
              "      <td>37</td>\n",
              "    </tr>\n",
              "    <tr>\n",
              "      <th>...</th>\n",
              "      <td>...</td>\n",
              "      <td>...</td>\n",
              "      <td>...</td>\n",
              "      <td>...</td>\n",
              "      <td>...</td>\n",
              "      <td>...</td>\n",
              "      <td>...</td>\n",
              "    </tr>\n",
              "    <tr>\n",
              "      <th>161292</th>\n",
              "      <td>191035</td>\n",
              "      <td>Campral</td>\n",
              "      <td>Alcohol Dependence</td>\n",
              "      <td>\"I wrote my first report in Mid-October of 201...</td>\n",
              "      <td>10.0</td>\n",
              "      <td>May 31, 2015</td>\n",
              "      <td>125</td>\n",
              "    </tr>\n",
              "    <tr>\n",
              "      <th>161293</th>\n",
              "      <td>127085</td>\n",
              "      <td>Metoclopramide</td>\n",
              "      <td>Nausea/Vomiting</td>\n",
              "      <td>\"I was given this in IV before surgey. I immed...</td>\n",
              "      <td>1.0</td>\n",
              "      <td>November 1, 2011</td>\n",
              "      <td>34</td>\n",
              "    </tr>\n",
              "    <tr>\n",
              "      <th>161294</th>\n",
              "      <td>187382</td>\n",
              "      <td>Orencia</td>\n",
              "      <td>Rheumatoid Arthritis</td>\n",
              "      <td>\"Limited improvement after 4 months, developed...</td>\n",
              "      <td>2.0</td>\n",
              "      <td>March 15, 2014</td>\n",
              "      <td>35</td>\n",
              "    </tr>\n",
              "    <tr>\n",
              "      <th>161295</th>\n",
              "      <td>47128</td>\n",
              "      <td>Thyroid desiccated</td>\n",
              "      <td>Underactive Thyroid</td>\n",
              "      <td>\"I&amp;#039;ve been on thyroid medication 49 years...</td>\n",
              "      <td>10.0</td>\n",
              "      <td>September 19, 2015</td>\n",
              "      <td>79</td>\n",
              "    </tr>\n",
              "    <tr>\n",
              "      <th>161296</th>\n",
              "      <td>215220</td>\n",
              "      <td>Lubiprostone</td>\n",
              "      <td>Constipation, Chronic</td>\n",
              "      <td>\"I&amp;#039;ve had chronic constipation all my adu...</td>\n",
              "      <td>9.0</td>\n",
              "      <td>December 13, 2014</td>\n",
              "      <td>116</td>\n",
              "    </tr>\n",
              "  </tbody>\n",
              "</table>\n",
              "<p>161297 rows × 7 columns</p>\n",
              "</div>\n",
              "      <button class=\"colab-df-convert\" onclick=\"convertToInteractive('df-f4a55999-7bd3-4f73-9b3a-13faa9430c40')\"\n",
              "              title=\"Convert this dataframe to an interactive table.\"\n",
              "              style=\"display:none;\">\n",
              "        \n",
              "  <svg xmlns=\"http://www.w3.org/2000/svg\" height=\"24px\"viewBox=\"0 0 24 24\"\n",
              "       width=\"24px\">\n",
              "    <path d=\"M0 0h24v24H0V0z\" fill=\"none\"/>\n",
              "    <path d=\"M18.56 5.44l.94 2.06.94-2.06 2.06-.94-2.06-.94-.94-2.06-.94 2.06-2.06.94zm-11 1L8.5 8.5l.94-2.06 2.06-.94-2.06-.94L8.5 2.5l-.94 2.06-2.06.94zm10 10l.94 2.06.94-2.06 2.06-.94-2.06-.94-.94-2.06-.94 2.06-2.06.94z\"/><path d=\"M17.41 7.96l-1.37-1.37c-.4-.4-.92-.59-1.43-.59-.52 0-1.04.2-1.43.59L10.3 9.45l-7.72 7.72c-.78.78-.78 2.05 0 2.83L4 21.41c.39.39.9.59 1.41.59.51 0 1.02-.2 1.41-.59l7.78-7.78 2.81-2.81c.8-.78.8-2.07 0-2.86zM5.41 20L4 18.59l7.72-7.72 1.47 1.35L5.41 20z\"/>\n",
              "  </svg>\n",
              "      </button>\n",
              "      \n",
              "  <style>\n",
              "    .colab-df-container {\n",
              "      display:flex;\n",
              "      flex-wrap:wrap;\n",
              "      gap: 12px;\n",
              "    }\n",
              "\n",
              "    .colab-df-convert {\n",
              "      background-color: #E8F0FE;\n",
              "      border: none;\n",
              "      border-radius: 50%;\n",
              "      cursor: pointer;\n",
              "      display: none;\n",
              "      fill: #1967D2;\n",
              "      height: 32px;\n",
              "      padding: 0 0 0 0;\n",
              "      width: 32px;\n",
              "    }\n",
              "\n",
              "    .colab-df-convert:hover {\n",
              "      background-color: #E2EBFA;\n",
              "      box-shadow: 0px 1px 2px rgba(60, 64, 67, 0.3), 0px 1px 3px 1px rgba(60, 64, 67, 0.15);\n",
              "      fill: #174EA6;\n",
              "    }\n",
              "\n",
              "    [theme=dark] .colab-df-convert {\n",
              "      background-color: #3B4455;\n",
              "      fill: #D2E3FC;\n",
              "    }\n",
              "\n",
              "    [theme=dark] .colab-df-convert:hover {\n",
              "      background-color: #434B5C;\n",
              "      box-shadow: 0px 1px 3px 1px rgba(0, 0, 0, 0.15);\n",
              "      filter: drop-shadow(0px 1px 2px rgba(0, 0, 0, 0.3));\n",
              "      fill: #FFFFFF;\n",
              "    }\n",
              "  </style>\n",
              "\n",
              "      <script>\n",
              "        const buttonEl =\n",
              "          document.querySelector('#df-f4a55999-7bd3-4f73-9b3a-13faa9430c40 button.colab-df-convert');\n",
              "        buttonEl.style.display =\n",
              "          google.colab.kernel.accessAllowed ? 'block' : 'none';\n",
              "\n",
              "        async function convertToInteractive(key) {\n",
              "          const element = document.querySelector('#df-f4a55999-7bd3-4f73-9b3a-13faa9430c40');\n",
              "          const dataTable =\n",
              "            await google.colab.kernel.invokeFunction('convertToInteractive',\n",
              "                                                     [key], {});\n",
              "          if (!dataTable) return;\n",
              "\n",
              "          const docLinkHtml = 'Like what you see? Visit the ' +\n",
              "            '<a target=\"_blank\" href=https://colab.research.google.com/notebooks/data_table.ipynb>data table notebook</a>'\n",
              "            + ' to learn more about interactive tables.';\n",
              "          element.innerHTML = '';\n",
              "          dataTable['output_type'] = 'display_data';\n",
              "          await google.colab.output.renderOutput(dataTable, element);\n",
              "          const docLink = document.createElement('div');\n",
              "          docLink.innerHTML = docLinkHtml;\n",
              "          element.appendChild(docLink);\n",
              "        }\n",
              "      </script>\n",
              "    </div>\n",
              "  </div>\n",
              "  "
            ]
          },
          "metadata": {},
          "execution_count": 11
        }
      ]
    },
    {
      "cell_type": "code",
      "source": [
        "train_set['rating'].hist()"
      ],
      "metadata": {
        "id": "BYKh0PXjenfi",
        "outputId": "ebbd8e4f-ffb0-4669-ea7b-b7f7402c91aa",
        "colab": {
          "base_uri": "https://localhost:8080/",
          "height": 283
        }
      },
      "execution_count": 12,
      "outputs": [
        {
          "output_type": "execute_result",
          "data": {
            "text/plain": [
              "<Axes: >"
            ]
          },
          "metadata": {},
          "execution_count": 12
        },
        {
          "output_type": "display_data",
          "data": {
            "text/plain": [
              "<Figure size 432x288 with 1 Axes>"
            ],
            "image/png": "[encoded data removed]"
          },
          "metadata": {
            "needs_background": "light"
          }
        }
      ]
    },
    {
      "cell_type": "code",
      "source": [
        "# Read in the drugsComTest_raw.tsv into pandas DataFrame as train set.\n",
        "test_set = pd.read_csv(os.path.join(work_path, \"drugsComTest_raw.tsv\"), sep=\"\\t\")"
      ],
      "metadata": {
        "id": "k0fySxb72gfi"
      },
      "execution_count": 13,
      "outputs": []
    },
    {
      "cell_type": "code",
      "source": [
        "# Have a glimpse of the test dataset.\n",
        "print(test_set.shape)\n",
        "test_set"
      ],
      "metadata": {
        "colab": {
          "base_uri": "https://localhost:8080/",
          "height": 676
        },
        "id": "LcVQ1N0EK5zA",
        "outputId": "1be21048-70a7-4435-bf4e-3da9ca74cbf5"
      },
      "execution_count": 14,
      "outputs": [
        {
          "output_type": "stream",
          "name": "stdout",
          "text": [
            "(53766, 7)\n"
          ]
        },
        {
          "output_type": "execute_result",
          "data": {
            "text/plain": [
              "       Unnamed: 0         drugName                     condition  \\\n",
              "0          163740      Mirtazapine                    Depression   \n",
              "1          206473       Mesalamine  Crohn's Disease, Maintenance   \n",
              "2          159672          Bactrim       Urinary Tract Infection   \n",
              "3           39293         Contrave                   Weight Loss   \n",
              "4           97768  Cyclafem 1 / 35                 Birth Control   \n",
              "...           ...              ...                           ...   \n",
              "53761      159999        Tamoxifen     Breast Cancer, Prevention   \n",
              "53762      140714     Escitalopram                       Anxiety   \n",
              "53763      130945   Levonorgestrel                 Birth Control   \n",
              "53764       47656       Tapentadol                          Pain   \n",
              "53765      113712        Arthrotec                      Sciatica   \n",
              "\n",
              "                                                  review  rating  \\\n",
              "0      \"I&#039;ve tried a few antidepressants over th...    10.0   \n",
              "1      \"My son has Crohn&#039;s disease and has done ...     8.0   \n",
              "2                          \"Quick reduction of symptoms\"     9.0   \n",
              "3      \"Contrave combines drugs that were used for al...     9.0   \n",
              "4      \"I have been on this birth control for one cyc...     9.0   \n",
              "...                                                  ...     ...   \n",
              "53761  \"I have taken Tamoxifen for 5 years. Side effe...    10.0   \n",
              "53762  \"I&#039;ve been taking Lexapro (escitaploprgra...     9.0   \n",
              "53763  \"I&#039;m married, 34 years old and I have no ...     8.0   \n",
              "53764  \"I was prescribed Nucynta for severe neck/shou...     1.0   \n",
              "53765                                      \"It works!!!\"     9.0   \n",
              "\n",
              "                     date  usefulCount  \n",
              "0       February 28, 2012           22  \n",
              "1            May 17, 2009           17  \n",
              "2      September 29, 2017            3  \n",
              "3           March 5, 2017           35  \n",
              "4        October 22, 2015            4  \n",
              "...                   ...          ...  \n",
              "53761  September 13, 2014           43  \n",
              "53762     October 8, 2016           11  \n",
              "53763   November 15, 2010            7  \n",
              "53764   November 28, 2011           20  \n",
              "53765  September 13, 2009           46  \n",
              "\n",
              "[53766 rows x 7 columns]"
            ],
            "text/html": [
              "\n",
              "  <div id=\"df-34a3a951-ede3-43e1-9345-78727afa8587\">\n",
              "    <div class=\"colab-df-container\">\n",
              "      <div>\n",
              "<style scoped>\n",
              "    .dataframe tbody tr th:only-of-type {\n",
              "        vertical-align: middle;\n",
              "    }\n",
              "\n",
              "    .dataframe tbody tr th {\n",
              "        vertical-align: top;\n",
              "    }\n",
              "\n",
              "    .dataframe thead th {\n",
              "        text-align: right;\n",
              "    }\n",
              "</style>\n",
              "<table border=\"1\" class=\"dataframe\">\n",
              "  <thead>\n",
              "    <tr style=\"text-align: right;\">\n",
              "      <th></th>\n",
              "      <th>Unnamed: 0</th>\n",
              "      <th>drugName</th>\n",
              "      <th>condition</th>\n",
              "      <th>review</th>\n",
              "      <th>rating</th>\n",
              "      <th>date</th>\n",
              "      <th>usefulCount</th>\n",
              "    </tr>\n",
              "  </thead>\n",
              "  <tbody>\n",
              "    <tr>\n",
              "      <th>0</th>\n",
              "      <td>163740</td>\n",
              "      <td>Mirtazapine</td>\n",
              "      <td>Depression</td>\n",
              "      <td>\"I&amp;#039;ve tried a few antidepressants over th...</td>\n",
              "      <td>10.0</td>\n",
              "      <td>February 28, 2012</td>\n",
              "      <td>22</td>\n",
              "    </tr>\n",
              "    <tr>\n",
              "      <th>1</th>\n",
              "      <td>206473</td>\n",
              "      <td>Mesalamine</td>\n",
              "      <td>Crohn's Disease, Maintenance</td>\n",
              "      <td>\"My son has Crohn&amp;#039;s disease and has done ...</td>\n",
              "      <td>8.0</td>\n",
              "      <td>May 17, 2009</td>\n",
              "      <td>17</td>\n",
              "    </tr>\n",
              "    <tr>\n",
              "      <th>2</th>\n",
              "      <td>159672</td>\n",
              "      <td>Bactrim</td>\n",
              "      <td>Urinary Tract Infection</td>\n",
              "      <td>\"Quick reduction of symptoms\"</td>\n",
              "      <td>9.0</td>\n",
              "      <td>September 29, 2017</td>\n",
              "      <td>3</td>\n",
              "    </tr>\n",
              "    <tr>\n",
              "      <th>3</th>\n",
              "      <td>39293</td>\n",
              "      <td>Contrave</td>\n",
              "      <td>Weight Loss</td>\n",
              "      <td>\"Contrave combines drugs that were used for al...</td>\n",
              "      <td>9.0</td>\n",
              "      <td>March 5, 2017</td>\n",
              "      <td>35</td>\n",
              "    </tr>\n",
              "    <tr>\n",
              "      <th>4</th>\n",
              "      <td>97768</td>\n",
              "      <td>Cyclafem 1 / 35</td>\n",
              "      <td>Birth Control</td>\n",
              "      <td>\"I have been on this birth control for one cyc...</td>\n",
              "      <td>9.0</td>\n",
              "      <td>October 22, 2015</td>\n",
              "      <td>4</td>\n",
              "    </tr>\n",
              "    <tr>\n",
              "      <th>...</th>\n",
              "      <td>...</td>\n",
              "      <td>...</td>\n",
              "      <td>...</td>\n",
              "      <td>...</td>\n",
              "      <td>...</td>\n",
              "      <td>...</td>\n",
              "      <td>...</td>\n",
              "    </tr>\n",
              "    <tr>\n",
              "      <th>53761</th>\n",
              "      <td>159999</td>\n",
              "      <td>Tamoxifen</td>\n",
              "      <td>Breast Cancer, Prevention</td>\n",
              "      <td>\"I have taken Tamoxifen for 5 years. Side effe...</td>\n",
              "      <td>10.0</td>\n",
              "      <td>September 13, 2014</td>\n",
              "      <td>43</td>\n",
              "    </tr>\n",
              "    <tr>\n",
              "      <th>53762</th>\n",
              "      <td>140714</td>\n",
              "      <td>Escitalopram</td>\n",
              "      <td>Anxiety</td>\n",
              "      <td>\"I&amp;#039;ve been taking Lexapro (escitaploprgra...</td>\n",
              "      <td>9.0</td>\n",
              "      <td>October 8, 2016</td>\n",
              "      <td>11</td>\n",
              "    </tr>\n",
              "    <tr>\n",
              "      <th>53763</th>\n",
              "      <td>130945</td>\n",
              "      <td>Levonorgestrel</td>\n",
              "      <td>Birth Control</td>\n",
              "      <td>\"I&amp;#039;m married, 34 years old and I have no ...</td>\n",
              "      <td>8.0</td>\n",
              "      <td>November 15, 2010</td>\n",
              "      <td>7</td>\n",
              "    </tr>\n",
              "    <tr>\n",
              "      <th>53764</th>\n",
              "      <td>47656</td>\n",
              "      <td>Tapentadol</td>\n",
              "      <td>Pain</td>\n",
              "      <td>\"I was prescribed Nucynta for severe neck/shou...</td>\n",
              "      <td>1.0</td>\n",
              "      <td>November 28, 2011</td>\n",
              "      <td>20</td>\n",
              "    </tr>\n",
              "    <tr>\n",
              "      <th>53765</th>\n",
              "      <td>113712</td>\n",
              "      <td>Arthrotec</td>\n",
              "      <td>Sciatica</td>\n",
              "      <td>\"It works!!!\"</td>\n",
              "      <td>9.0</td>\n",
              "      <td>September 13, 2009</td>\n",
              "      <td>46</td>\n",
              "    </tr>\n",
              "  </tbody>\n",
              "</table>\n",
              "<p>53766 rows × 7 columns</p>\n",
              "</div>\n",
              "      <button class=\"colab-df-convert\" onclick=\"convertToInteractive('df-34a3a951-ede3-43e1-9345-78727afa8587')\"\n",
              "              title=\"Convert this dataframe to an interactive table.\"\n",
              "              style=\"display:none;\">\n",
              "        \n",
              "  <svg xmlns=\"http://www.w3.org/2000/svg\" height=\"24px\"viewBox=\"0 0 24 24\"\n",
              "       width=\"24px\">\n",
              "    <path d=\"M0 0h24v24H0V0z\" fill=\"none\"/>\n",
              "    <path d=\"M18.56 5.44l.94 2.06.94-2.06 2.06-.94-2.06-.94-.94-2.06-.94 2.06-2.06.94zm-11 1L8.5 8.5l.94-2.06 2.06-.94-2.06-.94L8.5 2.5l-.94 2.06-2.06.94zm10 10l.94 2.06.94-2.06 2.06-.94-2.06-.94-.94-2.06-.94 2.06-2.06.94z\"/><path d=\"M17.41 7.96l-1.37-1.37c-.4-.4-.92-.59-1.43-.59-.52 0-1.04.2-1.43.59L10.3 9.45l-7.72 7.72c-.78.78-.78 2.05 0 2.83L4 21.41c.39.39.9.59 1.41.59.51 0 1.02-.2 1.41-.59l7.78-7.78 2.81-2.81c.8-.78.8-2.07 0-2.86zM5.41 20L4 18.59l7.72-7.72 1.47 1.35L5.41 20z\"/>\n",
              "  </svg>\n",
              "      </button>\n",
              "      \n",
              "  <style>\n",
              "    .colab-df-container {\n",
              "      display:flex;\n",
              "      flex-wrap:wrap;\n",
              "      gap: 12px;\n",
              "    }\n",
              "\n",
              "    .colab-df-convert {\n",
              "      background-color: #E8F0FE;\n",
              "      border: none;\n",
              "      border-radius: 50%;\n",
              "      cursor: pointer;\n",
              "      display: none;\n",
              "      fill: #1967D2;\n",
              "      height: 32px;\n",
              "      padding: 0 0 0 0;\n",
              "      width: 32px;\n",
              "    }\n",
              "\n",
              "    .colab-df-convert:hover {\n",
              "      background-color: #E2EBFA;\n",
              "      box-shadow: 0px 1px 2px rgba(60, 64, 67, 0.3), 0px 1px 3px 1px rgba(60, 64, 67, 0.15);\n",
              "      fill: #174EA6;\n",
              "    }\n",
              "\n",
              "    [theme=dark] .colab-df-convert {\n",
              "      background-color: #3B4455;\n",
              "      fill: #D2E3FC;\n",
              "    }\n",
              "\n",
              "    [theme=dark] .colab-df-convert:hover {\n",
              "      background-color: #434B5C;\n",
              "      box-shadow: 0px 1px 3px 1px rgba(0, 0, 0, 0.15);\n",
              "      filter: drop-shadow(0px 1px 2px rgba(0, 0, 0, 0.3));\n",
              "      fill: #FFFFFF;\n",
              "    }\n",
              "  </style>\n",
              "\n",
              "      <script>\n",
              "        const buttonEl =\n",
              "          document.querySelector('#df-34a3a951-ede3-43e1-9345-78727afa8587 button.colab-df-convert');\n",
              "        buttonEl.style.display =\n",
              "          google.colab.kernel.accessAllowed ? 'block' : 'none';\n",
              "\n",
              "        async function convertToInteractive(key) {\n",
              "          const element = document.querySelector('#df-34a3a951-ede3-43e1-9345-78727afa8587');\n",
              "          const dataTable =\n",
              "            await google.colab.kernel.invokeFunction('convertToInteractive',\n",
              "                                                     [key], {});\n",
              "          if (!dataTable) return;\n",
              "\n",
              "          const docLinkHtml = 'Like what you see? Visit the ' +\n",
              "            '<a target=\"_blank\" href=https://colab.research.google.com/notebooks/data_table.ipynb>data table notebook</a>'\n",
              "            + ' to learn more about interactive tables.';\n",
              "          element.innerHTML = '';\n",
              "          dataTable['output_type'] = 'display_data';\n",
              "          await google.colab.output.renderOutput(dataTable, element);\n",
              "          const docLink = document.createElement('div');\n",
              "          docLink.innerHTML = docLinkHtml;\n",
              "          element.appendChild(docLink);\n",
              "        }\n",
              "      </script>\n",
              "    </div>\n",
              "  </div>\n",
              "  "
            ]
          },
          "metadata": {},
          "execution_count": 14
        }
      ]
    },
    {
      "cell_type": "markdown",
      "source": [
        "---\n",
        "\n",
        "# S3. Creating our Training and Testing Sets\n",
        "\n",
        "The original dataset is rather large (161,297 training samples, 53,766 testing samples). For illustrative purposes in this demo, we would include only 800 and 200 training and testing samples respectively to speed things up. \n"
      ],
      "metadata": {
        "id": "iFD77juEz7AH"
      }
    },
    {
      "cell_type": "code",
      "source": [
        "# Drop all columns except for `review` and `rating` for the training set.\n",
        "# Randomly select a small portion into our train data, say 800.\n",
        "train_set = train_set[['review', 'rating']]\n",
        "train_set = train_set.sample(n=800, random_state=1)"
      ],
      "metadata": {
        "id": "_JXqhgAc6lqo"
      },
      "execution_count": 15,
      "outputs": []
    },
    {
      "cell_type": "code",
      "source": [
        "# Reset the index.\n",
        "train_set = train_set.reset_index(drop=True)"
      ],
      "metadata": {
        "id": "LxaEEnNXtPsP"
      },
      "execution_count": 16,
      "outputs": []
    },
    {
      "cell_type": "code",
      "source": [
        "# Print the sub train set information.\n",
        "print(train_set.shape)\n",
        "train_set"
      ],
      "metadata": {
        "colab": {
          "base_uri": "https://localhost:8080/",
          "height": 442
        },
        "id": "XsFVuzXpLH9W",
        "outputId": "e7bf2818-5af4-40dd-9f60-b73618bac010"
      },
      "execution_count": 17,
      "outputs": [
        {
          "output_type": "stream",
          "name": "stdout",
          "text": [
            "(800, 2)\n"
          ]
        },
        {
          "output_type": "execute_result",
          "data": {
            "text/plain": [
              "                                                review  rating\n",
              "0    \"This was my first pill I have ever tried, and...     1.0\n",
              "1    \"Hi there,\\r\\n\\r\\nI also wanted to write a pos...    10.0\n",
              "2    \"I&#039;m basically a very hard sell when it c...    10.0\n",
              "3    \"My son is 5 1/2. We&#039;ve always noticed hi...     8.0\n",
              "4    \"I&#039;ve had it about 2 months now, and my e...    10.0\n",
              "..                                                 ...     ...\n",
              "795  \"I completely stopped having panic attacks aft...     8.0\n",
              "796  \"I&#039;m 23, never given birth, had it insert...     6.0\n",
              "797  \"I had Implanon for 3 years now. It&#039;s tim...    10.0\n",
              "798  \"Simply wonderful. I took 20 mg for the first ...     9.0\n",
              "799  \"I feel compelled to write a review on Pregaba...     6.0\n",
              "\n",
              "[800 rows x 2 columns]"
            ],
            "text/html": [
              "\n",
              "  <div id=\"df-e53f0cbb-034e-489a-80b9-fdcc3a13c1b7\">\n",
              "    <div class=\"colab-df-container\">\n",
              "      <div>\n",
              "<style scoped>\n",
              "    .dataframe tbody tr th:only-of-type {\n",
              "        vertical-align: middle;\n",
              "    }\n",
              "\n",
              "    .dataframe tbody tr th {\n",
              "        vertical-align: top;\n",
              "    }\n",
              "\n",
              "    .dataframe thead th {\n",
              "        text-align: right;\n",
              "    }\n",
              "</style>\n",
              "<table border=\"1\" class=\"dataframe\">\n",
              "  <thead>\n",
              "    <tr style=\"text-align: right;\">\n",
              "      <th></th>\n",
              "      <th>review</th>\n",
              "      <th>rating</th>\n",
              "    </tr>\n",
              "  </thead>\n",
              "  <tbody>\n",
              "    <tr>\n",
              "      <th>0</th>\n",
              "      <td>\"This was my first pill I have ever tried, and...</td>\n",
              "      <td>1.0</td>\n",
              "    </tr>\n",
              "    <tr>\n",
              "      <th>1</th>\n",
              "      <td>\"Hi there,\\r\\n\\r\\nI also wanted to write a pos...</td>\n",
              "      <td>10.0</td>\n",
              "    </tr>\n",
              "    <tr>\n",
              "      <th>2</th>\n",
              "      <td>\"I&amp;#039;m basically a very hard sell when it c...</td>\n",
              "      <td>10.0</td>\n",
              "    </tr>\n",
              "    <tr>\n",
              "      <th>3</th>\n",
              "      <td>\"My son is 5 1/2. We&amp;#039;ve always noticed hi...</td>\n",
              "      <td>8.0</td>\n",
              "    </tr>\n",
              "    <tr>\n",
              "      <th>4</th>\n",
              "      <td>\"I&amp;#039;ve had it about 2 months now, and my e...</td>\n",
              "      <td>10.0</td>\n",
              "    </tr>\n",
              "    <tr>\n",
              "      <th>...</th>\n",
              "      <td>...</td>\n",
              "      <td>...</td>\n",
              "    </tr>\n",
              "    <tr>\n",
              "      <th>795</th>\n",
              "      <td>\"I completely stopped having panic attacks aft...</td>\n",
              "      <td>8.0</td>\n",
              "    </tr>\n",
              "    <tr>\n",
              "      <th>796</th>\n",
              "      <td>\"I&amp;#039;m 23, never given birth, had it insert...</td>\n",
              "      <td>6.0</td>\n",
              "    </tr>\n",
              "    <tr>\n",
              "      <th>797</th>\n",
              "      <td>\"I had Implanon for 3 years now. It&amp;#039;s tim...</td>\n",
              "      <td>10.0</td>\n",
              "    </tr>\n",
              "    <tr>\n",
              "      <th>798</th>\n",
              "      <td>\"Simply wonderful. I took 20 mg for the first ...</td>\n",
              "      <td>9.0</td>\n",
              "    </tr>\n",
              "    <tr>\n",
              "      <th>799</th>\n",
              "      <td>\"I feel compelled to write a review on Pregaba...</td>\n",
              "      <td>6.0</td>\n",
              "    </tr>\n",
              "  </tbody>\n",
              "</table>\n",
              "<p>800 rows × 2 columns</p>\n",
              "</div>\n",
              "      <button class=\"colab-df-convert\" onclick=\"convertToInteractive('df-e53f0cbb-034e-489a-80b9-fdcc3a13c1b7')\"\n",
              "              title=\"Convert this dataframe to an interactive table.\"\n",
              "              style=\"display:none;\">\n",
              "        \n",
              "  <svg xmlns=\"http://www.w3.org/2000/svg\" height=\"24px\"viewBox=\"0 0 24 24\"\n",
              "       width=\"24px\">\n",
              "    <path d=\"M0 0h24v24H0V0z\" fill=\"none\"/>\n",
              "    <path d=\"M18.56 5.44l.94 2.06.94-2.06 2.06-.94-2.06-.94-.94-2.06-.94 2.06-2.06.94zm-11 1L8.5 8.5l.94-2.06 2.06-.94-2.06-.94L8.5 2.5l-.94 2.06-2.06.94zm10 10l.94 2.06.94-2.06 2.06-.94-2.06-.94-.94-2.06-.94 2.06-2.06.94z\"/><path d=\"M17.41 7.96l-1.37-1.37c-.4-.4-.92-.59-1.43-.59-.52 0-1.04.2-1.43.59L10.3 9.45l-7.72 7.72c-.78.78-.78 2.05 0 2.83L4 21.41c.39.39.9.59 1.41.59.51 0 1.02-.2 1.41-.59l7.78-7.78 2.81-2.81c.8-.78.8-2.07 0-2.86zM5.41 20L4 18.59l7.72-7.72 1.47 1.35L5.41 20z\"/>\n",
              "  </svg>\n",
              "      </button>\n",
              "      \n",
              "  <style>\n",
              "    .colab-df-container {\n",
              "      display:flex;\n",
              "      flex-wrap:wrap;\n",
              "      gap: 12px;\n",
              "    }\n",
              "\n",
              "    .colab-df-convert {\n",
              "      background-color: #E8F0FE;\n",
              "      border: none;\n",
              "      border-radius: 50%;\n",
              "      cursor: pointer;\n",
              "      display: none;\n",
              "      fill: #1967D2;\n",
              "      height: 32px;\n",
              "      padding: 0 0 0 0;\n",
              "      width: 32px;\n",
              "    }\n",
              "\n",
              "    .colab-df-convert:hover {\n",
              "      background-color: #E2EBFA;\n",
              "      box-shadow: 0px 1px 2px rgba(60, 64, 67, 0.3), 0px 1px 3px 1px rgba(60, 64, 67, 0.15);\n",
              "      fill: #174EA6;\n",
              "    }\n",
              "\n",
              "    [theme=dark] .colab-df-convert {\n",
              "      background-color: #3B4455;\n",
              "      fill: #D2E3FC;\n",
              "    }\n",
              "\n",
              "    [theme=dark] .colab-df-convert:hover {\n",
              "      background-color: #434B5C;\n",
              "      box-shadow: 0px 1px 3px 1px rgba(0, 0, 0, 0.15);\n",
              "      filter: drop-shadow(0px 1px 2px rgba(0, 0, 0, 0.3));\n",
              "      fill: #FFFFFF;\n",
              "    }\n",
              "  </style>\n",
              "\n",
              "      <script>\n",
              "        const buttonEl =\n",
              "          document.querySelector('#df-e53f0cbb-034e-489a-80b9-fdcc3a13c1b7 button.colab-df-convert');\n",
              "        buttonEl.style.display =\n",
              "          google.colab.kernel.accessAllowed ? 'block' : 'none';\n",
              "\n",
              "        async function convertToInteractive(key) {\n",
              "          const element = document.querySelector('#df-e53f0cbb-034e-489a-80b9-fdcc3a13c1b7');\n",
              "          const dataTable =\n",
              "            await google.colab.kernel.invokeFunction('convertToInteractive',\n",
              "                                                     [key], {});\n",
              "          if (!dataTable) return;\n",
              "\n",
              "          const docLinkHtml = 'Like what you see? Visit the ' +\n",
              "            '<a target=\"_blank\" href=https://colab.research.google.com/notebooks/data_table.ipynb>data table notebook</a>'\n",
              "            + ' to learn more about interactive tables.';\n",
              "          element.innerHTML = '';\n",
              "          dataTable['output_type'] = 'display_data';\n",
              "          await google.colab.output.renderOutput(dataTable, element);\n",
              "          const docLink = document.createElement('div');\n",
              "          docLink.innerHTML = docLinkHtml;\n",
              "          element.appendChild(docLink);\n",
              "        }\n",
              "      </script>\n",
              "    </div>\n",
              "  </div>\n",
              "  "
            ]
          },
          "metadata": {},
          "execution_count": 17
        }
      ]
    },
    {
      "cell_type": "code",
      "source": [
        "# an example of a review with rating 1\n",
        "train_set.loc[0]['review']"
      ],
      "metadata": {
        "id": "NKK_cvDsfwNf",
        "outputId": "c197b091-dfd6-4c59-9bad-20a9e4376901",
        "colab": {
          "base_uri": "https://localhost:8080/",
          "height": 53
        }
      },
      "execution_count": 18,
      "outputs": [
        {
          "output_type": "execute_result",
          "data": {
            "text/plain": [
              "'\"This was my first pill I have ever tried, and it was by far the worst one. Depression is a silent killer, no sex drive, tired, weight gain. It was not healthy for me, when I quit it I felt much better and became myself again, not worth it.\"'"
            ],
            "application/vnd.google.colaboratory.intrinsic+json": {
              "type": "string"
            }
          },
          "metadata": {},
          "execution_count": 18
        }
      ]
    },
    {
      "cell_type": "code",
      "source": [
        "# an example of a review with rating 10\n",
        "train_set.loc[4]['review']"
      ],
      "metadata": {
        "id": "HZ9Qt9RCgTP-",
        "outputId": "42e6732b-2e58-4538-ca9a-7dc62cd9604f",
        "colab": {
          "base_uri": "https://localhost:8080/",
          "height": 143
        }
      },
      "execution_count": 19,
      "outputs": [
        {
          "output_type": "execute_result",
          "data": {
            "text/plain": [
              "'\"I&#039;ve had it about 2 months now, and my experience has been great! The injection was not pleasant, not going to lie. The numbing shot they gave me did nothing, but it was conpletely covered by my Aetna insurance so it was free. I got it during my period, and my period finished out, then I had extremely light spotting for about a month and a half. I do get headaches sometimes, but they&#039;re not unbearable, go away with painkillers, and I can&#039;t tell if it&#039;s from hormones or something else. But either way, I have had no side effects otherwise and it&#039;s been great! One thing I noticed is if you are on the lighter/smaller side, you will probably have less side effects. I am 5&#039; 2&quot; and 110 lbs. Plus, you forget it&#039;s there!\"'"
            ],
            "application/vnd.google.colaboratory.intrinsic+json": {
              "type": "string"
            }
          },
          "metadata": {},
          "execution_count": 19
        }
      ]
    },
    {
      "cell_type": "code",
      "source": [
        "# Drop columns except for review and rating as the same as train set.\n",
        "# Here only 200 records are chosen at random into the test set.\n",
        "# Also the index would be reset.\n",
        "test_set = test_set[['review', 'rating']]\n",
        "test_set = test_set.sample(n=200, random_state=1)\n",
        "test_set = test_set.reset_index(drop=True)"
      ],
      "metadata": {
        "id": "J7qY4AUd7KsM"
      },
      "execution_count": 20,
      "outputs": []
    },
    {
      "cell_type": "code",
      "source": [
        "# Print out sub test set information.\n",
        "print(test_set.shape)\n",
        "test_set"
      ],
      "metadata": {
        "colab": {
          "base_uri": "https://localhost:8080/",
          "height": 442
        },
        "id": "d0Piy7_jLMcv",
        "outputId": "db324f0e-0df9-4bcc-a5e5-752382ea8f20"
      },
      "execution_count": 21,
      "outputs": [
        {
          "output_type": "stream",
          "name": "stdout",
          "text": [
            "(200, 2)\n"
          ]
        },
        {
          "output_type": "execute_result",
          "data": {
            "text/plain": [
              "                                                review  rating\n",
              "0    \"I turned into a total zombie on this.  Litera...     1.0\n",
              "1    \"I took this yesterday after a whole night wit...    10.0\n",
              "2    \"I have been on Latuda 80mg for almost 2 month...     1.0\n",
              "3    \"I have been taking Victoza 1.2mg for about a ...     5.0\n",
              "4    \"I started Siliq 6 months ago at 90 % body cov...    10.0\n",
              "..                                                 ...     ...\n",
              "195  \"I took this pill next day after having unprot...    10.0\n",
              "196  \"I&#039;ve loved Nexplanon. The insertion was ...    10.0\n",
              "197  \"I receive the highest dose of this drug for s...     8.0\n",
              "198  \"I absolutely hate this medication. I had cold...     1.0\n",
              "199  \"As soon as rag weed season starts in the mid-...    10.0\n",
              "\n",
              "[200 rows x 2 columns]"
            ],
            "text/html": [
              "\n",
              "  <div id=\"df-2b10c348-c701-4e5e-a20e-aca0aae393a6\">\n",
              "    <div class=\"colab-df-container\">\n",
              "      <div>\n",
              "<style scoped>\n",
              "    .dataframe tbody tr th:only-of-type {\n",
              "        vertical-align: middle;\n",
              "    }\n",
              "\n",
              "    .dataframe tbody tr th {\n",
              "        vertical-align: top;\n",
              "    }\n",
              "\n",
              "    .dataframe thead th {\n",
              "        text-align: right;\n",
              "    }\n",
              "</style>\n",
              "<table border=\"1\" class=\"dataframe\">\n",
              "  <thead>\n",
              "    <tr style=\"text-align: right;\">\n",
              "      <th></th>\n",
              "      <th>review</th>\n",
              "      <th>rating</th>\n",
              "    </tr>\n",
              "  </thead>\n",
              "  <tbody>\n",
              "    <tr>\n",
              "      <th>0</th>\n",
              "      <td>\"I turned into a total zombie on this.  Litera...</td>\n",
              "      <td>1.0</td>\n",
              "    </tr>\n",
              "    <tr>\n",
              "      <th>1</th>\n",
              "      <td>\"I took this yesterday after a whole night wit...</td>\n",
              "      <td>10.0</td>\n",
              "    </tr>\n",
              "    <tr>\n",
              "      <th>2</th>\n",
              "      <td>\"I have been on Latuda 80mg for almost 2 month...</td>\n",
              "      <td>1.0</td>\n",
              "    </tr>\n",
              "    <tr>\n",
              "      <th>3</th>\n",
              "      <td>\"I have been taking Victoza 1.2mg for about a ...</td>\n",
              "      <td>5.0</td>\n",
              "    </tr>\n",
              "    <tr>\n",
              "      <th>4</th>\n",
              "      <td>\"I started Siliq 6 months ago at 90 % body cov...</td>\n",
              "      <td>10.0</td>\n",
              "    </tr>\n",
              "    <tr>\n",
              "      <th>...</th>\n",
              "      <td>...</td>\n",
              "      <td>...</td>\n",
              "    </tr>\n",
              "    <tr>\n",
              "      <th>195</th>\n",
              "      <td>\"I took this pill next day after having unprot...</td>\n",
              "      <td>10.0</td>\n",
              "    </tr>\n",
              "    <tr>\n",
              "      <th>196</th>\n",
              "      <td>\"I&amp;#039;ve loved Nexplanon. The insertion was ...</td>\n",
              "      <td>10.0</td>\n",
              "    </tr>\n",
              "    <tr>\n",
              "      <th>197</th>\n",
              "      <td>\"I receive the highest dose of this drug for s...</td>\n",
              "      <td>8.0</td>\n",
              "    </tr>\n",
              "    <tr>\n",
              "      <th>198</th>\n",
              "      <td>\"I absolutely hate this medication. I had cold...</td>\n",
              "      <td>1.0</td>\n",
              "    </tr>\n",
              "    <tr>\n",
              "      <th>199</th>\n",
              "      <td>\"As soon as rag weed season starts in the mid-...</td>\n",
              "      <td>10.0</td>\n",
              "    </tr>\n",
              "  </tbody>\n",
              "</table>\n",
              "<p>200 rows × 2 columns</p>\n",
              "</div>\n",
              "      <button class=\"colab-df-convert\" onclick=\"convertToInteractive('df-2b10c348-c701-4e5e-a20e-aca0aae393a6')\"\n",
              "              title=\"Convert this dataframe to an interactive table.\"\n",
              "              style=\"display:none;\">\n",
              "        \n",
              "  <svg xmlns=\"http://www.w3.org/2000/svg\" height=\"24px\"viewBox=\"0 0 24 24\"\n",
              "       width=\"24px\">\n",
              "    <path d=\"M0 0h24v24H0V0z\" fill=\"none\"/>\n",
              "    <path d=\"M18.56 5.44l.94 2.06.94-2.06 2.06-.94-2.06-.94-.94-2.06-.94 2.06-2.06.94zm-11 1L8.5 8.5l.94-2.06 2.06-.94-2.06-.94L8.5 2.5l-.94 2.06-2.06.94zm10 10l.94 2.06.94-2.06 2.06-.94-2.06-.94-.94-2.06-.94 2.06-2.06.94z\"/><path d=\"M17.41 7.96l-1.37-1.37c-.4-.4-.92-.59-1.43-.59-.52 0-1.04.2-1.43.59L10.3 9.45l-7.72 7.72c-.78.78-.78 2.05 0 2.83L4 21.41c.39.39.9.59 1.41.59.51 0 1.02-.2 1.41-.59l7.78-7.78 2.81-2.81c.8-.78.8-2.07 0-2.86zM5.41 20L4 18.59l7.72-7.72 1.47 1.35L5.41 20z\"/>\n",
              "  </svg>\n",
              "      </button>\n",
              "      \n",
              "  <style>\n",
              "    .colab-df-container {\n",
              "      display:flex;\n",
              "      flex-wrap:wrap;\n",
              "      gap: 12px;\n",
              "    }\n",
              "\n",
              "    .colab-df-convert {\n",
              "      background-color: #E8F0FE;\n",
              "      border: none;\n",
              "      border-radius: 50%;\n",
              "      cursor: pointer;\n",
              "      display: none;\n",
              "      fill: #1967D2;\n",
              "      height: 32px;\n",
              "      padding: 0 0 0 0;\n",
              "      width: 32px;\n",
              "    }\n",
              "\n",
              "    .colab-df-convert:hover {\n",
              "      background-color: #E2EBFA;\n",
              "      box-shadow: 0px 1px 2px rgba(60, 64, 67, 0.3), 0px 1px 3px 1px rgba(60, 64, 67, 0.15);\n",
              "      fill: #174EA6;\n",
              "    }\n",
              "\n",
              "    [theme=dark] .colab-df-convert {\n",
              "      background-color: #3B4455;\n",
              "      fill: #D2E3FC;\n",
              "    }\n",
              "\n",
              "    [theme=dark] .colab-df-convert:hover {\n",
              "      background-color: #434B5C;\n",
              "      box-shadow: 0px 1px 3px 1px rgba(0, 0, 0, 0.15);\n",
              "      filter: drop-shadow(0px 1px 2px rgba(0, 0, 0, 0.3));\n",
              "      fill: #FFFFFF;\n",
              "    }\n",
              "  </style>\n",
              "\n",
              "      <script>\n",
              "        const buttonEl =\n",
              "          document.querySelector('#df-2b10c348-c701-4e5e-a20e-aca0aae393a6 button.colab-df-convert');\n",
              "        buttonEl.style.display =\n",
              "          google.colab.kernel.accessAllowed ? 'block' : 'none';\n",
              "\n",
              "        async function convertToInteractive(key) {\n",
              "          const element = document.querySelector('#df-2b10c348-c701-4e5e-a20e-aca0aae393a6');\n",
              "          const dataTable =\n",
              "            await google.colab.kernel.invokeFunction('convertToInteractive',\n",
              "                                                     [key], {});\n",
              "          if (!dataTable) return;\n",
              "\n",
              "          const docLinkHtml = 'Like what you see? Visit the ' +\n",
              "            '<a target=\"_blank\" href=https://colab.research.google.com/notebooks/data_table.ipynb>data table notebook</a>'\n",
              "            + ' to learn more about interactive tables.';\n",
              "          element.innerHTML = '';\n",
              "          dataTable['output_type'] = 'display_data';\n",
              "          await google.colab.output.renderOutput(dataTable, element);\n",
              "          const docLink = document.createElement('div');\n",
              "          docLink.innerHTML = docLinkHtml;\n",
              "          element.appendChild(docLink);\n",
              "        }\n",
              "      </script>\n",
              "    </div>\n",
              "  </div>\n",
              "  "
            ]
          },
          "metadata": {},
          "execution_count": 21
        }
      ]
    },
    {
      "cell_type": "markdown",
      "source": [
        "**Transform the `rating` column into a binary variable**\n",
        "\n",
        "Here, we seek to transform the prediction outcome into a binary variable to simplify it a bit, which changes our final model from a regression model into a classification model.\n",
        "If the rating is equal to or greater than 5, set it to 1. Otherwise, set it to 0."
      ],
      "metadata": {
        "id": "mJAK0LFMdp40"
      }
    },
    {
      "cell_type": "code",
      "source": [
        "import numpy as np\n",
        "\n",
        "# Frist, transform the column type of `rating` to int.\n",
        "# Then, if the rating is equal to or greater than 5, set it to 1.\n",
        "# Otherwise, set it to 0.\n",
        "train_set['rating'] = train_set['rating'].apply(np.int64)\n",
        "train_set['rating'] = train_set['rating'].apply(lambda x: 1 if x >= 5 else 0)\n",
        "\n",
        "test_set['rating'] = test_set['rating'].apply(np.int64)\n",
        "test_set['rating'] = test_set['rating'].apply(lambda x: 1 if x >= 5 else 0)"
      ],
      "metadata": {
        "id": "z0kHZMmx4Hzf"
      },
      "execution_count": 22,
      "outputs": []
    },
    {
      "cell_type": "code",
      "source": [
        "# Numbers of rating group by rating.\n",
        "print(\"Train set:\")\n",
        "print(train_set['rating'].value_counts())\n",
        "print()\n",
        "print(\"Test set:\")\n",
        "print(test_set['rating'].value_counts())"
      ],
      "metadata": {
        "id": "qItdGFYbXtiD",
        "outputId": "b919d6ba-ebb6-45e2-c218-2aa8ee61fee3",
        "colab": {
          "base_uri": "https://localhost:8080/"
        }
      },
      "execution_count": 23,
      "outputs": [
        {
          "output_type": "stream",
          "name": "stdout",
          "text": [
            "Train set:\n",
            "1    608\n",
            "0    192\n",
            "Name: rating, dtype: int64\n",
            "\n",
            "Test set:\n",
            "1    150\n",
            "0     50\n",
            "Name: rating, dtype: int64\n"
          ]
        }
      ]
    },
    {
      "cell_type": "code",
      "source": [
        "# Print the shape of the dataset.\n",
        "print(f\"Train set: {train_set.shape}\")\n",
        "print(f\"Test set: {test_set.shape}\")"
      ],
      "metadata": {
        "id": "C3BvmK7CnYFT",
        "outputId": "795d6bcd-ef6c-4ff8-fe18-ab3003155473",
        "colab": {
          "base_uri": "https://localhost:8080/"
        }
      },
      "execution_count": 24,
      "outputs": [
        {
          "output_type": "stream",
          "name": "stdout",
          "text": [
            "Train set: (800, 2)\n",
            "Test set: (200, 2)\n"
          ]
        }
      ]
    },
    {
      "cell_type": "code",
      "source": [
        "# Prepare our dataset for vectorization.\n",
        "X_train, y_train = train_set['review'], train_set['rating']\n",
        "X_test, y_test = test_set['review'], test_set['rating']"
      ],
      "metadata": {
        "id": "xHWNG2f2nYCw"
      },
      "execution_count": 25,
      "outputs": []
    },
    {
      "cell_type": "markdown",
      "source": [
        "As we cannot use the `review` column (which is in text format) for modelling directly, we need to find ways to convert it to a series of numbers for further computation and modelling, or in other words to vectorize them. Here, we demonstrate two methods to do so, both using TF-IDF (term frequency-inverse document frequency)."
      ],
      "metadata": {
        "id": "qs_qwifQjGcg"
      }
    },
    {
      "cell_type": "markdown",
      "source": [
        "---\n",
        "\n",
        "# S4. Option A: Direcly Apply TF-IDF to Embed Textual Data"
      ],
      "metadata": {
        "id": "WaiwZlzUeVsY"
      }
    },
    {
      "cell_type": "markdown",
      "source": [
        "**1. Set up the TF-IDF vectorizer**"
      ],
      "metadata": {
        "id": "t65ZnKdVinao"
      }
    },
    {
      "cell_type": "code",
      "source": [
        "from sklearn.feature_extraction.text import TfidfVectorizer\n",
        "vectorizer = TfidfVectorizer()"
      ],
      "metadata": {
        "id": "EKPYU_SY_S9S"
      },
      "execution_count": 26,
      "outputs": []
    },
    {
      "cell_type": "markdown",
      "source": [
        "**2. Perform the TF-IDF vectorization**"
      ],
      "metadata": {
        "id": "8vgsSYXRit0v"
      }
    },
    {
      "cell_type": "code",
      "source": [
        "# Perform the TF-IDF vectorization.\n",
        "tf_x_train = vectorizer.fit_transform(X_train)\n",
        "tf_x_test = vectorizer.transform(X_test)"
      ],
      "metadata": {
        "id": "AU__1VUAA53b"
      },
      "execution_count": 27,
      "outputs": []
    },
    {
      "cell_type": "code",
      "source": [
        "# Check the dimensions of the vectoried dataset.\n",
        "# Note that there is a total of 5,200 words (features) in our corpus.\n",
        "print(f\"Train set: {tf_x_train.shape}\")\n",
        "print(f\"Test set: {tf_x_test.shape}\")"
      ],
      "metadata": {
        "id": "AWMK4CSiYlJL",
        "outputId": "63efee31-a3c7-4acf-eec6-c1f14d61058e",
        "colab": {
          "base_uri": "https://localhost:8080/"
        }
      },
      "execution_count": 28,
      "outputs": [
        {
          "output_type": "stream",
          "name": "stdout",
          "text": [
            "Train set: (800, 5200)\n",
            "Test set: (200, 5200)\n"
          ]
        }
      ]
    },
    {
      "cell_type": "markdown",
      "source": [
        "---\n",
        "\n",
        "# S5. Option B: Use NLP-specific Data Preprocessing Steps and TF-IDF to Embed Textual Data"
      ],
      "metadata": {
        "id": "HG3OKFaQXy26"
      }
    },
    {
      "cell_type": "markdown",
      "source": [
        "Let us look at a specific review and see how various NLP steps transform the sentence. "
      ],
      "metadata": {
        "id": "kQg3ijqN0qNG"
      }
    },
    {
      "cell_type": "code",
      "source": [
        "# the original review\n",
        "X_train[1]"
      ],
      "metadata": {
        "id": "v03UEMDvkrFz",
        "outputId": "060f46fe-a8f4-4ee0-f2c1-add72633bae5",
        "colab": {
          "base_uri": "https://localhost:8080/",
          "height": 161
        }
      },
      "execution_count": 29,
      "outputs": [
        {
          "output_type": "execute_result",
          "data": {
            "text/plain": [
              "'\"Hi there,\\r\\n\\r\\nI also wanted to write a positive review. The first few days of having the Copper IUD was difficult. IBprofin became my best friend. I was bloated and swollen in my abdomen area for the first week but after that everything was fine. I did experience my first period recently and honestly it wasn&#039;t that bad. My period before the IUD lasted about 5 days with medium flow. Once I got the IUD and on my next period, it was light the first two days with cramping 2 days before and about 3-4 days during my period. On the 3rd and 4th day of my period, it was pretty heavy heavy but after that went back to a normal flow. Definitely advise to have super size tampons if your getting the copper IUD. Honestly I&#039;m fine with my period and was expecting it to be heavier, nice thing the heavy flow didn&#039;t last that long. In total my period was about 7 days. I think I&#039;ll get use to it. I&#039;m really happy with it and haven&#039;t experienced any other side effects since my period ended... no spotting, nothing :-)\"'"
            ],
            "application/vnd.google.colaboratory.intrinsic+json": {
              "type": "string"
            }
          },
          "metadata": {},
          "execution_count": 29
        }
      ]
    },
    {
      "cell_type": "markdown",
      "source": [
        "**1. Convert all characters to lower case**"
      ],
      "metadata": {
        "id": "fQR2aMNBZztD"
      }
    },
    {
      "cell_type": "code",
      "source": [
        "X_train = X_train.apply(lambda x: \" \".join(x.lower() for x in str(x).split()))\n",
        "X_test = X_test.apply(lambda x: \" \".join(x.lower() for x in str(x).split()))"
      ],
      "metadata": {
        "id": "486znitlFogE"
      },
      "execution_count": 30,
      "outputs": []
    },
    {
      "cell_type": "code",
      "source": [
        "X_train[1]"
      ],
      "metadata": {
        "id": "U9Kj7C3Dk9vE",
        "outputId": "074b217e-1df2-47a5-9605-9f143f3e84d7",
        "colab": {
          "base_uri": "https://localhost:8080/",
          "height": 161
        }
      },
      "execution_count": 31,
      "outputs": [
        {
          "output_type": "execute_result",
          "data": {
            "text/plain": [
              "'\"hi there, i also wanted to write a positive review. the first few days of having the copper iud was difficult. ibprofin became my best friend. i was bloated and swollen in my abdomen area for the first week but after that everything was fine. i did experience my first period recently and honestly it wasn&#039;t that bad. my period before the iud lasted about 5 days with medium flow. once i got the iud and on my next period, it was light the first two days with cramping 2 days before and about 3-4 days during my period. on the 3rd and 4th day of my period, it was pretty heavy heavy but after that went back to a normal flow. definitely advise to have super size tampons if your getting the copper iud. honestly i&#039;m fine with my period and was expecting it to be heavier, nice thing the heavy flow didn&#039;t last that long. in total my period was about 7 days. i think i&#039;ll get use to it. i&#039;m really happy with it and haven&#039;t experienced any other side effects since my period ended... no spotting, nothing :-)\"'"
            ],
            "application/vnd.google.colaboratory.intrinsic+json": {
              "type": "string"
            }
          },
          "metadata": {},
          "execution_count": 31
        }
      ]
    },
    {
      "cell_type": "markdown",
      "source": [
        "**2. Remove non-alphabetical characters**"
      ],
      "metadata": {
        "id": "ECUMdvGPaoKV"
      }
    },
    {
      "cell_type": "code",
      "source": [
        "import nltk # package for general NLP\n",
        "import re\n",
        "# Here, we download a predefined list of english words from `nltk`\n",
        "nltk.download('punkt')\n",
        "X_train = X_train.apply(lambda x: \" \".join([re.sub(\"[^A-Za-z]+\",\"\", x) for x in nltk.word_tokenize(x)]))\n",
        "X_test = X_test.apply(lambda x: \" \".join([re.sub(\"[^A-Za-z]+\",\"\", x) for x in nltk.word_tokenize(x)]))"
      ],
      "metadata": {
        "id": "NhszFQ3vFojC",
        "colab": {
          "base_uri": "https://localhost:8080/"
        },
        "outputId": "d9e8f42f-0de6-427a-8209-70cd16f9fc48"
      },
      "execution_count": 32,
      "outputs": [
        {
          "output_type": "stream",
          "name": "stderr",
          "text": [
            "[nltk_data] Downloading package punkt to /root/nltk_data...\n",
            "[nltk_data]   Unzipping tokenizers/punkt.zip.\n"
          ]
        }
      ]
    },
    {
      "cell_type": "code",
      "source": [
        "X_train[1]"
      ],
      "metadata": {
        "id": "bjRKweQhlCB4",
        "outputId": "830d2377-cbfe-4111-e801-3be6fa300eaf",
        "colab": {
          "base_uri": "https://localhost:8080/",
          "height": 161
        }
      },
      "execution_count": 33,
      "outputs": [
        {
          "output_type": "execute_result",
          "data": {
            "text/plain": [
              "' hi there  i also wanted to write a positive review  the first few days of having the copper iud was difficult  ibprofin became my best friend  i was bloated and swollen in my abdomen area for the first week but after that everything was fine  i did experience my first period recently and honestly it wasn     t that bad  my period before the iud lasted about  days with medium flow  once i got the iud and on my next period  it was light the first two days with cramping  days before and about  days during my period  on the rd and th day of my period  it was pretty heavy heavy but after that went back to a normal flow  definitely advise to have super size tampons if your getting the copper iud  honestly i     m fine with my period and was expecting it to be heavier  nice thing the heavy flow didn     t last that long  in total my period was about  days  i think i     ll get use to it  i     m really happy with it and haven     t experienced any other side effects since my period ended  no spotting  nothing    '"
            ],
            "application/vnd.google.colaboratory.intrinsic+json": {
              "type": "string"
            }
          },
          "metadata": {},
          "execution_count": 33
        }
      ]
    },
    {
      "cell_type": "markdown",
      "source": [
        "**3. Remove extra spaces**"
      ],
      "metadata": {
        "id": "RC2iwx2TaqAW"
      }
    },
    {
      "cell_type": "code",
      "source": [
        "X_train = X_train.apply(lambda x: re.sub(\" +\", \" \", x))\n",
        "X_test = X_test.apply(lambda x: re.sub(\" +\", \" \", x))"
      ],
      "metadata": {
        "id": "A680UKF7GuIj"
      },
      "execution_count": 34,
      "outputs": []
    },
    {
      "cell_type": "code",
      "source": [
        "X_train[1]"
      ],
      "metadata": {
        "id": "DLZroG6VlFWL",
        "outputId": "ca3e56f1-04c5-4501-dc97-28ce03d4c663",
        "colab": {
          "base_uri": "https://localhost:8080/",
          "height": 160
        }
      },
      "execution_count": 35,
      "outputs": [
        {
          "output_type": "execute_result",
          "data": {
            "text/plain": [
              "' hi there i also wanted to write a positive review the first few days of having the copper iud was difficult ibprofin became my best friend i was bloated and swollen in my abdomen area for the first week but after that everything was fine i did experience my first period recently and honestly it wasn t that bad my period before the iud lasted about days with medium flow once i got the iud and on my next period it was light the first two days with cramping days before and about days during my period on the rd and th day of my period it was pretty heavy heavy but after that went back to a normal flow definitely advise to have super size tampons if your getting the copper iud honestly i m fine with my period and was expecting it to be heavier nice thing the heavy flow didn t last that long in total my period was about days i think i ll get use to it i m really happy with it and haven t experienced any other side effects since my period ended no spotting nothing '"
            ],
            "application/vnd.google.colaboratory.intrinsic+json": {
              "type": "string"
            }
          },
          "metadata": {},
          "execution_count": 35
        }
      ]
    },
    {
      "cell_type": "markdown",
      "source": [
        "**4. Remove the stopwords from corpus to reduce dimensions**\n",
        "\n",
        "Stop words are commonly used words (such as \"the\", \"a\", \"an\", \"in\") that a search engine has been programmed to ignore, both when indexing entries for searching and when retrieving them as the result of a search query. We would not want these words to take up space in our dataset, or taking up valuable processing time because they contain very limited information."
      ],
      "metadata": {
        "id": "HDTR9ZP7atN5"
      }
    },
    {
      "cell_type": "code",
      "source": [
        "# Here, we download a predefined list of english stopwords from `nltk`\n",
        "nltk.download('stopwords')\n",
        "from nltk.corpus import stopwords\n",
        "stop = stopwords.words(\"english\")"
      ],
      "metadata": {
        "id": "KqrPVTMEA6oJ",
        "outputId": "b75f2a70-bee7-4a68-ad24-cac970787814",
        "colab": {
          "base_uri": "https://localhost:8080/"
        }
      },
      "execution_count": 36,
      "outputs": [
        {
          "output_type": "stream",
          "name": "stderr",
          "text": [
            "[nltk_data] Downloading package stopwords to /root/nltk_data...\n",
            "[nltk_data]   Unzipping corpora/stopwords.zip.\n"
          ]
        }
      ]
    },
    {
      "cell_type": "code",
      "source": [
        "# Print out the list of english stopwords.\n",
        "print(len(stop))\n",
        "print(stop)"
      ],
      "metadata": {
        "colab": {
          "base_uri": "https://localhost:8080/"
        },
        "id": "SifYU2ylWM8C",
        "outputId": "15d152ff-3e21-4b04-ef66-6935594ae59d"
      },
      "execution_count": 37,
      "outputs": [
        {
          "output_type": "stream",
          "name": "stdout",
          "text": [
            "179\n",
            "['i', 'me', 'my', 'myself', 'we', 'our', 'ours', 'ourselves', 'you', \"you're\", \"you've\", \"you'll\", \"you'd\", 'your', 'yours', 'yourself', 'yourselves', 'he', 'him', 'his', 'himself', 'she', \"she's\", 'her', 'hers', 'herself', 'it', \"it's\", 'its', 'itself', 'they', 'them', 'their', 'theirs', 'themselves', 'what', 'which', 'who', 'whom', 'this', 'that', \"that'll\", 'these', 'those', 'am', 'is', 'are', 'was', 'were', 'be', 'been', 'being', 'have', 'has', 'had', 'having', 'do', 'does', 'did', 'doing', 'a', 'an', 'the', 'and', 'but', 'if', 'or', 'because', 'as', 'until', 'while', 'of', 'at', 'by', 'for', 'with', 'about', 'against', 'between', 'into', 'through', 'during', 'before', 'after', 'above', 'below', 'to', 'from', 'up', 'down', 'in', 'out', 'on', 'off', 'over', 'under', 'again', 'further', 'then', 'once', 'here', 'there', 'when', 'where', 'why', 'how', 'all', 'any', 'both', 'each', 'few', 'more', 'most', 'other', 'some', 'such', 'no', 'nor', 'not', 'only', 'own', 'same', 'so', 'than', 'too', 'very', 's', 't', 'can', 'will', 'just', 'don', \"don't\", 'should', \"should've\", 'now', 'd', 'll', 'm', 'o', 're', 've', 'y', 'ain', 'aren', \"aren't\", 'couldn', \"couldn't\", 'didn', \"didn't\", 'doesn', \"doesn't\", 'hadn', \"hadn't\", 'hasn', \"hasn't\", 'haven', \"haven't\", 'isn', \"isn't\", 'ma', 'mightn', \"mightn't\", 'mustn', \"mustn't\", 'needn', \"needn't\", 'shan', \"shan't\", 'shouldn', \"shouldn't\", 'wasn', \"wasn't\", 'weren', \"weren't\", 'won', \"won't\", 'wouldn', \"wouldn't\"]\n"
          ]
        }
      ]
    },
    {
      "cell_type": "code",
      "source": [
        "X_train = X_train.apply(lambda x: \" \".join([x for x in x.split() if x not in stop]))\n",
        "X_test = X_test.apply(lambda x: \" \".join([x for x in x.split() if x not in stop]))"
      ],
      "metadata": {
        "id": "F07Flvd4D1kL"
      },
      "execution_count": 38,
      "outputs": []
    },
    {
      "cell_type": "code",
      "source": [
        "X_train[1] \n",
        "# Note how the \"i\"s are removed"
      ],
      "metadata": {
        "id": "aIh1hDY_lI75",
        "outputId": "4c27c592-f722-4633-d191-928f3f26b653",
        "colab": {
          "base_uri": "https://localhost:8080/",
          "height": 107
        }
      },
      "execution_count": 39,
      "outputs": [
        {
          "output_type": "execute_result",
          "data": {
            "text/plain": [
              "'hi also wanted write positive review first days copper iud difficult ibprofin became best friend bloated swollen abdomen area first week everything fine experience first period recently honestly bad period iud lasted days medium flow got iud next period light first two days cramping days days period rd th day period pretty heavy heavy went back normal flow definitely advise super size tampons getting copper iud honestly fine period expecting heavier nice thing heavy flow last long total period days think get use really happy experienced side effects since period ended spotting nothing'"
            ],
            "application/vnd.google.colaboratory.intrinsic+json": {
              "type": "string"
            }
          },
          "metadata": {},
          "execution_count": 39
        }
      ]
    },
    {
      "cell_type": "markdown",
      "source": [
        "**5. Lemmatization**\n",
        "\n",
        "For example, \"drug\", \"drugs\" and \"drug's\" would be regarded as the same word and share the same token."
      ],
      "metadata": {
        "id": "hYbHCIHda5kx"
      }
    },
    {
      "cell_type": "code",
      "source": [
        "from nltk.stem import WordNetLemmatizer\n",
        "nltk.download('wordnet')\n",
        "nltk.download('omw-1.4')\n",
        "lemmatizer = WordNetLemmatizer()"
      ],
      "metadata": {
        "id": "aZLHB1rtBm6S",
        "colab": {
          "base_uri": "https://localhost:8080/"
        },
        "outputId": "65ef8e2c-6232-4993-a291-9eab96801dcd"
      },
      "execution_count": 44,
      "outputs": [
        {
          "output_type": "stream",
          "name": "stderr",
          "text": [
            "[nltk_data] Downloading package wordnet to /root/nltk_data...\n",
            "[nltk_data]   Package wordnet is already up-to-date!\n",
            "[nltk_data] Downloading package omw-1.4 to /root/nltk_data...\n"
          ]
        }
      ]
    },
    {
      "cell_type": "code",
      "source": [
        "X_train = X_train.apply(lambda x: \" \".join([lemmatizer.lemmatize(w) for w in nltk.word_tokenize(x)]))\n",
        "X_test = X_test.apply(lambda x: \" \".join([lemmatizer.lemmatize(w) for w in nltk.word_tokenize(x)]))"
      ],
      "metadata": {
        "id": "B2P7YBHPAGPg"
      },
      "execution_count": 45,
      "outputs": []
    },
    {
      "cell_type": "code",
      "source": [
        "X_train[1]\n",
        "# Note how \"days\" are converted to \"day\""
      ],
      "metadata": {
        "id": "SNT7tlveloiv",
        "outputId": "527e1e15-e69b-4edc-d9b4-8def6e4add4a",
        "colab": {
          "base_uri": "https://localhost:8080/",
          "height": 107
        }
      },
      "execution_count": 46,
      "outputs": [
        {
          "output_type": "execute_result",
          "data": {
            "text/plain": [
              "'hi also wanted write positive review first day copper iud difficult ibprofin became best friend bloated swollen abdomen area first week everything fine experience first period recently honestly bad period iud lasted day medium flow got iud next period light first two day cramping day day period rd th day period pretty heavy heavy went back normal flow definitely advise super size tampon getting copper iud honestly fine period expecting heavier nice thing heavy flow last long total period day think get use really happy experienced side effect since period ended spotting nothing'"
            ],
            "application/vnd.google.colaboratory.intrinsic+json": {
              "type": "string"
            }
          },
          "metadata": {},
          "execution_count": 46
        }
      ]
    },
    {
      "cell_type": "markdown",
      "source": [
        "**6. Perform the TF-IDF vectorization**"
      ],
      "metadata": {
        "id": "IJCrkABAkkVo"
      }
    },
    {
      "cell_type": "code",
      "source": [
        "tf_x_train = vectorizer.fit_transform(X_train)\n",
        "tf_x_test = vectorizer.transform(X_test)"
      ],
      "metadata": {
        "id": "ARqFuLH9E_Gq"
      },
      "execution_count": 47,
      "outputs": []
    },
    {
      "cell_type": "code",
      "source": [
        "# Check the dimensions of the vectoried dataset.\n",
        "# Note that there is a total of 4,509 word tokens (features) in our corpus.\n",
        "print(f\"Train set: {tf_x_train.shape}\")\n",
        "print(f\"Test set: {tf_x_test.shape}\")"
      ],
      "metadata": {
        "id": "PNBN_5YJi1P7",
        "outputId": "5b1b58cb-0f61-4fdf-c96f-69243b244cfd",
        "colab": {
          "base_uri": "https://localhost:8080/"
        }
      },
      "execution_count": 48,
      "outputs": [
        {
          "output_type": "stream",
          "name": "stdout",
          "text": [
            "Train set: (800, 4509)\n",
            "Test set: (200, 4509)\n"
          ]
        }
      ]
    },
    {
      "cell_type": "code",
      "source": [
        "# the list of all words in our corpus\n",
        "vectorizer.vocabulary_"
      ],
      "metadata": {
        "id": "B6J-ylaynT6s",
        "outputId": "b15ab542-7ac3-48db-b155-f39c8b48af9c",
        "colab": {
          "base_uri": "https://localhost:8080/"
        }
      },
      "execution_count": 49,
      "outputs": [
        {
          "output_type": "execute_result",
          "data": {
            "text/plain": [
              "{'first': 1477,\n",
              " 'pill': 2899,\n",
              " 'ever': 1312,\n",
              " 'tried': 4111,\n",
              " 'far': 1407,\n",
              " 'worst': 4441,\n",
              " 'one': 2695,\n",
              " 'depression': 1002,\n",
              " 'silent': 3566,\n",
              " 'killer': 2103,\n",
              " 'sex': 3513,\n",
              " 'drive': 1161,\n",
              " 'tired': 4033,\n",
              " 'weight': 4361,\n",
              " 'gain': 1592,\n",
              " 'healthy': 1751,\n",
              " 'quit': 3131,\n",
              " 'felt': 1434,\n",
              " 'much': 2523,\n",
              " 'better': 389,\n",
              " 'became': 347,\n",
              " 'worth': 4443,\n",
              " 'hi': 1787,\n",
              " 'also': 143,\n",
              " 'wanted': 4316,\n",
              " 'write': 4453,\n",
              " 'positive': 2956,\n",
              " 'review': 3339,\n",
              " 'day': 945,\n",
              " 'copper': 845,\n",
              " 'iud': 2056,\n",
              " 'difficult': 1053,\n",
              " 'ibprofin': 1887,\n",
              " 'best': 385,\n",
              " 'friend': 1567,\n",
              " 'bloated': 426,\n",
              " 'swollen': 3889,\n",
              " 'abdomen': 1,\n",
              " 'area': 236,\n",
              " 'week': 4352,\n",
              " 'everything': 1317,\n",
              " 'fine': 1464,\n",
              " 'experience': 1357,\n",
              " 'period': 2859,\n",
              " 'recently': 3195,\n",
              " 'honestly': 1813,\n",
              " 'bad': 316,\n",
              " 'lasted': 2137,\n",
              " 'medium': 2379,\n",
              " 'flow': 1502,\n",
              " 'got': 1656,\n",
              " 'next': 2589,\n",
              " 'light': 2203,\n",
              " 'two': 4150,\n",
              " 'cramping': 882,\n",
              " 'rd': 3170,\n",
              " 'th': 3976,\n",
              " 'pretty': 3014,\n",
              " 'heavy': 1764,\n",
              " 'went': 4371,\n",
              " 'back': 308,\n",
              " 'normal': 2614,\n",
              " 'definitely': 973,\n",
              " 'advise': 82,\n",
              " 'super': 3849,\n",
              " 'size': 3585,\n",
              " 'tampon': 3918,\n",
              " 'getting': 1624,\n",
              " 'expecting': 1351,\n",
              " 'heavier': 1761,\n",
              " 'nice': 2591,\n",
              " 'thing': 3988,\n",
              " 'last': 2136,\n",
              " 'long': 2258,\n",
              " 'total': 4068,\n",
              " 'think': 3989,\n",
              " 'get': 1623,\n",
              " 'use': 4222,\n",
              " 'really': 3187,\n",
              " 'happy': 1726,\n",
              " 'experienced': 1358,\n",
              " 'side': 3556,\n",
              " 'effect': 1216,\n",
              " 'since': 3573,\n",
              " 'ended': 1258,\n",
              " 'spotting': 3708,\n",
              " 'nothing': 2625,\n",
              " 'basically': 330,\n",
              " 'hard': 1727,\n",
              " 'sell': 3480,\n",
              " 'come': 727,\n",
              " 'taking': 3910,\n",
              " 'medicine': 2377,\n",
              " 'pain': 2774,\n",
              " 'great': 1669,\n",
              " 'motivator': 2508,\n",
              " 'oral': 2712,\n",
              " 'nsaid': 2635,\n",
              " 'given': 1633,\n",
              " 'minor': 2446,\n",
              " 'distress': 1103,\n",
              " 'past': 2814,\n",
              " 'turned': 4143,\n",
              " 'voltaren': 4295,\n",
              " 'gel': 1609,\n",
              " 'used': 4223,\n",
              " 'knee': 2110,\n",
              " 'neck': 2566,\n",
              " 'lower': 2286,\n",
              " 'close': 683,\n",
              " 'miracle': 2449,\n",
              " 'year': 4470,\n",
              " 'arthritis': 245,\n",
              " 'producing': 3039,\n",
              " 'activity': 45,\n",
              " 'part': 2802,\n",
              " 'dosing': 1129,\n",
              " 'applied': 220,\n",
              " 'directly': 1064,\n",
              " 'problem': 3036,\n",
              " 'consequently': 790,\n",
              " 'le': 2155,\n",
              " 'end': 1257,\n",
              " 'system': 3901,\n",
              " 'overall': 2745,\n",
              " 'taken': 3909,\n",
              " 'orally': 2713,\n",
              " 'win': 4396,\n",
              " 'son': 3656,\n",
              " 'always': 150,\n",
              " 'noticed': 2629,\n",
              " 'short': 3539,\n",
              " 'attention': 276,\n",
              " 'span': 3676,\n",
              " 'impulsiveness': 1932,\n",
              " 'trouble': 4121,\n",
              " 'started': 3734,\n",
              " 'preschool': 3003,\n",
              " 'july': 2082,\n",
              " 'birthday': 408,\n",
              " 'teacher': 3933,\n",
              " 'asked': 254,\n",
              " 'considered': 793,\n",
              " 'holding': 1807,\n",
              " 'decided': 959,\n",
              " 'kindergarten': 2107,\n",
              " 'roller': 3370,\n",
              " 'coaster': 699,\n",
              " 'seeing': 3470,\n",
              " 'pediatrician': 2835,\n",
              " 'month': 2489,\n",
              " 'school': 3439,\n",
              " 'time': 4026,\n",
              " 'everyday': 1315,\n",
              " 'distracting': 1101,\n",
              " 'class': 661,\n",
              " 'loud': 2281,\n",
              " 'outburst': 2732,\n",
              " 'able': 6,\n",
              " 'sit': 3580,\n",
              " 'still': 3757,\n",
              " 'march': 2344,\n",
              " 'metadate': 2403,\n",
              " 'mg': 2417,\n",
              " 'report': 3288,\n",
              " 'card': 563,\n",
              " 'improved': 1926,\n",
              " 'although': 148,\n",
              " 'wear': 4346,\n",
              " 'around': 242,\n",
              " 'afternoon': 93,\n",
              " 'see': 3469,\n",
              " 'difference': 1048,\n",
              " 'interested': 2014,\n",
              " 'investigating': 2030,\n",
              " 'avenue': 288,\n",
              " 'shown': 3551,\n",
              " 'significant': 3564,\n",
              " 'improvement': 1927,\n",
              " 'injection': 1981,\n",
              " 'pleasant': 2924,\n",
              " 'going': 1649,\n",
              " 'lie': 2195,\n",
              " 'numbing': 2642,\n",
              " 'shot': 3544,\n",
              " 'gave': 1607,\n",
              " 'conpletely': 787,\n",
              " 'covered': 871,\n",
              " 'aetna': 84,\n",
              " 'insurance': 2005,\n",
              " 'free': 1556,\n",
              " 'finished': 1467,\n",
              " 'extremely': 1376,\n",
              " 'half': 1711,\n",
              " 'headache': 1742,\n",
              " 'sometimes': 3654,\n",
              " 'unbearable': 4168,\n",
              " 'go': 1645,\n",
              " 'away': 299,\n",
              " 'painkiller': 2776,\n",
              " 'tell': 3948,\n",
              " 'hormone': 1825,\n",
              " 'something': 3653,\n",
              " 'else': 1240,\n",
              " 'either': 1227,\n",
              " 'way': 4339,\n",
              " 'otherwise': 2729,\n",
              " 'lightersmaller': 2207,\n",
              " 'probably': 3034,\n",
              " 'quot': 3136,\n",
              " 'lb': 2154,\n",
              " 'plus': 2930,\n",
              " 'forget': 1535,\n",
              " 'bupropion': 515,\n",
              " 'xl': 4461,\n",
              " 'took': 4056,\n",
              " 'kind': 2105,\n",
              " 'cloudylost': 691,\n",
              " 'little': 2240,\n",
              " 'bit': 409,\n",
              " 'anxiety': 195,\n",
              " 'ups': 4209,\n",
              " 'down': 1133,\n",
              " 'lot': 2279,\n",
              " 'even': 1308,\n",
              " 'feel': 1430,\n",
              " 'like': 2211,\n",
              " 'medication': 2376,\n",
              " 'second': 3461,\n",
              " 'upped': 4206,\n",
              " 'dose': 1127,\n",
              " 'attack': 272,\n",
              " 'feeling': 1431,\n",
              " 'losing': 2275,\n",
              " 'control': 825,\n",
              " 'stuck': 3802,\n",
              " 'head': 1741,\n",
              " 'sleeping': 3599,\n",
              " 'hoping': 1823,\n",
              " 'stick': 3753,\n",
              " 'start': 3733,\n",
              " 'almost': 134,\n",
              " 'reading': 3179,\n",
              " 'happens': 1723,\n",
              " 'lamictal': 2126,\n",
              " 'itching': 2052,\n",
              " 'wondering': 4422,\n",
              " 'rash': 3161,\n",
              " 'red': 3207,\n",
              " 'bump': 511,\n",
              " 'itch': 2049,\n",
              " 'suffering': 3834,\n",
              " 'severe': 3510,\n",
              " 'brink': 488,\n",
              " 'suicidal': 3840,\n",
              " 'finally': 1459,\n",
              " 'sought': 3666,\n",
              " 'help': 1771,\n",
              " 'perscribed': 2863,\n",
              " 'lexapro': 2191,\n",
              " 'nauseous': 2557,\n",
              " 'soon': 3657,\n",
              " 'within': 4410,\n",
              " 'hour': 1840,\n",
              " 'height': 1765,\n",
              " 'terrifying': 3970,\n",
              " 'panic': 2786,\n",
              " 'begged': 357,\n",
              " 'locked': 2251,\n",
              " 'scared': 3431,\n",
              " 'horrendous': 1828,\n",
              " 'hallucination': 1714,\n",
              " 'skin': 3590,\n",
              " 'fire': 1472,\n",
              " 'suffered': 3832,\n",
              " 'vomiting': 4298,\n",
              " 'diarrhoea': 1039,\n",
              " 'hid': 1788,\n",
              " 'room': 3373,\n",
              " 'number': 2641,\n",
              " 'tablet': 3905,\n",
              " 'diagnosed': 1033,\n",
              " 'gad': 1591,\n",
              " 'currently': 913,\n",
              " 'trying': 4131,\n",
              " 'reiki': 3237,\n",
              " 'yoga': 4482,\n",
              " 'counselling': 860,\n",
              " 'meditation': 2378,\n",
              " 'know': 2115,\n",
              " 'need': 2568,\n",
              " 'extta': 1379,\n",
              " 'fear': 1424,\n",
              " 'reaction': 3175,\n",
              " 'could': 858,\n",
              " 'survive': 3870,\n",
              " 'another': 178,\n",
              " 'episode': 1283,\n",
              " 'never': 2583,\n",
              " 'implanon': 1916,\n",
              " 'find': 1462,\n",
              " 'disruptive': 1093,\n",
              " 'life': 2196,\n",
              " 'sexual': 3514,\n",
              " 'intercourse': 2012,\n",
              " 'boyfriend': 465,\n",
              " 'uncomfortable': 4173,\n",
              " 'vaginal': 4239,\n",
              " 'dryness': 1175,\n",
              " 'burning': 518,\n",
              " 'swelling': 3884,\n",
              " 'came': 550,\n",
              " 'embarrassing': 1241,\n",
              " 'explain': 1364,\n",
              " 'though': 3997,\n",
              " 'understanding': 4179,\n",
              " 'already': 142,\n",
              " 'thinking': 3990,\n",
              " 'switching': 3888,\n",
              " 'depo': 995,\n",
              " 'metformin': 2408,\n",
              " 'symptom': 3893,\n",
              " 'energy': 1266,\n",
              " 'lost': 2278,\n",
              " 'lose': 2273,\n",
              " 'mild': 2432,\n",
              " 'gastrointestinal': 1606,\n",
              " 'discomfort': 1074,\n",
              " 'well': 4366,\n",
              " 'seems': 3473,\n",
              " 'food': 1528,\n",
              " 'craving': 885,\n",
              " 'drink': 1157,\n",
              " 'cup': 908,\n",
              " 'coffee': 705,\n",
              " 'morning': 2497,\n",
              " 'without': 4411,\n",
              " 'caffeine': 536,\n",
              " 'withdrawal': 4409,\n",
              " 'crave': 884,\n",
              " 'sugar': 3836,\n",
              " 'high': 1791,\n",
              " 'carb': 562,\n",
              " 'snack': 3628,\n",
              " 'meal': 2365,\n",
              " 'prevent': 3016,\n",
              " 'blood': 432,\n",
              " 'drop': 1165,\n",
              " 'apple': 218,\n",
              " 'berry': 383,\n",
              " 'carrot': 573,\n",
              " 'would': 4444,\n",
              " 'recommend': 3201,\n",
              " 'anyone': 204,\n",
              " 'pcos': 2828,\n",
              " 'combined': 725,\n",
              " 'remeron': 3268,\n",
              " 'sedating': 3466,\n",
              " 'antidepressant': 188,\n",
              " 'quality': 3122,\n",
              " 'tenfold': 3961,\n",
              " 'ambien': 155,\n",
              " 'zolpidem': 4497,\n",
              " 'work': 4427,\n",
              " 'quickly': 3128,\n",
              " 'put': 3118,\n",
              " 'sleep': 3596,\n",
              " 'minute': 2448,\n",
              " 'slowly': 3611,\n",
              " 'keep': 2091,\n",
              " 'deep': 967,\n",
              " 'restful': 3313,\n",
              " 'isolation': 2047,\n",
              " 'limited': 2218,\n",
              " 'success': 3821,\n",
              " 'give': 1632,\n",
              " 'take': 3908,\n",
              " 'working': 4430,\n",
              " 'combination': 724,\n",
              " 'perfectly': 2855,\n",
              " 'synergistic': 3896,\n",
              " 'silver': 3567,\n",
              " 'bullet': 509,\n",
              " 'insomnia': 1997,\n",
              " 'lowgrade': 2290,\n",
              " 'happier': 1724,\n",
              " 'healthier': 1750,\n",
              " 'complex': 755,\n",
              " 'falling': 1401,\n",
              " 'asleep': 257,\n",
              " 'staying': 3745,\n",
              " 'secondary': 3462,\n",
              " 'major': 2326,\n",
              " 'depressive': 1004,\n",
              " 'disorder': 1090,\n",
              " 'many': 2343,\n",
              " 'count': 861,\n",
              " 'med': 2371,\n",
              " 'worked': 4428,\n",
              " 'developed': 1026,\n",
              " 'tolerance': 4046,\n",
              " 'walked': 4309,\n",
              " 'tightrope': 4023,\n",
              " 'make': 2329,\n",
              " 'current': 912,\n",
              " 'solution': 3648,\n",
              " 'temazepam': 3950,\n",
              " 'fall': 1399,\n",
              " 'seroquel': 3499,\n",
              " 'stay': 3743,\n",
              " 'result': 3319,\n",
              " 'trial': 4108,\n",
              " 'error': 1293,\n",
              " 'regulating': 3233,\n",
              " 'anything': 205,\n",
              " 'avoid': 291,\n",
              " 'building': 506,\n",
              " 'unfortunately': 4186,\n",
              " 'horrific': 1832,\n",
              " 'wound': 4445,\n",
              " 'nausea': 2555,\n",
              " 'extreme': 1375,\n",
              " 'hoarseness': 1804,\n",
              " 'pressure': 3011,\n",
              " 'fatigue': 1416,\n",
              " 'turn': 4142,\n",
              " 'worse': 4437,\n",
              " 'liver': 2244,\n",
              " 'enzyme': 1279,\n",
              " 'eat': 1204,\n",
              " 'water': 4335,\n",
              " 'pound': 2969,\n",
              " 'votrient': 4299,\n",
              " 'good': 1652,\n",
              " 'evening': 1309,\n",
              " 'slight': 3605,\n",
              " 'appears': 214,\n",
              " 'absolutely': 11,\n",
              " 'love': 2282,\n",
              " 'reason': 3191,\n",
              " 'rate': 3162,\n",
              " 'clear': 665,\n",
              " 'initially': 1975,\n",
              " 'switched': 3887,\n",
              " 'ocella': 2674,\n",
              " 'beyaz': 392,\n",
              " 'loved': 2283,\n",
              " 'learned': 2162,\n",
              " 'cover': 870,\n",
              " 'switch': 3886,\n",
              " 'similar': 3569,\n",
              " 'generic': 1616,\n",
              " 'birth': 406,\n",
              " 'thought': 3998,\n",
              " 'compared': 742,\n",
              " 'let': 2180,\n",
              " 'say': 3423,\n",
              " 'wonder': 4419,\n",
              " 'however': 1843,\n",
              " 'huge': 1849,\n",
              " 'change': 612,\n",
              " 'mood': 2492,\n",
              " 'sad': 3395,\n",
              " 'especially': 1299,\n",
              " 'house': 1841,\n",
              " 'following': 1525,\n",
              " 'heaviest': 1762,\n",
              " 'horrible': 1829,\n",
              " 'hopeless': 1821,\n",
              " 'face': 1385,\n",
              " 'changing': 614,\n",
              " 'becomes': 349,\n",
              " 'smooth': 3625,\n",
              " 'complement': 750,\n",
              " 'people': 2845,\n",
              " 'sure': 3861,\n",
              " 'pond': 2945,\n",
              " 'facial': 1387,\n",
              " 'cleanser': 664,\n",
              " 'moisturizes': 2479,\n",
              " 'cleaning': 663,\n",
              " 'trust': 4128,\n",
              " 'lotion': 2280,\n",
              " 'public': 3100,\n",
              " 'want': 4315,\n",
              " 'look': 2261,\n",
              " 'greasy': 1668,\n",
              " 'ton': 4051,\n",
              " 'bed': 351,\n",
              " 'apply': 221,\n",
              " 'beewax': 354,\n",
              " 'chapstick': 617,\n",
              " 'lip': 2226,\n",
              " 'chapped': 616,\n",
              " 'today': 4040,\n",
              " 'finishing': 1468,\n",
              " 'nose': 2621,\n",
              " 'dry': 1173,\n",
              " 'pick': 2892,\n",
              " 'constantly': 799,\n",
              " 'hurt': 1859,\n",
              " 'raised': 3148,\n",
              " 'surface': 3863,\n",
              " 'smoothed': 3626,\n",
              " 'shave': 3525,\n",
              " 'small': 3612,\n",
              " 'chin': 637,\n",
              " 'kineret': 2108,\n",
              " 'anakinra': 166,\n",
              " 'several': 3509,\n",
              " 'schnitzler': 3438,\n",
              " 'syndrome': 3895,\n",
              " 'relief': 3249,\n",
              " 'except': 1329,\n",
              " 'steroid': 3752,\n",
              " 'hive': 1801,\n",
              " 'couple': 866,\n",
              " 'starting': 3736,\n",
              " 'digging': 1056,\n",
              " 'garden': 1599,\n",
              " 'walking': 4311,\n",
              " 'kilometre': 2104,\n",
              " 'spent': 3690,\n",
              " 'previous': 3020,\n",
              " 'mainly': 2321,\n",
              " 'pb': 2827,\n",
              " 'list': 2229,\n",
              " 'hospital': 1836,\n",
              " 'pay': 2824,\n",
              " 'behalf': 363,\n",
              " 'site': 3581,\n",
              " 'prescribed': 3005,\n",
              " 'cymbalta': 924,\n",
              " 'preventative': 3017,\n",
              " 'intractable': 2026,\n",
              " 'migraine': 2429,\n",
              " 'dealing': 950,\n",
              " 'due': 1179,\n",
              " 'chronic': 649,\n",
              " 'increase': 1950,\n",
              " 'awoke': 304,\n",
              " 'general': 1611,\n",
              " 'diarrhea': 1038,\n",
              " 'st': 3721,\n",
              " 'nd': 2561,\n",
              " 'three': 4001,\n",
              " 'night': 2594,\n",
              " 'literally': 2237,\n",
              " 'wake': 4306,\n",
              " 'run': 3389,\n",
              " 'bathroom': 335,\n",
              " 'awakened': 296,\n",
              " 'process': 3038,\n",
              " 'soiling': 3645,\n",
              " 'whole': 4385,\n",
              " 'stopped': 3767,\n",
              " 'talking': 3915,\n",
              " 'electric': 1231,\n",
              " 'zap': 4489,\n",
              " 'prozac': 3081,\n",
              " 'saver': 3417,\n",
              " 'invega': 2027,\n",
              " 'er': 1288,\n",
              " 'sorted': 3665,\n",
              " 'acute': 49,\n",
              " 'psychosis': 3094,\n",
              " 'organized': 2717,\n",
              " 'new': 2584,\n",
              " 'helpful': 1774,\n",
              " 'orthostatic': 2722,\n",
              " 'hypotension': 1882,\n",
              " 'drowsiness': 1169,\n",
              " 'easing': 1202,\n",
              " 'saviour': 3420,\n",
              " 'paranoia': 2798,\n",
              " 'etc': 1303,\n",
              " 'motivated': 2506,\n",
              " 'continuing': 818,\n",
              " 'pristiq': 3029,\n",
              " 'paliperidone': 2780,\n",
              " 'methadone': 2409,\n",
              " 'disc': 1071,\n",
              " 'degenerative': 975,\n",
              " 'disease': 1083,\n",
              " 'spinal': 3695,\n",
              " 'stenosis': 3748,\n",
              " 'effective': 1217,\n",
              " 'drug': 1171,\n",
              " 'induced': 1958,\n",
              " 'constipation': 801,\n",
              " 'maybe': 2361,\n",
              " 'lucky': 2296,\n",
              " 'negative': 2572,\n",
              " 'affect': 86,\n",
              " 'metallic': 2405,\n",
              " 'taste': 3925,\n",
              " 'notice': 2626,\n",
              " 'dif': 1047,\n",
              " 'breakfast': 472,\n",
              " 'lunch': 2299,\n",
              " 'amp': 163,\n",
              " 'dinner': 1060,\n",
              " 'reduce': 3209,\n",
              " 'rather': 3165,\n",
              " 'multiple': 2527,\n",
              " 'drank': 1146,\n",
              " 'alcohol': 117,\n",
              " 'contraceptive': 822,\n",
              " 'try': 4130,\n",
              " 'nexplanon': 2588,\n",
              " 'living': 2245,\n",
              " 'abroad': 8,\n",
              " 'access': 21,\n",
              " 'pharmacy': 2878,\n",
              " 'constant': 798,\n",
              " 'bleeding': 418,\n",
              " 'told': 4044,\n",
              " 'beginning': 360,\n",
              " 'tough': 4073,\n",
              " 'removed': 3276,\n",
              " 'gained': 1593,\n",
              " 'despite': 1016,\n",
              " 'eating': 1206,\n",
              " 'exercising': 1339,\n",
              " 'habit': 1705,\n",
              " 'regret': 3228,\n",
              " 'returning': 3333,\n",
              " 'removal': 3274,\n",
              " 'ago': 104,\n",
              " 'hyperhidrosis': 1872,\n",
              " 'forever': 1534,\n",
              " 'remember': 3266,\n",
              " 'elementary': 1234,\n",
              " 'played': 2922,\n",
              " 'hand': 1715,\n",
              " 'game': 1598,\n",
              " 'palm': 2781,\n",
              " 'sweat': 3878,\n",
              " 'disgusted': 1084,\n",
              " 'puberty': 3098,\n",
              " 'arm': 239,\n",
              " 'embrassing': 1242,\n",
              " 'wore': 4426,\n",
              " 'layer': 2152,\n",
              " 'clothes': 689,\n",
              " 'hide': 1789,\n",
              " 'shaking': 3518,\n",
              " 'hypercare': 1870,\n",
              " 'glad': 1635,\n",
              " 'doctor': 1115,\n",
              " 'suffers': 3835,\n",
              " 'tab': 3903,\n",
              " 'metronidazole': 2413,\n",
              " 'sick': 3553,\n",
              " 'wished': 4407,\n",
              " 'die': 1042,\n",
              " 'stomach': 3763,\n",
              " 'cramp': 880,\n",
              " 'bloating': 427,\n",
              " 'gas': 1602,\n",
              " 'daystomach': 947,\n",
              " 'cleared': 666,\n",
              " 'riddled': 3347,\n",
              " 'joint': 2074,\n",
              " 'hardly': 1729,\n",
              " 'move': 2514,\n",
              " 'wow': 4446,\n",
              " 'counter': 862,\n",
              " 'prescription': 3007,\n",
              " 'narcotic': 2545,\n",
              " 'cough': 855,\n",
              " 'zutripro': 4506,\n",
              " 'breath': 479,\n",
              " 'body': 443,\n",
              " 'breathed': 481,\n",
              " 'sigh': 3561,\n",
              " 'dos': 1125,\n",
              " 'vancouver': 4246,\n",
              " 'loose': 2266,\n",
              " 'yes': 4477,\n",
              " 'ibs': 1888,\n",
              " 'yeah': 4469,\n",
              " 'job': 2071,\n",
              " 'keeping': 2092,\n",
              " 'pregnant': 2994,\n",
              " 'caused': 585,\n",
              " 'numbness': 2643,\n",
              " 'foot': 1529,\n",
              " 'swing': 3885,\n",
              " 'specifically': 3683,\n",
              " 'irrational': 2037,\n",
              " 'anger': 170,\n",
              " 'gp': 1660,\n",
              " 'explained': 1365,\n",
              " 'micronor': 2420,\n",
              " 'progesterone': 3045,\n",
              " 'based': 328,\n",
              " 'pmsing': 2935,\n",
              " 'clock': 678,\n",
              " 'im': 1904,\n",
              " 'menstruating': 2391,\n",
              " 'yeast': 4472,\n",
              " 'infection': 1959,\n",
              " 'anribiotics': 179,\n",
              " 'bought': 460,\n",
              " 'monistat': 2486,\n",
              " 'egg': 1225,\n",
              " 'showered': 3549,\n",
              " 'inserted': 1989,\n",
              " 'cream': 888,\n",
              " 'sitting': 3582,\n",
              " 'toilet': 4043,\n",
              " 'tear': 3936,\n",
              " 'external': 1372,\n",
              " 'burn': 516,\n",
              " 'irritation': 2045,\n",
              " 'lord': 2270,\n",
              " 'plz': 2931,\n",
              " 'teen': 3939,\n",
              " 'gotten': 1657,\n",
              " 'early': 1197,\n",
              " 'proactiv': 3033,\n",
              " 'cutting': 918,\n",
              " 'anymore': 203,\n",
              " 'developing': 1027,\n",
              " 'cystic': 929,\n",
              " 'acne': 36,\n",
              " 'along': 137,\n",
              " 'jawlines': 2066,\n",
              " 'cheek': 625,\n",
              " 'made': 2316,\n",
              " 'unbelievably': 4171,\n",
              " 'dermatologist': 1007,\n",
              " 'aczone': 50,\n",
              " 'right': 3352,\n",
              " 'flat': 1492,\n",
              " 'amazed': 152,\n",
              " 'using': 4226,\n",
              " 'crazy': 887,\n",
              " 'completely': 753,\n",
              " 'product': 3040,\n",
              " 'milligram': 2437,\n",
              " 'lamotrigine': 2128,\n",
              " 'four': 1549,\n",
              " 'stop': 3766,\n",
              " 'mouth': 2511,\n",
              " 'downfall': 1134,\n",
              " 'dropped': 1166,\n",
              " 'point': 2938,\n",
              " 'acting': 41,\n",
              " 'insulin': 2004,\n",
              " 'zonegran': 4500,\n",
              " 'seizure': 3475,\n",
              " 'partial': 2803,\n",
              " 'began': 356,\n",
              " 'including': 1943,\n",
              " 'yogurt': 4483,\n",
              " 'daily': 931,\n",
              " 'diet': 1044,\n",
              " 'excluded': 1334,\n",
              " 'neurologist': 2579,\n",
              " 'looked': 2262,\n",
              " 'eye': 1380,\n",
              " 'caught': 583,\n",
              " 'pseudotumor': 3083,\n",
              " 'cerebri': 601,\n",
              " 'immediately': 1911,\n",
              " 'sent': 3488,\n",
              " 'brain': 468,\n",
              " 'scan': 3428,\n",
              " 'lumbar': 2297,\n",
              " 'puncture': 3106,\n",
              " 'minocycline': 2445,\n",
              " 'optometrist': 2711,\n",
              " 'regular': 3229,\n",
              " 'basis': 331,\n",
              " 'check': 623,\n",
              " 'vision': 4284,\n",
              " 'loss': 2276,\n",
              " 'propranolol': 3065,\n",
              " 'antibiotic': 185,\n",
              " 'tolerated': 4048,\n",
              " 'massive': 2351,\n",
              " 'gone': 1651,\n",
              " 'heartbeat': 1755,\n",
              " 'ear': 1194,\n",
              " 'tingling': 4029,\n",
              " 'soda': 3644,\n",
              " 'appetite': 216,\n",
              " 'often': 2682,\n",
              " 'break': 470,\n",
              " 'thin': 3987,\n",
              " 'tissue': 4035,\n",
              " 'warrant': 4324,\n",
              " 'cost': 850,\n",
              " 'copay': 842,\n",
              " 'price': 3023,\n",
              " 'gouging': 1658,\n",
              " 'generous': 1617,\n",
              " 'priced': 3024,\n",
              " 'bother': 456,\n",
              " 'estrace': 1301,\n",
              " 'weekly': 4354,\n",
              " 'nov': 2632,\n",
              " 'flare': 1488,\n",
              " 'totally': 4069,\n",
              " 'ra': 3138,\n",
              " 'bay': 339,\n",
              " 'orencia': 2716,\n",
              " 'expense': 1354,\n",
              " 'changed': 613,\n",
              " 'january': 2061,\n",
              " 'insist': 1995,\n",
              " 'humira': 1852,\n",
              " 'methotrexate': 2411,\n",
              " 'kidney': 2100,\n",
              " 'issue': 2048,\n",
              " 'terrified': 3969,\n",
              " 'yr': 4487,\n",
              " 'belief': 366,\n",
              " 'helped': 1772,\n",
              " 'remission': 3273,\n",
              " 'maintenance': 2325,\n",
              " 'flaring': 1489,\n",
              " 'prednisone': 2989,\n",
              " 'savior': 3419,\n",
              " 'step': 3750,\n",
              " 'remicade': 3269,\n",
              " 'uc': 4156,\n",
              " 'twenty': 4145,\n",
              " 'maintained': 2323,\n",
              " 'various': 4251,\n",
              " 'relatively': 3242,\n",
              " 'suddenly': 3830,\n",
              " 'age': 98,\n",
              " 'respond': 3307,\n",
              " 'removing': 3277,\n",
              " 'colon': 714,\n",
              " 'brought': 497,\n",
              " 'wonderful': 4420,\n",
              " 'gi': 1626,\n",
              " 'condition': 773,\n",
              " 'improve': 1925,\n",
              " 'infusion': 1969,\n",
              " 'every': 1313,\n",
              " 'grateful': 1667,\n",
              " 'immune': 1912,\n",
              " 'weakened': 4341,\n",
              " 'compare': 741,\n",
              " 'dying': 1190,\n",
              " 'surgery': 3864,\n",
              " 'everyone': 1316,\n",
              " 'stuff': 3805,\n",
              " 'awesome': 300,\n",
              " 'pink': 2906,\n",
              " 'bacterial': 313,\n",
              " 'type': 4153,\n",
              " 'vigamox': 4278,\n",
              " 'fibromyalgia': 1446,\n",
              " 'standard': 3731,\n",
              " 'treatment': 4101,\n",
              " 'norco': 2613,\n",
              " 'twice': 4146,\n",
              " 'tramadol': 4087,\n",
              " 'dayi': 946,\n",
              " 'leg': 2169,\n",
              " 'determined': 1021,\n",
              " 'adjusted': 67,\n",
              " 'longer': 2259,\n",
              " 'alternate': 146,\n",
              " 'pm': 2932,\n",
              " 'perfect': 2854,\n",
              " 'third': 3994,\n",
              " 'rsquo': 3383,\n",
              " 'gon': 1650,\n",
              " 'na': 2537,\n",
              " 'actually': 48,\n",
              " 'throwing': 4009,\n",
              " 'hope': 1817,\n",
              " 'cause': 584,\n",
              " 'stand': 3730,\n",
              " 'eleven': 1236,\n",
              " 'seventeen': 3506,\n",
              " 'touch': 4070,\n",
              " 'reality': 3182,\n",
              " 'figure': 1451,\n",
              " 'wrong': 4457,\n",
              " 'real': 3181,\n",
              " 'imaginary': 1906,\n",
              " 'world': 4432,\n",
              " 'express': 1369,\n",
              " 'xr': 4463,\n",
              " 'becoming': 350,\n",
              " 'regained': 3222,\n",
              " 'involved': 2032,\n",
              " 'truly': 4127,\n",
              " 'saved': 3415,\n",
              " 'seven': 3505,\n",
              " 'page': 2772,\n",
              " 'market': 2347,\n",
              " 'kill': 2101,\n",
              " 'provided': 3078,\n",
              " 'minimal': 2441,\n",
              " 'arthritic': 244,\n",
              " 'update': 4203,\n",
              " 'requip': 3291,\n",
              " 'post': 2959,\n",
              " 'rls': 3363,\n",
              " 'waiting': 4305,\n",
              " 'colonoscopy': 716,\n",
              " 'clinic': 676,\n",
              " 'husband': 1861,\n",
              " 'kept': 2095,\n",
              " 'dozing': 1140,\n",
              " 'looking': 2263,\n",
              " 'bottle': 458,\n",
              " 'purse': 3112,\n",
              " 'lap': 2131,\n",
              " 'happened': 1721,\n",
              " 'anyhow': 202,\n",
              " 'monday': 2484,\n",
              " 'home': 1810,\n",
              " 'woke': 4416,\n",
              " 'seat': 3459,\n",
              " 'window': 4399,\n",
              " 'reached': 3172,\n",
              " 'pushed': 3114,\n",
              " 'mirror': 2455,\n",
              " 'threw': 4003,\n",
              " 'rest': 3311,\n",
              " 'hysterectomy': 1885,\n",
              " 'december': 956,\n",
              " 'stage': 3727,\n",
              " 'leiomyosarcoma': 2172,\n",
              " 'rare': 3159,\n",
              " 'form': 1539,\n",
              " 'uterine': 4230,\n",
              " 'cancer': 556,\n",
              " 'gemzar': 1610,\n",
              " 'taxotere': 3928,\n",
              " 'cycle': 921,\n",
              " 'altogether': 149,\n",
              " 'hair': 1708,\n",
              " 'eyelash': 1383,\n",
              " 'brow': 498,\n",
              " 'peeling': 2839,\n",
              " 'edema': 1213,\n",
              " 'shortness': 3543,\n",
              " 'fever': 1442,\n",
              " 'bone': 446,\n",
              " 'muscle': 2530,\n",
              " 'ache': 30,\n",
              " 'follow': 1523,\n",
              " 'adriamycin': 74,\n",
              " 'baby': 307,\n",
              " 'aspirin': 259,\n",
              " 'completed': 752,\n",
              " 'chemo': 630,\n",
              " 'cat': 578,\n",
              " 'checked': 624,\n",
              " 'thankful': 3978,\n",
              " 'chose': 647,\n",
              " 'old': 2690,\n",
              " 'sweating': 3880,\n",
              " 'college': 713,\n",
              " 'loser': 2274,\n",
              " 'hung': 1854,\n",
              " 'basement': 329,\n",
              " 'friday': 1565,\n",
              " 'saturday': 3414,\n",
              " 'nonstop': 2609,\n",
              " 'courage': 868,\n",
              " 'talk': 3912,\n",
              " 'confidence': 775,\n",
              " 'conquer': 788,\n",
              " 'dream': 1151,\n",
              " 'thank': 3977,\n",
              " 'depressed': 1000,\n",
              " 'experiencing': 1359,\n",
              " 'family': 1402,\n",
              " 'member': 2386,\n",
              " 'citalopram': 658,\n",
              " 'quiet': 3129,\n",
              " 'non': 2603,\n",
              " 'talkative': 3913,\n",
              " 'person': 2868,\n",
              " 'speak': 3678,\n",
              " 'sociable': 3638,\n",
              " 'care': 568,\n",
              " 'considering': 794,\n",
              " 'alternative': 147,\n",
              " 'jumpy': 2085,\n",
              " 'noise': 2602,\n",
              " 'whatever': 4375,\n",
              " 'startle': 3737,\n",
              " 'gladly': 1636,\n",
              " 'cipro': 656,\n",
              " 'dizziness': 1110,\n",
              " 'passed': 2811,\n",
              " 'full': 1575,\n",
              " ...}"
            ]
          },
          "metadata": {},
          "execution_count": 49
        }
      ]
    },
    {
      "cell_type": "code",
      "source": [
        "print(tf_x_train[1].toarray())\n",
        "# The final vector of the example review\n",
        "# Note that most entries are 0 because the review only uses very small \n",
        "# amount of words in our corpus."
      ],
      "metadata": {
        "id": "zmCLjaN4lQBJ",
        "outputId": "b87f0c1a-7a5b-4037-f5e0-da1953d2bee3",
        "colab": {
          "base_uri": "https://localhost:8080/"
        }
      },
      "execution_count": 50,
      "outputs": [
        {
          "output_type": "stream",
          "name": "stdout",
          "text": [
            "[[0.         0.11404118 0.         ... 0.         0.         0.        ]]\n"
          ]
        }
      ]
    },
    {
      "cell_type": "code",
      "source": [
        "{v: k for k, v in vectorizer.vocabulary_.items()}[1]\n",
        "# The non-zero entry above refers to the word token 'abdomen', which is indeed\n",
        "# a word used in the review. "
      ],
      "metadata": {
        "id": "1x1ekazhnkkt",
        "outputId": "91747208-41d6-4670-e9ab-c4397d5c8cad",
        "colab": {
          "base_uri": "https://localhost:8080/",
          "height": 35
        }
      },
      "execution_count": 51,
      "outputs": [
        {
          "output_type": "execute_result",
          "data": {
            "text/plain": [
              "'abdomen'"
            ],
            "application/vnd.google.colaboratory.intrinsic+json": {
              "type": "string"
            }
          },
          "metadata": {},
          "execution_count": 51
        }
      ]
    },
    {
      "cell_type": "markdown",
      "source": [
        "---\n",
        "\n",
        "# S6. Model Development and Evaluation"
      ],
      "metadata": {
        "id": "TJg_7AyE3Kys"
      }
    },
    {
      "cell_type": "markdown",
      "source": [
        "Here, let us train a simple random forest model, with default settings, based on our list of 4,509 tokens/features from Option B to see if we can predict their associated ratings."
      ],
      "metadata": {
        "id": "bxbDv6rwgvYA"
      }
    },
    {
      "cell_type": "code",
      "source": [
        "from sklearn.ensemble import RandomForestClassifier\n",
        "from sklearn.metrics import classification_report, RocCurveDisplay"
      ],
      "metadata": {
        "id": "Ezz6_ZtcnYAK"
      },
      "execution_count": 52,
      "outputs": []
    },
    {
      "cell_type": "code",
      "source": [
        "model_ti = RandomForestClassifier()"
      ],
      "metadata": {
        "id": "2Kahv2CJkmqU"
      },
      "execution_count": 53,
      "outputs": []
    },
    {
      "cell_type": "code",
      "source": [
        "model_ti.fit(tf_x_train, y_train)"
      ],
      "metadata": {
        "id": "Nhi8Z54wMVbo",
        "colab": {
          "base_uri": "https://localhost:8080/",
          "height": 75
        },
        "outputId": "866df062-75b5-44d7-a7a8-4a8ce356b0d2"
      },
      "execution_count": 54,
      "outputs": [
        {
          "output_type": "execute_result",
          "data": {
            "text/plain": [
              "RandomForestClassifier()"
            ],
            "text/html": [
              "<style>#sk-container-id-1 {color: black;background-color: white;}#sk-container-id-1 pre{padding: 0;}#sk-container-id-1 div.sk-toggleable {background-color: white;}#sk-container-id-1 label.sk-toggleable__label {cursor: pointer;display: block;width: 100%;margin-bottom: 0;padding: 0.3em;box-sizing: border-box;text-align: center;}#sk-container-id-1 label.sk-toggleable__label-arrow:before {content: \"▸\";float: left;margin-right: 0.25em;color: #696969;}#sk-container-id-1 label.sk-toggleable__label-arrow:hover:before {color: black;}#sk-container-id-1 div.sk-estimator:hover label.sk-toggleable__label-arrow:before {color: black;}#sk-container-id-1 div.sk-toggleable__content {max-height: 0;max-width: 0;overflow: hidden;text-align: left;background-color: #f0f8ff;}#sk-container-id-1 div.sk-toggleable__content pre {margin: 0.2em;color: black;border-radius: 0.25em;background-color: #f0f8ff;}#sk-container-id-1 input.sk-toggleable__control:checked~div.sk-toggleable__content {max-height: 200px;max-width: 100%;overflow: auto;}#sk-container-id-1 input.sk-toggleable__control:checked~label.sk-toggleable__label-arrow:before {content: \"▾\";}#sk-container-id-1 div.sk-estimator input.sk-toggleable__control:checked~label.sk-toggleable__label {background-color: #d4ebff;}#sk-container-id-1 div.sk-label input.sk-toggleable__control:checked~label.sk-toggleable__label {background-color: #d4ebff;}#sk-container-id-1 input.sk-hidden--visually {border: 0;clip: rect(1px 1px 1px 1px);clip: rect(1px, 1px, 1px, 1px);height: 1px;margin: -1px;overflow: hidden;padding: 0;position: absolute;width: 1px;}#sk-container-id-1 div.sk-estimator {font-family: monospace;background-color: #f0f8ff;border: 1px dotted black;border-radius: 0.25em;box-sizing: border-box;margin-bottom: 0.5em;}#sk-container-id-1 div.sk-estimator:hover {background-color: #d4ebff;}#sk-container-id-1 div.sk-parallel-item::after {content: \"\";width: 100%;border-bottom: 1px solid gray;flex-grow: 1;}#sk-container-id-1 div.sk-label:hover label.sk-toggleable__label {background-color: #d4ebff;}#sk-container-id-1 div.sk-serial::before {content: \"\";position: absolute;border-left: 1px solid gray;box-sizing: border-box;top: 0;bottom: 0;left: 50%;z-index: 0;}#sk-container-id-1 div.sk-serial {display: flex;flex-direction: column;align-items: center;background-color: white;padding-right: 0.2em;padding-left: 0.2em;position: relative;}#sk-container-id-1 div.sk-item {position: relative;z-index: 1;}#sk-container-id-1 div.sk-parallel {display: flex;align-items: stretch;justify-content: center;background-color: white;position: relative;}#sk-container-id-1 div.sk-item::before, #sk-container-id-1 div.sk-parallel-item::before {content: \"\";position: absolute;border-left: 1px solid gray;box-sizing: border-box;top: 0;bottom: 0;left: 50%;z-index: -1;}#sk-container-id-1 div.sk-parallel-item {display: flex;flex-direction: column;z-index: 1;position: relative;background-color: white;}#sk-container-id-1 div.sk-parallel-item:first-child::after {align-self: flex-end;width: 50%;}#sk-container-id-1 div.sk-parallel-item:last-child::after {align-self: flex-start;width: 50%;}#sk-container-id-1 div.sk-parallel-item:only-child::after {width: 0;}#sk-container-id-1 div.sk-dashed-wrapped {border: 1px dashed gray;margin: 0 0.4em 0.5em 0.4em;box-sizing: border-box;padding-bottom: 0.4em;background-color: white;}#sk-container-id-1 div.sk-label label {font-family: monospace;font-weight: bold;display: inline-block;line-height: 1.2em;}#sk-container-id-1 div.sk-label-container {text-align: center;}#sk-container-id-1 div.sk-container {/* jupyter's `normalize.less` sets `[hidden] { display: none; }` but bootstrap.min.css set `[hidden] { display: none !important; }` so we also need the `!important` here to be able to override the default hidden behavior on the sphinx rendered scikit-learn.org. See: https://github.com/scikit-learn/scikit-learn/issues/21755 */display: inline-block !important;position: relative;}#sk-container-id-1 div.sk-text-repr-fallback {display: none;}</style><div id=\"sk-container-id-1\" class=\"sk-top-container\"><div class=\"sk-text-repr-fallback\"><pre>RandomForestClassifier()</pre><b>In a Jupyter environment, please rerun this cell to show the HTML representation or trust the notebook. <br />On GitHub, the HTML representation is unable to render, please try loading this page with nbviewer.org.</b></div><div class=\"sk-container\" hidden><div class=\"sk-item\"><div class=\"sk-estimator sk-toggleable\"><input class=\"sk-toggleable__control sk-hidden--visually\" id=\"sk-estimator-id-1\" type=\"checkbox\" checked><label for=\"sk-estimator-id-1\" class=\"sk-toggleable__label sk-toggleable__label-arrow\">RandomForestClassifier</label><div class=\"sk-toggleable__content\"><pre>RandomForestClassifier()</pre></div></div></div></div></div>"
            ]
          },
          "metadata": {},
          "execution_count": 54
        }
      ]
    },
    {
      "cell_type": "code",
      "source": [
        "y_pred_ti = model_ti.predict(tf_x_test)"
      ],
      "metadata": {
        "id": "M3P5scfLkxjI"
      },
      "execution_count": 55,
      "outputs": []
    },
    {
      "cell_type": "code",
      "source": [
        "print(classification_report(y_test, y_pred_ti))"
      ],
      "metadata": {
        "id": "20h6XG78Mrna",
        "outputId": "b354ee2a-6ca4-43b0-b2a7-936d496ea518",
        "colab": {
          "base_uri": "https://localhost:8080/"
        }
      },
      "execution_count": 56,
      "outputs": [
        {
          "output_type": "stream",
          "name": "stdout",
          "text": [
            "              precision    recall  f1-score   support\n",
            "\n",
            "           0       0.80      0.08      0.15        50\n",
            "           1       0.76      0.99      0.86       150\n",
            "\n",
            "    accuracy                           0.77       200\n",
            "   macro avg       0.78      0.54      0.50       200\n",
            "weighted avg       0.77      0.77      0.68       200\n",
            "\n"
          ]
        }
      ]
    },
    {
      "cell_type": "code",
      "source": [
        "import matplotlib.pyplot as plt\n",
        "fig, ax = plt.subplots(figsize=(6, 6)) # modify figure size\n",
        "RocCurveDisplay.from_estimator(model_ti, tf_x_test, y_test, ax = ax)"
      ],
      "metadata": {
        "colab": {
          "base_uri": "https://localhost:8080/",
          "height": 406
        },
        "id": "q3iR_9dXyQwx",
        "outputId": "9ebf67f2-b627-476b-9bc7-9a0c2eba3d1d"
      },
      "execution_count": 57,
      "outputs": [
        {
          "output_type": "execute_result",
          "data": {
            "text/plain": [
              "<sklearn.metrics._plot.roc_curve.RocCurveDisplay at 0x7f554d5792b0>"
            ]
          },
          "metadata": {},
          "execution_count": 57
        },
        {
          "output_type": "display_data",
          "data": {
            "text/plain": [
              "<Figure size 432x432 with 1 Axes>"
            ],
            "image/png": "[encoded data removed]"
          },
          "metadata": {
            "needs_background": "light"
          }
        }
      ]
    },
    {
      "cell_type": "code",
      "source": [
        "model_ti_importance = pd.Series(model_ti.feature_importances_, \n",
        "                                index=dict(sorted({v: k for k, v in vectorizer.vocabulary_.items()}.items())).values()).sort_values(ascending=False)\n",
        "model_ti_importance"
      ],
      "metadata": {
        "colab": {
          "base_uri": "https://localhost:8080/"
        },
        "id": "Mwlh6noYvc17",
        "outputId": "d3a39161-6f33-4499-87da-7ad0adc2948a"
      },
      "execution_count": 58,
      "outputs": [
        {
          "output_type": "execute_result",
          "data": {
            "text/plain": [
              "horrible       0.012890\n",
              "made           0.010076\n",
              "worst          0.009834\n",
              "pain           0.008479\n",
              "work           0.008376\n",
              "                 ...   \n",
              "prep           0.000000\n",
              "premedicate    0.000000\n",
              "premature      0.000000\n",
              "feraheme       0.000000\n",
              "zyprexa        0.000000\n",
              "Length: 4509, dtype: float64"
            ]
          },
          "metadata": {},
          "execution_count": 58
        }
      ]
    },
    {
      "cell_type": "code",
      "source": [
        "# show the 20 most influential word tokens\n",
        "import seaborn as sns\n",
        "\n",
        "plt.figure(figsize = (10, 10))\n",
        "sns.barplot(x = model_ti_importance[:20], y = model_ti_importance[:20].index)"
      ],
      "metadata": {
        "colab": {
          "base_uri": "https://localhost:8080/",
          "height": 610
        },
        "id": "0_kL27x6x0Pm",
        "outputId": "b6023294-27d4-457b-9604-2bcefb850340"
      },
      "execution_count": 59,
      "outputs": [
        {
          "output_type": "execute_result",
          "data": {
            "text/plain": [
              "<Axes: >"
            ]
          },
          "metadata": {},
          "execution_count": 59
        },
        {
          "output_type": "display_data",
          "data": {
            "text/plain": [
              "<Figure size 720x720 with 1 Axes>"
            ],
            "image/png": "[encoded data removed]"
          },
          "metadata": {
            "needs_background": "light"
          }
        }
      ]
    },
    {
      "cell_type": "markdown",
      "source": [
        "---\n",
        "\n",
        "# S7. Extras: Using OpenAI to Embed the Text Data"
      ],
      "metadata": {
        "id": "1HGtVcacetaC"
      }
    },
    {
      "cell_type": "markdown",
      "source": [
        "It is also possible to utilise external models and resources to obtain text embeddings and vectorizations. Sometimes this could help because these external large language models were trained on a very large body of text with a vast amount of model weights using advanced NLP techniques. Note that these could be paid services, but available for free within a certain usage. Here, we would use OpenAI's (developer of ChatGPT) [embeddings model](https://platform.openai.com/docs/guides/embeddings/what-are-embeddings) to vectorize our data. However, note that in order to use their embeddings and run the code in this section, you must have to have an [OpenAI account](https://platform.openai.com/signup) and obtain your own [OpenAI API key](https://help.openai.com/en/articles/4936850-where-do-i-find-my-secret-api-key). "
      ],
      "metadata": {
        "id": "Mj0RKSdgpjBX"
      }
    },
    {
      "cell_type": "markdown",
      "source": [
        "## S7.1 Set up OpenAI Environment"
      ],
      "metadata": {
        "id": "bTwHcnR39viM"
      }
    },
    {
      "cell_type": "code",
      "source": [
        "# Install openai package firt.\n",
        "!pip install openai"
      ],
      "metadata": {
        "id": "zQgeuRTR5Irq",
        "colab": {
          "base_uri": "https://localhost:8080/"
        },
        "outputId": "4e5b1e2e-3a72-4448-a624-3e51fd8bf9ff"
      },
      "execution_count": 60,
      "outputs": [
        {
          "output_type": "stream",
          "name": "stdout",
          "text": [
            "Looking in indexes: https://pypi.org/simple, https://us-python.pkg.dev/colab-wheels/public/simple/\n",
            "Collecting openai\n",
            "  Downloading openai-0.27.2-py3-none-any.whl (70 kB)\n",
            "\u001b[2K     \u001b[90m━━━━━━━━━━━━━━━━━━━━━━━━━━━━━━━━━━━━━━━━\u001b[0m \u001b[32m70.1/70.1 KB\u001b[0m \u001b[31m2.6 MB/s\u001b[0m eta \u001b[36m0:00:00\u001b[0m\n",
            "\u001b[?25hCollecting aiohttp\n",
            "  Downloading aiohttp-3.8.4-cp39-cp39-manylinux_2_17_x86_64.manylinux2014_x86_64.whl (1.0 MB)\n",
            "\u001b[2K     \u001b[90m━━━━━━━━━━━━━━━━━━━━━━━━━━━━━━━━━━━━━━━━\u001b[0m \u001b[32m1.0/1.0 MB\u001b[0m \u001b[31m17.2 MB/s\u001b[0m eta \u001b[36m0:00:00\u001b[0m\n",
            "\u001b[?25hRequirement already satisfied: tqdm in /usr/local/lib/python3.9/dist-packages (from openai) (4.65.0)\n",
            "Requirement already satisfied: requests>=2.20 in /usr/local/lib/python3.9/dist-packages (from openai) (2.25.1)\n",
            "Requirement already satisfied: chardet<5,>=3.0.2 in /usr/local/lib/python3.9/dist-packages (from requests>=2.20->openai) (4.0.0)\n",
            "Requirement already satisfied: idna<3,>=2.5 in /usr/local/lib/python3.9/dist-packages (from requests>=2.20->openai) (2.10)\n",
            "Requirement already satisfied: urllib3<1.27,>=1.21.1 in /usr/local/lib/python3.9/dist-packages (from requests>=2.20->openai) (1.26.15)\n",
            "Requirement already satisfied: certifi>=2017.4.17 in /usr/local/lib/python3.9/dist-packages (from requests>=2.20->openai) (2022.12.7)\n",
            "Collecting async-timeout<5.0,>=4.0.0a3\n",
            "  Downloading async_timeout-4.0.2-py3-none-any.whl (5.8 kB)\n",
            "Collecting aiosignal>=1.1.2\n",
            "  Downloading aiosignal-1.3.1-py3-none-any.whl (7.6 kB)\n",
            "Collecting multidict<7.0,>=4.5\n",
            "  Downloading multidict-6.0.4-cp39-cp39-manylinux_2_17_x86_64.manylinux2014_x86_64.whl (114 kB)\n",
            "\u001b[2K     \u001b[90m━━━━━━━━━━━━━━━━━━━━━━━━━━━━━━━━━━━━━━\u001b[0m \u001b[32m114.2/114.2 KB\u001b[0m \u001b[31m12.1 MB/s\u001b[0m eta \u001b[36m0:00:00\u001b[0m\n",
            "\u001b[?25hCollecting charset-normalizer<4.0,>=2.0\n",
            "  Downloading charset_normalizer-3.1.0-cp39-cp39-manylinux_2_17_x86_64.manylinux2014_x86_64.whl (199 kB)\n",
            "\u001b[2K     \u001b[90m━━━━━━━━━━━━━━━━━━━━━━━━━━━━━━━━━━━━━━\u001b[0m \u001b[32m199.2/199.2 KB\u001b[0m \u001b[31m19.8 MB/s\u001b[0m eta \u001b[36m0:00:00\u001b[0m\n",
            "\u001b[?25hCollecting frozenlist>=1.1.1\n",
            "  Downloading frozenlist-1.3.3-cp39-cp39-manylinux_2_5_x86_64.manylinux1_x86_64.manylinux_2_17_x86_64.manylinux2014_x86_64.whl (158 kB)\n",
            "\u001b[2K     \u001b[90m━━━━━━━━━━━━━━━━━━━━━━━━━━━━━━━━━━━━━━\u001b[0m \u001b[32m158.8/158.8 KB\u001b[0m \u001b[31m15.0 MB/s\u001b[0m eta \u001b[36m0:00:00\u001b[0m\n",
            "\u001b[?25hRequirement already satisfied: attrs>=17.3.0 in /usr/local/lib/python3.9/dist-packages (from aiohttp->openai) (22.2.0)\n",
            "Collecting yarl<2.0,>=1.0\n",
            "  Downloading yarl-1.8.2-cp39-cp39-manylinux_2_17_x86_64.manylinux2014_x86_64.whl (264 kB)\n",
            "\u001b[2K     \u001b[90m━━━━━━━━━━━━━━━━━━━━━━━━━━━━━━━━━━━━━━\u001b[0m \u001b[32m264.6/264.6 KB\u001b[0m \u001b[31m22.1 MB/s\u001b[0m eta \u001b[36m0:00:00\u001b[0m\n",
            "\u001b[?25hInstalling collected packages: multidict, frozenlist, charset-normalizer, async-timeout, yarl, aiosignal, aiohttp, openai\n",
            "Successfully installed aiohttp-3.8.4 aiosignal-1.3.1 async-timeout-4.0.2 charset-normalizer-3.1.0 frozenlist-1.3.3 multidict-6.0.4 openai-0.27.2 yarl-1.8.2\n"
          ]
        }
      ]
    },
    {
      "cell_type": "code",
      "source": [
        "# openai.api_key = os.getenv(\"OPENAI_API_KEY\")\n",
        "import openai\n",
        "from openai.embeddings_utils import get_embedding\n",
        "\n",
        "# Set up OpenAI API Key.\n",
        "# **Be sure to replace this with your own key.**\n",
        "openai.api_key = \"Your_OpenAI_API_Key\" \n",
        "\n",
        "# Choose and Set up our Embedding model.\n",
        "embedding_model = \"text-embedding-ada-002\"\n",
        "\n",
        "# Define the embedding function.\n",
        "def openai_embedding(sent):\n",
        "  ebd = get_embedding(sent, engine=embedding_model) # get_embedding returns a list\n",
        "  return ebd"
      ],
      "metadata": {
        "id": "sTTUTXqi7Oyy"
      },
      "execution_count": 61,
      "outputs": []
    },
    {
      "cell_type": "markdown",
      "source": [
        "## S7.2. Apply OpenAI's Embeddings Model"
      ],
      "metadata": {
        "id": "FLF4mHsNe-vQ"
      }
    },
    {
      "cell_type": "code",
      "source": [
        "# Vectorise the `review` column, save it into a new column called `embedding`\n",
        "# Note: this would take around 15mins to run\n",
        "train_set['embedding'] = train_set['review'].apply(lambda x: openai_embedding(x))\n",
        "test_set['embedding'] = test_set['review'].apply(lambda x: openai_embedding(x))"
      ],
      "metadata": {
        "id": "o0g_wymSe2iq"
      },
      "execution_count": null,
      "outputs": []
    },
    {
      "cell_type": "code",
      "source": [
        "train_set.to_csv(os.path.join(work_path, \"train_ebd.csv\"), index=False)\n",
        "train_set"
      ],
      "metadata": {
        "colab": {
          "base_uri": "https://localhost:8080/",
          "height": 424
        },
        "id": "ghYbFEaoGR59",
        "outputId": "fb8c51ed-dd28-41ba-fad0-610dbdb07ac6"
      },
      "execution_count": null,
      "outputs": [
        {
          "output_type": "execute_result",
          "data": {
            "text/plain": [
              "                                                review  rating  \\\n",
              "0    \"This was my first pill I have ever tried, and...       0   \n",
              "1    \"Hi there,\\r\\n\\r\\nI also wanted to write a pos...       1   \n",
              "2    \"I&#039;m basically a very hard sell when it c...       1   \n",
              "3    \"My son is 5 1/2. We&#039;ve always noticed hi...       1   \n",
              "4    \"I&#039;ve had it about 2 months now, and my e...       1   \n",
              "..                                                 ...     ...   \n",
              "795  \"I completely stopped having panic attacks aft...       1   \n",
              "796  \"I&#039;m 23, never given birth, had it insert...       1   \n",
              "797  \"I had Implanon for 3 years now. It&#039;s tim...       1   \n",
              "798  \"Simply wonderful. I took 20 mg for the first ...       1   \n",
              "799  \"I feel compelled to write a review on Pregaba...       1   \n",
              "\n",
              "                                             embedding  \n",
              "0    [-0.020019974559545517, -0.006721988786011934,...  \n",
              "1    [-0.03104434907436371, -0.010345912538468838, ...  \n",
              "2    [-0.009887202642858028, -0.0012491806410253048...  \n",
              "3    [-0.01926681026816368, 0.01790885627269745, 0....  \n",
              "4    [-0.04033423960208893, -0.005322061944752932, ...  \n",
              "..                                                 ...  \n",
              "795  [-0.012448159046471119, -0.00443376787006855, ...  \n",
              "796  [-0.03957827761769295, -0.015751084312796593, ...  \n",
              "797  [-0.034756749868392944, -0.013841633684933186,...  \n",
              "798  [-0.012502997182309628, 0.01459344569593668, 0...  \n",
              "799  [-0.01010673213750124, 0.017954466864466667, 0...  \n",
              "\n",
              "[800 rows x 3 columns]"
            ],
            "text/html": [
              "\n",
              "  <div id=\"df-4b58db36-4c0d-4959-a205-4010a7a1ff3c\">\n",
              "    <div class=\"colab-df-container\">\n",
              "      <div>\n",
              "<style scoped>\n",
              "    .dataframe tbody tr th:only-of-type {\n",
              "        vertical-align: middle;\n",
              "    }\n",
              "\n",
              "    .dataframe tbody tr th {\n",
              "        vertical-align: top;\n",
              "    }\n",
              "\n",
              "    .dataframe thead th {\n",
              "        text-align: right;\n",
              "    }\n",
              "</style>\n",
              "<table border=\"1\" class=\"dataframe\">\n",
              "  <thead>\n",
              "    <tr style=\"text-align: right;\">\n",
              "      <th></th>\n",
              "      <th>review</th>\n",
              "      <th>rating</th>\n",
              "      <th>embedding</th>\n",
              "    </tr>\n",
              "  </thead>\n",
              "  <tbody>\n",
              "    <tr>\n",
              "      <th>0</th>\n",
              "      <td>\"This was my first pill I have ever tried, and...</td>\n",
              "      <td>0</td>\n",
              "      <td>[-0.020019974559545517, -0.006721988786011934,...</td>\n",
              "    </tr>\n",
              "    <tr>\n",
              "      <th>1</th>\n",
              "      <td>\"Hi there,\\r\\n\\r\\nI also wanted to write a pos...</td>\n",
              "      <td>1</td>\n",
              "      <td>[-0.03104434907436371, -0.010345912538468838, ...</td>\n",
              "    </tr>\n",
              "    <tr>\n",
              "      <th>2</th>\n",
              "      <td>\"I&amp;#039;m basically a very hard sell when it c...</td>\n",
              "      <td>1</td>\n",
              "      <td>[-0.009887202642858028, -0.0012491806410253048...</td>\n",
              "    </tr>\n",
              "    <tr>\n",
              "      <th>3</th>\n",
              "      <td>\"My son is 5 1/2. We&amp;#039;ve always noticed hi...</td>\n",
              "      <td>1</td>\n",
              "      <td>[-0.01926681026816368, 0.01790885627269745, 0....</td>\n",
              "    </tr>\n",
              "    <tr>\n",
              "      <th>4</th>\n",
              "      <td>\"I&amp;#039;ve had it about 2 months now, and my e...</td>\n",
              "      <td>1</td>\n",
              "      <td>[-0.04033423960208893, -0.005322061944752932, ...</td>\n",
              "    </tr>\n",
              "    <tr>\n",
              "      <th>...</th>\n",
              "      <td>...</td>\n",
              "      <td>...</td>\n",
              "      <td>...</td>\n",
              "    </tr>\n",
              "    <tr>\n",
              "      <th>795</th>\n",
              "      <td>\"I completely stopped having panic attacks aft...</td>\n",
              "      <td>1</td>\n",
              "      <td>[-0.012448159046471119, -0.00443376787006855, ...</td>\n",
              "    </tr>\n",
              "    <tr>\n",
              "      <th>796</th>\n",
              "      <td>\"I&amp;#039;m 23, never given birth, had it insert...</td>\n",
              "      <td>1</td>\n",
              "      <td>[-0.03957827761769295, -0.015751084312796593, ...</td>\n",
              "    </tr>\n",
              "    <tr>\n",
              "      <th>797</th>\n",
              "      <td>\"I had Implanon for 3 years now. It&amp;#039;s tim...</td>\n",
              "      <td>1</td>\n",
              "      <td>[-0.034756749868392944, -0.013841633684933186,...</td>\n",
              "    </tr>\n",
              "    <tr>\n",
              "      <th>798</th>\n",
              "      <td>\"Simply wonderful. I took 20 mg for the first ...</td>\n",
              "      <td>1</td>\n",
              "      <td>[-0.012502997182309628, 0.01459344569593668, 0...</td>\n",
              "    </tr>\n",
              "    <tr>\n",
              "      <th>799</th>\n",
              "      <td>\"I feel compelled to write a review on Pregaba...</td>\n",
              "      <td>1</td>\n",
              "      <td>[-0.01010673213750124, 0.017954466864466667, 0...</td>\n",
              "    </tr>\n",
              "  </tbody>\n",
              "</table>\n",
              "<p>800 rows × 3 columns</p>\n",
              "</div>\n",
              "      <button class=\"colab-df-convert\" onclick=\"convertToInteractive('df-4b58db36-4c0d-4959-a205-4010a7a1ff3c')\"\n",
              "              title=\"Convert this dataframe to an interactive table.\"\n",
              "              style=\"display:none;\">\n",
              "        \n",
              "  <svg xmlns=\"http://www.w3.org/2000/svg\" height=\"24px\"viewBox=\"0 0 24 24\"\n",
              "       width=\"24px\">\n",
              "    <path d=\"M0 0h24v24H0V0z\" fill=\"none\"/>\n",
              "    <path d=\"M18.56 5.44l.94 2.06.94-2.06 2.06-.94-2.06-.94-.94-2.06-.94 2.06-2.06.94zm-11 1L8.5 8.5l.94-2.06 2.06-.94-2.06-.94L8.5 2.5l-.94 2.06-2.06.94zm10 10l.94 2.06.94-2.06 2.06-.94-2.06-.94-.94-2.06-.94 2.06-2.06.94z\"/><path d=\"M17.41 7.96l-1.37-1.37c-.4-.4-.92-.59-1.43-.59-.52 0-1.04.2-1.43.59L10.3 9.45l-7.72 7.72c-.78.78-.78 2.05 0 2.83L4 21.41c.39.39.9.59 1.41.59.51 0 1.02-.2 1.41-.59l7.78-7.78 2.81-2.81c.8-.78.8-2.07 0-2.86zM5.41 20L4 18.59l7.72-7.72 1.47 1.35L5.41 20z\"/>\n",
              "  </svg>\n",
              "      </button>\n",
              "      \n",
              "  <style>\n",
              "    .colab-df-container {\n",
              "      display:flex;\n",
              "      flex-wrap:wrap;\n",
              "      gap: 12px;\n",
              "    }\n",
              "\n",
              "    .colab-df-convert {\n",
              "      background-color: #E8F0FE;\n",
              "      border: none;\n",
              "      border-radius: 50%;\n",
              "      cursor: pointer;\n",
              "      display: none;\n",
              "      fill: #1967D2;\n",
              "      height: 32px;\n",
              "      padding: 0 0 0 0;\n",
              "      width: 32px;\n",
              "    }\n",
              "\n",
              "    .colab-df-convert:hover {\n",
              "      background-color: #E2EBFA;\n",
              "      box-shadow: 0px 1px 2px rgba(60, 64, 67, 0.3), 0px 1px 3px 1px rgba(60, 64, 67, 0.15);\n",
              "      fill: #174EA6;\n",
              "    }\n",
              "\n",
              "    [theme=dark] .colab-df-convert {\n",
              "      background-color: #3B4455;\n",
              "      fill: #D2E3FC;\n",
              "    }\n",
              "\n",
              "    [theme=dark] .colab-df-convert:hover {\n",
              "      background-color: #434B5C;\n",
              "      box-shadow: 0px 1px 3px 1px rgba(0, 0, 0, 0.15);\n",
              "      filter: drop-shadow(0px 1px 2px rgba(0, 0, 0, 0.3));\n",
              "      fill: #FFFFFF;\n",
              "    }\n",
              "  </style>\n",
              "\n",
              "      <script>\n",
              "        const buttonEl =\n",
              "          document.querySelector('#df-4b58db36-4c0d-4959-a205-4010a7a1ff3c button.colab-df-convert');\n",
              "        buttonEl.style.display =\n",
              "          google.colab.kernel.accessAllowed ? 'block' : 'none';\n",
              "\n",
              "        async function convertToInteractive(key) {\n",
              "          const element = document.querySelector('#df-4b58db36-4c0d-4959-a205-4010a7a1ff3c');\n",
              "          const dataTable =\n",
              "            await google.colab.kernel.invokeFunction('convertToInteractive',\n",
              "                                                     [key], {});\n",
              "          if (!dataTable) return;\n",
              "\n",
              "          const docLinkHtml = 'Like what you see? Visit the ' +\n",
              "            '<a target=\"_blank\" href=https://colab.research.google.com/notebooks/data_table.ipynb>data table notebook</a>'\n",
              "            + ' to learn more about interactive tables.';\n",
              "          element.innerHTML = '';\n",
              "          dataTable['output_type'] = 'display_data';\n",
              "          await google.colab.output.renderOutput(dataTable, element);\n",
              "          const docLink = document.createElement('div');\n",
              "          docLink.innerHTML = docLinkHtml;\n",
              "          element.appendChild(docLink);\n",
              "        }\n",
              "      </script>\n",
              "    </div>\n",
              "  </div>\n",
              "  "
            ]
          },
          "metadata": {},
          "execution_count": 73
        }
      ]
    },
    {
      "cell_type": "code",
      "source": [
        "test_set.to_csv(os.path.join(work_path, \"test_ebd.csv\"), index=False)\n",
        "test_set"
      ],
      "metadata": {
        "colab": {
          "base_uri": "https://localhost:8080/",
          "height": 424
        },
        "id": "eBMXJu3rGR8t",
        "outputId": "bbe1248e-a744-40fb-dc6a-76b6e08fd12d"
      },
      "execution_count": null,
      "outputs": [
        {
          "output_type": "execute_result",
          "data": {
            "text/plain": [
              "                                                review  rating  \\\n",
              "0    \"I turned into a total zombie on this.  Litera...       0   \n",
              "1    \"I took this yesterday after a whole night wit...       1   \n",
              "2    \"I have been on Latuda 80mg for almost 2 month...       0   \n",
              "3    \"I have been taking Victoza 1.2mg for about a ...       1   \n",
              "4    \"I started Siliq 6 months ago at 90 % body cov...       1   \n",
              "..                                                 ...     ...   \n",
              "195  \"I took this pill next day after having unprot...       1   \n",
              "196  \"I&#039;ve loved Nexplanon. The insertion was ...       1   \n",
              "197  \"I receive the highest dose of this drug for s...       1   \n",
              "198  \"I absolutely hate this medication. I had cold...       0   \n",
              "199  \"As soon as rag weed season starts in the mid-...       1   \n",
              "\n",
              "                                             embedding  \n",
              "0    [-0.017004311084747314, -0.005068468861281872,...  \n",
              "1    [-0.00977715291082859, 0.00031594507163390517,...  \n",
              "2    [-0.007015461102128029, 0.01202203519642353, 0...  \n",
              "3    [-0.011468385346233845, -0.028590109199285507,...  \n",
              "4    [0.007943474687635899, 0.0037498159799724817, ...  \n",
              "..                                                 ...  \n",
              "195  [-0.03533007577061653, -0.009008128196001053, ...  \n",
              "196  [-0.04101385176181793, 0.0009351476328447461, ...  \n",
              "197  [-0.016397397965192795, 0.019382361322641373, ...  \n",
              "198  [-0.0002996751863975078, 0.0213263351470232, 0...  \n",
              "199  [-0.014169487170875072, 0.01309845969080925, -...  \n",
              "\n",
              "[200 rows x 3 columns]"
            ],
            "text/html": [
              "\n",
              "  <div id=\"df-d09b6e57-700a-4126-86bc-9b46bcf289ed\">\n",
              "    <div class=\"colab-df-container\">\n",
              "      <div>\n",
              "<style scoped>\n",
              "    .dataframe tbody tr th:only-of-type {\n",
              "        vertical-align: middle;\n",
              "    }\n",
              "\n",
              "    .dataframe tbody tr th {\n",
              "        vertical-align: top;\n",
              "    }\n",
              "\n",
              "    .dataframe thead th {\n",
              "        text-align: right;\n",
              "    }\n",
              "</style>\n",
              "<table border=\"1\" class=\"dataframe\">\n",
              "  <thead>\n",
              "    <tr style=\"text-align: right;\">\n",
              "      <th></th>\n",
              "      <th>review</th>\n",
              "      <th>rating</th>\n",
              "      <th>embedding</th>\n",
              "    </tr>\n",
              "  </thead>\n",
              "  <tbody>\n",
              "    <tr>\n",
              "      <th>0</th>\n",
              "      <td>\"I turned into a total zombie on this.  Litera...</td>\n",
              "      <td>0</td>\n",
              "      <td>[-0.017004311084747314, -0.005068468861281872,...</td>\n",
              "    </tr>\n",
              "    <tr>\n",
              "      <th>1</th>\n",
              "      <td>\"I took this yesterday after a whole night wit...</td>\n",
              "      <td>1</td>\n",
              "      <td>[-0.00977715291082859, 0.00031594507163390517,...</td>\n",
              "    </tr>\n",
              "    <tr>\n",
              "      <th>2</th>\n",
              "      <td>\"I have been on Latuda 80mg for almost 2 month...</td>\n",
              "      <td>0</td>\n",
              "      <td>[-0.007015461102128029, 0.01202203519642353, 0...</td>\n",
              "    </tr>\n",
              "    <tr>\n",
              "      <th>3</th>\n",
              "      <td>\"I have been taking Victoza 1.2mg for about a ...</td>\n",
              "      <td>1</td>\n",
              "      <td>[-0.011468385346233845, -0.028590109199285507,...</td>\n",
              "    </tr>\n",
              "    <tr>\n",
              "      <th>4</th>\n",
              "      <td>\"I started Siliq 6 months ago at 90 % body cov...</td>\n",
              "      <td>1</td>\n",
              "      <td>[0.007943474687635899, 0.0037498159799724817, ...</td>\n",
              "    </tr>\n",
              "    <tr>\n",
              "      <th>...</th>\n",
              "      <td>...</td>\n",
              "      <td>...</td>\n",
              "      <td>...</td>\n",
              "    </tr>\n",
              "    <tr>\n",
              "      <th>195</th>\n",
              "      <td>\"I took this pill next day after having unprot...</td>\n",
              "      <td>1</td>\n",
              "      <td>[-0.03533007577061653, -0.009008128196001053, ...</td>\n",
              "    </tr>\n",
              "    <tr>\n",
              "      <th>196</th>\n",
              "      <td>\"I&amp;#039;ve loved Nexplanon. The insertion was ...</td>\n",
              "      <td>1</td>\n",
              "      <td>[-0.04101385176181793, 0.0009351476328447461, ...</td>\n",
              "    </tr>\n",
              "    <tr>\n",
              "      <th>197</th>\n",
              "      <td>\"I receive the highest dose of this drug for s...</td>\n",
              "      <td>1</td>\n",
              "      <td>[-0.016397397965192795, 0.019382361322641373, ...</td>\n",
              "    </tr>\n",
              "    <tr>\n",
              "      <th>198</th>\n",
              "      <td>\"I absolutely hate this medication. I had cold...</td>\n",
              "      <td>0</td>\n",
              "      <td>[-0.0002996751863975078, 0.0213263351470232, 0...</td>\n",
              "    </tr>\n",
              "    <tr>\n",
              "      <th>199</th>\n",
              "      <td>\"As soon as rag weed season starts in the mid-...</td>\n",
              "      <td>1</td>\n",
              "      <td>[-0.014169487170875072, 0.01309845969080925, -...</td>\n",
              "    </tr>\n",
              "  </tbody>\n",
              "</table>\n",
              "<p>200 rows × 3 columns</p>\n",
              "</div>\n",
              "      <button class=\"colab-df-convert\" onclick=\"convertToInteractive('df-d09b6e57-700a-4126-86bc-9b46bcf289ed')\"\n",
              "              title=\"Convert this dataframe to an interactive table.\"\n",
              "              style=\"display:none;\">\n",
              "        \n",
              "  <svg xmlns=\"http://www.w3.org/2000/svg\" height=\"24px\"viewBox=\"0 0 24 24\"\n",
              "       width=\"24px\">\n",
              "    <path d=\"M0 0h24v24H0V0z\" fill=\"none\"/>\n",
              "    <path d=\"M18.56 5.44l.94 2.06.94-2.06 2.06-.94-2.06-.94-.94-2.06-.94 2.06-2.06.94zm-11 1L8.5 8.5l.94-2.06 2.06-.94-2.06-.94L8.5 2.5l-.94 2.06-2.06.94zm10 10l.94 2.06.94-2.06 2.06-.94-2.06-.94-.94-2.06-.94 2.06-2.06.94z\"/><path d=\"M17.41 7.96l-1.37-1.37c-.4-.4-.92-.59-1.43-.59-.52 0-1.04.2-1.43.59L10.3 9.45l-7.72 7.72c-.78.78-.78 2.05 0 2.83L4 21.41c.39.39.9.59 1.41.59.51 0 1.02-.2 1.41-.59l7.78-7.78 2.81-2.81c.8-.78.8-2.07 0-2.86zM5.41 20L4 18.59l7.72-7.72 1.47 1.35L5.41 20z\"/>\n",
              "  </svg>\n",
              "      </button>\n",
              "      \n",
              "  <style>\n",
              "    .colab-df-container {\n",
              "      display:flex;\n",
              "      flex-wrap:wrap;\n",
              "      gap: 12px;\n",
              "    }\n",
              "\n",
              "    .colab-df-convert {\n",
              "      background-color: #E8F0FE;\n",
              "      border: none;\n",
              "      border-radius: 50%;\n",
              "      cursor: pointer;\n",
              "      display: none;\n",
              "      fill: #1967D2;\n",
              "      height: 32px;\n",
              "      padding: 0 0 0 0;\n",
              "      width: 32px;\n",
              "    }\n",
              "\n",
              "    .colab-df-convert:hover {\n",
              "      background-color: #E2EBFA;\n",
              "      box-shadow: 0px 1px 2px rgba(60, 64, 67, 0.3), 0px 1px 3px 1px rgba(60, 64, 67, 0.15);\n",
              "      fill: #174EA6;\n",
              "    }\n",
              "\n",
              "    [theme=dark] .colab-df-convert {\n",
              "      background-color: #3B4455;\n",
              "      fill: #D2E3FC;\n",
              "    }\n",
              "\n",
              "    [theme=dark] .colab-df-convert:hover {\n",
              "      background-color: #434B5C;\n",
              "      box-shadow: 0px 1px 3px 1px rgba(0, 0, 0, 0.15);\n",
              "      filter: drop-shadow(0px 1px 2px rgba(0, 0, 0, 0.3));\n",
              "      fill: #FFFFFF;\n",
              "    }\n",
              "  </style>\n",
              "\n",
              "      <script>\n",
              "        const buttonEl =\n",
              "          document.querySelector('#df-d09b6e57-700a-4126-86bc-9b46bcf289ed button.colab-df-convert');\n",
              "        buttonEl.style.display =\n",
              "          google.colab.kernel.accessAllowed ? 'block' : 'none';\n",
              "\n",
              "        async function convertToInteractive(key) {\n",
              "          const element = document.querySelector('#df-d09b6e57-700a-4126-86bc-9b46bcf289ed');\n",
              "          const dataTable =\n",
              "            await google.colab.kernel.invokeFunction('convertToInteractive',\n",
              "                                                     [key], {});\n",
              "          if (!dataTable) return;\n",
              "\n",
              "          const docLinkHtml = 'Like what you see? Visit the ' +\n",
              "            '<a target=\"_blank\" href=https://colab.research.google.com/notebooks/data_table.ipynb>data table notebook</a>'\n",
              "            + ' to learn more about interactive tables.';\n",
              "          element.innerHTML = '';\n",
              "          dataTable['output_type'] = 'display_data';\n",
              "          await google.colab.output.renderOutput(dataTable, element);\n",
              "          const docLink = document.createElement('div');\n",
              "          docLink.innerHTML = docLinkHtml;\n",
              "          element.appendChild(docLink);\n",
              "        }\n",
              "      </script>\n",
              "    </div>\n",
              "  </div>\n",
              "  "
            ]
          },
          "metadata": {},
          "execution_count": 74
        }
      ]
    },
    {
      "cell_type": "code",
      "source": [
        "train_ebd = pd.read_csv(os.path.join(work_path, \"train_ebd.csv\"))\n",
        "train_ebd['embedding'] = train_ebd.embedding.apply(eval).apply(np.array)\n",
        "\n",
        "train_ebd = train_ebd[['rating', 'embedding']]\n",
        "train_ebd"
      ],
      "metadata": {
        "colab": {
          "base_uri": "https://localhost:8080/",
          "height": 424
        },
        "id": "AL-oO7H7GSCG",
        "outputId": "414f94e9-9c80-40dc-c961-26165e3f9dde"
      },
      "execution_count": null,
      "outputs": [
        {
          "output_type": "execute_result",
          "data": {
            "text/plain": [
              "     rating                                          embedding\n",
              "0         0  [-0.020019974559545517, -0.006721988786011934,...\n",
              "1         1  [-0.03104434907436371, -0.010345912538468838, ...\n",
              "2         1  [-0.009887202642858028, -0.0012491806410253048...\n",
              "3         1  [-0.01926681026816368, 0.01790885627269745, 0....\n",
              "4         1  [-0.04033423960208893, -0.005322061944752932, ...\n",
              "..      ...                                                ...\n",
              "795       1  [-0.012448159046471119, -0.00443376787006855, ...\n",
              "796       1  [-0.03957827761769295, -0.015751084312796593, ...\n",
              "797       1  [-0.034756749868392944, -0.013841633684933186,...\n",
              "798       1  [-0.012502997182309628, 0.01459344569593668, 0...\n",
              "799       1  [-0.01010673213750124, 0.017954466864466667, 0...\n",
              "\n",
              "[800 rows x 2 columns]"
            ],
            "text/html": [
              "\n",
              "  <div id=\"df-b3484017-a11e-4af3-976a-99176886f1c4\">\n",
              "    <div class=\"colab-df-container\">\n",
              "      <div>\n",
              "<style scoped>\n",
              "    .dataframe tbody tr th:only-of-type {\n",
              "        vertical-align: middle;\n",
              "    }\n",
              "\n",
              "    .dataframe tbody tr th {\n",
              "        vertical-align: top;\n",
              "    }\n",
              "\n",
              "    .dataframe thead th {\n",
              "        text-align: right;\n",
              "    }\n",
              "</style>\n",
              "<table border=\"1\" class=\"dataframe\">\n",
              "  <thead>\n",
              "    <tr style=\"text-align: right;\">\n",
              "      <th></th>\n",
              "      <th>rating</th>\n",
              "      <th>embedding</th>\n",
              "    </tr>\n",
              "  </thead>\n",
              "  <tbody>\n",
              "    <tr>\n",
              "      <th>0</th>\n",
              "      <td>0</td>\n",
              "      <td>[-0.020019974559545517, -0.006721988786011934,...</td>\n",
              "    </tr>\n",
              "    <tr>\n",
              "      <th>1</th>\n",
              "      <td>1</td>\n",
              "      <td>[-0.03104434907436371, -0.010345912538468838, ...</td>\n",
              "    </tr>\n",
              "    <tr>\n",
              "      <th>2</th>\n",
              "      <td>1</td>\n",
              "      <td>[-0.009887202642858028, -0.0012491806410253048...</td>\n",
              "    </tr>\n",
              "    <tr>\n",
              "      <th>3</th>\n",
              "      <td>1</td>\n",
              "      <td>[-0.01926681026816368, 0.01790885627269745, 0....</td>\n",
              "    </tr>\n",
              "    <tr>\n",
              "      <th>4</th>\n",
              "      <td>1</td>\n",
              "      <td>[-0.04033423960208893, -0.005322061944752932, ...</td>\n",
              "    </tr>\n",
              "    <tr>\n",
              "      <th>...</th>\n",
              "      <td>...</td>\n",
              "      <td>...</td>\n",
              "    </tr>\n",
              "    <tr>\n",
              "      <th>795</th>\n",
              "      <td>1</td>\n",
              "      <td>[-0.012448159046471119, -0.00443376787006855, ...</td>\n",
              "    </tr>\n",
              "    <tr>\n",
              "      <th>796</th>\n",
              "      <td>1</td>\n",
              "      <td>[-0.03957827761769295, -0.015751084312796593, ...</td>\n",
              "    </tr>\n",
              "    <tr>\n",
              "      <th>797</th>\n",
              "      <td>1</td>\n",
              "      <td>[-0.034756749868392944, -0.013841633684933186,...</td>\n",
              "    </tr>\n",
              "    <tr>\n",
              "      <th>798</th>\n",
              "      <td>1</td>\n",
              "      <td>[-0.012502997182309628, 0.01459344569593668, 0...</td>\n",
              "    </tr>\n",
              "    <tr>\n",
              "      <th>799</th>\n",
              "      <td>1</td>\n",
              "      <td>[-0.01010673213750124, 0.017954466864466667, 0...</td>\n",
              "    </tr>\n",
              "  </tbody>\n",
              "</table>\n",
              "<p>800 rows × 2 columns</p>\n",
              "</div>\n",
              "      <button class=\"colab-df-convert\" onclick=\"convertToInteractive('df-b3484017-a11e-4af3-976a-99176886f1c4')\"\n",
              "              title=\"Convert this dataframe to an interactive table.\"\n",
              "              style=\"display:none;\">\n",
              "        \n",
              "  <svg xmlns=\"http://www.w3.org/2000/svg\" height=\"24px\"viewBox=\"0 0 24 24\"\n",
              "       width=\"24px\">\n",
              "    <path d=\"M0 0h24v24H0V0z\" fill=\"none\"/>\n",
              "    <path d=\"M18.56 5.44l.94 2.06.94-2.06 2.06-.94-2.06-.94-.94-2.06-.94 2.06-2.06.94zm-11 1L8.5 8.5l.94-2.06 2.06-.94-2.06-.94L8.5 2.5l-.94 2.06-2.06.94zm10 10l.94 2.06.94-2.06 2.06-.94-2.06-.94-.94-2.06-.94 2.06-2.06.94z\"/><path d=\"M17.41 7.96l-1.37-1.37c-.4-.4-.92-.59-1.43-.59-.52 0-1.04.2-1.43.59L10.3 9.45l-7.72 7.72c-.78.78-.78 2.05 0 2.83L4 21.41c.39.39.9.59 1.41.59.51 0 1.02-.2 1.41-.59l7.78-7.78 2.81-2.81c.8-.78.8-2.07 0-2.86zM5.41 20L4 18.59l7.72-7.72 1.47 1.35L5.41 20z\"/>\n",
              "  </svg>\n",
              "      </button>\n",
              "      \n",
              "  <style>\n",
              "    .colab-df-container {\n",
              "      display:flex;\n",
              "      flex-wrap:wrap;\n",
              "      gap: 12px;\n",
              "    }\n",
              "\n",
              "    .colab-df-convert {\n",
              "      background-color: #E8F0FE;\n",
              "      border: none;\n",
              "      border-radius: 50%;\n",
              "      cursor: pointer;\n",
              "      display: none;\n",
              "      fill: #1967D2;\n",
              "      height: 32px;\n",
              "      padding: 0 0 0 0;\n",
              "      width: 32px;\n",
              "    }\n",
              "\n",
              "    .colab-df-convert:hover {\n",
              "      background-color: #E2EBFA;\n",
              "      box-shadow: 0px 1px 2px rgba(60, 64, 67, 0.3), 0px 1px 3px 1px rgba(60, 64, 67, 0.15);\n",
              "      fill: #174EA6;\n",
              "    }\n",
              "\n",
              "    [theme=dark] .colab-df-convert {\n",
              "      background-color: #3B4455;\n",
              "      fill: #D2E3FC;\n",
              "    }\n",
              "\n",
              "    [theme=dark] .colab-df-convert:hover {\n",
              "      background-color: #434B5C;\n",
              "      box-shadow: 0px 1px 3px 1px rgba(0, 0, 0, 0.15);\n",
              "      filter: drop-shadow(0px 1px 2px rgba(0, 0, 0, 0.3));\n",
              "      fill: #FFFFFF;\n",
              "    }\n",
              "  </style>\n",
              "\n",
              "      <script>\n",
              "        const buttonEl =\n",
              "          document.querySelector('#df-b3484017-a11e-4af3-976a-99176886f1c4 button.colab-df-convert');\n",
              "        buttonEl.style.display =\n",
              "          google.colab.kernel.accessAllowed ? 'block' : 'none';\n",
              "\n",
              "        async function convertToInteractive(key) {\n",
              "          const element = document.querySelector('#df-b3484017-a11e-4af3-976a-99176886f1c4');\n",
              "          const dataTable =\n",
              "            await google.colab.kernel.invokeFunction('convertToInteractive',\n",
              "                                                     [key], {});\n",
              "          if (!dataTable) return;\n",
              "\n",
              "          const docLinkHtml = 'Like what you see? Visit the ' +\n",
              "            '<a target=\"_blank\" href=https://colab.research.google.com/notebooks/data_table.ipynb>data table notebook</a>'\n",
              "            + ' to learn more about interactive tables.';\n",
              "          element.innerHTML = '';\n",
              "          dataTable['output_type'] = 'display_data';\n",
              "          await google.colab.output.renderOutput(dataTable, element);\n",
              "          const docLink = document.createElement('div');\n",
              "          docLink.innerHTML = docLinkHtml;\n",
              "          element.appendChild(docLink);\n",
              "        }\n",
              "      </script>\n",
              "    </div>\n",
              "  </div>\n",
              "  "
            ]
          },
          "metadata": {},
          "execution_count": 90
        }
      ]
    },
    {
      "cell_type": "code",
      "source": [
        "test_ebd = pd.read_csv(os.path.join(work_path, \"test_ebd.csv\"))\n",
        "test_ebd['embedding'] = test_ebd.embedding.apply(eval).apply(np.array)\n",
        "\n",
        "test_ebd = test_ebd[['rating', 'embedding']]\n",
        "test_ebd"
      ],
      "metadata": {
        "colab": {
          "base_uri": "https://localhost:8080/",
          "height": 424
        },
        "id": "V4KckO7AfIi7",
        "outputId": "1eb0bfff-bb06-4e6c-f210-870e82974556"
      },
      "execution_count": null,
      "outputs": [
        {
          "output_type": "execute_result",
          "data": {
            "text/plain": [
              "     rating                                          embedding\n",
              "0         0  [-0.017004311084747314, -0.005068468861281872,...\n",
              "1         1  [-0.00977715291082859, 0.00031594507163390517,...\n",
              "2         0  [-0.007015461102128029, 0.01202203519642353, 0...\n",
              "3         1  [-0.011468385346233845, -0.028590109199285507,...\n",
              "4         1  [0.007943474687635899, 0.0037498159799724817, ...\n",
              "..      ...                                                ...\n",
              "195       1  [-0.03533007577061653, -0.009008128196001053, ...\n",
              "196       1  [-0.04101385176181793, 0.0009351476328447461, ...\n",
              "197       1  [-0.016397397965192795, 0.019382361322641373, ...\n",
              "198       0  [-0.0002996751863975078, 0.0213263351470232, 0...\n",
              "199       1  [-0.014169487170875072, 0.01309845969080925, -...\n",
              "\n",
              "[200 rows x 2 columns]"
            ],
            "text/html": [
              "\n",
              "  <div id=\"df-97732ac2-a0c7-4300-9692-8544fa506995\">\n",
              "    <div class=\"colab-df-container\">\n",
              "      <div>\n",
              "<style scoped>\n",
              "    .dataframe tbody tr th:only-of-type {\n",
              "        vertical-align: middle;\n",
              "    }\n",
              "\n",
              "    .dataframe tbody tr th {\n",
              "        vertical-align: top;\n",
              "    }\n",
              "\n",
              "    .dataframe thead th {\n",
              "        text-align: right;\n",
              "    }\n",
              "</style>\n",
              "<table border=\"1\" class=\"dataframe\">\n",
              "  <thead>\n",
              "    <tr style=\"text-align: right;\">\n",
              "      <th></th>\n",
              "      <th>rating</th>\n",
              "      <th>embedding</th>\n",
              "    </tr>\n",
              "  </thead>\n",
              "  <tbody>\n",
              "    <tr>\n",
              "      <th>0</th>\n",
              "      <td>0</td>\n",
              "      <td>[-0.017004311084747314, -0.005068468861281872,...</td>\n",
              "    </tr>\n",
              "    <tr>\n",
              "      <th>1</th>\n",
              "      <td>1</td>\n",
              "      <td>[-0.00977715291082859, 0.00031594507163390517,...</td>\n",
              "    </tr>\n",
              "    <tr>\n",
              "      <th>2</th>\n",
              "      <td>0</td>\n",
              "      <td>[-0.007015461102128029, 0.01202203519642353, 0...</td>\n",
              "    </tr>\n",
              "    <tr>\n",
              "      <th>3</th>\n",
              "      <td>1</td>\n",
              "      <td>[-0.011468385346233845, -0.028590109199285507,...</td>\n",
              "    </tr>\n",
              "    <tr>\n",
              "      <th>4</th>\n",
              "      <td>1</td>\n",
              "      <td>[0.007943474687635899, 0.0037498159799724817, ...</td>\n",
              "    </tr>\n",
              "    <tr>\n",
              "      <th>...</th>\n",
              "      <td>...</td>\n",
              "      <td>...</td>\n",
              "    </tr>\n",
              "    <tr>\n",
              "      <th>195</th>\n",
              "      <td>1</td>\n",
              "      <td>[-0.03533007577061653, -0.009008128196001053, ...</td>\n",
              "    </tr>\n",
              "    <tr>\n",
              "      <th>196</th>\n",
              "      <td>1</td>\n",
              "      <td>[-0.04101385176181793, 0.0009351476328447461, ...</td>\n",
              "    </tr>\n",
              "    <tr>\n",
              "      <th>197</th>\n",
              "      <td>1</td>\n",
              "      <td>[-0.016397397965192795, 0.019382361322641373, ...</td>\n",
              "    </tr>\n",
              "    <tr>\n",
              "      <th>198</th>\n",
              "      <td>0</td>\n",
              "      <td>[-0.0002996751863975078, 0.0213263351470232, 0...</td>\n",
              "    </tr>\n",
              "    <tr>\n",
              "      <th>199</th>\n",
              "      <td>1</td>\n",
              "      <td>[-0.014169487170875072, 0.01309845969080925, -...</td>\n",
              "    </tr>\n",
              "  </tbody>\n",
              "</table>\n",
              "<p>200 rows × 2 columns</p>\n",
              "</div>\n",
              "      <button class=\"colab-df-convert\" onclick=\"convertToInteractive('df-97732ac2-a0c7-4300-9692-8544fa506995')\"\n",
              "              title=\"Convert this dataframe to an interactive table.\"\n",
              "              style=\"display:none;\">\n",
              "        \n",
              "  <svg xmlns=\"http://www.w3.org/2000/svg\" height=\"24px\"viewBox=\"0 0 24 24\"\n",
              "       width=\"24px\">\n",
              "    <path d=\"M0 0h24v24H0V0z\" fill=\"none\"/>\n",
              "    <path d=\"M18.56 5.44l.94 2.06.94-2.06 2.06-.94-2.06-.94-.94-2.06-.94 2.06-2.06.94zm-11 1L8.5 8.5l.94-2.06 2.06-.94-2.06-.94L8.5 2.5l-.94 2.06-2.06.94zm10 10l.94 2.06.94-2.06 2.06-.94-2.06-.94-.94-2.06-.94 2.06-2.06.94z\"/><path d=\"M17.41 7.96l-1.37-1.37c-.4-.4-.92-.59-1.43-.59-.52 0-1.04.2-1.43.59L10.3 9.45l-7.72 7.72c-.78.78-.78 2.05 0 2.83L4 21.41c.39.39.9.59 1.41.59.51 0 1.02-.2 1.41-.59l7.78-7.78 2.81-2.81c.8-.78.8-2.07 0-2.86zM5.41 20L4 18.59l7.72-7.72 1.47 1.35L5.41 20z\"/>\n",
              "  </svg>\n",
              "      </button>\n",
              "      \n",
              "  <style>\n",
              "    .colab-df-container {\n",
              "      display:flex;\n",
              "      flex-wrap:wrap;\n",
              "      gap: 12px;\n",
              "    }\n",
              "\n",
              "    .colab-df-convert {\n",
              "      background-color: #E8F0FE;\n",
              "      border: none;\n",
              "      border-radius: 50%;\n",
              "      cursor: pointer;\n",
              "      display: none;\n",
              "      fill: #1967D2;\n",
              "      height: 32px;\n",
              "      padding: 0 0 0 0;\n",
              "      width: 32px;\n",
              "    }\n",
              "\n",
              "    .colab-df-convert:hover {\n",
              "      background-color: #E2EBFA;\n",
              "      box-shadow: 0px 1px 2px rgba(60, 64, 67, 0.3), 0px 1px 3px 1px rgba(60, 64, 67, 0.15);\n",
              "      fill: #174EA6;\n",
              "    }\n",
              "\n",
              "    [theme=dark] .colab-df-convert {\n",
              "      background-color: #3B4455;\n",
              "      fill: #D2E3FC;\n",
              "    }\n",
              "\n",
              "    [theme=dark] .colab-df-convert:hover {\n",
              "      background-color: #434B5C;\n",
              "      box-shadow: 0px 1px 3px 1px rgba(0, 0, 0, 0.15);\n",
              "      filter: drop-shadow(0px 1px 2px rgba(0, 0, 0, 0.3));\n",
              "      fill: #FFFFFF;\n",
              "    }\n",
              "  </style>\n",
              "\n",
              "      <script>\n",
              "        const buttonEl =\n",
              "          document.querySelector('#df-97732ac2-a0c7-4300-9692-8544fa506995 button.colab-df-convert');\n",
              "        buttonEl.style.display =\n",
              "          google.colab.kernel.accessAllowed ? 'block' : 'none';\n",
              "\n",
              "        async function convertToInteractive(key) {\n",
              "          const element = document.querySelector('#df-97732ac2-a0c7-4300-9692-8544fa506995');\n",
              "          const dataTable =\n",
              "            await google.colab.kernel.invokeFunction('convertToInteractive',\n",
              "                                                     [key], {});\n",
              "          if (!dataTable) return;\n",
              "\n",
              "          const docLinkHtml = 'Like what you see? Visit the ' +\n",
              "            '<a target=\"_blank\" href=https://colab.research.google.com/notebooks/data_table.ipynb>data table notebook</a>'\n",
              "            + ' to learn more about interactive tables.';\n",
              "          element.innerHTML = '';\n",
              "          dataTable['output_type'] = 'display_data';\n",
              "          await google.colab.output.renderOutput(dataTable, element);\n",
              "          const docLink = document.createElement('div');\n",
              "          docLink.innerHTML = docLinkHtml;\n",
              "          element.appendChild(docLink);\n",
              "        }\n",
              "      </script>\n",
              "    </div>\n",
              "  </div>\n",
              "  "
            ]
          },
          "metadata": {},
          "execution_count": 91
        }
      ]
    },
    {
      "cell_type": "code",
      "source": [
        "ratings = train_ebd.rating\n",
        "train_ebd = train_ebd.embedding.apply(pd.Series)\n",
        "train_ebd['rating'] = ratings\n",
        "\n",
        "train_ebd\n",
        "# the final vector from OpenAI contained 1,536 features. \n",
        "# Note that unlike TF-IDF, these features do not correspond to any particular\n",
        "# word tokens. Thus, the usefulness of investigating feature importance in \n",
        "# the final model is limited in this case."
      ],
      "metadata": {
        "colab": {
          "base_uri": "https://localhost:8080/",
          "height": 488
        },
        "id": "87jQLo5hT5nq",
        "outputId": "c7dab432-3746-40f7-abdb-edf1a539c434"
      },
      "execution_count": null,
      "outputs": [
        {
          "output_type": "execute_result",
          "data": {
            "text/plain": [
              "            0         1         2         3         4         5         6  \\\n",
              "0   -0.020020 -0.006722  0.033515 -0.018458 -0.018738  0.011470 -0.002474   \n",
              "1   -0.031044 -0.010346  0.008501 -0.020612 -0.011721  0.007397 -0.024196   \n",
              "2   -0.009887 -0.001249  0.038061 -0.025458 -0.007244  0.020877 -0.022816   \n",
              "3   -0.019267  0.017909  0.017546 -0.046493 -0.015301  0.026608 -0.027589   \n",
              "4   -0.040334 -0.005322  0.027250 -0.014337 -0.016342  0.009061 -0.022106   \n",
              "..        ...       ...       ...       ...       ...       ...       ...   \n",
              "795 -0.012448 -0.004434  0.038986 -0.042787 -0.024224  0.034539 -0.020656   \n",
              "796 -0.039578 -0.015751  0.007909 -0.011873 -0.016888  0.013959 -0.040728   \n",
              "797 -0.034757 -0.013842  0.012601  0.013193 -0.026157 -0.007023 -0.019236   \n",
              "798 -0.012503  0.014593  0.014990 -0.017954 -0.010902  0.009824 -0.006645   \n",
              "799 -0.010107  0.017954  0.028988 -0.036797 -0.016583  0.017667 -0.023804   \n",
              "\n",
              "            7         8         9  ...      1527      1528      1529  \\\n",
              "0   -0.017709 -0.017684 -0.029173  ... -0.015056  0.022077 -0.028107   \n",
              "1   -0.027131 -0.011780 -0.031335  ... -0.014134  0.048391 -0.032314   \n",
              "2   -0.047862 -0.025206 -0.019442  ... -0.019256  0.041355 -0.021169   \n",
              "3   -0.021418 -0.032026  0.011543  ... -0.011361  0.010655 -0.017062   \n",
              "4   -0.049303 -0.018703 -0.015115  ... -0.004663  0.057296 -0.037037   \n",
              "..        ...       ...       ...  ...       ...       ...       ...   \n",
              "795 -0.046613 -0.020566 -0.020850  ... -0.006457  0.024534 -0.010703   \n",
              "796 -0.032492 -0.037305 -0.014267  ... -0.019388  0.040701 -0.032090   \n",
              "797 -0.027556 -0.026335  0.007423  ... -0.032848  0.033434 -0.019834   \n",
              "798 -0.044323 -0.024450 -0.039004  ... -0.017531  0.050726 -0.004968   \n",
              "799 -0.034368 -0.007273 -0.029354  ... -0.008285  0.051970 -0.015082   \n",
              "\n",
              "         1530      1531      1532      1533      1534      1535  rating  \n",
              "0   -0.007395  0.022318 -0.017189 -0.007217 -0.010924 -0.013406       0  \n",
              "1    0.001023  0.009533  0.001683  0.001452 -0.019832 -0.027237       1  \n",
              "2   -0.019509  0.002495  0.009323 -0.034077  0.022537 -0.011554       1  \n",
              "3    0.006682 -0.022682 -0.030090 -0.012464 -0.011986 -0.024994       1  \n",
              "4   -0.028332 -0.004607 -0.023900 -0.007729 -0.000958 -0.030046       1  \n",
              "..        ...       ...       ...       ...       ...       ...     ...  \n",
              "795  0.006505  0.017140 -0.032394  0.003256 -0.017502 -0.042890       1  \n",
              "796  0.000705 -0.000933 -0.021487 -0.000255  0.004820 -0.022758       1  \n",
              "797 -0.012805  0.010591 -0.019567 -0.018791  0.002047 -0.012232       1  \n",
              "798 -0.007866  0.003306 -0.015705 -0.029637 -0.007541 -0.003018       1  \n",
              "799 -0.007130  0.015447 -0.020670 -0.023243 -0.005971 -0.035648       1  \n",
              "\n",
              "[800 rows x 1537 columns]"
            ],
            "text/html": [
              "\n",
              "  <div id=\"df-ea2b485d-63e8-4289-8fa6-65a84796d434\">\n",
              "    <div class=\"colab-df-container\">\n",
              "      <div>\n",
              "<style scoped>\n",
              "    .dataframe tbody tr th:only-of-type {\n",
              "        vertical-align: middle;\n",
              "    }\n",
              "\n",
              "    .dataframe tbody tr th {\n",
              "        vertical-align: top;\n",
              "    }\n",
              "\n",
              "    .dataframe thead th {\n",
              "        text-align: right;\n",
              "    }\n",
              "</style>\n",
              "<table border=\"1\" class=\"dataframe\">\n",
              "  <thead>\n",
              "    <tr style=\"text-align: right;\">\n",
              "      <th></th>\n",
              "      <th>0</th>\n",
              "      <th>1</th>\n",
              "      <th>2</th>\n",
              "      <th>3</th>\n",
              "      <th>4</th>\n",
              "      <th>5</th>\n",
              "      <th>6</th>\n",
              "      <th>7</th>\n",
              "      <th>8</th>\n",
              "      <th>9</th>\n",
              "      <th>...</th>\n",
              "      <th>1527</th>\n",
              "      <th>1528</th>\n",
              "      <th>1529</th>\n",
              "      <th>1530</th>\n",
              "      <th>1531</th>\n",
              "      <th>1532</th>\n",
              "      <th>1533</th>\n",
              "      <th>1534</th>\n",
              "      <th>1535</th>\n",
              "      <th>rating</th>\n",
              "    </tr>\n",
              "  </thead>\n",
              "  <tbody>\n",
              "    <tr>\n",
              "      <th>0</th>\n",
              "      <td>-0.020020</td>\n",
              "      <td>-0.006722</td>\n",
              "      <td>0.033515</td>\n",
              "      <td>-0.018458</td>\n",
              "      <td>-0.018738</td>\n",
              "      <td>0.011470</td>\n",
              "      <td>-0.002474</td>\n",
              "      <td>-0.017709</td>\n",
              "      <td>-0.017684</td>\n",
              "      <td>-0.029173</td>\n",
              "      <td>...</td>\n",
              "      <td>-0.015056</td>\n",
              "      <td>0.022077</td>\n",
              "      <td>-0.028107</td>\n",
              "      <td>-0.007395</td>\n",
              "      <td>0.022318</td>\n",
              "      <td>-0.017189</td>\n",
              "      <td>-0.007217</td>\n",
              "      <td>-0.010924</td>\n",
              "      <td>-0.013406</td>\n",
              "      <td>0</td>\n",
              "    </tr>\n",
              "    <tr>\n",
              "      <th>1</th>\n",
              "      <td>-0.031044</td>\n",
              "      <td>-0.010346</td>\n",
              "      <td>0.008501</td>\n",
              "      <td>-0.020612</td>\n",
              "      <td>-0.011721</td>\n",
              "      <td>0.007397</td>\n",
              "      <td>-0.024196</td>\n",
              "      <td>-0.027131</td>\n",
              "      <td>-0.011780</td>\n",
              "      <td>-0.031335</td>\n",
              "      <td>...</td>\n",
              "      <td>-0.014134</td>\n",
              "      <td>0.048391</td>\n",
              "      <td>-0.032314</td>\n",
              "      <td>0.001023</td>\n",
              "      <td>0.009533</td>\n",
              "      <td>0.001683</td>\n",
              "      <td>0.001452</td>\n",
              "      <td>-0.019832</td>\n",
              "      <td>-0.027237</td>\n",
              "      <td>1</td>\n",
              "    </tr>\n",
              "    <tr>\n",
              "      <th>2</th>\n",
              "      <td>-0.009887</td>\n",
              "      <td>-0.001249</td>\n",
              "      <td>0.038061</td>\n",
              "      <td>-0.025458</td>\n",
              "      <td>-0.007244</td>\n",
              "      <td>0.020877</td>\n",
              "      <td>-0.022816</td>\n",
              "      <td>-0.047862</td>\n",
              "      <td>-0.025206</td>\n",
              "      <td>-0.019442</td>\n",
              "      <td>...</td>\n",
              "      <td>-0.019256</td>\n",
              "      <td>0.041355</td>\n",
              "      <td>-0.021169</td>\n",
              "      <td>-0.019509</td>\n",
              "      <td>0.002495</td>\n",
              "      <td>0.009323</td>\n",
              "      <td>-0.034077</td>\n",
              "      <td>0.022537</td>\n",
              "      <td>-0.011554</td>\n",
              "      <td>1</td>\n",
              "    </tr>\n",
              "    <tr>\n",
              "      <th>3</th>\n",
              "      <td>-0.019267</td>\n",
              "      <td>0.017909</td>\n",
              "      <td>0.017546</td>\n",
              "      <td>-0.046493</td>\n",
              "      <td>-0.015301</td>\n",
              "      <td>0.026608</td>\n",
              "      <td>-0.027589</td>\n",
              "      <td>-0.021418</td>\n",
              "      <td>-0.032026</td>\n",
              "      <td>0.011543</td>\n",
              "      <td>...</td>\n",
              "      <td>-0.011361</td>\n",
              "      <td>0.010655</td>\n",
              "      <td>-0.017062</td>\n",
              "      <td>0.006682</td>\n",
              "      <td>-0.022682</td>\n",
              "      <td>-0.030090</td>\n",
              "      <td>-0.012464</td>\n",
              "      <td>-0.011986</td>\n",
              "      <td>-0.024994</td>\n",
              "      <td>1</td>\n",
              "    </tr>\n",
              "    <tr>\n",
              "      <th>4</th>\n",
              "      <td>-0.040334</td>\n",
              "      <td>-0.005322</td>\n",
              "      <td>0.027250</td>\n",
              "      <td>-0.014337</td>\n",
              "      <td>-0.016342</td>\n",
              "      <td>0.009061</td>\n",
              "      <td>-0.022106</td>\n",
              "      <td>-0.049303</td>\n",
              "      <td>-0.018703</td>\n",
              "      <td>-0.015115</td>\n",
              "      <td>...</td>\n",
              "      <td>-0.004663</td>\n",
              "      <td>0.057296</td>\n",
              "      <td>-0.037037</td>\n",
              "      <td>-0.028332</td>\n",
              "      <td>-0.004607</td>\n",
              "      <td>-0.023900</td>\n",
              "      <td>-0.007729</td>\n",
              "      <td>-0.000958</td>\n",
              "      <td>-0.030046</td>\n",
              "      <td>1</td>\n",
              "    </tr>\n",
              "    <tr>\n",
              "      <th>...</th>\n",
              "      <td>...</td>\n",
              "      <td>...</td>\n",
              "      <td>...</td>\n",
              "      <td>...</td>\n",
              "      <td>...</td>\n",
              "      <td>...</td>\n",
              "      <td>...</td>\n",
              "      <td>...</td>\n",
              "      <td>...</td>\n",
              "      <td>...</td>\n",
              "      <td>...</td>\n",
              "      <td>...</td>\n",
              "      <td>...</td>\n",
              "      <td>...</td>\n",
              "      <td>...</td>\n",
              "      <td>...</td>\n",
              "      <td>...</td>\n",
              "      <td>...</td>\n",
              "      <td>...</td>\n",
              "      <td>...</td>\n",
              "      <td>...</td>\n",
              "    </tr>\n",
              "    <tr>\n",
              "      <th>795</th>\n",
              "      <td>-0.012448</td>\n",
              "      <td>-0.004434</td>\n",
              "      <td>0.038986</td>\n",
              "      <td>-0.042787</td>\n",
              "      <td>-0.024224</td>\n",
              "      <td>0.034539</td>\n",
              "      <td>-0.020656</td>\n",
              "      <td>-0.046613</td>\n",
              "      <td>-0.020566</td>\n",
              "      <td>-0.020850</td>\n",
              "      <td>...</td>\n",
              "      <td>-0.006457</td>\n",
              "      <td>0.024534</td>\n",
              "      <td>-0.010703</td>\n",
              "      <td>0.006505</td>\n",
              "      <td>0.017140</td>\n",
              "      <td>-0.032394</td>\n",
              "      <td>0.003256</td>\n",
              "      <td>-0.017502</td>\n",
              "      <td>-0.042890</td>\n",
              "      <td>1</td>\n",
              "    </tr>\n",
              "    <tr>\n",
              "      <th>796</th>\n",
              "      <td>-0.039578</td>\n",
              "      <td>-0.015751</td>\n",
              "      <td>0.007909</td>\n",
              "      <td>-0.011873</td>\n",
              "      <td>-0.016888</td>\n",
              "      <td>0.013959</td>\n",
              "      <td>-0.040728</td>\n",
              "      <td>-0.032492</td>\n",
              "      <td>-0.037305</td>\n",
              "      <td>-0.014267</td>\n",
              "      <td>...</td>\n",
              "      <td>-0.019388</td>\n",
              "      <td>0.040701</td>\n",
              "      <td>-0.032090</td>\n",
              "      <td>0.000705</td>\n",
              "      <td>-0.000933</td>\n",
              "      <td>-0.021487</td>\n",
              "      <td>-0.000255</td>\n",
              "      <td>0.004820</td>\n",
              "      <td>-0.022758</td>\n",
              "      <td>1</td>\n",
              "    </tr>\n",
              "    <tr>\n",
              "      <th>797</th>\n",
              "      <td>-0.034757</td>\n",
              "      <td>-0.013842</td>\n",
              "      <td>0.012601</td>\n",
              "      <td>0.013193</td>\n",
              "      <td>-0.026157</td>\n",
              "      <td>-0.007023</td>\n",
              "      <td>-0.019236</td>\n",
              "      <td>-0.027556</td>\n",
              "      <td>-0.026335</td>\n",
              "      <td>0.007423</td>\n",
              "      <td>...</td>\n",
              "      <td>-0.032848</td>\n",
              "      <td>0.033434</td>\n",
              "      <td>-0.019834</td>\n",
              "      <td>-0.012805</td>\n",
              "      <td>0.010591</td>\n",
              "      <td>-0.019567</td>\n",
              "      <td>-0.018791</td>\n",
              "      <td>0.002047</td>\n",
              "      <td>-0.012232</td>\n",
              "      <td>1</td>\n",
              "    </tr>\n",
              "    <tr>\n",
              "      <th>798</th>\n",
              "      <td>-0.012503</td>\n",
              "      <td>0.014593</td>\n",
              "      <td>0.014990</td>\n",
              "      <td>-0.017954</td>\n",
              "      <td>-0.010902</td>\n",
              "      <td>0.009824</td>\n",
              "      <td>-0.006645</td>\n",
              "      <td>-0.044323</td>\n",
              "      <td>-0.024450</td>\n",
              "      <td>-0.039004</td>\n",
              "      <td>...</td>\n",
              "      <td>-0.017531</td>\n",
              "      <td>0.050726</td>\n",
              "      <td>-0.004968</td>\n",
              "      <td>-0.007866</td>\n",
              "      <td>0.003306</td>\n",
              "      <td>-0.015705</td>\n",
              "      <td>-0.029637</td>\n",
              "      <td>-0.007541</td>\n",
              "      <td>-0.003018</td>\n",
              "      <td>1</td>\n",
              "    </tr>\n",
              "    <tr>\n",
              "      <th>799</th>\n",
              "      <td>-0.010107</td>\n",
              "      <td>0.017954</td>\n",
              "      <td>0.028988</td>\n",
              "      <td>-0.036797</td>\n",
              "      <td>-0.016583</td>\n",
              "      <td>0.017667</td>\n",
              "      <td>-0.023804</td>\n",
              "      <td>-0.034368</td>\n",
              "      <td>-0.007273</td>\n",
              "      <td>-0.029354</td>\n",
              "      <td>...</td>\n",
              "      <td>-0.008285</td>\n",
              "      <td>0.051970</td>\n",
              "      <td>-0.015082</td>\n",
              "      <td>-0.007130</td>\n",
              "      <td>0.015447</td>\n",
              "      <td>-0.020670</td>\n",
              "      <td>-0.023243</td>\n",
              "      <td>-0.005971</td>\n",
              "      <td>-0.035648</td>\n",
              "      <td>1</td>\n",
              "    </tr>\n",
              "  </tbody>\n",
              "</table>\n",
              "<p>800 rows × 1537 columns</p>\n",
              "</div>\n",
              "      <button class=\"colab-df-convert\" onclick=\"convertToInteractive('df-ea2b485d-63e8-4289-8fa6-65a84796d434')\"\n",
              "              title=\"Convert this dataframe to an interactive table.\"\n",
              "              style=\"display:none;\">\n",
              "        \n",
              "  <svg xmlns=\"http://www.w3.org/2000/svg\" height=\"24px\"viewBox=\"0 0 24 24\"\n",
              "       width=\"24px\">\n",
              "    <path d=\"M0 0h24v24H0V0z\" fill=\"none\"/>\n",
              "    <path d=\"M18.56 5.44l.94 2.06.94-2.06 2.06-.94-2.06-.94-.94-2.06-.94 2.06-2.06.94zm-11 1L8.5 8.5l.94-2.06 2.06-.94-2.06-.94L8.5 2.5l-.94 2.06-2.06.94zm10 10l.94 2.06.94-2.06 2.06-.94-2.06-.94-.94-2.06-.94 2.06-2.06.94z\"/><path d=\"M17.41 7.96l-1.37-1.37c-.4-.4-.92-.59-1.43-.59-.52 0-1.04.2-1.43.59L10.3 9.45l-7.72 7.72c-.78.78-.78 2.05 0 2.83L4 21.41c.39.39.9.59 1.41.59.51 0 1.02-.2 1.41-.59l7.78-7.78 2.81-2.81c.8-.78.8-2.07 0-2.86zM5.41 20L4 18.59l7.72-7.72 1.47 1.35L5.41 20z\"/>\n",
              "  </svg>\n",
              "      </button>\n",
              "      \n",
              "  <style>\n",
              "    .colab-df-container {\n",
              "      display:flex;\n",
              "      flex-wrap:wrap;\n",
              "      gap: 12px;\n",
              "    }\n",
              "\n",
              "    .colab-df-convert {\n",
              "      background-color: #E8F0FE;\n",
              "      border: none;\n",
              "      border-radius: 50%;\n",
              "      cursor: pointer;\n",
              "      display: none;\n",
              "      fill: #1967D2;\n",
              "      height: 32px;\n",
              "      padding: 0 0 0 0;\n",
              "      width: 32px;\n",
              "    }\n",
              "\n",
              "    .colab-df-convert:hover {\n",
              "      background-color: #E2EBFA;\n",
              "      box-shadow: 0px 1px 2px rgba(60, 64, 67, 0.3), 0px 1px 3px 1px rgba(60, 64, 67, 0.15);\n",
              "      fill: #174EA6;\n",
              "    }\n",
              "\n",
              "    [theme=dark] .colab-df-convert {\n",
              "      background-color: #3B4455;\n",
              "      fill: #D2E3FC;\n",
              "    }\n",
              "\n",
              "    [theme=dark] .colab-df-convert:hover {\n",
              "      background-color: #434B5C;\n",
              "      box-shadow: 0px 1px 3px 1px rgba(0, 0, 0, 0.15);\n",
              "      filter: drop-shadow(0px 1px 2px rgba(0, 0, 0, 0.3));\n",
              "      fill: #FFFFFF;\n",
              "    }\n",
              "  </style>\n",
              "\n",
              "      <script>\n",
              "        const buttonEl =\n",
              "          document.querySelector('#df-ea2b485d-63e8-4289-8fa6-65a84796d434 button.colab-df-convert');\n",
              "        buttonEl.style.display =\n",
              "          google.colab.kernel.accessAllowed ? 'block' : 'none';\n",
              "\n",
              "        async function convertToInteractive(key) {\n",
              "          const element = document.querySelector('#df-ea2b485d-63e8-4289-8fa6-65a84796d434');\n",
              "          const dataTable =\n",
              "            await google.colab.kernel.invokeFunction('convertToInteractive',\n",
              "                                                     [key], {});\n",
              "          if (!dataTable) return;\n",
              "\n",
              "          const docLinkHtml = 'Like what you see? Visit the ' +\n",
              "            '<a target=\"_blank\" href=https://colab.research.google.com/notebooks/data_table.ipynb>data table notebook</a>'\n",
              "            + ' to learn more about interactive tables.';\n",
              "          element.innerHTML = '';\n",
              "          dataTable['output_type'] = 'display_data';\n",
              "          await google.colab.output.renderOutput(dataTable, element);\n",
              "          const docLink = document.createElement('div');\n",
              "          docLink.innerHTML = docLinkHtml;\n",
              "          element.appendChild(docLink);\n",
              "        }\n",
              "      </script>\n",
              "    </div>\n",
              "  </div>\n",
              "  "
            ]
          },
          "metadata": {},
          "execution_count": 92
        }
      ]
    },
    {
      "cell_type": "code",
      "source": [
        "train_ebd['rating'].value_counts()"
      ],
      "metadata": {
        "colab": {
          "base_uri": "https://localhost:8080/"
        },
        "id": "CPWq8b0yjly2",
        "outputId": "831a9461-6e5b-4f0a-eddd-ed71fdd26d83"
      },
      "execution_count": null,
      "outputs": [
        {
          "output_type": "execute_result",
          "data": {
            "text/plain": [
              "0    800\n",
              "Name: rating, dtype: int64"
            ]
          },
          "metadata": {},
          "execution_count": 78
        }
      ]
    },
    {
      "cell_type": "code",
      "source": [
        "ratings = test_ebd.rating\n",
        "test_ebd = test_ebd.embedding.apply(pd.Series)\n",
        "test_ebd['rating'] = ratings\n",
        "\n",
        "test_ebd"
      ],
      "metadata": {
        "colab": {
          "base_uri": "https://localhost:8080/",
          "height": 488
        },
        "id": "U6_w3HYeWVTO",
        "outputId": "8d9d902e-cb79-4c12-fe39-5c4452cdcdff"
      },
      "execution_count": null,
      "outputs": [
        {
          "output_type": "execute_result",
          "data": {
            "text/plain": [
              "            0         1         2         3         4         5         6  \\\n",
              "0   -0.017004 -0.005068  0.002003 -0.013696 -0.013760  0.000401 -0.023466   \n",
              "1   -0.009777  0.000316  0.012801 -0.002560 -0.025576  0.004477 -0.002910   \n",
              "2   -0.007015  0.012022  0.037599 -0.029489 -0.035647  0.008280 -0.021941   \n",
              "3   -0.011468 -0.028590  0.043700 -0.012219 -0.015136  0.029030 -0.020026   \n",
              "4    0.007943  0.003750  0.022022 -0.042348 -0.000971  0.022179 -0.031487   \n",
              "..        ...       ...       ...       ...       ...       ...       ...   \n",
              "195 -0.035330 -0.009008  0.019616 -0.012345 -0.013463  0.009450 -0.006179   \n",
              "196 -0.041014  0.000935  0.015533 -0.008363 -0.002192  0.003999 -0.030323   \n",
              "197 -0.016397  0.019382  0.014328 -0.032848 -0.012272  0.036085 -0.006003   \n",
              "198 -0.000300  0.021326  0.020971 -0.026095 -0.033168  0.011454 -0.008470   \n",
              "199 -0.014169  0.013098 -0.007663 -0.015899 -0.001559  0.023110 -0.037253   \n",
              "\n",
              "            7         8         9  ...      1527      1528      1529  \\\n",
              "0   -0.045130 -0.028268 -0.020531  ... -0.009905  0.043843 -0.010800   \n",
              "1   -0.056116 -0.021017 -0.020064  ... -0.017569  0.033022 -0.030357   \n",
              "2   -0.009331 -0.019926 -0.003395  ... -0.007466  0.022730 -0.017798   \n",
              "3   -0.027348 -0.025123 -0.010013  ... -0.001472  0.037077 -0.011080   \n",
              "4   -0.035037 -0.011507 -0.017963  ... -0.012160  0.037779 -0.028275   \n",
              "..        ...       ...       ...  ...       ...       ...       ...   \n",
              "195 -0.036267 -0.032442 -0.019356  ... -0.017327  0.037359 -0.028800   \n",
              "196 -0.030880 -0.015957 -0.005661  ... -0.011573  0.032763 -0.025375   \n",
              "197 -0.017897 -0.041710 -0.001211  ... -0.023482  0.034705 -0.024954   \n",
              "198 -0.040413  0.014450  0.007969  ... -0.011454  0.048238 -0.037752   \n",
              "199 -0.034938 -0.039781  0.005621  ... -0.007723  0.019771 -0.032703   \n",
              "\n",
              "         1530      1531      1532      1533      1534      1535  rating  \n",
              "0   -0.012010  0.006269 -0.043740  0.008579 -0.009802 -0.050305       0  \n",
              "1    0.012977  0.006825 -0.032577 -0.003893 -0.006002 -0.028241       1  \n",
              "2   -0.006621 -0.000213 -0.023381  0.004159 -0.009043 -0.031617       0  \n",
              "3    0.007387  0.005213 -0.029211 -0.008176 -0.005857 -0.019897       1  \n",
              "4    0.005072  0.006103 -0.015430 -0.007017  0.005685 -0.016905       1  \n",
              "..        ...       ...       ...       ...       ...       ...     ...  \n",
              "195 -0.019200  0.002080 -0.029867 -0.019486 -0.010153 -0.028696       1  \n",
              "196 -0.017151 -0.001643 -0.023040 -0.021435  0.003575 -0.028625       1  \n",
              "197 -0.003436  0.005625 -0.029744 -0.013134 -0.000661 -0.016822       1  \n",
              "198 -0.002343 -0.011559 -0.027109 -0.011454  0.008272 -0.019350       0  \n",
              "199 -0.020037  0.004899 -0.015912 -0.011622 -0.009446 -0.001112       1  \n",
              "\n",
              "[200 rows x 1537 columns]"
            ],
            "text/html": [
              "\n",
              "  <div id=\"df-4e5f54c5-88fb-4d7c-87f5-5203596e16db\">\n",
              "    <div class=\"colab-df-container\">\n",
              "      <div>\n",
              "<style scoped>\n",
              "    .dataframe tbody tr th:only-of-type {\n",
              "        vertical-align: middle;\n",
              "    }\n",
              "\n",
              "    .dataframe tbody tr th {\n",
              "        vertical-align: top;\n",
              "    }\n",
              "\n",
              "    .dataframe thead th {\n",
              "        text-align: right;\n",
              "    }\n",
              "</style>\n",
              "<table border=\"1\" class=\"dataframe\">\n",
              "  <thead>\n",
              "    <tr style=\"text-align: right;\">\n",
              "      <th></th>\n",
              "      <th>0</th>\n",
              "      <th>1</th>\n",
              "      <th>2</th>\n",
              "      <th>3</th>\n",
              "      <th>4</th>\n",
              "      <th>5</th>\n",
              "      <th>6</th>\n",
              "      <th>7</th>\n",
              "      <th>8</th>\n",
              "      <th>9</th>\n",
              "      <th>...</th>\n",
              "      <th>1527</th>\n",
              "      <th>1528</th>\n",
              "      <th>1529</th>\n",
              "      <th>1530</th>\n",
              "      <th>1531</th>\n",
              "      <th>1532</th>\n",
              "      <th>1533</th>\n",
              "      <th>1534</th>\n",
              "      <th>1535</th>\n",
              "      <th>rating</th>\n",
              "    </tr>\n",
              "  </thead>\n",
              "  <tbody>\n",
              "    <tr>\n",
              "      <th>0</th>\n",
              "      <td>-0.017004</td>\n",
              "      <td>-0.005068</td>\n",
              "      <td>0.002003</td>\n",
              "      <td>-0.013696</td>\n",
              "      <td>-0.013760</td>\n",
              "      <td>0.000401</td>\n",
              "      <td>-0.023466</td>\n",
              "      <td>-0.045130</td>\n",
              "      <td>-0.028268</td>\n",
              "      <td>-0.020531</td>\n",
              "      <td>...</td>\n",
              "      <td>-0.009905</td>\n",
              "      <td>0.043843</td>\n",
              "      <td>-0.010800</td>\n",
              "      <td>-0.012010</td>\n",
              "      <td>0.006269</td>\n",
              "      <td>-0.043740</td>\n",
              "      <td>0.008579</td>\n",
              "      <td>-0.009802</td>\n",
              "      <td>-0.050305</td>\n",
              "      <td>0</td>\n",
              "    </tr>\n",
              "    <tr>\n",
              "      <th>1</th>\n",
              "      <td>-0.009777</td>\n",
              "      <td>0.000316</td>\n",
              "      <td>0.012801</td>\n",
              "      <td>-0.002560</td>\n",
              "      <td>-0.025576</td>\n",
              "      <td>0.004477</td>\n",
              "      <td>-0.002910</td>\n",
              "      <td>-0.056116</td>\n",
              "      <td>-0.021017</td>\n",
              "      <td>-0.020064</td>\n",
              "      <td>...</td>\n",
              "      <td>-0.017569</td>\n",
              "      <td>0.033022</td>\n",
              "      <td>-0.030357</td>\n",
              "      <td>0.012977</td>\n",
              "      <td>0.006825</td>\n",
              "      <td>-0.032577</td>\n",
              "      <td>-0.003893</td>\n",
              "      <td>-0.006002</td>\n",
              "      <td>-0.028241</td>\n",
              "      <td>1</td>\n",
              "    </tr>\n",
              "    <tr>\n",
              "      <th>2</th>\n",
              "      <td>-0.007015</td>\n",
              "      <td>0.012022</td>\n",
              "      <td>0.037599</td>\n",
              "      <td>-0.029489</td>\n",
              "      <td>-0.035647</td>\n",
              "      <td>0.008280</td>\n",
              "      <td>-0.021941</td>\n",
              "      <td>-0.009331</td>\n",
              "      <td>-0.019926</td>\n",
              "      <td>-0.003395</td>\n",
              "      <td>...</td>\n",
              "      <td>-0.007466</td>\n",
              "      <td>0.022730</td>\n",
              "      <td>-0.017798</td>\n",
              "      <td>-0.006621</td>\n",
              "      <td>-0.000213</td>\n",
              "      <td>-0.023381</td>\n",
              "      <td>0.004159</td>\n",
              "      <td>-0.009043</td>\n",
              "      <td>-0.031617</td>\n",
              "      <td>0</td>\n",
              "    </tr>\n",
              "    <tr>\n",
              "      <th>3</th>\n",
              "      <td>-0.011468</td>\n",
              "      <td>-0.028590</td>\n",
              "      <td>0.043700</td>\n",
              "      <td>-0.012219</td>\n",
              "      <td>-0.015136</td>\n",
              "      <td>0.029030</td>\n",
              "      <td>-0.020026</td>\n",
              "      <td>-0.027348</td>\n",
              "      <td>-0.025123</td>\n",
              "      <td>-0.010013</td>\n",
              "      <td>...</td>\n",
              "      <td>-0.001472</td>\n",
              "      <td>0.037077</td>\n",
              "      <td>-0.011080</td>\n",
              "      <td>0.007387</td>\n",
              "      <td>0.005213</td>\n",
              "      <td>-0.029211</td>\n",
              "      <td>-0.008176</td>\n",
              "      <td>-0.005857</td>\n",
              "      <td>-0.019897</td>\n",
              "      <td>1</td>\n",
              "    </tr>\n",
              "    <tr>\n",
              "      <th>4</th>\n",
              "      <td>0.007943</td>\n",
              "      <td>0.003750</td>\n",
              "      <td>0.022022</td>\n",
              "      <td>-0.042348</td>\n",
              "      <td>-0.000971</td>\n",
              "      <td>0.022179</td>\n",
              "      <td>-0.031487</td>\n",
              "      <td>-0.035037</td>\n",
              "      <td>-0.011507</td>\n",
              "      <td>-0.017963</td>\n",
              "      <td>...</td>\n",
              "      <td>-0.012160</td>\n",
              "      <td>0.037779</td>\n",
              "      <td>-0.028275</td>\n",
              "      <td>0.005072</td>\n",
              "      <td>0.006103</td>\n",
              "      <td>-0.015430</td>\n",
              "      <td>-0.007017</td>\n",
              "      <td>0.005685</td>\n",
              "      <td>-0.016905</td>\n",
              "      <td>1</td>\n",
              "    </tr>\n",
              "    <tr>\n",
              "      <th>...</th>\n",
              "      <td>...</td>\n",
              "      <td>...</td>\n",
              "      <td>...</td>\n",
              "      <td>...</td>\n",
              "      <td>...</td>\n",
              "      <td>...</td>\n",
              "      <td>...</td>\n",
              "      <td>...</td>\n",
              "      <td>...</td>\n",
              "      <td>...</td>\n",
              "      <td>...</td>\n",
              "      <td>...</td>\n",
              "      <td>...</td>\n",
              "      <td>...</td>\n",
              "      <td>...</td>\n",
              "      <td>...</td>\n",
              "      <td>...</td>\n",
              "      <td>...</td>\n",
              "      <td>...</td>\n",
              "      <td>...</td>\n",
              "      <td>...</td>\n",
              "    </tr>\n",
              "    <tr>\n",
              "      <th>195</th>\n",
              "      <td>-0.035330</td>\n",
              "      <td>-0.009008</td>\n",
              "      <td>0.019616</td>\n",
              "      <td>-0.012345</td>\n",
              "      <td>-0.013463</td>\n",
              "      <td>0.009450</td>\n",
              "      <td>-0.006179</td>\n",
              "      <td>-0.036267</td>\n",
              "      <td>-0.032442</td>\n",
              "      <td>-0.019356</td>\n",
              "      <td>...</td>\n",
              "      <td>-0.017327</td>\n",
              "      <td>0.037359</td>\n",
              "      <td>-0.028800</td>\n",
              "      <td>-0.019200</td>\n",
              "      <td>0.002080</td>\n",
              "      <td>-0.029867</td>\n",
              "      <td>-0.019486</td>\n",
              "      <td>-0.010153</td>\n",
              "      <td>-0.028696</td>\n",
              "      <td>1</td>\n",
              "    </tr>\n",
              "    <tr>\n",
              "      <th>196</th>\n",
              "      <td>-0.041014</td>\n",
              "      <td>0.000935</td>\n",
              "      <td>0.015533</td>\n",
              "      <td>-0.008363</td>\n",
              "      <td>-0.002192</td>\n",
              "      <td>0.003999</td>\n",
              "      <td>-0.030323</td>\n",
              "      <td>-0.030880</td>\n",
              "      <td>-0.015957</td>\n",
              "      <td>-0.005661</td>\n",
              "      <td>...</td>\n",
              "      <td>-0.011573</td>\n",
              "      <td>0.032763</td>\n",
              "      <td>-0.025375</td>\n",
              "      <td>-0.017151</td>\n",
              "      <td>-0.001643</td>\n",
              "      <td>-0.023040</td>\n",
              "      <td>-0.021435</td>\n",
              "      <td>0.003575</td>\n",
              "      <td>-0.028625</td>\n",
              "      <td>1</td>\n",
              "    </tr>\n",
              "    <tr>\n",
              "      <th>197</th>\n",
              "      <td>-0.016397</td>\n",
              "      <td>0.019382</td>\n",
              "      <td>0.014328</td>\n",
              "      <td>-0.032848</td>\n",
              "      <td>-0.012272</td>\n",
              "      <td>0.036085</td>\n",
              "      <td>-0.006003</td>\n",
              "      <td>-0.017897</td>\n",
              "      <td>-0.041710</td>\n",
              "      <td>-0.001211</td>\n",
              "      <td>...</td>\n",
              "      <td>-0.023482</td>\n",
              "      <td>0.034705</td>\n",
              "      <td>-0.024954</td>\n",
              "      <td>-0.003436</td>\n",
              "      <td>0.005625</td>\n",
              "      <td>-0.029744</td>\n",
              "      <td>-0.013134</td>\n",
              "      <td>-0.000661</td>\n",
              "      <td>-0.016822</td>\n",
              "      <td>1</td>\n",
              "    </tr>\n",
              "    <tr>\n",
              "      <th>198</th>\n",
              "      <td>-0.000300</td>\n",
              "      <td>0.021326</td>\n",
              "      <td>0.020971</td>\n",
              "      <td>-0.026095</td>\n",
              "      <td>-0.033168</td>\n",
              "      <td>0.011454</td>\n",
              "      <td>-0.008470</td>\n",
              "      <td>-0.040413</td>\n",
              "      <td>0.014450</td>\n",
              "      <td>0.007969</td>\n",
              "      <td>...</td>\n",
              "      <td>-0.011454</td>\n",
              "      <td>0.048238</td>\n",
              "      <td>-0.037752</td>\n",
              "      <td>-0.002343</td>\n",
              "      <td>-0.011559</td>\n",
              "      <td>-0.027109</td>\n",
              "      <td>-0.011454</td>\n",
              "      <td>0.008272</td>\n",
              "      <td>-0.019350</td>\n",
              "      <td>0</td>\n",
              "    </tr>\n",
              "    <tr>\n",
              "      <th>199</th>\n",
              "      <td>-0.014169</td>\n",
              "      <td>0.013098</td>\n",
              "      <td>-0.007663</td>\n",
              "      <td>-0.015899</td>\n",
              "      <td>-0.001559</td>\n",
              "      <td>0.023110</td>\n",
              "      <td>-0.037253</td>\n",
              "      <td>-0.034938</td>\n",
              "      <td>-0.039781</td>\n",
              "      <td>0.005621</td>\n",
              "      <td>...</td>\n",
              "      <td>-0.007723</td>\n",
              "      <td>0.019771</td>\n",
              "      <td>-0.032703</td>\n",
              "      <td>-0.020037</td>\n",
              "      <td>0.004899</td>\n",
              "      <td>-0.015912</td>\n",
              "      <td>-0.011622</td>\n",
              "      <td>-0.009446</td>\n",
              "      <td>-0.001112</td>\n",
              "      <td>1</td>\n",
              "    </tr>\n",
              "  </tbody>\n",
              "</table>\n",
              "<p>200 rows × 1537 columns</p>\n",
              "</div>\n",
              "      <button class=\"colab-df-convert\" onclick=\"convertToInteractive('df-4e5f54c5-88fb-4d7c-87f5-5203596e16db')\"\n",
              "              title=\"Convert this dataframe to an interactive table.\"\n",
              "              style=\"display:none;\">\n",
              "        \n",
              "  <svg xmlns=\"http://www.w3.org/2000/svg\" height=\"24px\"viewBox=\"0 0 24 24\"\n",
              "       width=\"24px\">\n",
              "    <path d=\"M0 0h24v24H0V0z\" fill=\"none\"/>\n",
              "    <path d=\"M18.56 5.44l.94 2.06.94-2.06 2.06-.94-2.06-.94-.94-2.06-.94 2.06-2.06.94zm-11 1L8.5 8.5l.94-2.06 2.06-.94-2.06-.94L8.5 2.5l-.94 2.06-2.06.94zm10 10l.94 2.06.94-2.06 2.06-.94-2.06-.94-.94-2.06-.94 2.06-2.06.94z\"/><path d=\"M17.41 7.96l-1.37-1.37c-.4-.4-.92-.59-1.43-.59-.52 0-1.04.2-1.43.59L10.3 9.45l-7.72 7.72c-.78.78-.78 2.05 0 2.83L4 21.41c.39.39.9.59 1.41.59.51 0 1.02-.2 1.41-.59l7.78-7.78 2.81-2.81c.8-.78.8-2.07 0-2.86zM5.41 20L4 18.59l7.72-7.72 1.47 1.35L5.41 20z\"/>\n",
              "  </svg>\n",
              "      </button>\n",
              "      \n",
              "  <style>\n",
              "    .colab-df-container {\n",
              "      display:flex;\n",
              "      flex-wrap:wrap;\n",
              "      gap: 12px;\n",
              "    }\n",
              "\n",
              "    .colab-df-convert {\n",
              "      background-color: #E8F0FE;\n",
              "      border: none;\n",
              "      border-radius: 50%;\n",
              "      cursor: pointer;\n",
              "      display: none;\n",
              "      fill: #1967D2;\n",
              "      height: 32px;\n",
              "      padding: 0 0 0 0;\n",
              "      width: 32px;\n",
              "    }\n",
              "\n",
              "    .colab-df-convert:hover {\n",
              "      background-color: #E2EBFA;\n",
              "      box-shadow: 0px 1px 2px rgba(60, 64, 67, 0.3), 0px 1px 3px 1px rgba(60, 64, 67, 0.15);\n",
              "      fill: #174EA6;\n",
              "    }\n",
              "\n",
              "    [theme=dark] .colab-df-convert {\n",
              "      background-color: #3B4455;\n",
              "      fill: #D2E3FC;\n",
              "    }\n",
              "\n",
              "    [theme=dark] .colab-df-convert:hover {\n",
              "      background-color: #434B5C;\n",
              "      box-shadow: 0px 1px 3px 1px rgba(0, 0, 0, 0.15);\n",
              "      filter: drop-shadow(0px 1px 2px rgba(0, 0, 0, 0.3));\n",
              "      fill: #FFFFFF;\n",
              "    }\n",
              "  </style>\n",
              "\n",
              "      <script>\n",
              "        const buttonEl =\n",
              "          document.querySelector('#df-4e5f54c5-88fb-4d7c-87f5-5203596e16db button.colab-df-convert');\n",
              "        buttonEl.style.display =\n",
              "          google.colab.kernel.accessAllowed ? 'block' : 'none';\n",
              "\n",
              "        async function convertToInteractive(key) {\n",
              "          const element = document.querySelector('#df-4e5f54c5-88fb-4d7c-87f5-5203596e16db');\n",
              "          const dataTable =\n",
              "            await google.colab.kernel.invokeFunction('convertToInteractive',\n",
              "                                                     [key], {});\n",
              "          if (!dataTable) return;\n",
              "\n",
              "          const docLinkHtml = 'Like what you see? Visit the ' +\n",
              "            '<a target=\"_blank\" href=https://colab.research.google.com/notebooks/data_table.ipynb>data table notebook</a>'\n",
              "            + ' to learn more about interactive tables.';\n",
              "          element.innerHTML = '';\n",
              "          dataTable['output_type'] = 'display_data';\n",
              "          await google.colab.output.renderOutput(dataTable, element);\n",
              "          const docLink = document.createElement('div');\n",
              "          docLink.innerHTML = docLinkHtml;\n",
              "          element.appendChild(docLink);\n",
              "        }\n",
              "      </script>\n",
              "    </div>\n",
              "  </div>\n",
              "  "
            ]
          },
          "metadata": {},
          "execution_count": 93
        }
      ]
    },
    {
      "cell_type": "code",
      "source": [
        "test_ebd['rating'].value_counts()"
      ],
      "metadata": {
        "colab": {
          "base_uri": "https://localhost:8080/"
        },
        "id": "MZpPumSsjsUu",
        "outputId": "8f953c45-1946-4970-e320-8d33e272bc1e"
      },
      "execution_count": null,
      "outputs": [
        {
          "output_type": "execute_result",
          "data": {
            "text/plain": [
              "1    150\n",
              "0     50\n",
              "Name: rating, dtype: int64"
            ]
          },
          "metadata": {},
          "execution_count": 94
        }
      ]
    },
    {
      "cell_type": "markdown",
      "source": [
        "## S7.3. Model Development and Evaluation"
      ],
      "metadata": {
        "id": "4TyvDMVlfBo7"
      }
    },
    {
      "cell_type": "code",
      "source": [
        "model_oa = RandomForestClassifier()"
      ],
      "metadata": {
        "id": "i6JlWexgfxLe"
      },
      "execution_count": null,
      "outputs": []
    },
    {
      "cell_type": "code",
      "source": [
        "X_train, y_train = train_ebd.loc[:, ~train_ebd.columns.isin(['rating'])], train_ebd['rating']\n",
        "print(X_train.shape, y_train.shape)"
      ],
      "metadata": {
        "colab": {
          "base_uri": "https://localhost:8080/"
        },
        "id": "ByxGPtRhhLEd",
        "outputId": "ef7e6d8d-d018-462a-c0d2-90b0f1ad7954"
      },
      "execution_count": null,
      "outputs": [
        {
          "output_type": "stream",
          "name": "stdout",
          "text": [
            "(800, 1536) (800,)\n"
          ]
        }
      ]
    },
    {
      "cell_type": "code",
      "source": [
        "X_test, y_test = test_ebd.loc[:, ~test_ebd.columns.isin(['rating'])], test_ebd['rating']\n",
        "print(X_test.shape, y_test.shape)"
      ],
      "metadata": {
        "colab": {
          "base_uri": "https://localhost:8080/"
        },
        "id": "PBftLGaOg60X",
        "outputId": "67386b16-7846-43b2-c4f7-30a3868f7faa"
      },
      "execution_count": null,
      "outputs": [
        {
          "output_type": "stream",
          "name": "stdout",
          "text": [
            "(200, 1536) (200,)\n"
          ]
        }
      ]
    },
    {
      "cell_type": "code",
      "source": [
        "model_oa.fit(X_train, y_train)"
      ],
      "metadata": {
        "colab": {
          "base_uri": "https://localhost:8080/",
          "height": 75
        },
        "id": "pqHcKt3ogozK",
        "outputId": "1d610d5e-0066-4cb2-9f15-d77bc848f616"
      },
      "execution_count": null,
      "outputs": [
        {
          "output_type": "execute_result",
          "data": {
            "text/plain": [
              "RandomForestClassifier()"
            ],
            "text/html": [
              "<style>#sk-container-id-3 {color: black;background-color: white;}#sk-container-id-3 pre{padding: 0;}#sk-container-id-3 div.sk-toggleable {background-color: white;}#sk-container-id-3 label.sk-toggleable__label {cursor: pointer;display: block;width: 100%;margin-bottom: 0;padding: 0.3em;box-sizing: border-box;text-align: center;}#sk-container-id-3 label.sk-toggleable__label-arrow:before {content: \"▸\";float: left;margin-right: 0.25em;color: #696969;}#sk-container-id-3 label.sk-toggleable__label-arrow:hover:before {color: black;}#sk-container-id-3 div.sk-estimator:hover label.sk-toggleable__label-arrow:before {color: black;}#sk-container-id-3 div.sk-toggleable__content {max-height: 0;max-width: 0;overflow: hidden;text-align: left;background-color: #f0f8ff;}#sk-container-id-3 div.sk-toggleable__content pre {margin: 0.2em;color: black;border-radius: 0.25em;background-color: #f0f8ff;}#sk-container-id-3 input.sk-toggleable__control:checked~div.sk-toggleable__content {max-height: 200px;max-width: 100%;overflow: auto;}#sk-container-id-3 input.sk-toggleable__control:checked~label.sk-toggleable__label-arrow:before {content: \"▾\";}#sk-container-id-3 div.sk-estimator input.sk-toggleable__control:checked~label.sk-toggleable__label {background-color: #d4ebff;}#sk-container-id-3 div.sk-label input.sk-toggleable__control:checked~label.sk-toggleable__label {background-color: #d4ebff;}#sk-container-id-3 input.sk-hidden--visually {border: 0;clip: rect(1px 1px 1px 1px);clip: rect(1px, 1px, 1px, 1px);height: 1px;margin: -1px;overflow: hidden;padding: 0;position: absolute;width: 1px;}#sk-container-id-3 div.sk-estimator {font-family: monospace;background-color: #f0f8ff;border: 1px dotted black;border-radius: 0.25em;box-sizing: border-box;margin-bottom: 0.5em;}#sk-container-id-3 div.sk-estimator:hover {background-color: #d4ebff;}#sk-container-id-3 div.sk-parallel-item::after {content: \"\";width: 100%;border-bottom: 1px solid gray;flex-grow: 1;}#sk-container-id-3 div.sk-label:hover label.sk-toggleable__label {background-color: #d4ebff;}#sk-container-id-3 div.sk-serial::before {content: \"\";position: absolute;border-left: 1px solid gray;box-sizing: border-box;top: 0;bottom: 0;left: 50%;z-index: 0;}#sk-container-id-3 div.sk-serial {display: flex;flex-direction: column;align-items: center;background-color: white;padding-right: 0.2em;padding-left: 0.2em;position: relative;}#sk-container-id-3 div.sk-item {position: relative;z-index: 1;}#sk-container-id-3 div.sk-parallel {display: flex;align-items: stretch;justify-content: center;background-color: white;position: relative;}#sk-container-id-3 div.sk-item::before, #sk-container-id-3 div.sk-parallel-item::before {content: \"\";position: absolute;border-left: 1px solid gray;box-sizing: border-box;top: 0;bottom: 0;left: 50%;z-index: -1;}#sk-container-id-3 div.sk-parallel-item {display: flex;flex-direction: column;z-index: 1;position: relative;background-color: white;}#sk-container-id-3 div.sk-parallel-item:first-child::after {align-self: flex-end;width: 50%;}#sk-container-id-3 div.sk-parallel-item:last-child::after {align-self: flex-start;width: 50%;}#sk-container-id-3 div.sk-parallel-item:only-child::after {width: 0;}#sk-container-id-3 div.sk-dashed-wrapped {border: 1px dashed gray;margin: 0 0.4em 0.5em 0.4em;box-sizing: border-box;padding-bottom: 0.4em;background-color: white;}#sk-container-id-3 div.sk-label label {font-family: monospace;font-weight: bold;display: inline-block;line-height: 1.2em;}#sk-container-id-3 div.sk-label-container {text-align: center;}#sk-container-id-3 div.sk-container {/* jupyter's `normalize.less` sets `[hidden] { display: none; }` but bootstrap.min.css set `[hidden] { display: none !important; }` so we also need the `!important` here to be able to override the default hidden behavior on the sphinx rendered scikit-learn.org. See: https://github.com/scikit-learn/scikit-learn/issues/21755 */display: inline-block !important;position: relative;}#sk-container-id-3 div.sk-text-repr-fallback {display: none;}</style><div id=\"sk-container-id-3\" class=\"sk-top-container\"><div class=\"sk-text-repr-fallback\"><pre>RandomForestClassifier()</pre><b>In a Jupyter environment, please rerun this cell to show the HTML representation or trust the notebook. <br />On GitHub, the HTML representation is unable to render, please try loading this page with nbviewer.org.</b></div><div class=\"sk-container\" hidden><div class=\"sk-item\"><div class=\"sk-estimator sk-toggleable\"><input class=\"sk-toggleable__control sk-hidden--visually\" id=\"sk-estimator-id-3\" type=\"checkbox\" checked><label for=\"sk-estimator-id-3\" class=\"sk-toggleable__label sk-toggleable__label-arrow\">RandomForestClassifier</label><div class=\"sk-toggleable__content\"><pre>RandomForestClassifier()</pre></div></div></div></div></div>"
            ]
          },
          "metadata": {},
          "execution_count": 98
        }
      ]
    },
    {
      "cell_type": "code",
      "source": [
        "y_pred = model_oa.predict(X_test)"
      ],
      "metadata": {
        "id": "cb2tUPyogo12"
      },
      "execution_count": null,
      "outputs": []
    },
    {
      "cell_type": "code",
      "source": [
        "print(classification_report(y_test, y_pred))"
      ],
      "metadata": {
        "colab": {
          "base_uri": "https://localhost:8080/"
        },
        "id": "7SokovlMfxOg",
        "outputId": "704165c1-360c-4607-e1b0-c15992719905"
      },
      "execution_count": null,
      "outputs": [
        {
          "output_type": "stream",
          "name": "stdout",
          "text": [
            "              precision    recall  f1-score   support\n",
            "\n",
            "           0       0.92      0.22      0.35        50\n",
            "           1       0.79      0.99      0.88       150\n",
            "\n",
            "    accuracy                           0.80       200\n",
            "   macro avg       0.85      0.61      0.62       200\n",
            "weighted avg       0.82      0.80      0.75       200\n",
            "\n"
          ]
        }
      ]
    },
    {
      "cell_type": "code",
      "source": [
        "fig, ax = plt.subplots(figsize=(6, 6)) # modify figure size\n",
        "RocCurveDisplay.from_estimator(model_oa, X_test, y_test, ax = ax)"
      ],
      "metadata": {
        "colab": {
          "base_uri": "https://localhost:8080/",
          "height": 405
        },
        "id": "qyjeCCsxzoow",
        "outputId": "4bb49629-02ff-4464-c72b-bfbda8d8c538"
      },
      "execution_count": null,
      "outputs": [
        {
          "output_type": "execute_result",
          "data": {
            "text/plain": [
              "<sklearn.metrics._plot.roc_curve.RocCurveDisplay at 0x7f76771af8b0>"
            ]
          },
          "metadata": {},
          "execution_count": 101
        },
        {
          "output_type": "display_data",
          "data": {
            "text/plain": [
              "<Figure size 432x432 with 1 Axes>"
            ],
            "image/png": "[encoded data removed]"
          },
          "metadata": {
            "needs_background": "light"
          }
        }
      ]
    },
    {
      "cell_type": "markdown",
      "source": [
        "A much better performance in terms of AUC!"
      ],
      "metadata": {
        "id": "tofKLYn34QmC"
      }
    },
    {
      "cell_type": "markdown",
      "source": [
        "---\n",
        "\n",
        "# S8. Exercise\n",
        "\n",
        "In the above sections, only the review data were used to build the model. But obviously, the `drugName` and `condition`, to some extent, also contain useful information, which might be useful to further improve the model's prediction performance. Thus, in this excercise, you are required to use `drugName`, `condition`, as well as embeddings from `review` data altogether to build a machine leaning model to predict the `rating`, and compare the performance of it with the model using only the `review` data (`model_ti`).\n",
        "\n",
        "To begin, start by running codes in sections 1 and 2 to import the drug review dataset. "
      ],
      "metadata": {
        "id": "OQFuBVc2bq4q"
      }
    },
    {
      "cell_type": "markdown",
      "source": [
        "**Part 1**: Create a training and testing dataset that includes `drugName`, `condition`, `review`, and `rating`. \n",
        "\n",
        "You are encouraged to start with a small portion of data, such as the 1,000 patients that I used in above sections, because the more data is used, the more computation time is required."
      ],
      "metadata": {
        "id": "lxfzOTcv6v7E"
      }
    },
    {
      "cell_type": "code",
      "source": [
        "## YOUR CODE HERE ##\n",
        "\n",
        "# hint: refer to section 3 above. \n",
        "# Select more columns rather than just 'review' and 'rating'.\n",
        "# Concatenate columns you choose to generate a new column."
      ],
      "metadata": {
        "id": "kLILKTSrMrsi"
      },
      "execution_count": null,
      "outputs": []
    },
    {
      "cell_type": "markdown",
      "source": [
        "**Part 2**: Use TF-IDF or OpenAI embedding method to vectorize the new generated column.\n",
        "\n",
        "If you choose to use the OpenAI embedding method, please don't include too much data. Otherwise, it will take a long time to get the embedding data from OpenAI."
      ],
      "metadata": {
        "id": "g3PH3VG9JBXJ"
      }
    },
    {
      "cell_type": "code",
      "source": [
        "## YOUR CODE HERE ##\n",
        "\n",
        "# hint: refer to either section 4, 5 or 7 above."
      ],
      "metadata": {
        "id": "562MNhFSr5xs"
      },
      "execution_count": null,
      "outputs": []
    },
    {
      "cell_type": "markdown",
      "source": [
        "**Part 4**: Define a Random Forest Classifier and train the model.\n",
        "\n",
        "You may use any other models you want to try, including the models you learnt from this class or other models you learnt elsewhere.\n"
      ],
      "metadata": {
        "id": "iJryVw4nJTa9"
      }
    },
    {
      "cell_type": "code",
      "source": [
        "## YOUR CODE HERE ##\n",
        "\n",
        "# hint: refer to section 6 above. "
      ],
      "metadata": {
        "id": "nKisMBFMr509"
      },
      "execution_count": null,
      "outputs": []
    },
    {
      "cell_type": "markdown",
      "source": [
        "**Part 5**: Test the model on test dataset and compare the performance with the models with just review data.\n"
      ],
      "metadata": {
        "id": "iei8vgkSJ2Fz"
      }
    },
    {
      "cell_type": "code",
      "source": [
        "## YOUR CODE HERE ##\n",
        "\n",
        "# hint: refer to section 6 above. "
      ],
      "metadata": {
        "id": "afVjbcEPr55j"
      },
      "execution_count": null,
      "outputs": []
    },
    {
      "cell_type": "code",
      "source": [],
      "metadata": {
        "id": "xRHE3bphr4z5"
      },
      "execution_count": null,
      "outputs": []
    },
    {
      "cell_type": "code",
      "source": [],
      "metadata": {
        "id": "oVR4Sthqr435"
      },
      "execution_count": null,
      "outputs": []
    }
  ],
  "metadata": {
    "colab": {
      "provenance": [],
      "toc_visible": true,
      "include_colab_link": true
    },
    "kernelspec": {
      "display_name": "Python 3",
      "name": "python3"
    }
  },
  "nbformat": 4,
  "nbformat_minor": 0
}