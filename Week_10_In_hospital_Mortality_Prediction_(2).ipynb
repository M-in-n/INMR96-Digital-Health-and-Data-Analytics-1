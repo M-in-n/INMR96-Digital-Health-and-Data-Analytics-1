{
  "nbformat": 4,
  "nbformat_minor": 0,
  "metadata": {
    "colab": {
      "name": "Week 10 In-hospital Mortality Prediction (2).ipynb",
      "provenance": [],
      "collapsed_sections": [],
      "toc_visible": true,
      "authorship_tag": "ABX9TyPeFgzDvftX4YA/j2zJ8BZv",
      "include_colab_link": true
    },
    "kernelspec": {
      "name": "python3",
      "display_name": "Python 3"
    }
  },
  "cells": [
    {
      "cell_type": "markdown",
      "metadata": {
        "id": "view-in-github",
        "colab_type": "text"
      },
      "source": [
        "<a href=\"https://colab.research.google.com/github/nbchan/INMR96-Digital-Health-and-Data-Analytics/blob/main/Week_10_In_hospital_Mortality_Prediction_(2).ipynb\" target=\"_parent\"><img src=\"https://colab.research.google.com/assets/colab-badge.svg\" alt=\"Open In Colab\"/></a>"
      ]
    },
    {
      "cell_type": "markdown",
      "metadata": {
        "id": "frajfwsbe055"
      },
      "source": [
        "# Example: In-hospital Mortality Prediction (Cont'd)"
      ]
    },
    {
      "cell_type": "markdown",
      "metadata": {
        "id": "bnGIpIj4cJaq"
      },
      "source": [
        "## Setup"
      ]
    },
    {
      "cell_type": "markdown",
      "metadata": {
        "id": "BmkFn7Yrck1t"
      },
      "source": [
        "**Packages for data handling and visualization**"
      ]
    },
    {
      "cell_type": "code",
      "metadata": {
        "id": "wMy8PYCmW22F"
      },
      "source": [
        "import pandas as pd\r\n",
        "import numpy as np\r\n",
        "\r\n",
        "import seaborn as sns \r\n",
        "import matplotlib.pyplot as plt\r\n",
        "%matplotlib inline"
      ],
      "execution_count": null,
      "outputs": []
    },
    {
      "cell_type": "markdown",
      "metadata": {
        "id": "0R0W3t47iq_O"
      },
      "source": [
        "**Packages for data analysis and modelling**"
      ]
    },
    {
      "cell_type": "code",
      "metadata": {
        "id": "zoHOrDu5ivPv"
      },
      "source": [
        "from sklearn.model_selection import train_test_split, GridSearchCV\r\n",
        "from sklearn.ensemble import RandomForestClassifier, RandomForestRegressor\r\n",
        "from sklearn.linear_model import LogisticRegression\r\n",
        "from sklearn.metrics import accuracy_score, f1_score, classification_report, plot_confusion_matrix, plot_roc_curve, mean_squared_error, r2_score"
      ],
      "execution_count": null,
      "outputs": []
    },
    {
      "cell_type": "markdown",
      "metadata": {
        "id": "nYZWbwV3cqHa"
      },
      "source": [
        "**Authenication for Google Drive access**\r\n",
        "\r\n",
        "If you saved the intermediate dataset in your Google Drive by following all the steps in Week 5 notebook, grant Colab access to your Google Drive and import it to the current notebook. You would need to authenicate yourself. \r\n",
        "\r\n",
        "Alternatively, when you are working on your own analysis, you may also put everything (i.e. codes for extracting data from BigQuery; exploring data; preparing and cleaning data; building models) in a single notebook. In that case you do not need to import the dataset from your Google Drive - simply continue with the cleaned dataset in your existing notebook environment. \r\n"
      ]
    },
    {
      "cell_type": "code",
      "metadata": {
        "colab": {
          "base_uri": "https://localhost:8080/"
        },
        "id": "EyV_r_xhbuxw",
        "outputId": "b242ef83-20f0-4202-d582-c8ef962cd62b"
      },
      "source": [
        "from google.colab import drive \r\n",
        "drive.mount('/content/gdrive', force_remount = True)\r\n",
        "\r\n",
        "gdrive_rootpath = '/content/gdrive/MyDrive/'"
      ],
      "execution_count": null,
      "outputs": [
        {
          "output_type": "stream",
          "text": [
            "Mounted at /content/gdrive\n"
          ],
          "name": "stdout"
        }
      ]
    },
    {
      "cell_type": "code",
      "metadata": {
        "colab": {
          "base_uri": "https://localhost:8080/"
        },
        "id": "VosxWnKTbwcD",
        "outputId": "f3d52b88-f5ef-4555-ab10-de11daa4838e"
      },
      "source": [
        "df = pd.read_csv(gdrive_rootpath + 'mimic_in_hosp_death_clean.csv')"
      ],
      "execution_count": null,
      "outputs": [
        {
          "output_type": "stream",
          "text": [
            "/usr/local/lib/python3.7/dist-packages/IPython/core/interactiveshell.py:2718: DtypeWarning: Columns (5) have mixed types.Specify dtype option on import or set low_memory=False.\n",
            "  interactivity=interactivity, compiler=compiler, result=result)\n"
          ],
          "name": "stderr"
        }
      ]
    },
    {
      "cell_type": "code",
      "metadata": {
        "colab": {
          "base_uri": "https://localhost:8080/"
        },
        "id": "9bMdrT9jecVR",
        "outputId": "9ffc52b1-6892-456e-c9ea-f8e8d24d883f"
      },
      "source": [
        "df.info()"
      ],
      "execution_count": null,
      "outputs": [
        {
          "output_type": "stream",
          "text": [
            "<class 'pandas.core.frame.DataFrame'>\n",
            "RangeIndex: 58976 entries, 0 to 58975\n",
            "Data columns (total 64 columns):\n",
            " #   Column                            Non-Null Count  Dtype  \n",
            "---  ------                            --------------  -----  \n",
            " 0   SUBJECT_ID                        58976 non-null  int64  \n",
            " 1   HADM_ID                           58976 non-null  int64  \n",
            " 2   ADMISSION_TYPE                    58976 non-null  object \n",
            " 3   ADMITTIME                         58976 non-null  object \n",
            " 4   DISCHTIME                         58976 non-null  object \n",
            " 5   DEATHTIME                         5854 non-null   object \n",
            " 6   IN_HOSP_DEATH                     58976 non-null  int64  \n",
            " 7   DIAGNOSIS                         58951 non-null  object \n",
            " 8   MARITAL_STATUS                    58976 non-null  object \n",
            " 9   INSURANCE                         58976 non-null  object \n",
            " 10  LANGUAGE                          58976 non-null  object \n",
            " 11  RELIGION                          58976 non-null  object \n",
            " 12  ETHNICITY                         58976 non-null  object \n",
            " 13  GENDER                            58976 non-null  object \n",
            " 14  DOB                               58976 non-null  object \n",
            " 15  LOS_ICU                           58976 non-null  float64\n",
            " 16  CALLOUT_COUNT                     58976 non-null  float64\n",
            " 17  DIAG_COUNT                        58976 non-null  int64  \n",
            " 18  PRES_COUNT                        58976 non-null  float64\n",
            " 19  PROC_COUNT                        58976 non-null  float64\n",
            " 20  CPT_COUNT                         58976 non-null  float64\n",
            " 21  LAB_COUNT                         58976 non-null  float64\n",
            " 22  INPUTS_CV_COUNT                   58976 non-null  float64\n",
            " 23  INPUTS_MV_COUNT                   58976 non-null  float64\n",
            " 24  OUTPUT_COUNT                      58976 non-null  float64\n",
            " 25  TRANSFER_COUNT                    58976 non-null  int64  \n",
            " 26  MICRO_COUNT                       58976 non-null  float64\n",
            " 27  AGE                               58976 non-null  int64  \n",
            " 28  LOS                               58976 non-null  float64\n",
            " 29  CALLOUT_COUNT_DAY                 58976 non-null  float64\n",
            " 30  PRES_COUNT_DAY                    58976 non-null  float64\n",
            " 31  PROC_COUNT_DAY                    58976 non-null  float64\n",
            " 32  CPT_COUNT_DAY                     58976 non-null  float64\n",
            " 33  LAB_COUNT_DAY                     58976 non-null  float64\n",
            " 34  INPUTS_CV_COUNT_DAY               58976 non-null  float64\n",
            " 35  INPUTS_MV_COUNT_DAY               58976 non-null  float64\n",
            " 36  OUTPUT_COUNT_DAY                  58976 non-null  float64\n",
            " 37  TRANSFER_COUNT_DAY                58976 non-null  float64\n",
            " 38  MICRO_COUNT_DAY                   58976 non-null  float64\n",
            " 39  ADMISSION_TYPE_ELECTIVE           58976 non-null  int64  \n",
            " 40  ADMISSION_TYPE_EMERGENCY          58976 non-null  int64  \n",
            " 41  ADMISSION_TYPE_NEWBORN            58976 non-null  int64  \n",
            " 42  ADMISSION_TYPE_URGENT             58976 non-null  int64  \n",
            " 43  GENDER_F                          58976 non-null  int64  \n",
            " 44  RELIGION_CATHOLIC                 58976 non-null  int64  \n",
            " 45  RELIGION_NOT SPECIFIED            58976 non-null  int64  \n",
            " 46  RELIGION_UNOBTAINABLE             58976 non-null  int64  \n",
            " 47  RELIGION_OTHERS                   58976 non-null  int64  \n",
            " 48  INSURANCE_Medicare                58976 non-null  int64  \n",
            " 49  INSURANCE_Private                 58976 non-null  int64  \n",
            " 50  INSURANCE_Medicaid                58976 non-null  int64  \n",
            " 51  INSURANCE_OTHERS                  58976 non-null  int64  \n",
            " 52  MARITAL_STATUS_MARRIED            58976 non-null  int64  \n",
            " 53  MARITAL_STATUS_SINGLE             58976 non-null  int64  \n",
            " 54  MARITAL_STATUS_UNKNOWN (DEFAULT)  58976 non-null  int64  \n",
            " 55  MARITAL_STATUS_OTHERS             58976 non-null  int64  \n",
            " 56  LANGUAGE_ENGL                     58976 non-null  int64  \n",
            " 57  LANGUAGE_SPAN                     58976 non-null  int64  \n",
            " 58  LANGUAGE_RUSS                     58976 non-null  int64  \n",
            " 59  LANGUAGE_OTHERS                   58976 non-null  int64  \n",
            " 60  ETHNICITY_WHITE                   58976 non-null  int64  \n",
            " 61  ETHNICITY_BLACK/AFRICAN AMERICAN  58976 non-null  int64  \n",
            " 62  ETHNICITY_UNKNOWN/NOT SPECIFIED   58976 non-null  int64  \n",
            " 63  ETHNICITY_OTHERS                  58976 non-null  int64  \n",
            "dtypes: float64(21), int64(31), object(12)\n",
            "memory usage: 28.8+ MB\n"
          ],
          "name": "stdout"
        }
      ]
    },
    {
      "cell_type": "code",
      "metadata": {
        "colab": {
          "base_uri": "https://localhost:8080/",
          "height": 400
        },
        "id": "oLSCWB-Wnixu",
        "outputId": "fcf3dce5-14ac-4ac6-ed88-c696be6ac791"
      },
      "source": [
        "df.head()"
      ],
      "execution_count": null,
      "outputs": [
        {
          "output_type": "execute_result",
          "data": {
            "text/html": [
              "<div>\n",
              "<style scoped>\n",
              "    .dataframe tbody tr th:only-of-type {\n",
              "        vertical-align: middle;\n",
              "    }\n",
              "\n",
              "    .dataframe tbody tr th {\n",
              "        vertical-align: top;\n",
              "    }\n",
              "\n",
              "    .dataframe thead th {\n",
              "        text-align: right;\n",
              "    }\n",
              "</style>\n",
              "<table border=\"1\" class=\"dataframe\">\n",
              "  <thead>\n",
              "    <tr style=\"text-align: right;\">\n",
              "      <th></th>\n",
              "      <th>SUBJECT_ID</th>\n",
              "      <th>HADM_ID</th>\n",
              "      <th>ADMISSION_TYPE</th>\n",
              "      <th>ADMITTIME</th>\n",
              "      <th>DISCHTIME</th>\n",
              "      <th>DEATHTIME</th>\n",
              "      <th>IN_HOSP_DEATH</th>\n",
              "      <th>DIAGNOSIS</th>\n",
              "      <th>MARITAL_STATUS</th>\n",
              "      <th>INSURANCE</th>\n",
              "      <th>LANGUAGE</th>\n",
              "      <th>RELIGION</th>\n",
              "      <th>ETHNICITY</th>\n",
              "      <th>GENDER</th>\n",
              "      <th>DOB</th>\n",
              "      <th>LOS_ICU</th>\n",
              "      <th>CALLOUT_COUNT</th>\n",
              "      <th>DIAG_COUNT</th>\n",
              "      <th>PRES_COUNT</th>\n",
              "      <th>PROC_COUNT</th>\n",
              "      <th>CPT_COUNT</th>\n",
              "      <th>LAB_COUNT</th>\n",
              "      <th>INPUTS_CV_COUNT</th>\n",
              "      <th>INPUTS_MV_COUNT</th>\n",
              "      <th>OUTPUT_COUNT</th>\n",
              "      <th>TRANSFER_COUNT</th>\n",
              "      <th>MICRO_COUNT</th>\n",
              "      <th>AGE</th>\n",
              "      <th>LOS</th>\n",
              "      <th>CALLOUT_COUNT_DAY</th>\n",
              "      <th>PRES_COUNT_DAY</th>\n",
              "      <th>PROC_COUNT_DAY</th>\n",
              "      <th>CPT_COUNT_DAY</th>\n",
              "      <th>LAB_COUNT_DAY</th>\n",
              "      <th>INPUTS_CV_COUNT_DAY</th>\n",
              "      <th>INPUTS_MV_COUNT_DAY</th>\n",
              "      <th>OUTPUT_COUNT_DAY</th>\n",
              "      <th>TRANSFER_COUNT_DAY</th>\n",
              "      <th>MICRO_COUNT_DAY</th>\n",
              "      <th>ADMISSION_TYPE_ELECTIVE</th>\n",
              "      <th>ADMISSION_TYPE_EMERGENCY</th>\n",
              "      <th>ADMISSION_TYPE_NEWBORN</th>\n",
              "      <th>ADMISSION_TYPE_URGENT</th>\n",
              "      <th>GENDER_F</th>\n",
              "      <th>RELIGION_CATHOLIC</th>\n",
              "      <th>RELIGION_NOT SPECIFIED</th>\n",
              "      <th>RELIGION_UNOBTAINABLE</th>\n",
              "      <th>RELIGION_OTHERS</th>\n",
              "      <th>INSURANCE_Medicare</th>\n",
              "      <th>INSURANCE_Private</th>\n",
              "      <th>INSURANCE_Medicaid</th>\n",
              "      <th>INSURANCE_OTHERS</th>\n",
              "      <th>MARITAL_STATUS_MARRIED</th>\n",
              "      <th>MARITAL_STATUS_SINGLE</th>\n",
              "      <th>MARITAL_STATUS_UNKNOWN (DEFAULT)</th>\n",
              "      <th>MARITAL_STATUS_OTHERS</th>\n",
              "      <th>LANGUAGE_ENGL</th>\n",
              "      <th>LANGUAGE_SPAN</th>\n",
              "      <th>LANGUAGE_RUSS</th>\n",
              "      <th>LANGUAGE_OTHERS</th>\n",
              "      <th>ETHNICITY_WHITE</th>\n",
              "      <th>ETHNICITY_BLACK/AFRICAN AMERICAN</th>\n",
              "      <th>ETHNICITY_UNKNOWN/NOT SPECIFIED</th>\n",
              "      <th>ETHNICITY_OTHERS</th>\n",
              "    </tr>\n",
              "  </thead>\n",
              "  <tbody>\n",
              "    <tr>\n",
              "      <th>0</th>\n",
              "      <td>7275</td>\n",
              "      <td>136809</td>\n",
              "      <td>EMERGENCY</td>\n",
              "      <td>2139-08-28 12:35:00</td>\n",
              "      <td>2139-09-01 16:32:00</td>\n",
              "      <td>NaN</td>\n",
              "      <td>0</td>\n",
              "      <td>ALTERED MENTAL STATUS; DYSPNEA</td>\n",
              "      <td>DIVORCED</td>\n",
              "      <td>Medicare</td>\n",
              "      <td>ENGL</td>\n",
              "      <td>EPISCOPALIAN</td>\n",
              "      <td>WHITE</td>\n",
              "      <td>M</td>\n",
              "      <td>2078-11-11 00:00:00</td>\n",
              "      <td>1.3848</td>\n",
              "      <td>1.0</td>\n",
              "      <td>15</td>\n",
              "      <td>44.0</td>\n",
              "      <td>1.0</td>\n",
              "      <td>7.0</td>\n",
              "      <td>182.0</td>\n",
              "      <td>0.0</td>\n",
              "      <td>18.0</td>\n",
              "      <td>0.0</td>\n",
              "      <td>3</td>\n",
              "      <td>47.0</td>\n",
              "      <td>60</td>\n",
              "      <td>4.164583</td>\n",
              "      <td>0.200000</td>\n",
              "      <td>8.800000</td>\n",
              "      <td>0.200000</td>\n",
              "      <td>1.400000</td>\n",
              "      <td>36.4</td>\n",
              "      <td>0.000000</td>\n",
              "      <td>3.6</td>\n",
              "      <td>0.000000</td>\n",
              "      <td>0.600000</td>\n",
              "      <td>9.400000</td>\n",
              "      <td>0</td>\n",
              "      <td>1</td>\n",
              "      <td>0</td>\n",
              "      <td>0</td>\n",
              "      <td>0</td>\n",
              "      <td>0</td>\n",
              "      <td>0</td>\n",
              "      <td>0</td>\n",
              "      <td>1</td>\n",
              "      <td>1</td>\n",
              "      <td>0</td>\n",
              "      <td>0</td>\n",
              "      <td>0</td>\n",
              "      <td>0</td>\n",
              "      <td>0</td>\n",
              "      <td>0</td>\n",
              "      <td>1</td>\n",
              "      <td>1</td>\n",
              "      <td>0</td>\n",
              "      <td>0</td>\n",
              "      <td>0</td>\n",
              "      <td>1</td>\n",
              "      <td>0</td>\n",
              "      <td>0</td>\n",
              "      <td>0</td>\n",
              "    </tr>\n",
              "    <tr>\n",
              "      <th>1</th>\n",
              "      <td>17575</td>\n",
              "      <td>187131</td>\n",
              "      <td>EMERGENCY</td>\n",
              "      <td>2124-10-21 08:32:00</td>\n",
              "      <td>2124-11-01 11:14:00</td>\n",
              "      <td>NaN</td>\n",
              "      <td>0</td>\n",
              "      <td>MVA;TRAUMA</td>\n",
              "      <td>SINGLE</td>\n",
              "      <td>Government</td>\n",
              "      <td>ENGL</td>\n",
              "      <td>OTHER</td>\n",
              "      <td>BLACK/AFRICAN AMERICAN</td>\n",
              "      <td>M</td>\n",
              "      <td>2106-01-23 00:00:00</td>\n",
              "      <td>3.2653</td>\n",
              "      <td>0.0</td>\n",
              "      <td>9</td>\n",
              "      <td>0.0</td>\n",
              "      <td>9.0</td>\n",
              "      <td>0.0</td>\n",
              "      <td>408.0</td>\n",
              "      <td>331.0</td>\n",
              "      <td>0.0</td>\n",
              "      <td>89.0</td>\n",
              "      <td>3</td>\n",
              "      <td>27.0</td>\n",
              "      <td>18</td>\n",
              "      <td>11.112500</td>\n",
              "      <td>0.000000</td>\n",
              "      <td>0.000000</td>\n",
              "      <td>0.750000</td>\n",
              "      <td>0.000000</td>\n",
              "      <td>34.0</td>\n",
              "      <td>27.583333</td>\n",
              "      <td>0.0</td>\n",
              "      <td>7.416667</td>\n",
              "      <td>0.250000</td>\n",
              "      <td>2.250000</td>\n",
              "      <td>0</td>\n",
              "      <td>1</td>\n",
              "      <td>0</td>\n",
              "      <td>0</td>\n",
              "      <td>0</td>\n",
              "      <td>0</td>\n",
              "      <td>0</td>\n",
              "      <td>0</td>\n",
              "      <td>1</td>\n",
              "      <td>0</td>\n",
              "      <td>0</td>\n",
              "      <td>0</td>\n",
              "      <td>1</td>\n",
              "      <td>0</td>\n",
              "      <td>1</td>\n",
              "      <td>0</td>\n",
              "      <td>0</td>\n",
              "      <td>1</td>\n",
              "      <td>0</td>\n",
              "      <td>0</td>\n",
              "      <td>0</td>\n",
              "      <td>0</td>\n",
              "      <td>1</td>\n",
              "      <td>0</td>\n",
              "      <td>0</td>\n",
              "    </tr>\n",
              "    <tr>\n",
              "      <th>2</th>\n",
              "      <td>25251</td>\n",
              "      <td>142346</td>\n",
              "      <td>EMERGENCY</td>\n",
              "      <td>2167-01-23 16:23:00</td>\n",
              "      <td>2167-02-06 13:53:00</td>\n",
              "      <td>NaN</td>\n",
              "      <td>0</td>\n",
              "      <td>INFECTED RIGHT FOOT</td>\n",
              "      <td>DIVORCED</td>\n",
              "      <td>Medicare</td>\n",
              "      <td>ENGL</td>\n",
              "      <td>EPISCOPALIAN</td>\n",
              "      <td>WHITE</td>\n",
              "      <td>M</td>\n",
              "      <td>2096-08-27 00:00:00</td>\n",
              "      <td>3.2458</td>\n",
              "      <td>0.0</td>\n",
              "      <td>9</td>\n",
              "      <td>0.0</td>\n",
              "      <td>8.0</td>\n",
              "      <td>0.0</td>\n",
              "      <td>574.0</td>\n",
              "      <td>390.0</td>\n",
              "      <td>0.0</td>\n",
              "      <td>90.0</td>\n",
              "      <td>6</td>\n",
              "      <td>46.0</td>\n",
              "      <td>70</td>\n",
              "      <td>13.895833</td>\n",
              "      <td>0.000000</td>\n",
              "      <td>0.000000</td>\n",
              "      <td>0.571429</td>\n",
              "      <td>0.000000</td>\n",
              "      <td>41.0</td>\n",
              "      <td>27.857143</td>\n",
              "      <td>0.0</td>\n",
              "      <td>6.428571</td>\n",
              "      <td>0.428571</td>\n",
              "      <td>3.285714</td>\n",
              "      <td>0</td>\n",
              "      <td>1</td>\n",
              "      <td>0</td>\n",
              "      <td>0</td>\n",
              "      <td>0</td>\n",
              "      <td>0</td>\n",
              "      <td>0</td>\n",
              "      <td>0</td>\n",
              "      <td>1</td>\n",
              "      <td>1</td>\n",
              "      <td>0</td>\n",
              "      <td>0</td>\n",
              "      <td>0</td>\n",
              "      <td>0</td>\n",
              "      <td>0</td>\n",
              "      <td>0</td>\n",
              "      <td>1</td>\n",
              "      <td>1</td>\n",
              "      <td>0</td>\n",
              "      <td>0</td>\n",
              "      <td>0</td>\n",
              "      <td>1</td>\n",
              "      <td>0</td>\n",
              "      <td>0</td>\n",
              "      <td>0</td>\n",
              "    </tr>\n",
              "    <tr>\n",
              "      <th>3</th>\n",
              "      <td>32339</td>\n",
              "      <td>181355</td>\n",
              "      <td>EMERGENCY</td>\n",
              "      <td>2110-07-29 23:56:00</td>\n",
              "      <td>2110-08-04 15:10:00</td>\n",
              "      <td>NaN</td>\n",
              "      <td>0</td>\n",
              "      <td>GASTROINTESTINAL BLEED;CHEST PAIN;TELEMETRY</td>\n",
              "      <td>MARRIED</td>\n",
              "      <td>Medicare</td>\n",
              "      <td>ENGL</td>\n",
              "      <td>JEWISH</td>\n",
              "      <td>WHITE</td>\n",
              "      <td>M</td>\n",
              "      <td>1810-07-29 00:00:00</td>\n",
              "      <td>1.7603</td>\n",
              "      <td>1.0</td>\n",
              "      <td>15</td>\n",
              "      <td>30.0</td>\n",
              "      <td>2.0</td>\n",
              "      <td>8.0</td>\n",
              "      <td>207.0</td>\n",
              "      <td>0.0</td>\n",
              "      <td>21.0</td>\n",
              "      <td>20.0</td>\n",
              "      <td>4</td>\n",
              "      <td>0.0</td>\n",
              "      <td>90</td>\n",
              "      <td>5.634722</td>\n",
              "      <td>0.166667</td>\n",
              "      <td>5.000000</td>\n",
              "      <td>0.333333</td>\n",
              "      <td>1.333333</td>\n",
              "      <td>34.5</td>\n",
              "      <td>0.000000</td>\n",
              "      <td>3.5</td>\n",
              "      <td>3.333333</td>\n",
              "      <td>0.666667</td>\n",
              "      <td>0.000000</td>\n",
              "      <td>0</td>\n",
              "      <td>1</td>\n",
              "      <td>0</td>\n",
              "      <td>0</td>\n",
              "      <td>0</td>\n",
              "      <td>0</td>\n",
              "      <td>0</td>\n",
              "      <td>0</td>\n",
              "      <td>1</td>\n",
              "      <td>1</td>\n",
              "      <td>0</td>\n",
              "      <td>0</td>\n",
              "      <td>0</td>\n",
              "      <td>1</td>\n",
              "      <td>0</td>\n",
              "      <td>0</td>\n",
              "      <td>0</td>\n",
              "      <td>1</td>\n",
              "      <td>0</td>\n",
              "      <td>0</td>\n",
              "      <td>0</td>\n",
              "      <td>1</td>\n",
              "      <td>0</td>\n",
              "      <td>0</td>\n",
              "      <td>0</td>\n",
              "    </tr>\n",
              "    <tr>\n",
              "      <th>4</th>\n",
              "      <td>30746</td>\n",
              "      <td>155603</td>\n",
              "      <td>EMERGENCY</td>\n",
              "      <td>2131-08-22 23:07:00</td>\n",
              "      <td>2131-08-28 13:10:00</td>\n",
              "      <td>NaN</td>\n",
              "      <td>0</td>\n",
              "      <td>ALTERED MENTAL STATUS</td>\n",
              "      <td>DIVORCED</td>\n",
              "      <td>Medicare</td>\n",
              "      <td>ENGL</td>\n",
              "      <td>JEWISH</td>\n",
              "      <td>WHITE</td>\n",
              "      <td>M</td>\n",
              "      <td>2055-03-16 00:00:00</td>\n",
              "      <td>5.5894</td>\n",
              "      <td>0.0</td>\n",
              "      <td>22</td>\n",
              "      <td>53.0</td>\n",
              "      <td>6.0</td>\n",
              "      <td>10.0</td>\n",
              "      <td>378.0</td>\n",
              "      <td>165.0</td>\n",
              "      <td>0.0</td>\n",
              "      <td>115.0</td>\n",
              "      <td>7</td>\n",
              "      <td>5.0</td>\n",
              "      <td>76</td>\n",
              "      <td>5.585417</td>\n",
              "      <td>0.000000</td>\n",
              "      <td>8.833333</td>\n",
              "      <td>1.000000</td>\n",
              "      <td>1.666667</td>\n",
              "      <td>63.0</td>\n",
              "      <td>27.500000</td>\n",
              "      <td>0.0</td>\n",
              "      <td>19.166667</td>\n",
              "      <td>1.166667</td>\n",
              "      <td>0.833333</td>\n",
              "      <td>0</td>\n",
              "      <td>1</td>\n",
              "      <td>0</td>\n",
              "      <td>0</td>\n",
              "      <td>0</td>\n",
              "      <td>0</td>\n",
              "      <td>0</td>\n",
              "      <td>0</td>\n",
              "      <td>1</td>\n",
              "      <td>1</td>\n",
              "      <td>0</td>\n",
              "      <td>0</td>\n",
              "      <td>0</td>\n",
              "      <td>0</td>\n",
              "      <td>0</td>\n",
              "      <td>0</td>\n",
              "      <td>1</td>\n",
              "      <td>1</td>\n",
              "      <td>0</td>\n",
              "      <td>0</td>\n",
              "      <td>0</td>\n",
              "      <td>1</td>\n",
              "      <td>0</td>\n",
              "      <td>0</td>\n",
              "      <td>0</td>\n",
              "    </tr>\n",
              "  </tbody>\n",
              "</table>\n",
              "</div>"
            ],
            "text/plain": [
              "   SUBJECT_ID  HADM_ID  ... ETHNICITY_UNKNOWN/NOT SPECIFIED ETHNICITY_OTHERS\n",
              "0        7275   136809  ...                               0                0\n",
              "1       17575   187131  ...                               0                0\n",
              "2       25251   142346  ...                               0                0\n",
              "3       32339   181355  ...                               0                0\n",
              "4       30746   155603  ...                               0                0\n",
              "\n",
              "[5 rows x 64 columns]"
            ]
          },
          "metadata": {
            "tags": []
          },
          "execution_count": 6
        }
      ]
    },
    {
      "cell_type": "markdown",
      "metadata": {
        "id": "7kNWwOYsnnF5"
      },
      "source": [
        "`IN_HOSP_DEATH` would be our prediction target. Here, let's define a list of 38 column names for features/inputs we would use in the model as not all columns are appropriate (e.g. `SUBJECT_ID`). "
      ]
    },
    {
      "cell_type": "code",
      "metadata": {
        "colab": {
          "base_uri": "https://localhost:8080/"
        },
        "id": "OwtYw-H2nj-Z",
        "outputId": "3c80a5f7-329a-493e-93c0-60926cb664ed"
      },
      "source": [
        "features_list = ['GENDER_F', 'AGE', 'LOS', 'LOS_ICU', \r\n",
        "                 'CALLOUT_COUNT_DAY', 'PRES_COUNT_DAY', 'PROC_COUNT_DAY',\r\n",
        "                 'CPT_COUNT_DAY', 'LAB_COUNT_DAY', 'INPUTS_CV_COUNT_DAY',\r\n",
        "                 'INPUTS_MV_COUNT_DAY', 'OUTPUT_COUNT_DAY', 'TRANSFER_COUNT_DAY',\r\n",
        "                 'MICRO_COUNT_DAY', \r\n",
        "                 'ADMISSION_TYPE_ELECTIVE', 'ADMISSION_TYPE_EMERGENCY', 'ADMISSION_TYPE_NEWBORN', 'ADMISSION_TYPE_URGENT', \r\n",
        "                 'RELIGION_CATHOLIC', 'RELIGION_NOT SPECIFIED', 'RELIGION_UNOBTAINABLE', 'RELIGION_OTHERS', \r\n",
        "                 'INSURANCE_Medicare', 'INSURANCE_Private', 'INSURANCE_Medicaid', 'INSURANCE_OTHERS',\r\n",
        "                 'MARITAL_STATUS_MARRIED', 'MARITAL_STATUS_SINGLE', 'MARITAL_STATUS_UNKNOWN (DEFAULT)', 'MARITAL_STATUS_OTHERS',\r\n",
        "                 'LANGUAGE_ENGL', 'LANGUAGE_SPAN', 'LANGUAGE_RUSS', 'LANGUAGE_OTHERS',\r\n",
        "                 'ETHNICITY_WHITE', 'ETHNICITY_BLACK/AFRICAN AMERICAN', 'ETHNICITY_UNKNOWN/NOT SPECIFIED', 'ETHNICITY_OTHERS']\r\n",
        "\r\n",
        "len(features_list)"
      ],
      "execution_count": null,
      "outputs": [
        {
          "output_type": "execute_result",
          "data": {
            "text/plain": [
              "38"
            ]
          },
          "metadata": {
            "tags": []
          },
          "execution_count": 7
        }
      ]
    },
    {
      "cell_type": "code",
      "metadata": {
        "id": "cnPEJnMjq8dG"
      },
      "source": [
        "X = df[features_list]\r\n",
        "y = df['IN_HOSP_DEATH']"
      ],
      "execution_count": null,
      "outputs": []
    },
    {
      "cell_type": "markdown",
      "metadata": {
        "id": "ciDSdMSXjI9V"
      },
      "source": [
        "## Train-test Split\r\n",
        "\r\n",
        "* Help mitigate overfitting (model learns to fit the noise and error terms of the data) while we train machine learning models\r\n",
        "* Allow us to report an unbiased performance metric using data unseen by the model\r\n",
        "* A 70-30 or 80-20 split is usually the most common. \r\n",
        "\r\n",
        "![](https://miro.medium.com/max/694/1*tBErXYVvTw2jSUYK7thU2A.png)\r\n",
        "\r\n",
        "([Source](https://towardsdatascience.com/train-test-split-and-cross-validation-in-python-80b61beca4b6))"
      ]
    },
    {
      "cell_type": "code",
      "metadata": {
        "id": "A6MFgGhUjYwb"
      },
      "source": [
        "X_train, X_test, y_train, y_test = train_test_split(X, y, \r\n",
        "                                                    test_size = 0.2,  # 20% of data belongs to the test set\r\n",
        "                                                    random_state = 1, # make sure the split is the same across different devices for illustrative purposes\r\n",
        "                                                    stratify = y)     # ensure the number of positive examples in the train and test sets are similar"
      ],
      "execution_count": null,
      "outputs": []
    },
    {
      "cell_type": "code",
      "metadata": {
        "colab": {
          "base_uri": "https://localhost:8080/"
        },
        "id": "lhSH-NEhrcVI",
        "outputId": "5ea3fed3-3715-44da-ae4d-7dcc7f1c847c"
      },
      "source": [
        "X_train.shape"
      ],
      "execution_count": null,
      "outputs": [
        {
          "output_type": "execute_result",
          "data": {
            "text/plain": [
              "(47180, 38)"
            ]
          },
          "metadata": {
            "tags": []
          },
          "execution_count": 10
        }
      ]
    },
    {
      "cell_type": "code",
      "metadata": {
        "colab": {
          "base_uri": "https://localhost:8080/"
        },
        "id": "H_C9DfnRrsjS",
        "outputId": "60deafe1-5366-4c60-ee41-165a667571a9"
      },
      "source": [
        "X_test.shape"
      ],
      "execution_count": null,
      "outputs": [
        {
          "output_type": "execute_result",
          "data": {
            "text/plain": [
              "(11796, 38)"
            ]
          },
          "metadata": {
            "tags": []
          },
          "execution_count": 11
        }
      ]
    },
    {
      "cell_type": "markdown",
      "metadata": {
        "id": "BIzFO247rmjB"
      },
      "source": [
        "As a result, our training and test set would include 47,180 and 11,796 admissions respectively. "
      ]
    },
    {
      "cell_type": "markdown",
      "metadata": {
        "id": "eor-Oq3x7iio"
      },
      "source": [
        "## Logistic Regression"
      ]
    },
    {
      "cell_type": "markdown",
      "metadata": {
        "id": "Gq_fZIosiaFl"
      },
      "source": [
        "In this example, we would be utilizing the package package [Scikit-learn](https://scikit-learn.org/stable/user_guide.html) heavily for modelling. In Scikit-learn, the general flow can be simplified as follows:\r\n",
        "\r\n",
        "1. Specify a model to be trained\r\n",
        "  * Choose a type of model based on your task and dataset. A full list of available models in the package can be found [here](https://scikit-learn.org/stable/modules/classes.html).\r\n",
        "  * Set the hyperparameters of the model. \r\n",
        "  * Assign the model to a variable.\r\n",
        "2. Train the model\r\n",
        "  * Call the `.fit()` function using your cleaned train dataset.\r\n",
        "3. Make predictions\r\n",
        "  * Call the `.predict()` function using your cleaned test dataset."
      ]
    },
    {
      "cell_type": "markdown",
      "metadata": {
        "id": "tWAF-5GWD1FT"
      },
      "source": [
        "### Model Training and Prediction"
      ]
    },
    {
      "cell_type": "code",
      "metadata": {
        "id": "QGiQXnaF7k-U"
      },
      "source": [
        "# 1. Specify a model to be trained\r\n",
        "model_lr = LogisticRegression(random_state = 1, \r\n",
        "                              n_jobs = -1) # use all available CPUs within your Colab notebook for computation"
      ],
      "execution_count": null,
      "outputs": []
    },
    {
      "cell_type": "code",
      "metadata": {
        "colab": {
          "base_uri": "https://localhost:8080/"
        },
        "id": "OUVdAqCa7_VJ",
        "outputId": "c6830cb8-8b85-4c6b-d2df-32d277dd4495"
      },
      "source": [
        "# 2. Train the model\r\n",
        "model_lr.fit(X_train, y_train)"
      ],
      "execution_count": null,
      "outputs": [
        {
          "output_type": "execute_result",
          "data": {
            "text/plain": [
              "LogisticRegression(n_jobs=-1, random_state=1)"
            ]
          },
          "metadata": {
            "tags": []
          },
          "execution_count": 13
        }
      ]
    },
    {
      "cell_type": "code",
      "metadata": {
        "id": "FXJk0ZS48Jgq",
        "colab": {
          "base_uri": "https://localhost:8080/"
        },
        "outputId": "59e50323-430a-41be-dfa1-19bfdb3b7fc1"
      },
      "source": [
        "# 3. Make predictions\r\n",
        "y_pred_lr = model_lr.predict(X_test)\r\n",
        "y_pred_lr"
      ],
      "execution_count": null,
      "outputs": [
        {
          "output_type": "execute_result",
          "data": {
            "text/plain": [
              "array([1, 0, 0, ..., 0, 0, 0])"
            ]
          },
          "metadata": {
            "tags": []
          },
          "execution_count": 14
        }
      ]
    },
    {
      "cell_type": "markdown",
      "metadata": {
        "id": "pihaxTN1BIHc"
      },
      "source": [
        "Use `.predict_proba()` instead if you want probabilistic outputs over class outputs. "
      ]
    },
    {
      "cell_type": "code",
      "metadata": {
        "colab": {
          "base_uri": "https://localhost:8080/"
        },
        "id": "IPJQ8npLBCB-",
        "outputId": "64ccbf82-4cd6-4887-9c46-5dbb34341f36"
      },
      "source": [
        "model_lr.predict_proba(X_test) # the two columns represent the prob of 0 and 1 respectively "
      ],
      "execution_count": null,
      "outputs": [
        {
          "output_type": "execute_result",
          "data": {
            "text/plain": [
              "array([[0.27561257, 0.72438743],\n",
              "       [0.98961611, 0.01038389],\n",
              "       [0.94710806, 0.05289194],\n",
              "       ...,\n",
              "       [0.86003954, 0.13996046],\n",
              "       [0.98685631, 0.01314369],\n",
              "       [0.93034924, 0.06965076]])"
            ]
          },
          "metadata": {
            "tags": []
          },
          "execution_count": 15
        }
      ]
    },
    {
      "cell_type": "markdown",
      "metadata": {
        "id": "hOvZnFB-ksjf"
      },
      "source": [
        "### Evaluation"
      ]
    },
    {
      "cell_type": "markdown",
      "metadata": {
        "id": "SC-UKsTmJMoG"
      },
      "source": [
        "There are several metrics for evaluating the binary classification performances. In general, F1-score, being the harmonic mean of precision and recall, is the most common metric for these kind of machine learning problems.  \r\n",
        "\r\n",
        "![binary classification metrics](https://2.bp.blogspot.com/-EvSXDotTOwc/XMfeOGZ-CVI/AAAAAAAAEiE/oePFfvhfOQM11dgRn9FkPxlegCXbgOF4QCLcBGAs/s1600/confusionMatrxiUpdated.jpg)\r\n",
        "\r\n",
        "([Source](https://manisha-sirsat.blogspot.com/2019/04/confusion-matrix.html))"
      ]
    },
    {
      "cell_type": "code",
      "metadata": {
        "colab": {
          "base_uri": "https://localhost:8080/"
        },
        "id": "jnlsu2WX8PYR",
        "outputId": "243612dd-4b70-4325-b43d-cfa8a51503b1"
      },
      "source": [
        "accuracy_score(y_test, y_pred_lr)"
      ],
      "execution_count": null,
      "outputs": [
        {
          "output_type": "execute_result",
          "data": {
            "text/plain": [
              "0.9261614106476772"
            ]
          },
          "metadata": {
            "tags": []
          },
          "execution_count": 16
        }
      ]
    },
    {
      "cell_type": "code",
      "metadata": {
        "colab": {
          "base_uri": "https://localhost:8080/"
        },
        "id": "qwZSc1LA8Tf3",
        "outputId": "37711136-4a88-4fe2-cc91-e422ce695021"
      },
      "source": [
        "print(classification_report(y_test, y_pred_lr))"
      ],
      "execution_count": null,
      "outputs": [
        {
          "output_type": "stream",
          "text": [
            "              precision    recall  f1-score   support\n",
            "\n",
            "           0       0.93      0.99      0.96     10625\n",
            "           1       0.81      0.34      0.48      1171\n",
            "\n",
            "    accuracy                           0.93     11796\n",
            "   macro avg       0.87      0.66      0.72     11796\n",
            "weighted avg       0.92      0.93      0.91     11796\n",
            "\n"
          ],
          "name": "stdout"
        }
      ]
    },
    {
      "cell_type": "code",
      "metadata": {
        "colab": {
          "base_uri": "https://localhost:8080/",
          "height": 279
        },
        "id": "HFe6SKZG8YRE",
        "outputId": "b484b596-db5d-4a55-8f28-d615ce3c9635"
      },
      "source": [
        "plot_confusion_matrix(model_lr, X_test, y_test, values_format = 'd')\r\n",
        "plt.show()"
      ],
      "execution_count": null,
      "outputs": [
        {
          "output_type": "display_data",
          "data": {
            "image/png": "[encoded data removed]",
            "text/plain": [
              "<Figure size 432x288 with 2 Axes>"
            ]
          },
          "metadata": {
            "tags": [],
            "needs_background": "light"
          }
        }
      ]
    },
    {
      "cell_type": "code",
      "metadata": {
        "colab": {
          "base_uri": "https://localhost:8080/",
          "height": 279
        },
        "id": "lvT6wt7D8h2K",
        "outputId": "8f8d6219-b3b7-4388-a8e5-93fc5b3c56a6"
      },
      "source": [
        "# recall-related metrics\r\n",
        "plot_confusion_matrix(model_lr, X_test, y_test, normalize = 'true') \r\n",
        "plt.show()"
      ],
      "execution_count": null,
      "outputs": [
        {
          "output_type": "display_data",
          "data": {
            "image/png": "[encoded data removed]",
            "text/plain": [
              "<Figure size 432x288 with 2 Axes>"
            ]
          },
          "metadata": {
            "tags": [],
            "needs_background": "light"
          }
        }
      ]
    },
    {
      "cell_type": "code",
      "metadata": {
        "colab": {
          "base_uri": "https://localhost:8080/",
          "height": 279
        },
        "id": "KqwWsT628lgb",
        "outputId": "719d22f2-fab9-4d52-bdd6-2a2580a25a12"
      },
      "source": [
        "# precision-related metrics\r\n",
        "plot_confusion_matrix(model_lr, X_test, y_test, normalize = 'pred')\r\n",
        "plt.show()"
      ],
      "execution_count": null,
      "outputs": [
        {
          "output_type": "display_data",
          "data": {
            "image/png": "[encoded data removed]",
            "text/plain": [
              "<Figure size 432x288 with 2 Axes>"
            ]
          },
          "metadata": {
            "tags": [],
            "needs_background": "light"
          }
        }
      ]
    },
    {
      "cell_type": "code",
      "metadata": {
        "colab": {
          "base_uri": "https://localhost:8080/",
          "height": 279
        },
        "id": "l3Hx-hA49EAY",
        "outputId": "7a1da18d-f5c4-432c-adf9-f8555f7b1e21"
      },
      "source": [
        "plot_roc_curve(model_lr, X_test, y_test)\r\n",
        "plt.show()"
      ],
      "execution_count": null,
      "outputs": [
        {
          "output_type": "display_data",
          "data": {
            "image/png": "[encoded data removed]",
            "text/plain": [
              "<Figure size 432x288 with 1 Axes>"
            ]
          },
          "metadata": {
            "tags": [],
            "needs_background": "light"
          }
        }
      ]
    },
    {
      "cell_type": "markdown",
      "metadata": {
        "id": "tvMK4tiplLnL"
      },
      "source": [
        "**Observations**\r\n",
        "\r\n",
        "* Despite having an accuracy of 92.6%, the overall F1-score is around 48%. The high accuracy is due to class imbalance and the model predicted the majority class (`IN_HOSP_DEATH == 0`) correctly. \r\n",
        "* The recall for the positive examples is 34%, meaning that only around one-third of those who died within their hospital stay is successfully detected by the model."
      ]
    },
    {
      "cell_type": "markdown",
      "metadata": {
        "id": "LHHfnCJyfTX6"
      },
      "source": [
        "## Random Forest Model\r\n",
        "\r\n",
        "![Random Forest](https://cdn.analyticsvidhya.com/wp-content/uploads/2020/02/rfc_vs_dt1.png)\r\n",
        "\r\n",
        "([Source](https://www.analyticsvidhya.com/blog/2020/05/decision-tree-vs-random-forest-algorithm/))"
      ]
    },
    {
      "cell_type": "markdown",
      "metadata": {
        "id": "L7oHuPdhD_IB"
      },
      "source": [
        "### Model Training and Prediction\r\n"
      ]
    },
    {
      "cell_type": "markdown",
      "metadata": {
        "id": "V5tJmuoF2fns"
      },
      "source": [
        "Define the configuration/hyperparameters of a random forest model. Here we specify that the model contains 200 decision trees."
      ]
    },
    {
      "cell_type": "code",
      "metadata": {
        "id": "Wqmi5cLRiiOY"
      },
      "source": [
        "model_rf1 = RandomForestClassifier(n_estimators = 200, \r\n",
        "                                   random_state = 1,\r\n",
        "                                   n_jobs = -1)"
      ],
      "execution_count": null,
      "outputs": []
    },
    {
      "cell_type": "code",
      "metadata": {
        "colab": {
          "base_uri": "https://localhost:8080/"
        },
        "id": "OjdZWia9seQG",
        "outputId": "f084ef89-9add-46fe-f04d-f629c5795d5a"
      },
      "source": [
        "model_rf1.fit(X_train, y_train)"
      ],
      "execution_count": null,
      "outputs": [
        {
          "output_type": "execute_result",
          "data": {
            "text/plain": [
              "RandomForestClassifier(n_estimators=200, n_jobs=-1, random_state=1)"
            ]
          },
          "metadata": {
            "tags": []
          },
          "execution_count": 23
        }
      ]
    },
    {
      "cell_type": "code",
      "metadata": {
        "id": "UCT2LIRVspQm"
      },
      "source": [
        "y_pred_rf1 = model_rf1.predict(X_test)"
      ],
      "execution_count": null,
      "outputs": []
    },
    {
      "cell_type": "markdown",
      "metadata": {
        "id": "tTRnCjeQo99E"
      },
      "source": [
        "### Evaluation"
      ]
    },
    {
      "cell_type": "code",
      "metadata": {
        "colab": {
          "base_uri": "https://localhost:8080/"
        },
        "id": "BOtbFXtnthqp",
        "outputId": "efb048a0-b754-4590-ba6c-a97080ae04d0"
      },
      "source": [
        "print(classification_report(y_test, y_pred_rf1))"
      ],
      "execution_count": null,
      "outputs": [
        {
          "output_type": "stream",
          "text": [
            "              precision    recall  f1-score   support\n",
            "\n",
            "           0       0.94      0.99      0.97     10625\n",
            "           1       0.86      0.45      0.59      1171\n",
            "\n",
            "    accuracy                           0.94     11796\n",
            "   macro avg       0.90      0.72      0.78     11796\n",
            "weighted avg       0.93      0.94      0.93     11796\n",
            "\n"
          ],
          "name": "stdout"
        }
      ]
    },
    {
      "cell_type": "code",
      "metadata": {
        "colab": {
          "base_uri": "https://localhost:8080/",
          "height": 279
        },
        "id": "uLgZypY3urFh",
        "outputId": "641ca6b8-50c0-49d8-c655-7e5316fc5ac8"
      },
      "source": [
        "plot_confusion_matrix(model_rf1, X_test, y_test, values_format = 'd')\r\n",
        "plt.show()"
      ],
      "execution_count": null,
      "outputs": [
        {
          "output_type": "display_data",
          "data": {
            "image/png": "[encoded data removed]",
            "text/plain": [
              "<Figure size 432x288 with 2 Axes>"
            ]
          },
          "metadata": {
            "tags": [],
            "needs_background": "light"
          }
        }
      ]
    },
    {
      "cell_type": "code",
      "metadata": {
        "colab": {
          "base_uri": "https://localhost:8080/",
          "height": 279
        },
        "id": "7Ahk6WufuRLz",
        "outputId": "966b5a39-d5e0-4b99-e2fe-6944b03982e6"
      },
      "source": [
        "plot_confusion_matrix(model_rf1, X_test, y_test, normalize = 'true') # recall\r\n",
        "plt.show()"
      ],
      "execution_count": null,
      "outputs": [
        {
          "output_type": "display_data",
          "data": {
            "image/png": "[encoded data removed]",
            "text/plain": [
              "<Figure size 432x288 with 2 Axes>"
            ]
          },
          "metadata": {
            "tags": [],
            "needs_background": "light"
          }
        }
      ]
    },
    {
      "cell_type": "code",
      "metadata": {
        "colab": {
          "base_uri": "https://localhost:8080/",
          "height": 279
        },
        "id": "wp80ZUg-u-Gg",
        "outputId": "e65f9a3b-7b60-4bf1-8417-ccee9345075e"
      },
      "source": [
        "plot_confusion_matrix(model_rf1, X_test, y_test, normalize = 'pred') # precision\r\n",
        "plt.show()"
      ],
      "execution_count": null,
      "outputs": [
        {
          "output_type": "display_data",
          "data": {
            "image/png": "[encoded data removed]",
            "text/plain": [
              "<Figure size 432x288 with 2 Axes>"
            ]
          },
          "metadata": {
            "tags": [],
            "needs_background": "light"
          }
        }
      ]
    },
    {
      "cell_type": "code",
      "metadata": {
        "colab": {
          "base_uri": "https://localhost:8080/",
          "height": 296
        },
        "id": "WCRazCo84o-4",
        "outputId": "08009c25-dc46-4af3-f924-7415ed8ace01"
      },
      "source": [
        "plot_roc_curve(model_rf1, X_test, y_test)"
      ],
      "execution_count": null,
      "outputs": [
        {
          "output_type": "execute_result",
          "data": {
            "text/plain": [
              "<sklearn.metrics._plot.roc_curve.RocCurveDisplay at 0x7ff2895ce290>"
            ]
          },
          "metadata": {
            "tags": []
          },
          "execution_count": 29
        },
        {
          "output_type": "display_data",
          "data": {
            "image/png": "[encoded data removed]",
            "text/plain": [
              "<Figure size 432x288 with 1 Axes>"
            ]
          },
          "metadata": {
            "tags": [],
            "needs_background": "light"
          }
        }
      ]
    },
    {
      "cell_type": "markdown",
      "metadata": {
        "id": "gLnxdK8HxsU8"
      },
      "source": [
        "## Tuning Random Forest Model"
      ]
    },
    {
      "cell_type": "markdown",
      "metadata": {
        "id": "bs2HkiyHpB3J"
      },
      "source": [
        "Now, we try to **tune the hyperparameters** of the random forest model above based on cross-validation and grid search. We apply the `GridSearchCV()` function and specify a list of hyperparameters and their respective values to be tested. Models are trained for each combination of values and fold. The best performing set of hyperparameters across all folds would then be reported and used. \r\n",
        "\r\n",
        "![train-validation-test split](https://scikit-learn.org/stable/_images/grid_search_cross_validation.png)\r\n",
        "\r\n",
        "([Source](https://scikit-learn.org/stable/))\r\n",
        "\r\n",
        "---\r\n",
        "\r\n",
        "Performing this step requires at least a basic understanding on the meaning and effect of each hyperparameter. You should always refer to the docs of the model you are using in this step ([RandomForestClassifier](https://scikit-learn.org/stable/modules/generated/sklearn.ensemble.RandomForestClassifier.html#sklearn.ensemble.RandomForestClassifier) in this case). An explanation of Random Forest hyperparameters can also be found [here](https://www.analyticsvidhya.com/blog/2020/03/beginners-guide-random-forest-hyperparameter-tuning/).\r\n"
      ]
    },
    {
      "cell_type": "code",
      "metadata": {
        "id": "Y4vRJXjmxvrN"
      },
      "source": [
        "# a set of hyperparameters and their respective values to be tested\r\n",
        "\r\n",
        "param_grid = {\r\n",
        "    'n_estimators': [100, 200, 300],   # number of decision trees in the forest \r\n",
        "    'max_depth': [10, 40, None],       # how many times can each tree be split. None means no specific limit. \r\n",
        "    'class_weight': ['balanced', None] # weight of each sample. None means equal weight, balanced would put more weight on the less represented classes\r\n",
        "}"
      ],
      "execution_count": null,
      "outputs": []
    },
    {
      "cell_type": "code",
      "metadata": {
        "id": "EFtKiI7c0VjS"
      },
      "source": [
        "grid_search_rf = GridSearchCV(\r\n",
        "    estimator = RandomForestClassifier(random_state = 1, n_jobs = -1), # define type of model to be tuned\r\n",
        "    param_grid = param_grid,                                           # hyperparameters to be tested\r\n",
        "    cv = 3,                                                            # 3-fold cross-validation\r\n",
        "    scoring = 'f1',                                                    # metric to be optimized\r\n",
        "    n_jobs = -1, \r\n",
        "    verbose = 2\r\n",
        "    )"
      ],
      "execution_count": null,
      "outputs": []
    },
    {
      "cell_type": "code",
      "metadata": {
        "colab": {
          "base_uri": "https://localhost:8080/"
        },
        "id": "wS14hVIj0uM_",
        "outputId": "3e91f791-90d0-4688-be76-8ca3292b1f49"
      },
      "source": [
        "grid_search_rf.fit(X_train, y_train)\r\n",
        "\r\n",
        "# this would take 10 to 15 minutes to run\r\n",
        "# this could take even longer depending on the number of hyperparameters to be tested, number of folds or the size of the dataset"
      ],
      "execution_count": null,
      "outputs": [
        {
          "output_type": "stream",
          "text": [
            "Fitting 3 folds for each of 18 candidates, totalling 54 fits\n"
          ],
          "name": "stdout"
        },
        {
          "output_type": "execute_result",
          "data": {
            "text/plain": [
              "GridSearchCV(cv=3, estimator=RandomForestClassifier(n_jobs=-1, random_state=1),\n",
              "             n_jobs=-1,\n",
              "             param_grid={'class_weight': ['balanced', None],\n",
              "                         'max_depth': [10, 40, None],\n",
              "                         'n_estimators': [100, 200, 300]},\n",
              "             scoring='f1', verbose=2)"
            ]
          },
          "metadata": {
            "tags": []
          },
          "execution_count": 32
        }
      ]
    },
    {
      "cell_type": "markdown",
      "metadata": {
        "id": "1gA6PwpnvPC2"
      },
      "source": [
        "### Tuning Results"
      ]
    },
    {
      "cell_type": "markdown",
      "metadata": {
        "id": "sLNk7_ZTvbhB"
      },
      "source": [
        "Retrieve the best performing set of hyperparams using `.best_params_`"
      ]
    },
    {
      "cell_type": "code",
      "metadata": {
        "colab": {
          "base_uri": "https://localhost:8080/"
        },
        "id": "8jep2Ldq1Emf",
        "outputId": "925a7196-f64d-4b93-acd6-8944eca7b8f2"
      },
      "source": [
        "grid_search_rf.best_params_"
      ],
      "execution_count": null,
      "outputs": [
        {
          "output_type": "execute_result",
          "data": {
            "text/plain": [
              "{'class_weight': 'balanced', 'max_depth': 10, 'n_estimators': 300}"
            ]
          },
          "metadata": {
            "tags": []
          },
          "execution_count": 33
        }
      ]
    },
    {
      "cell_type": "markdown",
      "metadata": {
        "id": "a6VcIv99vjLg"
      },
      "source": [
        "Retrieve the best performing model using `.best_estimator_` and save it as a seperate variable."
      ]
    },
    {
      "cell_type": "code",
      "metadata": {
        "id": "Ym-B3o651GxV"
      },
      "source": [
        "model_rf2 = grid_search_rf.best_estimator_"
      ],
      "execution_count": null,
      "outputs": []
    },
    {
      "cell_type": "code",
      "metadata": {
        "colab": {
          "base_uri": "https://localhost:8080/"
        },
        "id": "mv0WdXk3vwvi",
        "outputId": "3cec8cbb-9fc3-4cda-f500-995b8c62d17d"
      },
      "source": [
        "model_rf2\r\n",
        "\r\n",
        "# Note: this would be the same as training a seperate model using the same inputs, i.e.\r\n",
        "# model_rf2 = RandomForestClassifier(class_weight='balanced', max_depth=10, n_estimators=300,\r\n",
        "#                                    n_jobs=-1, random_state=1)\r\n",
        "# model_rf2.fit(X_train, y_train)"
      ],
      "execution_count": null,
      "outputs": [
        {
          "output_type": "execute_result",
          "data": {
            "text/plain": [
              "RandomForestClassifier(class_weight='balanced', max_depth=10, n_estimators=300,\n",
              "                       n_jobs=-1, random_state=1)"
            ]
          },
          "metadata": {
            "tags": []
          },
          "execution_count": 35
        }
      ]
    },
    {
      "cell_type": "markdown",
      "metadata": {
        "id": "P5HT7AZjvzoL"
      },
      "source": [
        "Use `.cv_results_` in case you want to look into the details of each set of hyperparams. This could help you determine the apprioriate range of each hyperparameter, and thus setting up better `param_grid`'s in any subsequent tuning using more refined ranges. For exampleIn the example below, it appears that having a `max_depth` of 10 is better than both 40 and `None`."
      ]
    },
    {
      "cell_type": "code",
      "metadata": {
        "colab": {
          "base_uri": "https://localhost:8080/",
          "height": 1000
        },
        "id": "AWBGTs2McRBb",
        "outputId": "992c21b0-deca-49da-83a4-76fe7a77d3b0"
      },
      "source": [
        "pd.DataFrame(grid_search_rf.cv_results_)"
      ],
      "execution_count": null,
      "outputs": [
        {
          "output_type": "execute_result",
          "data": {
            "text/html": [
              "<div>\n",
              "<style scoped>\n",
              "    .dataframe tbody tr th:only-of-type {\n",
              "        vertical-align: middle;\n",
              "    }\n",
              "\n",
              "    .dataframe tbody tr th {\n",
              "        vertical-align: top;\n",
              "    }\n",
              "\n",
              "    .dataframe thead th {\n",
              "        text-align: right;\n",
              "    }\n",
              "</style>\n",
              "<table border=\"1\" class=\"dataframe\">\n",
              "  <thead>\n",
              "    <tr style=\"text-align: right;\">\n",
              "      <th></th>\n",
              "      <th>mean_fit_time</th>\n",
              "      <th>std_fit_time</th>\n",
              "      <th>mean_score_time</th>\n",
              "      <th>std_score_time</th>\n",
              "      <th>param_class_weight</th>\n",
              "      <th>param_max_depth</th>\n",
              "      <th>param_n_estimators</th>\n",
              "      <th>params</th>\n",
              "      <th>split0_test_score</th>\n",
              "      <th>split1_test_score</th>\n",
              "      <th>split2_test_score</th>\n",
              "      <th>mean_test_score</th>\n",
              "      <th>std_test_score</th>\n",
              "      <th>rank_test_score</th>\n",
              "    </tr>\n",
              "  </thead>\n",
              "  <tbody>\n",
              "    <tr>\n",
              "      <th>0</th>\n",
              "      <td>6.866797</td>\n",
              "      <td>0.203686</td>\n",
              "      <td>0.563543</td>\n",
              "      <td>0.007106</td>\n",
              "      <td>balanced</td>\n",
              "      <td>10</td>\n",
              "      <td>100</td>\n",
              "      <td>{'class_weight': 'balanced', 'max_depth': 10, ...</td>\n",
              "      <td>0.598391</td>\n",
              "      <td>0.601504</td>\n",
              "      <td>0.609319</td>\n",
              "      <td>0.603071</td>\n",
              "      <td>0.004597</td>\n",
              "      <td>3</td>\n",
              "    </tr>\n",
              "    <tr>\n",
              "      <th>1</th>\n",
              "      <td>13.866476</td>\n",
              "      <td>0.082146</td>\n",
              "      <td>1.019776</td>\n",
              "      <td>0.054300</td>\n",
              "      <td>balanced</td>\n",
              "      <td>10</td>\n",
              "      <td>200</td>\n",
              "      <td>{'class_weight': 'balanced', 'max_depth': 10, ...</td>\n",
              "      <td>0.601622</td>\n",
              "      <td>0.600324</td>\n",
              "      <td>0.609776</td>\n",
              "      <td>0.603907</td>\n",
              "      <td>0.004184</td>\n",
              "      <td>2</td>\n",
              "    </tr>\n",
              "    <tr>\n",
              "      <th>2</th>\n",
              "      <td>20.697762</td>\n",
              "      <td>0.228885</td>\n",
              "      <td>1.291654</td>\n",
              "      <td>0.105222</td>\n",
              "      <td>balanced</td>\n",
              "      <td>10</td>\n",
              "      <td>300</td>\n",
              "      <td>{'class_weight': 'balanced', 'max_depth': 10, ...</td>\n",
              "      <td>0.605078</td>\n",
              "      <td>0.601989</td>\n",
              "      <td>0.610927</td>\n",
              "      <td>0.605998</td>\n",
              "      <td>0.003707</td>\n",
              "      <td>1</td>\n",
              "    </tr>\n",
              "    <tr>\n",
              "      <th>3</th>\n",
              "      <td>9.690306</td>\n",
              "      <td>0.191491</td>\n",
              "      <td>0.622531</td>\n",
              "      <td>0.058136</td>\n",
              "      <td>balanced</td>\n",
              "      <td>40</td>\n",
              "      <td>100</td>\n",
              "      <td>{'class_weight': 'balanced', 'max_depth': 40, ...</td>\n",
              "      <td>0.566970</td>\n",
              "      <td>0.577417</td>\n",
              "      <td>0.556177</td>\n",
              "      <td>0.566855</td>\n",
              "      <td>0.008671</td>\n",
              "      <td>15</td>\n",
              "    </tr>\n",
              "    <tr>\n",
              "      <th>4</th>\n",
              "      <td>19.121491</td>\n",
              "      <td>0.325246</td>\n",
              "      <td>1.151203</td>\n",
              "      <td>0.084222</td>\n",
              "      <td>balanced</td>\n",
              "      <td>40</td>\n",
              "      <td>200</td>\n",
              "      <td>{'class_weight': 'balanced', 'max_depth': 40, ...</td>\n",
              "      <td>0.574614</td>\n",
              "      <td>0.579846</td>\n",
              "      <td>0.562500</td>\n",
              "      <td>0.572320</td>\n",
              "      <td>0.007265</td>\n",
              "      <td>11</td>\n",
              "    </tr>\n",
              "    <tr>\n",
              "      <th>5</th>\n",
              "      <td>27.818944</td>\n",
              "      <td>0.051675</td>\n",
              "      <td>1.781902</td>\n",
              "      <td>0.076243</td>\n",
              "      <td>balanced</td>\n",
              "      <td>40</td>\n",
              "      <td>300</td>\n",
              "      <td>{'class_weight': 'balanced', 'max_depth': 40, ...</td>\n",
              "      <td>0.575085</td>\n",
              "      <td>0.575835</td>\n",
              "      <td>0.556701</td>\n",
              "      <td>0.569207</td>\n",
              "      <td>0.008849</td>\n",
              "      <td>13</td>\n",
              "    </tr>\n",
              "    <tr>\n",
              "      <th>6</th>\n",
              "      <td>9.384119</td>\n",
              "      <td>0.036329</td>\n",
              "      <td>0.614783</td>\n",
              "      <td>0.040409</td>\n",
              "      <td>balanced</td>\n",
              "      <td>None</td>\n",
              "      <td>100</td>\n",
              "      <td>{'class_weight': 'balanced', 'max_depth': None...</td>\n",
              "      <td>0.566970</td>\n",
              "      <td>0.578272</td>\n",
              "      <td>0.556177</td>\n",
              "      <td>0.567140</td>\n",
              "      <td>0.009021</td>\n",
              "      <td>14</td>\n",
              "    </tr>\n",
              "    <tr>\n",
              "      <th>7</th>\n",
              "      <td>18.876429</td>\n",
              "      <td>0.313128</td>\n",
              "      <td>1.191651</td>\n",
              "      <td>0.047665</td>\n",
              "      <td>balanced</td>\n",
              "      <td>None</td>\n",
              "      <td>200</td>\n",
              "      <td>{'class_weight': 'balanced', 'max_depth': None...</td>\n",
              "      <td>0.574614</td>\n",
              "      <td>0.581197</td>\n",
              "      <td>0.562500</td>\n",
              "      <td>0.572770</td>\n",
              "      <td>0.007743</td>\n",
              "      <td>10</td>\n",
              "    </tr>\n",
              "    <tr>\n",
              "      <th>8</th>\n",
              "      <td>27.631272</td>\n",
              "      <td>0.274998</td>\n",
              "      <td>1.792615</td>\n",
              "      <td>0.043128</td>\n",
              "      <td>balanced</td>\n",
              "      <td>None</td>\n",
              "      <td>300</td>\n",
              "      <td>{'class_weight': 'balanced', 'max_depth': None...</td>\n",
              "      <td>0.575085</td>\n",
              "      <td>0.576445</td>\n",
              "      <td>0.556701</td>\n",
              "      <td>0.569411</td>\n",
              "      <td>0.009004</td>\n",
              "      <td>12</td>\n",
              "    </tr>\n",
              "    <tr>\n",
              "      <th>9</th>\n",
              "      <td>7.067659</td>\n",
              "      <td>0.178870</td>\n",
              "      <td>0.554796</td>\n",
              "      <td>0.080916</td>\n",
              "      <td>None</td>\n",
              "      <td>10</td>\n",
              "      <td>100</td>\n",
              "      <td>{'class_weight': None, 'max_depth': 10, 'n_est...</td>\n",
              "      <td>0.561465</td>\n",
              "      <td>0.564767</td>\n",
              "      <td>0.552115</td>\n",
              "      <td>0.559449</td>\n",
              "      <td>0.005358</td>\n",
              "      <td>18</td>\n",
              "    </tr>\n",
              "    <tr>\n",
              "      <th>10</th>\n",
              "      <td>14.055849</td>\n",
              "      <td>0.174350</td>\n",
              "      <td>0.850335</td>\n",
              "      <td>0.012100</td>\n",
              "      <td>None</td>\n",
              "      <td>10</td>\n",
              "      <td>200</td>\n",
              "      <td>{'class_weight': None, 'max_depth': 10, 'n_est...</td>\n",
              "      <td>0.566087</td>\n",
              "      <td>0.563636</td>\n",
              "      <td>0.555894</td>\n",
              "      <td>0.561872</td>\n",
              "      <td>0.004344</td>\n",
              "      <td>17</td>\n",
              "    </tr>\n",
              "    <tr>\n",
              "      <th>11</th>\n",
              "      <td>20.700048</td>\n",
              "      <td>0.185762</td>\n",
              "      <td>1.203073</td>\n",
              "      <td>0.054126</td>\n",
              "      <td>None</td>\n",
              "      <td>10</td>\n",
              "      <td>300</td>\n",
              "      <td>{'class_weight': None, 'max_depth': 10, 'n_est...</td>\n",
              "      <td>0.566087</td>\n",
              "      <td>0.565123</td>\n",
              "      <td>0.556136</td>\n",
              "      <td>0.562449</td>\n",
              "      <td>0.004481</td>\n",
              "      <td>16</td>\n",
              "    </tr>\n",
              "    <tr>\n",
              "      <th>12</th>\n",
              "      <td>10.590179</td>\n",
              "      <td>0.049360</td>\n",
              "      <td>0.646775</td>\n",
              "      <td>0.004959</td>\n",
              "      <td>None</td>\n",
              "      <td>40</td>\n",
              "      <td>100</td>\n",
              "      <td>{'class_weight': None, 'max_depth': 40, 'n_est...</td>\n",
              "      <td>0.599338</td>\n",
              "      <td>0.596520</td>\n",
              "      <td>0.589115</td>\n",
              "      <td>0.594991</td>\n",
              "      <td>0.004311</td>\n",
              "      <td>8</td>\n",
              "    </tr>\n",
              "    <tr>\n",
              "      <th>13</th>\n",
              "      <td>21.149698</td>\n",
              "      <td>0.228460</td>\n",
              "      <td>1.185792</td>\n",
              "      <td>0.104646</td>\n",
              "      <td>None</td>\n",
              "      <td>40</td>\n",
              "      <td>200</td>\n",
              "      <td>{'class_weight': None, 'max_depth': 40, 'n_est...</td>\n",
              "      <td>0.600249</td>\n",
              "      <td>0.598170</td>\n",
              "      <td>0.592007</td>\n",
              "      <td>0.596808</td>\n",
              "      <td>0.003500</td>\n",
              "      <td>6</td>\n",
              "    </tr>\n",
              "    <tr>\n",
              "      <th>14</th>\n",
              "      <td>32.170639</td>\n",
              "      <td>0.495513</td>\n",
              "      <td>1.800613</td>\n",
              "      <td>0.094481</td>\n",
              "      <td>None</td>\n",
              "      <td>40</td>\n",
              "      <td>300</td>\n",
              "      <td>{'class_weight': None, 'max_depth': 40, 'n_est...</td>\n",
              "      <td>0.606537</td>\n",
              "      <td>0.604651</td>\n",
              "      <td>0.590966</td>\n",
              "      <td>0.600718</td>\n",
              "      <td>0.006939</td>\n",
              "      <td>4</td>\n",
              "    </tr>\n",
              "    <tr>\n",
              "      <th>15</th>\n",
              "      <td>10.731626</td>\n",
              "      <td>0.012922</td>\n",
              "      <td>0.639571</td>\n",
              "      <td>0.007217</td>\n",
              "      <td>None</td>\n",
              "      <td>None</td>\n",
              "      <td>100</td>\n",
              "      <td>{'class_weight': None, 'max_depth': None, 'n_e...</td>\n",
              "      <td>0.597101</td>\n",
              "      <td>0.596520</td>\n",
              "      <td>0.589115</td>\n",
              "      <td>0.594246</td>\n",
              "      <td>0.003636</td>\n",
              "      <td>9</td>\n",
              "    </tr>\n",
              "    <tr>\n",
              "      <th>16</th>\n",
              "      <td>21.389042</td>\n",
              "      <td>0.345786</td>\n",
              "      <td>1.175279</td>\n",
              "      <td>0.053769</td>\n",
              "      <td>None</td>\n",
              "      <td>None</td>\n",
              "      <td>200</td>\n",
              "      <td>{'class_weight': None, 'max_depth': None, 'n_e...</td>\n",
              "      <td>0.599419</td>\n",
              "      <td>0.598170</td>\n",
              "      <td>0.592007</td>\n",
              "      <td>0.596532</td>\n",
              "      <td>0.003240</td>\n",
              "      <td>7</td>\n",
              "    </tr>\n",
              "    <tr>\n",
              "      <th>17</th>\n",
              "      <td>29.626519</td>\n",
              "      <td>2.884233</td>\n",
              "      <td>1.442950</td>\n",
              "      <td>0.441266</td>\n",
              "      <td>None</td>\n",
              "      <td>None</td>\n",
              "      <td>300</td>\n",
              "      <td>{'class_weight': None, 'max_depth': None, 'n_e...</td>\n",
              "      <td>0.605710</td>\n",
              "      <td>0.604651</td>\n",
              "      <td>0.590966</td>\n",
              "      <td>0.600442</td>\n",
              "      <td>0.006715</td>\n",
              "      <td>5</td>\n",
              "    </tr>\n",
              "  </tbody>\n",
              "</table>\n",
              "</div>"
            ],
            "text/plain": [
              "    mean_fit_time  std_fit_time  ...  std_test_score  rank_test_score\n",
              "0        6.866797      0.203686  ...        0.004597                3\n",
              "1       13.866476      0.082146  ...        0.004184                2\n",
              "2       20.697762      0.228885  ...        0.003707                1\n",
              "3        9.690306      0.191491  ...        0.008671               15\n",
              "4       19.121491      0.325246  ...        0.007265               11\n",
              "5       27.818944      0.051675  ...        0.008849               13\n",
              "6        9.384119      0.036329  ...        0.009021               14\n",
              "7       18.876429      0.313128  ...        0.007743               10\n",
              "8       27.631272      0.274998  ...        0.009004               12\n",
              "9        7.067659      0.178870  ...        0.005358               18\n",
              "10      14.055849      0.174350  ...        0.004344               17\n",
              "11      20.700048      0.185762  ...        0.004481               16\n",
              "12      10.590179      0.049360  ...        0.004311                8\n",
              "13      21.149698      0.228460  ...        0.003500                6\n",
              "14      32.170639      0.495513  ...        0.006939                4\n",
              "15      10.731626      0.012922  ...        0.003636                9\n",
              "16      21.389042      0.345786  ...        0.003240                7\n",
              "17      29.626519      2.884233  ...        0.006715                5\n",
              "\n",
              "[18 rows x 14 columns]"
            ]
          },
          "metadata": {
            "tags": []
          },
          "execution_count": 36
        }
      ]
    },
    {
      "cell_type": "markdown",
      "metadata": {
        "id": "SvVnZRpAvLBa"
      },
      "source": [
        "### Evaluation"
      ]
    },
    {
      "cell_type": "code",
      "metadata": {
        "id": "Gjo5zOBx-RzT"
      },
      "source": [
        "y_pred_rf2 = model_rf2.predict(X_test)"
      ],
      "execution_count": null,
      "outputs": []
    },
    {
      "cell_type": "code",
      "metadata": {
        "colab": {
          "base_uri": "https://localhost:8080/"
        },
        "id": "Jnx5uAvw6MqR",
        "outputId": "f72c240d-3a4b-4215-9070-3a96d197f2e4"
      },
      "source": [
        "print(classification_report(y_test, y_pred_rf2))"
      ],
      "execution_count": null,
      "outputs": [
        {
          "output_type": "stream",
          "text": [
            "              precision    recall  f1-score   support\n",
            "\n",
            "           0       0.97      0.92      0.94     10625\n",
            "           1       0.51      0.72      0.59      1171\n",
            "\n",
            "    accuracy                           0.90     11796\n",
            "   macro avg       0.74      0.82      0.77     11796\n",
            "weighted avg       0.92      0.90      0.91     11796\n",
            "\n"
          ],
          "name": "stdout"
        }
      ]
    },
    {
      "cell_type": "code",
      "metadata": {
        "colab": {
          "base_uri": "https://localhost:8080/",
          "height": 279
        },
        "id": "gMQmeeVC6xWD",
        "outputId": "1ae98c40-fa3b-4f75-b6c8-e9fe3322bcf3"
      },
      "source": [
        "plot_confusion_matrix(model_rf2, X_test, y_test, normalize = 'true') # recall\r\n",
        "plt.show()"
      ],
      "execution_count": null,
      "outputs": [
        {
          "output_type": "display_data",
          "data": {
            "image/png": "[encoded data removed]",
            "text/plain": [
              "<Figure size 432x288 with 2 Axes>"
            ]
          },
          "metadata": {
            "tags": [],
            "needs_background": "light"
          }
        }
      ]
    },
    {
      "cell_type": "code",
      "metadata": {
        "colab": {
          "base_uri": "https://localhost:8080/",
          "height": 279
        },
        "id": "2lAkOQUa6zC4",
        "outputId": "25588e97-a59c-41de-e35a-9f59220f755a"
      },
      "source": [
        "plot_confusion_matrix(model_rf2, X_test, y_test, normalize = 'pred') # precision\r\n",
        "plt.show()"
      ],
      "execution_count": null,
      "outputs": [
        {
          "output_type": "display_data",
          "data": {
            "image/png": "[encoded data removed]",
            "text/plain": [
              "<Figure size 432x288 with 2 Axes>"
            ]
          },
          "metadata": {
            "tags": [],
            "needs_background": "light"
          }
        }
      ]
    },
    {
      "cell_type": "code",
      "metadata": {
        "colab": {
          "base_uri": "https://localhost:8080/",
          "height": 296
        },
        "id": "q-ZH5xBD62LX",
        "outputId": "23625656-011e-4b2f-c431-76f0f0887065"
      },
      "source": [
        "plot_roc_curve(model_rf2, X_test, y_test)"
      ],
      "execution_count": null,
      "outputs": [
        {
          "output_type": "execute_result",
          "data": {
            "text/plain": [
              "<sklearn.metrics._plot.roc_curve.RocCurveDisplay at 0x7ff2893963d0>"
            ]
          },
          "metadata": {
            "tags": []
          },
          "execution_count": 41
        },
        {
          "output_type": "display_data",
          "data": {
            "image/png": "[encoded data removed]",
            "text/plain": [
              "<Figure size 432x288 with 1 Axes>"
            ]
          },
          "metadata": {
            "tags": [],
            "needs_background": "light"
          }
        }
      ]
    },
    {
      "cell_type": "markdown",
      "metadata": {
        "id": "9t197Ojpytec"
      },
      "source": [
        "**Observations**\r\n",
        "\r\n",
        "* The AUC (0.93 vs 0.92), accuracy (0.94 vs 0.9) and F1-scores (0.78 vs 0.77) of the untuned and tuned model are comparable. \r\n",
        "* The overall recall of the tuned model is remarkably higher (72% vs 82%). In particular, 72% of those who died within their hospital stay is successfully detected by the model."
      ]
    },
    {
      "cell_type": "markdown",
      "metadata": {
        "id": "sgSQuIWj2JVA"
      },
      "source": [
        "### Understanding the model\r\n",
        "\r\n",
        "One major strength of tree-based machine learning models is its inherent ability to report feature importance. This could be useful to finding insights in the model."
      ]
    },
    {
      "cell_type": "code",
      "metadata": {
        "colab": {
          "base_uri": "https://localhost:8080/"
        },
        "id": "ZQryJO6r3Hm5",
        "outputId": "91b29d31-574b-41ae-db2d-9fca407a3ba4"
      },
      "source": [
        "model_rf2_importance = pd.Series(model_rf2.feature_importances_, index = features_list)\r\n",
        "model_rf2_importance"
      ],
      "execution_count": null,
      "outputs": [
        {
          "output_type": "execute_result",
          "data": {
            "text/plain": [
              "GENDER_F                            0.001732\n",
              "AGE                                 0.060737\n",
              "LOS                                 0.067318\n",
              "LOS_ICU                             0.045185\n",
              "CALLOUT_COUNT_DAY                   0.073024\n",
              "PRES_COUNT_DAY                      0.051393\n",
              "PROC_COUNT_DAY                      0.031713\n",
              "CPT_COUNT_DAY                       0.091913\n",
              "LAB_COUNT_DAY                       0.204541\n",
              "INPUTS_CV_COUNT_DAY                 0.070303\n",
              "INPUTS_MV_COUNT_DAY                 0.026246\n",
              "OUTPUT_COUNT_DAY                    0.042628\n",
              "TRANSFER_COUNT_DAY                  0.027193\n",
              "MICRO_COUNT_DAY                     0.109172\n",
              "ADMISSION_TYPE_ELECTIVE             0.009640\n",
              "ADMISSION_TYPE_EMERGENCY            0.032882\n",
              "ADMISSION_TYPE_NEWBORN              0.010117\n",
              "ADMISSION_TYPE_URGENT               0.001607\n",
              "RELIGION_CATHOLIC                   0.001523\n",
              "RELIGION_NOT SPECIFIED              0.001330\n",
              "RELIGION_UNOBTAINABLE               0.001957\n",
              "RELIGION_OTHERS                     0.001474\n",
              "INSURANCE_Medicare                  0.012592\n",
              "INSURANCE_Private                   0.004997\n",
              "INSURANCE_Medicaid                  0.001370\n",
              "INSURANCE_OTHERS                    0.000637\n",
              "MARITAL_STATUS_MARRIED              0.001611\n",
              "MARITAL_STATUS_SINGLE               0.003301\n",
              "MARITAL_STATUS_UNKNOWN (DEFAULT)    0.002516\n",
              "MARITAL_STATUS_OTHERS               0.001271\n",
              "LANGUAGE_ENGL                       0.000850\n",
              "LANGUAGE_SPAN                       0.000442\n",
              "LANGUAGE_RUSS                       0.000496\n",
              "LANGUAGE_OTHERS                     0.000844\n",
              "ETHNICITY_WHITE                     0.001427\n",
              "ETHNICITY_BLACK/AFRICAN AMERICAN    0.001353\n",
              "ETHNICITY_UNKNOWN/NOT SPECIFIED     0.001592\n",
              "ETHNICITY_OTHERS                    0.001072\n",
              "dtype: float64"
            ]
          },
          "metadata": {
            "tags": []
          },
          "execution_count": 42
        }
      ]
    },
    {
      "cell_type": "code",
      "metadata": {
        "colab": {
          "base_uri": "https://localhost:8080/",
          "height": 554
        },
        "id": "HxSsX1dc3e3r",
        "outputId": "e5e170c5-4d9a-4bc2-a929-8f420067489d"
      },
      "source": [
        "plt.figure(figsize = (9, 9))\r\n",
        "sns.barplot(x = model_rf2.feature_importances_, y = features_list)"
      ],
      "execution_count": null,
      "outputs": [
        {
          "output_type": "execute_result",
          "data": {
            "text/plain": [
              "<matplotlib.axes._subplots.AxesSubplot at 0x7ff295619fd0>"
            ]
          },
          "metadata": {
            "tags": []
          },
          "execution_count": 43
        },
        {
          "output_type": "display_data",
          "data": {
            "image/png": "[encoded data removed]",
            "text/plain": [
              "<Figure size 648x648 with 1 Axes>"
            ]
          },
          "metadata": {
            "tags": [],
            "needs_background": "light"
          }
        }
      ]
    },
    {
      "cell_type": "markdown",
      "metadata": {
        "id": "N-5l_n25hGIw"
      },
      "source": [
        "### Saving and Loading your trained model\r\n",
        "\r\n",
        "After training a model you might want to save your model to your Google Drive so that you do not need to re-train it next time. (As a side note, due to the random nature of most machine learning algorithms, if you did not set a `random_state` while training, you would end up with a model with different trained parameters when you re-train a model)"
      ]
    },
    {
      "cell_type": "code",
      "metadata": {
        "id": "sT3b-nFyhFeJ"
      },
      "source": [
        "import joblib"
      ],
      "execution_count": null,
      "outputs": []
    },
    {
      "cell_type": "markdown",
      "metadata": {
        "id": "hCQcVCAfizIk"
      },
      "source": [
        "To save:"
      ]
    },
    {
      "cell_type": "code",
      "metadata": {
        "colab": {
          "base_uri": "https://localhost:8080/"
        },
        "id": "Hn79ixExiQoJ",
        "outputId": "38b2061c-ddb9-44c4-dadf-e09767f84abb"
      },
      "source": [
        "joblib.dump(model_rf2, gdrive_rootpath + 'mimic_in_hosp_mortality_model_rf2.joblib') # specify your filename here"
      ],
      "execution_count": null,
      "outputs": [
        {
          "output_type": "execute_result",
          "data": {
            "text/plain": [
              "['/content/gdrive/MyDrive/mimic_in_hosp_mortality_model_rf2.joblib']"
            ]
          },
          "metadata": {
            "tags": []
          },
          "execution_count": 45
        }
      ]
    },
    {
      "cell_type": "markdown",
      "metadata": {
        "id": "Mglo1oGMi2X7"
      },
      "source": [
        "To load:"
      ]
    },
    {
      "cell_type": "code",
      "metadata": {
        "id": "6aKNGrqaidOb"
      },
      "source": [
        "model_rf2_loaded = joblib.load(gdrive_rootpath + 'mimic_in_hosp_mortality_model_rf2.joblib') # specify your filename here"
      ],
      "execution_count": null,
      "outputs": []
    },
    {
      "cell_type": "code",
      "metadata": {
        "colab": {
          "base_uri": "https://localhost:8080/"
        },
        "id": "PHez_PgUir71",
        "outputId": "e30e5e54-b644-431c-b10b-a76aab5b8db0"
      },
      "source": [
        "model_rf2_loaded"
      ],
      "execution_count": null,
      "outputs": [
        {
          "output_type": "execute_result",
          "data": {
            "text/plain": [
              "RandomForestClassifier(class_weight='balanced', max_depth=10, n_estimators=300,\n",
              "                       n_jobs=-1, random_state=1)"
            ]
          },
          "metadata": {
            "tags": []
          },
          "execution_count": 47
        }
      ]
    },
    {
      "cell_type": "markdown",
      "metadata": {
        "id": "6PIaRwWU58lW"
      },
      "source": [
        "## Discussion\r\n",
        "\r\n",
        "How well will the models above translate into a decision support system in practice? Here are some issues you may think about (which is beyond the scope of training machine learning models itself):\r\n",
        "\r\n",
        "* What are the purposes or goals of the model? Do they align with the interests and focuses of clinicians, patients or other stakeholders? \r\n",
        "* Suppose we trained a reasonably reliable model. What could be the associated interventions based on the model predictions?\r\n",
        "* What are the limitations of the model from an operational perspective? \r\n",
        "  * e.g. consider the time of which the variables becomes available. Could the model deliver the predictions in a timely manner? Can this be improved? "
      ]
    },
    {
      "cell_type": "markdown",
      "metadata": {
        "id": "x9pRoD2vLZZF"
      },
      "source": [
        "# Example: Length of Stay Prediction\r\n",
        "\r\n",
        "The purpose of this example is solely to demonstrate the codes for a regression problem instead of a classification problem. In actuality, using the following list of features is likely problematic as hospital stay-normalized variables such as `LAB_COUNT_DAY` is inherently calculated from `LOS`. \r\n"
      ]
    },
    {
      "cell_type": "markdown",
      "metadata": {
        "id": "7xkJLCxONMej"
      },
      "source": [
        "## Setup"
      ]
    },
    {
      "cell_type": "code",
      "metadata": {
        "colab": {
          "base_uri": "https://localhost:8080/"
        },
        "id": "B2JIkMDCLcqL",
        "outputId": "363143e7-5374-4666-de94-b2151de174d3"
      },
      "source": [
        "# the only features excluded from the above are 'LOS' and 'LOS_ICU'\r\n",
        "features_list_los = ['GENDER_F', 'AGE', \r\n",
        "                 'CALLOUT_COUNT_DAY', 'PRES_COUNT_DAY', 'PROC_COUNT_DAY',\r\n",
        "                 'CPT_COUNT_DAY', 'LAB_COUNT_DAY', 'INPUTS_CV_COUNT_DAY',\r\n",
        "                 'INPUTS_MV_COUNT_DAY', 'OUTPUT_COUNT_DAY', 'TRANSFER_COUNT_DAY',\r\n",
        "                 'MICRO_COUNT_DAY', \r\n",
        "                 'ADMISSION_TYPE_ELECTIVE', 'ADMISSION_TYPE_EMERGENCY', 'ADMISSION_TYPE_NEWBORN', 'ADMISSION_TYPE_URGENT', \r\n",
        "                 'RELIGION_CATHOLIC', 'RELIGION_NOT SPECIFIED', 'RELIGION_UNOBTAINABLE', 'RELIGION_OTHERS', \r\n",
        "                 'INSURANCE_Medicare', 'INSURANCE_Private', 'INSURANCE_Medicaid', 'INSURANCE_OTHERS',\r\n",
        "                 'MARITAL_STATUS_MARRIED', 'MARITAL_STATUS_SINGLE', 'MARITAL_STATUS_UNKNOWN (DEFAULT)', 'MARITAL_STATUS_OTHERS',\r\n",
        "                 'LANGUAGE_ENGL', 'LANGUAGE_SPAN', 'LANGUAGE_RUSS', 'LANGUAGE_OTHERS',\r\n",
        "                 'ETHNICITY_WHITE', 'ETHNICITY_BLACK/AFRICAN AMERICAN', 'ETHNICITY_UNKNOWN/NOT SPECIFIED', 'ETHNICITY_OTHERS']\r\n",
        "\r\n",
        "len(features_list_los)"
      ],
      "execution_count": null,
      "outputs": [
        {
          "output_type": "execute_result",
          "data": {
            "text/plain": [
              "36"
            ]
          },
          "metadata": {
            "tags": []
          },
          "execution_count": 48
        }
      ]
    },
    {
      "cell_type": "code",
      "metadata": {
        "id": "n3lCWZ3dNAYk"
      },
      "source": [
        "X_los = df[features_list_los]\r\n",
        "y_los = df['LOS'] # new prediction target"
      ],
      "execution_count": null,
      "outputs": []
    },
    {
      "cell_type": "markdown",
      "metadata": {
        "id": "4Ne35ojVNGmI"
      },
      "source": [
        "## Train-test Split"
      ]
    },
    {
      "cell_type": "code",
      "metadata": {
        "id": "HAOBlUhHNQK_"
      },
      "source": [
        "X_los_train, X_los_test, y_los_train, y_los_test = train_test_split(\r\n",
        "    X_los, y_los, \r\n",
        "    test_size = 0.2,  # 20% of data belongs to the test set\r\n",
        "    random_state = 1) # make sure the split is the same across different devices for illustrative purposes\r\n",
        "# note that we do NOT stratify as the values of y are not categorical"
      ],
      "execution_count": null,
      "outputs": []
    },
    {
      "cell_type": "code",
      "metadata": {
        "colab": {
          "base_uri": "https://localhost:8080/"
        },
        "id": "24YxE2_JNfVX",
        "outputId": "3b6d8f66-edc4-4189-f5b0-c6603b68824b"
      },
      "source": [
        "X_los_train.shape"
      ],
      "execution_count": null,
      "outputs": [
        {
          "output_type": "execute_result",
          "data": {
            "text/plain": [
              "(47180, 36)"
            ]
          },
          "metadata": {
            "tags": []
          },
          "execution_count": 51
        }
      ]
    },
    {
      "cell_type": "code",
      "metadata": {
        "colab": {
          "base_uri": "https://localhost:8080/"
        },
        "id": "TN6Z4Y-cN0Lh",
        "outputId": "0fbe1cc0-8abb-47b3-e874-0c5cb032903a"
      },
      "source": [
        "X_los_test.shape"
      ],
      "execution_count": null,
      "outputs": [
        {
          "output_type": "execute_result",
          "data": {
            "text/plain": [
              "(11796, 36)"
            ]
          },
          "metadata": {
            "tags": []
          },
          "execution_count": 52
        }
      ]
    },
    {
      "cell_type": "markdown",
      "metadata": {
        "id": "L27j4gHAN1pf"
      },
      "source": [
        "## Training Random Forest Model"
      ]
    },
    {
      "cell_type": "markdown",
      "metadata": {
        "id": "OXAECaSwOocU"
      },
      "source": [
        "Note that we are using **`RandomForestRegressor()`** instead of `RandomForestClassifier()`. You can perform hypermeter tuning by using `GridSearchCV()` in the same way."
      ]
    },
    {
      "cell_type": "code",
      "metadata": {
        "id": "fkgj11GRcXrX"
      },
      "source": [
        "model_rf_los = RandomForestRegressor(n_estimators = 200, \r\n",
        "                                     max_depth = 10,\r\n",
        "                                     random_state = 1,\r\n",
        "                                     n_jobs = -1)"
      ],
      "execution_count": null,
      "outputs": []
    },
    {
      "cell_type": "code",
      "metadata": {
        "colab": {
          "base_uri": "https://localhost:8080/"
        },
        "id": "FJdQHsygclWR",
        "outputId": "ee9d3156-75fb-4b70-aa81-5783d1bc9045"
      },
      "source": [
        "model_rf_los.fit(X_los_train, y_los_train)"
      ],
      "execution_count": null,
      "outputs": [
        {
          "output_type": "execute_result",
          "data": {
            "text/plain": [
              "RandomForestRegressor(max_depth=10, n_estimators=200, n_jobs=-1, random_state=1)"
            ]
          },
          "metadata": {
            "tags": []
          },
          "execution_count": 55
        }
      ]
    },
    {
      "cell_type": "markdown",
      "metadata": {
        "id": "3gvCthDAQun9"
      },
      "source": [
        "## Evaluation\r\n",
        "\r\n",
        "Mean-squared-error and R<sup>2</sup> are two common metrics to report. A full list of available metrics could be found [here](https://scikit-learn.org/stable/modules/model_evaluation.html#scoring-parameter)."
      ]
    },
    {
      "cell_type": "code",
      "metadata": {
        "id": "OodhfO2SQuOy"
      },
      "source": [
        "y_los_pred_rf = model_rf_los.predict(X_los_test)"
      ],
      "execution_count": null,
      "outputs": []
    },
    {
      "cell_type": "code",
      "metadata": {
        "colab": {
          "base_uri": "https://localhost:8080/"
        },
        "id": "M1rqTsY6RQaA",
        "outputId": "bca03a3c-f947-4b25-b1d2-b39dfac7ed7f"
      },
      "source": [
        "mean_squared_error(y_los_test, y_los_pred_rf)"
      ],
      "execution_count": null,
      "outputs": [
        {
          "output_type": "execute_result",
          "data": {
            "text/plain": [
              "27.891939094730702"
            ]
          },
          "metadata": {
            "tags": []
          },
          "execution_count": 58
        }
      ]
    },
    {
      "cell_type": "code",
      "metadata": {
        "colab": {
          "base_uri": "https://localhost:8080/"
        },
        "id": "IT298dBMSgM6",
        "outputId": "b20667c5-49dd-4ab5-d018-6609ac9659b8"
      },
      "source": [
        "r2_score(y_los_test, y_los_pred_rf)"
      ],
      "execution_count": null,
      "outputs": [
        {
          "output_type": "execute_result",
          "data": {
            "text/plain": [
              "0.8275834797268249"
            ]
          },
          "metadata": {
            "tags": []
          },
          "execution_count": 59
        }
      ]
    },
    {
      "cell_type": "code",
      "metadata": {
        "colab": {
          "base_uri": "https://localhost:8080/",
          "height": 279
        },
        "id": "f5DgNEbBTYCV",
        "outputId": "ef42f734-381e-4682-ffff-20b8bfb26988"
      },
      "source": [
        "fig = plt.figure()\r\n",
        "ax = fig.add_subplot(111, aspect = 'equal')\r\n",
        "sns.scatterplot(x = y_los_pred_rf, y = y_los_test)\\\r\n",
        "  .set(xlabel = 'Predicted LOS', ylabel = 'Actual LOS')\r\n",
        "\r\n",
        "plt.show()"
      ],
      "execution_count": null,
      "outputs": [
        {
          "output_type": "display_data",
          "data": {
            "image/png": "[encoded data removed]",
            "text/plain": [
              "<Figure size 432x288 with 1 Axes>"
            ]
          },
          "metadata": {
            "tags": [],
            "needs_background": "light"
          }
        }
      ]
    },
    {
      "cell_type": "markdown",
      "metadata": {
        "id": "18n-EfnRRy7M"
      },
      "source": [
        "## Understanding the model\r\n",
        "\r\n",
        "Variable importance is still applicable to regression problems if you are using a tree-based model. "
      ]
    },
    {
      "cell_type": "code",
      "metadata": {
        "colab": {
          "base_uri": "https://localhost:8080/",
          "height": 554
        },
        "id": "QWGVupu2SBA8",
        "outputId": "27671094-9ac9-4ec3-972d-e1a213515b45"
      },
      "source": [
        "plt.figure(figsize = (9, 9))\r\n",
        "sns.barplot(x = model_rf_los.feature_importances_, y = features_list_los)"
      ],
      "execution_count": null,
      "outputs": [
        {
          "output_type": "execute_result",
          "data": {
            "text/plain": [
              "<matplotlib.axes._subplots.AxesSubplot at 0x7ff28b7d45d0>"
            ]
          },
          "metadata": {
            "tags": []
          },
          "execution_count": 62
        },
        {
          "output_type": "display_data",
          "data": {
            "image/png": "[encoded data removed]",
            "text/plain": [
              "<Figure size 648x648 with 1 Axes>"
            ]
          },
          "metadata": {
            "tags": [],
            "needs_background": "light"
          }
        }
      ]
    },
    {
      "cell_type": "markdown",
      "metadata": {
        "id": "pg_cvCHoe3jf"
      },
      "source": [
        "**Observations**\r\n",
        "\r\n",
        "* From the actual against predicted graph, the model is fairly able to predict LOS below 100, but could not predict LOS accurately for those over 100.\r\n",
        "* The variable importance plot could be an evidence of a variable `TRANSFER_COUNT_DAY` being systematically tied to LOS due to their uniquely strong association. "
      ]
    },
    {
      "cell_type": "markdown",
      "metadata": {
        "id": "4ABKsxHLhb_i"
      },
      "source": [
        "# References\r\n",
        "\r\n",
        "* [Which machine learning algorithm should I use?](https://blogs.sas.com/content/subconsciousmusings/2020/12/09/machine-learning-algorithm-use/)\r\n",
        "![](https://blogs.sas.com/content/subconsciousmusings/files/2017/04/machine-learning-cheet-sheet-2.png)\r\n",
        "* [Decision Tree vs. Random Forest – Which Algorithm Should you Use?](https://www.analyticsvidhya.com/blog/2020/05/decision-tree-vs-random-forest-algorithm/)\r\n",
        "* [Train/Test Split and Cross Validation in Python](https://towardsdatascience.com/train-test-split-and-cross-validation-in-python-80b61beca4b6)\r\n"
      ]
    }
  ]
}