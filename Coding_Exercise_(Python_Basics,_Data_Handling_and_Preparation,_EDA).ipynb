{
  "nbformat": 4,
  "nbformat_minor": 0,
  "metadata": {
    "colab": {
      "provenance": [],
      "collapsed_sections": [
        "RHMovLZzdK1-",
        "PQrXW4H5gyx1",
        "rkmZF1sQyfYW",
        "LPkT1DX1jERI",
        "OXeZHUGWsqYl",
        "8ZL1ZPqtyXJu",
        "l8Gk5JKnWGg2",
        "gWZL0TaEX1Vm",
        "c8ZfEneG1y_Q",
        "I-VkxWkgZP0S"
      ],
      "toc_visible": true,
      "authorship_tag": "ABX9TyPkx8S/WRirTyfB3Zav/Euq",
      "include_colab_link": true
    },
    "kernelspec": {
      "name": "python3",
      "display_name": "Python 3"
    },
    "language_info": {
      "name": "python"
    },
    "widgets": {
      "application/vnd.jupyter.widget-state+json": {
        "0caa1548df324e6ba6f5d4bdd1424b6c": {
          "model_module": "@jupyter-widgets/controls",
          "model_name": "HBoxModel",
          "model_module_version": "1.5.0",
          "state": {
            "_dom_classes": [],
            "_model_module": "@jupyter-widgets/controls",
            "_model_module_version": "1.5.0",
            "_model_name": "HBoxModel",
            "_view_count": null,
            "_view_module": "@jupyter-widgets/controls",
            "_view_module_version": "1.5.0",
            "_view_name": "HBoxView",
            "box_style": "",
            "children": [
              "IPY_MODEL_d32dde9ff52d41569bcf0ac406f3194b",
              "IPY_MODEL_4881c0d1c6044f8aaa29791b475bdf96",
              "IPY_MODEL_280b51cf9cb2414cba23e5f04249d720"
            ],
            "layout": "IPY_MODEL_fb3bdd9440534fb6b58a7af732e33d6d"
          }
        },
        "d32dde9ff52d41569bcf0ac406f3194b": {
          "model_module": "@jupyter-widgets/controls",
          "model_name": "HTMLModel",
          "model_module_version": "1.5.0",
          "state": {
            "_dom_classes": [],
            "_model_module": "@jupyter-widgets/controls",
            "_model_module_version": "1.5.0",
            "_model_name": "HTMLModel",
            "_view_count": null,
            "_view_module": "@jupyter-widgets/controls",
            "_view_module_version": "1.5.0",
            "_view_name": "HTMLView",
            "description": "",
            "description_tooltip": null,
            "layout": "IPY_MODEL_8f160153895147149b680d8ba0d35c89",
            "placeholder": "​",
            "style": "IPY_MODEL_f9c947ed8c7742e38439458bdae9a1ff",
            "value": "Job ID 7c8965f8-25ca-4d93-b00c-192ce801ef98 successfully executed: 100%"
          }
        },
        "4881c0d1c6044f8aaa29791b475bdf96": {
          "model_module": "@jupyter-widgets/controls",
          "model_name": "FloatProgressModel",
          "model_module_version": "1.5.0",
          "state": {
            "_dom_classes": [],
            "_model_module": "@jupyter-widgets/controls",
            "_model_module_version": "1.5.0",
            "_model_name": "FloatProgressModel",
            "_view_count": null,
            "_view_module": "@jupyter-widgets/controls",
            "_view_module_version": "1.5.0",
            "_view_name": "ProgressView",
            "bar_style": "success",
            "description": "",
            "description_tooltip": null,
            "layout": "IPY_MODEL_3afd5bac679a4e0f8754f92387a207e1",
            "max": 1,
            "min": 0,
            "orientation": "horizontal",
            "style": "IPY_MODEL_076da07f2899485ab17fe6438415433d",
            "value": 1
          }
        },
        "280b51cf9cb2414cba23e5f04249d720": {
          "model_module": "@jupyter-widgets/controls",
          "model_name": "HTMLModel",
          "model_module_version": "1.5.0",
          "state": {
            "_dom_classes": [],
            "_model_module": "@jupyter-widgets/controls",
            "_model_module_version": "1.5.0",
            "_model_name": "HTMLModel",
            "_view_count": null,
            "_view_module": "@jupyter-widgets/controls",
            "_view_module_version": "1.5.0",
            "_view_name": "HTMLView",
            "description": "",
            "description_tooltip": null,
            "layout": "IPY_MODEL_9198b8cb4bc84b2a85ee70e867f38d1e",
            "placeholder": "​",
            "style": "IPY_MODEL_e5322a8410904b5aa256e634522b40b7",
            "value": ""
          }
        },
        "fb3bdd9440534fb6b58a7af732e33d6d": {
          "model_module": "@jupyter-widgets/base",
          "model_name": "LayoutModel",
          "model_module_version": "1.2.0",
          "state": {
            "_model_module": "@jupyter-widgets/base",
            "_model_module_version": "1.2.0",
            "_model_name": "LayoutModel",
            "_view_count": null,
            "_view_module": "@jupyter-widgets/base",
            "_view_module_version": "1.2.0",
            "_view_name": "LayoutView",
            "align_content": null,
            "align_items": null,
            "align_self": null,
            "border": null,
            "bottom": null,
            "display": null,
            "flex": null,
            "flex_flow": null,
            "grid_area": null,
            "grid_auto_columns": null,
            "grid_auto_flow": null,
            "grid_auto_rows": null,
            "grid_column": null,
            "grid_gap": null,
            "grid_row": null,
            "grid_template_areas": null,
            "grid_template_columns": null,
            "grid_template_rows": null,
            "height": null,
            "justify_content": null,
            "justify_items": null,
            "left": null,
            "margin": null,
            "max_height": null,
            "max_width": null,
            "min_height": null,
            "min_width": null,
            "object_fit": null,
            "object_position": null,
            "order": null,
            "overflow": null,
            "overflow_x": null,
            "overflow_y": null,
            "padding": null,
            "right": null,
            "top": null,
            "visibility": null,
            "width": null
          }
        },
        "8f160153895147149b680d8ba0d35c89": {
          "model_module": "@jupyter-widgets/base",
          "model_name": "LayoutModel",
          "model_module_version": "1.2.0",
          "state": {
            "_model_module": "@jupyter-widgets/base",
            "_model_module_version": "1.2.0",
            "_model_name": "LayoutModel",
            "_view_count": null,
            "_view_module": "@jupyter-widgets/base",
            "_view_module_version": "1.2.0",
            "_view_name": "LayoutView",
            "align_content": null,
            "align_items": null,
            "align_self": null,
            "border": null,
            "bottom": null,
            "display": null,
            "flex": null,
            "flex_flow": null,
            "grid_area": null,
            "grid_auto_columns": null,
            "grid_auto_flow": null,
            "grid_auto_rows": null,
            "grid_column": null,
            "grid_gap": null,
            "grid_row": null,
            "grid_template_areas": null,
            "grid_template_columns": null,
            "grid_template_rows": null,
            "height": null,
            "justify_content": null,
            "justify_items": null,
            "left": null,
            "margin": null,
            "max_height": null,
            "max_width": null,
            "min_height": null,
            "min_width": null,
            "object_fit": null,
            "object_position": null,
            "order": null,
            "overflow": null,
            "overflow_x": null,
            "overflow_y": null,
            "padding": null,
            "right": null,
            "top": null,
            "visibility": null,
            "width": null
          }
        },
        "f9c947ed8c7742e38439458bdae9a1ff": {
          "model_module": "@jupyter-widgets/controls",
          "model_name": "DescriptionStyleModel",
          "model_module_version": "1.5.0",
          "state": {
            "_model_module": "@jupyter-widgets/controls",
            "_model_module_version": "1.5.0",
            "_model_name": "DescriptionStyleModel",
            "_view_count": null,
            "_view_module": "@jupyter-widgets/base",
            "_view_module_version": "1.2.0",
            "_view_name": "StyleView",
            "description_width": ""
          }
        },
        "3afd5bac679a4e0f8754f92387a207e1": {
          "model_module": "@jupyter-widgets/base",
          "model_name": "LayoutModel",
          "model_module_version": "1.2.0",
          "state": {
            "_model_module": "@jupyter-widgets/base",
            "_model_module_version": "1.2.0",
            "_model_name": "LayoutModel",
            "_view_count": null,
            "_view_module": "@jupyter-widgets/base",
            "_view_module_version": "1.2.0",
            "_view_name": "LayoutView",
            "align_content": null,
            "align_items": null,
            "align_self": null,
            "border": null,
            "bottom": null,
            "display": null,
            "flex": null,
            "flex_flow": null,
            "grid_area": null,
            "grid_auto_columns": null,
            "grid_auto_flow": null,
            "grid_auto_rows": null,
            "grid_column": null,
            "grid_gap": null,
            "grid_row": null,
            "grid_template_areas": null,
            "grid_template_columns": null,
            "grid_template_rows": null,
            "height": null,
            "justify_content": null,
            "justify_items": null,
            "left": null,
            "margin": null,
            "max_height": null,
            "max_width": null,
            "min_height": null,
            "min_width": null,
            "object_fit": null,
            "object_position": null,
            "order": null,
            "overflow": null,
            "overflow_x": null,
            "overflow_y": null,
            "padding": null,
            "right": null,
            "top": null,
            "visibility": null,
            "width": null
          }
        },
        "076da07f2899485ab17fe6438415433d": {
          "model_module": "@jupyter-widgets/controls",
          "model_name": "ProgressStyleModel",
          "model_module_version": "1.5.0",
          "state": {
            "_model_module": "@jupyter-widgets/controls",
            "_model_module_version": "1.5.0",
            "_model_name": "ProgressStyleModel",
            "_view_count": null,
            "_view_module": "@jupyter-widgets/base",
            "_view_module_version": "1.2.0",
            "_view_name": "StyleView",
            "bar_color": null,
            "description_width": ""
          }
        },
        "9198b8cb4bc84b2a85ee70e867f38d1e": {
          "model_module": "@jupyter-widgets/base",
          "model_name": "LayoutModel",
          "model_module_version": "1.2.0",
          "state": {
            "_model_module": "@jupyter-widgets/base",
            "_model_module_version": "1.2.0",
            "_model_name": "LayoutModel",
            "_view_count": null,
            "_view_module": "@jupyter-widgets/base",
            "_view_module_version": "1.2.0",
            "_view_name": "LayoutView",
            "align_content": null,
            "align_items": null,
            "align_self": null,
            "border": null,
            "bottom": null,
            "display": null,
            "flex": null,
            "flex_flow": null,
            "grid_area": null,
            "grid_auto_columns": null,
            "grid_auto_flow": null,
            "grid_auto_rows": null,
            "grid_column": null,
            "grid_gap": null,
            "grid_row": null,
            "grid_template_areas": null,
            "grid_template_columns": null,
            "grid_template_rows": null,
            "height": null,
            "justify_content": null,
            "justify_items": null,
            "left": null,
            "margin": null,
            "max_height": null,
            "max_width": null,
            "min_height": null,
            "min_width": null,
            "object_fit": null,
            "object_position": null,
            "order": null,
            "overflow": null,
            "overflow_x": null,
            "overflow_y": null,
            "padding": null,
            "right": null,
            "top": null,
            "visibility": null,
            "width": null
          }
        },
        "e5322a8410904b5aa256e634522b40b7": {
          "model_module": "@jupyter-widgets/controls",
          "model_name": "DescriptionStyleModel",
          "model_module_version": "1.5.0",
          "state": {
            "_model_module": "@jupyter-widgets/controls",
            "_model_module_version": "1.5.0",
            "_model_name": "DescriptionStyleModel",
            "_view_count": null,
            "_view_module": "@jupyter-widgets/base",
            "_view_module_version": "1.2.0",
            "_view_name": "StyleView",
            "description_width": ""
          }
        },
        "4ca88693a41d4885a61211de41cd7bd6": {
          "model_module": "@jupyter-widgets/controls",
          "model_name": "HBoxModel",
          "model_module_version": "1.5.0",
          "state": {
            "_dom_classes": [],
            "_model_module": "@jupyter-widgets/controls",
            "_model_module_version": "1.5.0",
            "_model_name": "HBoxModel",
            "_view_count": null,
            "_view_module": "@jupyter-widgets/controls",
            "_view_module_version": "1.5.0",
            "_view_name": "HBoxView",
            "box_style": "",
            "children": [
              "IPY_MODEL_e5e9ccfbe4284ae5899da7eab51c3409",
              "IPY_MODEL_9c0e48fa47df449fba20629ff9d07dfb",
              "IPY_MODEL_dff8300f69984af1bb91e0d6a08a2b00"
            ],
            "layout": "IPY_MODEL_e602dea9ca16448ba3ac91a7ce7cf8be"
          }
        },
        "e5e9ccfbe4284ae5899da7eab51c3409": {
          "model_module": "@jupyter-widgets/controls",
          "model_name": "HTMLModel",
          "model_module_version": "1.5.0",
          "state": {
            "_dom_classes": [],
            "_model_module": "@jupyter-widgets/controls",
            "_model_module_version": "1.5.0",
            "_model_name": "HTMLModel",
            "_view_count": null,
            "_view_module": "@jupyter-widgets/controls",
            "_view_module_version": "1.5.0",
            "_view_name": "HTMLView",
            "description": "",
            "description_tooltip": null,
            "layout": "IPY_MODEL_0f081645295c4c6485c850be453c77c6",
            "placeholder": "​",
            "style": "IPY_MODEL_e551f487ae5242629bfdd13d9fa8d560",
            "value": "Downloading: 100%"
          }
        },
        "9c0e48fa47df449fba20629ff9d07dfb": {
          "model_module": "@jupyter-widgets/controls",
          "model_name": "FloatProgressModel",
          "model_module_version": "1.5.0",
          "state": {
            "_dom_classes": [],
            "_model_module": "@jupyter-widgets/controls",
            "_model_module_version": "1.5.0",
            "_model_name": "FloatProgressModel",
            "_view_count": null,
            "_view_module": "@jupyter-widgets/controls",
            "_view_module_version": "1.5.0",
            "_view_name": "ProgressView",
            "bar_style": "success",
            "description": "",
            "description_tooltip": null,
            "layout": "IPY_MODEL_bd5fc34ba94b4d8e8460460ba34c0e72",
            "max": 58976,
            "min": 0,
            "orientation": "horizontal",
            "style": "IPY_MODEL_0b5cdb298aa2442795b4cefd61b4eb63",
            "value": 58976
          }
        },
        "dff8300f69984af1bb91e0d6a08a2b00": {
          "model_module": "@jupyter-widgets/controls",
          "model_name": "HTMLModel",
          "model_module_version": "1.5.0",
          "state": {
            "_dom_classes": [],
            "_model_module": "@jupyter-widgets/controls",
            "_model_module_version": "1.5.0",
            "_model_name": "HTMLModel",
            "_view_count": null,
            "_view_module": "@jupyter-widgets/controls",
            "_view_module_version": "1.5.0",
            "_view_name": "HTMLView",
            "description": "",
            "description_tooltip": null,
            "layout": "IPY_MODEL_5083216d0ad14054b015a0b4a3ff6978",
            "placeholder": "​",
            "style": "IPY_MODEL_48a820bbf8d4444286d266bf10fee9a7",
            "value": ""
          }
        },
        "e602dea9ca16448ba3ac91a7ce7cf8be": {
          "model_module": "@jupyter-widgets/base",
          "model_name": "LayoutModel",
          "model_module_version": "1.2.0",
          "state": {
            "_model_module": "@jupyter-widgets/base",
            "_model_module_version": "1.2.0",
            "_model_name": "LayoutModel",
            "_view_count": null,
            "_view_module": "@jupyter-widgets/base",
            "_view_module_version": "1.2.0",
            "_view_name": "LayoutView",
            "align_content": null,
            "align_items": null,
            "align_self": null,
            "border": null,
            "bottom": null,
            "display": null,
            "flex": null,
            "flex_flow": null,
            "grid_area": null,
            "grid_auto_columns": null,
            "grid_auto_flow": null,
            "grid_auto_rows": null,
            "grid_column": null,
            "grid_gap": null,
            "grid_row": null,
            "grid_template_areas": null,
            "grid_template_columns": null,
            "grid_template_rows": null,
            "height": null,
            "justify_content": null,
            "justify_items": null,
            "left": null,
            "margin": null,
            "max_height": null,
            "max_width": null,
            "min_height": null,
            "min_width": null,
            "object_fit": null,
            "object_position": null,
            "order": null,
            "overflow": null,
            "overflow_x": null,
            "overflow_y": null,
            "padding": null,
            "right": null,
            "top": null,
            "visibility": null,
            "width": null
          }
        },
        "0f081645295c4c6485c850be453c77c6": {
          "model_module": "@jupyter-widgets/base",
          "model_name": "LayoutModel",
          "model_module_version": "1.2.0",
          "state": {
            "_model_module": "@jupyter-widgets/base",
            "_model_module_version": "1.2.0",
            "_model_name": "LayoutModel",
            "_view_count": null,
            "_view_module": "@jupyter-widgets/base",
            "_view_module_version": "1.2.0",
            "_view_name": "LayoutView",
            "align_content": null,
            "align_items": null,
            "align_self": null,
            "border": null,
            "bottom": null,
            "display": null,
            "flex": null,
            "flex_flow": null,
            "grid_area": null,
            "grid_auto_columns": null,
            "grid_auto_flow": null,
            "grid_auto_rows": null,
            "grid_column": null,
            "grid_gap": null,
            "grid_row": null,
            "grid_template_areas": null,
            "grid_template_columns": null,
            "grid_template_rows": null,
            "height": null,
            "justify_content": null,
            "justify_items": null,
            "left": null,
            "margin": null,
            "max_height": null,
            "max_width": null,
            "min_height": null,
            "min_width": null,
            "object_fit": null,
            "object_position": null,
            "order": null,
            "overflow": null,
            "overflow_x": null,
            "overflow_y": null,
            "padding": null,
            "right": null,
            "top": null,
            "visibility": null,
            "width": null
          }
        },
        "e551f487ae5242629bfdd13d9fa8d560": {
          "model_module": "@jupyter-widgets/controls",
          "model_name": "DescriptionStyleModel",
          "model_module_version": "1.5.0",
          "state": {
            "_model_module": "@jupyter-widgets/controls",
            "_model_module_version": "1.5.0",
            "_model_name": "DescriptionStyleModel",
            "_view_count": null,
            "_view_module": "@jupyter-widgets/base",
            "_view_module_version": "1.2.0",
            "_view_name": "StyleView",
            "description_width": ""
          }
        },
        "bd5fc34ba94b4d8e8460460ba34c0e72": {
          "model_module": "@jupyter-widgets/base",
          "model_name": "LayoutModel",
          "model_module_version": "1.2.0",
          "state": {
            "_model_module": "@jupyter-widgets/base",
            "_model_module_version": "1.2.0",
            "_model_name": "LayoutModel",
            "_view_count": null,
            "_view_module": "@jupyter-widgets/base",
            "_view_module_version": "1.2.0",
            "_view_name": "LayoutView",
            "align_content": null,
            "align_items": null,
            "align_self": null,
            "border": null,
            "bottom": null,
            "display": null,
            "flex": null,
            "flex_flow": null,
            "grid_area": null,
            "grid_auto_columns": null,
            "grid_auto_flow": null,
            "grid_auto_rows": null,
            "grid_column": null,
            "grid_gap": null,
            "grid_row": null,
            "grid_template_areas": null,
            "grid_template_columns": null,
            "grid_template_rows": null,
            "height": null,
            "justify_content": null,
            "justify_items": null,
            "left": null,
            "margin": null,
            "max_height": null,
            "max_width": null,
            "min_height": null,
            "min_width": null,
            "object_fit": null,
            "object_position": null,
            "order": null,
            "overflow": null,
            "overflow_x": null,
            "overflow_y": null,
            "padding": null,
            "right": null,
            "top": null,
            "visibility": null,
            "width": null
          }
        },
        "0b5cdb298aa2442795b4cefd61b4eb63": {
          "model_module": "@jupyter-widgets/controls",
          "model_name": "ProgressStyleModel",
          "model_module_version": "1.5.0",
          "state": {
            "_model_module": "@jupyter-widgets/controls",
            "_model_module_version": "1.5.0",
            "_model_name": "ProgressStyleModel",
            "_view_count": null,
            "_view_module": "@jupyter-widgets/base",
            "_view_module_version": "1.2.0",
            "_view_name": "StyleView",
            "bar_color": null,
            "description_width": ""
          }
        },
        "5083216d0ad14054b015a0b4a3ff6978": {
          "model_module": "@jupyter-widgets/base",
          "model_name": "LayoutModel",
          "model_module_version": "1.2.0",
          "state": {
            "_model_module": "@jupyter-widgets/base",
            "_model_module_version": "1.2.0",
            "_model_name": "LayoutModel",
            "_view_count": null,
            "_view_module": "@jupyter-widgets/base",
            "_view_module_version": "1.2.0",
            "_view_name": "LayoutView",
            "align_content": null,
            "align_items": null,
            "align_self": null,
            "border": null,
            "bottom": null,
            "display": null,
            "flex": null,
            "flex_flow": null,
            "grid_area": null,
            "grid_auto_columns": null,
            "grid_auto_flow": null,
            "grid_auto_rows": null,
            "grid_column": null,
            "grid_gap": null,
            "grid_row": null,
            "grid_template_areas": null,
            "grid_template_columns": null,
            "grid_template_rows": null,
            "height": null,
            "justify_content": null,
            "justify_items": null,
            "left": null,
            "margin": null,
            "max_height": null,
            "max_width": null,
            "min_height": null,
            "min_width": null,
            "object_fit": null,
            "object_position": null,
            "order": null,
            "overflow": null,
            "overflow_x": null,
            "overflow_y": null,
            "padding": null,
            "right": null,
            "top": null,
            "visibility": null,
            "width": null
          }
        },
        "48a820bbf8d4444286d266bf10fee9a7": {
          "model_module": "@jupyter-widgets/controls",
          "model_name": "DescriptionStyleModel",
          "model_module_version": "1.5.0",
          "state": {
            "_model_module": "@jupyter-widgets/controls",
            "_model_module_version": "1.5.0",
            "_model_name": "DescriptionStyleModel",
            "_view_count": null,
            "_view_module": "@jupyter-widgets/base",
            "_view_module_version": "1.2.0",
            "_view_name": "StyleView",
            "description_width": ""
          }
        }
      }
    }
  },
  "cells": [
    {
      "cell_type": "markdown",
      "metadata": {
        "id": "view-in-github",
        "colab_type": "text"
      },
      "source": [
        "<a href=\"https://colab.research.google.com/github/nbchan/INMR96-Digital-Health-and-Data-Analytics/blob/main/Coding_Exercise_(Python_Basics%2C_Data_Handling_and_Preparation%2C_EDA).ipynb\" target=\"_parent\"><img src=\"https://colab.research.google.com/assets/colab-badge.svg\" alt=\"Open In Colab\"/></a>"
      ]
    },
    {
      "cell_type": "markdown",
      "source": [
        "# Python Basics"
      ],
      "metadata": {
        "id": "LsNx0hbQb7Gy"
      }
    },
    {
      "cell_type": "markdown",
      "metadata": {
        "id": "6ojj317Cb2oI"
      },
      "source": [
        "## Exercise 1\n",
        "\n",
        "Given the a person's height is 5 ft 9 inches, use the variables below to compute the person's height in meters and assign it to `person_height_m`.\n",
        "\n",
        "(1 feet = 0.3048 meters; 1 inch = 0.0254 meters)"
      ]
    },
    {
      "cell_type": "code",
      "metadata": {
        "id": "IlZBDbI0b1Q9"
      },
      "source": [
        "person_height_ft = 5\n",
        "person_height_inch = 9"
      ],
      "execution_count": null,
      "outputs": []
    },
    {
      "cell_type": "code",
      "source": [
        "## YOUR CODE HERE ##"
      ],
      "metadata": {
        "id": "YfBW7P15mZEH"
      },
      "execution_count": null,
      "outputs": []
    },
    {
      "cell_type": "markdown",
      "metadata": {
        "id": "RHMovLZzdK1-"
      },
      "source": [
        "### Suggested solution"
      ]
    },
    {
      "cell_type": "code",
      "metadata": {
        "colab": {
          "base_uri": "https://localhost:8080/"
        },
        "id": "1s1C6b1AdMrw",
        "outputId": "dade3971-8727-42e3-bb2b-4cbab614afdb"
      },
      "source": [
        "person_height_m = person_height_ft * 0.3048 + person_height_inch * 0.0254\n",
        "person_height_m"
      ],
      "execution_count": null,
      "outputs": [
        {
          "output_type": "execute_result",
          "data": {
            "text/plain": [
              "1.7526"
            ]
          },
          "metadata": {},
          "execution_count": 43
        }
      ]
    },
    {
      "cell_type": "markdown",
      "metadata": {
        "id": "tkkR7glafLBn"
      },
      "source": [
        "---\n",
        "\n",
        "## Exercise 2\n",
        "\n",
        "The person above weighs 111 kilograms. What is the person's body-mass index (BMI; assign it to `person_bmi`)?\n",
        "\n",
        "Is the person overweight based on the criteria BMI > 25 (assign it to `person_overweight`)?"
      ]
    },
    {
      "cell_type": "code",
      "metadata": {
        "id": "L_T2nz-hfLXG"
      },
      "source": [
        "person_weight = 111"
      ],
      "execution_count": null,
      "outputs": []
    },
    {
      "cell_type": "code",
      "source": [
        "## YOUR CODE HERE ##"
      ],
      "metadata": {
        "id": "QWeSPmzmmdDa"
      },
      "execution_count": null,
      "outputs": []
    },
    {
      "cell_type": "markdown",
      "metadata": {
        "id": "PQrXW4H5gyx1"
      },
      "source": [
        "### Suggested Solution"
      ]
    },
    {
      "cell_type": "code",
      "metadata": {
        "colab": {
          "base_uri": "https://localhost:8080/"
        },
        "id": "SnbykzPze6sd",
        "outputId": "e52010f0-3eb4-4bd3-ab24-071a13ec2c17"
      },
      "source": [
        "person_bmi = person_weight / (person_height_m ** 2)\n",
        "person_bmi"
      ],
      "execution_count": null,
      "outputs": [
        {
          "output_type": "execute_result",
          "data": {
            "text/plain": [
              "36.13743837443567"
            ]
          },
          "metadata": {},
          "execution_count": 45
        }
      ]
    },
    {
      "cell_type": "code",
      "metadata": {
        "colab": {
          "base_uri": "https://localhost:8080/"
        },
        "id": "WNdun93mgpUN",
        "outputId": "c748d559-0ea5-43e5-b6a0-2c031fec3ce5"
      },
      "source": [
        "person_overweight = person_bmi > 25\n",
        "person_overweight"
      ],
      "execution_count": null,
      "outputs": [
        {
          "output_type": "execute_result",
          "data": {
            "text/plain": [
              "True"
            ]
          },
          "metadata": {},
          "execution_count": 46
        }
      ]
    },
    {
      "cell_type": "markdown",
      "metadata": {
        "id": "CpBqoQGbxAum"
      },
      "source": [
        "---\n",
        "\n",
        "## Exercise 3\n",
        "\n",
        "Using the body temperature list `patients_body_temperature`, create a list that indicates\n",
        "\n",
        "1. their body temperatures in °F (multiply values in °C by 1.8 and then add 32).\n",
        "2. whether they have fever, as defined by body temperatures over 37.6°C."
      ]
    },
    {
      "cell_type": "code",
      "metadata": {
        "id": "ad7Cfgmx0ggP"
      },
      "source": [
        "patients_body_temperature = [36.4, 37.8, 37, 35.8, 35.6, 36.2, 36.4, 36.9, 37.5, 36.4]"
      ],
      "execution_count": null,
      "outputs": []
    },
    {
      "cell_type": "code",
      "source": [
        "## YOUR CODE HERE ##"
      ],
      "metadata": {
        "id": "aq8ADBJkmd8u"
      },
      "execution_count": null,
      "outputs": []
    },
    {
      "cell_type": "markdown",
      "metadata": {
        "id": "rkmZF1sQyfYW"
      },
      "source": [
        "### Suggested solution"
      ]
    },
    {
      "cell_type": "markdown",
      "metadata": {
        "id": "hgsT-USkyvKY"
      },
      "source": [
        "3.1"
      ]
    },
    {
      "cell_type": "code",
      "metadata": {
        "colab": {
          "base_uri": "https://localhost:8080/"
        },
        "id": "h4aQoNDUymYs",
        "outputId": "b871eb76-084e-4a15-f53d-89b504d54efa"
      },
      "source": [
        "patients_body_temperature_f = []\n",
        "\n",
        "for x in patients_body_temperature: # loop through the original list\n",
        "    patients_body_temperature_f.append(x * 1.8 + 32)\n",
        "\n",
        "print(patients_body_temperature_f)"
      ],
      "execution_count": null,
      "outputs": [
        {
          "output_type": "stream",
          "name": "stdout",
          "text": [
            "[97.52, 100.03999999999999, 98.60000000000001, 96.44, 96.08, 97.16000000000001, 97.52, 98.42, 99.5, 97.52]\n"
          ]
        }
      ]
    },
    {
      "cell_type": "code",
      "metadata": {
        "colab": {
          "base_uri": "https://localhost:8080/"
        },
        "id": "SlkJPguwy1PV",
        "outputId": "8c3b13b9-2e0b-411c-9e9f-e4395224ece1"
      },
      "source": [
        "# alternative\n",
        "patients_body_temperature_f = [x * 1.8 + 32 for x in patients_body_temperature]\n",
        "print(patients_body_temperature_f)"
      ],
      "execution_count": null,
      "outputs": [
        {
          "output_type": "stream",
          "name": "stdout",
          "text": [
            "[97.52, 100.03999999999999, 98.60000000000001, 96.44, 96.08, 97.16000000000001, 97.52, 98.42, 99.5, 97.52]\n"
          ]
        }
      ]
    },
    {
      "cell_type": "markdown",
      "metadata": {
        "id": "3Zpp4AokzGG3"
      },
      "source": [
        "3.2"
      ]
    },
    {
      "cell_type": "code",
      "metadata": {
        "colab": {
          "base_uri": "https://localhost:8080/"
        },
        "id": "6XwaXmQ9zElR",
        "outputId": "df22f4fa-dde8-4e0f-c200-981e51fe90d2"
      },
      "source": [
        "patients_fever = []\n",
        "\n",
        "for x in patients_body_temperature: # loop through the original list\n",
        "    patients_fever.append(x > 37.6)\n",
        "\n",
        "print(patients_fever)"
      ],
      "execution_count": null,
      "outputs": [
        {
          "output_type": "stream",
          "name": "stdout",
          "text": [
            "[False, True, False, False, False, False, False, False, False, False]\n"
          ]
        }
      ]
    },
    {
      "cell_type": "code",
      "metadata": {
        "colab": {
          "base_uri": "https://localhost:8080/"
        },
        "id": "M0EuOzpJzQJ_",
        "outputId": "0ad669ee-86ab-4966-84dd-24750852f0ce"
      },
      "source": [
        "# alternative\n",
        "patients_body_temperature_f = [x > 37.6 for x in patients_body_temperature]\n",
        "print(patients_body_temperature_f)"
      ],
      "execution_count": null,
      "outputs": [
        {
          "output_type": "stream",
          "name": "stdout",
          "text": [
            "[False, True, False, False, False, False, False, False, False, False]\n"
          ]
        }
      ]
    },
    {
      "cell_type": "markdown",
      "source": [
        "---\n",
        "\n",
        "## Exercise 4\n",
        "\n",
        "ICD-10 codes consist of three or more characters. Every code begins with an alphabet, which is indicative of the **chapter** to which the code is classified. The second and third characters are numbers. The first three characters of ICD-10 are indicative of the **category**, which describes the general type of the injury or disease.\n",
        "\n",
        "Based on the list of ICD-10 codes below,\n",
        "\n",
        "1. extract the second code from the list.\n",
        "2. extract the last code from the list.\n",
        "3. extract the respective ICD10 chapter of each code. Assign it to `sample_icd10_chapter`\n",
        "4. extract the respective ICD10 category of each code. Assign it to `sample_icd10_category`.\n",
        "5. count the number of codes that belong to the chapter \"I\" (Diseases of the circulatory system)."
      ],
      "metadata": {
        "id": "BcXQJVepfQ_H"
      }
    },
    {
      "cell_type": "code",
      "source": [
        "sample_icd10_codes = [\n",
        "    'I10', # Essential (primary) hypertension\n",
        "    'C73', # Malignant neoplasm of thyroid gland\n",
        "    'E11', # Type 2 diabetes mellitus\n",
        "    'E11.9', # Type 2 diabetes mellitus without complications\n",
        "    'U07.1', # COVID-19\n",
        "    'K26.1', # Acute duodenal ulcer with perforation\n",
        "    'I21.3', # Acute transmural myocardial infarction of unspecified site\n",
        "    'A37.81', # Whooping cough due to other Bordetella species with pneumonia\n",
        "    'I25.111' # Atherosclerotic heart disease of native coronary artery with angina pectoris with documented spasm\n",
        "]"
      ],
      "metadata": {
        "id": "H74JE56XfSqU"
      },
      "execution_count": null,
      "outputs": []
    },
    {
      "cell_type": "code",
      "source": [
        "## YOUR CODE HERE ##"
      ],
      "metadata": {
        "id": "lSOXKlFumfBH"
      },
      "execution_count": null,
      "outputs": []
    },
    {
      "cell_type": "markdown",
      "source": [
        "### Suggested Solution"
      ],
      "metadata": {
        "id": "LPkT1DX1jERI"
      }
    },
    {
      "cell_type": "markdown",
      "source": [
        "4.1"
      ],
      "metadata": {
        "id": "k_kR6-X2jJbX"
      }
    },
    {
      "cell_type": "code",
      "source": [
        "sample_icd10_codes[1]"
      ],
      "metadata": {
        "colab": {
          "base_uri": "https://localhost:8080/"
        },
        "id": "bna5GiVIjHCC",
        "outputId": "eb4f764a-9c88-4ce4-bcbd-1d66fbd56706"
      },
      "execution_count": null,
      "outputs": [
        {
          "output_type": "execute_result",
          "data": {
            "text/plain": [
              "'C73'"
            ],
            "application/vnd.google.colaboratory.intrinsic+json": {
              "type": "string"
            }
          },
          "metadata": {},
          "execution_count": 53
        }
      ]
    },
    {
      "cell_type": "markdown",
      "source": [
        "4.2"
      ],
      "metadata": {
        "id": "ES3WkxVbjXYd"
      }
    },
    {
      "cell_type": "code",
      "source": [
        "sample_icd10_codes[-1]"
      ],
      "metadata": {
        "colab": {
          "base_uri": "https://localhost:8080/"
        },
        "id": "LxqKDb7ijZdH",
        "outputId": "99c997ad-cdcb-43e5-b5c1-48da01911dd6"
      },
      "execution_count": null,
      "outputs": [
        {
          "output_type": "execute_result",
          "data": {
            "text/plain": [
              "'I25.111'"
            ],
            "application/vnd.google.colaboratory.intrinsic+json": {
              "type": "string"
            }
          },
          "metadata": {},
          "execution_count": 54
        }
      ]
    },
    {
      "cell_type": "code",
      "source": [
        "# alternative\n",
        "sample_icd10_codes[8]"
      ],
      "metadata": {
        "colab": {
          "base_uri": "https://localhost:8080/"
        },
        "id": "3xVm4njZjZoE",
        "outputId": "9cf1e16d-6688-49ee-ac71-8e78b3141020"
      },
      "execution_count": null,
      "outputs": [
        {
          "output_type": "execute_result",
          "data": {
            "text/plain": [
              "'I25.111'"
            ],
            "application/vnd.google.colaboratory.intrinsic+json": {
              "type": "string"
            }
          },
          "metadata": {},
          "execution_count": 55
        }
      ]
    },
    {
      "cell_type": "markdown",
      "source": [
        "4.3"
      ],
      "metadata": {
        "id": "eObYRRsZjZy2"
      }
    },
    {
      "cell_type": "code",
      "source": [
        "sample_icd10_chapter = []\n",
        "\n",
        "for x in sample_icd10_codes: # loop through the original list\n",
        "    sample_icd10_chapter.append(x[0])\n",
        "\n",
        "print(sample_icd10_chapter)"
      ],
      "metadata": {
        "colab": {
          "base_uri": "https://localhost:8080/"
        },
        "id": "6J_1z1RsjZ9m",
        "outputId": "27fade5d-4963-411a-835a-de109aa4079e"
      },
      "execution_count": null,
      "outputs": [
        {
          "output_type": "stream",
          "name": "stdout",
          "text": [
            "['I', 'C', 'E', 'E', 'U', 'K', 'I', 'A', 'I']\n"
          ]
        }
      ]
    },
    {
      "cell_type": "markdown",
      "source": [
        "4.4"
      ],
      "metadata": {
        "id": "LMNOMUoHkKUI"
      }
    },
    {
      "cell_type": "code",
      "source": [
        "sample_icd10_category = []\n",
        "\n",
        "for x in sample_icd10_codes: # loop through the original list\n",
        "    sample_icd10_category.append(x[:3])\n",
        "\n",
        "print(sample_icd10_category)"
      ],
      "metadata": {
        "colab": {
          "base_uri": "https://localhost:8080/"
        },
        "id": "XvysTM5Zjyj3",
        "outputId": "c58f7c6b-95c0-4f81-a01c-554e847ec64c"
      },
      "execution_count": null,
      "outputs": [
        {
          "output_type": "stream",
          "name": "stdout",
          "text": [
            "['I10', 'C73', 'E11', 'E11', 'U07', 'K26', 'I21', 'A37', 'I25']\n"
          ]
        }
      ]
    },
    {
      "cell_type": "markdown",
      "source": [
        "4.5"
      ],
      "metadata": {
        "id": "6vqxh53PkFpg"
      }
    },
    {
      "cell_type": "code",
      "source": [
        "sample_icd10_chapter.count(\"I\")"
      ],
      "metadata": {
        "colab": {
          "base_uri": "https://localhost:8080/"
        },
        "id": "d5uBhJb5kPFA",
        "outputId": "d58dda0b-54b6-4eb6-db12-8eee496cbf52"
      },
      "execution_count": null,
      "outputs": [
        {
          "output_type": "execute_result",
          "data": {
            "text/plain": [
              "3"
            ]
          },
          "metadata": {},
          "execution_count": 58
        }
      ]
    },
    {
      "cell_type": "markdown",
      "source": [
        "---\n",
        "\n",
        "---\n",
        "\n",
        "# Tabular Data in Python"
      ],
      "metadata": {
        "id": "K5EiME_SsQaX"
      }
    },
    {
      "cell_type": "markdown",
      "source": [
        "## Exercise 5\n",
        "\n",
        "Import the `pandas` package and create an alias `pd` for it."
      ],
      "metadata": {
        "id": "BmBdwQxMsYbg"
      }
    },
    {
      "cell_type": "code",
      "source": [
        "## YOUR CODE HERE ##"
      ],
      "metadata": {
        "id": "gkwTIm9hmgKr"
      },
      "execution_count": null,
      "outputs": []
    },
    {
      "cell_type": "markdown",
      "source": [
        "### Suggested Solution\n"
      ],
      "metadata": {
        "id": "OXeZHUGWsqYl"
      }
    },
    {
      "cell_type": "code",
      "source": [
        "import pandas as pd"
      ],
      "metadata": {
        "id": "xr_nBcsTsUrJ"
      },
      "execution_count": null,
      "outputs": []
    },
    {
      "cell_type": "markdown",
      "source": [
        "---\n",
        "\n",
        "## Importing MIMIC-III data from BigQuery as a Pandas DataFrame"
      ],
      "metadata": {
        "id": "BZT2suJ1spE_"
      }
    },
    {
      "cell_type": "markdown",
      "metadata": {
        "id": "UlqXFKgOALkE"
      },
      "source": [
        "### Provide your credentials to the Colab runtime\n",
        "\n",
        "Run the following code. You will be given a link that requests permission of the notebook to access your data from BigQuery. Enter that link and accept the request. You might be asked to enter your password in this step.\n",
        "\n",
        "After that, you will be given a one-time authentication token. Copy and paste it to the textbox under the link. If successful, the message \"Authenticated\" would be printed.\n",
        "\n"
      ]
    },
    {
      "cell_type": "code",
      "metadata": {
        "id": "C6C_kV_f-W3S",
        "colab": {
          "base_uri": "https://localhost:8080/"
        },
        "outputId": "b0f09894-8d58-41e5-eb7e-68f5800d7f0a"
      },
      "source": [
        "from google.colab import auth\n",
        "auth.authenticate_user()\n",
        "print('Authenticated')"
      ],
      "execution_count": null,
      "outputs": [
        {
          "output_type": "stream",
          "name": "stdout",
          "text": [
            "Authenticated\n"
          ]
        }
      ]
    },
    {
      "cell_type": "markdown",
      "metadata": {
        "id": "DSCFvXvp_fxN"
      },
      "source": [
        "**Troubleshooting**\n",
        "\n",
        "If you are unable to authenticate yourself, check for the following:\n",
        "\n",
        "* Make sure you have followed the [guide to access MIMIC-III on BigQuery](https://mimic.mit.edu/docs/gettingstarted/cloud/bigquery/).\n",
        "* Use the [Cloud Resource Manager](https://console.cloud.google.com/cloud-resource-manager) to Create a Cloud Platform project if you do not already have one.\n",
        "  * Almost all of your interactions with Google Cloud Platform (GCP) are associated with a project. Importantly, all billing for your usage must be allotted to a single project. In order to use BigQuery you must have an active project associated with your account. BigQuery offers a $300 free trial for first time users. You should not be billed for any reasonable usage for completing the module.\n",
        "* [Enable billing](https://support.google.com/cloud/answer/6293499#enable-billing) for the project."
      ]
    },
    {
      "cell_type": "markdown",
      "source": [
        "---\n",
        "\n",
        "## Exercise 6\n",
        "\n",
        "1. Write a SQL query to retrieve the entire `admissions` table in MIMIC-III. Test your query in [BigQuery](https://console.cloud.google.com/bigquery).\n",
        "2. Execute the above SQL query within Colab and save the results as a `DataFrame` called `df_adm`. The skeleton code below is given for your reference. Your GCP project ID can be found in [Cloud Resource Manager](https://console.cloud.google.com/cloud-resource-manager).\n",
        "\n",
        "```\n",
        "%%bigquery --project $bigquery_project_id\n",
        "\n",
        "your-sql-code-here\n",
        "```\n",
        "\n"
      ],
      "metadata": {
        "id": "AC5H2i6ptUKj"
      }
    },
    {
      "cell_type": "code",
      "source": [
        "## YOUR CODE HERE ##\n",
        "bigquery_project_id = 'your-project-id-here'\n",
        "# make sure you change the project ID above!"
      ],
      "metadata": {
        "id": "i47kZxHkgbwP"
      },
      "execution_count": null,
      "outputs": []
    },
    {
      "cell_type": "code",
      "source": [
        "## YOUR CODE HERE ##"
      ],
      "metadata": {
        "id": "S2Kw0jIimkYK"
      },
      "execution_count": null,
      "outputs": []
    },
    {
      "cell_type": "markdown",
      "source": [
        "### Suggested Solution"
      ],
      "metadata": {
        "id": "8ZL1ZPqtyXJu"
      }
    },
    {
      "cell_type": "markdown",
      "source": [
        "6.1\n",
        "\n",
        "The SQL query is\n",
        "\n",
        "```sql\n",
        "SELECT * FROM `physionet-data.mimiciii_clinical.admissions`\n",
        "```\n",
        "\n",
        "6.2"
      ],
      "metadata": {
        "id": "OaQef5eWuOMm"
      }
    },
    {
      "cell_type": "code",
      "source": [
        "%%bigquery df_adm --project your-project-id-here\n",
        "\n",
        "SELECT * FROM `physionet-data.mimiciii_clinical.admissions`"
      ],
      "metadata": {
        "colab": {
          "base_uri": "https://localhost:8080/",
          "height": 81,
          "referenced_widgets": [
            "0caa1548df324e6ba6f5d4bdd1424b6c",
            "d32dde9ff52d41569bcf0ac406f3194b",
            "4881c0d1c6044f8aaa29791b475bdf96",
            "280b51cf9cb2414cba23e5f04249d720",
            "fb3bdd9440534fb6b58a7af732e33d6d",
            "8f160153895147149b680d8ba0d35c89",
            "f9c947ed8c7742e38439458bdae9a1ff",
            "3afd5bac679a4e0f8754f92387a207e1",
            "076da07f2899485ab17fe6438415433d",
            "9198b8cb4bc84b2a85ee70e867f38d1e",
            "e5322a8410904b5aa256e634522b40b7",
            "4ca88693a41d4885a61211de41cd7bd6",
            "e5e9ccfbe4284ae5899da7eab51c3409",
            "9c0e48fa47df449fba20629ff9d07dfb",
            "dff8300f69984af1bb91e0d6a08a2b00",
            "e602dea9ca16448ba3ac91a7ce7cf8be",
            "0f081645295c4c6485c850be453c77c6",
            "e551f487ae5242629bfdd13d9fa8d560",
            "bd5fc34ba94b4d8e8460460ba34c0e72",
            "0b5cdb298aa2442795b4cefd61b4eb63",
            "5083216d0ad14054b015a0b4a3ff6978",
            "48a820bbf8d4444286d266bf10fee9a7"
          ]
        },
        "id": "hA8zmnEKtLC8",
        "outputId": "c61be341-7ae8-4ad2-d567-7cb782babdc6"
      },
      "execution_count": null,
      "outputs": [
        {
          "output_type": "display_data",
          "data": {
            "text/plain": [
              "Query is running:   0%|          |"
            ],
            "application/vnd.jupyter.widget-view+json": {
              "version_major": 2,
              "version_minor": 0,
              "model_id": "0caa1548df324e6ba6f5d4bdd1424b6c"
            }
          },
          "metadata": {}
        },
        {
          "output_type": "display_data",
          "data": {
            "text/plain": [
              "Downloading:   0%|          |"
            ],
            "application/vnd.jupyter.widget-view+json": {
              "version_major": 2,
              "version_minor": 0,
              "model_id": "4ca88693a41d4885a61211de41cd7bd6"
            }
          },
          "metadata": {}
        }
      ]
    },
    {
      "cell_type": "code",
      "source": [
        "df_adm"
      ],
      "metadata": {
        "colab": {
          "base_uri": "https://localhost:8080/",
          "height": 835
        },
        "id": "yyLyRN-ou-JJ",
        "outputId": "ec56b7cc-95cc-4479-ed3e-aff4e65ed5e9"
      },
      "execution_count": null,
      "outputs": [
        {
          "output_type": "execute_result",
          "data": {
            "text/plain": [
              "       ROW_ID  SUBJECT_ID  HADM_ID           ADMITTIME           DISCHTIME  \\\n",
              "0        3757        3115   134067 2139-02-13 03:11:00 2139-02-20 07:33:00   \n",
              "1        8689        7124   109129 2188-07-11 00:58:00 2188-08-01 12:04:00   \n",
              "2       12652       10348   121510 2133-04-16 21:12:00 2133-04-23 15:52:00   \n",
              "3       11501        9396   106469 2109-02-16 23:14:00 2109-02-23 12:01:00   \n",
              "4       11419        9333   133732 2167-10-06 18:35:00 2167-10-16 13:13:00   \n",
              "...       ...         ...      ...                 ...                 ...   \n",
              "58971     917         744   148472 2106-07-12 18:52:00 2106-07-16 17:21:00   \n",
              "58972   44966       56130   114902 2194-09-22 17:07:00 2194-10-08 12:00:00   \n",
              "58973   53532       82746   156806 2123-09-08 06:45:00 2123-09-24 17:22:00   \n",
              "58974   12305       10056   100375 2129-05-02 00:12:00 2129-05-06 13:40:00   \n",
              "58975   44640       55092   181473 2145-11-22 20:18:00 2145-11-27 14:00:00   \n",
              "\n",
              "      DEATHTIME ADMISSION_TYPE         ADMISSION_LOCATION  \\\n",
              "0           NaT      EMERGENCY       EMERGENCY ROOM ADMIT   \n",
              "1           NaT      EMERGENCY       EMERGENCY ROOM ADMIT   \n",
              "2           NaT      EMERGENCY       EMERGENCY ROOM ADMIT   \n",
              "3           NaT      EMERGENCY       EMERGENCY ROOM ADMIT   \n",
              "4           NaT         URGENT  TRANSFER FROM HOSP/EXTRAM   \n",
              "...         ...            ...                        ...   \n",
              "58971       NaT      EMERGENCY  TRANSFER FROM HOSP/EXTRAM   \n",
              "58972       NaT      EMERGENCY  CLINIC REFERRAL/PREMATURE   \n",
              "58973       NaT      EMERGENCY  CLINIC REFERRAL/PREMATURE   \n",
              "58974       NaT      EMERGENCY  TRANSFER FROM HOSP/EXTRAM   \n",
              "58975       NaT      EMERGENCY  CLINIC REFERRAL/PREMATURE   \n",
              "\n",
              "            DISCHARGE_LOCATION INSURANCE LANGUAGE             RELIGION  \\\n",
              "0                          SNF  Medicare     None                 None   \n",
              "1                          SNF  Medicare     None                 None   \n",
              "2                          SNF  Medicare     None                 None   \n",
              "3                          SNF  Medicare     None                 None   \n",
              "4                          SNF   Private     None                 None   \n",
              "...                        ...       ...      ...                  ...   \n",
              "58971         HOME HEALTH CARE  Medicare     None    PROTESTANT QUAKER   \n",
              "58972  LONG TERM CARE HOSPITAL   Private     ENGL    PROTESTANT QUAKER   \n",
              "58973  LONG TERM CARE HOSPITAL  Medicare     ENGL    PROTESTANT QUAKER   \n",
              "58974                      SNF  Medicare     None  CHRISTIAN SCIENTIST   \n",
              "58975         HOME HEALTH CARE  Medicare     ENGL  CHRISTIAN SCIENTIST   \n",
              "\n",
              "          MARITAL_STATUS              ETHNICITY           EDREGTIME  \\\n",
              "0                   None                  WHITE 2139-02-13 00:02:00   \n",
              "1                   None                  WHITE 2188-07-10 14:17:00   \n",
              "2                   None  UNKNOWN/NOT SPECIFIED 2133-04-16 19:22:00   \n",
              "3                   None                  WHITE 2109-02-16 20:58:00   \n",
              "4                   None  UNKNOWN/NOT SPECIFIED                 NaT   \n",
              "...                  ...                    ...                 ...   \n",
              "58971  UNKNOWN (DEFAULT)                  WHITE                 NaT   \n",
              "58972  UNKNOWN (DEFAULT)       UNABLE TO OBTAIN 2194-09-22 14:59:00   \n",
              "58973  UNKNOWN (DEFAULT)                  WHITE 2123-09-08 03:39:00   \n",
              "58974  UNKNOWN (DEFAULT)                  WHITE                 NaT   \n",
              "58975  UNKNOWN (DEFAULT)                  WHITE 2145-11-22 14:06:00   \n",
              "\n",
              "                EDOUTTIME                            DIAGNOSIS  \\\n",
              "0     2139-02-13 03:22:00                           STAB WOUND   \n",
              "1     2188-07-11 01:52:00         PENILE LACERATION-CELLULITIS   \n",
              "2     2133-04-16 22:17:00                   STATUS EPILEPTICUS   \n",
              "3     2109-02-16 23:42:00                    SUBDURAL HEMATOMA   \n",
              "4                     NaT              CORONARY ARTERY DISEASE   \n",
              "...                   ...                                  ...   \n",
              "58971                 NaT  CORONARY ARTERY DISEASE\\ANGIOPLASTY   \n",
              "58972 2194-09-22 18:26:00                             S/P FALL   \n",
              "58973 2123-09-08 07:55:00                                  AMS   \n",
              "58974                 NaT                               SEPSIS   \n",
              "58975 2145-11-22 21:53:00    ATRIAL FIBRILLATION;TELEMETRY;RVR   \n",
              "\n",
              "       HOSPITAL_EXPIRE_FLAG  HAS_CHARTEVENTS_DATA  \n",
              "0                         0                     1  \n",
              "1                         0                     1  \n",
              "2                         0                     1  \n",
              "3                         0                     1  \n",
              "4                         0                     1  \n",
              "...                     ...                   ...  \n",
              "58971                     0                     1  \n",
              "58972                     0                     1  \n",
              "58973                     0                     1  \n",
              "58974                     0                     1  \n",
              "58975                     0                     1  \n",
              "\n",
              "[58976 rows x 19 columns]"
            ],
            "text/html": [
              "\n",
              "  <div id=\"df-5e347945-0d36-4429-8742-3d5066ace759\">\n",
              "    <div class=\"colab-df-container\">\n",
              "      <div>\n",
              "<style scoped>\n",
              "    .dataframe tbody tr th:only-of-type {\n",
              "        vertical-align: middle;\n",
              "    }\n",
              "\n",
              "    .dataframe tbody tr th {\n",
              "        vertical-align: top;\n",
              "    }\n",
              "\n",
              "    .dataframe thead th {\n",
              "        text-align: right;\n",
              "    }\n",
              "</style>\n",
              "<table border=\"1\" class=\"dataframe\">\n",
              "  <thead>\n",
              "    <tr style=\"text-align: right;\">\n",
              "      <th></th>\n",
              "      <th>ROW_ID</th>\n",
              "      <th>SUBJECT_ID</th>\n",
              "      <th>HADM_ID</th>\n",
              "      <th>ADMITTIME</th>\n",
              "      <th>DISCHTIME</th>\n",
              "      <th>DEATHTIME</th>\n",
              "      <th>ADMISSION_TYPE</th>\n",
              "      <th>ADMISSION_LOCATION</th>\n",
              "      <th>DISCHARGE_LOCATION</th>\n",
              "      <th>INSURANCE</th>\n",
              "      <th>LANGUAGE</th>\n",
              "      <th>RELIGION</th>\n",
              "      <th>MARITAL_STATUS</th>\n",
              "      <th>ETHNICITY</th>\n",
              "      <th>EDREGTIME</th>\n",
              "      <th>EDOUTTIME</th>\n",
              "      <th>DIAGNOSIS</th>\n",
              "      <th>HOSPITAL_EXPIRE_FLAG</th>\n",
              "      <th>HAS_CHARTEVENTS_DATA</th>\n",
              "    </tr>\n",
              "  </thead>\n",
              "  <tbody>\n",
              "    <tr>\n",
              "      <th>0</th>\n",
              "      <td>3757</td>\n",
              "      <td>3115</td>\n",
              "      <td>134067</td>\n",
              "      <td>2139-02-13 03:11:00</td>\n",
              "      <td>2139-02-20 07:33:00</td>\n",
              "      <td>NaT</td>\n",
              "      <td>EMERGENCY</td>\n",
              "      <td>EMERGENCY ROOM ADMIT</td>\n",
              "      <td>SNF</td>\n",
              "      <td>Medicare</td>\n",
              "      <td>None</td>\n",
              "      <td>None</td>\n",
              "      <td>None</td>\n",
              "      <td>WHITE</td>\n",
              "      <td>2139-02-13 00:02:00</td>\n",
              "      <td>2139-02-13 03:22:00</td>\n",
              "      <td>STAB WOUND</td>\n",
              "      <td>0</td>\n",
              "      <td>1</td>\n",
              "    </tr>\n",
              "    <tr>\n",
              "      <th>1</th>\n",
              "      <td>8689</td>\n",
              "      <td>7124</td>\n",
              "      <td>109129</td>\n",
              "      <td>2188-07-11 00:58:00</td>\n",
              "      <td>2188-08-01 12:04:00</td>\n",
              "      <td>NaT</td>\n",
              "      <td>EMERGENCY</td>\n",
              "      <td>EMERGENCY ROOM ADMIT</td>\n",
              "      <td>SNF</td>\n",
              "      <td>Medicare</td>\n",
              "      <td>None</td>\n",
              "      <td>None</td>\n",
              "      <td>None</td>\n",
              "      <td>WHITE</td>\n",
              "      <td>2188-07-10 14:17:00</td>\n",
              "      <td>2188-07-11 01:52:00</td>\n",
              "      <td>PENILE LACERATION-CELLULITIS</td>\n",
              "      <td>0</td>\n",
              "      <td>1</td>\n",
              "    </tr>\n",
              "    <tr>\n",
              "      <th>2</th>\n",
              "      <td>12652</td>\n",
              "      <td>10348</td>\n",
              "      <td>121510</td>\n",
              "      <td>2133-04-16 21:12:00</td>\n",
              "      <td>2133-04-23 15:52:00</td>\n",
              "      <td>NaT</td>\n",
              "      <td>EMERGENCY</td>\n",
              "      <td>EMERGENCY ROOM ADMIT</td>\n",
              "      <td>SNF</td>\n",
              "      <td>Medicare</td>\n",
              "      <td>None</td>\n",
              "      <td>None</td>\n",
              "      <td>None</td>\n",
              "      <td>UNKNOWN/NOT SPECIFIED</td>\n",
              "      <td>2133-04-16 19:22:00</td>\n",
              "      <td>2133-04-16 22:17:00</td>\n",
              "      <td>STATUS EPILEPTICUS</td>\n",
              "      <td>0</td>\n",
              "      <td>1</td>\n",
              "    </tr>\n",
              "    <tr>\n",
              "      <th>3</th>\n",
              "      <td>11501</td>\n",
              "      <td>9396</td>\n",
              "      <td>106469</td>\n",
              "      <td>2109-02-16 23:14:00</td>\n",
              "      <td>2109-02-23 12:01:00</td>\n",
              "      <td>NaT</td>\n",
              "      <td>EMERGENCY</td>\n",
              "      <td>EMERGENCY ROOM ADMIT</td>\n",
              "      <td>SNF</td>\n",
              "      <td>Medicare</td>\n",
              "      <td>None</td>\n",
              "      <td>None</td>\n",
              "      <td>None</td>\n",
              "      <td>WHITE</td>\n",
              "      <td>2109-02-16 20:58:00</td>\n",
              "      <td>2109-02-16 23:42:00</td>\n",
              "      <td>SUBDURAL HEMATOMA</td>\n",
              "      <td>0</td>\n",
              "      <td>1</td>\n",
              "    </tr>\n",
              "    <tr>\n",
              "      <th>4</th>\n",
              "      <td>11419</td>\n",
              "      <td>9333</td>\n",
              "      <td>133732</td>\n",
              "      <td>2167-10-06 18:35:00</td>\n",
              "      <td>2167-10-16 13:13:00</td>\n",
              "      <td>NaT</td>\n",
              "      <td>URGENT</td>\n",
              "      <td>TRANSFER FROM HOSP/EXTRAM</td>\n",
              "      <td>SNF</td>\n",
              "      <td>Private</td>\n",
              "      <td>None</td>\n",
              "      <td>None</td>\n",
              "      <td>None</td>\n",
              "      <td>UNKNOWN/NOT SPECIFIED</td>\n",
              "      <td>NaT</td>\n",
              "      <td>NaT</td>\n",
              "      <td>CORONARY ARTERY DISEASE</td>\n",
              "      <td>0</td>\n",
              "      <td>1</td>\n",
              "    </tr>\n",
              "    <tr>\n",
              "      <th>...</th>\n",
              "      <td>...</td>\n",
              "      <td>...</td>\n",
              "      <td>...</td>\n",
              "      <td>...</td>\n",
              "      <td>...</td>\n",
              "      <td>...</td>\n",
              "      <td>...</td>\n",
              "      <td>...</td>\n",
              "      <td>...</td>\n",
              "      <td>...</td>\n",
              "      <td>...</td>\n",
              "      <td>...</td>\n",
              "      <td>...</td>\n",
              "      <td>...</td>\n",
              "      <td>...</td>\n",
              "      <td>...</td>\n",
              "      <td>...</td>\n",
              "      <td>...</td>\n",
              "      <td>...</td>\n",
              "    </tr>\n",
              "    <tr>\n",
              "      <th>58971</th>\n",
              "      <td>917</td>\n",
              "      <td>744</td>\n",
              "      <td>148472</td>\n",
              "      <td>2106-07-12 18:52:00</td>\n",
              "      <td>2106-07-16 17:21:00</td>\n",
              "      <td>NaT</td>\n",
              "      <td>EMERGENCY</td>\n",
              "      <td>TRANSFER FROM HOSP/EXTRAM</td>\n",
              "      <td>HOME HEALTH CARE</td>\n",
              "      <td>Medicare</td>\n",
              "      <td>None</td>\n",
              "      <td>PROTESTANT QUAKER</td>\n",
              "      <td>UNKNOWN (DEFAULT)</td>\n",
              "      <td>WHITE</td>\n",
              "      <td>NaT</td>\n",
              "      <td>NaT</td>\n",
              "      <td>CORONARY ARTERY DISEASE\\ANGIOPLASTY</td>\n",
              "      <td>0</td>\n",
              "      <td>1</td>\n",
              "    </tr>\n",
              "    <tr>\n",
              "      <th>58972</th>\n",
              "      <td>44966</td>\n",
              "      <td>56130</td>\n",
              "      <td>114902</td>\n",
              "      <td>2194-09-22 17:07:00</td>\n",
              "      <td>2194-10-08 12:00:00</td>\n",
              "      <td>NaT</td>\n",
              "      <td>EMERGENCY</td>\n",
              "      <td>CLINIC REFERRAL/PREMATURE</td>\n",
              "      <td>LONG TERM CARE HOSPITAL</td>\n",
              "      <td>Private</td>\n",
              "      <td>ENGL</td>\n",
              "      <td>PROTESTANT QUAKER</td>\n",
              "      <td>UNKNOWN (DEFAULT)</td>\n",
              "      <td>UNABLE TO OBTAIN</td>\n",
              "      <td>2194-09-22 14:59:00</td>\n",
              "      <td>2194-09-22 18:26:00</td>\n",
              "      <td>S/P FALL</td>\n",
              "      <td>0</td>\n",
              "      <td>1</td>\n",
              "    </tr>\n",
              "    <tr>\n",
              "      <th>58973</th>\n",
              "      <td>53532</td>\n",
              "      <td>82746</td>\n",
              "      <td>156806</td>\n",
              "      <td>2123-09-08 06:45:00</td>\n",
              "      <td>2123-09-24 17:22:00</td>\n",
              "      <td>NaT</td>\n",
              "      <td>EMERGENCY</td>\n",
              "      <td>CLINIC REFERRAL/PREMATURE</td>\n",
              "      <td>LONG TERM CARE HOSPITAL</td>\n",
              "      <td>Medicare</td>\n",
              "      <td>ENGL</td>\n",
              "      <td>PROTESTANT QUAKER</td>\n",
              "      <td>UNKNOWN (DEFAULT)</td>\n",
              "      <td>WHITE</td>\n",
              "      <td>2123-09-08 03:39:00</td>\n",
              "      <td>2123-09-08 07:55:00</td>\n",
              "      <td>AMS</td>\n",
              "      <td>0</td>\n",
              "      <td>1</td>\n",
              "    </tr>\n",
              "    <tr>\n",
              "      <th>58974</th>\n",
              "      <td>12305</td>\n",
              "      <td>10056</td>\n",
              "      <td>100375</td>\n",
              "      <td>2129-05-02 00:12:00</td>\n",
              "      <td>2129-05-06 13:40:00</td>\n",
              "      <td>NaT</td>\n",
              "      <td>EMERGENCY</td>\n",
              "      <td>TRANSFER FROM HOSP/EXTRAM</td>\n",
              "      <td>SNF</td>\n",
              "      <td>Medicare</td>\n",
              "      <td>None</td>\n",
              "      <td>CHRISTIAN SCIENTIST</td>\n",
              "      <td>UNKNOWN (DEFAULT)</td>\n",
              "      <td>WHITE</td>\n",
              "      <td>NaT</td>\n",
              "      <td>NaT</td>\n",
              "      <td>SEPSIS</td>\n",
              "      <td>0</td>\n",
              "      <td>1</td>\n",
              "    </tr>\n",
              "    <tr>\n",
              "      <th>58975</th>\n",
              "      <td>44640</td>\n",
              "      <td>55092</td>\n",
              "      <td>181473</td>\n",
              "      <td>2145-11-22 20:18:00</td>\n",
              "      <td>2145-11-27 14:00:00</td>\n",
              "      <td>NaT</td>\n",
              "      <td>EMERGENCY</td>\n",
              "      <td>CLINIC REFERRAL/PREMATURE</td>\n",
              "      <td>HOME HEALTH CARE</td>\n",
              "      <td>Medicare</td>\n",
              "      <td>ENGL</td>\n",
              "      <td>CHRISTIAN SCIENTIST</td>\n",
              "      <td>UNKNOWN (DEFAULT)</td>\n",
              "      <td>WHITE</td>\n",
              "      <td>2145-11-22 14:06:00</td>\n",
              "      <td>2145-11-22 21:53:00</td>\n",
              "      <td>ATRIAL FIBRILLATION;TELEMETRY;RVR</td>\n",
              "      <td>0</td>\n",
              "      <td>1</td>\n",
              "    </tr>\n",
              "  </tbody>\n",
              "</table>\n",
              "<p>58976 rows × 19 columns</p>\n",
              "</div>\n",
              "      <button class=\"colab-df-convert\" onclick=\"convertToInteractive('df-5e347945-0d36-4429-8742-3d5066ace759')\"\n",
              "              title=\"Convert this dataframe to an interactive table.\"\n",
              "              style=\"display:none;\">\n",
              "        \n",
              "  <svg xmlns=\"http://www.w3.org/2000/svg\" height=\"24px\"viewBox=\"0 0 24 24\"\n",
              "       width=\"24px\">\n",
              "    <path d=\"M0 0h24v24H0V0z\" fill=\"none\"/>\n",
              "    <path d=\"M18.56 5.44l.94 2.06.94-2.06 2.06-.94-2.06-.94-.94-2.06-.94 2.06-2.06.94zm-11 1L8.5 8.5l.94-2.06 2.06-.94-2.06-.94L8.5 2.5l-.94 2.06-2.06.94zm10 10l.94 2.06.94-2.06 2.06-.94-2.06-.94-.94-2.06-.94 2.06-2.06.94z\"/><path d=\"M17.41 7.96l-1.37-1.37c-.4-.4-.92-.59-1.43-.59-.52 0-1.04.2-1.43.59L10.3 9.45l-7.72 7.72c-.78.78-.78 2.05 0 2.83L4 21.41c.39.39.9.59 1.41.59.51 0 1.02-.2 1.41-.59l7.78-7.78 2.81-2.81c.8-.78.8-2.07 0-2.86zM5.41 20L4 18.59l7.72-7.72 1.47 1.35L5.41 20z\"/>\n",
              "  </svg>\n",
              "      </button>\n",
              "      \n",
              "  <style>\n",
              "    .colab-df-container {\n",
              "      display:flex;\n",
              "      flex-wrap:wrap;\n",
              "      gap: 12px;\n",
              "    }\n",
              "\n",
              "    .colab-df-convert {\n",
              "      background-color: #E8F0FE;\n",
              "      border: none;\n",
              "      border-radius: 50%;\n",
              "      cursor: pointer;\n",
              "      display: none;\n",
              "      fill: #1967D2;\n",
              "      height: 32px;\n",
              "      padding: 0 0 0 0;\n",
              "      width: 32px;\n",
              "    }\n",
              "\n",
              "    .colab-df-convert:hover {\n",
              "      background-color: #E2EBFA;\n",
              "      box-shadow: 0px 1px 2px rgba(60, 64, 67, 0.3), 0px 1px 3px 1px rgba(60, 64, 67, 0.15);\n",
              "      fill: #174EA6;\n",
              "    }\n",
              "\n",
              "    [theme=dark] .colab-df-convert {\n",
              "      background-color: #3B4455;\n",
              "      fill: #D2E3FC;\n",
              "    }\n",
              "\n",
              "    [theme=dark] .colab-df-convert:hover {\n",
              "      background-color: #434B5C;\n",
              "      box-shadow: 0px 1px 3px 1px rgba(0, 0, 0, 0.15);\n",
              "      filter: drop-shadow(0px 1px 2px rgba(0, 0, 0, 0.3));\n",
              "      fill: #FFFFFF;\n",
              "    }\n",
              "  </style>\n",
              "\n",
              "      <script>\n",
              "        const buttonEl =\n",
              "          document.querySelector('#df-5e347945-0d36-4429-8742-3d5066ace759 button.colab-df-convert');\n",
              "        buttonEl.style.display =\n",
              "          google.colab.kernel.accessAllowed ? 'block' : 'none';\n",
              "\n",
              "        async function convertToInteractive(key) {\n",
              "          const element = document.querySelector('#df-5e347945-0d36-4429-8742-3d5066ace759');\n",
              "          const dataTable =\n",
              "            await google.colab.kernel.invokeFunction('convertToInteractive',\n",
              "                                                     [key], {});\n",
              "          if (!dataTable) return;\n",
              "\n",
              "          const docLinkHtml = 'Like what you see? Visit the ' +\n",
              "            '<a target=\"_blank\" href=https://colab.research.google.com/notebooks/data_table.ipynb>data table notebook</a>'\n",
              "            + ' to learn more about interactive tables.';\n",
              "          element.innerHTML = '';\n",
              "          dataTable['output_type'] = 'display_data';\n",
              "          await google.colab.output.renderOutput(dataTable, element);\n",
              "          const docLink = document.createElement('div');\n",
              "          docLink.innerHTML = docLinkHtml;\n",
              "          element.appendChild(docLink);\n",
              "        }\n",
              "      </script>\n",
              "    </div>\n",
              "  </div>\n",
              "  "
            ]
          },
          "metadata": {},
          "execution_count": 66
        }
      ]
    },
    {
      "cell_type": "markdown",
      "metadata": {
        "id": "2VPxeYr-UXjh"
      },
      "source": [
        "---\n",
        "\n",
        "## Exercise 7\n",
        "\n",
        "Using the admissions table in MIMIC-III (`df_adm`), what are the top 5 types of diagnosis at admission?"
      ]
    },
    {
      "cell_type": "code",
      "source": [
        "## YOUR CODE HERE ##"
      ],
      "metadata": {
        "id": "46evKxg2mmu-"
      },
      "execution_count": null,
      "outputs": []
    },
    {
      "cell_type": "markdown",
      "metadata": {
        "id": "l8Gk5JKnWGg2"
      },
      "source": [
        "### Suggested Solution"
      ]
    },
    {
      "cell_type": "code",
      "metadata": {
        "colab": {
          "base_uri": "https://localhost:8080/"
        },
        "id": "fI6uvjSoVFZa",
        "outputId": "c377600c-def8-487e-ca90-0ede54f3f57b"
      },
      "source": [
        "df_adm['DIAGNOSIS'].value_counts()"
      ],
      "execution_count": null,
      "outputs": [
        {
          "output_type": "execute_result",
          "data": {
            "text/plain": [
              "NEWBORN                                                                                                                        7823\n",
              "PNEUMONIA                                                                                                                      1566\n",
              "SEPSIS                                                                                                                         1184\n",
              "CONGESTIVE HEART FAILURE                                                                                                        928\n",
              "CORONARY ARTERY DISEASE                                                                                                         840\n",
              "                                                                                                                               ... \n",
              "SEVERE ANEMIA                                                                                                                     1\n",
              "HYPOTENSION;WEAKNESS\\HYPOTENSION;WEAKNESS                                                                                         1\n",
              "R/O SEPTIC SHOCK                                                                                                                  1\n",
              "FEBRILE SYNDROME                                                                                                                  1\n",
              "MITRAL VALVE REGURGITATION\\ MITRAL VALVE REPLACEMENT REDO; ?AORTIC VALVE REPLACEMENT; TRICUSPID VALVE REPAIR OR REPLACEMENT       1\n",
              "Name: DIAGNOSIS, Length: 15691, dtype: int64"
            ]
          },
          "metadata": {},
          "execution_count": 67
        }
      ]
    },
    {
      "cell_type": "markdown",
      "metadata": {
        "id": "EYsJKjYZVdPq"
      },
      "source": [
        "* New born, pneumonia, sepsis, congestive heart failure, and coronary artery disease.\n",
        "\n",
        "*Note:* The output is truncated if it's too long. If you want to see more from the list, you can use slicing to do so. See the notebook \"Introduction to Python\" for details."
      ]
    },
    {
      "cell_type": "code",
      "metadata": {
        "colab": {
          "base_uri": "https://localhost:8080/"
        },
        "id": "kmY4Dq8pVYS9",
        "outputId": "9f22bb88-a514-4b98-e41e-5981e8eba1b2"
      },
      "source": [
        "df_adm['DIAGNOSIS'].value_counts()[:10]"
      ],
      "execution_count": null,
      "outputs": [
        {
          "output_type": "execute_result",
          "data": {
            "text/plain": [
              "NEWBORN                                                      7823\n",
              "PNEUMONIA                                                    1566\n",
              "SEPSIS                                                       1184\n",
              "CONGESTIVE HEART FAILURE                                      928\n",
              "CORONARY ARTERY DISEASE                                       840\n",
              "CHEST PAIN                                                    778\n",
              "INTRACRANIAL HEMORRHAGE                                       713\n",
              "ALTERED MENTAL STATUS                                         712\n",
              "GASTROINTESTINAL BLEED                                        686\n",
              "CORONARY ARTERY DISEASE\\CORONARY ARTERY BYPASS GRAFT /SDA     583\n",
              "Name: DIAGNOSIS, dtype: int64"
            ]
          },
          "metadata": {},
          "execution_count": 68
        }
      ]
    },
    {
      "cell_type": "markdown",
      "metadata": {
        "id": "12YScho1WKJQ"
      },
      "source": [
        "---\n",
        "\n",
        "## Exercise 8\n",
        "\n",
        "Using the admissions table in MIMIC-III (`df`), what are the unique values and respective occurrences in the column `HOSPITAL_EXPIRE_FLAG`?\n",
        "\n",
        "What is the rate of in-hospital death across all hospitalisations? (*Hint:* Check out the meaning of the variable from [MIMIC's documentation](https://mimic.mit.edu/docs/iii/tables/).)"
      ]
    },
    {
      "cell_type": "code",
      "source": [
        "## YOUR CODE HERE ##"
      ],
      "metadata": {
        "id": "hLaRk_91mnqR"
      },
      "execution_count": null,
      "outputs": []
    },
    {
      "cell_type": "markdown",
      "metadata": {
        "id": "gWZL0TaEX1Vm"
      },
      "source": [
        "### Suggested Solution"
      ]
    },
    {
      "cell_type": "code",
      "metadata": {
        "colab": {
          "base_uri": "https://localhost:8080/"
        },
        "id": "KESCq_vjXZsZ",
        "outputId": "c999d985-bed7-436c-81e8-b3f759fd1ea3"
      },
      "source": [
        "df['HOSPITAL_EXPIRE_FLAG'].unique()"
      ],
      "execution_count": null,
      "outputs": [
        {
          "output_type": "execute_result",
          "data": {
            "text/plain": [
              "<IntegerArray>\n",
              "[0, 1]\n",
              "Length: 2, dtype: Int64"
            ]
          },
          "metadata": {},
          "execution_count": 69
        }
      ]
    },
    {
      "cell_type": "code",
      "metadata": {
        "colab": {
          "base_uri": "https://localhost:8080/"
        },
        "id": "tvK5rd0cXejW",
        "outputId": "b63c7de8-3d0a-4d78-e30e-21ff01fcaeb6"
      },
      "source": [
        "df['HOSPITAL_EXPIRE_FLAG'].value_counts()"
      ],
      "execution_count": null,
      "outputs": [
        {
          "output_type": "execute_result",
          "data": {
            "text/plain": [
              "0    53122\n",
              "1     5854\n",
              "Name: HOSPITAL_EXPIRE_FLAG, dtype: Int64"
            ]
          },
          "metadata": {},
          "execution_count": 70
        }
      ]
    },
    {
      "cell_type": "markdown",
      "metadata": {
        "id": "nJ9RoctAXu3B"
      },
      "source": [
        "The in-hospital death rate is"
      ]
    },
    {
      "cell_type": "code",
      "metadata": {
        "colab": {
          "base_uri": "https://localhost:8080/"
        },
        "id": "o7JNCLcpXhSK",
        "outputId": "e8410d17-bf71-40ce-b1da-d4dfb59ba18f"
      },
      "source": [
        "df['HOSPITAL_EXPIRE_FLAG'].mean()\n",
        "\n",
        "# or alternatively,\n",
        "# 5854 / (53122 + 5854)"
      ],
      "execution_count": null,
      "outputs": [
        {
          "output_type": "execute_result",
          "data": {
            "text/plain": [
              "0.09926071622354857"
            ]
          },
          "metadata": {},
          "execution_count": 71
        }
      ]
    },
    {
      "cell_type": "markdown",
      "source": [
        "---\n",
        "\n",
        "## Exercise 9\n",
        "\n",
        "Using the admissions table in MIMIC-III (`df_adm`),\n",
        "\n",
        "1. what are the unique values and respective occurrences in the column `MARITAL_STATUS`?\n",
        "\n",
        "2. filter the dataset such that the column `MARITAL_STATUS` does not contain missing values, nor `'UNKNOWN (DEFAULT)'`."
      ],
      "metadata": {
        "id": "RkpJMFaPzkVk"
      }
    },
    {
      "cell_type": "code",
      "source": [
        "## YOUR CODE HERE ##"
      ],
      "metadata": {
        "id": "x_0sZM8gmocl"
      },
      "execution_count": null,
      "outputs": []
    },
    {
      "cell_type": "markdown",
      "source": [
        "### Suggested Solution"
      ],
      "metadata": {
        "id": "c8ZfEneG1y_Q"
      }
    },
    {
      "cell_type": "markdown",
      "source": [
        "9.1"
      ],
      "metadata": {
        "id": "9W_Fe4fw0_dG"
      }
    },
    {
      "cell_type": "code",
      "source": [
        "df_adm['MARITAL_STATUS'].value_counts()"
      ],
      "metadata": {
        "colab": {
          "base_uri": "https://localhost:8080/"
        },
        "id": "VLH6KrYm0RKI",
        "outputId": "f81f3d03-58c7-4ee6-8929-2326dba4adb0"
      },
      "execution_count": null,
      "outputs": [
        {
          "output_type": "execute_result",
          "data": {
            "text/plain": [
              "MARRIED              24239\n",
              "SINGLE               13254\n",
              "WIDOWED               7211\n",
              "DIVORCED              3213\n",
              "SEPARATED              571\n",
              "UNKNOWN (DEFAULT)      345\n",
              "LIFE PARTNER            15\n",
              "Name: MARITAL_STATUS, dtype: int64"
            ]
          },
          "metadata": {},
          "execution_count": 72
        }
      ]
    },
    {
      "cell_type": "code",
      "source": [
        "# note that `value_counts` ignores missing values by default. To include them to the count explicitly, we have to specify `dropna=False`.\n",
        "df_adm['MARITAL_STATUS'].value_counts(dropna=False)"
      ],
      "metadata": {
        "colab": {
          "base_uri": "https://localhost:8080/"
        },
        "id": "6EFqNugK0qrP",
        "outputId": "90e48eac-3d60-48ad-ce60-0788165a62a5"
      },
      "execution_count": null,
      "outputs": [
        {
          "output_type": "execute_result",
          "data": {
            "text/plain": [
              "MARRIED              24239\n",
              "SINGLE               13254\n",
              "NaN                  10128\n",
              "WIDOWED               7211\n",
              "DIVORCED              3213\n",
              "SEPARATED              571\n",
              "UNKNOWN (DEFAULT)      345\n",
              "LIFE PARTNER            15\n",
              "Name: MARITAL_STATUS, dtype: int64"
            ]
          },
          "metadata": {},
          "execution_count": 73
        }
      ]
    },
    {
      "cell_type": "markdown",
      "source": [
        "9.2"
      ],
      "metadata": {
        "id": "VAtHxa2i1CM4"
      }
    },
    {
      "cell_type": "code",
      "source": [
        "df_adm_filtered = df_adm[(df_adm['MARITAL_STATUS'].notna()) & (df_adm['MARITAL_STATUS'] != 'UNKNOWN (DEFAULT)')]\n",
        "\n",
        "df_adm_filtered"
      ],
      "metadata": {
        "colab": {
          "base_uri": "https://localhost:8080/"
        },
        "id": "FlKGbPQnzowW",
        "outputId": "edfd5f3e-e06b-4934-ef74-aa98eb3d200e"
      },
      "execution_count": null,
      "outputs": [
        {
          "output_type": "execute_result",
          "data": {
            "text/plain": [
              "       ROW_ID  SUBJECT_ID  HADM_ID           ADMITTIME           DISCHTIME  \\\n",
              "10128   12520       10235   103676 2179-08-11 23:54:00 2179-08-24 15:26:00   \n",
              "10129   15030       12232   182524 2100-09-21 19:00:00 2100-09-28 11:44:00   \n",
              "10130    1028         828   180903 2200-10-28 01:07:00 2200-10-28 13:29:00   \n",
              "10131    2595        2141   193356 2171-08-11 17:36:00 2171-08-15 10:01:00   \n",
              "10132    2815        2327   125663 2127-09-15 23:08:00 2127-09-20 13:02:00   \n",
              "...       ...         ...      ...                 ...                 ...   \n",
              "58626   39138       32269   110753 2182-12-04 11:57:00 2182-12-10 13:57:00   \n",
              "58627   48352       66603   166019 2178-04-15 19:14:00 2178-04-30 14:30:00   \n",
              "58628   46623       61149   115021 2126-10-15 03:54:00 2126-10-25 14:48:00   \n",
              "58629   58564       98717   174054 2188-02-07 18:05:00 2188-02-14 12:15:00   \n",
              "58630   47805       64967   160894 2155-08-02 13:16:00 2155-08-09 13:20:00   \n",
              "\n",
              "      DEATHTIME ADMISSION_TYPE         ADMISSION_LOCATION  \\\n",
              "10128       NaT      EMERGENCY       EMERGENCY ROOM ADMIT   \n",
              "10129       NaT      EMERGENCY       EMERGENCY ROOM ADMIT   \n",
              "10130       NaT      EMERGENCY       EMERGENCY ROOM ADMIT   \n",
              "10131       NaT      EMERGENCY       EMERGENCY ROOM ADMIT   \n",
              "10132       NaT      EMERGENCY       EMERGENCY ROOM ADMIT   \n",
              "...         ...            ...                        ...   \n",
              "58626       NaT      EMERGENCY  PHYS REFERRAL/NORMAL DELI   \n",
              "58627       NaT      EMERGENCY  TRANSFER FROM HOSP/EXTRAM   \n",
              "58628       NaT       ELECTIVE  PHYS REFERRAL/NORMAL DELI   \n",
              "58629       NaT      EMERGENCY  CLINIC REFERRAL/PREMATURE   \n",
              "58630       NaT      EMERGENCY  CLINIC REFERRAL/PREMATURE   \n",
              "\n",
              "             DISCHARGE_LOCATION INSURANCE LANGUAGE           RELIGION  \\\n",
              "10128                       SNF  Medicare     None               None   \n",
              "10129                       SNF  Medicare     None               None   \n",
              "10130                      HOME  Self Pay     None               None   \n",
              "10131                      HOME   Private     None               None   \n",
              "10132                      HOME   Private     None               None   \n",
              "...                         ...       ...      ...                ...   \n",
              "58626                      HOME  Medicare     ENGL      NOT SPECIFIED   \n",
              "58627                      HOME  Medicaid     ENGL      NOT SPECIFIED   \n",
              "58628          HOME HEALTH CARE  Medicare     ENGL      NOT SPECIFIED   \n",
              "58629  REHAB/DISTINCT PART HOSP   Private     ENGL      NOT SPECIFIED   \n",
              "58630          HOME HEALTH CARE  Medicare     ENGL  PROTESTANT QUAKER   \n",
              "\n",
              "      MARITAL_STATUS                   ETHNICITY           EDREGTIME  \\\n",
              "10128         SINGLE                       WHITE 2179-08-11 20:29:00   \n",
              "10129         SINGLE       UNKNOWN/NOT SPECIFIED 2100-09-21 12:44:00   \n",
              "10130         SINGLE                       WHITE 2200-10-27 22:15:00   \n",
              "10131         SINGLE                       WHITE 2171-08-11 14:31:00   \n",
              "10132         SINGLE                       WHITE 2127-09-15 17:44:00   \n",
              "...              ...                         ...                 ...   \n",
              "58626   LIFE PARTNER                       WHITE                 NaT   \n",
              "58627   LIFE PARTNER                       WHITE                 NaT   \n",
              "58628   LIFE PARTNER                       WHITE                 NaT   \n",
              "58629   LIFE PARTNER  PATIENT DECLINED TO ANSWER 2188-02-07 14:16:00   \n",
              "58630   LIFE PARTNER                       WHITE 2155-08-02 12:11:00   \n",
              "\n",
              "                EDOUTTIME                                          DIAGNOSIS  \\\n",
              "10128 2179-08-12 00:29:00                      C2 FRACTURE,ODONTOID FRACTURE   \n",
              "10129 2100-09-21 19:01:00                               PNEUMONIA;CHEST PAIN   \n",
              "10130 2200-10-28 00:30:00                                      DRUG OVERDOSE   \n",
              "10131 2171-08-11 17:07:00                                            S/P MVA   \n",
              "10132 2127-09-16 00:35:00  STATUS POST MOTOR VEHICLE ACCIDENT WITH INJURI...   \n",
              "...                   ...                                                ...   \n",
              "58626                 NaT                               PERICARDIAL EFFUSION   \n",
              "58627                 NaT             SEPSIS;HYPOTENSION;ACUTE RENAL FAILURE   \n",
              "58628                 NaT  AORTIC STENOSIS\\AORTIC VALVE REPLACEMENT REDO ...   \n",
              "58629 2188-02-07 19:00:00                                           S/P FALL   \n",
              "58630 2155-08-02 14:55:00                            ACUTE CORONARY SYNDROME   \n",
              "\n",
              "       HOSPITAL_EXPIRE_FLAG  HAS_CHARTEVENTS_DATA  \n",
              "10128                     0                     1  \n",
              "10129                     0                     1  \n",
              "10130                     0                     1  \n",
              "10131                     0                     1  \n",
              "10132                     0                     1  \n",
              "...                     ...                   ...  \n",
              "58626                     0                     1  \n",
              "58627                     0                     1  \n",
              "58628                     0                     1  \n",
              "58629                     0                     1  \n",
              "58630                     0                     1  \n",
              "\n",
              "[48503 rows x 19 columns]"
            ],
            "text/html": [
              "\n",
              "  <div id=\"df-7b7dfd0a-782d-47e8-9998-fdc531e91a92\">\n",
              "    <div class=\"colab-df-container\">\n",
              "      <div>\n",
              "<style scoped>\n",
              "    .dataframe tbody tr th:only-of-type {\n",
              "        vertical-align: middle;\n",
              "    }\n",
              "\n",
              "    .dataframe tbody tr th {\n",
              "        vertical-align: top;\n",
              "    }\n",
              "\n",
              "    .dataframe thead th {\n",
              "        text-align: right;\n",
              "    }\n",
              "</style>\n",
              "<table border=\"1\" class=\"dataframe\">\n",
              "  <thead>\n",
              "    <tr style=\"text-align: right;\">\n",
              "      <th></th>\n",
              "      <th>ROW_ID</th>\n",
              "      <th>SUBJECT_ID</th>\n",
              "      <th>HADM_ID</th>\n",
              "      <th>ADMITTIME</th>\n",
              "      <th>DISCHTIME</th>\n",
              "      <th>DEATHTIME</th>\n",
              "      <th>ADMISSION_TYPE</th>\n",
              "      <th>ADMISSION_LOCATION</th>\n",
              "      <th>DISCHARGE_LOCATION</th>\n",
              "      <th>INSURANCE</th>\n",
              "      <th>LANGUAGE</th>\n",
              "      <th>RELIGION</th>\n",
              "      <th>MARITAL_STATUS</th>\n",
              "      <th>ETHNICITY</th>\n",
              "      <th>EDREGTIME</th>\n",
              "      <th>EDOUTTIME</th>\n",
              "      <th>DIAGNOSIS</th>\n",
              "      <th>HOSPITAL_EXPIRE_FLAG</th>\n",
              "      <th>HAS_CHARTEVENTS_DATA</th>\n",
              "    </tr>\n",
              "  </thead>\n",
              "  <tbody>\n",
              "    <tr>\n",
              "      <th>10128</th>\n",
              "      <td>12520</td>\n",
              "      <td>10235</td>\n",
              "      <td>103676</td>\n",
              "      <td>2179-08-11 23:54:00</td>\n",
              "      <td>2179-08-24 15:26:00</td>\n",
              "      <td>NaT</td>\n",
              "      <td>EMERGENCY</td>\n",
              "      <td>EMERGENCY ROOM ADMIT</td>\n",
              "      <td>SNF</td>\n",
              "      <td>Medicare</td>\n",
              "      <td>None</td>\n",
              "      <td>None</td>\n",
              "      <td>SINGLE</td>\n",
              "      <td>WHITE</td>\n",
              "      <td>2179-08-11 20:29:00</td>\n",
              "      <td>2179-08-12 00:29:00</td>\n",
              "      <td>C2 FRACTURE,ODONTOID FRACTURE</td>\n",
              "      <td>0</td>\n",
              "      <td>1</td>\n",
              "    </tr>\n",
              "    <tr>\n",
              "      <th>10129</th>\n",
              "      <td>15030</td>\n",
              "      <td>12232</td>\n",
              "      <td>182524</td>\n",
              "      <td>2100-09-21 19:00:00</td>\n",
              "      <td>2100-09-28 11:44:00</td>\n",
              "      <td>NaT</td>\n",
              "      <td>EMERGENCY</td>\n",
              "      <td>EMERGENCY ROOM ADMIT</td>\n",
              "      <td>SNF</td>\n",
              "      <td>Medicare</td>\n",
              "      <td>None</td>\n",
              "      <td>None</td>\n",
              "      <td>SINGLE</td>\n",
              "      <td>UNKNOWN/NOT SPECIFIED</td>\n",
              "      <td>2100-09-21 12:44:00</td>\n",
              "      <td>2100-09-21 19:01:00</td>\n",
              "      <td>PNEUMONIA;CHEST PAIN</td>\n",
              "      <td>0</td>\n",
              "      <td>1</td>\n",
              "    </tr>\n",
              "    <tr>\n",
              "      <th>10130</th>\n",
              "      <td>1028</td>\n",
              "      <td>828</td>\n",
              "      <td>180903</td>\n",
              "      <td>2200-10-28 01:07:00</td>\n",
              "      <td>2200-10-28 13:29:00</td>\n",
              "      <td>NaT</td>\n",
              "      <td>EMERGENCY</td>\n",
              "      <td>EMERGENCY ROOM ADMIT</td>\n",
              "      <td>HOME</td>\n",
              "      <td>Self Pay</td>\n",
              "      <td>None</td>\n",
              "      <td>None</td>\n",
              "      <td>SINGLE</td>\n",
              "      <td>WHITE</td>\n",
              "      <td>2200-10-27 22:15:00</td>\n",
              "      <td>2200-10-28 00:30:00</td>\n",
              "      <td>DRUG OVERDOSE</td>\n",
              "      <td>0</td>\n",
              "      <td>1</td>\n",
              "    </tr>\n",
              "    <tr>\n",
              "      <th>10131</th>\n",
              "      <td>2595</td>\n",
              "      <td>2141</td>\n",
              "      <td>193356</td>\n",
              "      <td>2171-08-11 17:36:00</td>\n",
              "      <td>2171-08-15 10:01:00</td>\n",
              "      <td>NaT</td>\n",
              "      <td>EMERGENCY</td>\n",
              "      <td>EMERGENCY ROOM ADMIT</td>\n",
              "      <td>HOME</td>\n",
              "      <td>Private</td>\n",
              "      <td>None</td>\n",
              "      <td>None</td>\n",
              "      <td>SINGLE</td>\n",
              "      <td>WHITE</td>\n",
              "      <td>2171-08-11 14:31:00</td>\n",
              "      <td>2171-08-11 17:07:00</td>\n",
              "      <td>S/P MVA</td>\n",
              "      <td>0</td>\n",
              "      <td>1</td>\n",
              "    </tr>\n",
              "    <tr>\n",
              "      <th>10132</th>\n",
              "      <td>2815</td>\n",
              "      <td>2327</td>\n",
              "      <td>125663</td>\n",
              "      <td>2127-09-15 23:08:00</td>\n",
              "      <td>2127-09-20 13:02:00</td>\n",
              "      <td>NaT</td>\n",
              "      <td>EMERGENCY</td>\n",
              "      <td>EMERGENCY ROOM ADMIT</td>\n",
              "      <td>HOME</td>\n",
              "      <td>Private</td>\n",
              "      <td>None</td>\n",
              "      <td>None</td>\n",
              "      <td>SINGLE</td>\n",
              "      <td>WHITE</td>\n",
              "      <td>2127-09-15 17:44:00</td>\n",
              "      <td>2127-09-16 00:35:00</td>\n",
              "      <td>STATUS POST MOTOR VEHICLE ACCIDENT WITH INJURI...</td>\n",
              "      <td>0</td>\n",
              "      <td>1</td>\n",
              "    </tr>\n",
              "    <tr>\n",
              "      <th>...</th>\n",
              "      <td>...</td>\n",
              "      <td>...</td>\n",
              "      <td>...</td>\n",
              "      <td>...</td>\n",
              "      <td>...</td>\n",
              "      <td>...</td>\n",
              "      <td>...</td>\n",
              "      <td>...</td>\n",
              "      <td>...</td>\n",
              "      <td>...</td>\n",
              "      <td>...</td>\n",
              "      <td>...</td>\n",
              "      <td>...</td>\n",
              "      <td>...</td>\n",
              "      <td>...</td>\n",
              "      <td>...</td>\n",
              "      <td>...</td>\n",
              "      <td>...</td>\n",
              "      <td>...</td>\n",
              "    </tr>\n",
              "    <tr>\n",
              "      <th>58626</th>\n",
              "      <td>39138</td>\n",
              "      <td>32269</td>\n",
              "      <td>110753</td>\n",
              "      <td>2182-12-04 11:57:00</td>\n",
              "      <td>2182-12-10 13:57:00</td>\n",
              "      <td>NaT</td>\n",
              "      <td>EMERGENCY</td>\n",
              "      <td>PHYS REFERRAL/NORMAL DELI</td>\n",
              "      <td>HOME</td>\n",
              "      <td>Medicare</td>\n",
              "      <td>ENGL</td>\n",
              "      <td>NOT SPECIFIED</td>\n",
              "      <td>LIFE PARTNER</td>\n",
              "      <td>WHITE</td>\n",
              "      <td>NaT</td>\n",
              "      <td>NaT</td>\n",
              "      <td>PERICARDIAL EFFUSION</td>\n",
              "      <td>0</td>\n",
              "      <td>1</td>\n",
              "    </tr>\n",
              "    <tr>\n",
              "      <th>58627</th>\n",
              "      <td>48352</td>\n",
              "      <td>66603</td>\n",
              "      <td>166019</td>\n",
              "      <td>2178-04-15 19:14:00</td>\n",
              "      <td>2178-04-30 14:30:00</td>\n",
              "      <td>NaT</td>\n",
              "      <td>EMERGENCY</td>\n",
              "      <td>TRANSFER FROM HOSP/EXTRAM</td>\n",
              "      <td>HOME</td>\n",
              "      <td>Medicaid</td>\n",
              "      <td>ENGL</td>\n",
              "      <td>NOT SPECIFIED</td>\n",
              "      <td>LIFE PARTNER</td>\n",
              "      <td>WHITE</td>\n",
              "      <td>NaT</td>\n",
              "      <td>NaT</td>\n",
              "      <td>SEPSIS;HYPOTENSION;ACUTE RENAL FAILURE</td>\n",
              "      <td>0</td>\n",
              "      <td>1</td>\n",
              "    </tr>\n",
              "    <tr>\n",
              "      <th>58628</th>\n",
              "      <td>46623</td>\n",
              "      <td>61149</td>\n",
              "      <td>115021</td>\n",
              "      <td>2126-10-15 03:54:00</td>\n",
              "      <td>2126-10-25 14:48:00</td>\n",
              "      <td>NaT</td>\n",
              "      <td>ELECTIVE</td>\n",
              "      <td>PHYS REFERRAL/NORMAL DELI</td>\n",
              "      <td>HOME HEALTH CARE</td>\n",
              "      <td>Medicare</td>\n",
              "      <td>ENGL</td>\n",
              "      <td>NOT SPECIFIED</td>\n",
              "      <td>LIFE PARTNER</td>\n",
              "      <td>WHITE</td>\n",
              "      <td>NaT</td>\n",
              "      <td>NaT</td>\n",
              "      <td>AORTIC STENOSIS\\AORTIC VALVE REPLACEMENT REDO ...</td>\n",
              "      <td>0</td>\n",
              "      <td>1</td>\n",
              "    </tr>\n",
              "    <tr>\n",
              "      <th>58629</th>\n",
              "      <td>58564</td>\n",
              "      <td>98717</td>\n",
              "      <td>174054</td>\n",
              "      <td>2188-02-07 18:05:00</td>\n",
              "      <td>2188-02-14 12:15:00</td>\n",
              "      <td>NaT</td>\n",
              "      <td>EMERGENCY</td>\n",
              "      <td>CLINIC REFERRAL/PREMATURE</td>\n",
              "      <td>REHAB/DISTINCT PART HOSP</td>\n",
              "      <td>Private</td>\n",
              "      <td>ENGL</td>\n",
              "      <td>NOT SPECIFIED</td>\n",
              "      <td>LIFE PARTNER</td>\n",
              "      <td>PATIENT DECLINED TO ANSWER</td>\n",
              "      <td>2188-02-07 14:16:00</td>\n",
              "      <td>2188-02-07 19:00:00</td>\n",
              "      <td>S/P FALL</td>\n",
              "      <td>0</td>\n",
              "      <td>1</td>\n",
              "    </tr>\n",
              "    <tr>\n",
              "      <th>58630</th>\n",
              "      <td>47805</td>\n",
              "      <td>64967</td>\n",
              "      <td>160894</td>\n",
              "      <td>2155-08-02 13:16:00</td>\n",
              "      <td>2155-08-09 13:20:00</td>\n",
              "      <td>NaT</td>\n",
              "      <td>EMERGENCY</td>\n",
              "      <td>CLINIC REFERRAL/PREMATURE</td>\n",
              "      <td>HOME HEALTH CARE</td>\n",
              "      <td>Medicare</td>\n",
              "      <td>ENGL</td>\n",
              "      <td>PROTESTANT QUAKER</td>\n",
              "      <td>LIFE PARTNER</td>\n",
              "      <td>WHITE</td>\n",
              "      <td>2155-08-02 12:11:00</td>\n",
              "      <td>2155-08-02 14:55:00</td>\n",
              "      <td>ACUTE CORONARY SYNDROME</td>\n",
              "      <td>0</td>\n",
              "      <td>1</td>\n",
              "    </tr>\n",
              "  </tbody>\n",
              "</table>\n",
              "<p>48503 rows × 19 columns</p>\n",
              "</div>\n",
              "      <button class=\"colab-df-convert\" onclick=\"convertToInteractive('df-7b7dfd0a-782d-47e8-9998-fdc531e91a92')\"\n",
              "              title=\"Convert this dataframe to an interactive table.\"\n",
              "              style=\"display:none;\">\n",
              "        \n",
              "  <svg xmlns=\"http://www.w3.org/2000/svg\" height=\"24px\"viewBox=\"0 0 24 24\"\n",
              "       width=\"24px\">\n",
              "    <path d=\"M0 0h24v24H0V0z\" fill=\"none\"/>\n",
              "    <path d=\"M18.56 5.44l.94 2.06.94-2.06 2.06-.94-2.06-.94-.94-2.06-.94 2.06-2.06.94zm-11 1L8.5 8.5l.94-2.06 2.06-.94-2.06-.94L8.5 2.5l-.94 2.06-2.06.94zm10 10l.94 2.06.94-2.06 2.06-.94-2.06-.94-.94-2.06-.94 2.06-2.06.94z\"/><path d=\"M17.41 7.96l-1.37-1.37c-.4-.4-.92-.59-1.43-.59-.52 0-1.04.2-1.43.59L10.3 9.45l-7.72 7.72c-.78.78-.78 2.05 0 2.83L4 21.41c.39.39.9.59 1.41.59.51 0 1.02-.2 1.41-.59l7.78-7.78 2.81-2.81c.8-.78.8-2.07 0-2.86zM5.41 20L4 18.59l7.72-7.72 1.47 1.35L5.41 20z\"/>\n",
              "  </svg>\n",
              "      </button>\n",
              "      \n",
              "  <style>\n",
              "    .colab-df-container {\n",
              "      display:flex;\n",
              "      flex-wrap:wrap;\n",
              "      gap: 12px;\n",
              "    }\n",
              "\n",
              "    .colab-df-convert {\n",
              "      background-color: #E8F0FE;\n",
              "      border: none;\n",
              "      border-radius: 50%;\n",
              "      cursor: pointer;\n",
              "      display: none;\n",
              "      fill: #1967D2;\n",
              "      height: 32px;\n",
              "      padding: 0 0 0 0;\n",
              "      width: 32px;\n",
              "    }\n",
              "\n",
              "    .colab-df-convert:hover {\n",
              "      background-color: #E2EBFA;\n",
              "      box-shadow: 0px 1px 2px rgba(60, 64, 67, 0.3), 0px 1px 3px 1px rgba(60, 64, 67, 0.15);\n",
              "      fill: #174EA6;\n",
              "    }\n",
              "\n",
              "    [theme=dark] .colab-df-convert {\n",
              "      background-color: #3B4455;\n",
              "      fill: #D2E3FC;\n",
              "    }\n",
              "\n",
              "    [theme=dark] .colab-df-convert:hover {\n",
              "      background-color: #434B5C;\n",
              "      box-shadow: 0px 1px 3px 1px rgba(0, 0, 0, 0.15);\n",
              "      filter: drop-shadow(0px 1px 2px rgba(0, 0, 0, 0.3));\n",
              "      fill: #FFFFFF;\n",
              "    }\n",
              "  </style>\n",
              "\n",
              "      <script>\n",
              "        const buttonEl =\n",
              "          document.querySelector('#df-7b7dfd0a-782d-47e8-9998-fdc531e91a92 button.colab-df-convert');\n",
              "        buttonEl.style.display =\n",
              "          google.colab.kernel.accessAllowed ? 'block' : 'none';\n",
              "\n",
              "        async function convertToInteractive(key) {\n",
              "          const element = document.querySelector('#df-7b7dfd0a-782d-47e8-9998-fdc531e91a92');\n",
              "          const dataTable =\n",
              "            await google.colab.kernel.invokeFunction('convertToInteractive',\n",
              "                                                     [key], {});\n",
              "          if (!dataTable) return;\n",
              "\n",
              "          const docLinkHtml = 'Like what you see? Visit the ' +\n",
              "            '<a target=\"_blank\" href=https://colab.research.google.com/notebooks/data_table.ipynb>data table notebook</a>'\n",
              "            + ' to learn more about interactive tables.';\n",
              "          element.innerHTML = '';\n",
              "          dataTable['output_type'] = 'display_data';\n",
              "          await google.colab.output.renderOutput(dataTable, element);\n",
              "          const docLink = document.createElement('div');\n",
              "          docLink.innerHTML = docLinkHtml;\n",
              "          element.appendChild(docLink);\n",
              "        }\n",
              "      </script>\n",
              "    </div>\n",
              "  </div>\n",
              "  "
            ]
          },
          "metadata": {},
          "execution_count": 74
        }
      ]
    },
    {
      "cell_type": "code",
      "source": [
        "df_filtered['MARITAL_STATUS'].value_counts()"
      ],
      "metadata": {
        "colab": {
          "base_uri": "https://localhost:8080/"
        },
        "id": "JUU3q2UjzwB2",
        "outputId": "afb38764-dd1e-4efc-fa5e-ec7db7294eb3"
      },
      "execution_count": null,
      "outputs": [
        {
          "output_type": "execute_result",
          "data": {
            "text/plain": [
              "MARRIED         24239\n",
              "SINGLE          13254\n",
              "WIDOWED          7211\n",
              "DIVORCED         3213\n",
              "SEPARATED         571\n",
              "LIFE PARTNER       15\n",
              "Name: MARITAL_STATUS, dtype: int64"
            ]
          },
          "metadata": {},
          "execution_count": 75
        }
      ]
    },
    {
      "cell_type": "markdown",
      "metadata": {
        "id": "v-nxFU9cXyc3"
      },
      "source": [
        "---\n",
        "\n",
        "## Exercise 10\n",
        "\n",
        "Run the following code to retrieve the COVID dataset.\n",
        "\n",
        "1. Based on `df_covid_filtered`, which country has the most new deaths per million (`new_deaths_per_million`) on Jan 1, 2021?\n",
        "\n",
        "2. Plot a histogram of new deaths per million across all countries.\n",
        "\n",
        "3. Calculate the summary statistics of new cases per million across all countries."
      ]
    },
    {
      "cell_type": "code",
      "source": [
        "df_covid = pd.read_csv('https://covid.ourworldindata.org/data/owid-covid-data.csv')\n",
        "df_covid_filtered = df_covid[df_covid['date'] == '2022-01-01'] # filter by date\n",
        "df_covid_filtered = df_covid_filtered[~df_covid_filtered['iso_code'].str.startswith('OWID_')] # removes non-country locations such as \"Worldwide\", \"Asia\" and \"Low income\"\n",
        "\n",
        "df_covid_filtered"
      ],
      "metadata": {
        "colab": {
          "base_uri": "https://localhost:8080/",
          "height": 696
        },
        "id": "z4YMzaR1w2xU",
        "outputId": "720028ea-bae0-46c7-f49b-81f0b706fe63"
      },
      "execution_count": null,
      "outputs": [
        {
          "output_type": "stream",
          "name": "stderr",
          "text": [
            "/usr/local/lib/python3.8/dist-packages/IPython/core/interactiveshell.py:3326: DtypeWarning: Columns (33) have mixed types.Specify dtype option on import or set low_memory=False.\n",
            "  exec(code_obj, self.user_global_ns, self.user_ns)\n"
          ]
        },
        {
          "output_type": "execute_result",
          "data": {
            "text/plain": [
              "       iso_code continent           location        date  total_cases  \\\n",
              "677         AFG      Asia        Afghanistan  2022-01-01     158107.0   \n",
              "2833        ALB    Europe            Albania  2022-01-01     210224.0   \n",
              "3905        DZA    Africa            Algeria  2022-01-01     218818.0   \n",
              "4971        AND    Europe            Andorra  2022-01-01      23740.0   \n",
              "6019        AGO    Africa             Angola  2022-01-01      82398.0   \n",
              "...         ...       ...                ...         ...          ...   \n",
              "247674      VNM      Asia            Vietnam  2022-01-01    1746092.0   \n",
              "249547      WLF   Oceania  Wallis and Futuna  2022-01-01        454.0   \n",
              "251681      YEM      Asia              Yemen  2022-01-01      10127.0   \n",
              "252731      ZMB    Africa             Zambia  2022-01-01     257948.0   \n",
              "253779      ZWE    Africa           Zimbabwe  2022-01-01     214214.0   \n",
              "\n",
              "        new_cases  new_cases_smoothed  total_deaths  new_deaths  \\\n",
              "677          23.0              30.286        7356.0         0.0   \n",
              "2833          0.0             383.143        3217.0         0.0   \n",
              "3905        386.0             348.857        6284.0         8.0   \n",
              "4971          0.0             287.143         140.0         0.0   \n",
              "6019        805.0            1608.000        1772.0         2.0   \n",
              "...           ...                 ...           ...         ...   \n",
              "247674    14835.0           15662.429       32610.0       216.0   \n",
              "249547        0.0               0.000           7.0         0.0   \n",
              "251681        1.0               2.286        1984.0         0.0   \n",
              "252731     3674.0            3766.714        3740.0         6.0   \n",
              "253779      956.0            1495.429        5017.0        13.0   \n",
              "\n",
              "        new_deaths_smoothed  ...  male_smokers  handwashing_facilities  \\\n",
              "677                   1.000  ...           NaN                  37.746   \n",
              "2833                  4.000  ...          51.2                     NaN   \n",
              "3905                  7.857  ...          30.4                  83.741   \n",
              "4971                  0.143  ...          37.8                     NaN   \n",
              "6019                  3.714  ...           NaN                  26.664   \n",
              "...                     ...  ...           ...                     ...   \n",
              "247674              229.000  ...          45.9                  85.847   \n",
              "249547                0.000  ...           NaN                     NaN   \n",
              "251681                0.143  ...          29.2                  49.542   \n",
              "252731                6.143  ...          24.7                  13.938   \n",
              "253779               18.857  ...          30.7                  36.791   \n",
              "\n",
              "        hospital_beds_per_thousand  life_expectancy  human_development_index  \\\n",
              "677                           0.50            64.83                    0.511   \n",
              "2833                          2.89            78.57                    0.795   \n",
              "3905                          1.90            76.88                    0.748   \n",
              "4971                           NaN            83.73                    0.868   \n",
              "6019                           NaN            61.15                    0.581   \n",
              "...                            ...              ...                      ...   \n",
              "247674                        2.60            75.40                    0.704   \n",
              "249547                         NaN            79.94                      NaN   \n",
              "251681                        0.70            66.12                    0.470   \n",
              "252731                        2.00            63.89                    0.584   \n",
              "253779                        1.70            61.49                    0.571   \n",
              "\n",
              "        population  excess_mortality_cumulative_absolute  \\\n",
              "677     41128772.0                                   NaN   \n",
              "2833     2842318.0                                   NaN   \n",
              "3905    44903228.0                                   NaN   \n",
              "4971       79843.0                                   NaN   \n",
              "6019    35588996.0                                   NaN   \n",
              "...            ...                                   ...   \n",
              "247674  98186856.0                                   NaN   \n",
              "249547     11596.0                                   NaN   \n",
              "251681  33696612.0                                   NaN   \n",
              "252731  20017670.0                                   NaN   \n",
              "253779  16320539.0                                   NaN   \n",
              "\n",
              "        excess_mortality_cumulative  excess_mortality  \\\n",
              "677                             NaN               NaN   \n",
              "2833                            NaN               NaN   \n",
              "3905                            NaN               NaN   \n",
              "4971                            NaN               NaN   \n",
              "6019                            NaN               NaN   \n",
              "...                             ...               ...   \n",
              "247674                          NaN               NaN   \n",
              "249547                          NaN               NaN   \n",
              "251681                          NaN               NaN   \n",
              "252731                          NaN               NaN   \n",
              "253779                          NaN               NaN   \n",
              "\n",
              "        excess_mortality_cumulative_per_million  \n",
              "677                                         NaN  \n",
              "2833                                        NaN  \n",
              "3905                                        NaN  \n",
              "4971                                        NaN  \n",
              "6019                                        NaN  \n",
              "...                                         ...  \n",
              "247674                                      NaN  \n",
              "249547                                      NaN  \n",
              "251681                                      NaN  \n",
              "252731                                      NaN  \n",
              "253779                                      NaN  \n",
              "\n",
              "[227 rows x 67 columns]"
            ],
            "text/html": [
              "\n",
              "  <div id=\"df-851f1192-525b-4724-9a6f-f748fd5e763c\">\n",
              "    <div class=\"colab-df-container\">\n",
              "      <div>\n",
              "<style scoped>\n",
              "    .dataframe tbody tr th:only-of-type {\n",
              "        vertical-align: middle;\n",
              "    }\n",
              "\n",
              "    .dataframe tbody tr th {\n",
              "        vertical-align: top;\n",
              "    }\n",
              "\n",
              "    .dataframe thead th {\n",
              "        text-align: right;\n",
              "    }\n",
              "</style>\n",
              "<table border=\"1\" class=\"dataframe\">\n",
              "  <thead>\n",
              "    <tr style=\"text-align: right;\">\n",
              "      <th></th>\n",
              "      <th>iso_code</th>\n",
              "      <th>continent</th>\n",
              "      <th>location</th>\n",
              "      <th>date</th>\n",
              "      <th>total_cases</th>\n",
              "      <th>new_cases</th>\n",
              "      <th>new_cases_smoothed</th>\n",
              "      <th>total_deaths</th>\n",
              "      <th>new_deaths</th>\n",
              "      <th>new_deaths_smoothed</th>\n",
              "      <th>...</th>\n",
              "      <th>male_smokers</th>\n",
              "      <th>handwashing_facilities</th>\n",
              "      <th>hospital_beds_per_thousand</th>\n",
              "      <th>life_expectancy</th>\n",
              "      <th>human_development_index</th>\n",
              "      <th>population</th>\n",
              "      <th>excess_mortality_cumulative_absolute</th>\n",
              "      <th>excess_mortality_cumulative</th>\n",
              "      <th>excess_mortality</th>\n",
              "      <th>excess_mortality_cumulative_per_million</th>\n",
              "    </tr>\n",
              "  </thead>\n",
              "  <tbody>\n",
              "    <tr>\n",
              "      <th>677</th>\n",
              "      <td>AFG</td>\n",
              "      <td>Asia</td>\n",
              "      <td>Afghanistan</td>\n",
              "      <td>2022-01-01</td>\n",
              "      <td>158107.0</td>\n",
              "      <td>23.0</td>\n",
              "      <td>30.286</td>\n",
              "      <td>7356.0</td>\n",
              "      <td>0.0</td>\n",
              "      <td>1.000</td>\n",
              "      <td>...</td>\n",
              "      <td>NaN</td>\n",
              "      <td>37.746</td>\n",
              "      <td>0.50</td>\n",
              "      <td>64.83</td>\n",
              "      <td>0.511</td>\n",
              "      <td>41128772.0</td>\n",
              "      <td>NaN</td>\n",
              "      <td>NaN</td>\n",
              "      <td>NaN</td>\n",
              "      <td>NaN</td>\n",
              "    </tr>\n",
              "    <tr>\n",
              "      <th>2833</th>\n",
              "      <td>ALB</td>\n",
              "      <td>Europe</td>\n",
              "      <td>Albania</td>\n",
              "      <td>2022-01-01</td>\n",
              "      <td>210224.0</td>\n",
              "      <td>0.0</td>\n",
              "      <td>383.143</td>\n",
              "      <td>3217.0</td>\n",
              "      <td>0.0</td>\n",
              "      <td>4.000</td>\n",
              "      <td>...</td>\n",
              "      <td>51.2</td>\n",
              "      <td>NaN</td>\n",
              "      <td>2.89</td>\n",
              "      <td>78.57</td>\n",
              "      <td>0.795</td>\n",
              "      <td>2842318.0</td>\n",
              "      <td>NaN</td>\n",
              "      <td>NaN</td>\n",
              "      <td>NaN</td>\n",
              "      <td>NaN</td>\n",
              "    </tr>\n",
              "    <tr>\n",
              "      <th>3905</th>\n",
              "      <td>DZA</td>\n",
              "      <td>Africa</td>\n",
              "      <td>Algeria</td>\n",
              "      <td>2022-01-01</td>\n",
              "      <td>218818.0</td>\n",
              "      <td>386.0</td>\n",
              "      <td>348.857</td>\n",
              "      <td>6284.0</td>\n",
              "      <td>8.0</td>\n",
              "      <td>7.857</td>\n",
              "      <td>...</td>\n",
              "      <td>30.4</td>\n",
              "      <td>83.741</td>\n",
              "      <td>1.90</td>\n",
              "      <td>76.88</td>\n",
              "      <td>0.748</td>\n",
              "      <td>44903228.0</td>\n",
              "      <td>NaN</td>\n",
              "      <td>NaN</td>\n",
              "      <td>NaN</td>\n",
              "      <td>NaN</td>\n",
              "    </tr>\n",
              "    <tr>\n",
              "      <th>4971</th>\n",
              "      <td>AND</td>\n",
              "      <td>Europe</td>\n",
              "      <td>Andorra</td>\n",
              "      <td>2022-01-01</td>\n",
              "      <td>23740.0</td>\n",
              "      <td>0.0</td>\n",
              "      <td>287.143</td>\n",
              "      <td>140.0</td>\n",
              "      <td>0.0</td>\n",
              "      <td>0.143</td>\n",
              "      <td>...</td>\n",
              "      <td>37.8</td>\n",
              "      <td>NaN</td>\n",
              "      <td>NaN</td>\n",
              "      <td>83.73</td>\n",
              "      <td>0.868</td>\n",
              "      <td>79843.0</td>\n",
              "      <td>NaN</td>\n",
              "      <td>NaN</td>\n",
              "      <td>NaN</td>\n",
              "      <td>NaN</td>\n",
              "    </tr>\n",
              "    <tr>\n",
              "      <th>6019</th>\n",
              "      <td>AGO</td>\n",
              "      <td>Africa</td>\n",
              "      <td>Angola</td>\n",
              "      <td>2022-01-01</td>\n",
              "      <td>82398.0</td>\n",
              "      <td>805.0</td>\n",
              "      <td>1608.000</td>\n",
              "      <td>1772.0</td>\n",
              "      <td>2.0</td>\n",
              "      <td>3.714</td>\n",
              "      <td>...</td>\n",
              "      <td>NaN</td>\n",
              "      <td>26.664</td>\n",
              "      <td>NaN</td>\n",
              "      <td>61.15</td>\n",
              "      <td>0.581</td>\n",
              "      <td>35588996.0</td>\n",
              "      <td>NaN</td>\n",
              "      <td>NaN</td>\n",
              "      <td>NaN</td>\n",
              "      <td>NaN</td>\n",
              "    </tr>\n",
              "    <tr>\n",
              "      <th>...</th>\n",
              "      <td>...</td>\n",
              "      <td>...</td>\n",
              "      <td>...</td>\n",
              "      <td>...</td>\n",
              "      <td>...</td>\n",
              "      <td>...</td>\n",
              "      <td>...</td>\n",
              "      <td>...</td>\n",
              "      <td>...</td>\n",
              "      <td>...</td>\n",
              "      <td>...</td>\n",
              "      <td>...</td>\n",
              "      <td>...</td>\n",
              "      <td>...</td>\n",
              "      <td>...</td>\n",
              "      <td>...</td>\n",
              "      <td>...</td>\n",
              "      <td>...</td>\n",
              "      <td>...</td>\n",
              "      <td>...</td>\n",
              "      <td>...</td>\n",
              "    </tr>\n",
              "    <tr>\n",
              "      <th>247674</th>\n",
              "      <td>VNM</td>\n",
              "      <td>Asia</td>\n",
              "      <td>Vietnam</td>\n",
              "      <td>2022-01-01</td>\n",
              "      <td>1746092.0</td>\n",
              "      <td>14835.0</td>\n",
              "      <td>15662.429</td>\n",
              "      <td>32610.0</td>\n",
              "      <td>216.0</td>\n",
              "      <td>229.000</td>\n",
              "      <td>...</td>\n",
              "      <td>45.9</td>\n",
              "      <td>85.847</td>\n",
              "      <td>2.60</td>\n",
              "      <td>75.40</td>\n",
              "      <td>0.704</td>\n",
              "      <td>98186856.0</td>\n",
              "      <td>NaN</td>\n",
              "      <td>NaN</td>\n",
              "      <td>NaN</td>\n",
              "      <td>NaN</td>\n",
              "    </tr>\n",
              "    <tr>\n",
              "      <th>249547</th>\n",
              "      <td>WLF</td>\n",
              "      <td>Oceania</td>\n",
              "      <td>Wallis and Futuna</td>\n",
              "      <td>2022-01-01</td>\n",
              "      <td>454.0</td>\n",
              "      <td>0.0</td>\n",
              "      <td>0.000</td>\n",
              "      <td>7.0</td>\n",
              "      <td>0.0</td>\n",
              "      <td>0.000</td>\n",
              "      <td>...</td>\n",
              "      <td>NaN</td>\n",
              "      <td>NaN</td>\n",
              "      <td>NaN</td>\n",
              "      <td>79.94</td>\n",
              "      <td>NaN</td>\n",
              "      <td>11596.0</td>\n",
              "      <td>NaN</td>\n",
              "      <td>NaN</td>\n",
              "      <td>NaN</td>\n",
              "      <td>NaN</td>\n",
              "    </tr>\n",
              "    <tr>\n",
              "      <th>251681</th>\n",
              "      <td>YEM</td>\n",
              "      <td>Asia</td>\n",
              "      <td>Yemen</td>\n",
              "      <td>2022-01-01</td>\n",
              "      <td>10127.0</td>\n",
              "      <td>1.0</td>\n",
              "      <td>2.286</td>\n",
              "      <td>1984.0</td>\n",
              "      <td>0.0</td>\n",
              "      <td>0.143</td>\n",
              "      <td>...</td>\n",
              "      <td>29.2</td>\n",
              "      <td>49.542</td>\n",
              "      <td>0.70</td>\n",
              "      <td>66.12</td>\n",
              "      <td>0.470</td>\n",
              "      <td>33696612.0</td>\n",
              "      <td>NaN</td>\n",
              "      <td>NaN</td>\n",
              "      <td>NaN</td>\n",
              "      <td>NaN</td>\n",
              "    </tr>\n",
              "    <tr>\n",
              "      <th>252731</th>\n",
              "      <td>ZMB</td>\n",
              "      <td>Africa</td>\n",
              "      <td>Zambia</td>\n",
              "      <td>2022-01-01</td>\n",
              "      <td>257948.0</td>\n",
              "      <td>3674.0</td>\n",
              "      <td>3766.714</td>\n",
              "      <td>3740.0</td>\n",
              "      <td>6.0</td>\n",
              "      <td>6.143</td>\n",
              "      <td>...</td>\n",
              "      <td>24.7</td>\n",
              "      <td>13.938</td>\n",
              "      <td>2.00</td>\n",
              "      <td>63.89</td>\n",
              "      <td>0.584</td>\n",
              "      <td>20017670.0</td>\n",
              "      <td>NaN</td>\n",
              "      <td>NaN</td>\n",
              "      <td>NaN</td>\n",
              "      <td>NaN</td>\n",
              "    </tr>\n",
              "    <tr>\n",
              "      <th>253779</th>\n",
              "      <td>ZWE</td>\n",
              "      <td>Africa</td>\n",
              "      <td>Zimbabwe</td>\n",
              "      <td>2022-01-01</td>\n",
              "      <td>214214.0</td>\n",
              "      <td>956.0</td>\n",
              "      <td>1495.429</td>\n",
              "      <td>5017.0</td>\n",
              "      <td>13.0</td>\n",
              "      <td>18.857</td>\n",
              "      <td>...</td>\n",
              "      <td>30.7</td>\n",
              "      <td>36.791</td>\n",
              "      <td>1.70</td>\n",
              "      <td>61.49</td>\n",
              "      <td>0.571</td>\n",
              "      <td>16320539.0</td>\n",
              "      <td>NaN</td>\n",
              "      <td>NaN</td>\n",
              "      <td>NaN</td>\n",
              "      <td>NaN</td>\n",
              "    </tr>\n",
              "  </tbody>\n",
              "</table>\n",
              "<p>227 rows × 67 columns</p>\n",
              "</div>\n",
              "      <button class=\"colab-df-convert\" onclick=\"convertToInteractive('df-851f1192-525b-4724-9a6f-f748fd5e763c')\"\n",
              "              title=\"Convert this dataframe to an interactive table.\"\n",
              "              style=\"display:none;\">\n",
              "        \n",
              "  <svg xmlns=\"http://www.w3.org/2000/svg\" height=\"24px\"viewBox=\"0 0 24 24\"\n",
              "       width=\"24px\">\n",
              "    <path d=\"M0 0h24v24H0V0z\" fill=\"none\"/>\n",
              "    <path d=\"M18.56 5.44l.94 2.06.94-2.06 2.06-.94-2.06-.94-.94-2.06-.94 2.06-2.06.94zm-11 1L8.5 8.5l.94-2.06 2.06-.94-2.06-.94L8.5 2.5l-.94 2.06-2.06.94zm10 10l.94 2.06.94-2.06 2.06-.94-2.06-.94-.94-2.06-.94 2.06-2.06.94z\"/><path d=\"M17.41 7.96l-1.37-1.37c-.4-.4-.92-.59-1.43-.59-.52 0-1.04.2-1.43.59L10.3 9.45l-7.72 7.72c-.78.78-.78 2.05 0 2.83L4 21.41c.39.39.9.59 1.41.59.51 0 1.02-.2 1.41-.59l7.78-7.78 2.81-2.81c.8-.78.8-2.07 0-2.86zM5.41 20L4 18.59l7.72-7.72 1.47 1.35L5.41 20z\"/>\n",
              "  </svg>\n",
              "      </button>\n",
              "      \n",
              "  <style>\n",
              "    .colab-df-container {\n",
              "      display:flex;\n",
              "      flex-wrap:wrap;\n",
              "      gap: 12px;\n",
              "    }\n",
              "\n",
              "    .colab-df-convert {\n",
              "      background-color: #E8F0FE;\n",
              "      border: none;\n",
              "      border-radius: 50%;\n",
              "      cursor: pointer;\n",
              "      display: none;\n",
              "      fill: #1967D2;\n",
              "      height: 32px;\n",
              "      padding: 0 0 0 0;\n",
              "      width: 32px;\n",
              "    }\n",
              "\n",
              "    .colab-df-convert:hover {\n",
              "      background-color: #E2EBFA;\n",
              "      box-shadow: 0px 1px 2px rgba(60, 64, 67, 0.3), 0px 1px 3px 1px rgba(60, 64, 67, 0.15);\n",
              "      fill: #174EA6;\n",
              "    }\n",
              "\n",
              "    [theme=dark] .colab-df-convert {\n",
              "      background-color: #3B4455;\n",
              "      fill: #D2E3FC;\n",
              "    }\n",
              "\n",
              "    [theme=dark] .colab-df-convert:hover {\n",
              "      background-color: #434B5C;\n",
              "      box-shadow: 0px 1px 3px 1px rgba(0, 0, 0, 0.15);\n",
              "      filter: drop-shadow(0px 1px 2px rgba(0, 0, 0, 0.3));\n",
              "      fill: #FFFFFF;\n",
              "    }\n",
              "  </style>\n",
              "\n",
              "      <script>\n",
              "        const buttonEl =\n",
              "          document.querySelector('#df-851f1192-525b-4724-9a6f-f748fd5e763c button.colab-df-convert');\n",
              "        buttonEl.style.display =\n",
              "          google.colab.kernel.accessAllowed ? 'block' : 'none';\n",
              "\n",
              "        async function convertToInteractive(key) {\n",
              "          const element = document.querySelector('#df-851f1192-525b-4724-9a6f-f748fd5e763c');\n",
              "          const dataTable =\n",
              "            await google.colab.kernel.invokeFunction('convertToInteractive',\n",
              "                                                     [key], {});\n",
              "          if (!dataTable) return;\n",
              "\n",
              "          const docLinkHtml = 'Like what you see? Visit the ' +\n",
              "            '<a target=\"_blank\" href=https://colab.research.google.com/notebooks/data_table.ipynb>data table notebook</a>'\n",
              "            + ' to learn more about interactive tables.';\n",
              "          element.innerHTML = '';\n",
              "          dataTable['output_type'] = 'display_data';\n",
              "          await google.colab.output.renderOutput(dataTable, element);\n",
              "          const docLink = document.createElement('div');\n",
              "          docLink.innerHTML = docLinkHtml;\n",
              "          element.appendChild(docLink);\n",
              "        }\n",
              "      </script>\n",
              "    </div>\n",
              "  </div>\n",
              "  "
            ]
          },
          "metadata": {},
          "execution_count": 76
        }
      ]
    },
    {
      "cell_type": "code",
      "source": [
        "## YOUR CODE HERE ##"
      ],
      "metadata": {
        "id": "tfGJr-1omp2X"
      },
      "execution_count": null,
      "outputs": []
    },
    {
      "cell_type": "markdown",
      "metadata": {
        "id": "I-VkxWkgZP0S"
      },
      "source": [
        "### Suggested Solution"
      ]
    },
    {
      "cell_type": "markdown",
      "source": [
        "10.1"
      ],
      "metadata": {
        "id": "3q-7-6vmxNSi"
      }
    },
    {
      "cell_type": "code",
      "source": [
        "# first find out the maximum with `.max()`\n",
        "df_covid_filtered['new_deaths_per_million'].max()"
      ],
      "metadata": {
        "colab": {
          "base_uri": "https://localhost:8080/"
        },
        "id": "TKM-cY0y4_4D",
        "outputId": "04a4f2e0-eb99-420d-af64-417e0dfea106"
      },
      "execution_count": null,
      "outputs": [
        {
          "output_type": "execute_result",
          "data": {
            "text/plain": [
              "33.357"
            ]
          },
          "metadata": {},
          "execution_count": 77
        }
      ]
    },
    {
      "cell_type": "code",
      "source": [
        "# Then filter\n",
        "df_covid_filtered[df_covid_filtered['new_deaths_per_million'] == df_covid_filtered['new_deaths_per_million'].max()]"
      ],
      "metadata": {
        "colab": {
          "base_uri": "https://localhost:8080/",
          "height": 191
        },
        "id": "zZXIr9Hd6J-J",
        "outputId": "e60915d0-a9a1-405a-8573-1fff1fcd9bf2"
      },
      "execution_count": null,
      "outputs": [
        {
          "output_type": "execute_result",
          "data": {
            "text/plain": [
              "       iso_code      continent     location        date  total_cases  \\\n",
              "192234      LCA  North America  Saint Lucia  2022-01-01      13640.0   \n",
              "\n",
              "        new_cases  new_cases_smoothed  total_deaths  new_deaths  \\\n",
              "192234       70.0              52.143         301.0         6.0   \n",
              "\n",
              "        new_deaths_smoothed  ...  male_smokers  handwashing_facilities  \\\n",
              "192234                0.857  ...           NaN                  87.202   \n",
              "\n",
              "        hospital_beds_per_thousand  life_expectancy  human_development_index  \\\n",
              "192234                         1.3             76.2                    0.759   \n",
              "\n",
              "        population  excess_mortality_cumulative_absolute  \\\n",
              "192234    179872.0                                   NaN   \n",
              "\n",
              "        excess_mortality_cumulative  excess_mortality  \\\n",
              "192234                          NaN               NaN   \n",
              "\n",
              "        excess_mortality_cumulative_per_million  \n",
              "192234                                      NaN  \n",
              "\n",
              "[1 rows x 67 columns]"
            ],
            "text/html": [
              "\n",
              "  <div id=\"df-d2414a1b-aed1-47c4-bd8b-b235be4cf628\">\n",
              "    <div class=\"colab-df-container\">\n",
              "      <div>\n",
              "<style scoped>\n",
              "    .dataframe tbody tr th:only-of-type {\n",
              "        vertical-align: middle;\n",
              "    }\n",
              "\n",
              "    .dataframe tbody tr th {\n",
              "        vertical-align: top;\n",
              "    }\n",
              "\n",
              "    .dataframe thead th {\n",
              "        text-align: right;\n",
              "    }\n",
              "</style>\n",
              "<table border=\"1\" class=\"dataframe\">\n",
              "  <thead>\n",
              "    <tr style=\"text-align: right;\">\n",
              "      <th></th>\n",
              "      <th>iso_code</th>\n",
              "      <th>continent</th>\n",
              "      <th>location</th>\n",
              "      <th>date</th>\n",
              "      <th>total_cases</th>\n",
              "      <th>new_cases</th>\n",
              "      <th>new_cases_smoothed</th>\n",
              "      <th>total_deaths</th>\n",
              "      <th>new_deaths</th>\n",
              "      <th>new_deaths_smoothed</th>\n",
              "      <th>...</th>\n",
              "      <th>male_smokers</th>\n",
              "      <th>handwashing_facilities</th>\n",
              "      <th>hospital_beds_per_thousand</th>\n",
              "      <th>life_expectancy</th>\n",
              "      <th>human_development_index</th>\n",
              "      <th>population</th>\n",
              "      <th>excess_mortality_cumulative_absolute</th>\n",
              "      <th>excess_mortality_cumulative</th>\n",
              "      <th>excess_mortality</th>\n",
              "      <th>excess_mortality_cumulative_per_million</th>\n",
              "    </tr>\n",
              "  </thead>\n",
              "  <tbody>\n",
              "    <tr>\n",
              "      <th>192234</th>\n",
              "      <td>LCA</td>\n",
              "      <td>North America</td>\n",
              "      <td>Saint Lucia</td>\n",
              "      <td>2022-01-01</td>\n",
              "      <td>13640.0</td>\n",
              "      <td>70.0</td>\n",
              "      <td>52.143</td>\n",
              "      <td>301.0</td>\n",
              "      <td>6.0</td>\n",
              "      <td>0.857</td>\n",
              "      <td>...</td>\n",
              "      <td>NaN</td>\n",
              "      <td>87.202</td>\n",
              "      <td>1.3</td>\n",
              "      <td>76.2</td>\n",
              "      <td>0.759</td>\n",
              "      <td>179872.0</td>\n",
              "      <td>NaN</td>\n",
              "      <td>NaN</td>\n",
              "      <td>NaN</td>\n",
              "      <td>NaN</td>\n",
              "    </tr>\n",
              "  </tbody>\n",
              "</table>\n",
              "<p>1 rows × 67 columns</p>\n",
              "</div>\n",
              "      <button class=\"colab-df-convert\" onclick=\"convertToInteractive('df-d2414a1b-aed1-47c4-bd8b-b235be4cf628')\"\n",
              "              title=\"Convert this dataframe to an interactive table.\"\n",
              "              style=\"display:none;\">\n",
              "        \n",
              "  <svg xmlns=\"http://www.w3.org/2000/svg\" height=\"24px\"viewBox=\"0 0 24 24\"\n",
              "       width=\"24px\">\n",
              "    <path d=\"M0 0h24v24H0V0z\" fill=\"none\"/>\n",
              "    <path d=\"M18.56 5.44l.94 2.06.94-2.06 2.06-.94-2.06-.94-.94-2.06-.94 2.06-2.06.94zm-11 1L8.5 8.5l.94-2.06 2.06-.94-2.06-.94L8.5 2.5l-.94 2.06-2.06.94zm10 10l.94 2.06.94-2.06 2.06-.94-2.06-.94-.94-2.06-.94 2.06-2.06.94z\"/><path d=\"M17.41 7.96l-1.37-1.37c-.4-.4-.92-.59-1.43-.59-.52 0-1.04.2-1.43.59L10.3 9.45l-7.72 7.72c-.78.78-.78 2.05 0 2.83L4 21.41c.39.39.9.59 1.41.59.51 0 1.02-.2 1.41-.59l7.78-7.78 2.81-2.81c.8-.78.8-2.07 0-2.86zM5.41 20L4 18.59l7.72-7.72 1.47 1.35L5.41 20z\"/>\n",
              "  </svg>\n",
              "      </button>\n",
              "      \n",
              "  <style>\n",
              "    .colab-df-container {\n",
              "      display:flex;\n",
              "      flex-wrap:wrap;\n",
              "      gap: 12px;\n",
              "    }\n",
              "\n",
              "    .colab-df-convert {\n",
              "      background-color: #E8F0FE;\n",
              "      border: none;\n",
              "      border-radius: 50%;\n",
              "      cursor: pointer;\n",
              "      display: none;\n",
              "      fill: #1967D2;\n",
              "      height: 32px;\n",
              "      padding: 0 0 0 0;\n",
              "      width: 32px;\n",
              "    }\n",
              "\n",
              "    .colab-df-convert:hover {\n",
              "      background-color: #E2EBFA;\n",
              "      box-shadow: 0px 1px 2px rgba(60, 64, 67, 0.3), 0px 1px 3px 1px rgba(60, 64, 67, 0.15);\n",
              "      fill: #174EA6;\n",
              "    }\n",
              "\n",
              "    [theme=dark] .colab-df-convert {\n",
              "      background-color: #3B4455;\n",
              "      fill: #D2E3FC;\n",
              "    }\n",
              "\n",
              "    [theme=dark] .colab-df-convert:hover {\n",
              "      background-color: #434B5C;\n",
              "      box-shadow: 0px 1px 3px 1px rgba(0, 0, 0, 0.15);\n",
              "      filter: drop-shadow(0px 1px 2px rgba(0, 0, 0, 0.3));\n",
              "      fill: #FFFFFF;\n",
              "    }\n",
              "  </style>\n",
              "\n",
              "      <script>\n",
              "        const buttonEl =\n",
              "          document.querySelector('#df-d2414a1b-aed1-47c4-bd8b-b235be4cf628 button.colab-df-convert');\n",
              "        buttonEl.style.display =\n",
              "          google.colab.kernel.accessAllowed ? 'block' : 'none';\n",
              "\n",
              "        async function convertToInteractive(key) {\n",
              "          const element = document.querySelector('#df-d2414a1b-aed1-47c4-bd8b-b235be4cf628');\n",
              "          const dataTable =\n",
              "            await google.colab.kernel.invokeFunction('convertToInteractive',\n",
              "                                                     [key], {});\n",
              "          if (!dataTable) return;\n",
              "\n",
              "          const docLinkHtml = 'Like what you see? Visit the ' +\n",
              "            '<a target=\"_blank\" href=https://colab.research.google.com/notebooks/data_table.ipynb>data table notebook</a>'\n",
              "            + ' to learn more about interactive tables.';\n",
              "          element.innerHTML = '';\n",
              "          dataTable['output_type'] = 'display_data';\n",
              "          await google.colab.output.renderOutput(dataTable, element);\n",
              "          const docLink = document.createElement('div');\n",
              "          docLink.innerHTML = docLinkHtml;\n",
              "          element.appendChild(docLink);\n",
              "        }\n",
              "      </script>\n",
              "    </div>\n",
              "  </div>\n",
              "  "
            ]
          },
          "metadata": {},
          "execution_count": 78
        }
      ]
    },
    {
      "cell_type": "code",
      "metadata": {
        "colab": {
          "base_uri": "https://localhost:8080/",
          "height": 386
        },
        "id": "fyyoF5XoZaRI",
        "outputId": "b815c949-6e24-440c-dca1-51c48e01ffc0"
      },
      "source": [
        "# alternatively, sort the dataframe by 'new_deaths_per_million' in decending order, then look at the first few rows\n",
        "df_covid_filtered.sort_values('new_deaths_per_million', ascending = False).head()"
      ],
      "execution_count": null,
      "outputs": [
        {
          "output_type": "execute_result",
          "data": {
            "text/plain": [
              "       iso_code      continent        location        date  total_cases  \\\n",
              "192234      LCA  North America     Saint Lucia  2022-01-01      13640.0   \n",
              "148734      MCO         Europe          Monaco  2022-01-01       4985.0   \n",
              "42233       CYM  North America  Cayman Islands  2022-01-01       8943.0   \n",
              "84385       GEO           Asia         Georgia  2022-01-01     936844.0   \n",
              "183062      POL         Europe          Poland  2022-01-01    4120248.0   \n",
              "\n",
              "        new_cases  new_cases_smoothed  total_deaths  new_deaths  \\\n",
              "192234       70.0              52.143         301.0         6.0   \n",
              "148734        0.0              33.571          39.0         1.0   \n",
              "42233       125.0              79.571          12.0         1.0   \n",
              "84385      2103.0            2019.571       13850.0        50.0   \n",
              "183062    12033.0           10951.857       97559.0       505.0   \n",
              "\n",
              "        new_deaths_smoothed  ...  male_smokers  handwashing_facilities  \\\n",
              "192234                0.857  ...           NaN                  87.202   \n",
              "148734                0.143  ...           NaN                     NaN   \n",
              "42233                 0.143  ...           NaN                     NaN   \n",
              "84385                58.143  ...          55.5                     NaN   \n",
              "183062              464.000  ...          33.1                     NaN   \n",
              "\n",
              "        hospital_beds_per_thousand  life_expectancy  human_development_index  \\\n",
              "192234                        1.30            76.20                    0.759   \n",
              "148734                       13.80            86.75                      NaN   \n",
              "42233                          NaN            83.92                      NaN   \n",
              "84385                         2.60            73.77                    0.812   \n",
              "183062                        6.62            78.73                    0.880   \n",
              "\n",
              "        population  excess_mortality_cumulative_absolute  \\\n",
              "192234    179872.0                                   NaN   \n",
              "148734     36491.0                                   NaN   \n",
              "42233      68722.0                                   NaN   \n",
              "84385    3744385.0                                   NaN   \n",
              "183062  39857144.0                                   NaN   \n",
              "\n",
              "        excess_mortality_cumulative  excess_mortality  \\\n",
              "192234                          NaN               NaN   \n",
              "148734                          NaN               NaN   \n",
              "42233                           NaN               NaN   \n",
              "84385                           NaN               NaN   \n",
              "183062                          NaN               NaN   \n",
              "\n",
              "        excess_mortality_cumulative_per_million  \n",
              "192234                                      NaN  \n",
              "148734                                      NaN  \n",
              "42233                                       NaN  \n",
              "84385                                       NaN  \n",
              "183062                                      NaN  \n",
              "\n",
              "[5 rows x 67 columns]"
            ],
            "text/html": [
              "\n",
              "  <div id=\"df-2b2d45ab-f2ce-452d-9351-5bff0400b1e2\">\n",
              "    <div class=\"colab-df-container\">\n",
              "      <div>\n",
              "<style scoped>\n",
              "    .dataframe tbody tr th:only-of-type {\n",
              "        vertical-align: middle;\n",
              "    }\n",
              "\n",
              "    .dataframe tbody tr th {\n",
              "        vertical-align: top;\n",
              "    }\n",
              "\n",
              "    .dataframe thead th {\n",
              "        text-align: right;\n",
              "    }\n",
              "</style>\n",
              "<table border=\"1\" class=\"dataframe\">\n",
              "  <thead>\n",
              "    <tr style=\"text-align: right;\">\n",
              "      <th></th>\n",
              "      <th>iso_code</th>\n",
              "      <th>continent</th>\n",
              "      <th>location</th>\n",
              "      <th>date</th>\n",
              "      <th>total_cases</th>\n",
              "      <th>new_cases</th>\n",
              "      <th>new_cases_smoothed</th>\n",
              "      <th>total_deaths</th>\n",
              "      <th>new_deaths</th>\n",
              "      <th>new_deaths_smoothed</th>\n",
              "      <th>...</th>\n",
              "      <th>male_smokers</th>\n",
              "      <th>handwashing_facilities</th>\n",
              "      <th>hospital_beds_per_thousand</th>\n",
              "      <th>life_expectancy</th>\n",
              "      <th>human_development_index</th>\n",
              "      <th>population</th>\n",
              "      <th>excess_mortality_cumulative_absolute</th>\n",
              "      <th>excess_mortality_cumulative</th>\n",
              "      <th>excess_mortality</th>\n",
              "      <th>excess_mortality_cumulative_per_million</th>\n",
              "    </tr>\n",
              "  </thead>\n",
              "  <tbody>\n",
              "    <tr>\n",
              "      <th>192234</th>\n",
              "      <td>LCA</td>\n",
              "      <td>North America</td>\n",
              "      <td>Saint Lucia</td>\n",
              "      <td>2022-01-01</td>\n",
              "      <td>13640.0</td>\n",
              "      <td>70.0</td>\n",
              "      <td>52.143</td>\n",
              "      <td>301.0</td>\n",
              "      <td>6.0</td>\n",
              "      <td>0.857</td>\n",
              "      <td>...</td>\n",
              "      <td>NaN</td>\n",
              "      <td>87.202</td>\n",
              "      <td>1.30</td>\n",
              "      <td>76.20</td>\n",
              "      <td>0.759</td>\n",
              "      <td>179872.0</td>\n",
              "      <td>NaN</td>\n",
              "      <td>NaN</td>\n",
              "      <td>NaN</td>\n",
              "      <td>NaN</td>\n",
              "    </tr>\n",
              "    <tr>\n",
              "      <th>148734</th>\n",
              "      <td>MCO</td>\n",
              "      <td>Europe</td>\n",
              "      <td>Monaco</td>\n",
              "      <td>2022-01-01</td>\n",
              "      <td>4985.0</td>\n",
              "      <td>0.0</td>\n",
              "      <td>33.571</td>\n",
              "      <td>39.0</td>\n",
              "      <td>1.0</td>\n",
              "      <td>0.143</td>\n",
              "      <td>...</td>\n",
              "      <td>NaN</td>\n",
              "      <td>NaN</td>\n",
              "      <td>13.80</td>\n",
              "      <td>86.75</td>\n",
              "      <td>NaN</td>\n",
              "      <td>36491.0</td>\n",
              "      <td>NaN</td>\n",
              "      <td>NaN</td>\n",
              "      <td>NaN</td>\n",
              "      <td>NaN</td>\n",
              "    </tr>\n",
              "    <tr>\n",
              "      <th>42233</th>\n",
              "      <td>CYM</td>\n",
              "      <td>North America</td>\n",
              "      <td>Cayman Islands</td>\n",
              "      <td>2022-01-01</td>\n",
              "      <td>8943.0</td>\n",
              "      <td>125.0</td>\n",
              "      <td>79.571</td>\n",
              "      <td>12.0</td>\n",
              "      <td>1.0</td>\n",
              "      <td>0.143</td>\n",
              "      <td>...</td>\n",
              "      <td>NaN</td>\n",
              "      <td>NaN</td>\n",
              "      <td>NaN</td>\n",
              "      <td>83.92</td>\n",
              "      <td>NaN</td>\n",
              "      <td>68722.0</td>\n",
              "      <td>NaN</td>\n",
              "      <td>NaN</td>\n",
              "      <td>NaN</td>\n",
              "      <td>NaN</td>\n",
              "    </tr>\n",
              "    <tr>\n",
              "      <th>84385</th>\n",
              "      <td>GEO</td>\n",
              "      <td>Asia</td>\n",
              "      <td>Georgia</td>\n",
              "      <td>2022-01-01</td>\n",
              "      <td>936844.0</td>\n",
              "      <td>2103.0</td>\n",
              "      <td>2019.571</td>\n",
              "      <td>13850.0</td>\n",
              "      <td>50.0</td>\n",
              "      <td>58.143</td>\n",
              "      <td>...</td>\n",
              "      <td>55.5</td>\n",
              "      <td>NaN</td>\n",
              "      <td>2.60</td>\n",
              "      <td>73.77</td>\n",
              "      <td>0.812</td>\n",
              "      <td>3744385.0</td>\n",
              "      <td>NaN</td>\n",
              "      <td>NaN</td>\n",
              "      <td>NaN</td>\n",
              "      <td>NaN</td>\n",
              "    </tr>\n",
              "    <tr>\n",
              "      <th>183062</th>\n",
              "      <td>POL</td>\n",
              "      <td>Europe</td>\n",
              "      <td>Poland</td>\n",
              "      <td>2022-01-01</td>\n",
              "      <td>4120248.0</td>\n",
              "      <td>12033.0</td>\n",
              "      <td>10951.857</td>\n",
              "      <td>97559.0</td>\n",
              "      <td>505.0</td>\n",
              "      <td>464.000</td>\n",
              "      <td>...</td>\n",
              "      <td>33.1</td>\n",
              "      <td>NaN</td>\n",
              "      <td>6.62</td>\n",
              "      <td>78.73</td>\n",
              "      <td>0.880</td>\n",
              "      <td>39857144.0</td>\n",
              "      <td>NaN</td>\n",
              "      <td>NaN</td>\n",
              "      <td>NaN</td>\n",
              "      <td>NaN</td>\n",
              "    </tr>\n",
              "  </tbody>\n",
              "</table>\n",
              "<p>5 rows × 67 columns</p>\n",
              "</div>\n",
              "      <button class=\"colab-df-convert\" onclick=\"convertToInteractive('df-2b2d45ab-f2ce-452d-9351-5bff0400b1e2')\"\n",
              "              title=\"Convert this dataframe to an interactive table.\"\n",
              "              style=\"display:none;\">\n",
              "        \n",
              "  <svg xmlns=\"http://www.w3.org/2000/svg\" height=\"24px\"viewBox=\"0 0 24 24\"\n",
              "       width=\"24px\">\n",
              "    <path d=\"M0 0h24v24H0V0z\" fill=\"none\"/>\n",
              "    <path d=\"M18.56 5.44l.94 2.06.94-2.06 2.06-.94-2.06-.94-.94-2.06-.94 2.06-2.06.94zm-11 1L8.5 8.5l.94-2.06 2.06-.94-2.06-.94L8.5 2.5l-.94 2.06-2.06.94zm10 10l.94 2.06.94-2.06 2.06-.94-2.06-.94-.94-2.06-.94 2.06-2.06.94z\"/><path d=\"M17.41 7.96l-1.37-1.37c-.4-.4-.92-.59-1.43-.59-.52 0-1.04.2-1.43.59L10.3 9.45l-7.72 7.72c-.78.78-.78 2.05 0 2.83L4 21.41c.39.39.9.59 1.41.59.51 0 1.02-.2 1.41-.59l7.78-7.78 2.81-2.81c.8-.78.8-2.07 0-2.86zM5.41 20L4 18.59l7.72-7.72 1.47 1.35L5.41 20z\"/>\n",
              "  </svg>\n",
              "      </button>\n",
              "      \n",
              "  <style>\n",
              "    .colab-df-container {\n",
              "      display:flex;\n",
              "      flex-wrap:wrap;\n",
              "      gap: 12px;\n",
              "    }\n",
              "\n",
              "    .colab-df-convert {\n",
              "      background-color: #E8F0FE;\n",
              "      border: none;\n",
              "      border-radius: 50%;\n",
              "      cursor: pointer;\n",
              "      display: none;\n",
              "      fill: #1967D2;\n",
              "      height: 32px;\n",
              "      padding: 0 0 0 0;\n",
              "      width: 32px;\n",
              "    }\n",
              "\n",
              "    .colab-df-convert:hover {\n",
              "      background-color: #E2EBFA;\n",
              "      box-shadow: 0px 1px 2px rgba(60, 64, 67, 0.3), 0px 1px 3px 1px rgba(60, 64, 67, 0.15);\n",
              "      fill: #174EA6;\n",
              "    }\n",
              "\n",
              "    [theme=dark] .colab-df-convert {\n",
              "      background-color: #3B4455;\n",
              "      fill: #D2E3FC;\n",
              "    }\n",
              "\n",
              "    [theme=dark] .colab-df-convert:hover {\n",
              "      background-color: #434B5C;\n",
              "      box-shadow: 0px 1px 3px 1px rgba(0, 0, 0, 0.15);\n",
              "      filter: drop-shadow(0px 1px 2px rgba(0, 0, 0, 0.3));\n",
              "      fill: #FFFFFF;\n",
              "    }\n",
              "  </style>\n",
              "\n",
              "      <script>\n",
              "        const buttonEl =\n",
              "          document.querySelector('#df-2b2d45ab-f2ce-452d-9351-5bff0400b1e2 button.colab-df-convert');\n",
              "        buttonEl.style.display =\n",
              "          google.colab.kernel.accessAllowed ? 'block' : 'none';\n",
              "\n",
              "        async function convertToInteractive(key) {\n",
              "          const element = document.querySelector('#df-2b2d45ab-f2ce-452d-9351-5bff0400b1e2');\n",
              "          const dataTable =\n",
              "            await google.colab.kernel.invokeFunction('convertToInteractive',\n",
              "                                                     [key], {});\n",
              "          if (!dataTable) return;\n",
              "\n",
              "          const docLinkHtml = 'Like what you see? Visit the ' +\n",
              "            '<a target=\"_blank\" href=https://colab.research.google.com/notebooks/data_table.ipynb>data table notebook</a>'\n",
              "            + ' to learn more about interactive tables.';\n",
              "          element.innerHTML = '';\n",
              "          dataTable['output_type'] = 'display_data';\n",
              "          await google.colab.output.renderOutput(dataTable, element);\n",
              "          const docLink = document.createElement('div');\n",
              "          docLink.innerHTML = docLinkHtml;\n",
              "          element.appendChild(docLink);\n",
              "        }\n",
              "      </script>\n",
              "    </div>\n",
              "  </div>\n",
              "  "
            ]
          },
          "metadata": {},
          "execution_count": 79
        }
      ]
    },
    {
      "cell_type": "markdown",
      "source": [
        "10.2"
      ],
      "metadata": {
        "id": "X12yON8oxSi6"
      }
    },
    {
      "cell_type": "code",
      "metadata": {
        "colab": {
          "base_uri": "https://localhost:8080/",
          "height": 282
        },
        "id": "HMKqdhldX9xN",
        "outputId": "7d6bca63-3945-44d5-cd17-228d5c0ac7c0"
      },
      "source": [
        "df_covid_filtered['new_deaths_per_million'].hist()"
      ],
      "execution_count": null,
      "outputs": [
        {
          "output_type": "execute_result",
          "data": {
            "text/plain": [
              "<matplotlib.axes._subplots.AxesSubplot at 0x7f8cea3e1b20>"
            ]
          },
          "metadata": {},
          "execution_count": 80
        },
        {
          "output_type": "display_data",
          "data": {
            "text/plain": [
              "<Figure size 432x288 with 1 Axes>"
            ],
            "image/png": "[encoded data removed]"
          },
          "metadata": {
            "needs_background": "light"
          }
        }
      ]
    },
    {
      "cell_type": "markdown",
      "source": [
        "10.3"
      ],
      "metadata": {
        "id": "yVtiuQ8uvoAO"
      }
    },
    {
      "cell_type": "code",
      "source": [
        "df_covid_filtered[['new_cases_per_million']].describe()"
      ],
      "metadata": {
        "colab": {
          "base_uri": "https://localhost:8080/",
          "height": 300
        },
        "id": "c4HuHYprx2Y7",
        "outputId": "0bf29080-dce9-45d3-c9bf-ba371acd19ce"
      },
      "execution_count": null,
      "outputs": [
        {
          "output_type": "execute_result",
          "data": {
            "text/plain": [
              "       new_cases_per_million\n",
              "count             214.000000\n",
              "mean              387.018238\n",
              "std               905.601675\n",
              "min                 0.000000\n",
              "25%                 0.000000\n",
              "50%                25.591000\n",
              "75%               267.980250\n",
              "max              5967.958000"
            ],
            "text/html": [
              "\n",
              "  <div id=\"df-716f43e6-4362-4f4a-bcf1-9882d0bbd958\">\n",
              "    <div class=\"colab-df-container\">\n",
              "      <div>\n",
              "<style scoped>\n",
              "    .dataframe tbody tr th:only-of-type {\n",
              "        vertical-align: middle;\n",
              "    }\n",
              "\n",
              "    .dataframe tbody tr th {\n",
              "        vertical-align: top;\n",
              "    }\n",
              "\n",
              "    .dataframe thead th {\n",
              "        text-align: right;\n",
              "    }\n",
              "</style>\n",
              "<table border=\"1\" class=\"dataframe\">\n",
              "  <thead>\n",
              "    <tr style=\"text-align: right;\">\n",
              "      <th></th>\n",
              "      <th>new_cases_per_million</th>\n",
              "    </tr>\n",
              "  </thead>\n",
              "  <tbody>\n",
              "    <tr>\n",
              "      <th>count</th>\n",
              "      <td>214.000000</td>\n",
              "    </tr>\n",
              "    <tr>\n",
              "      <th>mean</th>\n",
              "      <td>387.018238</td>\n",
              "    </tr>\n",
              "    <tr>\n",
              "      <th>std</th>\n",
              "      <td>905.601675</td>\n",
              "    </tr>\n",
              "    <tr>\n",
              "      <th>min</th>\n",
              "      <td>0.000000</td>\n",
              "    </tr>\n",
              "    <tr>\n",
              "      <th>25%</th>\n",
              "      <td>0.000000</td>\n",
              "    </tr>\n",
              "    <tr>\n",
              "      <th>50%</th>\n",
              "      <td>25.591000</td>\n",
              "    </tr>\n",
              "    <tr>\n",
              "      <th>75%</th>\n",
              "      <td>267.980250</td>\n",
              "    </tr>\n",
              "    <tr>\n",
              "      <th>max</th>\n",
              "      <td>5967.958000</td>\n",
              "    </tr>\n",
              "  </tbody>\n",
              "</table>\n",
              "</div>\n",
              "      <button class=\"colab-df-convert\" onclick=\"convertToInteractive('df-716f43e6-4362-4f4a-bcf1-9882d0bbd958')\"\n",
              "              title=\"Convert this dataframe to an interactive table.\"\n",
              "              style=\"display:none;\">\n",
              "        \n",
              "  <svg xmlns=\"http://www.w3.org/2000/svg\" height=\"24px\"viewBox=\"0 0 24 24\"\n",
              "       width=\"24px\">\n",
              "    <path d=\"M0 0h24v24H0V0z\" fill=\"none\"/>\n",
              "    <path d=\"M18.56 5.44l.94 2.06.94-2.06 2.06-.94-2.06-.94-.94-2.06-.94 2.06-2.06.94zm-11 1L8.5 8.5l.94-2.06 2.06-.94-2.06-.94L8.5 2.5l-.94 2.06-2.06.94zm10 10l.94 2.06.94-2.06 2.06-.94-2.06-.94-.94-2.06-.94 2.06-2.06.94z\"/><path d=\"M17.41 7.96l-1.37-1.37c-.4-.4-.92-.59-1.43-.59-.52 0-1.04.2-1.43.59L10.3 9.45l-7.72 7.72c-.78.78-.78 2.05 0 2.83L4 21.41c.39.39.9.59 1.41.59.51 0 1.02-.2 1.41-.59l7.78-7.78 2.81-2.81c.8-.78.8-2.07 0-2.86zM5.41 20L4 18.59l7.72-7.72 1.47 1.35L5.41 20z\"/>\n",
              "  </svg>\n",
              "      </button>\n",
              "      \n",
              "  <style>\n",
              "    .colab-df-container {\n",
              "      display:flex;\n",
              "      flex-wrap:wrap;\n",
              "      gap: 12px;\n",
              "    }\n",
              "\n",
              "    .colab-df-convert {\n",
              "      background-color: #E8F0FE;\n",
              "      border: none;\n",
              "      border-radius: 50%;\n",
              "      cursor: pointer;\n",
              "      display: none;\n",
              "      fill: #1967D2;\n",
              "      height: 32px;\n",
              "      padding: 0 0 0 0;\n",
              "      width: 32px;\n",
              "    }\n",
              "\n",
              "    .colab-df-convert:hover {\n",
              "      background-color: #E2EBFA;\n",
              "      box-shadow: 0px 1px 2px rgba(60, 64, 67, 0.3), 0px 1px 3px 1px rgba(60, 64, 67, 0.15);\n",
              "      fill: #174EA6;\n",
              "    }\n",
              "\n",
              "    [theme=dark] .colab-df-convert {\n",
              "      background-color: #3B4455;\n",
              "      fill: #D2E3FC;\n",
              "    }\n",
              "\n",
              "    [theme=dark] .colab-df-convert:hover {\n",
              "      background-color: #434B5C;\n",
              "      box-shadow: 0px 1px 3px 1px rgba(0, 0, 0, 0.15);\n",
              "      filter: drop-shadow(0px 1px 2px rgba(0, 0, 0, 0.3));\n",
              "      fill: #FFFFFF;\n",
              "    }\n",
              "  </style>\n",
              "\n",
              "      <script>\n",
              "        const buttonEl =\n",
              "          document.querySelector('#df-716f43e6-4362-4f4a-bcf1-9882d0bbd958 button.colab-df-convert');\n",
              "        buttonEl.style.display =\n",
              "          google.colab.kernel.accessAllowed ? 'block' : 'none';\n",
              "\n",
              "        async function convertToInteractive(key) {\n",
              "          const element = document.querySelector('#df-716f43e6-4362-4f4a-bcf1-9882d0bbd958');\n",
              "          const dataTable =\n",
              "            await google.colab.kernel.invokeFunction('convertToInteractive',\n",
              "                                                     [key], {});\n",
              "          if (!dataTable) return;\n",
              "\n",
              "          const docLinkHtml = 'Like what you see? Visit the ' +\n",
              "            '<a target=\"_blank\" href=https://colab.research.google.com/notebooks/data_table.ipynb>data table notebook</a>'\n",
              "            + ' to learn more about interactive tables.';\n",
              "          element.innerHTML = '';\n",
              "          dataTable['output_type'] = 'display_data';\n",
              "          await google.colab.output.renderOutput(dataTable, element);\n",
              "          const docLink = document.createElement('div');\n",
              "          docLink.innerHTML = docLinkHtml;\n",
              "          element.appendChild(docLink);\n",
              "        }\n",
              "      </script>\n",
              "    </div>\n",
              "  </div>\n",
              "  "
            ]
          },
          "metadata": {},
          "execution_count": 81
        }
      ]
    },
    {
      "cell_type": "markdown",
      "source": [
        "---\n",
        "\n",
        "---\n",
        "\n",
        "# Data Handling and Preparation in Python\n",
        "\n",
        "For the following section, instead of individual bite-sized exercises, a modified copy of the notebook on *Data Handling and Preparation in Python (I)* would be given. You would need to complete certain parts of the codes yourself (indicated with `## YOUR CODE HERE ##`). For the given parts of the code, try understanding them as much as possible instead of simply mindlessly executing  all of them. Refer to the original notebook for solutions."
      ],
      "metadata": {
        "id": "ll2i5PPug_s1"
      }
    },
    {
      "cell_type": "markdown",
      "metadata": {
        "id": "sTjUpR8_p0SG"
      },
      "source": [
        "---\n",
        "\n",
        "# MIMIC-III Example: In-hospital Mortality Prediction"
      ]
    },
    {
      "cell_type": "markdown",
      "metadata": {
        "id": "duxOw-wkaKp9"
      },
      "source": [
        "# 1. Objectives\n",
        "\n",
        "As an example, we hypothesize that patients with a lot of interactions/events/encounters daily within their hospital stay tend to have a higher risk of mortality. Can we build a model that **predicts in-hospital death** for each hospital admission based on those variables?\n",
        "\n",
        "In machine learning terms, we are trying to build a *binary classification* model using *supervised* learning."
      ]
    },
    {
      "cell_type": "markdown",
      "source": [
        "---\n",
        "\n",
        "# 2. Setting up"
      ],
      "metadata": {
        "id": "oXAbRsVmNahc"
      }
    },
    {
      "cell_type": "markdown",
      "metadata": {
        "id": "IHmJanu4lbEK"
      },
      "source": [
        "First, let's load up libraries and authenticate ourselves. Apart from *pandas*, we will also import *numpy* for general table-based computations; and *seaborn* for visualisation and plots."
      ]
    },
    {
      "cell_type": "code",
      "metadata": {
        "id": "rlJ7b_PSgxRs"
      },
      "source": [
        "import pandas as pd\n",
        "import numpy as np\n",
        "import os\n",
        "\n",
        "import matplotlib.pyplot as plt\n",
        "import seaborn as sns\n",
        "%matplotlib inline\n",
        "sns.set_theme()"
      ],
      "execution_count": null,
      "outputs": []
    },
    {
      "cell_type": "code",
      "metadata": {
        "id": "Na2CuSbygrr9"
      },
      "source": [
        "from google.colab import auth\n",
        "auth.authenticate_user()\n",
        "print('Authenticated')"
      ],
      "execution_count": null,
      "outputs": []
    },
    {
      "cell_type": "markdown",
      "metadata": {
        "id": "eCvWk7U2vILp"
      },
      "source": [
        "---\n",
        "\n",
        "# 3. Data Preparation: Gathering Data"
      ]
    },
    {
      "cell_type": "markdown",
      "metadata": {
        "id": "4C4mmIPNSuoD"
      },
      "source": [
        "In this step, we sought to gather all relevant information for each hospital stay across several tables in MIMIC-III.\n",
        "\n",
        "| Table | Variables to be extracted |\n",
        "| --- | --- |\n",
        "| `admissions` | The basis of the table. <br>`SUBJECT_ID`, `HADM_ID`, `ADMISSION_TYPE`, <br>`ADMITTIME`, `DISCHTIME`, `DEATHTIME`, `HOSPITAL_EXPIRE_FLAG`, <br>`DIAGNOSIS`, `MARITAL_STATUS`,`INSURANCE`, `LANGUAGE`, `RELIGION`, `ETHNICITY` |\n",
        "| `patients` | `GENDER`, `DOB` |\n",
        "| `icustays` | `LOS` |\n",
        "| `labevents` | Number of events relating to laboratory tests |\n",
        "| `callouts` | Number of callouts of the patients |\n",
        "| `prescriptions` | Number of prescriptions ordered |\n",
        "| `procedures_icd` | Number of procedures received |\n",
        "| `inputevents_cv`<br>`inputevents_mv` | Number of fluid input records |\n",
        "| `outputevents` | Number of fluid output records |\n",
        "| `diagnosis_icd` | Number of diagnoses |\n",
        "| `transfers` | Number of transfers within hospital stay |\n",
        "| `cptevents` | Number of events recorded in Current Procedural Terminology |\n",
        "| `microbiologyevents` | Number of microbiology events or tests |\n"
      ]
    },
    {
      "cell_type": "markdown",
      "source": [
        "Let's start by writing down a simpler query that counts the number of diagnoses per admission using the `diagnoses_icd` table. Then, include that as an additional column in the `admissions` table (see Exercise 10 in our SQL Tutorial).\n",
        "\n",
        "Once again, you can first test the SQL queries in [BigQuery](https://console.cloud.google.com/bigquery) before pasting it in Colab; and you can find your GCP project ID in [Cloud Resource Manager](https://console.cloud.google.com/cloud-resource-manager).\n"
      ],
      "metadata": {
        "id": "GQ307xmjPuvf"
      }
    },
    {
      "cell_type": "code",
      "source": [
        "%%bigquery --project $bigquery_project_id\n",
        "\n",
        "WITH diags AS (\n",
        "  SELECT HADM_ID, COUNT(HADM_ID) AS DIAG_COUNT\n",
        "  FROM `physionet-data.mimiciii_clinical.diagnoses_icd`\n",
        "  GROUP BY HADM_ID\n",
        ")\n",
        "\n",
        "\n",
        "SELECT adm.*, diags.DIAG_COUNT\n",
        "FROM `physionet-data.mimiciii_clinical.admissions` AS adm\n",
        "LEFT JOIN diags\n",
        "ON adm.HADM_ID = diags.HADM_ID\n",
        "LIMIT 1000"
      ],
      "metadata": {
        "id": "Z9BmtfWzQ6Ti"
      },
      "execution_count": null,
      "outputs": []
    },
    {
      "cell_type": "markdown",
      "source": [
        "Then, we can write a comprehensive SQL query for retrieving all the information across tables as follows. The query is quite long and complex at first glance, but can be broken down into three key components:\n",
        "\n",
        "1. Calculate the event counts from each table listed above, except for `admissions`, `patients` and `icustays`. Create alias for each of them using keywords `WITH` and `AS`.\n",
        "2. Specify the columns we want to retrieve from each table.\n",
        "3. Link all the tables to the `admissions` table using `LEFT JOIN`, with either `HADM_ID` or `SUBJECT_ID` as the common column.\n",
        "\n",
        "We save the query results to a Python variable named `df`."
      ],
      "metadata": {
        "id": "GyR4xDtqPjNL"
      }
    },
    {
      "cell_type": "code",
      "metadata": {
        "id": "UYU2xwJmgmBW"
      },
      "source": [
        "%%bigquery df --project $bigquery_project_id\n",
        "\n",
        "# 1.\n",
        "WITH\n",
        "icustay AS (SELECT HADM_ID, SUM(LOS) AS LOS_ICU FROM `physionet-data.mimiciii_clinical.icustays` GROUP BY HADM_ID),\n",
        "callout AS (SELECT HADM_ID, COUNT(HADM_ID) AS CALLOUT_COUNT FROM  `physionet-data.mimiciii_clinical.callout` GROUP BY HADM_ID),\n",
        "diags AS (SELECT HADM_ID, COUNT(HADM_ID) AS DIAG_COUNT FROM `physionet-data.mimiciii_clinical.diagnoses_icd` GROUP BY HADM_ID),\n",
        "preps AS (SELECT HADM_ID, COUNT(HADM_ID) AS PRES_COUNT FROM `physionet-data.mimiciii_clinical.prescriptions` GROUP BY HADM_ID),\n",
        "procs AS (SELECT HADM_ID, COUNT(HADM_ID) AS PROC_COUNT FROM `physionet-data.mimiciii_clinical.procedures_icd` GROUP BY HADM_ID),\n",
        "cpts AS (SELECT HADM_ID, COUNT(HADM_ID) AS CPT_COUNT FROM `physionet-data.mimiciii_clinical.cptevents` GROUP BY HADM_ID),\n",
        "labs AS (SELECT HADM_ID, COUNT(HADM_ID) AS LAB_COUNT FROM `physionet-data.mimiciii_clinical.labevents` GROUP BY HADM_ID),\n",
        "inputs_cv AS (SELECT HADM_ID, COUNT(HADM_ID) AS INPUTS_CV_COUNT FROM `physionet-data.mimiciii_clinical.inputevents_cv` GROUP BY HADM_ID),\n",
        "inputs_mv AS (SELECT HADM_ID, COUNT(HADM_ID) AS INPUTS_MV_COUNT FROM `physionet-data.mimiciii_clinical.inputevents_mv` GROUP BY HADM_ID),\n",
        "outputs AS (SELECT HADM_ID, COUNT(HADM_ID) AS OUTPUT_COUNT FROM `physionet-data.mimiciii_clinical.outputevents` GROUP BY HADM_ID),\n",
        "transfers AS (SELECT HADM_ID, COUNT(HADM_ID) AS TRANSFER_COUNT FROM `physionet-data.mimiciii_clinical.transfers` GROUP BY HADM_ID),\n",
        "micros AS (SELECT HADM_ID, COUNT(HADM_ID) AS MICRO_COUNT FROM `physionet-data.mimiciii_clinical.microbiologyevents` GROUP BY HADM_ID)\n",
        "\n",
        "# 2.\n",
        "SELECT adm.SUBJECT_ID, adm.HADM_ID, adm.ADMISSION_TYPE,\n",
        "adm.ADMITTIME, adm.DISCHTIME, adm.DEATHTIME, adm.HOSPITAL_EXPIRE_FLAG,\n",
        "adm.DIAGNOSIS, adm.MARITAL_STATUS, adm.INSURANCE, adm.LANGUAGE, adm.RELIGION, adm.ETHNICITY,\n",
        "pts.GENDER, pts.DOB, icustay.LOS_ICU, callout.CALLOUT_COUNT, diags.DIAG_COUNT,\n",
        "preps.PRES_COUNT, procs.PROC_COUNT, cpts.CPT_COUNT, labs.LAB_COUNT,\n",
        "inputs_cv.INPUTS_CV_COUNT, inputs_mv.INPUTS_MV_COUNT, outputs.OUTPUT_COUNT,\n",
        "transfers.TRANSFER_COUNT, micros.MICRO_COUNT\n",
        "\n",
        "# 3.\n",
        "FROM `physionet-data.mimiciii_clinical.admissions` AS adm\n",
        "LEFT JOIN `physionet-data.mimiciii_clinical.patients` AS pts on adm.SUBJECT_ID = pts.SUBJECT_ID\n",
        "LEFT JOIN icustay on adm.HADM_ID = icustay.HADM_ID\n",
        "LEFT JOIN callout on adm.HADM_ID = callout.HADM_ID\n",
        "LEFT JOIN diags on adm.HADM_ID = diags.HADM_ID\n",
        "LEFT JOIN preps on adm.HADM_ID = preps.HADM_ID\n",
        "LEFT JOIN procs on adm.HADM_ID = procs.HADM_ID\n",
        "LEFT JOIN cpts on adm.HADM_ID = cpts.HADM_ID\n",
        "LEFT JOIN labs on adm.HADM_ID = labs.HADM_ID\n",
        "LEFT JOIN inputs_cv on adm.HADM_ID = inputs_cv.HADM_ID\n",
        "LEFT JOIN inputs_mv on adm.HADM_ID = inputs_mv.HADM_ID\n",
        "LEFT JOIN outputs on adm.HADM_ID = outputs.HADM_ID\n",
        "LEFT JOIN transfers on adm.HADM_ID = transfers.HADM_ID\n",
        "LEFT JOIN micros on adm.HADM_ID = micros.HADM_ID"
      ],
      "execution_count": null,
      "outputs": []
    },
    {
      "cell_type": "markdown",
      "metadata": {
        "id": "rXs112m3oVih"
      },
      "source": [
        "Let's have a quick look of the gathered dataset."
      ]
    },
    {
      "cell_type": "code",
      "metadata": {
        "id": "0_5OiaZYne0k"
      },
      "source": [
        "## YOUR CODE HERE ##\n",
        "# hint: use .head()"
      ],
      "execution_count": null,
      "outputs": []
    },
    {
      "cell_type": "markdown",
      "metadata": {
        "id": "VQiGao9KrKwZ"
      },
      "source": [
        "We could also print some general information of the dataframe using `.info()`. Here, the datatype 'object' would imply string/text in most of your use cases."
      ]
    },
    {
      "cell_type": "code",
      "metadata": {
        "id": "yDTdPxAYr-Ab"
      },
      "source": [
        "## YOUR CODE HERE ##"
      ],
      "execution_count": null,
      "outputs": []
    },
    {
      "cell_type": "markdown",
      "metadata": {
        "id": "rYxPIEMmOdKi"
      },
      "source": [
        "`.isna().sum()` calculates the number of missing entries per column. We could see from the following that there are missing values in several columns, which could be problematic in training machine learning models."
      ]
    },
    {
      "cell_type": "code",
      "metadata": {
        "id": "H1I16ZGOO49k"
      },
      "source": [
        "## YOUR CODE HERE ##"
      ],
      "execution_count": null,
      "outputs": []
    },
    {
      "cell_type": "markdown",
      "source": [
        "`.describe()` for some generic statistics for numerical columns:"
      ],
      "metadata": {
        "id": "YG1lqgQxj2dD"
      }
    },
    {
      "cell_type": "code",
      "source": [
        "## YOUR CODE HERE ##"
      ],
      "metadata": {
        "id": "BPHsePsJjr3Y"
      },
      "execution_count": null,
      "outputs": []
    },
    {
      "cell_type": "markdown",
      "metadata": {
        "id": "9RxWjDNByaYQ"
      },
      "source": [
        "---\n",
        "\n",
        "# 4. Data Preparation: Pre-processing Data"
      ]
    },
    {
      "cell_type": "markdown",
      "metadata": {
        "id": "iLfzSYFtu_zy"
      },
      "source": [
        "Now, we want to pre-process the data such that it is ready to be fed into a model. We also want to make our variables as useful as possible for the model to learn from, a.k.a. *feature engineering*. Typically, there are 5 types of feature engineering:\n",
        "\n",
        "* **Creating** <br> Derive new features from existing ones if they provide **additional value** when predicting our outcome (e.g. age from date of birth and admission; pulse pressure from the difference between systolic and diastolic blood pressures). <br>-\n",
        "* **Converting** <br> The raw dataset is most probably not ready for direct modelling. Some features need to be converted or normalized to **meet the model input requirements**. Before we feed the training dataset into our model, we usually need to convert all datatypes to numerical values for mathematical computation. <br>-\n",
        "* **Completing** <br> Most models require no **missing values** in input variables in order to work. Some other model algorithms work best when there are no missing values. If missing values exist in the dataset, we may need to handle them either by (i) filling in any missing values through estimation; (ii) excluding the variable as an input; (iii) excluding the learning samples with any missing value present. Working with a clinician could be very helpful in this regard to help you figure out what are the important variables to keep in a dataset. <br>-\n",
        "* **Correcting** <br> We may also come across **errors or inaccurate values** or even **duplicated entries** within a dataset. Try to correct these values or exclude the problematic samples with errors. One way to identify them is to look out for any outliers among features, or to perform Exploratory Data Analysis. <br>-\n",
        "* **Correlating** <br> Having overly **redundant information** within the input variable set would not help the model training process and could sometimes even lead to worse performances. One thing we can do is to perform basic statistical analysis. Which features within the dataset contribute significantly to our target variable? This can be tested both for numerical and categorical features in the given dataset."
      ]
    },
    {
      "cell_type": "markdown",
      "source": [
        "When approaching a new dataset, we have to try our best to understand it, go through each column and identify the corresponding pre-processing procedures.\n",
        "\n",
        "In the case of `df`, we outline these pre-processing steps as an example:\n",
        "* Creating\n",
        "  * A column depicting in-hospital death\n",
        "  * Age at admission\n",
        "  * Hospital length of stay\n",
        "* Correcting\n",
        "  * Age at admission\n",
        "  * Hospital length of stay\n",
        "* Converting\n",
        "  * Normalising count-based features\n",
        "* Completing\n",
        "  * Numerical features\n",
        "  * Categorical features\n"
      ],
      "metadata": {
        "id": "n5QnnyhFbAs8"
      }
    },
    {
      "cell_type": "markdown",
      "metadata": {
        "id": "Sy7l2wKx8VCL"
      },
      "source": [
        "---\n",
        "\n",
        "## 4.1 Creating\n",
        "\n"
      ]
    },
    {
      "cell_type": "markdown",
      "source": [
        "### In-hospital death\n",
        "\n",
        "As `HOSPITAL_EXPIRE_FLAG` indicates in-hospital death (see [MIMIC's documentation](https://mimic.physionet.org/about/mimic/)), it will be our **prediction target**.<br>Let's rename the variable `HOSPITAL_EXPIRE_FLAG` into a more descriptive/semantic one, `IN_HOSP_DEATH`."
      ],
      "metadata": {
        "id": "9dCJkAU5wQVG"
      }
    },
    {
      "cell_type": "markdown",
      "source": [
        "To create a new column in a given dataframe, simply specify the new column name and assign (`=`) a Series of values to it."
      ],
      "metadata": {
        "id": "lxc1RR_1o-JN"
      }
    },
    {
      "cell_type": "code",
      "source": [
        "## YOUR CODE HERE ##"
      ],
      "metadata": {
        "id": "FLg9Ivwkoxu4"
      },
      "execution_count": null,
      "outputs": []
    },
    {
      "cell_type": "code",
      "metadata": {
        "id": "MN1xrTbGuvSs"
      },
      "source": [
        "df.columns"
      ],
      "execution_count": null,
      "outputs": []
    },
    {
      "cell_type": "markdown",
      "source": [
        "We can then remove the redundant column `HOSPITAL_EXPIRE_FLAG`."
      ],
      "metadata": {
        "id": "JetR-9f5pphW"
      }
    },
    {
      "cell_type": "code",
      "source": [
        "df = df.drop(columns = ## YOUR CODE HERE ##)"
      ],
      "metadata": {
        "id": "nIpfJvNtpgDp"
      },
      "execution_count": null,
      "outputs": []
    },
    {
      "cell_type": "markdown",
      "source": [
        "Also note that it is already numeric (either 1 or 0) and has no missing values, thus can be used as is for model training."
      ],
      "metadata": {
        "id": "LyzwnS40m3c1"
      }
    },
    {
      "cell_type": "code",
      "metadata": {
        "id": "bePRvFoovXb-"
      },
      "source": [
        "## YOUR CODE HERE ##\n",
        "# check if there are missing values in the column `IN_HOSP_DEATH`\n",
        "# and examine the unique values"
      ],
      "execution_count": null,
      "outputs": []
    },
    {
      "cell_type": "markdown",
      "metadata": {
        "id": "xh3Wq9_DAGgm"
      },
      "source": [
        "#### Age at admission\n",
        "\n",
        "We don't have a column indicating age, which is a crucial factor in most clinical research questions and decision systems. However, we can calculate it based on `DOB` (Date of birth) and `ADMITTIME`. Let's first make new columns to convert the data types of `ADMITTIME` from datetime to date.\n"
      ]
    },
    {
      "cell_type": "code",
      "source": [
        "df[['ADMITTIME', 'DOB']].head()"
      ],
      "metadata": {
        "id": "skmM2vuyPW1n"
      },
      "execution_count": null,
      "outputs": []
    },
    {
      "cell_type": "code",
      "source": [
        "df['DOB'] = df['DOB'].dt.date"
      ],
      "metadata": {
        "id": "35R9WPWinhkB"
      },
      "execution_count": null,
      "outputs": []
    },
    {
      "cell_type": "code",
      "source": [
        "## YOUR CODE HERE ##\n",
        "# convert `ADMITTIME` from type datetime to date. Save it as a new column called `date_of_admission`"
      ],
      "metadata": {
        "id": "hro79CqvQEQ5"
      },
      "execution_count": null,
      "outputs": []
    },
    {
      "cell_type": "code",
      "source": [
        "df[['date_of_admission', 'DOB']].head()"
      ],
      "metadata": {
        "id": "bhVK9gK6QYZn"
      },
      "execution_count": null,
      "outputs": []
    },
    {
      "cell_type": "markdown",
      "source": [
        "They are now comparable! We then subtract `DOB` from `ADMITTIME`, then express the difference in years."
      ],
      "metadata": {
        "id": "jHXHCjUvqClY"
      }
    },
    {
      "cell_type": "code",
      "metadata": {
        "id": "hGSTg9AMvO9B"
      },
      "source": [
        "df['AGE'] = ((df['date_of_admission'] - df['DOB']) // 365).dt.days\n",
        "# Integer division (`//`) is used"
      ],
      "execution_count": null,
      "outputs": []
    },
    {
      "cell_type": "code",
      "source": [
        "df['AGE']"
      ],
      "metadata": {
        "id": "nyQjjgEroRQV"
      },
      "execution_count": null,
      "outputs": []
    },
    {
      "cell_type": "markdown",
      "source": [
        "Let's have a quick look of the results."
      ],
      "metadata": {
        "id": "NXU7FT7OqYAo"
      }
    },
    {
      "cell_type": "code",
      "source": [
        "## YOUR CODE HERE ##\n",
        "# make use of .describe() and .hist()"
      ],
      "metadata": {
        "id": "i6kPg4F_rqf_"
      },
      "execution_count": null,
      "outputs": []
    },
    {
      "cell_type": "markdown",
      "metadata": {
        "id": "S84brqIyzqdx"
      },
      "source": [
        "You may notice some weird values. We will address this later in the **Correcting** section."
      ]
    },
    {
      "cell_type": "markdown",
      "metadata": {
        "id": "om0aEHZ9y33O"
      },
      "source": [
        "#### Hospital length of stay\n",
        "\n",
        "Likewise, we can create a variable indicating hospital length of stay."
      ]
    },
    {
      "cell_type": "code",
      "metadata": {
        "id": "aJOAupwozESM"
      },
      "source": [
        "df['LOS'] = (df['DISCHTIME'] - df['ADMITTIME']) / np.timedelta64(1,'D')\n",
        "# subtract `ADMITTIME` from `DISCHTIME`, and express difference in days ('D').\n",
        "# Division (`/`) is used.\n",
        "\n",
        "df['LOS']"
      ],
      "execution_count": null,
      "outputs": []
    },
    {
      "cell_type": "code",
      "source": [
        "df['LOS'].hist()"
      ],
      "metadata": {
        "id": "Qt2izPBiwje2"
      },
      "execution_count": null,
      "outputs": []
    },
    {
      "cell_type": "markdown",
      "metadata": {
        "id": "JMsj8q95eoDv"
      },
      "source": [
        "If you can think of any other variables that can be useful, feel free to add them by yourselves!"
      ]
    },
    {
      "cell_type": "markdown",
      "metadata": {
        "id": "ZJHJy6Q28SAu"
      },
      "source": [
        "---\n",
        "\n",
        "## 4.2 Correcting"
      ]
    },
    {
      "cell_type": "markdown",
      "source": [
        "### Age at admission\n",
        "\n",
        "As we have seen previously, the age column contains certain suspicious values. Why is that?"
      ],
      "metadata": {
        "id": "xsHn_FzxwV5N"
      }
    },
    {
      "cell_type": "code",
      "metadata": {
        "id": "bCoXkhKs8ia_"
      },
      "source": [
        "## YOUR CODE HERE ##\n",
        "# make use of .hist()"
      ],
      "execution_count": null,
      "outputs": []
    },
    {
      "cell_type": "code",
      "source": [
        "## YOUR CODE HERE ##\n",
        "# select rows that satisfy df['AGE'] > 150; and the columns 'SUBJECT_ID' and 'AGE'."
      ],
      "metadata": {
        "id": "eLRboVZgSvKP"
      },
      "execution_count": null,
      "outputs": []
    },
    {
      "cell_type": "markdown",
      "metadata": {
        "id": "3CkPzQvj86Bp"
      },
      "source": [
        "A number of measures were performed to protect patient privacy. Quoting from [MIMIC-III's documentation](https://mimic.mit.edu/docs/iii/about/time/),\n",
        "\n",
        "> All dates in the database have been shifted to protect patient confidentiality. Dates will be internally consistent for the same patient, but randomly distributed in the future.\n",
        "\n",
        "> Dates of birth which occur in the present time are not true dates of birth. Furthermore, dates of birth which occur before the year 1900 occur if the patient is older than 89. In these cases, the patient’s age at their first admission has been fixed to 300.\n",
        "\n",
        "In other words, the true age of all patients with an imputed age of 300 are in fact censored. All we know is that they were older than 89. For illustration, let's simply set them to be 90."
      ]
    },
    {
      "cell_type": "code",
      "metadata": {
        "id": "RNiHNXoW9ky8"
      },
      "source": [
        "## YOUR CODE HERE ##\n",
        "# select rows that satisfy df['AGE'] > 150; and the column 'AGE'. Set them to 90"
      ],
      "execution_count": null,
      "outputs": []
    },
    {
      "cell_type": "code",
      "metadata": {
        "id": "xCE2mPLs-k9G"
      },
      "source": [
        "df['AGE'].hist()"
      ],
      "execution_count": null,
      "outputs": []
    },
    {
      "cell_type": "markdown",
      "metadata": {
        "id": "1MPvs3LI-20C"
      },
      "source": [
        "Note that the ~8,000 admissions centered around 0 refers to newborns. You may or may not keep them depending on the goals of your model."
      ]
    },
    {
      "cell_type": "markdown",
      "source": [
        "### Hospital length of stay"
      ],
      "metadata": {
        "id": "qHCDEjMEwalc"
      }
    },
    {
      "cell_type": "markdown",
      "source": [
        "When we closely examine the `LOS` variable we created, there are entries with negative LOS. Let's us set the minimum LOS to be 1 day."
      ],
      "metadata": {
        "id": "bucczJVSwo4J"
      }
    },
    {
      "cell_type": "code",
      "source": [
        "df['LOS'].describe()"
      ],
      "metadata": {
        "id": "rzmRyOE5wT-W"
      },
      "execution_count": null,
      "outputs": []
    },
    {
      "cell_type": "code",
      "source": [
        "## YOUR CODE HERE ##\n",
        "# select rows that satisfy df['LOS'] < 1; and the column 'LOS'. Set them to 90"
      ],
      "metadata": {
        "id": "tVc1TQJvwnPz"
      },
      "execution_count": null,
      "outputs": []
    },
    {
      "cell_type": "code",
      "source": [
        "df['LOS'].describe()"
      ],
      "metadata": {
        "id": "BHzNDwNdxZ-x"
      },
      "execution_count": null,
      "outputs": []
    },
    {
      "cell_type": "markdown",
      "metadata": {
        "id": "2cCBK5bNQnIz"
      },
      "source": [
        "---\n",
        "\n",
        "## 4.3 Converting\n",
        "\n",
        "As length of stay varies a lot across patients, using the daily count of events could be a more accurate depiction of severity than total events across the entire hospital stay.\n",
        "\n",
        "Here, we may normalize the total count values into daily average count values by computing the values and saving them as new columns. We would also append '_DAY' to the column names."
      ]
    },
    {
      "cell_type": "code",
      "metadata": {
        "id": "ER2dqpCF3mAl"
      },
      "source": [
        "## YOUR CODE HERE ##\n",
        "for col_name in ['CALLOUT_COUNT', 'PRES_COUNT', 'PROC_COUNT', 'CPT_COUNT', 'LAB_COUNT', 'INPUTS_CV_COUNT', 'INPUTS_MV_COUNT', 'OUTPUT_COUNT', 'TRANSFER_COUNT', 'MICRO_COUNT']:\n",
        "  df[col_name + '_DAY'] = ## divide the wildcard column `col_name` by `LOS`##"
      ],
      "execution_count": null,
      "outputs": []
    },
    {
      "cell_type": "code",
      "metadata": {
        "id": "lX93a3RK3iAK"
      },
      "source": [
        "df.info()"
      ],
      "execution_count": null,
      "outputs": []
    },
    {
      "cell_type": "code",
      "source": [
        "df[['LOS', 'PROC_COUNT', 'PROC_COUNT_DAY']].head()"
      ],
      "metadata": {
        "id": "JQOGl83mypb6"
      },
      "execution_count": null,
      "outputs": []
    },
    {
      "cell_type": "markdown",
      "metadata": {
        "id": "z2Z1Ai9gSWSy"
      },
      "source": [
        "Note that we did not normalize the column `DIAG_COUNT` just like the others. Why?"
      ]
    },
    {
      "cell_type": "markdown",
      "metadata": {
        "id": "PE1Ao1YcVsfo"
      },
      "source": [
        "---\n",
        "\n",
        "## 4.4 Completing"
      ]
    },
    {
      "cell_type": "markdown",
      "metadata": {
        "id": "86Vr10jJWUJN"
      },
      "source": [
        "### Numerical features\n",
        "\n",
        "Regarding the features related to counts and counts per day, we can simply fill all missing (presented as `NaN`) values with 0.\n",
        "\n",
        "Recall that as we are using `LEFT JOIN`, a missing value in these columns means that there are no corresponding entries, which is equivalent to a count of 0."
      ]
    },
    {
      "cell_type": "markdown",
      "source": [
        "![image.png](data:image/png;base64,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)"
      ],
      "metadata": {
        "id": "TMM_Xzb_zTDA"
      }
    },
    {
      "cell_type": "code",
      "source": [
        "df[['DIAG_COUNT', 'MICRO_COUNT', 'MICRO_COUNT_DAY', 'PRES_COUNT', 'PRES_COUNT_DAY']].head()"
      ],
      "metadata": {
        "id": "pSDsvruW0jSa"
      },
      "execution_count": null,
      "outputs": []
    },
    {
      "cell_type": "code",
      "metadata": {
        "id": "v2jynhcA4U6v"
      },
      "source": [
        "## YOUR CODE HERE ##\n",
        "# use .fillna() on columns `DIAG_COUNT` and `LOS_ICU`"
      ],
      "execution_count": null,
      "outputs": []
    },
    {
      "cell_type": "code",
      "metadata": {
        "id": "uagGZqVsW7WG"
      },
      "source": [
        "for col_name in ['CALLOUT_COUNT', 'PRES_COUNT', 'PROC_COUNT', 'CPT_COUNT', 'LAB_COUNT', 'INPUTS_CV_COUNT', 'INPUTS_MV_COUNT', 'OUTPUT_COUNT', 'TRANSFER_COUNT', 'MICRO_COUNT']:\n",
        "  df[col_name] = df[col_name].fillna(0) # .fillna() replaces all the missing values of that column with a value you specify\n",
        "  df[col_name + '_DAY'] = df[col_name + '_DAY'].fillna(0)"
      ],
      "execution_count": null,
      "outputs": []
    },
    {
      "cell_type": "code",
      "metadata": {
        "id": "KPsUobdw4DWu"
      },
      "source": [
        "df[['DIAG_COUNT', 'MICRO_COUNT', 'MICRO_COUNT_DAY', 'PRES_COUNT', 'PRES_COUNT_DAY']].head()"
      ],
      "execution_count": null,
      "outputs": []
    },
    {
      "cell_type": "markdown",
      "metadata": {
        "id": "i2XlA_00LM-Y"
      },
      "source": [
        "---\n",
        "\n",
        "### Categorical features\n",
        "\n",
        "Going through `df.isna().sum()`, there are three categorical variables containing missing values."
      ]
    },
    {
      "cell_type": "code",
      "source": [
        "## YOUR CODE HERE ##"
      ],
      "metadata": {
        "id": "5ZKm55us2jX_"
      },
      "execution_count": null,
      "outputs": []
    },
    {
      "cell_type": "markdown",
      "source": [
        "**`MARITAL_STATUS`**: fill in the default value"
      ],
      "metadata": {
        "id": "XJRmomWI2w-Q"
      }
    },
    {
      "cell_type": "code",
      "metadata": {
        "id": "G_T_FZi7LQYZ"
      },
      "source": [
        "df['MARITAL_STATUS'].value_counts(dropna = False)\n",
        "# by specifying dropna = False, the function counts the number of NaN too"
      ],
      "execution_count": null,
      "outputs": []
    },
    {
      "cell_type": "code",
      "metadata": {
        "id": "jGyIZ50JM-Tn"
      },
      "source": [
        "## YOUR CODE HERE ##\n",
        "# use .fillna() to fill in 'UNKNOWN (DEFAULT)'"
      ],
      "execution_count": null,
      "outputs": []
    },
    {
      "cell_type": "code",
      "metadata": {
        "id": "yvMNAzEJ5onW"
      },
      "source": [
        "df['MARITAL_STATUS'].value_counts(dropna = False) # no more NaN's!"
      ],
      "execution_count": null,
      "outputs": []
    },
    {
      "cell_type": "markdown",
      "metadata": {
        "id": "6mgB4Bpywmdp"
      },
      "source": [
        "**`RELIGION`**: fill in 'NOT SPECIFIED'"
      ]
    },
    {
      "cell_type": "code",
      "metadata": {
        "id": "y44yD-OFOHR-"
      },
      "source": [
        "df['RELIGION'].value_counts(dropna = False)"
      ],
      "execution_count": null,
      "outputs": []
    },
    {
      "cell_type": "code",
      "metadata": {
        "id": "xF4ST1_lwwKf"
      },
      "source": [
        "## YOUR CODE HERE ##\n",
        "# use .fillna() to fill in 'NOT SPECIFIED'"
      ],
      "execution_count": null,
      "outputs": []
    },
    {
      "cell_type": "code",
      "metadata": {
        "id": "tGxH9oSS6u6T"
      },
      "source": [
        "df['RELIGION'].value_counts(dropna = False) # no more NaN's!"
      ],
      "execution_count": null,
      "outputs": []
    },
    {
      "cell_type": "markdown",
      "metadata": {
        "id": "9Zz41vGLwccg"
      },
      "source": [
        "**`LANGUAGE`**: fill in the most frequent value\n",
        "\n",
        "As an example, we will fill in the most frequent value. You may consider other approaches too such as creating a new category of its own or discarding the variable."
      ]
    },
    {
      "cell_type": "code",
      "metadata": {
        "id": "bo9Yk8y6NbFu"
      },
      "source": [
        "df['LANGUAGE'].value_counts(dropna = False)"
      ],
      "execution_count": null,
      "outputs": []
    },
    {
      "cell_type": "code",
      "metadata": {
        "id": "TtjQkrTrOAw7"
      },
      "source": [
        "## YOUR CODE HERE ##\n",
        "# use .fillna() to fill in 'ENGL'"
      ],
      "execution_count": null,
      "outputs": []
    },
    {
      "cell_type": "code",
      "metadata": {
        "id": "mixVE3Nk6Wvt"
      },
      "source": [
        "df['LANGUAGE'].value_counts(dropna = False) # no more NaN's!"
      ],
      "execution_count": null,
      "outputs": []
    },
    {
      "cell_type": "markdown",
      "metadata": {
        "id": "vpSQmRck6-m3"
      },
      "source": [
        "Now, we can see that the only columns with missing values is `DEATHTIME` and `DIAGNOSIS`. We can leave it as is as they would not be used as predictors in the model in this tutorial (`DIAGNOSIS` is a text-based column which requires further processing; and having `DEATHTIME` would make little sense)."
      ]
    },
    {
      "cell_type": "code",
      "metadata": {
        "id": "YTFNA5KR65ND"
      },
      "source": [
        "df.isna().any()"
      ],
      "execution_count": null,
      "outputs": []
    },
    {
      "cell_type": "code",
      "source": [
        "df[['DEATHTIME', 'DIAGNOSIS']].head()"
      ],
      "metadata": {
        "id": "UZPyPHafW3W2"
      },
      "execution_count": null,
      "outputs": []
    },
    {
      "cell_type": "markdown",
      "metadata": {
        "id": "hiX6kCEIH0ZE"
      },
      "source": [
        "## 4.5 Encoding for Categorical Variables (Converting)"
      ]
    },
    {
      "cell_type": "markdown",
      "metadata": {
        "id": "4bZCNpFe_ybx"
      },
      "source": [
        "Most categorical variables contains text which usually cannot be directly used as model inputs. We have to convert them using either *Label encoding* or *one-hot encoding*. *Label encoding* represents each category as a distinct number, whereas one-hot coding represents each category as multiple binary variables, spanning across multiple columns.\n",
        "\n",
        "![encodings](https://miro.medium.com/max/3000/0*T5jaa2othYfXZX9W.)\n",
        "\n",
        "As a rule of thumb, *one-hot encoding* is better in most cases so that the machine learning model would not treat the encoded values as numerical features. However, tree-based model such as random forest can work with label encoding.\n",
        "\n",
        "To perform label encoding, we can apply the Scikit-Learn package and use `LabelEncoder()`. For one-hot encoding, you can use the `pd.get_dummies()` function from pandas. Let's look at a few examples."
      ]
    },
    {
      "cell_type": "markdown",
      "metadata": {
        "id": "pyXQm4cDKMZT"
      },
      "source": [
        "### **`ADMISSION_TYPE`**"
      ]
    },
    {
      "cell_type": "code",
      "metadata": {
        "id": "uQg-ve5oJkGo"
      },
      "source": [
        "## YOUR CODE HERE ##\n",
        "tmp_df_admissions = pd.get_dummies(          , prefix = 'ADMISSION_TYPE')"
      ],
      "execution_count": null,
      "outputs": []
    },
    {
      "cell_type": "code",
      "source": [
        "tmp_df_admissions"
      ],
      "metadata": {
        "id": "QcNkmIAB5qqw"
      },
      "execution_count": null,
      "outputs": []
    },
    {
      "cell_type": "code",
      "metadata": {
        "id": "N7FPqZxqK3M5"
      },
      "source": [
        "df = pd.concat([df, tmp_df_admissions], axis = 1)\n",
        "# combine the above temporary dataframe with the original dataframe\n",
        "# axis = 1 specifies that we want to stack them horizontally not vertically"
      ],
      "execution_count": null,
      "outputs": []
    },
    {
      "cell_type": "code",
      "metadata": {
        "id": "iiOoIeZILTlU"
      },
      "source": [
        "df.info()"
      ],
      "execution_count": null,
      "outputs": []
    },
    {
      "cell_type": "markdown",
      "metadata": {
        "id": "LKlw27xRKVhb"
      },
      "source": [
        "### **`GENDER`**\n",
        "\n",
        "As the column only takes on two values 'M' and 'F', it is easier to simply do a logical operation and save the results as a new column."
      ]
    },
    {
      "cell_type": "code",
      "metadata": {
        "id": "7hFdKZI5KW58"
      },
      "source": [
        "df['GENDER'].value_counts()"
      ],
      "execution_count": null,
      "outputs": []
    },
    {
      "cell_type": "code",
      "metadata": {
        "id": "ybf_X9lXKa38"
      },
      "source": [
        "## YOUR CODE HERE ##\n",
        "# make a column 'GENDER_F' that converts 'GENDER' into binary values"
      ],
      "execution_count": null,
      "outputs": []
    },
    {
      "cell_type": "code",
      "metadata": {
        "id": "AXoOJbOiLfv5"
      },
      "source": [
        "df['GENDER_F'].value_counts()"
      ],
      "execution_count": null,
      "outputs": []
    },
    {
      "cell_type": "markdown",
      "metadata": {
        "id": "HDTcBKSvLjRT"
      },
      "source": [
        "### **`RELIGION`**\n",
        "\n",
        "The column contains several categories but many of them have a limited sample size and may have limited impact for model training. In this case, it is advisable to retain the most prevalent categories and group the rest into an 'OTHERS' category before one-hot encoding."
      ]
    },
    {
      "cell_type": "code",
      "metadata": {
        "id": "VNwOT-GdKDXF"
      },
      "source": [
        "df['RELIGION'].value_counts()"
      ],
      "execution_count": null,
      "outputs": []
    },
    {
      "cell_type": "code",
      "source": [
        "df['RELIGION']"
      ],
      "metadata": {
        "id": "E-BZ9YzG8CRj"
      },
      "execution_count": null,
      "outputs": []
    },
    {
      "cell_type": "code",
      "source": [
        "## YOUR CODE HERE ##\n",
        "# Make a temporary list of categories. Retain the top **3** categories, plus 'OTHERS'"
      ],
      "metadata": {
        "id": "i6pOmTqgmCjw"
      },
      "execution_count": null,
      "outputs": []
    },
    {
      "cell_type": "code",
      "metadata": {
        "id": "Dd6PXHI1NCoI"
      },
      "source": [
        "# specify the list of categories for the column. Replace everything that doesn't belong to the top categories with 'OTHERS'\n",
        "tmp_df = df['RELIGION'].astype(pd.CategoricalDtype(tmp_categories)).fillna('OTHERS')\n",
        "\n",
        "tmp_df"
      ],
      "execution_count": null,
      "outputs": []
    },
    {
      "cell_type": "code",
      "source": [
        "# Make a temporary list of categories. Retain the top **3** categories, plus 'OTHERS'\n",
        "# create a temporary dataframe with the modified categories\n",
        "tmp_df = pd.get_dummies(            , prefix =         )"
      ],
      "metadata": {
        "id": "-DpDy3dh77pp"
      },
      "execution_count": null,
      "outputs": []
    },
    {
      "cell_type": "code",
      "source": [
        "# finally, add to our main dataframe\n",
        "df = pd.concat([df, tmp_df], axis = 1)"
      ],
      "metadata": {
        "id": "JXFwj6GO7cXl"
      },
      "execution_count": null,
      "outputs": []
    },
    {
      "cell_type": "markdown",
      "metadata": {
        "id": "HLXrZ5mLPC9H"
      },
      "source": [
        "### Other Categorical columns\n",
        "\n",
        "Likewise, retain the top 3 categories for `INSURANCE`, `LANGUAGE`, `MARITAL STATUS` and `ETHNICITY`."
      ]
    },
    {
      "cell_type": "code",
      "metadata": {
        "id": "sNzOn7a8Jqqx"
      },
      "source": [
        "# Make a temporary list of categories. Retain the top **3** categories, plus 'OTHERS'\n",
        "tmp_categories = list(df['INSURANCE'].value_counts()[:3].keys()) + ['OTHERS']\n",
        "\n",
        "# specify the list of categories for the column. Replace everything that doesn't belong to the top categories with 'OTHERS'\n",
        "tmp_df = df['INSURANCE'].astype(pd.CategoricalDtype(tmp_categories)).fillna('OTHERS')\n",
        "\n",
        "# create a temporary dataframe with the modified categories\n",
        "tmp_df = pd.get_dummies(tmp_df, prefix = 'INSURANCE')\n",
        "\n",
        "# finally, add to our main dataframe\n",
        "df = pd.concat([df, tmp_df], axis = 1)\n",
        "\n",
        "tmp_df"
      ],
      "execution_count": null,
      "outputs": []
    },
    {
      "cell_type": "code",
      "source": [
        "# Make a temporary list of categories. Retain the top **3** categories, plus 'OTHERS'\n",
        "tmp_categories = list(df['MARITAL_STATUS'].value_counts()[:3].keys()) + ['OTHERS']\n",
        "\n",
        "# specify the list of categories for the column. Replace everything that doesn't belong to the top categories with 'OTHERS'\n",
        "tmp_df = df['MARITAL_STATUS'].astype(pd.CategoricalDtype(tmp_categories)).fillna('OTHERS')\n",
        "\n",
        "# create a temporary dataframe with the modified categories\n",
        "tmp_df = pd.get_dummies(tmp_df, prefix = 'MARITAL_STATUS')\n",
        "\n",
        "# finally, add to our main dataframe\n",
        "df = pd.concat([df, tmp_df], axis = 1)\n",
        "\n",
        "tmp_df"
      ],
      "metadata": {
        "id": "DdwoxWTJ80PE"
      },
      "execution_count": null,
      "outputs": []
    },
    {
      "cell_type": "code",
      "source": [
        "# Make a temporary list of categories. Retain the top **3** categories, plus 'OTHERS'\n",
        "tmp_categories = list(df['LANGUAGE'].value_counts()[:3].keys()) + ['OTHERS']\n",
        "\n",
        "# specify the list of categories for the column. Replace everything that doesn't belong to the top categories with 'OTHERS'\n",
        "tmp_df = df['LANGUAGE'].astype(pd.CategoricalDtype(tmp_categories)).fillna('OTHERS')\n",
        "\n",
        "# create a temporary dataframe with the modified categories\n",
        "tmp_df = pd.get_dummies(tmp_df, prefix = 'LANGUAGE')\n",
        "\n",
        "# finally, add to our main dataframe\n",
        "df = pd.concat([df, tmp_df], axis = 1)\n",
        "\n",
        "tmp_df"
      ],
      "metadata": {
        "id": "9mvbdW1t840r"
      },
      "execution_count": null,
      "outputs": []
    },
    {
      "cell_type": "code",
      "source": [
        "# Make a temporary list of categories. Retain the top **3** categories, plus 'OTHERS'\n",
        "tmp_categories = list(df['ETHNICITY'].value_counts()[:3].keys()) + ['OTHERS']\n",
        "\n",
        "# specify the list of categories for the column. Replace everything that doesn't belong to the top categories with 'OTHERS'\n",
        "tmp_df = df['ETHNICITY'].astype(pd.CategoricalDtype(tmp_categories)).fillna('OTHERS')\n",
        "\n",
        "# create a temporary dataframe with the modified categories\n",
        "tmp_df = pd.get_dummies(tmp_df, prefix = 'ETHNICITY')\n",
        "\n",
        "# finally, add to our main dataframe\n",
        "df = pd.concat([df, tmp_df], axis = 1)\n",
        "\n",
        "tmp_df"
      ],
      "metadata": {
        "id": "5mUNlqJP89xR"
      },
      "execution_count": null,
      "outputs": []
    },
    {
      "cell_type": "code",
      "source": [
        "# and this is our cleaned final dataframe!\n",
        "df"
      ],
      "metadata": {
        "id": "HGnoGKekmzFi"
      },
      "execution_count": null,
      "outputs": []
    },
    {
      "cell_type": "markdown",
      "source": [
        "---\n",
        "\n",
        "---\n",
        "\n",
        "# Exploratory Data Analysis (EDA)\n",
        "\n",
        "The goals of EDA are to:\n",
        "\n",
        "1. **understand** the data and uncover any problems inherent in the dataset\n",
        "2. determine if the given dataset is **relevant and sufficient** to answer a specific research question or train a decision support system based on it\n",
        "3. determine the data **pre-processing or feature engineering** steps required for model training (as discussed in the previous tutorial)\n",
        "4. **refine** the research problem and/or objectives based on what you have learned about the data\n",
        "\n",
        "Like many other steps in data analysis, EDA is an iterative process. Here, we will introduce some tools you may use when exploring a dataset. While not demostrated below, one package that may come in handy in EDA is [Pandas Profiling](https://pandas-profiling.github.io/pandas-profiling/docs/master/rtd/)."
      ],
      "metadata": {
        "id": "3GO9RsCq0Dn9"
      }
    },
    {
      "cell_type": "markdown",
      "source": [
        "## 2.1. Prediction Target: `IN_HOSP_DEATH`"
      ],
      "metadata": {
        "id": "meYBqubM3_0I"
      }
    },
    {
      "cell_type": "markdown",
      "source": [
        "What is the number of patients who died within the dataset? What is the in-hospital death rate?"
      ],
      "metadata": {
        "id": "rIHZpS1xBcXs"
      }
    },
    {
      "cell_type": "code",
      "source": [
        "## YOUR CODE HERE ##"
      ],
      "metadata": {
        "id": "Rz6Y26OzzrsS"
      },
      "execution_count": null,
      "outputs": []
    },
    {
      "cell_type": "markdown",
      "source": [
        "---\n",
        "\n",
        "## 2.2. Categorical features\n",
        "\n",
        "We can tally and visualise each feature by category using bar charts. You may also apply statistical tests to see if there are significant differences between groups.\n",
        "\n",
        "For simple visualizations in Python, the package [seaborn](https://seaborn.pydata.org/) may come in handy.\n"
      ],
      "metadata": {
        "id": "EnN1-ldJ60Qd"
      }
    },
    {
      "cell_type": "markdown",
      "source": [
        "**`GENDER`**"
      ],
      "metadata": {
        "id": "FBQ4rxKf8dFd"
      }
    },
    {
      "cell_type": "markdown",
      "source": [
        "What is the average in-hospital mortality rate by gender?"
      ],
      "metadata": {
        "id": "wkKANCdq8on_"
      }
    },
    {
      "cell_type": "code",
      "source": [
        "## YOUR CODE HERE ##\n",
        "# hint: use .groupby() followed by .mean()"
      ],
      "metadata": {
        "id": "JYEcQ8AM8i4d"
      },
      "execution_count": null,
      "outputs": []
    },
    {
      "cell_type": "markdown",
      "source": [
        "Visualise it using `sns.barplot()`"
      ],
      "metadata": {
        "id": "NbSAeiq28xvh"
      }
    },
    {
      "cell_type": "code",
      "source": [
        "## YOUR CODE HERE ##"
      ],
      "metadata": {
        "id": "W_DDwIX88wT6"
      },
      "execution_count": null,
      "outputs": []
    },
    {
      "cell_type": "markdown",
      "source": [
        "What is the average in-hospital mortality rate by each of the following?\n",
        "\n",
        "* `ADMISSION_TYPE`\n",
        "* `INSURANCE`\n",
        "\n",
        "For each feature, also visualise it using `sns.barplot()`."
      ],
      "metadata": {
        "id": "GrWq2LbLCBhV"
      }
    },
    {
      "cell_type": "code",
      "source": [
        "## ADMISSION_TYPE\n",
        "## YOUR CODE HERE ##"
      ],
      "metadata": {
        "id": "9F0j70UwCbhY"
      },
      "execution_count": null,
      "outputs": []
    },
    {
      "cell_type": "code",
      "source": [
        "## INSURANCE\n",
        "## YOUR CODE HERE ##"
      ],
      "metadata": {
        "id": "TdSvtrxqCeFX"
      },
      "execution_count": null,
      "outputs": []
    },
    {
      "cell_type": "markdown",
      "metadata": {
        "id": "ZmiJJhLnhK3t"
      },
      "source": [
        "## 2.3. Numerical features\n",
        "\n",
        "For univariate analysis, we can calculate basic statistics and visualise them using box plots, histograms and density plots. For multivariate, we can use scatter plots (for two numerical features) and side-by-side histograms (for one numerical and one categorical feature)."
      ]
    },
    {
      "cell_type": "markdown",
      "source": [
        "**`AGE`**"
      ],
      "metadata": {
        "id": "9wDCIgwdATFT"
      }
    },
    {
      "cell_type": "markdown",
      "source": [
        "Calculate some basic statistics for the variable `AGE`."
      ],
      "metadata": {
        "id": "7Z_2B8MMCoDt"
      }
    },
    {
      "cell_type": "code",
      "metadata": {
        "id": "K5JLm5MShMDR"
      },
      "source": [
        "## YOUR CODE HERE ##"
      ],
      "execution_count": null,
      "outputs": []
    },
    {
      "cell_type": "markdown",
      "metadata": {
        "id": "ayDAF4KOdjOL"
      },
      "source": [
        "Visualise the age distribution using `sns.histplot()` and `sns.boxplot()`."
      ]
    },
    {
      "cell_type": "code",
      "metadata": {
        "id": "BKrHYmC3ZDLL"
      },
      "source": [
        "# histogram\n",
        "## YOUR CODE HERE ##"
      ],
      "execution_count": null,
      "outputs": []
    },
    {
      "cell_type": "code",
      "metadata": {
        "id": "KuakUV65Z5I6"
      },
      "source": [
        "# box plot\n",
        "## YOUR CODE HERE ##"
      ],
      "execution_count": null,
      "outputs": []
    },
    {
      "cell_type": "markdown",
      "source": [
        "Plot a box plot to show the age distribution by `IN_HOSP_DEATH`"
      ],
      "metadata": {
        "id": "Z-qvNXR2C9Zr"
      }
    },
    {
      "cell_type": "code",
      "source": [
        "# box plot by category\n",
        "## YOUR CODE HERE ##"
      ],
      "metadata": {
        "id": "fES-_bQKAhXq"
      },
      "execution_count": null,
      "outputs": []
    },
    {
      "cell_type": "code",
      "metadata": {
        "id": "_gg0bwgGax0z"
      },
      "source": [
        "# side-by-side histrograms\n",
        "g = sns.FacetGrid(df, col = 'IN_HOSP_DEATH', sharey = False, height = 6) # height = 6 specifies the plot size here\n",
        "g.map(sns.histplot, 'AGE', bins = 20)"
      ],
      "execution_count": null,
      "outputs": []
    },
    {
      "cell_type": "markdown",
      "metadata": {
        "id": "8mpdxE2RaV5G"
      },
      "source": [
        "**Discussion**:\n",
        "\n",
        "* What can you observe from the figure above?\n",
        "* Based on the figure above, shall we remove the infants (e.g. `AGE` < 1) from our training dataset?"
      ]
    },
    {
      "cell_type": "markdown",
      "metadata": {
        "id": "2aK0r-wwAThs"
      },
      "source": [
        "**`DIAG_COUNT`**"
      ]
    },
    {
      "cell_type": "markdown",
      "source": [
        "Visualise the distribution of `DIAG_COUNT` using `sns.histplot()` and `sns.boxplot()`."
      ],
      "metadata": {
        "id": "87q543hGDcYg"
      }
    },
    {
      "cell_type": "code",
      "metadata": {
        "id": "ha7M0KEEDrnu"
      },
      "source": [
        "# histogram\n",
        "## YOUR CODE HERE ##"
      ],
      "execution_count": null,
      "outputs": []
    },
    {
      "cell_type": "code",
      "metadata": {
        "id": "zqyWTgVCDrnu"
      },
      "source": [
        "# box plot\n",
        "## YOUR CODE HERE ##"
      ],
      "execution_count": null,
      "outputs": []
    },
    {
      "cell_type": "code",
      "metadata": {
        "id": "K3t56_UOcxHR"
      },
      "source": [
        "g = sns.FacetGrid(df, col = 'IN_HOSP_DEATH', sharey = False, height = 6)\n",
        "g.map(sns.histplot, 'DIAG_COUNT', bins = 20, kde = True)"
      ],
      "execution_count": null,
      "outputs": []
    },
    {
      "cell_type": "markdown",
      "metadata": {
        "id": "JdnL-K_blExs"
      },
      "source": [
        "As a reference for you, the following code plots the distributions of all numerical features for the two patient groups using a `For` loop."
      ]
    },
    {
      "cell_type": "code",
      "metadata": {
        "id": "aH6wxvbdlYW5"
      },
      "source": [
        "numerical_feaures = ['AGE', 'DIAG_COUNT', 'CALLOUT_COUNT_DAY', 'PRES_COUNT_DAY',\n",
        "                     'PROC_COUNT_DAY', 'CPT_COUNT_DAY', 'LAB_COUNT_DAY',\n",
        "                     'INPUTS_CV_COUNT_DAY', 'INPUTS_MV_COUNT_DAY', 'OUTPUT_COUNT_DAY',\n",
        "                     'TRANSFER_COUNT_DAY', 'MICRO_COUNT_DAY', 'LOS', 'LOS_ICU']\n",
        "\n",
        "for col_name in numerical_feaures:\n",
        "  print(col_name)\n",
        "  g = sns.FacetGrid(df, col = 'IN_HOSP_DEATH', sharey = False, height = 6)\n",
        "  g.map(sns.histplot, col_name, bins = 20, kde = True)\n",
        "  plt.show()\n",
        "  print('_'*20)"
      ],
      "execution_count": null,
      "outputs": []
    }
  ]
}