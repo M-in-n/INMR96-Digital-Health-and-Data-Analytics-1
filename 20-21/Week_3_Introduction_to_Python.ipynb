{
  "nbformat": 4,
  "nbformat_minor": 0,
  "metadata": {
    "colab": {
      "name": "Week 3 Introduction to Python",
      "provenance": [],
      "collapsed_sections": [
        "rkmZF1sQyfYW"
      ],
      "toc_visible": true,
      "authorship_tag": "ABX9TyNlxf3iTGE6bFljBEj9hv19",
      "include_colab_link": true
    },
    "kernelspec": {
      "name": "python3",
      "display_name": "Python 3"
    }
  },
  "cells": [
    {
      "cell_type": "markdown",
      "metadata": {
        "id": "view-in-github",
        "colab_type": "text"
      },
      "source": [
        "<a href=\"https://colab.research.google.com/github/nbchan/INMR96-Digital-Health-and-Data-Analytics/blob/main/Week_3_Introduction_to_Python.ipynb\" target=\"_parent\"><img src=\"https://colab.research.google.com/assets/colab-badge.svg\" alt=\"Open In Colab\"/></a>"
      ]
    },
    {
      "cell_type": "markdown",
      "metadata": {
        "id": "kTcsRRinQTVd"
      },
      "source": [
        "# Printing values\r\n",
        "\r\n",
        "Use `print()` for displaying outputs on screen. \r\n",
        "\r\n",
        "If you do not specify `print`, only the last output within a cell will be shown."
      ]
    },
    {
      "cell_type": "code",
      "metadata": {
        "colab": {
          "base_uri": "https://localhost:8080/"
        },
        "id": "3LzwhYhuRhlw",
        "outputId": "1e175fc1-9f18-4fb0-d049-46867d89b8a0"
      },
      "source": [
        "print('Hello World!')"
      ],
      "execution_count": null,
      "outputs": [
        {
          "output_type": "stream",
          "text": [
            "Hello World!\n"
          ],
          "name": "stdout"
        }
      ]
    },
    {
      "cell_type": "markdown",
      "metadata": {
        "id": "JZR0UkETd7MN"
      },
      "source": [
        "# Comments\r\n",
        "\r\n",
        "Apart from using text cells, you can also add comments within code cells to enchance clarity of your code. \r\n",
        "\r\n",
        "In code cells, anything written after a `#` would be regarded as a comment and not be processed."
      ]
    },
    {
      "cell_type": "code",
      "metadata": {
        "colab": {
          "base_uri": "https://localhost:8080/"
        },
        "id": "8lX_VIXNeaY9",
        "outputId": "8ce48220-281b-4ad2-9a1f-2bcd875997e4"
      },
      "source": [
        "print('Hello World!') # This is a comment\r\n",
        "print('Script goes on')"
      ],
      "execution_count": null,
      "outputs": [
        {
          "output_type": "stream",
          "text": [
            "Hello World!\n",
            "Script goes on\n"
          ],
          "name": "stdout"
        }
      ]
    },
    {
      "cell_type": "markdown",
      "metadata": {
        "id": "NI-fLUPKVwXT"
      },
      "source": [
        "# Variable Types"
      ]
    },
    {
      "cell_type": "markdown",
      "metadata": {
        "id": "nHPfsZuYSDa7"
      },
      "source": [
        "* Variables are how values are stored in a Python script.\r\n",
        "* You assign a value using the `=` operator\r\n",
        "* Each variable should be assigned with a unique variable name. If you assign a value to an existing variable, the old value will be overwritten. \r\n",
        "* There are different variable types, the basic ones include:\r\n",
        "  * Number (integers and decimals)\r\n",
        "  * Booleans (True or False)\r\n",
        "  * Text/String\r\n",
        "  * Date\r\n",
        "  * List\r\n",
        "  * Dictionary\r\n",
        "* You cannot perform operations that are incompatible with the variable data type. For example, you cannot multiply two variables with type text. \r\n",
        "\r\n",
        "You can use `type()` to inspect a variable's data type when needed."
      ]
    },
    {
      "cell_type": "code",
      "metadata": {
        "colab": {
          "base_uri": "https://localhost:8080/"
        },
        "id": "e08CtMZ9Sf98",
        "outputId": "06e4e247-b76c-4a98-d1ee-e382a7d3aed6"
      },
      "source": [
        "person_name = 'Johnson'\r\n",
        "type(person_name)"
      ],
      "execution_count": null,
      "outputs": [
        {
          "output_type": "execute_result",
          "data": {
            "text/plain": [
              "str"
            ]
          },
          "metadata": {
            "tags": []
          },
          "execution_count": 11
        }
      ]
    },
    {
      "cell_type": "code",
      "metadata": {
        "colab": {
          "base_uri": "https://localhost:8080/"
        },
        "id": "W8lCdx87V8AK",
        "outputId": "c2d6d217-50b6-4fc3-8bf4-645660cf6cea"
      },
      "source": [
        "person_age = 56\r\n",
        "type(person_age)"
      ],
      "execution_count": null,
      "outputs": [
        {
          "output_type": "execute_result",
          "data": {
            "text/plain": [
              "int"
            ]
          },
          "metadata": {
            "tags": []
          },
          "execution_count": 10
        }
      ]
    },
    {
      "cell_type": "markdown",
      "metadata": {
        "id": "P6XAp2AKWywf"
      },
      "source": [
        "# Basic Arithmetic Operators"
      ]
    },
    {
      "cell_type": "markdown",
      "metadata": {
        "id": "lPjwjlsFWrcM"
      },
      "source": [
        "The following table outlines the basic operators for arithmetics.\r\n",
        "\r\n",
        "| Operator | Description | Example | Output |\r\n",
        "|----------| ----------- | ------- | ------ |\r\n",
        "| `+`  | Addition           | `7 + 2`  | `9`   | \r\n",
        "| `-`  | Subtraction        | `7 - 2`  | `5`   |\r\n",
        "| `/`  | Division           | `7 / 2`  | `3.5` |\r\n",
        "| `//` | Integer division | `7 // 2` | `3`   | \r\n",
        "| `*`  | Multiplication     | `7 * 2` | `14`  | \r\n",
        "| `%`  | Modulus            | `7 % 3`  | 1   |\r\n",
        "| `**` | Exponentiation | `7 ** 2` | `49` | \r\n",
        "\r\n",
        "We can perform calculations based on the variables we create. "
      ]
    },
    {
      "cell_type": "code",
      "metadata": {
        "colab": {
          "base_uri": "https://localhost:8080/"
        },
        "id": "G4Am1maPXS2e",
        "outputId": "294ffbb0-6dab-4adc-97ae-bd4dbbd63456"
      },
      "source": [
        "a = 7\r\n",
        "b = 2\r\n",
        "\r\n",
        "print(a + b)\r\n",
        "print(a / b)\r\n",
        "print(a ** b)"
      ],
      "execution_count": null,
      "outputs": [
        {
          "output_type": "stream",
          "text": [
            "9\n",
            "3.5\n",
            "49\n"
          ],
          "name": "stdout"
        }
      ]
    },
    {
      "cell_type": "markdown",
      "metadata": {
        "id": "6P7jCjGsYk5-"
      },
      "source": [
        "#  Comparison/Relational Operators\r\n",
        "\r\n",
        "* Comparison operators compare two values and output a Boolean variable (`True` or `False`).\r\n",
        "\r\n",
        "| Operator | Description | Example | Output |\r\n",
        "|----------| ----------- | ------- | ------ |\r\n",
        "| `==` | True if values are equal     | `2 == 2`  | True  | \r\n",
        "| `!=` | True if values are not equal | `2 != 1`  | True  |\r\n",
        "| `>`  | Greater than                 | `100 > 2` | True  |\r\n",
        "| `<`  | Less than                    | `2 < 2`  | False | \r\n",
        "| `>=` | Greater than or equal        | `5 >= 5`  | True  | \r\n",
        "| `<=` | Less than or equal           | `8 <= 2`  | False  |"
      ]
    },
    {
      "cell_type": "code",
      "metadata": {
        "colab": {
          "base_uri": "https://localhost:8080/"
        },
        "id": "3oqrl68UbXtg",
        "outputId": "990533ca-ebe5-4b6a-a2db-e0ac35cfe9b0"
      },
      "source": [
        "print(person_name == 'johnson') # note that text variables are case sensitive\r\n",
        "print(a / b < 3)\r\n",
        "print(a * b > a + b)"
      ],
      "execution_count": null,
      "outputs": [
        {
          "output_type": "stream",
          "text": [
            "False\n",
            "False\n",
            "True\n"
          ],
          "name": "stdout"
        }
      ]
    },
    {
      "cell_type": "markdown",
      "metadata": {
        "id": "LNWrH95hYcf6"
      },
      "source": [
        "#  Logic operators\r\n",
        "\r\n",
        "* Logic operators combine two or more boolean variables into one.\r\n",
        "\r\n",
        "| Operator | Description | Example | Output |\r\n",
        "|----------| ----------- | ------- | ------ |\r\n",
        "| `and` | check if both conditions are true | `2 > 1 and 3 > 4` | False  | \r\n",
        "| `or`  | check if either condition is true | `2 < 3 or 1 > 8`  | True  |\r\n",
        "| `not` | reverses the logical value | `not 2 < 3` | True |"
      ]
    },
    {
      "cell_type": "markdown",
      "metadata": {
        "id": "6ojj317Cb2oI"
      },
      "source": [
        "# Exercise 1\r\n",
        "\r\n",
        "Given the a person's height is 5 ft 9 inches, use the variables below to compute the person's height in meters and assign it to `person_height_m`.\r\n",
        "\r\n",
        "(1 feet = 0.3048 meters; 1 inch = 0.0254 meters)"
      ]
    },
    {
      "cell_type": "code",
      "metadata": {
        "id": "IlZBDbI0b1Q9"
      },
      "source": [
        "person_height_ft = 5\r\n",
        "person_height_inch = 9"
      ],
      "execution_count": null,
      "outputs": []
    },
    {
      "cell_type": "markdown",
      "metadata": {
        "id": "RHMovLZzdK1-"
      },
      "source": [
        "## Suggested solution"
      ]
    },
    {
      "cell_type": "code",
      "metadata": {
        "colab": {
          "base_uri": "https://localhost:8080/"
        },
        "id": "1s1C6b1AdMrw",
        "outputId": "d4f4e40c-ba38-4af9-da98-97bc8e3d2469"
      },
      "source": [
        "person_height_m = person_height_ft * 0.3048 + person_height_inch * 0.0254\r\n",
        "person_height_m"
      ],
      "execution_count": null,
      "outputs": [
        {
          "output_type": "execute_result",
          "data": {
            "text/plain": [
              "1.7526"
            ]
          },
          "metadata": {
            "tags": []
          },
          "execution_count": 26
        }
      ]
    },
    {
      "cell_type": "markdown",
      "metadata": {
        "id": "tkkR7glafLBn"
      },
      "source": [
        "# Exercise 2\r\n",
        "\r\n",
        "The person above weighs 111 kilograms. What is the person's body-mass index (BMI; assign to `person_bmi`)?\r\n",
        "\r\n",
        "Is the person overweight based on the criteria BMI > 25 (assign to `person_overweight`)?"
      ]
    },
    {
      "cell_type": "code",
      "metadata": {
        "id": "L_T2nz-hfLXG"
      },
      "source": [
        "person_weight = 111"
      ],
      "execution_count": null,
      "outputs": []
    },
    {
      "cell_type": "markdown",
      "metadata": {
        "id": "PQrXW4H5gyx1"
      },
      "source": [
        "## Suggested Solution"
      ]
    },
    {
      "cell_type": "code",
      "metadata": {
        "colab": {
          "base_uri": "https://localhost:8080/"
        },
        "id": "SnbykzPze6sd",
        "outputId": "8a39d058-73a8-4def-8fa8-d51afb23fa51"
      },
      "source": [
        "person_bmi = person_weight / (person_height_m ** 2) \r\n",
        "person_bmi"
      ],
      "execution_count": null,
      "outputs": [
        {
          "output_type": "execute_result",
          "data": {
            "text/plain": [
              "36.13743837443567"
            ]
          },
          "metadata": {
            "tags": []
          },
          "execution_count": 21
        }
      ]
    },
    {
      "cell_type": "code",
      "metadata": {
        "colab": {
          "base_uri": "https://localhost:8080/"
        },
        "id": "WNdun93mgpUN",
        "outputId": "a7e487ee-3e1e-44f5-fd77-dbf709a64356"
      },
      "source": [
        "person_overweight = person_bmi > 25\r\n",
        "person_overweight"
      ],
      "execution_count": null,
      "outputs": [
        {
          "output_type": "execute_result",
          "data": {
            "text/plain": [
              "True"
            ]
          },
          "metadata": {
            "tags": []
          },
          "execution_count": 22
        }
      ]
    },
    {
      "cell_type": "markdown",
      "metadata": {
        "id": "tBhhGZf4gxfr"
      },
      "source": [
        "# Strings"
      ]
    },
    {
      "cell_type": "markdown",
      "metadata": {
        "id": "x-5f5C6Og34P"
      },
      "source": [
        "* String data types store sequences of characters.\r\n",
        "* These must be enclosed in quotes (`'`) or double-quotes (`\"`) to distinguish them from variable names.\r\n",
        "* You can concatenate multiple string variables with `+`\r\n",
        "* The `len()` function can return the length of a string (total number of characters).\r\n",
        "* Strings also have many other [built-in functions](https://docs.python.org/2/library/stdtypes.html#string-methods) used to manipulate them."
      ]
    },
    {
      "cell_type": "code",
      "metadata": {
        "colab": {
          "base_uri": "https://localhost:8080/"
        },
        "id": "wwe6SMegjTx-",
        "outputId": "c7789503-febe-4606-9cb8-d57115129278"
      },
      "source": [
        "string_greeting = \"Hi, this is \"\r\n",
        "string_greeting_name = string_greeting + person_name\r\n",
        "print (string_greeting_name)"
      ],
      "execution_count": null,
      "outputs": [
        {
          "output_type": "stream",
          "text": [
            "Hi, this is Johnson\n"
          ],
          "name": "stdout"
        }
      ]
    },
    {
      "cell_type": "markdown",
      "metadata": {
        "id": "yN0vnQIVhlxC"
      },
      "source": [
        "*Caveat*: Sometimes you have to be aware of numbers stored as strings in a dataset. They are treated differently and have different behaviours. "
      ]
    },
    {
      "cell_type": "code",
      "metadata": {
        "colab": {
          "base_uri": "https://localhost:8080/"
        },
        "id": "EPy4n-PRhKlU",
        "outputId": "600a95ce-f20e-4065-8785-51c043a768d0"
      },
      "source": [
        "c = '1' # this variable is stored as a string\r\n",
        "print(c == 1)\r\n",
        "print(c == '1')"
      ],
      "execution_count": null,
      "outputs": [
        {
          "output_type": "stream",
          "text": [
            "False\n",
            "True\n"
          ],
          "name": "stdout"
        }
      ]
    },
    {
      "cell_type": "code",
      "metadata": {
        "colab": {
          "base_uri": "https://localhost:8080/",
          "height": 162
        },
        "id": "dRQVhz9Hh1Xg",
        "outputId": "a8da7d8b-519d-4754-8e25-0c9ef923cd6d"
      },
      "source": [
        "c + 5 # would result in an error"
      ],
      "execution_count": null,
      "outputs": [
        {
          "output_type": "error",
          "ename": "TypeError",
          "evalue": "ignored",
          "traceback": [
            "\u001b[0;31m---------------------------------------------------------------------------\u001b[0m",
            "\u001b[0;31mTypeError\u001b[0m                                 Traceback (most recent call last)",
            "\u001b[0;32m<ipython-input-28-3edc8ae9f7b1>\u001b[0m in \u001b[0;36m<module>\u001b[0;34m()\u001b[0m\n\u001b[0;32m----> 1\u001b[0;31m \u001b[0mc\u001b[0m \u001b[0;34m+\u001b[0m \u001b[0;36m5\u001b[0m \u001b[0;31m# would result in an error\u001b[0m\u001b[0;34m\u001b[0m\u001b[0;34m\u001b[0m\u001b[0m\n\u001b[0m",
            "\u001b[0;31mTypeError\u001b[0m: must be str, not int"
          ]
        }
      ]
    },
    {
      "cell_type": "markdown",
      "metadata": {
        "id": "lMSEzhrNkFeF"
      },
      "source": [
        "# Lists"
      ]
    },
    {
      "cell_type": "markdown",
      "metadata": {
        "id": "lV6tb-NVkffy"
      },
      "source": [
        "* Lists are used to group multiple values together.\r\n",
        "* The values are usually, but not necessarily, of the same type.\r\n",
        "* Lists are enclosed by square brackets `[` and `]`. \r\n",
        "* Elements in lists can be added, removed or changed.\r\n",
        "\r\n",
        "There are several functions associated with lists in Python. \r\n",
        "\r\n",
        "* `len(list_name)` returns the number of elements in a list\r\n",
        "* `list_name.append(x)` adds a new element `x` to the end of the list\r\n",
        "* `list_name.count(x)` counts the number of times the value `x` appears in the list\r\n",
        "\r\n",
        "As an example, the body temperature of some patients is represented as a list and stored in `patients_body_temperature`.\r\n",
        "\r\n"
      ]
    },
    {
      "cell_type": "code",
      "metadata": {
        "colab": {
          "base_uri": "https://localhost:8080/"
        },
        "id": "4fUvjpW6k0mi",
        "outputId": "3a566730-c301-42b7-a338-79fea2c7ac1e"
      },
      "source": [
        "patients_body_temperature = [36.4, 37.8, 37, 35.8, 35.6, 36.2, 36.4, 36.9, 37.5]\r\n",
        "\r\n",
        "print(patients_body_temperature)\r\n",
        "print(len(patients_body_temperature))\r\n",
        "print(patients_body_temperature.count(36.4))"
      ],
      "execution_count": null,
      "outputs": [
        {
          "output_type": "stream",
          "text": [
            "[36.4, 37.8, 37, 35.8, 35.6, 36.2, 36.4, 36.9, 37.5]\n",
            "9\n",
            "2\n"
          ],
          "name": "stdout"
        }
      ]
    },
    {
      "cell_type": "code",
      "metadata": {
        "colab": {
          "base_uri": "https://localhost:8080/"
        },
        "id": "sNKp60LVnXiD",
        "outputId": "1b084dfc-9885-4761-db64-6b6d61bf845a"
      },
      "source": [
        "patients_body_temperature.append(36.4) # add 36.4 to the list\r\n",
        "\r\n",
        "print(patients_body_temperature)\r\n",
        "print(len(patients_body_temperature))\r\n",
        "print(patients_body_temperature.count(36.4))"
      ],
      "execution_count": null,
      "outputs": [
        {
          "output_type": "stream",
          "text": [
            "[36.4, 37.8, 37, 35.8, 35.6, 36.2, 36.4, 36.9, 37.5, 36.4]\n",
            "10\n",
            "3\n"
          ],
          "name": "stdout"
        }
      ]
    },
    {
      "cell_type": "markdown",
      "metadata": {
        "id": "GcVRZfqCmXKc"
      },
      "source": [
        "## Slicing\r\n",
        "\r\n",
        "Slicing refers to accessing particular list elements or sublists. This is done by the using `list_name[i]` notation after a list's variable name. \r\n",
        "\r\n",
        "* Elements in lists are indexed.\r\n",
        "* **Python counts from 0**, meaning that the first element is indexed 0, the second one is indexed 1, etc."
      ]
    },
    {
      "cell_type": "code",
      "metadata": {
        "colab": {
          "base_uri": "https://localhost:8080/"
        },
        "id": "7i6eFdXiqncl",
        "outputId": "a3c205bc-b14f-478a-9637-c14d53a83153"
      },
      "source": [
        "example_list = [10, 12, 14, 15, 17, 20]\r\n",
        "\r\n",
        "print(example_list)         # Prints \"[10, 12, 14, 15, 17, 20]\"\r\n",
        "\r\n",
        "print(example_list[0])      # Get the 0th element; prints \"10\"\r\n",
        "print(example_list[1])      # Get the 1st element; prints \"12\"\r\n",
        "print(example_list[4])      # Get the 4th element; prints \"17\"\r\n",
        "\r\n",
        "print(example_list[-1])     # Get the last element; prints \"20\""
      ],
      "execution_count": null,
      "outputs": [
        {
          "output_type": "stream",
          "text": [
            "[10, 12, 14, 15, 17, 20]\n",
            "10\n",
            "12\n",
            "17\n",
            "20\n"
          ],
          "name": "stdout"
        }
      ]
    },
    {
      "cell_type": "code",
      "metadata": {
        "colab": {
          "base_uri": "https://localhost:8080/"
        },
        "id": "VPn4o__5tfTH",
        "outputId": "145456eb-0a55-4d48-b475-8e6790d2685e"
      },
      "source": [
        "# we can also edit an element in a list\r\n",
        "example_list[1] = example_list[1] + 20\r\n",
        "print(example_list)"
      ],
      "execution_count": null,
      "outputs": [
        {
          "output_type": "stream",
          "text": [
            "[10, 32, 14, 15, 17, 20]\n"
          ],
          "name": "stdout"
        }
      ]
    },
    {
      "cell_type": "markdown",
      "metadata": {
        "id": "uhzvDVHOsGI5"
      },
      "source": [
        "If you want to access a sublist, use the `list_name[i:j]` notation instead. Here, `i` is inclusive but `j` is exclusive.\r\n"
      ]
    },
    {
      "cell_type": "code",
      "metadata": {
        "colab": {
          "base_uri": "https://localhost:8080/"
        },
        "id": "Zv1vK7APrRHC",
        "outputId": "b3edb7e4-6d61-4c2e-9061-c0e2b100b70e"
      },
      "source": [
        "print(example_list[2:4])    # Get a slice from index 2 to 4 (exclusive); prints \"[14, 15]\"\r\n",
        "print(example_list[2:])     # Get a slice from index 2 to the end; prints \"[14, 15, 17, 20]\"\r\n",
        "print(example_list[:2])     # Get a slice from the start to index 2 (exclusive); prints \"[10, 12]\"\r\n",
        "print(example_list[:-2])    # Get a slice from the start to the second last element (exclusive); prints \"[10, 12, 14, 15, 17]\""
      ],
      "execution_count": null,
      "outputs": [
        {
          "output_type": "stream",
          "text": [
            "[14, 15]\n",
            "[14, 15, 17, 20]\n",
            "[10, 32]\n",
            "[10, 32, 14, 15]\n"
          ],
          "name": "stdout"
        }
      ]
    },
    {
      "cell_type": "code",
      "metadata": {
        "id": "5cPJKN-tr9qY"
      },
      "source": [
        ""
      ],
      "execution_count": null,
      "outputs": []
    },
    {
      "cell_type": "markdown",
      "metadata": {
        "id": "OodiXT9vvM_Q"
      },
      "source": [
        "# Loops\r\n",
        "\r\n",
        "`For` iterates over the items of a sequence or list in order.\r\n",
        "You can loop over the elements of a list like this. Note that the variable `animal` is a dummy variable that is only used as a token in the for loop."
      ]
    },
    {
      "cell_type": "code",
      "metadata": {
        "colab": {
          "base_uri": "https://localhost:8080/"
        },
        "id": "XkaGA-TWvgDK",
        "outputId": "f134e2b1-ff20-47cb-e598-7723a476921d"
      },
      "source": [
        "animals = ['cat', 'dog', 'monkey']\r\n",
        "for animal in animals:\r\n",
        "    print(animal)"
      ],
      "execution_count": null,
      "outputs": [
        {
          "output_type": "stream",
          "text": [
            "cat\n",
            "dog\n",
            "monkey\n"
          ],
          "name": "stdout"
        }
      ]
    },
    {
      "cell_type": "markdown",
      "metadata": {
        "id": "9J0PJNGsvj-k"
      },
      "source": [
        "When analyzing data, frequently we want to transform one type of data into another. As a simple example, consider the following code that computes square numbers:"
      ]
    },
    {
      "cell_type": "code",
      "metadata": {
        "colab": {
          "base_uri": "https://localhost:8080/"
        },
        "id": "TDiC3Oq3v7Xw",
        "outputId": "b771fece-aef4-4e16-e7ab-6920b7e73e05"
      },
      "source": [
        "print(example_list)\r\n",
        "\r\n",
        "squares_list = [] # first create an empty list to store our results\r\n",
        "for x in example_list: # loop through the original list\r\n",
        "    squares_list.append(x ** 2) # compute squares then add to the squares_list\r\n",
        "\r\n",
        "print(squares_list) # print our result"
      ],
      "execution_count": null,
      "outputs": [
        {
          "output_type": "stream",
          "text": [
            "[10, 32, 14, 15, 17, 20]\n",
            "[100, 1024, 196, 225, 289, 400]\n"
          ],
          "name": "stdout"
        }
      ]
    },
    {
      "cell_type": "markdown",
      "metadata": {
        "id": "5WE5jBsvv_YF"
      },
      "source": [
        "Alternatively, you can make this code simpler by using *list comprehension*, which loops through a list and creates a new list on the fly."
      ]
    },
    {
      "cell_type": "code",
      "metadata": {
        "colab": {
          "base_uri": "https://localhost:8080/"
        },
        "id": "2zAmjGf0wVTF",
        "outputId": "0c1a5729-c82f-4127-ec4d-85982b417d14"
      },
      "source": [
        "squares_list = [x ** 2 for x in example_list]\r\n",
        "print(squares_list)"
      ],
      "execution_count": null,
      "outputs": [
        {
          "output_type": "stream",
          "text": [
            "[100, 1024, 196, 225, 289, 400]\n"
          ],
          "name": "stdout"
        }
      ]
    },
    {
      "cell_type": "markdown",
      "metadata": {
        "id": "CpBqoQGbxAum"
      },
      "source": [
        "# Exercise 3\r\n",
        "\r\n",
        "Using the body temperature list `patients_body_temperature`, create a list that indicates\r\n",
        "\r\n",
        "1. their body temperatures in °F (multiply values in °C by 1.8 and add 32).\r\n",
        "2. whether they have fever, as defined by body temperatures over 37.6°C."
      ]
    },
    {
      "cell_type": "code",
      "metadata": {
        "colab": {
          "base_uri": "https://localhost:8080/"
        },
        "id": "ad7Cfgmx0ggP",
        "outputId": "c61c7b77-c94e-4f26-a4d4-ffac9fb71141"
      },
      "source": [
        "print(patients_body_temperature)"
      ],
      "execution_count": null,
      "outputs": [
        {
          "output_type": "stream",
          "text": [
            "[36.4, 37.8, 37, 35.8, 35.6, 36.2, 36.4, 36.9, 37.5, 36.4]\n"
          ],
          "name": "stdout"
        }
      ]
    },
    {
      "cell_type": "markdown",
      "metadata": {
        "id": "rkmZF1sQyfYW"
      },
      "source": [
        "## Suggested solution"
      ]
    },
    {
      "cell_type": "markdown",
      "metadata": {
        "id": "hgsT-USkyvKY"
      },
      "source": [
        "3.1 "
      ]
    },
    {
      "cell_type": "code",
      "metadata": {
        "colab": {
          "base_uri": "https://localhost:8080/"
        },
        "id": "h4aQoNDUymYs",
        "outputId": "8e02b59c-15e8-4b74-9330-4faba6e2cd7d"
      },
      "source": [
        "patients_body_temperature_f = []\r\n",
        "\r\n",
        "for x in patients_body_temperature: # loop through the original list\r\n",
        "    patients_body_temperature_f.append(x * 1.8 + 32)\r\n",
        "\r\n",
        "print(patients_body_temperature_f)"
      ],
      "execution_count": null,
      "outputs": [
        {
          "output_type": "stream",
          "text": [
            "[97.52, 100.03999999999999, 98.60000000000001, 96.44, 96.08, 97.16000000000001, 97.52, 98.42, 99.5, 97.52]\n"
          ],
          "name": "stdout"
        }
      ]
    },
    {
      "cell_type": "code",
      "metadata": {
        "colab": {
          "base_uri": "https://localhost:8080/"
        },
        "id": "SlkJPguwy1PV",
        "outputId": "c9d43eeb-ae1f-4d5e-822c-f32c6065f1e5"
      },
      "source": [
        "# alternative\r\n",
        "patients_body_temperature_f = [x * 1.8 + 32 for x in patients_body_temperature]\r\n",
        "print(patients_body_temperature_f)"
      ],
      "execution_count": null,
      "outputs": [
        {
          "output_type": "stream",
          "text": [
            "[97.52, 100.03999999999999, 98.60000000000001, 96.44, 96.08, 97.16000000000001, 97.52, 98.42, 99.5, 97.52]\n"
          ],
          "name": "stdout"
        }
      ]
    },
    {
      "cell_type": "markdown",
      "metadata": {
        "id": "3Zpp4AokzGG3"
      },
      "source": [
        "3.2"
      ]
    },
    {
      "cell_type": "code",
      "metadata": {
        "colab": {
          "base_uri": "https://localhost:8080/"
        },
        "id": "6XwaXmQ9zElR",
        "outputId": "32cfea88-609b-49cd-9e37-1ba434471bec"
      },
      "source": [
        "patients_fever = []\r\n",
        "\r\n",
        "for x in patients_body_temperature: # loop through the original list\r\n",
        "    patients_fever.append(x > 37.6)\r\n",
        "\r\n",
        "print(patients_fever)"
      ],
      "execution_count": null,
      "outputs": [
        {
          "output_type": "stream",
          "text": [
            "[False, True, False, False, False, False, False, False, False, False]\n"
          ],
          "name": "stdout"
        }
      ]
    },
    {
      "cell_type": "code",
      "metadata": {
        "colab": {
          "base_uri": "https://localhost:8080/"
        },
        "id": "M0EuOzpJzQJ_",
        "outputId": "eeabb3ee-66b1-44c0-bd7d-56af65fbcb77"
      },
      "source": [
        "# alternative\r\n",
        "patients_body_temperature_f = [x > 37.6 for x in patients_body_temperature]\r\n",
        "print(patients_body_temperature_f)"
      ],
      "execution_count": null,
      "outputs": [
        {
          "output_type": "stream",
          "text": [
            "[False, True, False, False, False, False, False, False, False, False]\n"
          ],
          "name": "stdout"
        }
      ]
    },
    {
      "cell_type": "code",
      "metadata": {
        "id": "sVjlGd8ezba7"
      },
      "source": [
        ""
      ],
      "execution_count": null,
      "outputs": []
    }
  ]
}