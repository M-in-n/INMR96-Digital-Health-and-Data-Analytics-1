{
  "nbformat": 4,
  "nbformat_minor": 0,
  "metadata": {
    "colab": {
      "name": "Week 5 Data Preparation and In-hospital Mortality Prediction (1)",
      "provenance": [],
      "collapsed_sections": [],
      "include_colab_link": true
    },
    "kernelspec": {
      "name": "python3",
      "display_name": "Python 3"
    }
  },
  "cells": [
    {
      "cell_type": "markdown",
      "metadata": {
        "id": "view-in-github",
        "colab_type": "text"
      },
      "source": [
        "<a href=\"https://colab.research.google.com/github/nbchan/INMR96-Digital-Health-and-Data-Analytics/blob/main/Week_5_Data_Preparation_and_In_hospital_Mortality_Prediction_(1).ipynb\" target=\"_parent\"><img src=\"https://colab.research.google.com/assets/colab-badge.svg\" alt=\"Open In Colab\"/></a>"
      ]
    },
    {
      "cell_type": "markdown",
      "metadata": {
        "id": "vfwXkXPAP5i6"
      },
      "source": [
        "# 7 Steps to Machine Learning\r\n",
        "\r\n",
        "![7 Steps to Machine Learning](https://miro.medium.com/max/3000/0*V0GyOt3LoDVfY7y5.png)"
      ]
    },
    {
      "cell_type": "markdown",
      "metadata": {
        "id": "m6LRi9e4RiNh"
      },
      "source": [
        "1. **Data collection**. Machine learning requires a lot of training data to work, either labelled for supervised learning or unlabelled for unsupervised learning. If you are using MIMIC-III data, this step is equivalent to gaining access to the dataset.\r\n",
        "\r\n",
        "2. **Data preparation**. Raw data alone isn't very useful. The data needs to be gathered, cleaned, normalized and errors and biases need to be removed before putting it into a model. Exploratory data analysis beforehand and visualisation of the data can be used to look for patterns and outliers to see if the right data has been collected or if data is missing. For supervised learning, the data would also need to be split into a training set and a testing data for training and evaluation purposes respectively. \r\n",
        "\r\n",
        "3. **Choosing a model**. There are many models that can be used for many different purposes, each with their strengths and limitations. The selection of the model should be based on the purpose of your decision support system or the research question in interest. In addition, it is important to perform any additional data preparation steps based on the chosen model. Commonly used machine learning algorithms for supervised learning include linear regression, logistic regression, decision trees, random forest, Support Vector Machines (SVM), Naïve Bayes and Neural Networks. All of these models are available to use within the Python package [Scikit-learn](https://scikit-learn.org/stable/user_guide.html). Note that a more complex model does not always yield a better model. \r\n",
        "\r\n",
        "4. **Training**. The objective of model training is to use your training data to iteratively improve model predictions by applying a machine learning algorithm. In supervised machine learning, the model is built using labelled sample data, while unsupervised machine learning tries to draw inferences from unlabelled data (without references to specific known or labelled outcomes).\r\n",
        "\r\n",
        "5. **Evaluation**. This is to test the trained model against an unused testing dataset to see how it performs. Ideally, the testing set should be a close representative of how the model would work when deployed and used.\r\n",
        "\r\n",
        "6. **Parameter tuning**. Each machine learning model inherently comes with several hyperparameters that you can tweak. After evaluating your model, you should try out different sets of hyperparameters in an attempt to improve the model. This is an experimental and iterative process.\r\n",
        "\r\n",
        "7. **Prediction**\r\n",
        "Once you have gone through the process of collecting data, preparing the data, selecting the model, training and evaluating the model and tuning the parameters, it can be used for predictions as a decision support system or to address your research questions."
      ]
    },
    {
      "cell_type": "markdown",
      "metadata": {
        "id": "sTjUpR8_p0SG"
      },
      "source": [
        "# Example: In-hospital Mortality Prediction"
      ]
    },
    {
      "cell_type": "markdown",
      "metadata": {
        "id": "duxOw-wkaKp9"
      },
      "source": [
        "## Objectives\r\n",
        "\r\n",
        "As an example, we hypothesize that patients with a lot of interactions/events/encounters during a day in hospital tend to have a higher risk of mortality. Can we build a model that predicts in-hospital death based on those variables?\r\n",
        "\r\n",
        "In machine learning terms, we are trying to build a binary classification model using supervised learning. "
      ]
    },
    {
      "cell_type": "markdown",
      "metadata": {
        "id": "IHmJanu4lbEK"
      },
      "source": [
        "First, let's load up libraries and authenticate ourselves."
      ]
    },
    {
      "cell_type": "code",
      "metadata": {
        "id": "rlJ7b_PSgxRs"
      },
      "source": [
        "import pandas as pd\r\n",
        "import numpy as np"
      ],
      "execution_count": null,
      "outputs": []
    },
    {
      "cell_type": "code",
      "metadata": {
        "colab": {
          "base_uri": "https://localhost:8080/"
        },
        "id": "Na2CuSbygrr9",
        "outputId": "41d7f309-0657-40c9-85b2-0b5cc9e535ad"
      },
      "source": [
        "from google.colab import auth\r\n",
        "auth.authenticate_user()\r\n",
        "print('Authenticated')"
      ],
      "execution_count": null,
      "outputs": [
        {
          "output_type": "stream",
          "text": [
            "Authenticated\n"
          ],
          "name": "stdout"
        }
      ]
    },
    {
      "cell_type": "markdown",
      "metadata": {
        "id": "eCvWk7U2vILp"
      },
      "source": [
        "## Data Preparation: Gathering Data"
      ]
    },
    {
      "cell_type": "markdown",
      "metadata": {
        "id": "4C4mmIPNSuoD"
      },
      "source": [
        "In this step, we sought to gather all relevant information for each hospital stay across several tables in MIMIC-III. \n",
        "\n",
        "| Table | Variables to be extracted |\n",
        "| --- | --- | \n",
        "| `admissions` | The basis of the table. <br>`SUBJECT_ID`, `HADM_ID`, `ADMISSION_TYPE`, <br>`ADMITTIME`, `DISCHTIME`, `DEATHTIME`, `HOSPITAL_EXPIRE_FLAG`, <br>`DIAGNOSIS`, `MARITAL_STATUS`,`INSURANCE`, `LANGUAGE`, `RELIGION`, `ETHNICITY` |\n",
        "| `patients` | `GENDER`, `DOB` | \n",
        "| `icustays` | `LOS` |\n",
        "| `labevents` | Number of events relating to laboratory tests | \n",
        "| `callouts` | Number of callouts of the patients |\n",
        "| `prescriptions` | Number of prescriptions ordered | \n",
        "| `procedures_icd` | Number of procedures received | \n",
        "| `inputevents_cv`<br>`inputevents_mv` | Number of fluid input records |\n",
        "| `outputevents` | Number of fluid output records |\n",
        "| `diagnosis` | Number of diagnoses | \n",
        "| `transfers` | Number of transfers within hospital stay |\n",
        "| `cptevents` | Number of events recorded in Current Procedural Terminology |\n",
        "| `microbiologyevents` | Number of microbiology events or tests |\n",
        "\n",
        "The SQL query for retrieving all these information is shown below, and can be broken down into two key steps:\n",
        "\n",
        "* Calculate the event counts from each table listed above, except `admissions`, `patients` and `icustays`. Create alias for each of them using keywords `WITH` and `AS`.\n",
        "* Link all the tables to the `admissions` table using `LEFT JOIN`, with `HADM_ID` or `SUBJECT_ID` as the common column. \n",
        "\n",
        "Note that you also can run it from your Bigquery console.\n"
      ]
    },
    {
      "cell_type": "code",
      "metadata": {
        "id": "UYU2xwJmgmBW"
      },
      "source": [
        "%%bigquery --project your-project-id-here df\r\n",
        "# make sure you change the project ID above!\r\n",
        "\r\n",
        "WITH \r\n",
        "icustay AS (SELECT HADM_ID, SUM(LOS) AS LOS_ICU FROM `physionet-data.mimiciii_clinical.icustays` GROUP BY HADM_ID), \r\n",
        "callout AS (SELECT HADM_ID, COUNT(HADM_ID) AS CALLOUT_COUNT FROM  `physionet-data.mimiciii_clinical.callout` GROUP BY HADM_ID),\r\n",
        "diags AS (SELECT HADM_ID, COUNT(HADM_ID) AS DIAG_COUNT FROM `physionet-data.mimiciii_clinical.diagnoses_icd` GROUP BY HADM_ID),\r\n",
        "preps AS (SELECT HADM_ID, COUNT(HADM_ID) AS PRES_COUNT FROM `physionet-data.mimiciii_clinical.prescriptions` GROUP BY HADM_ID),\r\n",
        "procs AS (SELECT HADM_ID, COUNT(HADM_ID) AS PROC_COUNT FROM `physionet-data.mimiciii_clinical.procedures_icd` GROUP BY HADM_ID),\r\n",
        "cpts AS (SELECT HADM_ID, COUNT(HADM_ID) AS CPT_COUNT FROM `physionet-data.mimiciii_clinical.cptevents` GROUP BY HADM_ID),\r\n",
        "labs AS (SELECT HADM_ID, COUNT(HADM_ID) AS LAB_COUNT FROM `physionet-data.mimiciii_clinical.labevents` GROUP BY HADM_ID),\r\n",
        "inputs_cv AS (SELECT HADM_ID, COUNT(HADM_ID) AS INPUTS_CV_COUNT FROM `physionet-data.mimiciii_clinical.inputevents_cv` GROUP BY HADM_ID),\r\n",
        "inputs_mv AS (SELECT HADM_ID, COUNT(HADM_ID) AS INPUTS_MV_COUNT FROM `physionet-data.mimiciii_clinical.inputevents_mv` GROUP BY HADM_ID),\r\n",
        "outputs AS (SELECT HADM_ID, COUNT(HADM_ID) AS OUTPUT_COUNT FROM `physionet-data.mimiciii_clinical.outputevents` GROUP BY HADM_ID),\r\n",
        "transfers AS (SELECT HADM_ID, COUNT(HADM_ID) AS TRANSFER_COUNT FROM `physionet-data.mimiciii_clinical.transfers` GROUP BY HADM_ID),\r\n",
        "micros AS (SELECT HADM_ID, COUNT(HADM_ID) AS MICRO_COUNT FROM `physionet-data.mimiciii_clinical.microbiologyevents` GROUP BY HADM_ID)\r\n",
        "\r\n",
        "SELECT adm.SUBJECT_ID, adm.HADM_ID, adm.ADMISSION_TYPE, \r\n",
        "adm.ADMITTIME, adm.DISCHTIME, adm.DEATHTIME, adm.HOSPITAL_EXPIRE_FLAG, \r\n",
        "adm.DIAGNOSIS, adm.MARITAL_STATUS, adm.INSURANCE, adm.LANGUAGE, adm.RELIGION, adm.ETHNICITY,\r\n",
        "pts.GENDER, pts.DOB, \r\n",
        "icustay.LOS_ICU, callout.CALLOUT_COUNT, diags.DIAG_COUNT, preps.PRES_COUNT, procs.PROC_COUNT, cpts.CPT_COUNT, labs.LAB_COUNT, inputs_cv.INPUTS_CV_COUNT, inputs_mv.INPUTS_MV_COUNT, outputs.OUTPUT_COUNT, transfers.TRANSFER_COUNT, micros.MICRO_COUNT\r\n",
        "\r\n",
        "FROM `physionet-data.mimiciii_clinical.admissions` AS adm\r\n",
        "LEFT JOIN `physionet-data.mimiciii_clinical.patients` AS pts on adm.SUBJECT_ID = pts.SUBJECT_ID\r\n",
        "LEFT JOIN icustay on adm.HADM_ID = icustay.HADM_ID\r\n",
        "LEFT JOIN callout on adm.HADM_ID = callout.HADM_ID\r\n",
        "LEFT JOIN diags on adm.HADM_ID = diags.HADM_ID\r\n",
        "LEFT JOIN preps on adm.HADM_ID = preps.HADM_ID\r\n",
        "LEFT JOIN procs on adm.HADM_ID = procs.HADM_ID\r\n",
        "LEFT JOIN cpts on adm.HADM_ID = cpts.HADM_ID\r\n",
        "LEFT JOIN labs on adm.HADM_ID = labs.HADM_ID\r\n",
        "LEFT JOIN inputs_cv on adm.HADM_ID = inputs_cv.HADM_ID\r\n",
        "LEFT JOIN inputs_mv on adm.HADM_ID = inputs_mv.HADM_ID\r\n",
        "LEFT JOIN outputs on adm.HADM_ID = outputs.HADM_ID\r\n",
        "LEFT JOIN transfers on adm.HADM_ID = transfers.HADM_ID\r\n",
        "LEFT JOIN micros on adm.HADM_ID = micros.HADM_ID\r\n"
      ],
      "execution_count": null,
      "outputs": []
    },
    {
      "cell_type": "markdown",
      "metadata": {
        "id": "rXs112m3oVih"
      },
      "source": [
        "Let's have a quick look of the gathered dataset."
      ]
    },
    {
      "cell_type": "code",
      "metadata": {
        "colab": {
          "base_uri": "https://localhost:8080/",
          "height": 384
        },
        "id": "0_5OiaZYne0k",
        "outputId": "d70a22df-2161-4a9d-9d13-c4087e237e60"
      },
      "source": [
        "df.head()"
      ],
      "execution_count": null,
      "outputs": [
        {
          "output_type": "execute_result",
          "data": {
            "text/html": [
              "<div>\n",
              "<style scoped>\n",
              "    .dataframe tbody tr th:only-of-type {\n",
              "        vertical-align: middle;\n",
              "    }\n",
              "\n",
              "    .dataframe tbody tr th {\n",
              "        vertical-align: top;\n",
              "    }\n",
              "\n",
              "    .dataframe thead th {\n",
              "        text-align: right;\n",
              "    }\n",
              "</style>\n",
              "<table border=\"1\" class=\"dataframe\">\n",
              "  <thead>\n",
              "    <tr style=\"text-align: right;\">\n",
              "      <th></th>\n",
              "      <th>SUBJECT_ID</th>\n",
              "      <th>HADM_ID</th>\n",
              "      <th>ADMISSION_TYPE</th>\n",
              "      <th>ADMITTIME</th>\n",
              "      <th>DISCHTIME</th>\n",
              "      <th>DEATHTIME</th>\n",
              "      <th>HOSPITAL_EXPIRE_FLAG</th>\n",
              "      <th>DIAGNOSIS</th>\n",
              "      <th>MARITAL_STATUS</th>\n",
              "      <th>INSURANCE</th>\n",
              "      <th>LANGUAGE</th>\n",
              "      <th>RELIGION</th>\n",
              "      <th>ETHNICITY</th>\n",
              "      <th>GENDER</th>\n",
              "      <th>DOB</th>\n",
              "      <th>LOS_ICU</th>\n",
              "      <th>CALLOUT_COUNT</th>\n",
              "      <th>DIAG_COUNT</th>\n",
              "      <th>PRES_COUNT</th>\n",
              "      <th>PROC_COUNT</th>\n",
              "      <th>CPT_COUNT</th>\n",
              "      <th>LAB_COUNT</th>\n",
              "      <th>INPUTS_CV_COUNT</th>\n",
              "      <th>INPUTS_MV_COUNT</th>\n",
              "      <th>OUTPUT_COUNT</th>\n",
              "      <th>TRANSFER_COUNT</th>\n",
              "      <th>MICRO_COUNT</th>\n",
              "    </tr>\n",
              "  </thead>\n",
              "  <tbody>\n",
              "    <tr>\n",
              "      <th>0</th>\n",
              "      <td>7275</td>\n",
              "      <td>136809</td>\n",
              "      <td>EMERGENCY</td>\n",
              "      <td>2139-08-28 12:35:00</td>\n",
              "      <td>2139-09-01 16:32:00</td>\n",
              "      <td>NaT</td>\n",
              "      <td>0</td>\n",
              "      <td>ALTERED MENTAL STATUS; DYSPNEA</td>\n",
              "      <td>DIVORCED</td>\n",
              "      <td>Medicare</td>\n",
              "      <td>ENGL</td>\n",
              "      <td>EPISCOPALIAN</td>\n",
              "      <td>WHITE</td>\n",
              "      <td>M</td>\n",
              "      <td>2078-11-11</td>\n",
              "      <td>1.3848</td>\n",
              "      <td>1.0</td>\n",
              "      <td>15</td>\n",
              "      <td>44.0</td>\n",
              "      <td>1.0</td>\n",
              "      <td>7.0</td>\n",
              "      <td>182.0</td>\n",
              "      <td>NaN</td>\n",
              "      <td>18.0</td>\n",
              "      <td>NaN</td>\n",
              "      <td>3</td>\n",
              "      <td>47.0</td>\n",
              "    </tr>\n",
              "    <tr>\n",
              "      <th>1</th>\n",
              "      <td>17575</td>\n",
              "      <td>187131</td>\n",
              "      <td>EMERGENCY</td>\n",
              "      <td>2124-10-21 08:32:00</td>\n",
              "      <td>2124-11-01 11:14:00</td>\n",
              "      <td>NaT</td>\n",
              "      <td>0</td>\n",
              "      <td>MVA;TRAUMA</td>\n",
              "      <td>SINGLE</td>\n",
              "      <td>Government</td>\n",
              "      <td>None</td>\n",
              "      <td>OTHER</td>\n",
              "      <td>BLACK/AFRICAN AMERICAN</td>\n",
              "      <td>M</td>\n",
              "      <td>2106-01-23</td>\n",
              "      <td>3.2653</td>\n",
              "      <td>NaN</td>\n",
              "      <td>9</td>\n",
              "      <td>NaN</td>\n",
              "      <td>9.0</td>\n",
              "      <td>NaN</td>\n",
              "      <td>408.0</td>\n",
              "      <td>331.0</td>\n",
              "      <td>NaN</td>\n",
              "      <td>89.0</td>\n",
              "      <td>3</td>\n",
              "      <td>27.0</td>\n",
              "    </tr>\n",
              "    <tr>\n",
              "      <th>2</th>\n",
              "      <td>25251</td>\n",
              "      <td>142346</td>\n",
              "      <td>EMERGENCY</td>\n",
              "      <td>2167-01-23 16:23:00</td>\n",
              "      <td>2167-02-06 13:53:00</td>\n",
              "      <td>NaT</td>\n",
              "      <td>0</td>\n",
              "      <td>INFECTED RIGHT FOOT</td>\n",
              "      <td>DIVORCED</td>\n",
              "      <td>Medicare</td>\n",
              "      <td>None</td>\n",
              "      <td>EPISCOPALIAN</td>\n",
              "      <td>WHITE</td>\n",
              "      <td>M</td>\n",
              "      <td>2096-08-27</td>\n",
              "      <td>3.2458</td>\n",
              "      <td>NaN</td>\n",
              "      <td>9</td>\n",
              "      <td>NaN</td>\n",
              "      <td>8.0</td>\n",
              "      <td>NaN</td>\n",
              "      <td>574.0</td>\n",
              "      <td>390.0</td>\n",
              "      <td>NaN</td>\n",
              "      <td>90.0</td>\n",
              "      <td>6</td>\n",
              "      <td>46.0</td>\n",
              "    </tr>\n",
              "    <tr>\n",
              "      <th>3</th>\n",
              "      <td>32339</td>\n",
              "      <td>181355</td>\n",
              "      <td>EMERGENCY</td>\n",
              "      <td>2110-07-29 23:56:00</td>\n",
              "      <td>2110-08-04 15:10:00</td>\n",
              "      <td>NaT</td>\n",
              "      <td>0</td>\n",
              "      <td>GASTROINTESTINAL BLEED;CHEST PAIN;TELEMETRY</td>\n",
              "      <td>MARRIED</td>\n",
              "      <td>Medicare</td>\n",
              "      <td>ENGL</td>\n",
              "      <td>JEWISH</td>\n",
              "      <td>WHITE</td>\n",
              "      <td>M</td>\n",
              "      <td>1810-07-29</td>\n",
              "      <td>1.7603</td>\n",
              "      <td>1.0</td>\n",
              "      <td>15</td>\n",
              "      <td>30.0</td>\n",
              "      <td>2.0</td>\n",
              "      <td>8.0</td>\n",
              "      <td>207.0</td>\n",
              "      <td>NaN</td>\n",
              "      <td>21.0</td>\n",
              "      <td>20.0</td>\n",
              "      <td>4</td>\n",
              "      <td>NaN</td>\n",
              "    </tr>\n",
              "    <tr>\n",
              "      <th>4</th>\n",
              "      <td>30746</td>\n",
              "      <td>155603</td>\n",
              "      <td>EMERGENCY</td>\n",
              "      <td>2131-08-22 23:07:00</td>\n",
              "      <td>2131-08-28 13:10:00</td>\n",
              "      <td>NaT</td>\n",
              "      <td>0</td>\n",
              "      <td>ALTERED MENTAL STATUS</td>\n",
              "      <td>DIVORCED</td>\n",
              "      <td>Medicare</td>\n",
              "      <td>ENGL</td>\n",
              "      <td>JEWISH</td>\n",
              "      <td>WHITE</td>\n",
              "      <td>M</td>\n",
              "      <td>2055-03-16</td>\n",
              "      <td>5.5894</td>\n",
              "      <td>NaN</td>\n",
              "      <td>22</td>\n",
              "      <td>53.0</td>\n",
              "      <td>6.0</td>\n",
              "      <td>10.0</td>\n",
              "      <td>378.0</td>\n",
              "      <td>165.0</td>\n",
              "      <td>NaN</td>\n",
              "      <td>115.0</td>\n",
              "      <td>7</td>\n",
              "      <td>5.0</td>\n",
              "    </tr>\n",
              "  </tbody>\n",
              "</table>\n",
              "</div>"
            ],
            "text/plain": [
              "   SUBJECT_ID  HADM_ID  ... TRANSFER_COUNT MICRO_COUNT\n",
              "0        7275   136809  ...              3        47.0\n",
              "1       17575   187131  ...              3        27.0\n",
              "2       25251   142346  ...              6        46.0\n",
              "3       32339   181355  ...              4         NaN\n",
              "4       30746   155603  ...              7         5.0\n",
              "\n",
              "[5 rows x 27 columns]"
            ]
          },
          "metadata": {
            "tags": []
          },
          "execution_count": 4
        }
      ]
    },
    {
      "cell_type": "code",
      "metadata": {
        "id": "3bPI186A8vzv",
        "colab": {
          "base_uri": "https://localhost:8080/"
        },
        "outputId": "321923fe-68e0-43ac-c257-ff28ae830da1"
      },
      "source": [
        "df.columns"
      ],
      "execution_count": null,
      "outputs": [
        {
          "output_type": "execute_result",
          "data": {
            "text/plain": [
              "Index(['SUBJECT_ID', 'HADM_ID', 'ADMISSION_TYPE', 'ADMITTIME', 'DISCHTIME',\n",
              "       'DEATHTIME', 'HOSPITAL_EXPIRE_FLAG', 'DIAGNOSIS', 'MARITAL_STATUS',\n",
              "       'INSURANCE', 'LANGUAGE', 'RELIGION', 'ETHNICITY', 'GENDER', 'DOB',\n",
              "       'LOS_ICU', 'CALLOUT_COUNT', 'DIAG_COUNT', 'PRES_COUNT', 'PROC_COUNT',\n",
              "       'CPT_COUNT', 'LAB_COUNT', 'INPUTS_CV_COUNT', 'INPUTS_MV_COUNT',\n",
              "       'OUTPUT_COUNT', 'TRANSFER_COUNT', 'MICRO_COUNT'],\n",
              "      dtype='object')"
            ]
          },
          "metadata": {
            "tags": []
          },
          "execution_count": 5
        }
      ]
    },
    {
      "cell_type": "markdown",
      "metadata": {
        "id": "VQiGao9KrKwZ"
      },
      "source": [
        "We could print some general information of dataframe using `.info()`"
      ]
    },
    {
      "cell_type": "code",
      "metadata": {
        "id": "yDTdPxAYr-Ab",
        "colab": {
          "base_uri": "https://localhost:8080/"
        },
        "outputId": "f097450a-ea5a-4dfd-a438-2b5433f48fca"
      },
      "source": [
        "df.info()"
      ],
      "execution_count": null,
      "outputs": [
        {
          "output_type": "stream",
          "text": [
            "<class 'pandas.core.frame.DataFrame'>\n",
            "RangeIndex: 58976 entries, 0 to 58975\n",
            "Data columns (total 27 columns):\n",
            " #   Column                Non-Null Count  Dtype         \n",
            "---  ------                --------------  -----         \n",
            " 0   SUBJECT_ID            58976 non-null  int64         \n",
            " 1   HADM_ID               58976 non-null  int64         \n",
            " 2   ADMISSION_TYPE        58976 non-null  object        \n",
            " 3   ADMITTIME             58976 non-null  datetime64[ns]\n",
            " 4   DISCHTIME             58976 non-null  datetime64[ns]\n",
            " 5   DEATHTIME             5854 non-null   object        \n",
            " 6   HOSPITAL_EXPIRE_FLAG  58976 non-null  int64         \n",
            " 7   DIAGNOSIS             58951 non-null  object        \n",
            " 8   MARITAL_STATUS        48848 non-null  object        \n",
            " 9   INSURANCE             58976 non-null  object        \n",
            " 10  LANGUAGE              33644 non-null  object        \n",
            " 11  RELIGION              58518 non-null  object        \n",
            " 12  ETHNICITY             58976 non-null  object        \n",
            " 13  GENDER                58976 non-null  object        \n",
            " 14  DOB                   58976 non-null  datetime64[ns]\n",
            " 15  LOS_ICU               57776 non-null  float64       \n",
            " 16  CALLOUT_COUNT         28732 non-null  float64       \n",
            " 17  DIAG_COUNT            58976 non-null  int64         \n",
            " 18  PRES_COUNT            50216 non-null  float64       \n",
            " 19  PROC_COUNT            52243 non-null  float64       \n",
            " 20  CPT_COUNT             44148 non-null  float64       \n",
            " 21  LAB_COUNT             58151 non-null  float64       \n",
            " 22  INPUTS_CV_COUNT       31970 non-null  float64       \n",
            " 23  INPUTS_MV_COUNT       21879 non-null  float64       \n",
            " 24  OUTPUT_COUNT          52008 non-null  float64       \n",
            " 25  TRANSFER_COUNT        58976 non-null  int64         \n",
            " 26  MICRO_COUNT           48740 non-null  float64       \n",
            "dtypes: datetime64[ns](3), float64(10), int64(5), object(9)\n",
            "memory usage: 12.1+ MB\n"
          ],
          "name": "stdout"
        }
      ]
    },
    {
      "cell_type": "markdown",
      "metadata": {
        "id": "rYxPIEMmOdKi"
      },
      "source": [
        "By using `.isna().sum()`, we could see that there are missing values in several columns. "
      ]
    },
    {
      "cell_type": "code",
      "metadata": {
        "id": "H1I16ZGOO49k",
        "colab": {
          "base_uri": "https://localhost:8080/"
        },
        "outputId": "07a68354-a0be-4cfb-fbbe-13c585ea52ef"
      },
      "source": [
        "df.isna().sum()"
      ],
      "execution_count": null,
      "outputs": [
        {
          "output_type": "execute_result",
          "data": {
            "text/plain": [
              "SUBJECT_ID                  0\n",
              "HADM_ID                     0\n",
              "ADMISSION_TYPE              0\n",
              "ADMITTIME                   0\n",
              "DISCHTIME                   0\n",
              "DEATHTIME               53122\n",
              "HOSPITAL_EXPIRE_FLAG        0\n",
              "DIAGNOSIS                  25\n",
              "MARITAL_STATUS          10128\n",
              "INSURANCE                   0\n",
              "LANGUAGE                25332\n",
              "RELIGION                  458\n",
              "ETHNICITY                   0\n",
              "GENDER                      0\n",
              "DOB                         0\n",
              "LOS_ICU                  1200\n",
              "CALLOUT_COUNT           30244\n",
              "DIAG_COUNT                  0\n",
              "PRES_COUNT               8760\n",
              "PROC_COUNT               6733\n",
              "CPT_COUNT               14828\n",
              "LAB_COUNT                 825\n",
              "INPUTS_CV_COUNT         27006\n",
              "INPUTS_MV_COUNT         37097\n",
              "OUTPUT_COUNT             6968\n",
              "TRANSFER_COUNT              0\n",
              "MICRO_COUNT             10236\n",
              "dtype: int64"
            ]
          },
          "metadata": {
            "tags": []
          },
          "execution_count": 7
        }
      ]
    },
    {
      "cell_type": "markdown",
      "metadata": {
        "id": "9RxWjDNByaYQ"
      },
      "source": [
        "## Data Preparation: Pre-processing Data"
      ]
    },
    {
      "cell_type": "markdown",
      "metadata": {
        "id": "iLfzSYFtu_zy"
      },
      "source": [
        "Now, we want to pre-process the data such that it is ready to be fed into a model. We also want to make variables that are useful for the model to learn from, a.k.a. feature engineering. There are 5 types of feature engineering:\n",
        "\n",
        "* **Creating**. Create new features from existing ones if they provide additional value when predicting our outcome (e.g. creating age from date of birth and admission). \n",
        "* **Converting**. The raw dataset is most probably not ready for direct modelling. Some features need to be converted or normalized to meet the model input requirements. Usually, before we feed the training dataset into models, all datatypes need to be converted to numerical values for mathematical computation.\n",
        "* **Completing**. Most models require no missing values in input variables in order to work. Model algorithms work best when there are no missing values. If missing values exist in the dataset, we may need to handle them either by (i) filling in any missing values through estimation; (ii) excluding the variable as an input; (iii) excluding the learning samples with any missing value present. \n",
        "* **Correcting**. We may also come across errors or inaccurate values within a dataset. Try to correct these values or exclude the samples with errors. One way to do this is to look out for any outliers among features.\n",
        "* **Correlating**. Having redundant information within the input variable set would not help the model training process and could even lead to worse performances. Thus, one thing we can do is to perform basic statistical analysis. Which features within the dataset contribute significantly to our target variable? This can be tested both for numerical and categorical features in the given dataset."
      ]
    },
    {
      "cell_type": "markdown",
      "metadata": {
        "id": "Sy7l2wKx8VCL"
      },
      "source": [
        "### Creating\n",
        "\n",
        "1. As `HOSPITAL_EXPIRE_FLAG` indicates in-hospital death (see [MIMIC's documentation](https://mimic.physionet.org/about/mimic/)), it will be our **prediction target**.<br>Let's rename the variable `HOSPITAL_EXPIRE_FLAG` into a more description one, `IN_HOSP_DEATH`. Also note that it is already numeric (either 1 or 0) and has no missing values, thus can be used as for model training.  \n",
        "\n"
      ]
    },
    {
      "cell_type": "code",
      "metadata": {
        "id": "bHBwpTKZuGGf"
      },
      "source": [
        "df = df.rename(columns={'HOSPITAL_EXPIRE_FLAG': 'IN_HOSP_DEATH'})"
      ],
      "execution_count": null,
      "outputs": []
    },
    {
      "cell_type": "code",
      "metadata": {
        "colab": {
          "base_uri": "https://localhost:8080/"
        },
        "id": "MN1xrTbGuvSs",
        "outputId": "65ea1f3c-cb4f-4ae3-cc48-7461da976300"
      },
      "source": [
        "df.columns"
      ],
      "execution_count": null,
      "outputs": [
        {
          "output_type": "execute_result",
          "data": {
            "text/plain": [
              "Index(['SUBJECT_ID', 'HADM_ID', 'ADMISSION_TYPE', 'ADMITTIME', 'DISCHTIME',\n",
              "       'DEATHTIME', 'IN_HOSP_DEATH', 'DIAGNOSIS', 'MARITAL_STATUS',\n",
              "       'INSURANCE', 'LANGUAGE', 'RELIGION', 'ETHNICITY', 'GENDER', 'DOB',\n",
              "       'LOS_ICU', 'CALLOUT_COUNT', 'DIAG_COUNT', 'PRES_COUNT', 'PROC_COUNT',\n",
              "       'CPT_COUNT', 'LAB_COUNT', 'INPUTS_CV_COUNT', 'INPUTS_MV_COUNT',\n",
              "       'OUTPUT_COUNT', 'TRANSFER_COUNT', 'MICRO_COUNT'],\n",
              "      dtype='object')"
            ]
          },
          "metadata": {
            "tags": []
          },
          "execution_count": 9
        }
      ]
    },
    {
      "cell_type": "code",
      "metadata": {
        "id": "bePRvFoovXb-",
        "colab": {
          "base_uri": "https://localhost:8080/"
        },
        "outputId": "bdfb1804-1dca-49ea-a9cc-2c62142e9f58"
      },
      "source": [
        "df['IN_HOSP_DEATH'].isna().sum() # no missing value"
      ],
      "execution_count": null,
      "outputs": [
        {
          "output_type": "execute_result",
          "data": {
            "text/plain": [
              "0"
            ]
          },
          "metadata": {
            "tags": []
          },
          "execution_count": 10
        }
      ]
    },
    {
      "cell_type": "code",
      "metadata": {
        "id": "tVrmp3X31lD_",
        "colab": {
          "base_uri": "https://localhost:8080/"
        },
        "outputId": "afa4866e-15e7-40b1-d89f-2cc0e603fb36"
      },
      "source": [
        "df['IN_HOSP_DEATH'].value_counts()"
      ],
      "execution_count": null,
      "outputs": [
        {
          "output_type": "execute_result",
          "data": {
            "text/plain": [
              "0    53122\n",
              "1     5854\n",
              "Name: IN_HOSP_DEATH, dtype: int64"
            ]
          },
          "metadata": {
            "tags": []
          },
          "execution_count": 11
        }
      ]
    },
    {
      "cell_type": "markdown",
      "metadata": {
        "id": "xh3Wq9_DAGgm"
      },
      "source": [
        "2. We don't have a column indicating age, but can we calculate it based on 'DOB'(Date of birth) and 'ADMITTIME'.\n"
      ]
    },
    {
      "cell_type": "code",
      "metadata": {
        "colab": {
          "base_uri": "https://localhost:8080/"
        },
        "id": "hGSTg9AMvO9B",
        "outputId": "2b81d3b3-afea-4b3e-a5af-0533ffc42f09"
      },
      "source": [
        "df['AGE'] = df['ADMITTIME'].sub(df['DOB']) // np.timedelta64(1,'Y') # subtract DOB from ADMITTIME and express difference in years 'Y'\r\n",
        "\r\n",
        "df['AGE']"
      ],
      "execution_count": null,
      "outputs": [
        {
          "output_type": "execute_result",
          "data": {
            "text/plain": [
              "0         60\n",
              "1         18\n",
              "2         70\n",
              "3       -285\n",
              "4         76\n",
              "        ... \n",
              "58971     38\n",
              "58972     48\n",
              "58973     33\n",
              "58974     54\n",
              "58975     41\n",
              "Name: AGE, Length: 58976, dtype: int64"
            ]
          },
          "metadata": {
            "tags": []
          },
          "execution_count": 12
        }
      ]
    },
    {
      "cell_type": "code",
      "metadata": {
        "colab": {
          "base_uri": "https://localhost:8080/",
          "height": 281
        },
        "id": "bIS3yVqvy2CG",
        "outputId": "d368b2f5-faf7-41cb-aa60-3bf49fa6e365"
      },
      "source": [
        "df['AGE'].hist()"
      ],
      "execution_count": null,
      "outputs": [
        {
          "output_type": "execute_result",
          "data": {
            "text/plain": [
              "<matplotlib.axes._subplots.AxesSubplot at 0x7f2613b8afd0>"
            ]
          },
          "metadata": {
            "tags": []
          },
          "execution_count": 13
        },
        {
          "output_type": "display_data",
          "data": {
            "image/png": "[encoded data removed]",
            "text/plain": [
              "<Figure size 432x288 with 1 Axes>"
            ]
          },
          "metadata": {
            "tags": [],
            "needs_background": "light"
          }
        }
      ]
    },
    {
      "cell_type": "markdown",
      "metadata": {
        "id": "S84brqIyzqdx"
      },
      "source": [
        "You may notice some weird negative values. We will address this later in the **Correcting** section."
      ]
    },
    {
      "cell_type": "markdown",
      "metadata": {
        "id": "om0aEHZ9y33O"
      },
      "source": [
        "3. Likewise, we can create a variable indicating hospital length of stay."
      ]
    },
    {
      "cell_type": "code",
      "metadata": {
        "colab": {
          "base_uri": "https://localhost:8080/"
        },
        "id": "aJOAupwozESM",
        "outputId": "4ac4bfce-c9ff-49c2-909c-328937119cfe"
      },
      "source": [
        "df['LOS'] = df['DISCHTIME'].sub(df['ADMITTIME']) / np.timedelta64(1,'D') # subtract ADMITTIME from DISCHTIME and express difference in days 'D'\r\n",
        "\r\n",
        "df['LOS']"
      ],
      "execution_count": null,
      "outputs": [
        {
          "output_type": "execute_result",
          "data": {
            "text/plain": [
              "0         4.164583\n",
              "1        11.112500\n",
              "2        13.895833\n",
              "3         5.634722\n",
              "4         5.585417\n",
              "           ...    \n",
              "58971     1.872917\n",
              "58972     2.502083\n",
              "58973     1.609722\n",
              "58974     3.710417\n",
              "58975     3.100000\n",
              "Name: LOS, Length: 58976, dtype: float64"
            ]
          },
          "metadata": {
            "tags": []
          },
          "execution_count": 14
        }
      ]
    },
    {
      "cell_type": "code",
      "metadata": {
        "colab": {
          "base_uri": "https://localhost:8080/"
        },
        "id": "0QoKBxA3iP-A",
        "outputId": "1c72eba0-095d-4f28-e47c-bea6c62c2018"
      },
      "source": [
        "df['LOS'].describe()"
      ],
      "execution_count": null,
      "outputs": [
        {
          "output_type": "execute_result",
          "data": {
            "text/plain": [
              "count    58976.000000\n",
              "mean        10.133916\n",
              "std         12.456682\n",
              "min         -0.945139\n",
              "25%          3.743750\n",
              "50%          6.467014\n",
              "75%         11.795139\n",
              "max        294.660417\n",
              "Name: LOS, dtype: float64"
            ]
          },
          "metadata": {
            "tags": []
          },
          "execution_count": 15
        }
      ]
    },
    {
      "cell_type": "code",
      "metadata": {
        "colab": {
          "base_uri": "https://localhost:8080/",
          "height": 281
        },
        "id": "Lv-bPk8czTfO",
        "outputId": "21a6ce0a-fb50-4f36-b4b8-cc1c2b3b8df7"
      },
      "source": [
        "df['LOS'].hist()"
      ],
      "execution_count": null,
      "outputs": [
        {
          "output_type": "execute_result",
          "data": {
            "text/plain": [
              "<matplotlib.axes._subplots.AxesSubplot at 0x7f261398eb70>"
            ]
          },
          "metadata": {
            "tags": []
          },
          "execution_count": 16
        },
        {
          "output_type": "display_data",
          "data": {
            "image/png": "[encoded data removed]",
            "text/plain": [
              "<Figure size 432x288 with 1 Axes>"
            ]
          },
          "metadata": {
            "tags": [],
            "needs_background": "light"
          }
        }
      ]
    },
    {
      "cell_type": "markdown",
      "metadata": {
        "id": "JMsj8q95eoDv"
      },
      "source": [
        "If you can think of any other variables that may be useful, feel free to add them by yourselves!"
      ]
    },
    {
      "cell_type": "markdown",
      "metadata": {
        "id": "2cCBK5bNQnIz"
      },
      "source": [
        "### Converting\n",
        "\n",
        "The length of stay varies across patients, we may normalize the total count values into daily average count values in order to retrieve the frequency of the events. Here, we compute the values and save them as new columns, and append '_DAY' to the original column names."
      ]
    },
    {
      "cell_type": "code",
      "metadata": {
        "id": "ER2dqpCF3mAl"
      },
      "source": [
        "for col_name in ['CALLOUT_COUNT', 'PRES_COUNT', 'PROC_COUNT', 'CPT_COUNT', 'LAB_COUNT', 'INPUTS_CV_COUNT', 'INPUTS_MV_COUNT', 'OUTPUT_COUNT', 'TRANSFER_COUNT', 'MICRO_COUNT']:\n",
        "  df[col_name + '_DAY'] = df[col_name] / np.maximum(np.ceil(df['LOS']), 1)"
      ],
      "execution_count": null,
      "outputs": []
    },
    {
      "cell_type": "code",
      "metadata": {
        "colab": {
          "base_uri": "https://localhost:8080/",
          "height": 384
        },
        "id": "es9kfZNc1zrp",
        "outputId": "16ad8196-a841-443d-92d2-e4157b625256"
      },
      "source": [
        "df.head()"
      ],
      "execution_count": null,
      "outputs": [
        {
          "output_type": "execute_result",
          "data": {
            "text/html": [
              "<div>\n",
              "<style scoped>\n",
              "    .dataframe tbody tr th:only-of-type {\n",
              "        vertical-align: middle;\n",
              "    }\n",
              "\n",
              "    .dataframe tbody tr th {\n",
              "        vertical-align: top;\n",
              "    }\n",
              "\n",
              "    .dataframe thead th {\n",
              "        text-align: right;\n",
              "    }\n",
              "</style>\n",
              "<table border=\"1\" class=\"dataframe\">\n",
              "  <thead>\n",
              "    <tr style=\"text-align: right;\">\n",
              "      <th></th>\n",
              "      <th>SUBJECT_ID</th>\n",
              "      <th>HADM_ID</th>\n",
              "      <th>ADMISSION_TYPE</th>\n",
              "      <th>ADMITTIME</th>\n",
              "      <th>DISCHTIME</th>\n",
              "      <th>DEATHTIME</th>\n",
              "      <th>IN_HOSP_DEATH</th>\n",
              "      <th>DIAGNOSIS</th>\n",
              "      <th>MARITAL_STATUS</th>\n",
              "      <th>INSURANCE</th>\n",
              "      <th>LANGUAGE</th>\n",
              "      <th>RELIGION</th>\n",
              "      <th>ETHNICITY</th>\n",
              "      <th>GENDER</th>\n",
              "      <th>DOB</th>\n",
              "      <th>LOS_ICU</th>\n",
              "      <th>CALLOUT_COUNT</th>\n",
              "      <th>DIAG_COUNT</th>\n",
              "      <th>PRES_COUNT</th>\n",
              "      <th>PROC_COUNT</th>\n",
              "      <th>CPT_COUNT</th>\n",
              "      <th>LAB_COUNT</th>\n",
              "      <th>INPUTS_CV_COUNT</th>\n",
              "      <th>INPUTS_MV_COUNT</th>\n",
              "      <th>OUTPUT_COUNT</th>\n",
              "      <th>TRANSFER_COUNT</th>\n",
              "      <th>MICRO_COUNT</th>\n",
              "      <th>AGE</th>\n",
              "      <th>LOS</th>\n",
              "      <th>CALLOUT_COUNT_DAY</th>\n",
              "      <th>PRES_COUNT_DAY</th>\n",
              "      <th>PROC_COUNT_DAY</th>\n",
              "      <th>CPT_COUNT_DAY</th>\n",
              "      <th>LAB_COUNT_DAY</th>\n",
              "      <th>INPUTS_CV_COUNT_DAY</th>\n",
              "      <th>INPUTS_MV_COUNT_DAY</th>\n",
              "      <th>OUTPUT_COUNT_DAY</th>\n",
              "      <th>TRANSFER_COUNT_DAY</th>\n",
              "      <th>MICRO_COUNT_DAY</th>\n",
              "    </tr>\n",
              "  </thead>\n",
              "  <tbody>\n",
              "    <tr>\n",
              "      <th>0</th>\n",
              "      <td>7275</td>\n",
              "      <td>136809</td>\n",
              "      <td>EMERGENCY</td>\n",
              "      <td>2139-08-28 12:35:00</td>\n",
              "      <td>2139-09-01 16:32:00</td>\n",
              "      <td>NaT</td>\n",
              "      <td>0</td>\n",
              "      <td>ALTERED MENTAL STATUS; DYSPNEA</td>\n",
              "      <td>DIVORCED</td>\n",
              "      <td>Medicare</td>\n",
              "      <td>ENGL</td>\n",
              "      <td>EPISCOPALIAN</td>\n",
              "      <td>WHITE</td>\n",
              "      <td>M</td>\n",
              "      <td>2078-11-11</td>\n",
              "      <td>1.3848</td>\n",
              "      <td>1.0</td>\n",
              "      <td>15</td>\n",
              "      <td>44.0</td>\n",
              "      <td>1.0</td>\n",
              "      <td>7.0</td>\n",
              "      <td>182.0</td>\n",
              "      <td>NaN</td>\n",
              "      <td>18.0</td>\n",
              "      <td>NaN</td>\n",
              "      <td>3</td>\n",
              "      <td>47.0</td>\n",
              "      <td>60</td>\n",
              "      <td>4.164583</td>\n",
              "      <td>0.200000</td>\n",
              "      <td>8.800000</td>\n",
              "      <td>0.200000</td>\n",
              "      <td>1.400000</td>\n",
              "      <td>36.4</td>\n",
              "      <td>NaN</td>\n",
              "      <td>3.6</td>\n",
              "      <td>NaN</td>\n",
              "      <td>0.600000</td>\n",
              "      <td>9.400000</td>\n",
              "    </tr>\n",
              "    <tr>\n",
              "      <th>1</th>\n",
              "      <td>17575</td>\n",
              "      <td>187131</td>\n",
              "      <td>EMERGENCY</td>\n",
              "      <td>2124-10-21 08:32:00</td>\n",
              "      <td>2124-11-01 11:14:00</td>\n",
              "      <td>NaT</td>\n",
              "      <td>0</td>\n",
              "      <td>MVA;TRAUMA</td>\n",
              "      <td>SINGLE</td>\n",
              "      <td>Government</td>\n",
              "      <td>None</td>\n",
              "      <td>OTHER</td>\n",
              "      <td>BLACK/AFRICAN AMERICAN</td>\n",
              "      <td>M</td>\n",
              "      <td>2106-01-23</td>\n",
              "      <td>3.2653</td>\n",
              "      <td>NaN</td>\n",
              "      <td>9</td>\n",
              "      <td>NaN</td>\n",
              "      <td>9.0</td>\n",
              "      <td>NaN</td>\n",
              "      <td>408.0</td>\n",
              "      <td>331.0</td>\n",
              "      <td>NaN</td>\n",
              "      <td>89.0</td>\n",
              "      <td>3</td>\n",
              "      <td>27.0</td>\n",
              "      <td>18</td>\n",
              "      <td>11.112500</td>\n",
              "      <td>NaN</td>\n",
              "      <td>NaN</td>\n",
              "      <td>0.750000</td>\n",
              "      <td>NaN</td>\n",
              "      <td>34.0</td>\n",
              "      <td>27.583333</td>\n",
              "      <td>NaN</td>\n",
              "      <td>7.416667</td>\n",
              "      <td>0.250000</td>\n",
              "      <td>2.250000</td>\n",
              "    </tr>\n",
              "    <tr>\n",
              "      <th>2</th>\n",
              "      <td>25251</td>\n",
              "      <td>142346</td>\n",
              "      <td>EMERGENCY</td>\n",
              "      <td>2167-01-23 16:23:00</td>\n",
              "      <td>2167-02-06 13:53:00</td>\n",
              "      <td>NaT</td>\n",
              "      <td>0</td>\n",
              "      <td>INFECTED RIGHT FOOT</td>\n",
              "      <td>DIVORCED</td>\n",
              "      <td>Medicare</td>\n",
              "      <td>None</td>\n",
              "      <td>EPISCOPALIAN</td>\n",
              "      <td>WHITE</td>\n",
              "      <td>M</td>\n",
              "      <td>2096-08-27</td>\n",
              "      <td>3.2458</td>\n",
              "      <td>NaN</td>\n",
              "      <td>9</td>\n",
              "      <td>NaN</td>\n",
              "      <td>8.0</td>\n",
              "      <td>NaN</td>\n",
              "      <td>574.0</td>\n",
              "      <td>390.0</td>\n",
              "      <td>NaN</td>\n",
              "      <td>90.0</td>\n",
              "      <td>6</td>\n",
              "      <td>46.0</td>\n",
              "      <td>70</td>\n",
              "      <td>13.895833</td>\n",
              "      <td>NaN</td>\n",
              "      <td>NaN</td>\n",
              "      <td>0.571429</td>\n",
              "      <td>NaN</td>\n",
              "      <td>41.0</td>\n",
              "      <td>27.857143</td>\n",
              "      <td>NaN</td>\n",
              "      <td>6.428571</td>\n",
              "      <td>0.428571</td>\n",
              "      <td>3.285714</td>\n",
              "    </tr>\n",
              "    <tr>\n",
              "      <th>3</th>\n",
              "      <td>32339</td>\n",
              "      <td>181355</td>\n",
              "      <td>EMERGENCY</td>\n",
              "      <td>2110-07-29 23:56:00</td>\n",
              "      <td>2110-08-04 15:10:00</td>\n",
              "      <td>NaT</td>\n",
              "      <td>0</td>\n",
              "      <td>GASTROINTESTINAL BLEED;CHEST PAIN;TELEMETRY</td>\n",
              "      <td>MARRIED</td>\n",
              "      <td>Medicare</td>\n",
              "      <td>ENGL</td>\n",
              "      <td>JEWISH</td>\n",
              "      <td>WHITE</td>\n",
              "      <td>M</td>\n",
              "      <td>1810-07-29</td>\n",
              "      <td>1.7603</td>\n",
              "      <td>1.0</td>\n",
              "      <td>15</td>\n",
              "      <td>30.0</td>\n",
              "      <td>2.0</td>\n",
              "      <td>8.0</td>\n",
              "      <td>207.0</td>\n",
              "      <td>NaN</td>\n",
              "      <td>21.0</td>\n",
              "      <td>20.0</td>\n",
              "      <td>4</td>\n",
              "      <td>NaN</td>\n",
              "      <td>-285</td>\n",
              "      <td>5.634722</td>\n",
              "      <td>0.166667</td>\n",
              "      <td>5.000000</td>\n",
              "      <td>0.333333</td>\n",
              "      <td>1.333333</td>\n",
              "      <td>34.5</td>\n",
              "      <td>NaN</td>\n",
              "      <td>3.5</td>\n",
              "      <td>3.333333</td>\n",
              "      <td>0.666667</td>\n",
              "      <td>NaN</td>\n",
              "    </tr>\n",
              "    <tr>\n",
              "      <th>4</th>\n",
              "      <td>30746</td>\n",
              "      <td>155603</td>\n",
              "      <td>EMERGENCY</td>\n",
              "      <td>2131-08-22 23:07:00</td>\n",
              "      <td>2131-08-28 13:10:00</td>\n",
              "      <td>NaT</td>\n",
              "      <td>0</td>\n",
              "      <td>ALTERED MENTAL STATUS</td>\n",
              "      <td>DIVORCED</td>\n",
              "      <td>Medicare</td>\n",
              "      <td>ENGL</td>\n",
              "      <td>JEWISH</td>\n",
              "      <td>WHITE</td>\n",
              "      <td>M</td>\n",
              "      <td>2055-03-16</td>\n",
              "      <td>5.5894</td>\n",
              "      <td>NaN</td>\n",
              "      <td>22</td>\n",
              "      <td>53.0</td>\n",
              "      <td>6.0</td>\n",
              "      <td>10.0</td>\n",
              "      <td>378.0</td>\n",
              "      <td>165.0</td>\n",
              "      <td>NaN</td>\n",
              "      <td>115.0</td>\n",
              "      <td>7</td>\n",
              "      <td>5.0</td>\n",
              "      <td>76</td>\n",
              "      <td>5.585417</td>\n",
              "      <td>NaN</td>\n",
              "      <td>8.833333</td>\n",
              "      <td>1.000000</td>\n",
              "      <td>1.666667</td>\n",
              "      <td>63.0</td>\n",
              "      <td>27.500000</td>\n",
              "      <td>NaN</td>\n",
              "      <td>19.166667</td>\n",
              "      <td>1.166667</td>\n",
              "      <td>0.833333</td>\n",
              "    </tr>\n",
              "  </tbody>\n",
              "</table>\n",
              "</div>"
            ],
            "text/plain": [
              "   SUBJECT_ID  HADM_ID  ... TRANSFER_COUNT_DAY MICRO_COUNT_DAY\n",
              "0        7275   136809  ...           0.600000        9.400000\n",
              "1       17575   187131  ...           0.250000        2.250000\n",
              "2       25251   142346  ...           0.428571        3.285714\n",
              "3       32339   181355  ...           0.666667             NaN\n",
              "4       30746   155603  ...           1.166667        0.833333\n",
              "\n",
              "[5 rows x 39 columns]"
            ]
          },
          "metadata": {
            "tags": []
          },
          "execution_count": 18
        }
      ]
    },
    {
      "cell_type": "code",
      "metadata": {
        "colab": {
          "base_uri": "https://localhost:8080/"
        },
        "id": "lX93a3RK3iAK",
        "outputId": "619c83c9-59ab-4f45-f18b-bf81c63263c4"
      },
      "source": [
        "df.info()"
      ],
      "execution_count": null,
      "outputs": [
        {
          "output_type": "stream",
          "text": [
            "<class 'pandas.core.frame.DataFrame'>\n",
            "RangeIndex: 58976 entries, 0 to 58975\n",
            "Data columns (total 39 columns):\n",
            " #   Column               Non-Null Count  Dtype         \n",
            "---  ------               --------------  -----         \n",
            " 0   SUBJECT_ID           58976 non-null  int64         \n",
            " 1   HADM_ID              58976 non-null  int64         \n",
            " 2   ADMISSION_TYPE       58976 non-null  object        \n",
            " 3   ADMITTIME            58976 non-null  datetime64[ns]\n",
            " 4   DISCHTIME            58976 non-null  datetime64[ns]\n",
            " 5   DEATHTIME            5854 non-null   object        \n",
            " 6   IN_HOSP_DEATH        58976 non-null  int64         \n",
            " 7   DIAGNOSIS            58951 non-null  object        \n",
            " 8   MARITAL_STATUS       48848 non-null  object        \n",
            " 9   INSURANCE            58976 non-null  object        \n",
            " 10  LANGUAGE             33644 non-null  object        \n",
            " 11  RELIGION             58518 non-null  object        \n",
            " 12  ETHNICITY            58976 non-null  object        \n",
            " 13  GENDER               58976 non-null  object        \n",
            " 14  DOB                  58976 non-null  datetime64[ns]\n",
            " 15  LOS_ICU              57776 non-null  float64       \n",
            " 16  CALLOUT_COUNT        28732 non-null  float64       \n",
            " 17  DIAG_COUNT           58976 non-null  int64         \n",
            " 18  PRES_COUNT           50216 non-null  float64       \n",
            " 19  PROC_COUNT           52243 non-null  float64       \n",
            " 20  CPT_COUNT            44148 non-null  float64       \n",
            " 21  LAB_COUNT            58151 non-null  float64       \n",
            " 22  INPUTS_CV_COUNT      31970 non-null  float64       \n",
            " 23  INPUTS_MV_COUNT      21879 non-null  float64       \n",
            " 24  OUTPUT_COUNT         52008 non-null  float64       \n",
            " 25  TRANSFER_COUNT       58976 non-null  int64         \n",
            " 26  MICRO_COUNT          48740 non-null  float64       \n",
            " 27  AGE                  58976 non-null  int64         \n",
            " 28  LOS                  58976 non-null  float64       \n",
            " 29  CALLOUT_COUNT_DAY    28732 non-null  float64       \n",
            " 30  PRES_COUNT_DAY       50216 non-null  float64       \n",
            " 31  PROC_COUNT_DAY       52243 non-null  float64       \n",
            " 32  CPT_COUNT_DAY        44148 non-null  float64       \n",
            " 33  LAB_COUNT_DAY        58151 non-null  float64       \n",
            " 34  INPUTS_CV_COUNT_DAY  31970 non-null  float64       \n",
            " 35  INPUTS_MV_COUNT_DAY  21879 non-null  float64       \n",
            " 36  OUTPUT_COUNT_DAY     52008 non-null  float64       \n",
            " 37  TRANSFER_COUNT_DAY   58976 non-null  float64       \n",
            " 38  MICRO_COUNT_DAY      48740 non-null  float64       \n",
            "dtypes: datetime64[ns](3), float64(21), int64(6), object(9)\n",
            "memory usage: 17.5+ MB\n"
          ],
          "name": "stdout"
        }
      ]
    },
    {
      "cell_type": "markdown",
      "metadata": {
        "id": "z2Z1Ai9gSWSy"
      },
      "source": [
        "**Q**: Why did we not normalize the column 'DIAG_COUNT' just like the others?"
      ]
    },
    {
      "cell_type": "markdown",
      "metadata": {
        "id": "PE1Ao1YcVsfo"
      },
      "source": [
        "### Completing"
      ]
    },
    {
      "cell_type": "markdown",
      "metadata": {
        "id": "86Vr10jJWUJN"
      },
      "source": [
        "#### Numerical features\n",
        "\n",
        "Regarding the features related to counts and counts per day, we can simply fill all NaN values with 0."
      ]
    },
    {
      "cell_type": "code",
      "metadata": {
        "id": "uagGZqVsW7WG"
      },
      "source": [
        "for col_name in ['CALLOUT_COUNT', 'PRES_COUNT', 'PROC_COUNT', 'CPT_COUNT', 'LAB_COUNT', 'INPUTS_CV_COUNT', 'INPUTS_MV_COUNT', 'OUTPUT_COUNT', 'TRANSFER_COUNT', 'MICRO_COUNT']:\n",
        "  df[col_name] = df[col_name].fillna(0)\n",
        "  df[col_name + '_DAY'] = df[col_name + '_DAY'].fillna(0)"
      ],
      "execution_count": null,
      "outputs": []
    },
    {
      "cell_type": "code",
      "metadata": {
        "id": "v2jynhcA4U6v"
      },
      "source": [
        "df['DIAG_COUNT'] = df['DIAG_COUNT'].fillna(0)\r\n",
        "df['LOS_ICU'] = df['LOS_ICU'].fillna(0)"
      ],
      "execution_count": null,
      "outputs": []
    },
    {
      "cell_type": "code",
      "metadata": {
        "colab": {
          "base_uri": "https://localhost:8080/",
          "height": 384
        },
        "id": "KPsUobdw4DWu",
        "outputId": "f546f477-9f52-4e37-ae07-45f7208e56f1"
      },
      "source": [
        "df.head()"
      ],
      "execution_count": null,
      "outputs": [
        {
          "output_type": "execute_result",
          "data": {
            "text/html": [
              "<div>\n",
              "<style scoped>\n",
              "    .dataframe tbody tr th:only-of-type {\n",
              "        vertical-align: middle;\n",
              "    }\n",
              "\n",
              "    .dataframe tbody tr th {\n",
              "        vertical-align: top;\n",
              "    }\n",
              "\n",
              "    .dataframe thead th {\n",
              "        text-align: right;\n",
              "    }\n",
              "</style>\n",
              "<table border=\"1\" class=\"dataframe\">\n",
              "  <thead>\n",
              "    <tr style=\"text-align: right;\">\n",
              "      <th></th>\n",
              "      <th>SUBJECT_ID</th>\n",
              "      <th>HADM_ID</th>\n",
              "      <th>ADMISSION_TYPE</th>\n",
              "      <th>ADMITTIME</th>\n",
              "      <th>DISCHTIME</th>\n",
              "      <th>DEATHTIME</th>\n",
              "      <th>IN_HOSP_DEATH</th>\n",
              "      <th>DIAGNOSIS</th>\n",
              "      <th>MARITAL_STATUS</th>\n",
              "      <th>INSURANCE</th>\n",
              "      <th>LANGUAGE</th>\n",
              "      <th>RELIGION</th>\n",
              "      <th>ETHNICITY</th>\n",
              "      <th>GENDER</th>\n",
              "      <th>DOB</th>\n",
              "      <th>LOS_ICU</th>\n",
              "      <th>CALLOUT_COUNT</th>\n",
              "      <th>DIAG_COUNT</th>\n",
              "      <th>PRES_COUNT</th>\n",
              "      <th>PROC_COUNT</th>\n",
              "      <th>CPT_COUNT</th>\n",
              "      <th>LAB_COUNT</th>\n",
              "      <th>INPUTS_CV_COUNT</th>\n",
              "      <th>INPUTS_MV_COUNT</th>\n",
              "      <th>OUTPUT_COUNT</th>\n",
              "      <th>TRANSFER_COUNT</th>\n",
              "      <th>MICRO_COUNT</th>\n",
              "      <th>AGE</th>\n",
              "      <th>LOS</th>\n",
              "      <th>CALLOUT_COUNT_DAY</th>\n",
              "      <th>PRES_COUNT_DAY</th>\n",
              "      <th>PROC_COUNT_DAY</th>\n",
              "      <th>CPT_COUNT_DAY</th>\n",
              "      <th>LAB_COUNT_DAY</th>\n",
              "      <th>INPUTS_CV_COUNT_DAY</th>\n",
              "      <th>INPUTS_MV_COUNT_DAY</th>\n",
              "      <th>OUTPUT_COUNT_DAY</th>\n",
              "      <th>TRANSFER_COUNT_DAY</th>\n",
              "      <th>MICRO_COUNT_DAY</th>\n",
              "    </tr>\n",
              "  </thead>\n",
              "  <tbody>\n",
              "    <tr>\n",
              "      <th>0</th>\n",
              "      <td>7275</td>\n",
              "      <td>136809</td>\n",
              "      <td>EMERGENCY</td>\n",
              "      <td>2139-08-28 12:35:00</td>\n",
              "      <td>2139-09-01 16:32:00</td>\n",
              "      <td>NaT</td>\n",
              "      <td>0</td>\n",
              "      <td>ALTERED MENTAL STATUS; DYSPNEA</td>\n",
              "      <td>DIVORCED</td>\n",
              "      <td>Medicare</td>\n",
              "      <td>ENGL</td>\n",
              "      <td>EPISCOPALIAN</td>\n",
              "      <td>WHITE</td>\n",
              "      <td>M</td>\n",
              "      <td>2078-11-11</td>\n",
              "      <td>1.3848</td>\n",
              "      <td>1.0</td>\n",
              "      <td>15</td>\n",
              "      <td>44.0</td>\n",
              "      <td>1.0</td>\n",
              "      <td>7.0</td>\n",
              "      <td>182.0</td>\n",
              "      <td>0.0</td>\n",
              "      <td>18.0</td>\n",
              "      <td>0.0</td>\n",
              "      <td>3</td>\n",
              "      <td>47.0</td>\n",
              "      <td>60</td>\n",
              "      <td>4.164583</td>\n",
              "      <td>0.200000</td>\n",
              "      <td>8.800000</td>\n",
              "      <td>0.200000</td>\n",
              "      <td>1.400000</td>\n",
              "      <td>36.4</td>\n",
              "      <td>0.000000</td>\n",
              "      <td>3.6</td>\n",
              "      <td>0.000000</td>\n",
              "      <td>0.600000</td>\n",
              "      <td>9.400000</td>\n",
              "    </tr>\n",
              "    <tr>\n",
              "      <th>1</th>\n",
              "      <td>17575</td>\n",
              "      <td>187131</td>\n",
              "      <td>EMERGENCY</td>\n",
              "      <td>2124-10-21 08:32:00</td>\n",
              "      <td>2124-11-01 11:14:00</td>\n",
              "      <td>NaT</td>\n",
              "      <td>0</td>\n",
              "      <td>MVA;TRAUMA</td>\n",
              "      <td>SINGLE</td>\n",
              "      <td>Government</td>\n",
              "      <td>None</td>\n",
              "      <td>OTHER</td>\n",
              "      <td>BLACK/AFRICAN AMERICAN</td>\n",
              "      <td>M</td>\n",
              "      <td>2106-01-23</td>\n",
              "      <td>3.2653</td>\n",
              "      <td>0.0</td>\n",
              "      <td>9</td>\n",
              "      <td>0.0</td>\n",
              "      <td>9.0</td>\n",
              "      <td>0.0</td>\n",
              "      <td>408.0</td>\n",
              "      <td>331.0</td>\n",
              "      <td>0.0</td>\n",
              "      <td>89.0</td>\n",
              "      <td>3</td>\n",
              "      <td>27.0</td>\n",
              "      <td>18</td>\n",
              "      <td>11.112500</td>\n",
              "      <td>0.000000</td>\n",
              "      <td>0.000000</td>\n",
              "      <td>0.750000</td>\n",
              "      <td>0.000000</td>\n",
              "      <td>34.0</td>\n",
              "      <td>27.583333</td>\n",
              "      <td>0.0</td>\n",
              "      <td>7.416667</td>\n",
              "      <td>0.250000</td>\n",
              "      <td>2.250000</td>\n",
              "    </tr>\n",
              "    <tr>\n",
              "      <th>2</th>\n",
              "      <td>25251</td>\n",
              "      <td>142346</td>\n",
              "      <td>EMERGENCY</td>\n",
              "      <td>2167-01-23 16:23:00</td>\n",
              "      <td>2167-02-06 13:53:00</td>\n",
              "      <td>NaT</td>\n",
              "      <td>0</td>\n",
              "      <td>INFECTED RIGHT FOOT</td>\n",
              "      <td>DIVORCED</td>\n",
              "      <td>Medicare</td>\n",
              "      <td>None</td>\n",
              "      <td>EPISCOPALIAN</td>\n",
              "      <td>WHITE</td>\n",
              "      <td>M</td>\n",
              "      <td>2096-08-27</td>\n",
              "      <td>3.2458</td>\n",
              "      <td>0.0</td>\n",
              "      <td>9</td>\n",
              "      <td>0.0</td>\n",
              "      <td>8.0</td>\n",
              "      <td>0.0</td>\n",
              "      <td>574.0</td>\n",
              "      <td>390.0</td>\n",
              "      <td>0.0</td>\n",
              "      <td>90.0</td>\n",
              "      <td>6</td>\n",
              "      <td>46.0</td>\n",
              "      <td>70</td>\n",
              "      <td>13.895833</td>\n",
              "      <td>0.000000</td>\n",
              "      <td>0.000000</td>\n",
              "      <td>0.571429</td>\n",
              "      <td>0.000000</td>\n",
              "      <td>41.0</td>\n",
              "      <td>27.857143</td>\n",
              "      <td>0.0</td>\n",
              "      <td>6.428571</td>\n",
              "      <td>0.428571</td>\n",
              "      <td>3.285714</td>\n",
              "    </tr>\n",
              "    <tr>\n",
              "      <th>3</th>\n",
              "      <td>32339</td>\n",
              "      <td>181355</td>\n",
              "      <td>EMERGENCY</td>\n",
              "      <td>2110-07-29 23:56:00</td>\n",
              "      <td>2110-08-04 15:10:00</td>\n",
              "      <td>NaT</td>\n",
              "      <td>0</td>\n",
              "      <td>GASTROINTESTINAL BLEED;CHEST PAIN;TELEMETRY</td>\n",
              "      <td>MARRIED</td>\n",
              "      <td>Medicare</td>\n",
              "      <td>ENGL</td>\n",
              "      <td>JEWISH</td>\n",
              "      <td>WHITE</td>\n",
              "      <td>M</td>\n",
              "      <td>1810-07-29</td>\n",
              "      <td>1.7603</td>\n",
              "      <td>1.0</td>\n",
              "      <td>15</td>\n",
              "      <td>30.0</td>\n",
              "      <td>2.0</td>\n",
              "      <td>8.0</td>\n",
              "      <td>207.0</td>\n",
              "      <td>0.0</td>\n",
              "      <td>21.0</td>\n",
              "      <td>20.0</td>\n",
              "      <td>4</td>\n",
              "      <td>0.0</td>\n",
              "      <td>-285</td>\n",
              "      <td>5.634722</td>\n",
              "      <td>0.166667</td>\n",
              "      <td>5.000000</td>\n",
              "      <td>0.333333</td>\n",
              "      <td>1.333333</td>\n",
              "      <td>34.5</td>\n",
              "      <td>0.000000</td>\n",
              "      <td>3.5</td>\n",
              "      <td>3.333333</td>\n",
              "      <td>0.666667</td>\n",
              "      <td>0.000000</td>\n",
              "    </tr>\n",
              "    <tr>\n",
              "      <th>4</th>\n",
              "      <td>30746</td>\n",
              "      <td>155603</td>\n",
              "      <td>EMERGENCY</td>\n",
              "      <td>2131-08-22 23:07:00</td>\n",
              "      <td>2131-08-28 13:10:00</td>\n",
              "      <td>NaT</td>\n",
              "      <td>0</td>\n",
              "      <td>ALTERED MENTAL STATUS</td>\n",
              "      <td>DIVORCED</td>\n",
              "      <td>Medicare</td>\n",
              "      <td>ENGL</td>\n",
              "      <td>JEWISH</td>\n",
              "      <td>WHITE</td>\n",
              "      <td>M</td>\n",
              "      <td>2055-03-16</td>\n",
              "      <td>5.5894</td>\n",
              "      <td>0.0</td>\n",
              "      <td>22</td>\n",
              "      <td>53.0</td>\n",
              "      <td>6.0</td>\n",
              "      <td>10.0</td>\n",
              "      <td>378.0</td>\n",
              "      <td>165.0</td>\n",
              "      <td>0.0</td>\n",
              "      <td>115.0</td>\n",
              "      <td>7</td>\n",
              "      <td>5.0</td>\n",
              "      <td>76</td>\n",
              "      <td>5.585417</td>\n",
              "      <td>0.000000</td>\n",
              "      <td>8.833333</td>\n",
              "      <td>1.000000</td>\n",
              "      <td>1.666667</td>\n",
              "      <td>63.0</td>\n",
              "      <td>27.500000</td>\n",
              "      <td>0.0</td>\n",
              "      <td>19.166667</td>\n",
              "      <td>1.166667</td>\n",
              "      <td>0.833333</td>\n",
              "    </tr>\n",
              "  </tbody>\n",
              "</table>\n",
              "</div>"
            ],
            "text/plain": [
              "   SUBJECT_ID  HADM_ID  ... TRANSFER_COUNT_DAY MICRO_COUNT_DAY\n",
              "0        7275   136809  ...           0.600000        9.400000\n",
              "1       17575   187131  ...           0.250000        2.250000\n",
              "2       25251   142346  ...           0.428571        3.285714\n",
              "3       32339   181355  ...           0.666667        0.000000\n",
              "4       30746   155603  ...           1.166667        0.833333\n",
              "\n",
              "[5 rows x 39 columns]"
            ]
          },
          "metadata": {
            "tags": []
          },
          "execution_count": 22
        }
      ]
    },
    {
      "cell_type": "code",
      "metadata": {
        "colab": {
          "base_uri": "https://localhost:8080/"
        },
        "id": "SV8-pS_X4lwl",
        "outputId": "b8f55fac-95d2-4705-825c-05a89a2c1448"
      },
      "source": [
        "df.info()"
      ],
      "execution_count": null,
      "outputs": [
        {
          "output_type": "stream",
          "text": [
            "<class 'pandas.core.frame.DataFrame'>\n",
            "RangeIndex: 58976 entries, 0 to 58975\n",
            "Data columns (total 39 columns):\n",
            " #   Column               Non-Null Count  Dtype         \n",
            "---  ------               --------------  -----         \n",
            " 0   SUBJECT_ID           58976 non-null  int64         \n",
            " 1   HADM_ID              58976 non-null  int64         \n",
            " 2   ADMISSION_TYPE       58976 non-null  object        \n",
            " 3   ADMITTIME            58976 non-null  datetime64[ns]\n",
            " 4   DISCHTIME            58976 non-null  datetime64[ns]\n",
            " 5   DEATHTIME            5854 non-null   object        \n",
            " 6   IN_HOSP_DEATH        58976 non-null  int64         \n",
            " 7   DIAGNOSIS            58951 non-null  object        \n",
            " 8   MARITAL_STATUS       48848 non-null  object        \n",
            " 9   INSURANCE            58976 non-null  object        \n",
            " 10  LANGUAGE             33644 non-null  object        \n",
            " 11  RELIGION             58518 non-null  object        \n",
            " 12  ETHNICITY            58976 non-null  object        \n",
            " 13  GENDER               58976 non-null  object        \n",
            " 14  DOB                  58976 non-null  datetime64[ns]\n",
            " 15  LOS_ICU              58976 non-null  float64       \n",
            " 16  CALLOUT_COUNT        58976 non-null  float64       \n",
            " 17  DIAG_COUNT           58976 non-null  int64         \n",
            " 18  PRES_COUNT           58976 non-null  float64       \n",
            " 19  PROC_COUNT           58976 non-null  float64       \n",
            " 20  CPT_COUNT            58976 non-null  float64       \n",
            " 21  LAB_COUNT            58976 non-null  float64       \n",
            " 22  INPUTS_CV_COUNT      58976 non-null  float64       \n",
            " 23  INPUTS_MV_COUNT      58976 non-null  float64       \n",
            " 24  OUTPUT_COUNT         58976 non-null  float64       \n",
            " 25  TRANSFER_COUNT       58976 non-null  int64         \n",
            " 26  MICRO_COUNT          58976 non-null  float64       \n",
            " 27  AGE                  58976 non-null  int64         \n",
            " 28  LOS                  58976 non-null  float64       \n",
            " 29  CALLOUT_COUNT_DAY    58976 non-null  float64       \n",
            " 30  PRES_COUNT_DAY       58976 non-null  float64       \n",
            " 31  PROC_COUNT_DAY       58976 non-null  float64       \n",
            " 32  CPT_COUNT_DAY        58976 non-null  float64       \n",
            " 33  LAB_COUNT_DAY        58976 non-null  float64       \n",
            " 34  INPUTS_CV_COUNT_DAY  58976 non-null  float64       \n",
            " 35  INPUTS_MV_COUNT_DAY  58976 non-null  float64       \n",
            " 36  OUTPUT_COUNT_DAY     58976 non-null  float64       \n",
            " 37  TRANSFER_COUNT_DAY   58976 non-null  float64       \n",
            " 38  MICRO_COUNT_DAY      58976 non-null  float64       \n",
            "dtypes: datetime64[ns](3), float64(21), int64(6), object(9)\n",
            "memory usage: 17.5+ MB\n"
          ],
          "name": "stdout"
        }
      ]
    },
    {
      "cell_type": "markdown",
      "metadata": {
        "id": "i2XlA_00LM-Y"
      },
      "source": [
        "#### Categorical features\n",
        "\n",
        "There are three categorical variables containing missing values.\n",
        "\n",
        "`MARITAL_STATUS`: fill in the default value"
      ]
    },
    {
      "cell_type": "code",
      "metadata": {
        "id": "G_T_FZi7LQYZ",
        "colab": {
          "base_uri": "https://localhost:8080/"
        },
        "outputId": "ec1350cb-5bbc-4d9f-b141-1b8caf184e2b"
      },
      "source": [
        "df['MARITAL_STATUS'].value_counts(dropna = False) \n",
        "# by specifying dropna = False, the function counts the number of NaN too"
      ],
      "execution_count": null,
      "outputs": [
        {
          "output_type": "execute_result",
          "data": {
            "text/plain": [
              "MARRIED              24239\n",
              "SINGLE               13254\n",
              "NaN                  10128\n",
              "WIDOWED               7211\n",
              "DIVORCED              3213\n",
              "SEPARATED              571\n",
              "UNKNOWN (DEFAULT)      345\n",
              "LIFE PARTNER            15\n",
              "Name: MARITAL_STATUS, dtype: int64"
            ]
          },
          "metadata": {
            "tags": []
          },
          "execution_count": 24
        }
      ]
    },
    {
      "cell_type": "code",
      "metadata": {
        "id": "jGyIZ50JM-Tn"
      },
      "source": [
        "df['MARITAL_STATUS'] = df['MARITAL_STATUS'].fillna('UNKNOWN (DEFAULT)')"
      ],
      "execution_count": null,
      "outputs": []
    },
    {
      "cell_type": "code",
      "metadata": {
        "colab": {
          "base_uri": "https://localhost:8080/"
        },
        "id": "yvMNAzEJ5onW",
        "outputId": "eccc1cf7-e006-42ce-eed2-4a7248596285"
      },
      "source": [
        "df['MARITAL_STATUS'].value_counts(dropna = False) # no more NaN's!"
      ],
      "execution_count": null,
      "outputs": [
        {
          "output_type": "execute_result",
          "data": {
            "text/plain": [
              "MARRIED              24239\n",
              "SINGLE               13254\n",
              "UNKNOWN (DEFAULT)    10473\n",
              "WIDOWED               7211\n",
              "DIVORCED              3213\n",
              "SEPARATED              571\n",
              "LIFE PARTNER            15\n",
              "Name: MARITAL_STATUS, dtype: int64"
            ]
          },
          "metadata": {
            "tags": []
          },
          "execution_count": 26
        }
      ]
    },
    {
      "cell_type": "markdown",
      "metadata": {
        "id": "6mgB4Bpywmdp"
      },
      "source": [
        "`RELIGION`: fill in 'NOT SPECIFIED'"
      ]
    },
    {
      "cell_type": "code",
      "metadata": {
        "id": "y44yD-OFOHR-",
        "colab": {
          "base_uri": "https://localhost:8080/"
        },
        "outputId": "69896a29-bbef-487e-86d6-c19736c1dc9d"
      },
      "source": [
        "df['RELIGION'].value_counts(dropna = False)"
      ],
      "execution_count": null,
      "outputs": [
        {
          "output_type": "execute_result",
          "data": {
            "text/plain": [
              "CATHOLIC                  20606\n",
              "NOT SPECIFIED             11753\n",
              "UNOBTAINABLE               8269\n",
              "PROTESTANT QUAKER          7134\n",
              "JEWISH                     5314\n",
              "OTHER                      2696\n",
              "EPISCOPALIAN                774\n",
              "GREEK ORTHODOX              459\n",
              "NaN                         458\n",
              "CHRISTIAN SCIENTIST         429\n",
              "BUDDHIST                    267\n",
              "MUSLIM                      225\n",
              "JEHOVAH'S WITNESS           139\n",
              "UNITARIAN-UNIVERSALIST      124\n",
              "HINDU                       113\n",
              "ROMANIAN EAST. ORTH          83\n",
              "7TH DAY ADVENTIST            81\n",
              "BAPTIST                      28\n",
              "HEBREW                       16\n",
              "METHODIST                     7\n",
              "LUTHERAN                      1\n",
              "Name: RELIGION, dtype: int64"
            ]
          },
          "metadata": {
            "tags": []
          },
          "execution_count": 27
        }
      ]
    },
    {
      "cell_type": "code",
      "metadata": {
        "id": "xF4ST1_lwwKf"
      },
      "source": [
        "df['RELIGION'] = df['RELIGION'].fillna('NOT SPECIFIED')"
      ],
      "execution_count": null,
      "outputs": []
    },
    {
      "cell_type": "code",
      "metadata": {
        "colab": {
          "base_uri": "https://localhost:8080/"
        },
        "id": "tGxH9oSS6u6T",
        "outputId": "b00b37e1-9a93-4b03-c37b-de134741c576"
      },
      "source": [
        "df['RELIGION'].value_counts(dropna = False) # no more NaN's!"
      ],
      "execution_count": null,
      "outputs": [
        {
          "output_type": "execute_result",
          "data": {
            "text/plain": [
              "CATHOLIC                  20606\n",
              "NOT SPECIFIED             12211\n",
              "UNOBTAINABLE               8269\n",
              "PROTESTANT QUAKER          7134\n",
              "JEWISH                     5314\n",
              "OTHER                      2696\n",
              "EPISCOPALIAN                774\n",
              "GREEK ORTHODOX              459\n",
              "CHRISTIAN SCIENTIST         429\n",
              "BUDDHIST                    267\n",
              "MUSLIM                      225\n",
              "JEHOVAH'S WITNESS           139\n",
              "UNITARIAN-UNIVERSALIST      124\n",
              "HINDU                       113\n",
              "ROMANIAN EAST. ORTH          83\n",
              "7TH DAY ADVENTIST            81\n",
              "BAPTIST                      28\n",
              "HEBREW                       16\n",
              "METHODIST                     7\n",
              "LUTHERAN                      1\n",
              "Name: RELIGION, dtype: int64"
            ]
          },
          "metadata": {
            "tags": []
          },
          "execution_count": 29
        }
      ]
    },
    {
      "cell_type": "markdown",
      "metadata": {
        "id": "9Zz41vGLwccg"
      },
      "source": [
        "`LANGUAGE`\r\n",
        "\r\n",
        "As an example, we fill in with the most frequent value. You may consider other approaches too such as creating a new category of its own or discarding the variable."
      ]
    },
    {
      "cell_type": "code",
      "metadata": {
        "id": "bo9Yk8y6NbFu",
        "colab": {
          "base_uri": "https://localhost:8080/"
        },
        "outputId": "8daa3af8-c2c7-4dd6-9647-edce7279ad9c"
      },
      "source": [
        "df['LANGUAGE'].value_counts(dropna = False)"
      ],
      "execution_count": null,
      "outputs": [
        {
          "output_type": "execute_result",
          "data": {
            "text/plain": [
              "ENGL    29086\n",
              "NaN     25332\n",
              "SPAN     1083\n",
              "RUSS      790\n",
              "PTUN      628\n",
              "        ...  \n",
              "*ARA        1\n",
              "*FIL        1\n",
              "* FU        1\n",
              "GERM        1\n",
              "*PER        1\n",
              "Name: LANGUAGE, Length: 76, dtype: int64"
            ]
          },
          "metadata": {
            "tags": []
          },
          "execution_count": 30
        }
      ]
    },
    {
      "cell_type": "code",
      "metadata": {
        "id": "TtjQkrTrOAw7"
      },
      "source": [
        "df['LANGUAGE'] = df['LANGUAGE'].fillna('ENGL')"
      ],
      "execution_count": null,
      "outputs": []
    },
    {
      "cell_type": "code",
      "metadata": {
        "colab": {
          "base_uri": "https://localhost:8080/"
        },
        "id": "mixVE3Nk6Wvt",
        "outputId": "ced80471-c39e-4ef9-df66-32a0eb8fd935"
      },
      "source": [
        "df['LANGUAGE'].value_counts(dropna = False) # no more NaN's!"
      ],
      "execution_count": null,
      "outputs": [
        {
          "output_type": "execute_result",
          "data": {
            "text/plain": [
              "ENGL    54418\n",
              "SPAN     1083\n",
              "RUSS      790\n",
              "PTUN      628\n",
              "CANT      413\n",
              "        ...  \n",
              "*FAR        1\n",
              "*RUS        1\n",
              "*ROM        1\n",
              "SERB        1\n",
              "*SPA        1\n",
              "Name: LANGUAGE, Length: 75, dtype: int64"
            ]
          },
          "metadata": {
            "tags": []
          },
          "execution_count": 32
        }
      ]
    },
    {
      "cell_type": "markdown",
      "metadata": {
        "id": "vpSQmRck6-m3"
      },
      "source": [
        "Now, we can see that the only column with missing values is `DEATHTIME`. We can leave it as is as it would not be used as a predictor in the model. "
      ]
    },
    {
      "cell_type": "code",
      "metadata": {
        "colab": {
          "base_uri": "https://localhost:8080/"
        },
        "id": "YTFNA5KR65ND",
        "outputId": "2bb1917c-6e20-4d7c-d82a-20a306c39d88"
      },
      "source": [
        "df.info()"
      ],
      "execution_count": null,
      "outputs": [
        {
          "output_type": "stream",
          "text": [
            "<class 'pandas.core.frame.DataFrame'>\n",
            "RangeIndex: 58976 entries, 0 to 58975\n",
            "Data columns (total 39 columns):\n",
            " #   Column               Non-Null Count  Dtype         \n",
            "---  ------               --------------  -----         \n",
            " 0   SUBJECT_ID           58976 non-null  int64         \n",
            " 1   HADM_ID              58976 non-null  int64         \n",
            " 2   ADMISSION_TYPE       58976 non-null  object        \n",
            " 3   ADMITTIME            58976 non-null  datetime64[ns]\n",
            " 4   DISCHTIME            58976 non-null  datetime64[ns]\n",
            " 5   DEATHTIME            5854 non-null   object        \n",
            " 6   IN_HOSP_DEATH        58976 non-null  int64         \n",
            " 7   DIAGNOSIS            58951 non-null  object        \n",
            " 8   MARITAL_STATUS       58976 non-null  object        \n",
            " 9   INSURANCE            58976 non-null  object        \n",
            " 10  LANGUAGE             58976 non-null  object        \n",
            " 11  RELIGION             58976 non-null  object        \n",
            " 12  ETHNICITY            58976 non-null  object        \n",
            " 13  GENDER               58976 non-null  object        \n",
            " 14  DOB                  58976 non-null  datetime64[ns]\n",
            " 15  LOS_ICU              58976 non-null  float64       \n",
            " 16  CALLOUT_COUNT        58976 non-null  float64       \n",
            " 17  DIAG_COUNT           58976 non-null  int64         \n",
            " 18  PRES_COUNT           58976 non-null  float64       \n",
            " 19  PROC_COUNT           58976 non-null  float64       \n",
            " 20  CPT_COUNT            58976 non-null  float64       \n",
            " 21  LAB_COUNT            58976 non-null  float64       \n",
            " 22  INPUTS_CV_COUNT      58976 non-null  float64       \n",
            " 23  INPUTS_MV_COUNT      58976 non-null  float64       \n",
            " 24  OUTPUT_COUNT         58976 non-null  float64       \n",
            " 25  TRANSFER_COUNT       58976 non-null  int64         \n",
            " 26  MICRO_COUNT          58976 non-null  float64       \n",
            " 27  AGE                  58976 non-null  int64         \n",
            " 28  LOS                  58976 non-null  float64       \n",
            " 29  CALLOUT_COUNT_DAY    58976 non-null  float64       \n",
            " 30  PRES_COUNT_DAY       58976 non-null  float64       \n",
            " 31  PROC_COUNT_DAY       58976 non-null  float64       \n",
            " 32  CPT_COUNT_DAY        58976 non-null  float64       \n",
            " 33  LAB_COUNT_DAY        58976 non-null  float64       \n",
            " 34  INPUTS_CV_COUNT_DAY  58976 non-null  float64       \n",
            " 35  INPUTS_MV_COUNT_DAY  58976 non-null  float64       \n",
            " 36  OUTPUT_COUNT_DAY     58976 non-null  float64       \n",
            " 37  TRANSFER_COUNT_DAY   58976 non-null  float64       \n",
            " 38  MICRO_COUNT_DAY      58976 non-null  float64       \n",
            "dtypes: datetime64[ns](3), float64(21), int64(6), object(9)\n",
            "memory usage: 17.5+ MB\n"
          ],
          "name": "stdout"
        }
      ]
    },
    {
      "cell_type": "markdown",
      "metadata": {
        "id": "ZJHJy6Q28SAu"
      },
      "source": [
        "### Correcting\r\n",
        "\r\n",
        "As we have seen previously, the age column contains certain suspicious values. Why is that?"
      ]
    },
    {
      "cell_type": "code",
      "metadata": {
        "colab": {
          "base_uri": "https://localhost:8080/",
          "height": 281
        },
        "id": "bCoXkhKs8ia_",
        "outputId": "406cfa9a-a31d-4bd1-d5b1-4690524de303"
      },
      "source": [
        "df['AGE'].hist()"
      ],
      "execution_count": null,
      "outputs": [
        {
          "output_type": "execute_result",
          "data": {
            "text/plain": [
              "<matplotlib.axes._subplots.AxesSubplot at 0x7f2613805780>"
            ]
          },
          "metadata": {
            "tags": []
          },
          "execution_count": 34
        },
        {
          "output_type": "display_data",
          "data": {
            "image/png": "[encoded data removed]",
            "text/plain": [
              "<Figure size 432x288 with 1 Axes>"
            ]
          },
          "metadata": {
            "tags": [],
            "needs_background": "light"
          }
        }
      ]
    },
    {
      "cell_type": "markdown",
      "metadata": {
        "id": "3CkPzQvj86Bp"
      },
      "source": [
        "A number of measures were performed to protect patient privacy. Quoting from [MIMIC-III's documentation](https://mimic.physionet.org/mimicdata/time/), \r\n",
        "\r\n",
        "> All dates in the database have been shifted to protect patient confidentiality. Dates will be internally consistent for the same patient, but randomly distributed in the future.\r\n",
        "\r\n",
        "> Dates of birth which occur in the present time are not true dates of birth. Furthermore, dates of birth which occur before the year 1900 occur if the patient is older than 89. In these cases, the patient’s age at their first admission has been fixed to 300.\r\n",
        "\r\n",
        "In other words, all patients with a negative 'age' calculated above are older than 89. For illustration, let's simply set them to be 90."
      ]
    },
    {
      "cell_type": "code",
      "metadata": {
        "id": "RNiHNXoW9ky8"
      },
      "source": [
        "df.loc[df['AGE'] < 0, 'AGE'] = 90"
      ],
      "execution_count": null,
      "outputs": []
    },
    {
      "cell_type": "code",
      "metadata": {
        "colab": {
          "base_uri": "https://localhost:8080/",
          "height": 286
        },
        "id": "xCE2mPLs-k9G",
        "outputId": "6097beaa-7c2a-4682-8631-20b23f2528d2"
      },
      "source": [
        "df['AGE'].hist()"
      ],
      "execution_count": null,
      "outputs": [
        {
          "output_type": "execute_result",
          "data": {
            "text/plain": [
              "<matplotlib.axes._subplots.AxesSubplot at 0x7f2613844ac8>"
            ]
          },
          "metadata": {
            "tags": []
          },
          "execution_count": 36
        },
        {
          "output_type": "display_data",
          "data": {
            "image/png": "[encoded data removed]",
            "text/plain": [
              "<Figure size 432x288 with 1 Axes>"
            ]
          },
          "metadata": {
            "tags": [],
            "needs_background": "light"
          }
        }
      ]
    },
    {
      "cell_type": "markdown",
      "metadata": {
        "id": "1MPvs3LI-20C"
      },
      "source": [
        "Now, the ~8,000 admissions centered around 0 refers to newborns."
      ]
    },
    {
      "cell_type": "markdown",
      "metadata": {
        "id": "hiX6kCEIH0ZE"
      },
      "source": [
        "### Encoding for Categorical Variables (Converting)"
      ]
    },
    {
      "cell_type": "markdown",
      "metadata": {
        "id": "4bZCNpFe_ybx"
      },
      "source": [
        "Categorical variables contains text which usually cannot be directly used as model inputs. We have to convert them using either *Label encoding* or *one-hot encoding*. *Label encoding* represents each category as a distinct number, whereas one-hot coding represents each category as multiple binary variables, spanning across multiple columns.\r\n",
        "\r\n",
        "![encodings](https://miro.medium.com/max/3000/0*T5jaa2othYfXZX9W.)\r\n",
        "\r\n",
        "As a rule of thumb, *one-hot encoding* is better in most cases so that the machine learning model would not treat the encoded values as numerical features. However, tree-based model such as random forest can work with label encoding. \r\n",
        "\r\n",
        "To perform one-hot encoding, I recommend using the `get_dummies()` function from pandas.\r\n",
        "\r\n",
        "For label encoding, we can apply the Scikit-Learn package and use `LabelEncoder()`."
      ]
    },
    {
      "cell_type": "markdown",
      "metadata": {
        "id": "pyXQm4cDKMZT"
      },
      "source": [
        "`ADMISSION_TYPE`"
      ]
    },
    {
      "cell_type": "code",
      "metadata": {
        "colab": {
          "base_uri": "https://localhost:8080/",
          "height": 404
        },
        "id": "uQg-ve5oJkGo",
        "outputId": "c9d25c7d-bacc-4737-9296-557308974ca6"
      },
      "source": [
        "tmp_df_admissions = pd.get_dummies(df['ADMISSION_TYPE'], prefix = 'ADMISSION_TYPE')\r\n",
        "tmp_df_admissions"
      ],
      "execution_count": null,
      "outputs": [
        {
          "output_type": "execute_result",
          "data": {
            "text/html": [
              "<div>\n",
              "<style scoped>\n",
              "    .dataframe tbody tr th:only-of-type {\n",
              "        vertical-align: middle;\n",
              "    }\n",
              "\n",
              "    .dataframe tbody tr th {\n",
              "        vertical-align: top;\n",
              "    }\n",
              "\n",
              "    .dataframe thead th {\n",
              "        text-align: right;\n",
              "    }\n",
              "</style>\n",
              "<table border=\"1\" class=\"dataframe\">\n",
              "  <thead>\n",
              "    <tr style=\"text-align: right;\">\n",
              "      <th></th>\n",
              "      <th>ADMISSION_TYPE_ELECTIVE</th>\n",
              "      <th>ADMISSION_TYPE_EMERGENCY</th>\n",
              "      <th>ADMISSION_TYPE_NEWBORN</th>\n",
              "      <th>ADMISSION_TYPE_URGENT</th>\n",
              "    </tr>\n",
              "  </thead>\n",
              "  <tbody>\n",
              "    <tr>\n",
              "      <th>0</th>\n",
              "      <td>0</td>\n",
              "      <td>1</td>\n",
              "      <td>0</td>\n",
              "      <td>0</td>\n",
              "    </tr>\n",
              "    <tr>\n",
              "      <th>1</th>\n",
              "      <td>0</td>\n",
              "      <td>1</td>\n",
              "      <td>0</td>\n",
              "      <td>0</td>\n",
              "    </tr>\n",
              "    <tr>\n",
              "      <th>2</th>\n",
              "      <td>0</td>\n",
              "      <td>1</td>\n",
              "      <td>0</td>\n",
              "      <td>0</td>\n",
              "    </tr>\n",
              "    <tr>\n",
              "      <th>3</th>\n",
              "      <td>0</td>\n",
              "      <td>1</td>\n",
              "      <td>0</td>\n",
              "      <td>0</td>\n",
              "    </tr>\n",
              "    <tr>\n",
              "      <th>4</th>\n",
              "      <td>0</td>\n",
              "      <td>1</td>\n",
              "      <td>0</td>\n",
              "      <td>0</td>\n",
              "    </tr>\n",
              "    <tr>\n",
              "      <th>...</th>\n",
              "      <td>...</td>\n",
              "      <td>...</td>\n",
              "      <td>...</td>\n",
              "      <td>...</td>\n",
              "    </tr>\n",
              "    <tr>\n",
              "      <th>58971</th>\n",
              "      <td>0</td>\n",
              "      <td>1</td>\n",
              "      <td>0</td>\n",
              "      <td>0</td>\n",
              "    </tr>\n",
              "    <tr>\n",
              "      <th>58972</th>\n",
              "      <td>0</td>\n",
              "      <td>1</td>\n",
              "      <td>0</td>\n",
              "      <td>0</td>\n",
              "    </tr>\n",
              "    <tr>\n",
              "      <th>58973</th>\n",
              "      <td>0</td>\n",
              "      <td>1</td>\n",
              "      <td>0</td>\n",
              "      <td>0</td>\n",
              "    </tr>\n",
              "    <tr>\n",
              "      <th>58974</th>\n",
              "      <td>0</td>\n",
              "      <td>1</td>\n",
              "      <td>0</td>\n",
              "      <td>0</td>\n",
              "    </tr>\n",
              "    <tr>\n",
              "      <th>58975</th>\n",
              "      <td>0</td>\n",
              "      <td>0</td>\n",
              "      <td>0</td>\n",
              "      <td>1</td>\n",
              "    </tr>\n",
              "  </tbody>\n",
              "</table>\n",
              "<p>58976 rows × 4 columns</p>\n",
              "</div>"
            ],
            "text/plain": [
              "       ADMISSION_TYPE_ELECTIVE  ...  ADMISSION_TYPE_URGENT\n",
              "0                            0  ...                      0\n",
              "1                            0  ...                      0\n",
              "2                            0  ...                      0\n",
              "3                            0  ...                      0\n",
              "4                            0  ...                      0\n",
              "...                        ...  ...                    ...\n",
              "58971                        0  ...                      0\n",
              "58972                        0  ...                      0\n",
              "58973                        0  ...                      0\n",
              "58974                        0  ...                      0\n",
              "58975                        0  ...                      1\n",
              "\n",
              "[58976 rows x 4 columns]"
            ]
          },
          "metadata": {
            "tags": []
          },
          "execution_count": 37
        }
      ]
    },
    {
      "cell_type": "code",
      "metadata": {
        "id": "N7FPqZxqK3M5"
      },
      "source": [
        "df = pd.concat([df, tmp_df_admissions], axis = 1) \r\n",
        "# add the above temporary dataframe to the original dataframe, axis = 1 specifies that we want to stack them horizontally not vertically"
      ],
      "execution_count": null,
      "outputs": []
    },
    {
      "cell_type": "code",
      "metadata": {
        "colab": {
          "base_uri": "https://localhost:8080/"
        },
        "id": "iiOoIeZILTlU",
        "outputId": "5b716cb6-589e-4405-a331-7d3e5dd3d14f"
      },
      "source": [
        "df.info()"
      ],
      "execution_count": null,
      "outputs": [
        {
          "output_type": "stream",
          "text": [
            "<class 'pandas.core.frame.DataFrame'>\n",
            "RangeIndex: 58976 entries, 0 to 58975\n",
            "Data columns (total 43 columns):\n",
            " #   Column                    Non-Null Count  Dtype         \n",
            "---  ------                    --------------  -----         \n",
            " 0   SUBJECT_ID                58976 non-null  int64         \n",
            " 1   HADM_ID                   58976 non-null  int64         \n",
            " 2   ADMISSION_TYPE            58976 non-null  object        \n",
            " 3   ADMITTIME                 58976 non-null  datetime64[ns]\n",
            " 4   DISCHTIME                 58976 non-null  datetime64[ns]\n",
            " 5   DEATHTIME                 5854 non-null   object        \n",
            " 6   IN_HOSP_DEATH             58976 non-null  int64         \n",
            " 7   DIAGNOSIS                 58951 non-null  object        \n",
            " 8   MARITAL_STATUS            58976 non-null  object        \n",
            " 9   INSURANCE                 58976 non-null  object        \n",
            " 10  LANGUAGE                  58976 non-null  object        \n",
            " 11  RELIGION                  58976 non-null  object        \n",
            " 12  ETHNICITY                 58976 non-null  object        \n",
            " 13  GENDER                    58976 non-null  object        \n",
            " 14  DOB                       58976 non-null  datetime64[ns]\n",
            " 15  LOS_ICU                   58976 non-null  float64       \n",
            " 16  CALLOUT_COUNT             58976 non-null  float64       \n",
            " 17  DIAG_COUNT                58976 non-null  int64         \n",
            " 18  PRES_COUNT                58976 non-null  float64       \n",
            " 19  PROC_COUNT                58976 non-null  float64       \n",
            " 20  CPT_COUNT                 58976 non-null  float64       \n",
            " 21  LAB_COUNT                 58976 non-null  float64       \n",
            " 22  INPUTS_CV_COUNT           58976 non-null  float64       \n",
            " 23  INPUTS_MV_COUNT           58976 non-null  float64       \n",
            " 24  OUTPUT_COUNT              58976 non-null  float64       \n",
            " 25  TRANSFER_COUNT            58976 non-null  int64         \n",
            " 26  MICRO_COUNT               58976 non-null  float64       \n",
            " 27  AGE                       58976 non-null  int64         \n",
            " 28  LOS                       58976 non-null  float64       \n",
            " 29  CALLOUT_COUNT_DAY         58976 non-null  float64       \n",
            " 30  PRES_COUNT_DAY            58976 non-null  float64       \n",
            " 31  PROC_COUNT_DAY            58976 non-null  float64       \n",
            " 32  CPT_COUNT_DAY             58976 non-null  float64       \n",
            " 33  LAB_COUNT_DAY             58976 non-null  float64       \n",
            " 34  INPUTS_CV_COUNT_DAY       58976 non-null  float64       \n",
            " 35  INPUTS_MV_COUNT_DAY       58976 non-null  float64       \n",
            " 36  OUTPUT_COUNT_DAY          58976 non-null  float64       \n",
            " 37  TRANSFER_COUNT_DAY        58976 non-null  float64       \n",
            " 38  MICRO_COUNT_DAY           58976 non-null  float64       \n",
            " 39  ADMISSION_TYPE_ELECTIVE   58976 non-null  uint8         \n",
            " 40  ADMISSION_TYPE_EMERGENCY  58976 non-null  uint8         \n",
            " 41  ADMISSION_TYPE_NEWBORN    58976 non-null  uint8         \n",
            " 42  ADMISSION_TYPE_URGENT     58976 non-null  uint8         \n",
            "dtypes: datetime64[ns](3), float64(21), int64(6), object(9), uint8(4)\n",
            "memory usage: 17.8+ MB\n"
          ],
          "name": "stdout"
        }
      ]
    },
    {
      "cell_type": "markdown",
      "metadata": {
        "id": "LKlw27xRKVhb"
      },
      "source": [
        "`GENDER`\r\n",
        "\r\n",
        "As the column only takes on two values 'M' and 'F', it is easier to simply do a logical operation and save the results as a new column. "
      ]
    },
    {
      "cell_type": "code",
      "metadata": {
        "colab": {
          "base_uri": "https://localhost:8080/"
        },
        "id": "7hFdKZI5KW58",
        "outputId": "415cd5ed-2a60-45dc-d240-42f2f377adea"
      },
      "source": [
        "df['GENDER'].value_counts()"
      ],
      "execution_count": null,
      "outputs": [
        {
          "output_type": "execute_result",
          "data": {
            "text/plain": [
              "M    32950\n",
              "F    26026\n",
              "Name: GENDER, dtype: int64"
            ]
          },
          "metadata": {
            "tags": []
          },
          "execution_count": 40
        }
      ]
    },
    {
      "cell_type": "code",
      "metadata": {
        "id": "ybf_X9lXKa38"
      },
      "source": [
        "df['GENDER_F'] = (df['GENDER'] == 'F') * 1"
      ],
      "execution_count": null,
      "outputs": []
    },
    {
      "cell_type": "code",
      "metadata": {
        "colab": {
          "base_uri": "https://localhost:8080/"
        },
        "id": "AXoOJbOiLfv5",
        "outputId": "8459b3c0-69e2-408d-eb1d-512e2f3fa6b3"
      },
      "source": [
        "df['GENDER_F'].value_counts()"
      ],
      "execution_count": null,
      "outputs": [
        {
          "output_type": "execute_result",
          "data": {
            "text/plain": [
              "0    32950\n",
              "1    26026\n",
              "Name: GENDER_F, dtype: int64"
            ]
          },
          "metadata": {
            "tags": []
          },
          "execution_count": 42
        }
      ]
    },
    {
      "cell_type": "markdown",
      "metadata": {
        "id": "HDTcBKSvLjRT"
      },
      "source": [
        "`RELIGION`\r\n",
        "\r\n",
        "The column contains several categories but many of them have a limited sample size and thus may have a limited value for model training. We may retain the most prevalent categories and group the rest into an 'OTHERS' category before one-hot encoding."
      ]
    },
    {
      "cell_type": "code",
      "metadata": {
        "colab": {
          "base_uri": "https://localhost:8080/"
        },
        "id": "VNwOT-GdKDXF",
        "outputId": "946b91af-5671-4e86-d32d-8bd557480eb0"
      },
      "source": [
        "df['RELIGION'].value_counts()"
      ],
      "execution_count": null,
      "outputs": [
        {
          "output_type": "execute_result",
          "data": {
            "text/plain": [
              "CATHOLIC                  20606\n",
              "NOT SPECIFIED             12211\n",
              "UNOBTAINABLE               8269\n",
              "PROTESTANT QUAKER          7134\n",
              "JEWISH                     5314\n",
              "OTHER                      2696\n",
              "EPISCOPALIAN                774\n",
              "GREEK ORTHODOX              459\n",
              "CHRISTIAN SCIENTIST         429\n",
              "BUDDHIST                    267\n",
              "MUSLIM                      225\n",
              "JEHOVAH'S WITNESS           139\n",
              "UNITARIAN-UNIVERSALIST      124\n",
              "HINDU                       113\n",
              "ROMANIAN EAST. ORTH          83\n",
              "7TH DAY ADVENTIST            81\n",
              "BAPTIST                      28\n",
              "HEBREW                       16\n",
              "METHODIST                     7\n",
              "LUTHERAN                      1\n",
              "Name: RELIGION, dtype: int64"
            ]
          },
          "metadata": {
            "tags": []
          },
          "execution_count": 43
        }
      ]
    },
    {
      "cell_type": "code",
      "metadata": {
        "colab": {
          "base_uri": "https://localhost:8080/",
          "height": 404
        },
        "id": "Dd6PXHI1NCoI",
        "outputId": "f1283e81-967e-44ed-b310-1682e2728c44"
      },
      "source": [
        "tmp_categories = list(df['RELIGION'].value_counts()[:3].keys()) + ['OTHERS'] # retain the top 3 categories, plus 'OTHERS\r\n",
        "\r\n",
        "tmp_categories_dtype = pd.CategoricalDtype(tmp_categories)\r\n",
        "\r\n",
        "tmp_df = df['RELIGION'].astype(tmp_categories_dtype).fillna('OTHERS') \r\n",
        "tmp_df = pd.get_dummies(tmp_df, prefix = 'RELIGION') # create a temporary dataframe with the modified categories\r\n",
        "\r\n",
        "df = pd.concat([df, tmp_df], axis = 1) # add to original dataframe\r\n",
        "\r\n",
        "tmp_df"
      ],
      "execution_count": null,
      "outputs": [
        {
          "output_type": "execute_result",
          "data": {
            "text/html": [
              "<div>\n",
              "<style scoped>\n",
              "    .dataframe tbody tr th:only-of-type {\n",
              "        vertical-align: middle;\n",
              "    }\n",
              "\n",
              "    .dataframe tbody tr th {\n",
              "        vertical-align: top;\n",
              "    }\n",
              "\n",
              "    .dataframe thead th {\n",
              "        text-align: right;\n",
              "    }\n",
              "</style>\n",
              "<table border=\"1\" class=\"dataframe\">\n",
              "  <thead>\n",
              "    <tr style=\"text-align: right;\">\n",
              "      <th></th>\n",
              "      <th>RELIGION_CATHOLIC</th>\n",
              "      <th>RELIGION_NOT SPECIFIED</th>\n",
              "      <th>RELIGION_UNOBTAINABLE</th>\n",
              "      <th>RELIGION_OTHERS</th>\n",
              "    </tr>\n",
              "  </thead>\n",
              "  <tbody>\n",
              "    <tr>\n",
              "      <th>0</th>\n",
              "      <td>0</td>\n",
              "      <td>0</td>\n",
              "      <td>0</td>\n",
              "      <td>1</td>\n",
              "    </tr>\n",
              "    <tr>\n",
              "      <th>1</th>\n",
              "      <td>0</td>\n",
              "      <td>0</td>\n",
              "      <td>0</td>\n",
              "      <td>1</td>\n",
              "    </tr>\n",
              "    <tr>\n",
              "      <th>2</th>\n",
              "      <td>0</td>\n",
              "      <td>0</td>\n",
              "      <td>0</td>\n",
              "      <td>1</td>\n",
              "    </tr>\n",
              "    <tr>\n",
              "      <th>3</th>\n",
              "      <td>0</td>\n",
              "      <td>0</td>\n",
              "      <td>0</td>\n",
              "      <td>1</td>\n",
              "    </tr>\n",
              "    <tr>\n",
              "      <th>4</th>\n",
              "      <td>0</td>\n",
              "      <td>0</td>\n",
              "      <td>0</td>\n",
              "      <td>1</td>\n",
              "    </tr>\n",
              "    <tr>\n",
              "      <th>...</th>\n",
              "      <td>...</td>\n",
              "      <td>...</td>\n",
              "      <td>...</td>\n",
              "      <td>...</td>\n",
              "    </tr>\n",
              "    <tr>\n",
              "      <th>58971</th>\n",
              "      <td>0</td>\n",
              "      <td>0</td>\n",
              "      <td>1</td>\n",
              "      <td>0</td>\n",
              "    </tr>\n",
              "    <tr>\n",
              "      <th>58972</th>\n",
              "      <td>0</td>\n",
              "      <td>0</td>\n",
              "      <td>0</td>\n",
              "      <td>1</td>\n",
              "    </tr>\n",
              "    <tr>\n",
              "      <th>58973</th>\n",
              "      <td>0</td>\n",
              "      <td>1</td>\n",
              "      <td>0</td>\n",
              "      <td>0</td>\n",
              "    </tr>\n",
              "    <tr>\n",
              "      <th>58974</th>\n",
              "      <td>0</td>\n",
              "      <td>1</td>\n",
              "      <td>0</td>\n",
              "      <td>0</td>\n",
              "    </tr>\n",
              "    <tr>\n",
              "      <th>58975</th>\n",
              "      <td>0</td>\n",
              "      <td>1</td>\n",
              "      <td>0</td>\n",
              "      <td>0</td>\n",
              "    </tr>\n",
              "  </tbody>\n",
              "</table>\n",
              "<p>58976 rows × 4 columns</p>\n",
              "</div>"
            ],
            "text/plain": [
              "       RELIGION_CATHOLIC  ...  RELIGION_OTHERS\n",
              "0                      0  ...                1\n",
              "1                      0  ...                1\n",
              "2                      0  ...                1\n",
              "3                      0  ...                1\n",
              "4                      0  ...                1\n",
              "...                  ...  ...              ...\n",
              "58971                  0  ...                0\n",
              "58972                  0  ...                1\n",
              "58973                  0  ...                0\n",
              "58974                  0  ...                0\n",
              "58975                  0  ...                0\n",
              "\n",
              "[58976 rows x 4 columns]"
            ]
          },
          "metadata": {
            "tags": []
          },
          "execution_count": 44
        }
      ]
    },
    {
      "cell_type": "markdown",
      "metadata": {
        "id": "HLXrZ5mLPC9H"
      },
      "source": [
        "Likewise, retain the top 3 categories for `INSURANCE`, `LANGUAGE`, `MARITAL STATUS` and `ETHNICITY`."
      ]
    },
    {
      "cell_type": "code",
      "metadata": {
        "colab": {
          "base_uri": "https://localhost:8080/",
          "height": 404
        },
        "id": "sNzOn7a8Jqqx",
        "outputId": "9b035da3-0a37-43ea-8704-261ef78d231f"
      },
      "source": [
        "tmp_categories = list(df['INSURANCE'].value_counts()[:3].keys()) + ['OTHERS'] # retain the top 3 categories, plus 'OTHERS\r\n",
        "\r\n",
        "tmp_categories_dtype = pd.CategoricalDtype(tmp_categories)\r\n",
        "\r\n",
        "tmp_df = df['INSURANCE'].astype(tmp_categories_dtype).fillna('OTHERS')\r\n",
        "tmp_df = pd.get_dummies(tmp_df, prefix = 'INSURANCE') # create a temporary dataframe with the modified categories\r\n",
        "\r\n",
        "df = pd.concat([df, tmp_df], axis = 1) # add to original dataframe\r\n",
        "\r\n",
        "tmp_df"
      ],
      "execution_count": null,
      "outputs": [
        {
          "output_type": "execute_result",
          "data": {
            "text/html": [
              "<div>\n",
              "<style scoped>\n",
              "    .dataframe tbody tr th:only-of-type {\n",
              "        vertical-align: middle;\n",
              "    }\n",
              "\n",
              "    .dataframe tbody tr th {\n",
              "        vertical-align: top;\n",
              "    }\n",
              "\n",
              "    .dataframe thead th {\n",
              "        text-align: right;\n",
              "    }\n",
              "</style>\n",
              "<table border=\"1\" class=\"dataframe\">\n",
              "  <thead>\n",
              "    <tr style=\"text-align: right;\">\n",
              "      <th></th>\n",
              "      <th>INSURANCE_Medicare</th>\n",
              "      <th>INSURANCE_Private</th>\n",
              "      <th>INSURANCE_Medicaid</th>\n",
              "      <th>INSURANCE_OTHERS</th>\n",
              "    </tr>\n",
              "  </thead>\n",
              "  <tbody>\n",
              "    <tr>\n",
              "      <th>0</th>\n",
              "      <td>1</td>\n",
              "      <td>0</td>\n",
              "      <td>0</td>\n",
              "      <td>0</td>\n",
              "    </tr>\n",
              "    <tr>\n",
              "      <th>1</th>\n",
              "      <td>0</td>\n",
              "      <td>0</td>\n",
              "      <td>0</td>\n",
              "      <td>1</td>\n",
              "    </tr>\n",
              "    <tr>\n",
              "      <th>2</th>\n",
              "      <td>1</td>\n",
              "      <td>0</td>\n",
              "      <td>0</td>\n",
              "      <td>0</td>\n",
              "    </tr>\n",
              "    <tr>\n",
              "      <th>3</th>\n",
              "      <td>1</td>\n",
              "      <td>0</td>\n",
              "      <td>0</td>\n",
              "      <td>0</td>\n",
              "    </tr>\n",
              "    <tr>\n",
              "      <th>4</th>\n",
              "      <td>1</td>\n",
              "      <td>0</td>\n",
              "      <td>0</td>\n",
              "      <td>0</td>\n",
              "    </tr>\n",
              "    <tr>\n",
              "      <th>...</th>\n",
              "      <td>...</td>\n",
              "      <td>...</td>\n",
              "      <td>...</td>\n",
              "      <td>...</td>\n",
              "    </tr>\n",
              "    <tr>\n",
              "      <th>58971</th>\n",
              "      <td>0</td>\n",
              "      <td>1</td>\n",
              "      <td>0</td>\n",
              "      <td>0</td>\n",
              "    </tr>\n",
              "    <tr>\n",
              "      <th>58972</th>\n",
              "      <td>0</td>\n",
              "      <td>0</td>\n",
              "      <td>1</td>\n",
              "      <td>0</td>\n",
              "    </tr>\n",
              "    <tr>\n",
              "      <th>58973</th>\n",
              "      <td>0</td>\n",
              "      <td>1</td>\n",
              "      <td>0</td>\n",
              "      <td>0</td>\n",
              "    </tr>\n",
              "    <tr>\n",
              "      <th>58974</th>\n",
              "      <td>1</td>\n",
              "      <td>0</td>\n",
              "      <td>0</td>\n",
              "      <td>0</td>\n",
              "    </tr>\n",
              "    <tr>\n",
              "      <th>58975</th>\n",
              "      <td>1</td>\n",
              "      <td>0</td>\n",
              "      <td>0</td>\n",
              "      <td>0</td>\n",
              "    </tr>\n",
              "  </tbody>\n",
              "</table>\n",
              "<p>58976 rows × 4 columns</p>\n",
              "</div>"
            ],
            "text/plain": [
              "       INSURANCE_Medicare  ...  INSURANCE_OTHERS\n",
              "0                       1  ...                 0\n",
              "1                       0  ...                 1\n",
              "2                       1  ...                 0\n",
              "3                       1  ...                 0\n",
              "4                       1  ...                 0\n",
              "...                   ...  ...               ...\n",
              "58971                   0  ...                 0\n",
              "58972                   0  ...                 0\n",
              "58973                   0  ...                 0\n",
              "58974                   1  ...                 0\n",
              "58975                   1  ...                 0\n",
              "\n",
              "[58976 rows x 4 columns]"
            ]
          },
          "metadata": {
            "tags": []
          },
          "execution_count": 45
        }
      ]
    },
    {
      "cell_type": "code",
      "metadata": {
        "colab": {
          "base_uri": "https://localhost:8080/",
          "height": 404
        },
        "id": "FSwGzjOBDptY",
        "outputId": "91d4408c-28f0-4c08-840c-012b1adf438b"
      },
      "source": [
        "tmp_categories = list(df['MARITAL_STATUS'].value_counts()[:3].keys()) + ['OTHERS'] # retain the top 3 categories, plus 'OTHERS\r\n",
        "\r\n",
        "tmp_categories_dtype = pd.CategoricalDtype(tmp_categories)\r\n",
        "\r\n",
        "tmp_df = df['MARITAL_STATUS'].astype(tmp_categories_dtype).fillna('OTHERS')\r\n",
        "tmp_df = pd.get_dummies(tmp_df, prefix = 'MARITAL_STATUS') # create a temporary dataframe with the modified categories\r\n",
        "\r\n",
        "df = pd.concat([df, tmp_df], axis = 1) # add to original dataframe\r\n",
        "\r\n",
        "tmp_df"
      ],
      "execution_count": null,
      "outputs": [
        {
          "output_type": "execute_result",
          "data": {
            "text/html": [
              "<div>\n",
              "<style scoped>\n",
              "    .dataframe tbody tr th:only-of-type {\n",
              "        vertical-align: middle;\n",
              "    }\n",
              "\n",
              "    .dataframe tbody tr th {\n",
              "        vertical-align: top;\n",
              "    }\n",
              "\n",
              "    .dataframe thead th {\n",
              "        text-align: right;\n",
              "    }\n",
              "</style>\n",
              "<table border=\"1\" class=\"dataframe\">\n",
              "  <thead>\n",
              "    <tr style=\"text-align: right;\">\n",
              "      <th></th>\n",
              "      <th>MARITAL_STATUS_MARRIED</th>\n",
              "      <th>MARITAL_STATUS_SINGLE</th>\n",
              "      <th>MARITAL_STATUS_UNKNOWN (DEFAULT)</th>\n",
              "      <th>MARITAL_STATUS_OTHERS</th>\n",
              "    </tr>\n",
              "  </thead>\n",
              "  <tbody>\n",
              "    <tr>\n",
              "      <th>0</th>\n",
              "      <td>0</td>\n",
              "      <td>0</td>\n",
              "      <td>0</td>\n",
              "      <td>1</td>\n",
              "    </tr>\n",
              "    <tr>\n",
              "      <th>1</th>\n",
              "      <td>0</td>\n",
              "      <td>1</td>\n",
              "      <td>0</td>\n",
              "      <td>0</td>\n",
              "    </tr>\n",
              "    <tr>\n",
              "      <th>2</th>\n",
              "      <td>0</td>\n",
              "      <td>0</td>\n",
              "      <td>0</td>\n",
              "      <td>1</td>\n",
              "    </tr>\n",
              "    <tr>\n",
              "      <th>3</th>\n",
              "      <td>1</td>\n",
              "      <td>0</td>\n",
              "      <td>0</td>\n",
              "      <td>0</td>\n",
              "    </tr>\n",
              "    <tr>\n",
              "      <th>4</th>\n",
              "      <td>0</td>\n",
              "      <td>0</td>\n",
              "      <td>0</td>\n",
              "      <td>1</td>\n",
              "    </tr>\n",
              "    <tr>\n",
              "      <th>...</th>\n",
              "      <td>...</td>\n",
              "      <td>...</td>\n",
              "      <td>...</td>\n",
              "      <td>...</td>\n",
              "    </tr>\n",
              "    <tr>\n",
              "      <th>58971</th>\n",
              "      <td>0</td>\n",
              "      <td>0</td>\n",
              "      <td>1</td>\n",
              "      <td>0</td>\n",
              "    </tr>\n",
              "    <tr>\n",
              "      <th>58972</th>\n",
              "      <td>0</td>\n",
              "      <td>0</td>\n",
              "      <td>0</td>\n",
              "      <td>1</td>\n",
              "    </tr>\n",
              "    <tr>\n",
              "      <th>58973</th>\n",
              "      <td>1</td>\n",
              "      <td>0</td>\n",
              "      <td>0</td>\n",
              "      <td>0</td>\n",
              "    </tr>\n",
              "    <tr>\n",
              "      <th>58974</th>\n",
              "      <td>0</td>\n",
              "      <td>0</td>\n",
              "      <td>0</td>\n",
              "      <td>1</td>\n",
              "    </tr>\n",
              "    <tr>\n",
              "      <th>58975</th>\n",
              "      <td>0</td>\n",
              "      <td>1</td>\n",
              "      <td>0</td>\n",
              "      <td>0</td>\n",
              "    </tr>\n",
              "  </tbody>\n",
              "</table>\n",
              "<p>58976 rows × 4 columns</p>\n",
              "</div>"
            ],
            "text/plain": [
              "       MARITAL_STATUS_MARRIED  ...  MARITAL_STATUS_OTHERS\n",
              "0                           0  ...                      1\n",
              "1                           0  ...                      0\n",
              "2                           0  ...                      1\n",
              "3                           1  ...                      0\n",
              "4                           0  ...                      1\n",
              "...                       ...  ...                    ...\n",
              "58971                       0  ...                      0\n",
              "58972                       0  ...                      1\n",
              "58973                       1  ...                      0\n",
              "58974                       0  ...                      1\n",
              "58975                       0  ...                      0\n",
              "\n",
              "[58976 rows x 4 columns]"
            ]
          },
          "metadata": {
            "tags": []
          },
          "execution_count": 46
        }
      ]
    },
    {
      "cell_type": "code",
      "metadata": {
        "colab": {
          "base_uri": "https://localhost:8080/",
          "height": 404
        },
        "id": "x6N73ngWFobI",
        "outputId": "b52d5834-ae24-49d8-f834-0d40df7d653a"
      },
      "source": [
        "tmp_categories = list(df['LANGUAGE'].value_counts()[:3].keys()) + ['OTHERS'] # retain the top 3 categories, plus 'OTHERS\r\n",
        "\r\n",
        "tmp_categories_dtype = pd.CategoricalDtype(tmp_categories)\r\n",
        "\r\n",
        "tmp_df = df['LANGUAGE'].astype(tmp_categories_dtype).fillna('OTHERS')\r\n",
        "tmp_df = pd.get_dummies(tmp_df, prefix = 'LANGUAGE') # create a temporary dataframe with the modified categories\r\n",
        "\r\n",
        "df = pd.concat([df, tmp_df], axis = 1) # add to original dataframe\r\n",
        "\r\n",
        "tmp_df"
      ],
      "execution_count": null,
      "outputs": [
        {
          "output_type": "execute_result",
          "data": {
            "text/html": [
              "<div>\n",
              "<style scoped>\n",
              "    .dataframe tbody tr th:only-of-type {\n",
              "        vertical-align: middle;\n",
              "    }\n",
              "\n",
              "    .dataframe tbody tr th {\n",
              "        vertical-align: top;\n",
              "    }\n",
              "\n",
              "    .dataframe thead th {\n",
              "        text-align: right;\n",
              "    }\n",
              "</style>\n",
              "<table border=\"1\" class=\"dataframe\">\n",
              "  <thead>\n",
              "    <tr style=\"text-align: right;\">\n",
              "      <th></th>\n",
              "      <th>LANGUAGE_ENGL</th>\n",
              "      <th>LANGUAGE_SPAN</th>\n",
              "      <th>LANGUAGE_RUSS</th>\n",
              "      <th>LANGUAGE_OTHERS</th>\n",
              "    </tr>\n",
              "  </thead>\n",
              "  <tbody>\n",
              "    <tr>\n",
              "      <th>0</th>\n",
              "      <td>1</td>\n",
              "      <td>0</td>\n",
              "      <td>0</td>\n",
              "      <td>0</td>\n",
              "    </tr>\n",
              "    <tr>\n",
              "      <th>1</th>\n",
              "      <td>1</td>\n",
              "      <td>0</td>\n",
              "      <td>0</td>\n",
              "      <td>0</td>\n",
              "    </tr>\n",
              "    <tr>\n",
              "      <th>2</th>\n",
              "      <td>1</td>\n",
              "      <td>0</td>\n",
              "      <td>0</td>\n",
              "      <td>0</td>\n",
              "    </tr>\n",
              "    <tr>\n",
              "      <th>3</th>\n",
              "      <td>1</td>\n",
              "      <td>0</td>\n",
              "      <td>0</td>\n",
              "      <td>0</td>\n",
              "    </tr>\n",
              "    <tr>\n",
              "      <th>4</th>\n",
              "      <td>1</td>\n",
              "      <td>0</td>\n",
              "      <td>0</td>\n",
              "      <td>0</td>\n",
              "    </tr>\n",
              "    <tr>\n",
              "      <th>...</th>\n",
              "      <td>...</td>\n",
              "      <td>...</td>\n",
              "      <td>...</td>\n",
              "      <td>...</td>\n",
              "    </tr>\n",
              "    <tr>\n",
              "      <th>58971</th>\n",
              "      <td>0</td>\n",
              "      <td>0</td>\n",
              "      <td>0</td>\n",
              "      <td>1</td>\n",
              "    </tr>\n",
              "    <tr>\n",
              "      <th>58972</th>\n",
              "      <td>0</td>\n",
              "      <td>0</td>\n",
              "      <td>0</td>\n",
              "      <td>1</td>\n",
              "    </tr>\n",
              "    <tr>\n",
              "      <th>58973</th>\n",
              "      <td>0</td>\n",
              "      <td>0</td>\n",
              "      <td>0</td>\n",
              "      <td>1</td>\n",
              "    </tr>\n",
              "    <tr>\n",
              "      <th>58974</th>\n",
              "      <td>1</td>\n",
              "      <td>0</td>\n",
              "      <td>0</td>\n",
              "      <td>0</td>\n",
              "    </tr>\n",
              "    <tr>\n",
              "      <th>58975</th>\n",
              "      <td>1</td>\n",
              "      <td>0</td>\n",
              "      <td>0</td>\n",
              "      <td>0</td>\n",
              "    </tr>\n",
              "  </tbody>\n",
              "</table>\n",
              "<p>58976 rows × 4 columns</p>\n",
              "</div>"
            ],
            "text/plain": [
              "       LANGUAGE_ENGL  LANGUAGE_SPAN  LANGUAGE_RUSS  LANGUAGE_OTHERS\n",
              "0                  1              0              0                0\n",
              "1                  1              0              0                0\n",
              "2                  1              0              0                0\n",
              "3                  1              0              0                0\n",
              "4                  1              0              0                0\n",
              "...              ...            ...            ...              ...\n",
              "58971              0              0              0                1\n",
              "58972              0              0              0                1\n",
              "58973              0              0              0                1\n",
              "58974              1              0              0                0\n",
              "58975              1              0              0                0\n",
              "\n",
              "[58976 rows x 4 columns]"
            ]
          },
          "metadata": {
            "tags": []
          },
          "execution_count": 47
        }
      ]
    },
    {
      "cell_type": "code",
      "metadata": {
        "colab": {
          "base_uri": "https://localhost:8080/",
          "height": 404
        },
        "id": "YoJgXr_NF-LE",
        "outputId": "111134c6-5503-4cd9-ecda-a902268743f2"
      },
      "source": [
        "tmp_categories = list(df['ETHNICITY'].value_counts()[:3].keys()) + ['OTHERS'] # retain the top 3 categories, plus 'OTHERS\r\n",
        "\r\n",
        "tmp_categories_dtype = pd.CategoricalDtype(tmp_categories)\r\n",
        "\r\n",
        "tmp_df = df['ETHNICITY'].astype(tmp_categories_dtype).fillna('OTHERS')\r\n",
        "tmp_df = pd.get_dummies(tmp_df, prefix = 'ETHNICITY') # create a temporary dataframe with the modified categories\r\n",
        "\r\n",
        "df = pd.concat([df, tmp_df], axis = 1) # add to original dataframe\r\n",
        "\r\n",
        "tmp_df"
      ],
      "execution_count": null,
      "outputs": [
        {
          "output_type": "execute_result",
          "data": {
            "text/html": [
              "<div>\n",
              "<style scoped>\n",
              "    .dataframe tbody tr th:only-of-type {\n",
              "        vertical-align: middle;\n",
              "    }\n",
              "\n",
              "    .dataframe tbody tr th {\n",
              "        vertical-align: top;\n",
              "    }\n",
              "\n",
              "    .dataframe thead th {\n",
              "        text-align: right;\n",
              "    }\n",
              "</style>\n",
              "<table border=\"1\" class=\"dataframe\">\n",
              "  <thead>\n",
              "    <tr style=\"text-align: right;\">\n",
              "      <th></th>\n",
              "      <th>ETHNICITY_WHITE</th>\n",
              "      <th>ETHNICITY_BLACK/AFRICAN AMERICAN</th>\n",
              "      <th>ETHNICITY_UNKNOWN/NOT SPECIFIED</th>\n",
              "      <th>ETHNICITY_OTHERS</th>\n",
              "    </tr>\n",
              "  </thead>\n",
              "  <tbody>\n",
              "    <tr>\n",
              "      <th>0</th>\n",
              "      <td>1</td>\n",
              "      <td>0</td>\n",
              "      <td>0</td>\n",
              "      <td>0</td>\n",
              "    </tr>\n",
              "    <tr>\n",
              "      <th>1</th>\n",
              "      <td>0</td>\n",
              "      <td>1</td>\n",
              "      <td>0</td>\n",
              "      <td>0</td>\n",
              "    </tr>\n",
              "    <tr>\n",
              "      <th>2</th>\n",
              "      <td>1</td>\n",
              "      <td>0</td>\n",
              "      <td>0</td>\n",
              "      <td>0</td>\n",
              "    </tr>\n",
              "    <tr>\n",
              "      <th>3</th>\n",
              "      <td>1</td>\n",
              "      <td>0</td>\n",
              "      <td>0</td>\n",
              "      <td>0</td>\n",
              "    </tr>\n",
              "    <tr>\n",
              "      <th>4</th>\n",
              "      <td>1</td>\n",
              "      <td>0</td>\n",
              "      <td>0</td>\n",
              "      <td>0</td>\n",
              "    </tr>\n",
              "    <tr>\n",
              "      <th>...</th>\n",
              "      <td>...</td>\n",
              "      <td>...</td>\n",
              "      <td>...</td>\n",
              "      <td>...</td>\n",
              "    </tr>\n",
              "    <tr>\n",
              "      <th>58971</th>\n",
              "      <td>0</td>\n",
              "      <td>0</td>\n",
              "      <td>1</td>\n",
              "      <td>0</td>\n",
              "    </tr>\n",
              "    <tr>\n",
              "      <th>58972</th>\n",
              "      <td>0</td>\n",
              "      <td>0</td>\n",
              "      <td>0</td>\n",
              "      <td>1</td>\n",
              "    </tr>\n",
              "    <tr>\n",
              "      <th>58973</th>\n",
              "      <td>1</td>\n",
              "      <td>0</td>\n",
              "      <td>0</td>\n",
              "      <td>0</td>\n",
              "    </tr>\n",
              "    <tr>\n",
              "      <th>58974</th>\n",
              "      <td>0</td>\n",
              "      <td>0</td>\n",
              "      <td>1</td>\n",
              "      <td>0</td>\n",
              "    </tr>\n",
              "    <tr>\n",
              "      <th>58975</th>\n",
              "      <td>1</td>\n",
              "      <td>0</td>\n",
              "      <td>0</td>\n",
              "      <td>0</td>\n",
              "    </tr>\n",
              "  </tbody>\n",
              "</table>\n",
              "<p>58976 rows × 4 columns</p>\n",
              "</div>"
            ],
            "text/plain": [
              "       ETHNICITY_WHITE  ...  ETHNICITY_OTHERS\n",
              "0                    1  ...                 0\n",
              "1                    0  ...                 0\n",
              "2                    1  ...                 0\n",
              "3                    1  ...                 0\n",
              "4                    1  ...                 0\n",
              "...                ...  ...               ...\n",
              "58971                0  ...                 0\n",
              "58972                0  ...                 1\n",
              "58973                1  ...                 0\n",
              "58974                0  ...                 0\n",
              "58975                1  ...                 0\n",
              "\n",
              "[58976 rows x 4 columns]"
            ]
          },
          "metadata": {
            "tags": []
          },
          "execution_count": 48
        }
      ]
    },
    {
      "cell_type": "markdown",
      "metadata": {
        "id": "QpXZL_9NV0FL"
      },
      "source": [
        "### Save your pre-processed dataframe \n",
        "\n",
        "When you are done with data preparation, it is highly recommended for you to save your resulting dataframe so that you do not need to go through all the preprocessing steps whenever you come back to work on it (or you lose internet connection). We can save and load datasets to/from your Google Drive.\n",
        "\n",
        "First let's check the pre-processed dataframe. Yours may look differently if you altered the pre-processing steps."
      ]
    },
    {
      "cell_type": "code",
      "metadata": {
        "colab": {
          "base_uri": "https://localhost:8080/"
        },
        "id": "9xwz53y8QO4c",
        "outputId": "7c288682-66d3-41e1-a209-436505c6e416"
      },
      "source": [
        "df.info()"
      ],
      "execution_count": null,
      "outputs": [
        {
          "output_type": "stream",
          "text": [
            "<class 'pandas.core.frame.DataFrame'>\n",
            "RangeIndex: 58976 entries, 0 to 58975\n",
            "Data columns (total 64 columns):\n",
            " #   Column                            Non-Null Count  Dtype         \n",
            "---  ------                            --------------  -----         \n",
            " 0   SUBJECT_ID                        58976 non-null  int64         \n",
            " 1   HADM_ID                           58976 non-null  int64         \n",
            " 2   ADMISSION_TYPE                    58976 non-null  object        \n",
            " 3   ADMITTIME                         58976 non-null  datetime64[ns]\n",
            " 4   DISCHTIME                         58976 non-null  datetime64[ns]\n",
            " 5   DEATHTIME                         5854 non-null   object        \n",
            " 6   IN_HOSP_DEATH                     58976 non-null  int64         \n",
            " 7   DIAGNOSIS                         58951 non-null  object        \n",
            " 8   MARITAL_STATUS                    58976 non-null  object        \n",
            " 9   INSURANCE                         58976 non-null  object        \n",
            " 10  LANGUAGE                          58976 non-null  object        \n",
            " 11  RELIGION                          58976 non-null  object        \n",
            " 12  ETHNICITY                         58976 non-null  object        \n",
            " 13  GENDER                            58976 non-null  object        \n",
            " 14  DOB                               58976 non-null  datetime64[ns]\n",
            " 15  LOS_ICU                           58976 non-null  float64       \n",
            " 16  CALLOUT_COUNT                     58976 non-null  float64       \n",
            " 17  DIAG_COUNT                        58976 non-null  int64         \n",
            " 18  PRES_COUNT                        58976 non-null  float64       \n",
            " 19  PROC_COUNT                        58976 non-null  float64       \n",
            " 20  CPT_COUNT                         58976 non-null  float64       \n",
            " 21  LAB_COUNT                         58976 non-null  float64       \n",
            " 22  INPUTS_CV_COUNT                   58976 non-null  float64       \n",
            " 23  INPUTS_MV_COUNT                   58976 non-null  float64       \n",
            " 24  OUTPUT_COUNT                      58976 non-null  float64       \n",
            " 25  TRANSFER_COUNT                    58976 non-null  int64         \n",
            " 26  MICRO_COUNT                       58976 non-null  float64       \n",
            " 27  AGE                               58976 non-null  int64         \n",
            " 28  LOS                               58976 non-null  float64       \n",
            " 29  CALLOUT_COUNT_DAY                 58976 non-null  float64       \n",
            " 30  PRES_COUNT_DAY                    58976 non-null  float64       \n",
            " 31  PROC_COUNT_DAY                    58976 non-null  float64       \n",
            " 32  CPT_COUNT_DAY                     58976 non-null  float64       \n",
            " 33  LAB_COUNT_DAY                     58976 non-null  float64       \n",
            " 34  INPUTS_CV_COUNT_DAY               58976 non-null  float64       \n",
            " 35  INPUTS_MV_COUNT_DAY               58976 non-null  float64       \n",
            " 36  OUTPUT_COUNT_DAY                  58976 non-null  float64       \n",
            " 37  TRANSFER_COUNT_DAY                58976 non-null  float64       \n",
            " 38  MICRO_COUNT_DAY                   58976 non-null  float64       \n",
            " 39  ADMISSION_TYPE_ELECTIVE           58976 non-null  uint8         \n",
            " 40  ADMISSION_TYPE_EMERGENCY          58976 non-null  uint8         \n",
            " 41  ADMISSION_TYPE_NEWBORN            58976 non-null  uint8         \n",
            " 42  ADMISSION_TYPE_URGENT             58976 non-null  uint8         \n",
            " 43  GENDER_F                          58976 non-null  int64         \n",
            " 44  RELIGION_CATHOLIC                 58976 non-null  uint8         \n",
            " 45  RELIGION_NOT SPECIFIED            58976 non-null  uint8         \n",
            " 46  RELIGION_UNOBTAINABLE             58976 non-null  uint8         \n",
            " 47  RELIGION_OTHERS                   58976 non-null  uint8         \n",
            " 48  INSURANCE_Medicare                58976 non-null  uint8         \n",
            " 49  INSURANCE_Private                 58976 non-null  uint8         \n",
            " 50  INSURANCE_Medicaid                58976 non-null  uint8         \n",
            " 51  INSURANCE_OTHERS                  58976 non-null  uint8         \n",
            " 52  MARITAL_STATUS_MARRIED            58976 non-null  uint8         \n",
            " 53  MARITAL_STATUS_SINGLE             58976 non-null  uint8         \n",
            " 54  MARITAL_STATUS_UNKNOWN (DEFAULT)  58976 non-null  uint8         \n",
            " 55  MARITAL_STATUS_OTHERS             58976 non-null  uint8         \n",
            " 56  LANGUAGE_ENGL                     58976 non-null  uint8         \n",
            " 57  LANGUAGE_SPAN                     58976 non-null  uint8         \n",
            " 58  LANGUAGE_RUSS                     58976 non-null  uint8         \n",
            " 59  LANGUAGE_OTHERS                   58976 non-null  uint8         \n",
            " 60  ETHNICITY_WHITE                   58976 non-null  uint8         \n",
            " 61  ETHNICITY_BLACK/AFRICAN AMERICAN  58976 non-null  uint8         \n",
            " 62  ETHNICITY_UNKNOWN/NOT SPECIFIED   58976 non-null  uint8         \n",
            " 63  ETHNICITY_OTHERS                  58976 non-null  uint8         \n",
            "dtypes: datetime64[ns](3), float64(21), int64(7), object(9), uint8(24)\n",
            "memory usage: 19.3+ MB\n"
          ],
          "name": "stdout"
        }
      ]
    },
    {
      "cell_type": "code",
      "metadata": {
        "id": "VCiQ2SXgq_1L",
        "colab": {
          "base_uri": "https://localhost:8080/",
          "height": 400
        },
        "outputId": "b265a815-a597-4158-97e8-14a39c4c9fa2"
      },
      "source": [
        "df.head()"
      ],
      "execution_count": null,
      "outputs": [
        {
          "output_type": "execute_result",
          "data": {
            "text/html": [
              "<div>\n",
              "<style scoped>\n",
              "    .dataframe tbody tr th:only-of-type {\n",
              "        vertical-align: middle;\n",
              "    }\n",
              "\n",
              "    .dataframe tbody tr th {\n",
              "        vertical-align: top;\n",
              "    }\n",
              "\n",
              "    .dataframe thead th {\n",
              "        text-align: right;\n",
              "    }\n",
              "</style>\n",
              "<table border=\"1\" class=\"dataframe\">\n",
              "  <thead>\n",
              "    <tr style=\"text-align: right;\">\n",
              "      <th></th>\n",
              "      <th>SUBJECT_ID</th>\n",
              "      <th>HADM_ID</th>\n",
              "      <th>ADMISSION_TYPE</th>\n",
              "      <th>ADMITTIME</th>\n",
              "      <th>DISCHTIME</th>\n",
              "      <th>DEATHTIME</th>\n",
              "      <th>IN_HOSP_DEATH</th>\n",
              "      <th>DIAGNOSIS</th>\n",
              "      <th>MARITAL_STATUS</th>\n",
              "      <th>INSURANCE</th>\n",
              "      <th>LANGUAGE</th>\n",
              "      <th>RELIGION</th>\n",
              "      <th>ETHNICITY</th>\n",
              "      <th>GENDER</th>\n",
              "      <th>DOB</th>\n",
              "      <th>LOS_ICU</th>\n",
              "      <th>CALLOUT_COUNT</th>\n",
              "      <th>DIAG_COUNT</th>\n",
              "      <th>PRES_COUNT</th>\n",
              "      <th>PROC_COUNT</th>\n",
              "      <th>CPT_COUNT</th>\n",
              "      <th>LAB_COUNT</th>\n",
              "      <th>INPUTS_CV_COUNT</th>\n",
              "      <th>INPUTS_MV_COUNT</th>\n",
              "      <th>OUTPUT_COUNT</th>\n",
              "      <th>TRANSFER_COUNT</th>\n",
              "      <th>MICRO_COUNT</th>\n",
              "      <th>AGE</th>\n",
              "      <th>LOS</th>\n",
              "      <th>CALLOUT_COUNT_DAY</th>\n",
              "      <th>PRES_COUNT_DAY</th>\n",
              "      <th>PROC_COUNT_DAY</th>\n",
              "      <th>CPT_COUNT_DAY</th>\n",
              "      <th>LAB_COUNT_DAY</th>\n",
              "      <th>INPUTS_CV_COUNT_DAY</th>\n",
              "      <th>INPUTS_MV_COUNT_DAY</th>\n",
              "      <th>OUTPUT_COUNT_DAY</th>\n",
              "      <th>TRANSFER_COUNT_DAY</th>\n",
              "      <th>MICRO_COUNT_DAY</th>\n",
              "      <th>ADMISSION_TYPE_ELECTIVE</th>\n",
              "      <th>ADMISSION_TYPE_EMERGENCY</th>\n",
              "      <th>ADMISSION_TYPE_NEWBORN</th>\n",
              "      <th>ADMISSION_TYPE_URGENT</th>\n",
              "      <th>GENDER_F</th>\n",
              "      <th>RELIGION_CATHOLIC</th>\n",
              "      <th>RELIGION_NOT SPECIFIED</th>\n",
              "      <th>RELIGION_UNOBTAINABLE</th>\n",
              "      <th>RELIGION_OTHERS</th>\n",
              "      <th>INSURANCE_Medicare</th>\n",
              "      <th>INSURANCE_Private</th>\n",
              "      <th>INSURANCE_Medicaid</th>\n",
              "      <th>INSURANCE_OTHERS</th>\n",
              "      <th>MARITAL_STATUS_MARRIED</th>\n",
              "      <th>MARITAL_STATUS_SINGLE</th>\n",
              "      <th>MARITAL_STATUS_UNKNOWN (DEFAULT)</th>\n",
              "      <th>MARITAL_STATUS_OTHERS</th>\n",
              "      <th>LANGUAGE_ENGL</th>\n",
              "      <th>LANGUAGE_SPAN</th>\n",
              "      <th>LANGUAGE_RUSS</th>\n",
              "      <th>LANGUAGE_OTHERS</th>\n",
              "      <th>ETHNICITY_WHITE</th>\n",
              "      <th>ETHNICITY_BLACK/AFRICAN AMERICAN</th>\n",
              "      <th>ETHNICITY_UNKNOWN/NOT SPECIFIED</th>\n",
              "      <th>ETHNICITY_OTHERS</th>\n",
              "    </tr>\n",
              "  </thead>\n",
              "  <tbody>\n",
              "    <tr>\n",
              "      <th>0</th>\n",
              "      <td>7275</td>\n",
              "      <td>136809</td>\n",
              "      <td>EMERGENCY</td>\n",
              "      <td>2139-08-28 12:35:00</td>\n",
              "      <td>2139-09-01 16:32:00</td>\n",
              "      <td>NaT</td>\n",
              "      <td>0</td>\n",
              "      <td>ALTERED MENTAL STATUS; DYSPNEA</td>\n",
              "      <td>DIVORCED</td>\n",
              "      <td>Medicare</td>\n",
              "      <td>ENGL</td>\n",
              "      <td>EPISCOPALIAN</td>\n",
              "      <td>WHITE</td>\n",
              "      <td>M</td>\n",
              "      <td>2078-11-11</td>\n",
              "      <td>1.3848</td>\n",
              "      <td>1.0</td>\n",
              "      <td>15</td>\n",
              "      <td>44.0</td>\n",
              "      <td>1.0</td>\n",
              "      <td>7.0</td>\n",
              "      <td>182.0</td>\n",
              "      <td>0.0</td>\n",
              "      <td>18.0</td>\n",
              "      <td>0.0</td>\n",
              "      <td>3</td>\n",
              "      <td>47.0</td>\n",
              "      <td>60</td>\n",
              "      <td>4.164583</td>\n",
              "      <td>0.200000</td>\n",
              "      <td>8.800000</td>\n",
              "      <td>0.200000</td>\n",
              "      <td>1.400000</td>\n",
              "      <td>36.4</td>\n",
              "      <td>0.000000</td>\n",
              "      <td>3.6</td>\n",
              "      <td>0.000000</td>\n",
              "      <td>0.600000</td>\n",
              "      <td>9.400000</td>\n",
              "      <td>0</td>\n",
              "      <td>1</td>\n",
              "      <td>0</td>\n",
              "      <td>0</td>\n",
              "      <td>0</td>\n",
              "      <td>0</td>\n",
              "      <td>0</td>\n",
              "      <td>0</td>\n",
              "      <td>1</td>\n",
              "      <td>1</td>\n",
              "      <td>0</td>\n",
              "      <td>0</td>\n",
              "      <td>0</td>\n",
              "      <td>0</td>\n",
              "      <td>0</td>\n",
              "      <td>0</td>\n",
              "      <td>1</td>\n",
              "      <td>1</td>\n",
              "      <td>0</td>\n",
              "      <td>0</td>\n",
              "      <td>0</td>\n",
              "      <td>1</td>\n",
              "      <td>0</td>\n",
              "      <td>0</td>\n",
              "      <td>0</td>\n",
              "    </tr>\n",
              "    <tr>\n",
              "      <th>1</th>\n",
              "      <td>17575</td>\n",
              "      <td>187131</td>\n",
              "      <td>EMERGENCY</td>\n",
              "      <td>2124-10-21 08:32:00</td>\n",
              "      <td>2124-11-01 11:14:00</td>\n",
              "      <td>NaT</td>\n",
              "      <td>0</td>\n",
              "      <td>MVA;TRAUMA</td>\n",
              "      <td>SINGLE</td>\n",
              "      <td>Government</td>\n",
              "      <td>ENGL</td>\n",
              "      <td>OTHER</td>\n",
              "      <td>BLACK/AFRICAN AMERICAN</td>\n",
              "      <td>M</td>\n",
              "      <td>2106-01-23</td>\n",
              "      <td>3.2653</td>\n",
              "      <td>0.0</td>\n",
              "      <td>9</td>\n",
              "      <td>0.0</td>\n",
              "      <td>9.0</td>\n",
              "      <td>0.0</td>\n",
              "      <td>408.0</td>\n",
              "      <td>331.0</td>\n",
              "      <td>0.0</td>\n",
              "      <td>89.0</td>\n",
              "      <td>3</td>\n",
              "      <td>27.0</td>\n",
              "      <td>18</td>\n",
              "      <td>11.112500</td>\n",
              "      <td>0.000000</td>\n",
              "      <td>0.000000</td>\n",
              "      <td>0.750000</td>\n",
              "      <td>0.000000</td>\n",
              "      <td>34.0</td>\n",
              "      <td>27.583333</td>\n",
              "      <td>0.0</td>\n",
              "      <td>7.416667</td>\n",
              "      <td>0.250000</td>\n",
              "      <td>2.250000</td>\n",
              "      <td>0</td>\n",
              "      <td>1</td>\n",
              "      <td>0</td>\n",
              "      <td>0</td>\n",
              "      <td>0</td>\n",
              "      <td>0</td>\n",
              "      <td>0</td>\n",
              "      <td>0</td>\n",
              "      <td>1</td>\n",
              "      <td>0</td>\n",
              "      <td>0</td>\n",
              "      <td>0</td>\n",
              "      <td>1</td>\n",
              "      <td>0</td>\n",
              "      <td>1</td>\n",
              "      <td>0</td>\n",
              "      <td>0</td>\n",
              "      <td>1</td>\n",
              "      <td>0</td>\n",
              "      <td>0</td>\n",
              "      <td>0</td>\n",
              "      <td>0</td>\n",
              "      <td>1</td>\n",
              "      <td>0</td>\n",
              "      <td>0</td>\n",
              "    </tr>\n",
              "    <tr>\n",
              "      <th>2</th>\n",
              "      <td>25251</td>\n",
              "      <td>142346</td>\n",
              "      <td>EMERGENCY</td>\n",
              "      <td>2167-01-23 16:23:00</td>\n",
              "      <td>2167-02-06 13:53:00</td>\n",
              "      <td>NaT</td>\n",
              "      <td>0</td>\n",
              "      <td>INFECTED RIGHT FOOT</td>\n",
              "      <td>DIVORCED</td>\n",
              "      <td>Medicare</td>\n",
              "      <td>ENGL</td>\n",
              "      <td>EPISCOPALIAN</td>\n",
              "      <td>WHITE</td>\n",
              "      <td>M</td>\n",
              "      <td>2096-08-27</td>\n",
              "      <td>3.2458</td>\n",
              "      <td>0.0</td>\n",
              "      <td>9</td>\n",
              "      <td>0.0</td>\n",
              "      <td>8.0</td>\n",
              "      <td>0.0</td>\n",
              "      <td>574.0</td>\n",
              "      <td>390.0</td>\n",
              "      <td>0.0</td>\n",
              "      <td>90.0</td>\n",
              "      <td>6</td>\n",
              "      <td>46.0</td>\n",
              "      <td>70</td>\n",
              "      <td>13.895833</td>\n",
              "      <td>0.000000</td>\n",
              "      <td>0.000000</td>\n",
              "      <td>0.571429</td>\n",
              "      <td>0.000000</td>\n",
              "      <td>41.0</td>\n",
              "      <td>27.857143</td>\n",
              "      <td>0.0</td>\n",
              "      <td>6.428571</td>\n",
              "      <td>0.428571</td>\n",
              "      <td>3.285714</td>\n",
              "      <td>0</td>\n",
              "      <td>1</td>\n",
              "      <td>0</td>\n",
              "      <td>0</td>\n",
              "      <td>0</td>\n",
              "      <td>0</td>\n",
              "      <td>0</td>\n",
              "      <td>0</td>\n",
              "      <td>1</td>\n",
              "      <td>1</td>\n",
              "      <td>0</td>\n",
              "      <td>0</td>\n",
              "      <td>0</td>\n",
              "      <td>0</td>\n",
              "      <td>0</td>\n",
              "      <td>0</td>\n",
              "      <td>1</td>\n",
              "      <td>1</td>\n",
              "      <td>0</td>\n",
              "      <td>0</td>\n",
              "      <td>0</td>\n",
              "      <td>1</td>\n",
              "      <td>0</td>\n",
              "      <td>0</td>\n",
              "      <td>0</td>\n",
              "    </tr>\n",
              "    <tr>\n",
              "      <th>3</th>\n",
              "      <td>32339</td>\n",
              "      <td>181355</td>\n",
              "      <td>EMERGENCY</td>\n",
              "      <td>2110-07-29 23:56:00</td>\n",
              "      <td>2110-08-04 15:10:00</td>\n",
              "      <td>NaT</td>\n",
              "      <td>0</td>\n",
              "      <td>GASTROINTESTINAL BLEED;CHEST PAIN;TELEMETRY</td>\n",
              "      <td>MARRIED</td>\n",
              "      <td>Medicare</td>\n",
              "      <td>ENGL</td>\n",
              "      <td>JEWISH</td>\n",
              "      <td>WHITE</td>\n",
              "      <td>M</td>\n",
              "      <td>1810-07-29</td>\n",
              "      <td>1.7603</td>\n",
              "      <td>1.0</td>\n",
              "      <td>15</td>\n",
              "      <td>30.0</td>\n",
              "      <td>2.0</td>\n",
              "      <td>8.0</td>\n",
              "      <td>207.0</td>\n",
              "      <td>0.0</td>\n",
              "      <td>21.0</td>\n",
              "      <td>20.0</td>\n",
              "      <td>4</td>\n",
              "      <td>0.0</td>\n",
              "      <td>90</td>\n",
              "      <td>5.634722</td>\n",
              "      <td>0.166667</td>\n",
              "      <td>5.000000</td>\n",
              "      <td>0.333333</td>\n",
              "      <td>1.333333</td>\n",
              "      <td>34.5</td>\n",
              "      <td>0.000000</td>\n",
              "      <td>3.5</td>\n",
              "      <td>3.333333</td>\n",
              "      <td>0.666667</td>\n",
              "      <td>0.000000</td>\n",
              "      <td>0</td>\n",
              "      <td>1</td>\n",
              "      <td>0</td>\n",
              "      <td>0</td>\n",
              "      <td>0</td>\n",
              "      <td>0</td>\n",
              "      <td>0</td>\n",
              "      <td>0</td>\n",
              "      <td>1</td>\n",
              "      <td>1</td>\n",
              "      <td>0</td>\n",
              "      <td>0</td>\n",
              "      <td>0</td>\n",
              "      <td>1</td>\n",
              "      <td>0</td>\n",
              "      <td>0</td>\n",
              "      <td>0</td>\n",
              "      <td>1</td>\n",
              "      <td>0</td>\n",
              "      <td>0</td>\n",
              "      <td>0</td>\n",
              "      <td>1</td>\n",
              "      <td>0</td>\n",
              "      <td>0</td>\n",
              "      <td>0</td>\n",
              "    </tr>\n",
              "    <tr>\n",
              "      <th>4</th>\n",
              "      <td>30746</td>\n",
              "      <td>155603</td>\n",
              "      <td>EMERGENCY</td>\n",
              "      <td>2131-08-22 23:07:00</td>\n",
              "      <td>2131-08-28 13:10:00</td>\n",
              "      <td>NaT</td>\n",
              "      <td>0</td>\n",
              "      <td>ALTERED MENTAL STATUS</td>\n",
              "      <td>DIVORCED</td>\n",
              "      <td>Medicare</td>\n",
              "      <td>ENGL</td>\n",
              "      <td>JEWISH</td>\n",
              "      <td>WHITE</td>\n",
              "      <td>M</td>\n",
              "      <td>2055-03-16</td>\n",
              "      <td>5.5894</td>\n",
              "      <td>0.0</td>\n",
              "      <td>22</td>\n",
              "      <td>53.0</td>\n",
              "      <td>6.0</td>\n",
              "      <td>10.0</td>\n",
              "      <td>378.0</td>\n",
              "      <td>165.0</td>\n",
              "      <td>0.0</td>\n",
              "      <td>115.0</td>\n",
              "      <td>7</td>\n",
              "      <td>5.0</td>\n",
              "      <td>76</td>\n",
              "      <td>5.585417</td>\n",
              "      <td>0.000000</td>\n",
              "      <td>8.833333</td>\n",
              "      <td>1.000000</td>\n",
              "      <td>1.666667</td>\n",
              "      <td>63.0</td>\n",
              "      <td>27.500000</td>\n",
              "      <td>0.0</td>\n",
              "      <td>19.166667</td>\n",
              "      <td>1.166667</td>\n",
              "      <td>0.833333</td>\n",
              "      <td>0</td>\n",
              "      <td>1</td>\n",
              "      <td>0</td>\n",
              "      <td>0</td>\n",
              "      <td>0</td>\n",
              "      <td>0</td>\n",
              "      <td>0</td>\n",
              "      <td>0</td>\n",
              "      <td>1</td>\n",
              "      <td>1</td>\n",
              "      <td>0</td>\n",
              "      <td>0</td>\n",
              "      <td>0</td>\n",
              "      <td>0</td>\n",
              "      <td>0</td>\n",
              "      <td>0</td>\n",
              "      <td>1</td>\n",
              "      <td>1</td>\n",
              "      <td>0</td>\n",
              "      <td>0</td>\n",
              "      <td>0</td>\n",
              "      <td>1</td>\n",
              "      <td>0</td>\n",
              "      <td>0</td>\n",
              "      <td>0</td>\n",
              "    </tr>\n",
              "  </tbody>\n",
              "</table>\n",
              "</div>"
            ],
            "text/plain": [
              "   SUBJECT_ID  HADM_ID  ... ETHNICITY_UNKNOWN/NOT SPECIFIED ETHNICITY_OTHERS\n",
              "0        7275   136809  ...                               0                0\n",
              "1       17575   187131  ...                               0                0\n",
              "2       25251   142346  ...                               0                0\n",
              "3       32339   181355  ...                               0                0\n",
              "4       30746   155603  ...                               0                0\n",
              "\n",
              "[5 rows x 64 columns]"
            ]
          },
          "metadata": {
            "tags": []
          },
          "execution_count": 50
        }
      ]
    },
    {
      "cell_type": "markdown",
      "metadata": {
        "id": "flNB8Z13Xr7K"
      },
      "source": [
        "Now we save the df to `mimic_in_hosp_death_clean.csv` with `to_csv()`"
      ]
    },
    {
      "cell_type": "code",
      "metadata": {
        "colab": {
          "base_uri": "https://localhost:8080/"
        },
        "id": "R0uajne7Rh2r",
        "outputId": "cc28317b-b2cc-42b1-f12a-f7ccb3dc0a8f"
      },
      "source": [
        "# Grant access to your Google Drive. You would need to authenicate once again\r\n",
        "from google.colab import drive \r\n",
        "drive.mount('/content/gdrive', force_remount = True)\r\n",
        "\r\n",
        "gdrive_rootpath = '/content/gdrive/MyDrive/'"
      ],
      "execution_count": null,
      "outputs": [
        {
          "output_type": "stream",
          "text": [
            "Mounted at /content/gdrive\n"
          ],
          "name": "stdout"
        }
      ]
    },
    {
      "cell_type": "code",
      "metadata": {
        "id": "bgQ3OnAiCeGU"
      },
      "source": [
        "df.to_csv(gdrive_rootpath + 'mimic_in_hosp_death_clean.csv', index = False)"
      ],
      "execution_count": null,
      "outputs": []
    },
    {
      "cell_type": "markdown",
      "metadata": {
        "id": "LcwtYw_VSvJ8"
      },
      "source": [
        "The file is now saved in your drive. Try running the following line to import it and make sure it works:"
      ]
    },
    {
      "cell_type": "code",
      "metadata": {
        "colab": {
          "base_uri": "https://localhost:8080/",
          "height": 809
        },
        "id": "GwqYssALSdTz",
        "outputId": "ebcfe5ae-bc99-4d37-ec51-73cc4d2b6912"
      },
      "source": [
        "pd.read_csv(gdrive_rootpath + 'mimic_in_hosp_death_clean.csv')\r\n",
        "\r\n",
        "# if you want to save it as a variable, run this instead\r\n",
        "# df = pd.read_csv(gdrive_rootpath + 'mimic_in_hosp_death_clean.csv')"
      ],
      "execution_count": null,
      "outputs": [
        {
          "output_type": "stream",
          "text": [
            "/usr/local/lib/python3.6/dist-packages/IPython/core/interactiveshell.py:2718: DtypeWarning: Columns (5) have mixed types.Specify dtype option on import or set low_memory=False.\n",
            "  interactivity=interactivity, compiler=compiler, result=result)\n"
          ],
          "name": "stderr"
        },
        {
          "output_type": "execute_result",
          "data": {
            "text/html": [
              "<div>\n",
              "<style scoped>\n",
              "    .dataframe tbody tr th:only-of-type {\n",
              "        vertical-align: middle;\n",
              "    }\n",
              "\n",
              "    .dataframe tbody tr th {\n",
              "        vertical-align: top;\n",
              "    }\n",
              "\n",
              "    .dataframe thead th {\n",
              "        text-align: right;\n",
              "    }\n",
              "</style>\n",
              "<table border=\"1\" class=\"dataframe\">\n",
              "  <thead>\n",
              "    <tr style=\"text-align: right;\">\n",
              "      <th></th>\n",
              "      <th>SUBJECT_ID</th>\n",
              "      <th>HADM_ID</th>\n",
              "      <th>ADMISSION_TYPE</th>\n",
              "      <th>ADMITTIME</th>\n",
              "      <th>DISCHTIME</th>\n",
              "      <th>DEATHTIME</th>\n",
              "      <th>IN_HOSP_DEATH</th>\n",
              "      <th>DIAGNOSIS</th>\n",
              "      <th>MARITAL_STATUS</th>\n",
              "      <th>INSURANCE</th>\n",
              "      <th>LANGUAGE</th>\n",
              "      <th>RELIGION</th>\n",
              "      <th>ETHNICITY</th>\n",
              "      <th>GENDER</th>\n",
              "      <th>DOB</th>\n",
              "      <th>LOS_ICU</th>\n",
              "      <th>CALLOUT_COUNT</th>\n",
              "      <th>DIAG_COUNT</th>\n",
              "      <th>PRES_COUNT</th>\n",
              "      <th>PROC_COUNT</th>\n",
              "      <th>CPT_COUNT</th>\n",
              "      <th>LAB_COUNT</th>\n",
              "      <th>INPUTS_CV_COUNT</th>\n",
              "      <th>INPUTS_MV_COUNT</th>\n",
              "      <th>OUTPUT_COUNT</th>\n",
              "      <th>TRANSFER_COUNT</th>\n",
              "      <th>MICRO_COUNT</th>\n",
              "      <th>AGE</th>\n",
              "      <th>LOS</th>\n",
              "      <th>CALLOUT_COUNT_DAY</th>\n",
              "      <th>PRES_COUNT_DAY</th>\n",
              "      <th>PROC_COUNT_DAY</th>\n",
              "      <th>CPT_COUNT_DAY</th>\n",
              "      <th>LAB_COUNT_DAY</th>\n",
              "      <th>INPUTS_CV_COUNT_DAY</th>\n",
              "      <th>INPUTS_MV_COUNT_DAY</th>\n",
              "      <th>OUTPUT_COUNT_DAY</th>\n",
              "      <th>TRANSFER_COUNT_DAY</th>\n",
              "      <th>MICRO_COUNT_DAY</th>\n",
              "      <th>ADMISSION_TYPE_ELECTIVE</th>\n",
              "      <th>ADMISSION_TYPE_EMERGENCY</th>\n",
              "      <th>ADMISSION_TYPE_NEWBORN</th>\n",
              "      <th>ADMISSION_TYPE_URGENT</th>\n",
              "      <th>GENDER_F</th>\n",
              "      <th>RELIGION_CATHOLIC</th>\n",
              "      <th>RELIGION_NOT SPECIFIED</th>\n",
              "      <th>RELIGION_UNOBTAINABLE</th>\n",
              "      <th>RELIGION_OTHERS</th>\n",
              "      <th>INSURANCE_Medicare</th>\n",
              "      <th>INSURANCE_Private</th>\n",
              "      <th>INSURANCE_Medicaid</th>\n",
              "      <th>INSURANCE_OTHERS</th>\n",
              "      <th>MARITAL_STATUS_MARRIED</th>\n",
              "      <th>MARITAL_STATUS_SINGLE</th>\n",
              "      <th>MARITAL_STATUS_UNKNOWN (DEFAULT)</th>\n",
              "      <th>MARITAL_STATUS_OTHERS</th>\n",
              "      <th>LANGUAGE_ENGL</th>\n",
              "      <th>LANGUAGE_SPAN</th>\n",
              "      <th>LANGUAGE_RUSS</th>\n",
              "      <th>LANGUAGE_OTHERS</th>\n",
              "      <th>ETHNICITY_WHITE</th>\n",
              "      <th>ETHNICITY_BLACK/AFRICAN AMERICAN</th>\n",
              "      <th>ETHNICITY_UNKNOWN/NOT SPECIFIED</th>\n",
              "      <th>ETHNICITY_OTHERS</th>\n",
              "    </tr>\n",
              "  </thead>\n",
              "  <tbody>\n",
              "    <tr>\n",
              "      <th>0</th>\n",
              "      <td>7275</td>\n",
              "      <td>136809</td>\n",
              "      <td>EMERGENCY</td>\n",
              "      <td>2139-08-28 12:35:00</td>\n",
              "      <td>2139-09-01 16:32:00</td>\n",
              "      <td>NaN</td>\n",
              "      <td>0</td>\n",
              "      <td>ALTERED MENTAL STATUS; DYSPNEA</td>\n",
              "      <td>DIVORCED</td>\n",
              "      <td>Medicare</td>\n",
              "      <td>ENGL</td>\n",
              "      <td>EPISCOPALIAN</td>\n",
              "      <td>WHITE</td>\n",
              "      <td>M</td>\n",
              "      <td>2078-11-11 00:00:00</td>\n",
              "      <td>1.3848</td>\n",
              "      <td>1.0</td>\n",
              "      <td>15</td>\n",
              "      <td>44.0</td>\n",
              "      <td>1.0</td>\n",
              "      <td>7.0</td>\n",
              "      <td>182.0</td>\n",
              "      <td>0.0</td>\n",
              "      <td>18.0</td>\n",
              "      <td>0.0</td>\n",
              "      <td>3</td>\n",
              "      <td>47.0</td>\n",
              "      <td>60</td>\n",
              "      <td>4.164583</td>\n",
              "      <td>0.200000</td>\n",
              "      <td>8.800000</td>\n",
              "      <td>0.200000</td>\n",
              "      <td>1.400000</td>\n",
              "      <td>36.400000</td>\n",
              "      <td>0.000000</td>\n",
              "      <td>3.600000</td>\n",
              "      <td>0.000000</td>\n",
              "      <td>0.600000</td>\n",
              "      <td>9.400000</td>\n",
              "      <td>0</td>\n",
              "      <td>1</td>\n",
              "      <td>0</td>\n",
              "      <td>0</td>\n",
              "      <td>0</td>\n",
              "      <td>0</td>\n",
              "      <td>0</td>\n",
              "      <td>0</td>\n",
              "      <td>1</td>\n",
              "      <td>1</td>\n",
              "      <td>0</td>\n",
              "      <td>0</td>\n",
              "      <td>0</td>\n",
              "      <td>0</td>\n",
              "      <td>0</td>\n",
              "      <td>0</td>\n",
              "      <td>1</td>\n",
              "      <td>1</td>\n",
              "      <td>0</td>\n",
              "      <td>0</td>\n",
              "      <td>0</td>\n",
              "      <td>1</td>\n",
              "      <td>0</td>\n",
              "      <td>0</td>\n",
              "      <td>0</td>\n",
              "    </tr>\n",
              "    <tr>\n",
              "      <th>1</th>\n",
              "      <td>17575</td>\n",
              "      <td>187131</td>\n",
              "      <td>EMERGENCY</td>\n",
              "      <td>2124-10-21 08:32:00</td>\n",
              "      <td>2124-11-01 11:14:00</td>\n",
              "      <td>NaN</td>\n",
              "      <td>0</td>\n",
              "      <td>MVA;TRAUMA</td>\n",
              "      <td>SINGLE</td>\n",
              "      <td>Government</td>\n",
              "      <td>ENGL</td>\n",
              "      <td>OTHER</td>\n",
              "      <td>BLACK/AFRICAN AMERICAN</td>\n",
              "      <td>M</td>\n",
              "      <td>2106-01-23 00:00:00</td>\n",
              "      <td>3.2653</td>\n",
              "      <td>0.0</td>\n",
              "      <td>9</td>\n",
              "      <td>0.0</td>\n",
              "      <td>9.0</td>\n",
              "      <td>0.0</td>\n",
              "      <td>408.0</td>\n",
              "      <td>331.0</td>\n",
              "      <td>0.0</td>\n",
              "      <td>89.0</td>\n",
              "      <td>3</td>\n",
              "      <td>27.0</td>\n",
              "      <td>18</td>\n",
              "      <td>11.112500</td>\n",
              "      <td>0.000000</td>\n",
              "      <td>0.000000</td>\n",
              "      <td>0.750000</td>\n",
              "      <td>0.000000</td>\n",
              "      <td>34.000000</td>\n",
              "      <td>27.583333</td>\n",
              "      <td>0.000000</td>\n",
              "      <td>7.416667</td>\n",
              "      <td>0.250000</td>\n",
              "      <td>2.250000</td>\n",
              "      <td>0</td>\n",
              "      <td>1</td>\n",
              "      <td>0</td>\n",
              "      <td>0</td>\n",
              "      <td>0</td>\n",
              "      <td>0</td>\n",
              "      <td>0</td>\n",
              "      <td>0</td>\n",
              "      <td>1</td>\n",
              "      <td>0</td>\n",
              "      <td>0</td>\n",
              "      <td>0</td>\n",
              "      <td>1</td>\n",
              "      <td>0</td>\n",
              "      <td>1</td>\n",
              "      <td>0</td>\n",
              "      <td>0</td>\n",
              "      <td>1</td>\n",
              "      <td>0</td>\n",
              "      <td>0</td>\n",
              "      <td>0</td>\n",
              "      <td>0</td>\n",
              "      <td>1</td>\n",
              "      <td>0</td>\n",
              "      <td>0</td>\n",
              "    </tr>\n",
              "    <tr>\n",
              "      <th>2</th>\n",
              "      <td>25251</td>\n",
              "      <td>142346</td>\n",
              "      <td>EMERGENCY</td>\n",
              "      <td>2167-01-23 16:23:00</td>\n",
              "      <td>2167-02-06 13:53:00</td>\n",
              "      <td>NaN</td>\n",
              "      <td>0</td>\n",
              "      <td>INFECTED RIGHT FOOT</td>\n",
              "      <td>DIVORCED</td>\n",
              "      <td>Medicare</td>\n",
              "      <td>ENGL</td>\n",
              "      <td>EPISCOPALIAN</td>\n",
              "      <td>WHITE</td>\n",
              "      <td>M</td>\n",
              "      <td>2096-08-27 00:00:00</td>\n",
              "      <td>3.2458</td>\n",
              "      <td>0.0</td>\n",
              "      <td>9</td>\n",
              "      <td>0.0</td>\n",
              "      <td>8.0</td>\n",
              "      <td>0.0</td>\n",
              "      <td>574.0</td>\n",
              "      <td>390.0</td>\n",
              "      <td>0.0</td>\n",
              "      <td>90.0</td>\n",
              "      <td>6</td>\n",
              "      <td>46.0</td>\n",
              "      <td>70</td>\n",
              "      <td>13.895833</td>\n",
              "      <td>0.000000</td>\n",
              "      <td>0.000000</td>\n",
              "      <td>0.571429</td>\n",
              "      <td>0.000000</td>\n",
              "      <td>41.000000</td>\n",
              "      <td>27.857143</td>\n",
              "      <td>0.000000</td>\n",
              "      <td>6.428571</td>\n",
              "      <td>0.428571</td>\n",
              "      <td>3.285714</td>\n",
              "      <td>0</td>\n",
              "      <td>1</td>\n",
              "      <td>0</td>\n",
              "      <td>0</td>\n",
              "      <td>0</td>\n",
              "      <td>0</td>\n",
              "      <td>0</td>\n",
              "      <td>0</td>\n",
              "      <td>1</td>\n",
              "      <td>1</td>\n",
              "      <td>0</td>\n",
              "      <td>0</td>\n",
              "      <td>0</td>\n",
              "      <td>0</td>\n",
              "      <td>0</td>\n",
              "      <td>0</td>\n",
              "      <td>1</td>\n",
              "      <td>1</td>\n",
              "      <td>0</td>\n",
              "      <td>0</td>\n",
              "      <td>0</td>\n",
              "      <td>1</td>\n",
              "      <td>0</td>\n",
              "      <td>0</td>\n",
              "      <td>0</td>\n",
              "    </tr>\n",
              "    <tr>\n",
              "      <th>3</th>\n",
              "      <td>32339</td>\n",
              "      <td>181355</td>\n",
              "      <td>EMERGENCY</td>\n",
              "      <td>2110-07-29 23:56:00</td>\n",
              "      <td>2110-08-04 15:10:00</td>\n",
              "      <td>NaN</td>\n",
              "      <td>0</td>\n",
              "      <td>GASTROINTESTINAL BLEED;CHEST PAIN;TELEMETRY</td>\n",
              "      <td>MARRIED</td>\n",
              "      <td>Medicare</td>\n",
              "      <td>ENGL</td>\n",
              "      <td>JEWISH</td>\n",
              "      <td>WHITE</td>\n",
              "      <td>M</td>\n",
              "      <td>1810-07-29 00:00:00</td>\n",
              "      <td>1.7603</td>\n",
              "      <td>1.0</td>\n",
              "      <td>15</td>\n",
              "      <td>30.0</td>\n",
              "      <td>2.0</td>\n",
              "      <td>8.0</td>\n",
              "      <td>207.0</td>\n",
              "      <td>0.0</td>\n",
              "      <td>21.0</td>\n",
              "      <td>20.0</td>\n",
              "      <td>4</td>\n",
              "      <td>0.0</td>\n",
              "      <td>90</td>\n",
              "      <td>5.634722</td>\n",
              "      <td>0.166667</td>\n",
              "      <td>5.000000</td>\n",
              "      <td>0.333333</td>\n",
              "      <td>1.333333</td>\n",
              "      <td>34.500000</td>\n",
              "      <td>0.000000</td>\n",
              "      <td>3.500000</td>\n",
              "      <td>3.333333</td>\n",
              "      <td>0.666667</td>\n",
              "      <td>0.000000</td>\n",
              "      <td>0</td>\n",
              "      <td>1</td>\n",
              "      <td>0</td>\n",
              "      <td>0</td>\n",
              "      <td>0</td>\n",
              "      <td>0</td>\n",
              "      <td>0</td>\n",
              "      <td>0</td>\n",
              "      <td>1</td>\n",
              "      <td>1</td>\n",
              "      <td>0</td>\n",
              "      <td>0</td>\n",
              "      <td>0</td>\n",
              "      <td>1</td>\n",
              "      <td>0</td>\n",
              "      <td>0</td>\n",
              "      <td>0</td>\n",
              "      <td>1</td>\n",
              "      <td>0</td>\n",
              "      <td>0</td>\n",
              "      <td>0</td>\n",
              "      <td>1</td>\n",
              "      <td>0</td>\n",
              "      <td>0</td>\n",
              "      <td>0</td>\n",
              "    </tr>\n",
              "    <tr>\n",
              "      <th>4</th>\n",
              "      <td>30746</td>\n",
              "      <td>155603</td>\n",
              "      <td>EMERGENCY</td>\n",
              "      <td>2131-08-22 23:07:00</td>\n",
              "      <td>2131-08-28 13:10:00</td>\n",
              "      <td>NaN</td>\n",
              "      <td>0</td>\n",
              "      <td>ALTERED MENTAL STATUS</td>\n",
              "      <td>DIVORCED</td>\n",
              "      <td>Medicare</td>\n",
              "      <td>ENGL</td>\n",
              "      <td>JEWISH</td>\n",
              "      <td>WHITE</td>\n",
              "      <td>M</td>\n",
              "      <td>2055-03-16 00:00:00</td>\n",
              "      <td>5.5894</td>\n",
              "      <td>0.0</td>\n",
              "      <td>22</td>\n",
              "      <td>53.0</td>\n",
              "      <td>6.0</td>\n",
              "      <td>10.0</td>\n",
              "      <td>378.0</td>\n",
              "      <td>165.0</td>\n",
              "      <td>0.0</td>\n",
              "      <td>115.0</td>\n",
              "      <td>7</td>\n",
              "      <td>5.0</td>\n",
              "      <td>76</td>\n",
              "      <td>5.585417</td>\n",
              "      <td>0.000000</td>\n",
              "      <td>8.833333</td>\n",
              "      <td>1.000000</td>\n",
              "      <td>1.666667</td>\n",
              "      <td>63.000000</td>\n",
              "      <td>27.500000</td>\n",
              "      <td>0.000000</td>\n",
              "      <td>19.166667</td>\n",
              "      <td>1.166667</td>\n",
              "      <td>0.833333</td>\n",
              "      <td>0</td>\n",
              "      <td>1</td>\n",
              "      <td>0</td>\n",
              "      <td>0</td>\n",
              "      <td>0</td>\n",
              "      <td>0</td>\n",
              "      <td>0</td>\n",
              "      <td>0</td>\n",
              "      <td>1</td>\n",
              "      <td>1</td>\n",
              "      <td>0</td>\n",
              "      <td>0</td>\n",
              "      <td>0</td>\n",
              "      <td>0</td>\n",
              "      <td>0</td>\n",
              "      <td>0</td>\n",
              "      <td>1</td>\n",
              "      <td>1</td>\n",
              "      <td>0</td>\n",
              "      <td>0</td>\n",
              "      <td>0</td>\n",
              "      <td>1</td>\n",
              "      <td>0</td>\n",
              "      <td>0</td>\n",
              "      <td>0</td>\n",
              "    </tr>\n",
              "    <tr>\n",
              "      <th>...</th>\n",
              "      <td>...</td>\n",
              "      <td>...</td>\n",
              "      <td>...</td>\n",
              "      <td>...</td>\n",
              "      <td>...</td>\n",
              "      <td>...</td>\n",
              "      <td>...</td>\n",
              "      <td>...</td>\n",
              "      <td>...</td>\n",
              "      <td>...</td>\n",
              "      <td>...</td>\n",
              "      <td>...</td>\n",
              "      <td>...</td>\n",
              "      <td>...</td>\n",
              "      <td>...</td>\n",
              "      <td>...</td>\n",
              "      <td>...</td>\n",
              "      <td>...</td>\n",
              "      <td>...</td>\n",
              "      <td>...</td>\n",
              "      <td>...</td>\n",
              "      <td>...</td>\n",
              "      <td>...</td>\n",
              "      <td>...</td>\n",
              "      <td>...</td>\n",
              "      <td>...</td>\n",
              "      <td>...</td>\n",
              "      <td>...</td>\n",
              "      <td>...</td>\n",
              "      <td>...</td>\n",
              "      <td>...</td>\n",
              "      <td>...</td>\n",
              "      <td>...</td>\n",
              "      <td>...</td>\n",
              "      <td>...</td>\n",
              "      <td>...</td>\n",
              "      <td>...</td>\n",
              "      <td>...</td>\n",
              "      <td>...</td>\n",
              "      <td>...</td>\n",
              "      <td>...</td>\n",
              "      <td>...</td>\n",
              "      <td>...</td>\n",
              "      <td>...</td>\n",
              "      <td>...</td>\n",
              "      <td>...</td>\n",
              "      <td>...</td>\n",
              "      <td>...</td>\n",
              "      <td>...</td>\n",
              "      <td>...</td>\n",
              "      <td>...</td>\n",
              "      <td>...</td>\n",
              "      <td>...</td>\n",
              "      <td>...</td>\n",
              "      <td>...</td>\n",
              "      <td>...</td>\n",
              "      <td>...</td>\n",
              "      <td>...</td>\n",
              "      <td>...</td>\n",
              "      <td>...</td>\n",
              "      <td>...</td>\n",
              "      <td>...</td>\n",
              "      <td>...</td>\n",
              "      <td>...</td>\n",
              "    </tr>\n",
              "    <tr>\n",
              "      <th>58971</th>\n",
              "      <td>31355</td>\n",
              "      <td>146717</td>\n",
              "      <td>EMERGENCY</td>\n",
              "      <td>2110-07-28 22:03:00</td>\n",
              "      <td>2110-07-30 19:00:00</td>\n",
              "      <td>NaN</td>\n",
              "      <td>0</td>\n",
              "      <td>NECROTIZING PANCREATITIS</td>\n",
              "      <td>UNKNOWN (DEFAULT)</td>\n",
              "      <td>Private</td>\n",
              "      <td>PTUN</td>\n",
              "      <td>UNOBTAINABLE</td>\n",
              "      <td>UNKNOWN/NOT SPECIFIED</td>\n",
              "      <td>M</td>\n",
              "      <td>2071-09-27 00:00:00</td>\n",
              "      <td>0.8021</td>\n",
              "      <td>1.0</td>\n",
              "      <td>2</td>\n",
              "      <td>61.0</td>\n",
              "      <td>0.0</td>\n",
              "      <td>1.0</td>\n",
              "      <td>134.0</td>\n",
              "      <td>42.0</td>\n",
              "      <td>0.0</td>\n",
              "      <td>21.0</td>\n",
              "      <td>3</td>\n",
              "      <td>2.0</td>\n",
              "      <td>38</td>\n",
              "      <td>1.872917</td>\n",
              "      <td>0.500000</td>\n",
              "      <td>30.500000</td>\n",
              "      <td>0.000000</td>\n",
              "      <td>0.500000</td>\n",
              "      <td>67.000000</td>\n",
              "      <td>21.000000</td>\n",
              "      <td>0.000000</td>\n",
              "      <td>10.500000</td>\n",
              "      <td>1.500000</td>\n",
              "      <td>1.000000</td>\n",
              "      <td>0</td>\n",
              "      <td>1</td>\n",
              "      <td>0</td>\n",
              "      <td>0</td>\n",
              "      <td>0</td>\n",
              "      <td>0</td>\n",
              "      <td>0</td>\n",
              "      <td>1</td>\n",
              "      <td>0</td>\n",
              "      <td>0</td>\n",
              "      <td>1</td>\n",
              "      <td>0</td>\n",
              "      <td>0</td>\n",
              "      <td>0</td>\n",
              "      <td>0</td>\n",
              "      <td>1</td>\n",
              "      <td>0</td>\n",
              "      <td>0</td>\n",
              "      <td>0</td>\n",
              "      <td>0</td>\n",
              "      <td>1</td>\n",
              "      <td>0</td>\n",
              "      <td>0</td>\n",
              "      <td>1</td>\n",
              "      <td>0</td>\n",
              "    </tr>\n",
              "    <tr>\n",
              "      <th>58972</th>\n",
              "      <td>58016</td>\n",
              "      <td>105567</td>\n",
              "      <td>EMERGENCY</td>\n",
              "      <td>2118-10-08 20:59:00</td>\n",
              "      <td>2118-10-11 09:02:00</td>\n",
              "      <td>NaN</td>\n",
              "      <td>0</td>\n",
              "      <td>GALLSTONES</td>\n",
              "      <td>DIVORCED</td>\n",
              "      <td>Medicaid</td>\n",
              "      <td>PTUN</td>\n",
              "      <td>BUDDHIST</td>\n",
              "      <td>UNABLE TO OBTAIN</td>\n",
              "      <td>M</td>\n",
              "      <td>2070-06-16 00:00:00</td>\n",
              "      <td>2.0868</td>\n",
              "      <td>1.0</td>\n",
              "      <td>10</td>\n",
              "      <td>15.0</td>\n",
              "      <td>0.0</td>\n",
              "      <td>6.0</td>\n",
              "      <td>286.0</td>\n",
              "      <td>0.0</td>\n",
              "      <td>43.0</td>\n",
              "      <td>19.0</td>\n",
              "      <td>3</td>\n",
              "      <td>9.0</td>\n",
              "      <td>48</td>\n",
              "      <td>2.502083</td>\n",
              "      <td>0.333333</td>\n",
              "      <td>5.000000</td>\n",
              "      <td>0.000000</td>\n",
              "      <td>2.000000</td>\n",
              "      <td>95.333333</td>\n",
              "      <td>0.000000</td>\n",
              "      <td>14.333333</td>\n",
              "      <td>6.333333</td>\n",
              "      <td>1.000000</td>\n",
              "      <td>3.000000</td>\n",
              "      <td>0</td>\n",
              "      <td>1</td>\n",
              "      <td>0</td>\n",
              "      <td>0</td>\n",
              "      <td>0</td>\n",
              "      <td>0</td>\n",
              "      <td>0</td>\n",
              "      <td>0</td>\n",
              "      <td>1</td>\n",
              "      <td>0</td>\n",
              "      <td>0</td>\n",
              "      <td>1</td>\n",
              "      <td>0</td>\n",
              "      <td>0</td>\n",
              "      <td>0</td>\n",
              "      <td>0</td>\n",
              "      <td>1</td>\n",
              "      <td>0</td>\n",
              "      <td>0</td>\n",
              "      <td>0</td>\n",
              "      <td>1</td>\n",
              "      <td>0</td>\n",
              "      <td>0</td>\n",
              "      <td>0</td>\n",
              "      <td>1</td>\n",
              "    </tr>\n",
              "    <tr>\n",
              "      <th>58973</th>\n",
              "      <td>64255</td>\n",
              "      <td>145415</td>\n",
              "      <td>EMERGENCY</td>\n",
              "      <td>2151-11-05 22:32:00</td>\n",
              "      <td>2151-11-07 13:10:00</td>\n",
              "      <td>NaN</td>\n",
              "      <td>0</td>\n",
              "      <td>STATUS EPILEPTICUS</td>\n",
              "      <td>MARRIED</td>\n",
              "      <td>Private</td>\n",
              "      <td>PTUN</td>\n",
              "      <td>NOT SPECIFIED</td>\n",
              "      <td>WHITE</td>\n",
              "      <td>F</td>\n",
              "      <td>2118-09-12 00:00:00</td>\n",
              "      <td>1.6445</td>\n",
              "      <td>1.0</td>\n",
              "      <td>1</td>\n",
              "      <td>46.0</td>\n",
              "      <td>0.0</td>\n",
              "      <td>4.0</td>\n",
              "      <td>67.0</td>\n",
              "      <td>0.0</td>\n",
              "      <td>48.0</td>\n",
              "      <td>18.0</td>\n",
              "      <td>2</td>\n",
              "      <td>1.0</td>\n",
              "      <td>33</td>\n",
              "      <td>1.609722</td>\n",
              "      <td>0.500000</td>\n",
              "      <td>23.000000</td>\n",
              "      <td>0.000000</td>\n",
              "      <td>2.000000</td>\n",
              "      <td>33.500000</td>\n",
              "      <td>0.000000</td>\n",
              "      <td>24.000000</td>\n",
              "      <td>9.000000</td>\n",
              "      <td>1.000000</td>\n",
              "      <td>0.500000</td>\n",
              "      <td>0</td>\n",
              "      <td>1</td>\n",
              "      <td>0</td>\n",
              "      <td>0</td>\n",
              "      <td>1</td>\n",
              "      <td>0</td>\n",
              "      <td>1</td>\n",
              "      <td>0</td>\n",
              "      <td>0</td>\n",
              "      <td>0</td>\n",
              "      <td>1</td>\n",
              "      <td>0</td>\n",
              "      <td>0</td>\n",
              "      <td>1</td>\n",
              "      <td>0</td>\n",
              "      <td>0</td>\n",
              "      <td>0</td>\n",
              "      <td>0</td>\n",
              "      <td>0</td>\n",
              "      <td>0</td>\n",
              "      <td>1</td>\n",
              "      <td>1</td>\n",
              "      <td>0</td>\n",
              "      <td>0</td>\n",
              "      <td>0</td>\n",
              "    </tr>\n",
              "    <tr>\n",
              "      <th>58974</th>\n",
              "      <td>83060</td>\n",
              "      <td>122843</td>\n",
              "      <td>EMERGENCY</td>\n",
              "      <td>2158-10-11 19:08:00</td>\n",
              "      <td>2158-10-15 12:11:00</td>\n",
              "      <td>NaN</td>\n",
              "      <td>0</td>\n",
              "      <td>RIGHTBRONCHUS MASS</td>\n",
              "      <td>DIVORCED</td>\n",
              "      <td>Medicare</td>\n",
              "      <td>ENGL</td>\n",
              "      <td>NOT SPECIFIED</td>\n",
              "      <td>UNKNOWN/NOT SPECIFIED</td>\n",
              "      <td>M</td>\n",
              "      <td>2103-12-06 00:00:00</td>\n",
              "      <td>0.9236</td>\n",
              "      <td>1.0</td>\n",
              "      <td>13</td>\n",
              "      <td>34.0</td>\n",
              "      <td>1.0</td>\n",
              "      <td>9.0</td>\n",
              "      <td>132.0</td>\n",
              "      <td>0.0</td>\n",
              "      <td>15.0</td>\n",
              "      <td>8.0</td>\n",
              "      <td>4</td>\n",
              "      <td>1.0</td>\n",
              "      <td>54</td>\n",
              "      <td>3.710417</td>\n",
              "      <td>0.250000</td>\n",
              "      <td>8.500000</td>\n",
              "      <td>0.250000</td>\n",
              "      <td>2.250000</td>\n",
              "      <td>33.000000</td>\n",
              "      <td>0.000000</td>\n",
              "      <td>3.750000</td>\n",
              "      <td>2.000000</td>\n",
              "      <td>1.000000</td>\n",
              "      <td>0.250000</td>\n",
              "      <td>0</td>\n",
              "      <td>1</td>\n",
              "      <td>0</td>\n",
              "      <td>0</td>\n",
              "      <td>0</td>\n",
              "      <td>0</td>\n",
              "      <td>1</td>\n",
              "      <td>0</td>\n",
              "      <td>0</td>\n",
              "      <td>1</td>\n",
              "      <td>0</td>\n",
              "      <td>0</td>\n",
              "      <td>0</td>\n",
              "      <td>0</td>\n",
              "      <td>0</td>\n",
              "      <td>0</td>\n",
              "      <td>1</td>\n",
              "      <td>1</td>\n",
              "      <td>0</td>\n",
              "      <td>0</td>\n",
              "      <td>0</td>\n",
              "      <td>0</td>\n",
              "      <td>0</td>\n",
              "      <td>1</td>\n",
              "      <td>0</td>\n",
              "    </tr>\n",
              "    <tr>\n",
              "      <th>58975</th>\n",
              "      <td>84694</td>\n",
              "      <td>149446</td>\n",
              "      <td>URGENT</td>\n",
              "      <td>2173-03-20 20:01:00</td>\n",
              "      <td>2173-03-23 22:25:00</td>\n",
              "      <td>NaN</td>\n",
              "      <td>0</td>\n",
              "      <td>HEMOPTYSIS</td>\n",
              "      <td>SINGLE</td>\n",
              "      <td>Medicare</td>\n",
              "      <td>ENGL</td>\n",
              "      <td>NOT SPECIFIED</td>\n",
              "      <td>WHITE</td>\n",
              "      <td>M</td>\n",
              "      <td>2131-04-14 00:00:00</td>\n",
              "      <td>2.0031</td>\n",
              "      <td>1.0</td>\n",
              "      <td>9</td>\n",
              "      <td>87.0</td>\n",
              "      <td>3.0</td>\n",
              "      <td>8.0</td>\n",
              "      <td>226.0</td>\n",
              "      <td>0.0</td>\n",
              "      <td>84.0</td>\n",
              "      <td>41.0</td>\n",
              "      <td>4</td>\n",
              "      <td>18.0</td>\n",
              "      <td>41</td>\n",
              "      <td>3.100000</td>\n",
              "      <td>0.250000</td>\n",
              "      <td>21.750000</td>\n",
              "      <td>0.750000</td>\n",
              "      <td>2.000000</td>\n",
              "      <td>56.500000</td>\n",
              "      <td>0.000000</td>\n",
              "      <td>21.000000</td>\n",
              "      <td>10.250000</td>\n",
              "      <td>1.000000</td>\n",
              "      <td>4.500000</td>\n",
              "      <td>0</td>\n",
              "      <td>0</td>\n",
              "      <td>0</td>\n",
              "      <td>1</td>\n",
              "      <td>0</td>\n",
              "      <td>0</td>\n",
              "      <td>1</td>\n",
              "      <td>0</td>\n",
              "      <td>0</td>\n",
              "      <td>1</td>\n",
              "      <td>0</td>\n",
              "      <td>0</td>\n",
              "      <td>0</td>\n",
              "      <td>0</td>\n",
              "      <td>1</td>\n",
              "      <td>0</td>\n",
              "      <td>0</td>\n",
              "      <td>1</td>\n",
              "      <td>0</td>\n",
              "      <td>0</td>\n",
              "      <td>0</td>\n",
              "      <td>1</td>\n",
              "      <td>0</td>\n",
              "      <td>0</td>\n",
              "      <td>0</td>\n",
              "    </tr>\n",
              "  </tbody>\n",
              "</table>\n",
              "<p>58976 rows × 64 columns</p>\n",
              "</div>"
            ],
            "text/plain": [
              "       SUBJECT_ID  HADM_ID  ... ETHNICITY_UNKNOWN/NOT SPECIFIED ETHNICITY_OTHERS\n",
              "0            7275   136809  ...                               0                0\n",
              "1           17575   187131  ...                               0                0\n",
              "2           25251   142346  ...                               0                0\n",
              "3           32339   181355  ...                               0                0\n",
              "4           30746   155603  ...                               0                0\n",
              "...           ...      ...  ...                             ...              ...\n",
              "58971       31355   146717  ...                               1                0\n",
              "58972       58016   105567  ...                               0                1\n",
              "58973       64255   145415  ...                               0                0\n",
              "58974       83060   122843  ...                               1                0\n",
              "58975       84694   149446  ...                               0                0\n",
              "\n",
              "[58976 rows x 64 columns]"
            ]
          },
          "metadata": {
            "tags": []
          },
          "execution_count": 53
        }
      ]
    },
    {
      "cell_type": "markdown",
      "metadata": {
        "id": "tSoE-QBr7F3w"
      },
      "source": [
        "## Exploratory data analysis\n",
        "\n"
      ]
    },
    {
      "cell_type": "markdown",
      "metadata": {
        "id": "WH6hGrZk5rVL"
      },
      "source": [
        "Now, let's have a closer look at the features we gathered."
      ]
    },
    {
      "cell_type": "code",
      "metadata": {
        "id": "EzXhqri-_yuB",
        "colab": {
          "base_uri": "https://localhost:8080/"
        },
        "outputId": "de389d8e-b215-4989-b43b-4301df77849f"
      },
      "source": [
        "df.columns"
      ],
      "execution_count": null,
      "outputs": [
        {
          "output_type": "execute_result",
          "data": {
            "text/plain": [
              "Index(['SUBJECT_ID', 'HADM_ID', 'ADMISSION_TYPE', 'ADMITTIME', 'DISCHTIME',\n",
              "       'DEATHTIME', 'IN_HOSP_DEATH', 'DIAGNOSIS', 'MARITAL_STATUS',\n",
              "       'INSURANCE', 'LANGUAGE', 'RELIGION', 'ETHNICITY', 'GENDER', 'DOB',\n",
              "       'LOS_ICU', 'CALLOUT_COUNT', 'DIAG_COUNT', 'PRES_COUNT', 'PROC_COUNT',\n",
              "       'CPT_COUNT', 'LAB_COUNT', 'INPUTS_CV_COUNT', 'INPUTS_MV_COUNT',\n",
              "       'OUTPUT_COUNT', 'TRANSFER_COUNT', 'MICRO_COUNT', 'AGE', 'LOS',\n",
              "       'CALLOUT_COUNT_DAY', 'PRES_COUNT_DAY', 'PROC_COUNT_DAY',\n",
              "       'CPT_COUNT_DAY', 'LAB_COUNT_DAY', 'INPUTS_CV_COUNT_DAY',\n",
              "       'INPUTS_MV_COUNT_DAY', 'OUTPUT_COUNT_DAY', 'TRANSFER_COUNT_DAY',\n",
              "       'MICRO_COUNT_DAY', 'ADMISSION_TYPE_ELECTIVE',\n",
              "       'ADMISSION_TYPE_EMERGENCY', 'ADMISSION_TYPE_NEWBORN',\n",
              "       'ADMISSION_TYPE_URGENT', 'GENDER_F', 'RELIGION_CATHOLIC',\n",
              "       'RELIGION_NOT SPECIFIED', 'RELIGION_UNOBTAINABLE', 'RELIGION_OTHERS',\n",
              "       'INSURANCE_Medicare', 'INSURANCE_Private', 'INSURANCE_Medicaid',\n",
              "       'INSURANCE_OTHERS', 'MARITAL_STATUS_MARRIED', 'MARITAL_STATUS_SINGLE',\n",
              "       'MARITAL_STATUS_UNKNOWN (DEFAULT)', 'MARITAL_STATUS_OTHERS',\n",
              "       'LANGUAGE_ENGL', 'LANGUAGE_SPAN', 'LANGUAGE_RUSS', 'LANGUAGE_OTHERS',\n",
              "       'ETHNICITY_WHITE', 'ETHNICITY_BLACK/AFRICAN AMERICAN',\n",
              "       'ETHNICITY_UNKNOWN/NOT SPECIFIED', 'ETHNICITY_OTHERS'],\n",
              "      dtype='object')"
            ]
          },
          "metadata": {
            "tags": []
          },
          "execution_count": 54
        }
      ]
    },
    {
      "cell_type": "markdown",
      "metadata": {
        "id": "rBdClTbs4Htm"
      },
      "source": [
        "**Which features are (Text)Categorical**\n",
        "\n",
        "These values classify the samples into sets of similar samples. Within categorical features are the values nominal, ordinal, ratio, or interval based? Among other things this helps us select the appropriate plots for visualization.\n",
        "\n",
        "Categorical: ADMISSION_TYPE, INSURANCE, LANGUAGE, RELIGION, MARITAL_STATUS, ETHNICITY, GENDER\n",
        "Text: ADMISSION_LOCATION, DISCHARGE_LOCATION, DIAGNOSIS\n",
        "\n",
        "**Which features are numerical?** \n",
        "\n",
        "These values change from sample to sample. Within numerical features are the values discrete, continuous, or timeseries based? Among other things this helps us select the appropriate plots for visualization.\n",
        "\n",
        "Continous: callout_count, diag_count,prep_count, proc_count, cpt_count, lab_count,inputs_cv_count, inputs_mv_count, output_count, transfer_count, micro_count\n",
        "\n"
      ]
    },
    {
      "cell_type": "markdown",
      "metadata": {
        "id": "yNbyTEwHyUZM"
      },
      "source": [
        "### Prediction Target: `IN_HOSP_DEATH`"
      ]
    },
    {
      "cell_type": "code",
      "metadata": {
        "id": "umiGwQu5yY3D",
        "colab": {
          "base_uri": "https://localhost:8080/"
        },
        "outputId": "7f4a7a60-228b-4fd5-8426-870dcb001e5b"
      },
      "source": [
        "df['IN_HOSP_DEATH'].value_counts()"
      ],
      "execution_count": null,
      "outputs": [
        {
          "output_type": "execute_result",
          "data": {
            "text/plain": [
              "0    53122\n",
              "1     5854\n",
              "Name: IN_HOSP_DEATH, dtype: int64"
            ]
          },
          "metadata": {
            "tags": []
          },
          "execution_count": 55
        }
      ]
    },
    {
      "cell_type": "markdown",
      "metadata": {
        "id": "vc2RKlWhyntc"
      },
      "source": [
        "The overall in-hospital death rate is 5854 / (53122 + 5854) = 9.93% "
      ]
    },
    {
      "cell_type": "markdown",
      "metadata": {
        "id": "XQNlwZFceLhP"
      },
      "source": [
        "### Categorical features\r\n",
        "\r\n",
        "We can calculate and visualize each feature by group. You may also apply statistical tests to see if there are significant differences between groups.\r\n",
        "\r\n",
        "For simple visualizations in Python, the package [seaborn](https://seaborn.pydata.org/) may come in handy."
      ]
    },
    {
      "cell_type": "code",
      "metadata": {
        "id": "Z3XFZMiOV6Fw"
      },
      "source": [
        "# visualization package\r\n",
        "import seaborn as sns \r\n",
        "import matplotlib.pyplot as plt\r\n",
        "%matplotlib inline"
      ],
      "execution_count": null,
      "outputs": []
    },
    {
      "cell_type": "markdown",
      "metadata": {
        "id": "27K19drdCzry"
      },
      "source": [
        "`Gender`\n",
        "\n"
      ]
    },
    {
      "cell_type": "markdown",
      "metadata": {
        "id": "alCT7O6pMH6W"
      },
      "source": [
        "The mean mortal value of each gender group"
      ]
    },
    {
      "cell_type": "code",
      "metadata": {
        "id": "T4D3zMRXEf8Q",
        "colab": {
          "base_uri": "https://localhost:8080/",
          "height": 137
        },
        "outputId": "b88ca450-9ee7-4be5-cd53-0134189958d1"
      },
      "source": [
        "df[['GENDER', 'IN_HOSP_DEATH']].groupby(['GENDER']).mean()"
      ],
      "execution_count": null,
      "outputs": [
        {
          "output_type": "execute_result",
          "data": {
            "text/html": [
              "<div>\n",
              "<style scoped>\n",
              "    .dataframe tbody tr th:only-of-type {\n",
              "        vertical-align: middle;\n",
              "    }\n",
              "\n",
              "    .dataframe tbody tr th {\n",
              "        vertical-align: top;\n",
              "    }\n",
              "\n",
              "    .dataframe thead th {\n",
              "        text-align: right;\n",
              "    }\n",
              "</style>\n",
              "<table border=\"1\" class=\"dataframe\">\n",
              "  <thead>\n",
              "    <tr style=\"text-align: right;\">\n",
              "      <th></th>\n",
              "      <th>IN_HOSP_DEATH</th>\n",
              "    </tr>\n",
              "    <tr>\n",
              "      <th>GENDER</th>\n",
              "      <th></th>\n",
              "    </tr>\n",
              "  </thead>\n",
              "  <tbody>\n",
              "    <tr>\n",
              "      <th>F</th>\n",
              "      <td>0.103742</td>\n",
              "    </tr>\n",
              "    <tr>\n",
              "      <th>M</th>\n",
              "      <td>0.095721</td>\n",
              "    </tr>\n",
              "  </tbody>\n",
              "</table>\n",
              "</div>"
            ],
            "text/plain": [
              "        IN_HOSP_DEATH\n",
              "GENDER               \n",
              "F            0.103742\n",
              "M            0.095721"
            ]
          },
          "metadata": {
            "tags": []
          },
          "execution_count": 57
        }
      ]
    },
    {
      "cell_type": "code",
      "metadata": {
        "id": "xEF5Jge3Ijjw",
        "colab": {
          "base_uri": "https://localhost:8080/",
          "height": 296
        },
        "outputId": "584a30e2-7951-447e-a32d-e73be8ee9dc9"
      },
      "source": [
        "sns.barplot(x = 'GENDER', y = 'IN_HOSP_DEATH', data = df)"
      ],
      "execution_count": null,
      "outputs": [
        {
          "output_type": "execute_result",
          "data": {
            "text/plain": [
              "<matplotlib.axes._subplots.AxesSubplot at 0x7f26121fa0f0>"
            ]
          },
          "metadata": {
            "tags": []
          },
          "execution_count": 58
        },
        {
          "output_type": "display_data",
          "data": {
            "image/png": "[encoded data removed]",
            "text/plain": [
              "<Figure size 432x288 with 1 Axes>"
            ]
          },
          "metadata": {
            "tags": [],
            "needs_background": "light"
          }
        }
      ]
    },
    {
      "cell_type": "markdown",
      "metadata": {
        "id": "7C6UF1ZbYexv"
      },
      "source": [
        "`ADMITTION_TYPE`"
      ]
    },
    {
      "cell_type": "code",
      "metadata": {
        "id": "ZiRP0VtLYkwS",
        "colab": {
          "base_uri": "https://localhost:8080/",
          "height": 196
        },
        "outputId": "3f65a19b-8a28-411d-fe85-947f147bcde9"
      },
      "source": [
        "df[['ADMISSION_TYPE', 'IN_HOSP_DEATH']].groupby(['ADMISSION_TYPE']).mean()"
      ],
      "execution_count": null,
      "outputs": [
        {
          "output_type": "execute_result",
          "data": {
            "text/html": [
              "<div>\n",
              "<style scoped>\n",
              "    .dataframe tbody tr th:only-of-type {\n",
              "        vertical-align: middle;\n",
              "    }\n",
              "\n",
              "    .dataframe tbody tr th {\n",
              "        vertical-align: top;\n",
              "    }\n",
              "\n",
              "    .dataframe thead th {\n",
              "        text-align: right;\n",
              "    }\n",
              "</style>\n",
              "<table border=\"1\" class=\"dataframe\">\n",
              "  <thead>\n",
              "    <tr style=\"text-align: right;\">\n",
              "      <th></th>\n",
              "      <th>IN_HOSP_DEATH</th>\n",
              "    </tr>\n",
              "    <tr>\n",
              "      <th>ADMISSION_TYPE</th>\n",
              "      <th></th>\n",
              "    </tr>\n",
              "  </thead>\n",
              "  <tbody>\n",
              "    <tr>\n",
              "      <th>ELECTIVE</th>\n",
              "      <td>0.025564</td>\n",
              "    </tr>\n",
              "    <tr>\n",
              "      <th>EMERGENCY</th>\n",
              "      <td>0.129163</td>\n",
              "    </tr>\n",
              "    <tr>\n",
              "      <th>NEWBORN</th>\n",
              "      <td>0.007885</td>\n",
              "    </tr>\n",
              "    <tr>\n",
              "      <th>URGENT</th>\n",
              "      <td>0.120509</td>\n",
              "    </tr>\n",
              "  </tbody>\n",
              "</table>\n",
              "</div>"
            ],
            "text/plain": [
              "                IN_HOSP_DEATH\n",
              "ADMISSION_TYPE               \n",
              "ELECTIVE             0.025564\n",
              "EMERGENCY            0.129163\n",
              "NEWBORN              0.007885\n",
              "URGENT               0.120509"
            ]
          },
          "metadata": {
            "tags": []
          },
          "execution_count": 59
        }
      ]
    },
    {
      "cell_type": "code",
      "metadata": {
        "id": "X8FDEY5-ZliU",
        "colab": {
          "base_uri": "https://localhost:8080/",
          "height": 297
        },
        "outputId": "43f4f912-e6f9-43b0-b565-e71fbba75270"
      },
      "source": [
        "sns.barplot(x = 'ADMISSION_TYPE', y = 'IN_HOSP_DEATH', data = df)"
      ],
      "execution_count": null,
      "outputs": [
        {
          "output_type": "execute_result",
          "data": {
            "text/plain": [
              "<matplotlib.axes._subplots.AxesSubplot at 0x7f26133bdac8>"
            ]
          },
          "metadata": {
            "tags": []
          },
          "execution_count": 60
        },
        {
          "output_type": "display_data",
          "data": {
            "image/png": "[encoded data removed]",
            "text/plain": [
              "<Figure size 432x288 with 1 Axes>"
            ]
          },
          "metadata": {
            "tags": [],
            "needs_background": "light"
          }
        }
      ]
    },
    {
      "cell_type": "markdown",
      "metadata": {
        "id": "r2-ZLzvM75MZ"
      },
      "source": [
        "`MARITAL_STATUS`"
      ]
    },
    {
      "cell_type": "code",
      "metadata": {
        "id": "t5W4WeGM7-6G",
        "colab": {
          "base_uri": "https://localhost:8080/",
          "height": 286
        },
        "outputId": "f3efe58d-35c8-4c73-e496-cf5535743bb1"
      },
      "source": [
        "df[['MARITAL_STATUS', 'IN_HOSP_DEATH']].groupby(['MARITAL_STATUS']).mean()"
      ],
      "execution_count": null,
      "outputs": [
        {
          "output_type": "execute_result",
          "data": {
            "text/html": [
              "<div>\n",
              "<style scoped>\n",
              "    .dataframe tbody tr th:only-of-type {\n",
              "        vertical-align: middle;\n",
              "    }\n",
              "\n",
              "    .dataframe tbody tr th {\n",
              "        vertical-align: top;\n",
              "    }\n",
              "\n",
              "    .dataframe thead th {\n",
              "        text-align: right;\n",
              "    }\n",
              "</style>\n",
              "<table border=\"1\" class=\"dataframe\">\n",
              "  <thead>\n",
              "    <tr style=\"text-align: right;\">\n",
              "      <th></th>\n",
              "      <th>IN_HOSP_DEATH</th>\n",
              "    </tr>\n",
              "    <tr>\n",
              "      <th>MARITAL_STATUS</th>\n",
              "      <th></th>\n",
              "    </tr>\n",
              "  </thead>\n",
              "  <tbody>\n",
              "    <tr>\n",
              "      <th>DIVORCED</th>\n",
              "      <td>0.099284</td>\n",
              "    </tr>\n",
              "    <tr>\n",
              "      <th>LIFE PARTNER</th>\n",
              "      <td>0.000000</td>\n",
              "    </tr>\n",
              "    <tr>\n",
              "      <th>MARRIED</th>\n",
              "      <td>0.107678</td>\n",
              "    </tr>\n",
              "    <tr>\n",
              "      <th>SEPARATED</th>\n",
              "      <td>0.094571</td>\n",
              "    </tr>\n",
              "    <tr>\n",
              "      <th>SINGLE</th>\n",
              "      <td>0.082390</td>\n",
              "    </tr>\n",
              "    <tr>\n",
              "      <th>UNKNOWN (DEFAULT)</th>\n",
              "      <td>0.069321</td>\n",
              "    </tr>\n",
              "    <tr>\n",
              "      <th>WIDOWED</th>\n",
              "      <td>0.146027</td>\n",
              "    </tr>\n",
              "  </tbody>\n",
              "</table>\n",
              "</div>"
            ],
            "text/plain": [
              "                   IN_HOSP_DEATH\n",
              "MARITAL_STATUS                  \n",
              "DIVORCED                0.099284\n",
              "LIFE PARTNER            0.000000\n",
              "MARRIED                 0.107678\n",
              "SEPARATED               0.094571\n",
              "SINGLE                  0.082390\n",
              "UNKNOWN (DEFAULT)       0.069321\n",
              "WIDOWED                 0.146027"
            ]
          },
          "metadata": {
            "tags": []
          },
          "execution_count": 61
        }
      ]
    },
    {
      "cell_type": "code",
      "metadata": {
        "id": "NJM6iLvb8j8y",
        "colab": {
          "base_uri": "https://localhost:8080/",
          "height": 406
        },
        "outputId": "8ca08499-df58-40d5-f01d-0a1283a96dc5"
      },
      "source": [
        "plt.figure(figsize = (10, 6)) # adjust the size of your plots, formatted as (width, height)\n",
        "sns.barplot(x = 'MARITAL_STATUS', y = 'IN_HOSP_DEATH', data = df)"
      ],
      "execution_count": null,
      "outputs": [
        {
          "output_type": "execute_result",
          "data": {
            "text/plain": [
              "<matplotlib.axes._subplots.AxesSubplot at 0x7f2612141da0>"
            ]
          },
          "metadata": {
            "tags": []
          },
          "execution_count": 62
        },
        {
          "output_type": "display_data",
          "data": {
            "image/png": "[encoded data removed]",
            "text/plain": [
              "<Figure size 720x432 with 1 Axes>"
            ]
          },
          "metadata": {
            "tags": [],
            "needs_background": "light"
          }
        }
      ]
    },
    {
      "cell_type": "markdown",
      "metadata": {
        "id": "g05Pl-4RXjB6"
      },
      "source": [
        "**Exercise**: Replicate the above with `INSURANCE`."
      ]
    },
    {
      "cell_type": "markdown",
      "metadata": {
        "id": "jP1xZx_qO8yF"
      },
      "source": [
        "It is also possible to visualize more variables within one plot."
      ]
    },
    {
      "cell_type": "code",
      "metadata": {
        "id": "SDlUYPW7PCvn",
        "colab": {
          "base_uri": "https://localhost:8080/",
          "height": 405
        },
        "outputId": "419ccca2-8ad1-466c-ced1-1dcb4fbed2ea"
      },
      "source": [
        "plt.figure(figsize = (10, 6))\n",
        "sns.barplot(x = 'GENDER', y = 'IN_HOSP_DEATH', hue = 'ADMISSION_TYPE', data = df)"
      ],
      "execution_count": null,
      "outputs": [
        {
          "output_type": "execute_result",
          "data": {
            "text/plain": [
              "<matplotlib.axes._subplots.AxesSubplot at 0x7f26120337f0>"
            ]
          },
          "metadata": {
            "tags": []
          },
          "execution_count": 63
        },
        {
          "output_type": "display_data",
          "data": {
            "image/png": "[encoded data removed]",
            "text/plain": [
              "<Figure size 720x432 with 1 Axes>"
            ]
          },
          "metadata": {
            "tags": [],
            "needs_background": "light"
          }
        }
      ]
    },
    {
      "cell_type": "markdown",
      "metadata": {
        "id": "ZmiJJhLnhK3t"
      },
      "source": [
        "### Numerical features"
      ]
    },
    {
      "cell_type": "code",
      "metadata": {
        "colab": {
          "base_uri": "https://localhost:8080/",
          "height": 322
        },
        "id": "K5JLm5MShMDR",
        "outputId": "20eca466-ba9b-44b7-99dd-9ca2bedf6b5f"
      },
      "source": [
        "df.describe()"
      ],
      "execution_count": null,
      "outputs": [
        {
          "output_type": "execute_result",
          "data": {
            "text/html": [
              "<div>\n",
              "<style scoped>\n",
              "    .dataframe tbody tr th:only-of-type {\n",
              "        vertical-align: middle;\n",
              "    }\n",
              "\n",
              "    .dataframe tbody tr th {\n",
              "        vertical-align: top;\n",
              "    }\n",
              "\n",
              "    .dataframe thead th {\n",
              "        text-align: right;\n",
              "    }\n",
              "</style>\n",
              "<table border=\"1\" class=\"dataframe\">\n",
              "  <thead>\n",
              "    <tr style=\"text-align: right;\">\n",
              "      <th></th>\n",
              "      <th>SUBJECT_ID</th>\n",
              "      <th>HADM_ID</th>\n",
              "      <th>IN_HOSP_DEATH</th>\n",
              "      <th>LOS_ICU</th>\n",
              "      <th>CALLOUT_COUNT</th>\n",
              "      <th>DIAG_COUNT</th>\n",
              "      <th>PRES_COUNT</th>\n",
              "      <th>PROC_COUNT</th>\n",
              "      <th>CPT_COUNT</th>\n",
              "      <th>LAB_COUNT</th>\n",
              "      <th>INPUTS_CV_COUNT</th>\n",
              "      <th>INPUTS_MV_COUNT</th>\n",
              "      <th>OUTPUT_COUNT</th>\n",
              "      <th>TRANSFER_COUNT</th>\n",
              "      <th>MICRO_COUNT</th>\n",
              "      <th>AGE</th>\n",
              "      <th>LOS</th>\n",
              "      <th>CALLOUT_COUNT_DAY</th>\n",
              "      <th>PRES_COUNT_DAY</th>\n",
              "      <th>PROC_COUNT_DAY</th>\n",
              "      <th>CPT_COUNT_DAY</th>\n",
              "      <th>LAB_COUNT_DAY</th>\n",
              "      <th>INPUTS_CV_COUNT_DAY</th>\n",
              "      <th>INPUTS_MV_COUNT_DAY</th>\n",
              "      <th>OUTPUT_COUNT_DAY</th>\n",
              "      <th>TRANSFER_COUNT_DAY</th>\n",
              "      <th>MICRO_COUNT_DAY</th>\n",
              "      <th>ADMISSION_TYPE_ELECTIVE</th>\n",
              "      <th>ADMISSION_TYPE_EMERGENCY</th>\n",
              "      <th>ADMISSION_TYPE_NEWBORN</th>\n",
              "      <th>ADMISSION_TYPE_URGENT</th>\n",
              "      <th>GENDER_F</th>\n",
              "      <th>RELIGION_CATHOLIC</th>\n",
              "      <th>RELIGION_NOT SPECIFIED</th>\n",
              "      <th>RELIGION_UNOBTAINABLE</th>\n",
              "      <th>RELIGION_OTHERS</th>\n",
              "      <th>INSURANCE_Medicare</th>\n",
              "      <th>INSURANCE_Private</th>\n",
              "      <th>INSURANCE_Medicaid</th>\n",
              "      <th>INSURANCE_OTHERS</th>\n",
              "      <th>MARITAL_STATUS_MARRIED</th>\n",
              "      <th>MARITAL_STATUS_SINGLE</th>\n",
              "      <th>MARITAL_STATUS_UNKNOWN (DEFAULT)</th>\n",
              "      <th>MARITAL_STATUS_OTHERS</th>\n",
              "      <th>LANGUAGE_ENGL</th>\n",
              "      <th>LANGUAGE_SPAN</th>\n",
              "      <th>LANGUAGE_RUSS</th>\n",
              "      <th>LANGUAGE_OTHERS</th>\n",
              "      <th>ETHNICITY_WHITE</th>\n",
              "      <th>ETHNICITY_BLACK/AFRICAN AMERICAN</th>\n",
              "      <th>ETHNICITY_UNKNOWN/NOT SPECIFIED</th>\n",
              "      <th>ETHNICITY_OTHERS</th>\n",
              "    </tr>\n",
              "  </thead>\n",
              "  <tbody>\n",
              "    <tr>\n",
              "      <th>count</th>\n",
              "      <td>58976.000000</td>\n",
              "      <td>58976.000000</td>\n",
              "      <td>58976.000000</td>\n",
              "      <td>58976.000000</td>\n",
              "      <td>58976.000000</td>\n",
              "      <td>58976.000000</td>\n",
              "      <td>58976.000000</td>\n",
              "      <td>58976.000000</td>\n",
              "      <td>58976.000000</td>\n",
              "      <td>58976.000000</td>\n",
              "      <td>58976.000000</td>\n",
              "      <td>58976.000000</td>\n",
              "      <td>58976.000000</td>\n",
              "      <td>58976.000000</td>\n",
              "      <td>58976.000000</td>\n",
              "      <td>58976.000000</td>\n",
              "      <td>58976.000000</td>\n",
              "      <td>58976.000000</td>\n",
              "      <td>58976.000000</td>\n",
              "      <td>58976.000000</td>\n",
              "      <td>58976.000000</td>\n",
              "      <td>58976.000000</td>\n",
              "      <td>58976.000000</td>\n",
              "      <td>58976.000000</td>\n",
              "      <td>58976.000000</td>\n",
              "      <td>58976.000000</td>\n",
              "      <td>58976.000000</td>\n",
              "      <td>58976.000000</td>\n",
              "      <td>58976.000000</td>\n",
              "      <td>58976.000000</td>\n",
              "      <td>58976.000000</td>\n",
              "      <td>58976.000000</td>\n",
              "      <td>58976.000000</td>\n",
              "      <td>58976.000000</td>\n",
              "      <td>58976.000000</td>\n",
              "      <td>58976.000000</td>\n",
              "      <td>58976.000000</td>\n",
              "      <td>58976.000000</td>\n",
              "      <td>58976.000000</td>\n",
              "      <td>58976.000000</td>\n",
              "      <td>58976.000000</td>\n",
              "      <td>58976.000000</td>\n",
              "      <td>58976.000000</td>\n",
              "      <td>58976.000000</td>\n",
              "      <td>58976.000000</td>\n",
              "      <td>58976.000000</td>\n",
              "      <td>58976.000000</td>\n",
              "      <td>58976.000000</td>\n",
              "      <td>58976.000000</td>\n",
              "      <td>58976.000000</td>\n",
              "      <td>58976.000000</td>\n",
              "      <td>58976.000000</td>\n",
              "    </tr>\n",
              "    <tr>\n",
              "      <th>mean</th>\n",
              "      <td>33755.583288</td>\n",
              "      <td>149970.809584</td>\n",
              "      <td>0.099261</td>\n",
              "      <td>5.130281</td>\n",
              "      <td>0.584967</td>\n",
              "      <td>11.039185</td>\n",
              "      <td>70.476974</td>\n",
              "      <td>4.071063</td>\n",
              "      <td>9.718292</td>\n",
              "      <td>377.187907</td>\n",
              "      <td>296.820164</td>\n",
              "      <td>61.363792</td>\n",
              "      <td>73.663507</td>\n",
              "      <td>4.440739</td>\n",
              "      <td>10.711578</td>\n",
              "      <td>54.682990</td>\n",
              "      <td>10.133916</td>\n",
              "      <td>0.087932</td>\n",
              "      <td>8.109976</td>\n",
              "      <td>0.543624</td>\n",
              "      <td>0.921930</td>\n",
              "      <td>38.068683</td>\n",
              "      <td>20.945233</td>\n",
              "      <td>5.644189</td>\n",
              "      <td>6.379781</td>\n",
              "      <td>0.753440</td>\n",
              "      <td>1.003296</td>\n",
              "      <td>0.130663</td>\n",
              "      <td>0.713358</td>\n",
              "      <td>0.133325</td>\n",
              "      <td>0.022653</td>\n",
              "      <td>0.441298</td>\n",
              "      <td>0.349396</td>\n",
              "      <td>0.207050</td>\n",
              "      <td>0.140210</td>\n",
              "      <td>0.303344</td>\n",
              "      <td>0.478415</td>\n",
              "      <td>0.382902</td>\n",
              "      <td>0.098091</td>\n",
              "      <td>0.040593</td>\n",
              "      <td>0.410998</td>\n",
              "      <td>0.224735</td>\n",
              "      <td>0.177581</td>\n",
              "      <td>0.186686</td>\n",
              "      <td>0.922714</td>\n",
              "      <td>0.018363</td>\n",
              "      <td>0.013395</td>\n",
              "      <td>0.045527</td>\n",
              "      <td>0.695130</td>\n",
              "      <td>0.092241</td>\n",
              "      <td>0.076692</td>\n",
              "      <td>0.135937</td>\n",
              "    </tr>\n",
              "    <tr>\n",
              "      <th>std</th>\n",
              "      <td>28092.726225</td>\n",
              "      <td>28883.095213</td>\n",
              "      <td>0.299014</td>\n",
              "      <td>10.037757</td>\n",
              "      <td>0.700514</td>\n",
              "      <td>6.466180</td>\n",
              "      <td>75.216818</td>\n",
              "      <td>3.884176</td>\n",
              "      <td>16.597424</td>\n",
              "      <td>502.867934</td>\n",
              "      <td>924.905379</td>\n",
              "      <td>221.981380</td>\n",
              "      <td>142.899052</td>\n",
              "      <td>1.843467</td>\n",
              "      <td>21.034618</td>\n",
              "      <td>27.111229</td>\n",
              "      <td>12.456682</td>\n",
              "      <td>0.130159</td>\n",
              "      <td>6.681174</td>\n",
              "      <td>0.711198</td>\n",
              "      <td>0.876012</td>\n",
              "      <td>27.438760</td>\n",
              "      <td>43.226989</td>\n",
              "      <td>13.385931</td>\n",
              "      <td>6.171553</td>\n",
              "      <td>0.585915</td>\n",
              "      <td>2.038059</td>\n",
              "      <td>0.337035</td>\n",
              "      <td>0.452197</td>\n",
              "      <td>0.339929</td>\n",
              "      <td>0.148797</td>\n",
              "      <td>0.496546</td>\n",
              "      <td>0.476783</td>\n",
              "      <td>0.405195</td>\n",
              "      <td>0.347207</td>\n",
              "      <td>0.459706</td>\n",
              "      <td>0.499538</td>\n",
              "      <td>0.486099</td>\n",
              "      <td>0.297440</td>\n",
              "      <td>0.197347</td>\n",
              "      <td>0.492019</td>\n",
              "      <td>0.417412</td>\n",
              "      <td>0.382163</td>\n",
              "      <td>0.389663</td>\n",
              "      <td>0.267046</td>\n",
              "      <td>0.134263</td>\n",
              "      <td>0.114961</td>\n",
              "      <td>0.208459</td>\n",
              "      <td>0.460356</td>\n",
              "      <td>0.289368</td>\n",
              "      <td>0.266105</td>\n",
              "      <td>0.342724</td>\n",
              "    </tr>\n",
              "    <tr>\n",
              "      <th>min</th>\n",
              "      <td>2.000000</td>\n",
              "      <td>100001.000000</td>\n",
              "      <td>0.000000</td>\n",
              "      <td>0.000000</td>\n",
              "      <td>0.000000</td>\n",
              "      <td>1.000000</td>\n",
              "      <td>0.000000</td>\n",
              "      <td>0.000000</td>\n",
              "      <td>0.000000</td>\n",
              "      <td>0.000000</td>\n",
              "      <td>0.000000</td>\n",
              "      <td>0.000000</td>\n",
              "      <td>0.000000</td>\n",
              "      <td>1.000000</td>\n",
              "      <td>0.000000</td>\n",
              "      <td>0.000000</td>\n",
              "      <td>-0.945139</td>\n",
              "      <td>0.000000</td>\n",
              "      <td>0.000000</td>\n",
              "      <td>0.000000</td>\n",
              "      <td>0.000000</td>\n",
              "      <td>0.000000</td>\n",
              "      <td>0.000000</td>\n",
              "      <td>0.000000</td>\n",
              "      <td>0.000000</td>\n",
              "      <td>0.019231</td>\n",
              "      <td>0.000000</td>\n",
              "      <td>0.000000</td>\n",
              "      <td>0.000000</td>\n",
              "      <td>0.000000</td>\n",
              "      <td>0.000000</td>\n",
              "      <td>0.000000</td>\n",
              "      <td>0.000000</td>\n",
              "      <td>0.000000</td>\n",
              "      <td>0.000000</td>\n",
              "      <td>0.000000</td>\n",
              "      <td>0.000000</td>\n",
              "      <td>0.000000</td>\n",
              "      <td>0.000000</td>\n",
              "      <td>0.000000</td>\n",
              "      <td>0.000000</td>\n",
              "      <td>0.000000</td>\n",
              "      <td>0.000000</td>\n",
              "      <td>0.000000</td>\n",
              "      <td>0.000000</td>\n",
              "      <td>0.000000</td>\n",
              "      <td>0.000000</td>\n",
              "      <td>0.000000</td>\n",
              "      <td>0.000000</td>\n",
              "      <td>0.000000</td>\n",
              "      <td>0.000000</td>\n",
              "      <td>0.000000</td>\n",
              "    </tr>\n",
              "    <tr>\n",
              "      <th>25%</th>\n",
              "      <td>11993.750000</td>\n",
              "      <td>124952.750000</td>\n",
              "      <td>0.000000</td>\n",
              "      <td>1.085875</td>\n",
              "      <td>0.000000</td>\n",
              "      <td>6.000000</td>\n",
              "      <td>21.000000</td>\n",
              "      <td>1.000000</td>\n",
              "      <td>0.000000</td>\n",
              "      <td>117.000000</td>\n",
              "      <td>0.000000</td>\n",
              "      <td>0.000000</td>\n",
              "      <td>10.000000</td>\n",
              "      <td>3.000000</td>\n",
              "      <td>1.000000</td>\n",
              "      <td>43.000000</td>\n",
              "      <td>3.743750</td>\n",
              "      <td>0.000000</td>\n",
              "      <td>4.038462</td>\n",
              "      <td>0.200000</td>\n",
              "      <td>0.000000</td>\n",
              "      <td>24.875000</td>\n",
              "      <td>0.000000</td>\n",
              "      <td>0.000000</td>\n",
              "      <td>1.600000</td>\n",
              "      <td>0.363636</td>\n",
              "      <td>0.142857</td>\n",
              "      <td>0.000000</td>\n",
              "      <td>0.000000</td>\n",
              "      <td>0.000000</td>\n",
              "      <td>0.000000</td>\n",
              "      <td>0.000000</td>\n",
              "      <td>0.000000</td>\n",
              "      <td>0.000000</td>\n",
              "      <td>0.000000</td>\n",
              "      <td>0.000000</td>\n",
              "      <td>0.000000</td>\n",
              "      <td>0.000000</td>\n",
              "      <td>0.000000</td>\n",
              "      <td>0.000000</td>\n",
              "      <td>0.000000</td>\n",
              "      <td>0.000000</td>\n",
              "      <td>0.000000</td>\n",
              "      <td>0.000000</td>\n",
              "      <td>1.000000</td>\n",
              "      <td>0.000000</td>\n",
              "      <td>0.000000</td>\n",
              "      <td>0.000000</td>\n",
              "      <td>0.000000</td>\n",
              "      <td>0.000000</td>\n",
              "      <td>0.000000</td>\n",
              "      <td>0.000000</td>\n",
              "    </tr>\n",
              "    <tr>\n",
              "      <th>50%</th>\n",
              "      <td>24133.500000</td>\n",
              "      <td>149989.500000</td>\n",
              "      <td>0.000000</td>\n",
              "      <td>2.104400</td>\n",
              "      <td>0.000000</td>\n",
              "      <td>9.000000</td>\n",
              "      <td>54.000000</td>\n",
              "      <td>3.000000</td>\n",
              "      <td>5.000000</td>\n",
              "      <td>235.000000</td>\n",
              "      <td>14.000000</td>\n",
              "      <td>0.000000</td>\n",
              "      <td>32.000000</td>\n",
              "      <td>4.000000</td>\n",
              "      <td>3.000000</td>\n",
              "      <td>61.000000</td>\n",
              "      <td>6.467014</td>\n",
              "      <td>0.000000</td>\n",
              "      <td>7.767594</td>\n",
              "      <td>0.376389</td>\n",
              "      <td>0.889899</td>\n",
              "      <td>35.400000</td>\n",
              "      <td>2.500000</td>\n",
              "      <td>0.000000</td>\n",
              "      <td>4.781929</td>\n",
              "      <td>0.600000</td>\n",
              "      <td>0.500000</td>\n",
              "      <td>0.000000</td>\n",
              "      <td>1.000000</td>\n",
              "      <td>0.000000</td>\n",
              "      <td>0.000000</td>\n",
              "      <td>0.000000</td>\n",
              "      <td>0.000000</td>\n",
              "      <td>0.000000</td>\n",
              "      <td>0.000000</td>\n",
              "      <td>0.000000</td>\n",
              "      <td>0.000000</td>\n",
              "      <td>0.000000</td>\n",
              "      <td>0.000000</td>\n",
              "      <td>0.000000</td>\n",
              "      <td>0.000000</td>\n",
              "      <td>0.000000</td>\n",
              "      <td>0.000000</td>\n",
              "      <td>0.000000</td>\n",
              "      <td>1.000000</td>\n",
              "      <td>0.000000</td>\n",
              "      <td>0.000000</td>\n",
              "      <td>0.000000</td>\n",
              "      <td>1.000000</td>\n",
              "      <td>0.000000</td>\n",
              "      <td>0.000000</td>\n",
              "      <td>0.000000</td>\n",
              "    </tr>\n",
              "    <tr>\n",
              "      <th>75%</th>\n",
              "      <td>53851.500000</td>\n",
              "      <td>174966.500000</td>\n",
              "      <td>0.000000</td>\n",
              "      <td>4.778300</td>\n",
              "      <td>1.000000</td>\n",
              "      <td>15.000000</td>\n",
              "      <td>96.000000</td>\n",
              "      <td>6.000000</td>\n",
              "      <td>11.000000</td>\n",
              "      <td>432.000000</td>\n",
              "      <td>186.000000</td>\n",
              "      <td>31.000000</td>\n",
              "      <td>76.000000</td>\n",
              "      <td>5.000000</td>\n",
              "      <td>12.000000</td>\n",
              "      <td>75.000000</td>\n",
              "      <td>11.795139</td>\n",
              "      <td>0.142857</td>\n",
              "      <td>11.111111</td>\n",
              "      <td>0.666667</td>\n",
              "      <td>1.428571</td>\n",
              "      <td>46.500000</td>\n",
              "      <td>24.400000</td>\n",
              "      <td>5.666667</td>\n",
              "      <td>9.400000</td>\n",
              "      <td>1.000000</td>\n",
              "      <td>1.250000</td>\n",
              "      <td>0.000000</td>\n",
              "      <td>1.000000</td>\n",
              "      <td>0.000000</td>\n",
              "      <td>0.000000</td>\n",
              "      <td>1.000000</td>\n",
              "      <td>1.000000</td>\n",
              "      <td>0.000000</td>\n",
              "      <td>0.000000</td>\n",
              "      <td>1.000000</td>\n",
              "      <td>1.000000</td>\n",
              "      <td>1.000000</td>\n",
              "      <td>0.000000</td>\n",
              "      <td>0.000000</td>\n",
              "      <td>1.000000</td>\n",
              "      <td>0.000000</td>\n",
              "      <td>0.000000</td>\n",
              "      <td>0.000000</td>\n",
              "      <td>1.000000</td>\n",
              "      <td>0.000000</td>\n",
              "      <td>0.000000</td>\n",
              "      <td>0.000000</td>\n",
              "      <td>1.000000</td>\n",
              "      <td>0.000000</td>\n",
              "      <td>0.000000</td>\n",
              "      <td>0.000000</td>\n",
              "    </tr>\n",
              "    <tr>\n",
              "      <th>max</th>\n",
              "      <td>99999.000000</td>\n",
              "      <td>199999.000000</td>\n",
              "      <td>1.000000</td>\n",
              "      <td>260.708900</td>\n",
              "      <td>7.000000</td>\n",
              "      <td>39.000000</td>\n",
              "      <td>1400.000000</td>\n",
              "      <td>40.000000</td>\n",
              "      <td>362.000000</td>\n",
              "      <td>13713.000000</td>\n",
              "      <td>40130.000000</td>\n",
              "      <td>7009.000000</td>\n",
              "      <td>6883.000000</td>\n",
              "      <td>25.000000</td>\n",
              "      <td>565.000000</td>\n",
              "      <td>90.000000</td>\n",
              "      <td>294.660417</td>\n",
              "      <td>2.000000</td>\n",
              "      <td>117.000000</td>\n",
              "      <td>20.000000</td>\n",
              "      <td>15.000000</td>\n",
              "      <td>507.000000</td>\n",
              "      <td>1176.000000</td>\n",
              "      <td>269.000000</td>\n",
              "      <td>76.000000</td>\n",
              "      <td>7.000000</td>\n",
              "      <td>246.500000</td>\n",
              "      <td>1.000000</td>\n",
              "      <td>1.000000</td>\n",
              "      <td>1.000000</td>\n",
              "      <td>1.000000</td>\n",
              "      <td>1.000000</td>\n",
              "      <td>1.000000</td>\n",
              "      <td>1.000000</td>\n",
              "      <td>1.000000</td>\n",
              "      <td>1.000000</td>\n",
              "      <td>1.000000</td>\n",
              "      <td>1.000000</td>\n",
              "      <td>1.000000</td>\n",
              "      <td>1.000000</td>\n",
              "      <td>1.000000</td>\n",
              "      <td>1.000000</td>\n",
              "      <td>1.000000</td>\n",
              "      <td>1.000000</td>\n",
              "      <td>1.000000</td>\n",
              "      <td>1.000000</td>\n",
              "      <td>1.000000</td>\n",
              "      <td>1.000000</td>\n",
              "      <td>1.000000</td>\n",
              "      <td>1.000000</td>\n",
              "      <td>1.000000</td>\n",
              "      <td>1.000000</td>\n",
              "    </tr>\n",
              "  </tbody>\n",
              "</table>\n",
              "</div>"
            ],
            "text/plain": [
              "         SUBJECT_ID  ...  ETHNICITY_OTHERS\n",
              "count  58976.000000  ...      58976.000000\n",
              "mean   33755.583288  ...          0.135937\n",
              "std    28092.726225  ...          0.342724\n",
              "min        2.000000  ...          0.000000\n",
              "25%    11993.750000  ...          0.000000\n",
              "50%    24133.500000  ...          0.000000\n",
              "75%    53851.500000  ...          0.000000\n",
              "max    99999.000000  ...          1.000000\n",
              "\n",
              "[8 rows x 52 columns]"
            ]
          },
          "metadata": {
            "tags": []
          },
          "execution_count": 64
        }
      ]
    },
    {
      "cell_type": "markdown",
      "metadata": {
        "id": "ayDAF4KOdjOL"
      },
      "source": [
        "`sns.histplot()` is a good alternative to `Series.hist()` that offers much more flexibility.\n",
        "\n",
        "Using `Age` as an example,"
      ]
    },
    {
      "cell_type": "code",
      "metadata": {
        "colab": {
          "base_uri": "https://localhost:8080/",
          "height": 296
        },
        "id": "BKrHYmC3ZDLL",
        "outputId": "adea450b-2654-4f63-9eb5-2c4edf41c1b4"
      },
      "source": [
        "sns.histplot(x = 'AGE', data = df)"
      ],
      "execution_count": null,
      "outputs": [
        {
          "output_type": "execute_result",
          "data": {
            "text/plain": [
              "<matplotlib.axes._subplots.AxesSubplot at 0x7f2611df6f60>"
            ]
          },
          "metadata": {
            "tags": []
          },
          "execution_count": 65
        },
        {
          "output_type": "display_data",
          "data": {
            "image/png": "[encoded data removed]",
            "text/plain": [
              "<Figure size 432x288 with 1 Axes>"
            ]
          },
          "metadata": {
            "tags": [],
            "needs_background": "light"
          }
        }
      ]
    },
    {
      "cell_type": "code",
      "metadata": {
        "colab": {
          "base_uri": "https://localhost:8080/",
          "height": 296
        },
        "id": "KuakUV65Z5I6",
        "outputId": "55b62da7-6a57-4591-e4bf-1db4b52d4192"
      },
      "source": [
        "sns.boxplot(x = 'AGE', data = df)"
      ],
      "execution_count": null,
      "outputs": [
        {
          "output_type": "execute_result",
          "data": {
            "text/plain": [
              "<matplotlib.axes._subplots.AxesSubplot at 0x7f2611cc2860>"
            ]
          },
          "metadata": {
            "tags": []
          },
          "execution_count": 66
        },
        {
          "output_type": "display_data",
          "data": {
            "image/png": "[encoded data removed]",
            "text/plain": [
              "<Figure size 432x288 with 1 Axes>"
            ]
          },
          "metadata": {
            "tags": [],
            "needs_background": "light"
          }
        }
      ]
    },
    {
      "cell_type": "code",
      "metadata": {
        "colab": {
          "base_uri": "https://localhost:8080/",
          "height": 241
        },
        "id": "_gg0bwgGax0z",
        "outputId": "1e8b3ad7-e34a-4b4f-dcf8-c53f56581703"
      },
      "source": [
        "g = sns.FacetGrid(df, col = 'IN_HOSP_DEATH', sharey = False)\r\n",
        "g.map(sns.histplot, 'AGE', bins = 20)"
      ],
      "execution_count": null,
      "outputs": [
        {
          "output_type": "execute_result",
          "data": {
            "text/plain": [
              "<seaborn.axisgrid.FacetGrid at 0x7f2611b54da0>"
            ]
          },
          "metadata": {
            "tags": []
          },
          "execution_count": 67
        },
        {
          "output_type": "display_data",
          "data": {
            "image/png": "[encoded data removed]",
            "text/plain": [
              "<Figure size 432x216 with 2 Axes>"
            ]
          },
          "metadata": {
            "tags": [],
            "needs_background": "light"
          }
        }
      ]
    },
    {
      "cell_type": "markdown",
      "metadata": {
        "id": "8mpdxE2RaV5G"
      },
      "source": [
        "**Discussion**: \r\n",
        "\r\n",
        "* What are the findings from the figure above?\r\n",
        "* Based on the figure above, shall we remove the infants (e.g. `AGE` < 1) from our training dataset?"
      ]
    },
    {
      "cell_type": "markdown",
      "metadata": {
        "id": "2aK0r-wwAThs"
      },
      "source": [
        "`DIAG_COUNT`"
      ]
    },
    {
      "cell_type": "code",
      "metadata": {
        "id": "YZrr9on-Aafz",
        "colab": {
          "base_uri": "https://localhost:8080/",
          "height": 297
        },
        "outputId": "f3b77129-4a58-47bf-8211-037145f70783"
      },
      "source": [
        "sns.histplot(x = 'DIAG_COUNT', data = df, bins = 20, kde = True) # kde = True adds a smoothed line"
      ],
      "execution_count": null,
      "outputs": [
        {
          "output_type": "execute_result",
          "data": {
            "text/plain": [
              "<matplotlib.axes._subplots.AxesSubplot at 0x7f2611e7e908>"
            ]
          },
          "metadata": {
            "tags": []
          },
          "execution_count": 68
        },
        {
          "output_type": "display_data",
          "data": {
            "image/png": "[encoded data removed]",
            "text/plain": [
              "<Figure size 432x288 with 1 Axes>"
            ]
          },
          "metadata": {
            "tags": [],
            "needs_background": "light"
          }
        }
      ]
    },
    {
      "cell_type": "code",
      "metadata": {
        "colab": {
          "base_uri": "https://localhost:8080/",
          "height": 241
        },
        "id": "K3t56_UOcxHR",
        "outputId": "70b25714-98a0-4c86-a727-a031183209ce"
      },
      "source": [
        "g = sns.FacetGrid(df, col = 'IN_HOSP_DEATH', sharey = False)\r\n",
        "g.map(sns.histplot, 'DIAG_COUNT', bins = 20, kde = True)"
      ],
      "execution_count": null,
      "outputs": [
        {
          "output_type": "execute_result",
          "data": {
            "text/plain": [
              "<seaborn.axisgrid.FacetGrid at 0x7f2611b54208>"
            ]
          },
          "metadata": {
            "tags": []
          },
          "execution_count": 69
        },
        {
          "output_type": "display_data",
          "data": {
            "image/png": "[encoded data removed]",
            "text/plain": [
              "<Figure size 432x216 with 2 Axes>"
            ]
          },
          "metadata": {
            "tags": [],
            "needs_background": "light"
          }
        }
      ]
    },
    {
      "cell_type": "markdown",
      "metadata": {
        "id": "JdnL-K_blExs"
      },
      "source": [
        "As a reference for you, the following code plots a distributions of all numerical features for the two patient groups."
      ]
    },
    {
      "cell_type": "code",
      "metadata": {
        "id": "aH6wxvbdlYW5",
        "colab": {
          "base_uri": "https://localhost:8080/",
          "height": 1000
        },
        "outputId": "27357f1a-999d-4594-c3e7-995da9436c7d"
      },
      "source": [
        "numerical_feaures = ['AGE', 'DIAG_COUNT', 'CALLOUT_COUNT_DAY', 'PRES_COUNT_DAY', \n",
        "                     'PROC_COUNT_DAY', 'CPT_COUNT_DAY', 'LAB_COUNT_DAY',\n",
        "                     'INPUTS_CV_COUNT_DAY', 'INPUTS_MV_COUNT_DAY', 'OUTPUT_COUNT_DAY', \n",
        "                     'TRANSFER_COUNT_DAY', 'MICRO_COUNT_DAY', 'LOS', 'LOS_ICU']\n",
        "\n",
        "for col_name in numerical_feaures:\n",
        "  sns.displot(data = df, x = col_name, hue = 'IN_HOSP_DEATH', stat = 'density', kde = True)\n",
        "  plt.show()"
      ],
      "execution_count": null,
      "outputs": [
        {
          "output_type": "display_data",
          "data": {
            "image/png": "[encoded data removed]",
            "text/plain": [
              "<Figure size 449.5x360 with 1 Axes>"
            ]
          },
          "metadata": {
            "tags": [],
            "needs_background": "light"
          }
        },
        {
          "output_type": "display_data",
          "data": {
            "image/png": "[encoded data removed]",
            "text/plain": [
              "<Figure size 449.5x360 with 1 Axes>"
            ]
          },
          "metadata": {
            "tags": [],
            "needs_background": "light"
          }
        },
        {
          "output_type": "display_data",
          "data": {
            "image/png": "[encoded data removed]",
            "text/plain": [
              "<Figure size 449.5x360 with 1 Axes>"
            ]
          },
          "metadata": {
            "tags": [],
            "needs_background": "light"
          }
        },
        {
          "output_type": "display_data",
          "data": {
            "image/png": "[encoded data removed]",
            "text/plain": [
              "<Figure size 449.5x360 with 1 Axes>"
            ]
          },
          "metadata": {
            "tags": [],
            "needs_background": "light"
          }
        },
        {
          "output_type": "display_data",
          "data": {
            "image/png": "[encoded data removed]",
            "text/plain": [
              "<Figure size 449.5x360 with 1 Axes>"
            ]
          },
          "metadata": {
            "tags": [],
            "needs_background": "light"
          }
        },
        {
          "output_type": "display_data",
          "data": {
            "image/png": "[encoded data removed]",
            "text/plain": [
              "<Figure size 449.5x360 with 1 Axes>"
            ]
          },
          "metadata": {
            "tags": [],
            "needs_background": "light"
          }
        },
        {
          "output_type": "display_data",
          "data": {
            "image/png": "[encoded data removed]",
            "text/plain": [
              "<Figure size 449.5x360 with 1 Axes>"
            ]
          },
          "metadata": {
            "tags": [],
            "needs_background": "light"
          }
        },
        {
          "output_type": "display_data",
          "data": {
            "image/png": "[encoded data removed]",
            "text/plain": [
              "<Figure size 449.5x360 with 1 Axes>"
            ]
          },
          "metadata": {
            "tags": [],
            "needs_background": "light"
          }
        },
        {
          "output_type": "display_data",
          "data": {
            "image/png": "[encoded data removed]",
            "text/plain": [
              "<Figure size 449.5x360 with 1 Axes>"
            ]
          },
          "metadata": {
            "tags": [],
            "needs_background": "light"
          }
        },
        {
          "output_type": "display_data",
          "data": {
            "image/png": "[encoded data removed]",
            "text/plain": [
              "<Figure size 449.5x360 with 1 Axes>"
            ]
          },
          "metadata": {
            "tags": [],
            "needs_background": "light"
          }
        },
        {
          "output_type": "display_data",
          "data": {
            "image/png": "[encoded data removed]",
            "text/plain": [
              "<Figure size 449.5x360 with 1 Axes>"
            ]
          },
          "metadata": {
            "tags": [],
            "needs_background": "light"
          }
        },
        {
          "output_type": "display_data",
          "data": {
            "image/png": "[encoded data removed]",
            "text/plain": [
              "<Figure size 449.5x360 with 1 Axes>"
            ]
          },
          "metadata": {
            "tags": [],
            "needs_background": "light"
          }
        },
        {
          "output_type": "display_data",
          "data": {
            "image/png": "[encoded data removed]",
            "text/plain": [
              "<Figure size 449.5x360 with 1 Axes>"
            ]
          },
          "metadata": {
            "tags": [],
            "needs_background": "light"
          }
        },
        {
          "output_type": "display_data",
          "data": {
            "image/png": "[encoded data removed]",
            "text/plain": [
              "<Figure size 449.5x360 with 1 Axes>"
            ]
          },
          "metadata": {
            "tags": [],
            "needs_background": "light"
          }
        }
      ]
    },
    {
      "cell_type": "markdown",
      "metadata": {
        "id": "R8lu5rWPZshR"
      },
      "source": [
        "# References\r\n",
        "\r\n",
        "* [7 Steps to Machine Learning: How to Prepare for an Automated Future](https://medium.com/dataseries/7-steps-to-machine-learning-how-to-prepare-for-an-automated-future-78c7918cb35d)\r\n",
        "* [What is One Hot Encoding and How to Do It](https://medium.com/@michaeldelsole/what-is-one-hot-encoding-and-how-to-do-it-f0ae272f1179)\r\n",
        "\r\n",
        "<!--\r\n",
        "## Discussion\r\n",
        "\r\n",
        "How well will the model above translate into a decision support system in practice? Here are some issues you may think about (which is beyond the scope of training machine learning models itself):\r\n",
        "\r\n",
        "* What is the purpose of the model? Is it in line with the goals and focuses of clinicians? \r\n",
        "* Suppose we trained a reasonably reliable model. What are the associated interventions could be done based on the model predictions?\r\n",
        "* Consider the time of which the variables becomes available. Could the model deliver the predictions in a timely manner? Can this be improved? \r\n",
        "-->"
      ]
    },
    {
      "cell_type": "code",
      "metadata": {
        "id": "TwWx3sBTdlK3"
      },
      "source": [
        ""
      ],
      "execution_count": null,
      "outputs": []
    }
  ]
}