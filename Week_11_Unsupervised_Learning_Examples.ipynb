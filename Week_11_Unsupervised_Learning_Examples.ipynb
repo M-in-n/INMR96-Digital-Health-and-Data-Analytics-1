{
  "nbformat": 4,
  "nbformat_minor": 0,
  "metadata": {
    "colab": {
      "name": "Week 11 Unsupervised Learning Examples.ipynb",
      "provenance": [],
      "collapsed_sections": [],
      "toc_visible": true,
      "authorship_tag": "ABX9TyP+t0L+PrQ2MHMMkHE4xGoX",
      "include_colab_link": true
    },
    "kernelspec": {
      "name": "python3",
      "display_name": "Python 3"
    },
    "language_info": {
      "name": "python"
    }
  },
  "cells": [
    {
      "cell_type": "markdown",
      "metadata": {
        "id": "view-in-github",
        "colab_type": "text"
      },
      "source": [
        "<a href=\"https://colab.research.google.com/github/nbchan/INMR96-Digital-Health-and-Data-Analytics/blob/main/Week_11_Unsupervised_Learning_Examples.ipynb\" target=\"_parent\"><img src=\"https://colab.research.google.com/assets/colab-badge.svg\" alt=\"Open In Colab\"/></a>"
      ]
    },
    {
      "cell_type": "markdown",
      "metadata": {
        "id": "-86xZuz3csN0"
      },
      "source": [
        "# Setup"
      ]
    },
    {
      "cell_type": "markdown",
      "metadata": {
        "id": "9T10Bn8xcwAd"
      },
      "source": [
        "**Packages for data handling and visualization**"
      ]
    },
    {
      "cell_type": "code",
      "metadata": {
        "id": "2tnsqsv2WtP3"
      },
      "source": [
        "import pandas as pd\n",
        "import numpy as np\n",
        "\n",
        "import seaborn as sns \n",
        "import matplotlib.pyplot as plt\n",
        "%matplotlib inline"
      ],
      "execution_count": 1,
      "outputs": []
    },
    {
      "cell_type": "markdown",
      "metadata": {
        "id": "3iam6aHaczmR"
      },
      "source": [
        "**Packages for data analysis and modelling**"
      ]
    },
    {
      "cell_type": "code",
      "metadata": {
        "id": "U1nbru_gc4u1"
      },
      "source": [
        "from sklearn.decomposition import PCA\n",
        "from sklearn.cluster import KMeans"
      ],
      "execution_count": 2,
      "outputs": []
    },
    {
      "cell_type": "markdown",
      "metadata": {
        "id": "XeGujmaZdEGE"
      },
      "source": [
        "**Authenication for Google Drive access**\n",
        "\n",
        "If you saved the intermediate dataset in your Google Drive by following all the steps in Week 5 notebook, grant Colab access to your Google Drive and import it to the current notebook. You would need to authenicate yourself. \n",
        "\n",
        "Alternatively, when you are working on your own analysis, you may also put everything (i.e. codes for extracting data from BigQuery; exploring data; preparing and cleaning data; building models) in a single notebook. In that case you do not need to import the dataset from your Google Drive - simply continue with the cleaned dataset in your existing notebook environment. \n"
      ]
    },
    {
      "cell_type": "code",
      "metadata": {
        "colab": {
          "base_uri": "https://localhost:8080/"
        },
        "id": "d4xDluqNdFDR",
        "outputId": "d6bb16c1-b4bb-4a51-8ce4-44f689404229"
      },
      "source": [
        "from google.colab import drive \n",
        "drive.mount('/content/gdrive', force_remount = True)\n",
        "\n",
        "gdrive_rootpath = '/content/gdrive/MyDrive/'"
      ],
      "execution_count": 3,
      "outputs": [
        {
          "output_type": "stream",
          "text": [
            "Mounted at /content/gdrive\n"
          ],
          "name": "stdout"
        }
      ]
    },
    {
      "cell_type": "code",
      "metadata": {
        "colab": {
          "base_uri": "https://localhost:8080/"
        },
        "id": "8Ogf_q6PdHsU",
        "outputId": "9e22ba72-0a33-428a-e06b-5666499c5d69"
      },
      "source": [
        "df = pd.read_csv(gdrive_rootpath + 'mimic_in_hosp_death_clean.csv')"
      ],
      "execution_count": 4,
      "outputs": [
        {
          "output_type": "stream",
          "text": [
            "/usr/local/lib/python3.7/dist-packages/IPython/core/interactiveshell.py:2718: DtypeWarning: Columns (5) have mixed types.Specify dtype option on import or set low_memory=False.\n",
            "  interactivity=interactivity, compiler=compiler, result=result)\n"
          ],
          "name": "stderr"
        }
      ]
    },
    {
      "cell_type": "code",
      "metadata": {
        "colab": {
          "base_uri": "https://localhost:8080/"
        },
        "id": "tIcQul3edP2v",
        "outputId": "b34a0452-2890-49f3-b65b-57323ae253ff"
      },
      "source": [
        "df.info()"
      ],
      "execution_count": 5,
      "outputs": [
        {
          "output_type": "stream",
          "text": [
            "<class 'pandas.core.frame.DataFrame'>\n",
            "RangeIndex: 58976 entries, 0 to 58975\n",
            "Data columns (total 64 columns):\n",
            " #   Column                            Non-Null Count  Dtype  \n",
            "---  ------                            --------------  -----  \n",
            " 0   SUBJECT_ID                        58976 non-null  int64  \n",
            " 1   HADM_ID                           58976 non-null  int64  \n",
            " 2   ADMISSION_TYPE                    58976 non-null  object \n",
            " 3   ADMITTIME                         58976 non-null  object \n",
            " 4   DISCHTIME                         58976 non-null  object \n",
            " 5   DEATHTIME                         5854 non-null   object \n",
            " 6   IN_HOSP_DEATH                     58976 non-null  int64  \n",
            " 7   DIAGNOSIS                         58951 non-null  object \n",
            " 8   MARITAL_STATUS                    58976 non-null  object \n",
            " 9   INSURANCE                         58976 non-null  object \n",
            " 10  LANGUAGE                          58976 non-null  object \n",
            " 11  RELIGION                          58976 non-null  object \n",
            " 12  ETHNICITY                         58976 non-null  object \n",
            " 13  GENDER                            58976 non-null  object \n",
            " 14  DOB                               58976 non-null  object \n",
            " 15  LOS_ICU                           58976 non-null  float64\n",
            " 16  CALLOUT_COUNT                     58976 non-null  float64\n",
            " 17  DIAG_COUNT                        58976 non-null  int64  \n",
            " 18  PRES_COUNT                        58976 non-null  float64\n",
            " 19  PROC_COUNT                        58976 non-null  float64\n",
            " 20  CPT_COUNT                         58976 non-null  float64\n",
            " 21  LAB_COUNT                         58976 non-null  float64\n",
            " 22  INPUTS_CV_COUNT                   58976 non-null  float64\n",
            " 23  INPUTS_MV_COUNT                   58976 non-null  float64\n",
            " 24  OUTPUT_COUNT                      58976 non-null  float64\n",
            " 25  TRANSFER_COUNT                    58976 non-null  int64  \n",
            " 26  MICRO_COUNT                       58976 non-null  float64\n",
            " 27  AGE                               58976 non-null  int64  \n",
            " 28  LOS                               58976 non-null  float64\n",
            " 29  CALLOUT_COUNT_DAY                 58976 non-null  float64\n",
            " 30  PRES_COUNT_DAY                    58976 non-null  float64\n",
            " 31  PROC_COUNT_DAY                    58976 non-null  float64\n",
            " 32  CPT_COUNT_DAY                     58976 non-null  float64\n",
            " 33  LAB_COUNT_DAY                     58976 non-null  float64\n",
            " 34  INPUTS_CV_COUNT_DAY               58976 non-null  float64\n",
            " 35  INPUTS_MV_COUNT_DAY               58976 non-null  float64\n",
            " 36  OUTPUT_COUNT_DAY                  58976 non-null  float64\n",
            " 37  TRANSFER_COUNT_DAY                58976 non-null  float64\n",
            " 38  MICRO_COUNT_DAY                   58976 non-null  float64\n",
            " 39  ADMISSION_TYPE_ELECTIVE           58976 non-null  int64  \n",
            " 40  ADMISSION_TYPE_EMERGENCY          58976 non-null  int64  \n",
            " 41  ADMISSION_TYPE_NEWBORN            58976 non-null  int64  \n",
            " 42  ADMISSION_TYPE_URGENT             58976 non-null  int64  \n",
            " 43  GENDER_F                          58976 non-null  int64  \n",
            " 44  RELIGION_CATHOLIC                 58976 non-null  int64  \n",
            " 45  RELIGION_NOT SPECIFIED            58976 non-null  int64  \n",
            " 46  RELIGION_UNOBTAINABLE             58976 non-null  int64  \n",
            " 47  RELIGION_OTHERS                   58976 non-null  int64  \n",
            " 48  INSURANCE_Medicare                58976 non-null  int64  \n",
            " 49  INSURANCE_Private                 58976 non-null  int64  \n",
            " 50  INSURANCE_Medicaid                58976 non-null  int64  \n",
            " 51  INSURANCE_OTHERS                  58976 non-null  int64  \n",
            " 52  MARITAL_STATUS_MARRIED            58976 non-null  int64  \n",
            " 53  MARITAL_STATUS_SINGLE             58976 non-null  int64  \n",
            " 54  MARITAL_STATUS_UNKNOWN (DEFAULT)  58976 non-null  int64  \n",
            " 55  MARITAL_STATUS_OTHERS             58976 non-null  int64  \n",
            " 56  LANGUAGE_ENGL                     58976 non-null  int64  \n",
            " 57  LANGUAGE_SPAN                     58976 non-null  int64  \n",
            " 58  LANGUAGE_RUSS                     58976 non-null  int64  \n",
            " 59  LANGUAGE_OTHERS                   58976 non-null  int64  \n",
            " 60  ETHNICITY_WHITE                   58976 non-null  int64  \n",
            " 61  ETHNICITY_BLACK/AFRICAN AMERICAN  58976 non-null  int64  \n",
            " 62  ETHNICITY_UNKNOWN/NOT SPECIFIED   58976 non-null  int64  \n",
            " 63  ETHNICITY_OTHERS                  58976 non-null  int64  \n",
            "dtypes: float64(21), int64(31), object(12)\n",
            "memory usage: 28.8+ MB\n"
          ],
          "name": "stdout"
        }
      ]
    },
    {
      "cell_type": "markdown",
      "metadata": {
        "id": "j6XePz5BdVZ-"
      },
      "source": [
        "# Principal Component Analysis (PCA)"
      ]
    },
    {
      "cell_type": "markdown",
      "metadata": {
        "id": "64u5NG0XBzy0"
      },
      "source": [
        "![](https://blog.bioturing.com/wp-content/uploads/2018/11/Blog_pca_6b.png)\n",
        "\n",
        "([Source](https://blog.bioturing.com/2018/06/14/principal-component-analysis-explained-simply/))\n",
        "\n",
        "Here, we attempt to reduce the dimensions of the dataset by PCA. By evaluating the extracted principal components (PC), we can also know which variables contain the most unique information and which variables are redundant."
      ]
    },
    {
      "cell_type": "code",
      "metadata": {
        "colab": {
          "base_uri": "https://localhost:8080/"
        },
        "id": "JByEDq4edioj",
        "outputId": "1d386e83-89cf-4b56-fe10-03bb4cc39d54"
      },
      "source": [
        "features_list = ['GENDER_F', 'AGE', 'LOS', 'LOS_ICU', \n",
        "                 'CALLOUT_COUNT_DAY', 'PRES_COUNT_DAY', 'PROC_COUNT_DAY',\n",
        "                 'CPT_COUNT_DAY', 'LAB_COUNT_DAY', 'INPUTS_CV_COUNT_DAY',\n",
        "                 'INPUTS_MV_COUNT_DAY', 'OUTPUT_COUNT_DAY', 'TRANSFER_COUNT_DAY',\n",
        "                 'MICRO_COUNT_DAY', \n",
        "                 'ADMISSION_TYPE_ELECTIVE', 'ADMISSION_TYPE_EMERGENCY', 'ADMISSION_TYPE_NEWBORN', 'ADMISSION_TYPE_URGENT', \n",
        "                 'RELIGION_CATHOLIC', 'RELIGION_NOT SPECIFIED', 'RELIGION_UNOBTAINABLE', 'RELIGION_OTHERS', \n",
        "                 'INSURANCE_Medicare', 'INSURANCE_Private', 'INSURANCE_Medicaid', 'INSURANCE_OTHERS',\n",
        "                 'MARITAL_STATUS_MARRIED', 'MARITAL_STATUS_SINGLE', 'MARITAL_STATUS_UNKNOWN (DEFAULT)', 'MARITAL_STATUS_OTHERS',\n",
        "                 'LANGUAGE_ENGL', 'LANGUAGE_SPAN', 'LANGUAGE_RUSS', 'LANGUAGE_OTHERS',\n",
        "                 'ETHNICITY_WHITE', 'ETHNICITY_BLACK/AFRICAN AMERICAN', 'ETHNICITY_UNKNOWN/NOT SPECIFIED', 'ETHNICITY_OTHERS']\n",
        "\n",
        "len(features_list)"
      ],
      "execution_count": 6,
      "outputs": [
        {
          "output_type": "execute_result",
          "data": {
            "text/plain": [
              "38"
            ]
          },
          "metadata": {
            "tags": []
          },
          "execution_count": 6
        }
      ]
    },
    {
      "cell_type": "code",
      "metadata": {
        "id": "idJ6LjJrdsfX"
      },
      "source": [
        "X = df[features_list]\n",
        "\n",
        "# note that we do not define y as we do not have a prediction target in PCA or unsupervised learning"
      ],
      "execution_count": 7,
      "outputs": []
    },
    {
      "cell_type": "markdown",
      "metadata": {
        "id": "4MkquXhjD5lu"
      },
      "source": [
        "We can use the function `PCA()` from Scikit-learn to perform PCA. Similar to other Scikit-learn models, we first define a model, then train it using `.fit()`. Here, we specify that we want to retain 5 PCs."
      ]
    },
    {
      "cell_type": "code",
      "metadata": {
        "colab": {
          "base_uri": "https://localhost:8080/"
        },
        "id": "tpwiJ-GfddIY",
        "outputId": "e9e8db37-056e-463a-fbe1-c91ef7a6f063"
      },
      "source": [
        "# 1. Specify a model to be trained\n",
        "model_pca = PCA(n_components = 5)\n",
        "\n",
        "# 2. Train the model\n",
        "model_pca.fit(X)"
      ],
      "execution_count": 8,
      "outputs": [
        {
          "output_type": "execute_result",
          "data": {
            "text/plain": [
              "PCA(copy=True, iterated_power='auto', n_components=5, random_state=None,\n",
              "    svd_solver='auto', tol=0.0, whiten=False)"
            ]
          },
          "metadata": {
            "tags": []
          },
          "execution_count": 8
        }
      ]
    },
    {
      "cell_type": "markdown",
      "metadata": {
        "id": "gj1JqQM1EPJS"
      },
      "source": [
        "After training the model, we should first use `.explained_variance_ratio_` to check how much variance from the original features is retained by the PCs. In this case, we add them up and we can see that 98.3% of the variance is retained from the first 5 PCs. If this number is too low, you could increase the number of PCs through the input `n_components` then retrain your model. "
      ]
    },
    {
      "cell_type": "code",
      "metadata": {
        "colab": {
          "base_uri": "https://localhost:8080/"
        },
        "id": "yR6xeOTceA2C",
        "outputId": "bff46e73-1033-4689-9f7d-108b96a3b7a1"
      },
      "source": [
        "model_pca.explained_variance_ratio_"
      ],
      "execution_count": 9,
      "outputs": [
        {
          "output_type": "execute_result",
          "data": {
            "text/plain": [
              "array([0.55355616, 0.22882647, 0.11327665, 0.05880889, 0.02851439])"
            ]
          },
          "metadata": {
            "tags": []
          },
          "execution_count": 9
        }
      ]
    },
    {
      "cell_type": "code",
      "metadata": {
        "colab": {
          "base_uri": "https://localhost:8080/"
        },
        "id": "LMBI_DJggOZk",
        "outputId": "50df9373-934a-423f-93f4-b984a7cd0506"
      },
      "source": [
        "sum(model_pca.explained_variance_ratio_)"
      ],
      "execution_count": 10,
      "outputs": [
        {
          "output_type": "execute_result",
          "data": {
            "text/plain": [
              "0.9829825558945441"
            ]
          },
          "metadata": {
            "tags": []
          },
          "execution_count": 10
        }
      ]
    },
    {
      "cell_type": "markdown",
      "metadata": {
        "id": "KY1_vwiKFWb9"
      },
      "source": [
        "To understand what information is captured from each PC, we can evaluate their respective item loadings. In the code below, we first apply the formula for computing item loadings, then convert the results to a DataFrame for easier use later. "
      ]
    },
    {
      "cell_type": "code",
      "metadata": {
        "colab": {
          "base_uri": "https://localhost:8080/",
          "height": 1000
        },
        "id": "YNT8rLekeey3",
        "outputId": "02a679f4-b7fb-4c23-95af-c9b36655057d"
      },
      "source": [
        "df_pca_loadings = pd.DataFrame(model_pca.components_.T * np.sqrt(model_pca.explained_variance_) / np.std(X).values.reshape((len(features_list), 1)), \n",
        "                               index = features_list,  \n",
        "                               columns = ['PC' + str(i + 1) for i in range(model_pca.n_components_)]\n",
        "                               )\n",
        "\n",
        "df_pca_loadings"
      ],
      "execution_count": 11,
      "outputs": [
        {
          "output_type": "execute_result",
          "data": {
            "text/html": [
              "<div>\n",
              "<style scoped>\n",
              "    .dataframe tbody tr th:only-of-type {\n",
              "        vertical-align: middle;\n",
              "    }\n",
              "\n",
              "    .dataframe tbody tr th {\n",
              "        vertical-align: top;\n",
              "    }\n",
              "\n",
              "    .dataframe thead th {\n",
              "        text-align: right;\n",
              "    }\n",
              "</style>\n",
              "<table border=\"1\" class=\"dataframe\">\n",
              "  <thead>\n",
              "    <tr style=\"text-align: right;\">\n",
              "      <th></th>\n",
              "      <th>PC1</th>\n",
              "      <th>PC2</th>\n",
              "      <th>PC3</th>\n",
              "      <th>PC4</th>\n",
              "      <th>PC5</th>\n",
              "    </tr>\n",
              "  </thead>\n",
              "  <tbody>\n",
              "    <tr>\n",
              "      <th>GENDER_F</th>\n",
              "      <td>-0.025357</td>\n",
              "      <td>0.023450</td>\n",
              "      <td>-0.038113</td>\n",
              "      <td>-0.004447</td>\n",
              "      <td>-0.025660</td>\n",
              "    </tr>\n",
              "    <tr>\n",
              "      <th>AGE</th>\n",
              "      <td>0.222402</td>\n",
              "      <td>0.851907</td>\n",
              "      <td>-0.473275</td>\n",
              "      <td>0.024351</td>\n",
              "      <td>0.010205</td>\n",
              "    </tr>\n",
              "    <tr>\n",
              "      <th>LOS</th>\n",
              "      <td>0.111916</td>\n",
              "      <td>-0.191103</td>\n",
              "      <td>-0.160873</td>\n",
              "      <td>0.904682</td>\n",
              "      <td>-0.252708</td>\n",
              "    </tr>\n",
              "    <tr>\n",
              "      <th>LOS_ICU</th>\n",
              "      <td>0.207704</td>\n",
              "      <td>-0.284876</td>\n",
              "      <td>-0.049304</td>\n",
              "      <td>0.857235</td>\n",
              "      <td>-0.100492</td>\n",
              "    </tr>\n",
              "    <tr>\n",
              "      <th>CALLOUT_COUNT_DAY</th>\n",
              "      <td>-0.131883</td>\n",
              "      <td>0.274067</td>\n",
              "      <td>0.017314</td>\n",
              "      <td>-0.132726</td>\n",
              "      <td>0.004162</td>\n",
              "    </tr>\n",
              "    <tr>\n",
              "      <th>PRES_COUNT_DAY</th>\n",
              "      <td>0.296749</td>\n",
              "      <td>0.544390</td>\n",
              "      <td>0.340249</td>\n",
              "      <td>-0.023534</td>\n",
              "      <td>0.201557</td>\n",
              "    </tr>\n",
              "    <tr>\n",
              "      <th>PROC_COUNT_DAY</th>\n",
              "      <td>0.275845</td>\n",
              "      <td>0.176669</td>\n",
              "      <td>0.284953</td>\n",
              "      <td>-0.145025</td>\n",
              "      <td>0.018990</td>\n",
              "    </tr>\n",
              "    <tr>\n",
              "      <th>CPT_COUNT_DAY</th>\n",
              "      <td>0.190016</td>\n",
              "      <td>0.473681</td>\n",
              "      <td>0.266124</td>\n",
              "      <td>0.164756</td>\n",
              "      <td>0.179857</td>\n",
              "    </tr>\n",
              "    <tr>\n",
              "      <th>LAB_COUNT_DAY</th>\n",
              "      <td>0.662923</td>\n",
              "      <td>0.518977</td>\n",
              "      <td>0.519200</td>\n",
              "      <td>-0.003799</td>\n",
              "      <td>-0.146008</td>\n",
              "    </tr>\n",
              "    <tr>\n",
              "      <th>INPUTS_CV_COUNT_DAY</th>\n",
              "      <td>0.969787</td>\n",
              "      <td>-0.218506</td>\n",
              "      <td>-0.097614</td>\n",
              "      <td>-0.018949</td>\n",
              "      <td>0.042575</td>\n",
              "    </tr>\n",
              "    <tr>\n",
              "      <th>INPUTS_MV_COUNT_DAY</th>\n",
              "      <td>-0.084286</td>\n",
              "      <td>0.428549</td>\n",
              "      <td>0.498529</td>\n",
              "      <td>0.370659</td>\n",
              "      <td>0.643378</td>\n",
              "    </tr>\n",
              "    <tr>\n",
              "      <th>OUTPUT_COUNT_DAY</th>\n",
              "      <td>0.593378</td>\n",
              "      <td>0.259950</td>\n",
              "      <td>0.080154</td>\n",
              "      <td>0.197017</td>\n",
              "      <td>0.335272</td>\n",
              "    </tr>\n",
              "    <tr>\n",
              "      <th>TRANSFER_COUNT_DAY</th>\n",
              "      <td>-0.100899</td>\n",
              "      <td>0.023807</td>\n",
              "      <td>0.324124</td>\n",
              "      <td>-0.445099</td>\n",
              "      <td>-0.060362</td>\n",
              "    </tr>\n",
              "    <tr>\n",
              "      <th>MICRO_COUNT_DAY</th>\n",
              "      <td>0.201291</td>\n",
              "      <td>0.194952</td>\n",
              "      <td>0.149862</td>\n",
              "      <td>0.046072</td>\n",
              "      <td>-0.013256</td>\n",
              "    </tr>\n",
              "    <tr>\n",
              "      <th>ADMISSION_TYPE_ELECTIVE</th>\n",
              "      <td>-0.005041</td>\n",
              "      <td>0.072946</td>\n",
              "      <td>-0.128810</td>\n",
              "      <td>-0.032609</td>\n",
              "      <td>0.103295</td>\n",
              "    </tr>\n",
              "    <tr>\n",
              "      <th>ADMISSION_TYPE_EMERGENCY</th>\n",
              "      <td>0.165888</td>\n",
              "      <td>0.500214</td>\n",
              "      <td>-0.060231</td>\n",
              "      <td>0.024921</td>\n",
              "      <td>-0.085879</td>\n",
              "    </tr>\n",
              "    <tr>\n",
              "      <th>ADMISSION_TYPE_NEWBORN</th>\n",
              "      <td>-0.239983</td>\n",
              "      <td>-0.741343</td>\n",
              "      <td>0.228574</td>\n",
              "      <td>-0.003541</td>\n",
              "      <td>0.021988</td>\n",
              "    </tr>\n",
              "    <tr>\n",
              "      <th>ADMISSION_TYPE_URGENT</th>\n",
              "      <td>0.055528</td>\n",
              "      <td>0.008223</td>\n",
              "      <td>-0.047373</td>\n",
              "      <td>0.006217</td>\n",
              "      <td>-0.023213</td>\n",
              "    </tr>\n",
              "    <tr>\n",
              "      <th>RELIGION_CATHOLIC</th>\n",
              "      <td>0.014852</td>\n",
              "      <td>0.050603</td>\n",
              "      <td>-0.048108</td>\n",
              "      <td>0.016467</td>\n",
              "      <td>0.011996</td>\n",
              "    </tr>\n",
              "    <tr>\n",
              "      <th>RELIGION_NOT SPECIFIED</th>\n",
              "      <td>-0.050938</td>\n",
              "      <td>-0.011995</td>\n",
              "      <td>0.085492</td>\n",
              "      <td>-0.011312</td>\n",
              "      <td>0.029916</td>\n",
              "    </tr>\n",
              "    <tr>\n",
              "      <th>RELIGION_UNOBTAINABLE</th>\n",
              "      <td>0.030115</td>\n",
              "      <td>-0.196427</td>\n",
              "      <td>0.101911</td>\n",
              "      <td>-0.006370</td>\n",
              "      <td>-0.003192</td>\n",
              "    </tr>\n",
              "    <tr>\n",
              "      <th>RELIGION_OTHERS</th>\n",
              "      <td>0.006748</td>\n",
              "      <td>0.106447</td>\n",
              "      <td>-0.102430</td>\n",
              "      <td>-0.002297</td>\n",
              "      <td>-0.036400</td>\n",
              "    </tr>\n",
              "    <tr>\n",
              "      <th>INSURANCE_Medicare</th>\n",
              "      <td>0.120477</td>\n",
              "      <td>0.532009</td>\n",
              "      <td>-0.368543</td>\n",
              "      <td>0.027920</td>\n",
              "      <td>0.002616</td>\n",
              "    </tr>\n",
              "    <tr>\n",
              "      <th>INSURANCE_Private</th>\n",
              "      <td>-0.088994</td>\n",
              "      <td>-0.418850</td>\n",
              "      <td>0.241904</td>\n",
              "      <td>-0.031975</td>\n",
              "      <td>0.015836</td>\n",
              "    </tr>\n",
              "    <tr>\n",
              "      <th>INSURANCE_Medicaid</th>\n",
              "      <td>-0.049510</td>\n",
              "      <td>-0.149371</td>\n",
              "      <td>0.138870</td>\n",
              "      <td>0.022753</td>\n",
              "      <td>-0.020174</td>\n",
              "    </tr>\n",
              "    <tr>\n",
              "      <th>INSURANCE_OTHERS</th>\n",
              "      <td>-0.011131</td>\n",
              "      <td>-0.089829</td>\n",
              "      <td>0.127728</td>\n",
              "      <td>-0.026208</td>\n",
              "      <td>-0.015223</td>\n",
              "    </tr>\n",
              "    <tr>\n",
              "      <th>MARITAL_STATUS_MARRIED</th>\n",
              "      <td>0.095335</td>\n",
              "      <td>0.266977</td>\n",
              "      <td>-0.152490</td>\n",
              "      <td>0.002917</td>\n",
              "      <td>0.023945</td>\n",
              "    </tr>\n",
              "    <tr>\n",
              "      <th>MARITAL_STATUS_SINGLE</th>\n",
              "      <td>-0.014232</td>\n",
              "      <td>0.002849</td>\n",
              "      <td>0.144209</td>\n",
              "      <td>-0.005453</td>\n",
              "      <td>-0.025792</td>\n",
              "    </tr>\n",
              "    <tr>\n",
              "      <th>MARITAL_STATUS_UNKNOWN (DEFAULT)</th>\n",
              "      <td>-0.155197</td>\n",
              "      <td>-0.615034</td>\n",
              "      <td>0.223895</td>\n",
              "      <td>-0.000011</td>\n",
              "      <td>0.017559</td>\n",
              "    </tr>\n",
              "    <tr>\n",
              "      <th>MARITAL_STATUS_OTHERS</th>\n",
              "      <td>0.047078</td>\n",
              "      <td>0.263038</td>\n",
              "      <td>-0.181518</td>\n",
              "      <td>0.002169</td>\n",
              "      <td>-0.019827</td>\n",
              "    </tr>\n",
              "    <tr>\n",
              "      <th>LANGUAGE_ENGL</th>\n",
              "      <td>-0.012597</td>\n",
              "      <td>-0.091030</td>\n",
              "      <td>0.045732</td>\n",
              "      <td>-0.024017</td>\n",
              "      <td>0.006278</td>\n",
              "    </tr>\n",
              "    <tr>\n",
              "      <th>LANGUAGE_SPAN</th>\n",
              "      <td>0.000216</td>\n",
              "      <td>0.024222</td>\n",
              "      <td>0.008655</td>\n",
              "      <td>0.006286</td>\n",
              "      <td>-0.001560</td>\n",
              "    </tr>\n",
              "    <tr>\n",
              "      <th>LANGUAGE_RUSS</th>\n",
              "      <td>0.004138</td>\n",
              "      <td>0.085208</td>\n",
              "      <td>-0.061860</td>\n",
              "      <td>-0.003062</td>\n",
              "      <td>-0.007470</td>\n",
              "    </tr>\n",
              "    <tr>\n",
              "      <th>LANGUAGE_OTHERS</th>\n",
              "      <td>0.013716</td>\n",
              "      <td>0.054023</td>\n",
              "      <td>-0.030045</td>\n",
              "      <td>0.028406</td>\n",
              "      <td>-0.002918</td>\n",
              "    </tr>\n",
              "    <tr>\n",
              "      <th>ETHNICITY_WHITE</th>\n",
              "      <td>-0.004036</td>\n",
              "      <td>0.107461</td>\n",
              "      <td>-0.082001</td>\n",
              "      <td>0.005293</td>\n",
              "      <td>0.002015</td>\n",
              "    </tr>\n",
              "    <tr>\n",
              "      <th>ETHNICITY_BLACK/AFRICAN AMERICAN</th>\n",
              "      <td>-0.035588</td>\n",
              "      <td>-0.042605</td>\n",
              "      <td>0.052134</td>\n",
              "      <td>-0.002186</td>\n",
              "      <td>-0.045794</td>\n",
              "    </tr>\n",
              "    <tr>\n",
              "      <th>ETHNICITY_UNKNOWN/NOT SPECIFIED</th>\n",
              "      <td>0.137821</td>\n",
              "      <td>-0.025865</td>\n",
              "      <td>-0.045546</td>\n",
              "      <td>-0.014711</td>\n",
              "      <td>-0.003775</td>\n",
              "    </tr>\n",
              "    <tr>\n",
              "      <th>ETHNICITY_OTHERS</th>\n",
              "      <td>-0.071540</td>\n",
              "      <td>-0.088289</td>\n",
              "      <td>0.101492</td>\n",
              "      <td>0.006157</td>\n",
              "      <td>0.038889</td>\n",
              "    </tr>\n",
              "  </tbody>\n",
              "</table>\n",
              "</div>"
            ],
            "text/plain": [
              "                                       PC1       PC2  ...       PC4       PC5\n",
              "GENDER_F                         -0.025357  0.023450  ... -0.004447 -0.025660\n",
              "AGE                               0.222402  0.851907  ...  0.024351  0.010205\n",
              "LOS                               0.111916 -0.191103  ...  0.904682 -0.252708\n",
              "LOS_ICU                           0.207704 -0.284876  ...  0.857235 -0.100492\n",
              "CALLOUT_COUNT_DAY                -0.131883  0.274067  ... -0.132726  0.004162\n",
              "PRES_COUNT_DAY                    0.296749  0.544390  ... -0.023534  0.201557\n",
              "PROC_COUNT_DAY                    0.275845  0.176669  ... -0.145025  0.018990\n",
              "CPT_COUNT_DAY                     0.190016  0.473681  ...  0.164756  0.179857\n",
              "LAB_COUNT_DAY                     0.662923  0.518977  ... -0.003799 -0.146008\n",
              "INPUTS_CV_COUNT_DAY               0.969787 -0.218506  ... -0.018949  0.042575\n",
              "INPUTS_MV_COUNT_DAY              -0.084286  0.428549  ...  0.370659  0.643378\n",
              "OUTPUT_COUNT_DAY                  0.593378  0.259950  ...  0.197017  0.335272\n",
              "TRANSFER_COUNT_DAY               -0.100899  0.023807  ... -0.445099 -0.060362\n",
              "MICRO_COUNT_DAY                   0.201291  0.194952  ...  0.046072 -0.013256\n",
              "ADMISSION_TYPE_ELECTIVE          -0.005041  0.072946  ... -0.032609  0.103295\n",
              "ADMISSION_TYPE_EMERGENCY          0.165888  0.500214  ...  0.024921 -0.085879\n",
              "ADMISSION_TYPE_NEWBORN           -0.239983 -0.741343  ... -0.003541  0.021988\n",
              "ADMISSION_TYPE_URGENT             0.055528  0.008223  ...  0.006217 -0.023213\n",
              "RELIGION_CATHOLIC                 0.014852  0.050603  ...  0.016467  0.011996\n",
              "RELIGION_NOT SPECIFIED           -0.050938 -0.011995  ... -0.011312  0.029916\n",
              "RELIGION_UNOBTAINABLE             0.030115 -0.196427  ... -0.006370 -0.003192\n",
              "RELIGION_OTHERS                   0.006748  0.106447  ... -0.002297 -0.036400\n",
              "INSURANCE_Medicare                0.120477  0.532009  ...  0.027920  0.002616\n",
              "INSURANCE_Private                -0.088994 -0.418850  ... -0.031975  0.015836\n",
              "INSURANCE_Medicaid               -0.049510 -0.149371  ...  0.022753 -0.020174\n",
              "INSURANCE_OTHERS                 -0.011131 -0.089829  ... -0.026208 -0.015223\n",
              "MARITAL_STATUS_MARRIED            0.095335  0.266977  ...  0.002917  0.023945\n",
              "MARITAL_STATUS_SINGLE            -0.014232  0.002849  ... -0.005453 -0.025792\n",
              "MARITAL_STATUS_UNKNOWN (DEFAULT) -0.155197 -0.615034  ... -0.000011  0.017559\n",
              "MARITAL_STATUS_OTHERS             0.047078  0.263038  ...  0.002169 -0.019827\n",
              "LANGUAGE_ENGL                    -0.012597 -0.091030  ... -0.024017  0.006278\n",
              "LANGUAGE_SPAN                     0.000216  0.024222  ...  0.006286 -0.001560\n",
              "LANGUAGE_RUSS                     0.004138  0.085208  ... -0.003062 -0.007470\n",
              "LANGUAGE_OTHERS                   0.013716  0.054023  ...  0.028406 -0.002918\n",
              "ETHNICITY_WHITE                  -0.004036  0.107461  ...  0.005293  0.002015\n",
              "ETHNICITY_BLACK/AFRICAN AMERICAN -0.035588 -0.042605  ... -0.002186 -0.045794\n",
              "ETHNICITY_UNKNOWN/NOT SPECIFIED   0.137821 -0.025865  ... -0.014711 -0.003775\n",
              "ETHNICITY_OTHERS                 -0.071540 -0.088289  ...  0.006157  0.038889\n",
              "\n",
              "[38 rows x 5 columns]"
            ]
          },
          "metadata": {
            "tags": []
          },
          "execution_count": 11
        }
      ]
    },
    {
      "cell_type": "markdown",
      "metadata": {
        "id": "Mp84MzzYIYpy"
      },
      "source": [
        "For each PC, we then extract the 5-most important features, as defined as the ones with the greatest loading in magnitude. "
      ]
    },
    {
      "cell_type": "code",
      "metadata": {
        "colab": {
          "base_uri": "https://localhost:8080/"
        },
        "id": "IoLIvUh4g-El",
        "outputId": "bf6a32fc-1fd5-4efc-b139-371f81fc3437"
      },
      "source": [
        "for col_name in df_pca_loadings.columns:\n",
        "  tmp_df = df_pca_loadings[[col_name]].sort_values(by = col_name, key = lambda value: abs(value), ascending = False).head(5)\n",
        "  print(tmp_df)\n",
        "  print()"
      ],
      "execution_count": 12,
      "outputs": [
        {
          "output_type": "stream",
          "text": [
            "                          PC1\n",
            "INPUTS_CV_COUNT_DAY  0.969787\n",
            "LAB_COUNT_DAY        0.662923\n",
            "OUTPUT_COUNT_DAY     0.593378\n",
            "PRES_COUNT_DAY       0.296749\n",
            "PROC_COUNT_DAY       0.275845\n",
            "\n",
            "                                       PC2\n",
            "AGE                               0.851907\n",
            "ADMISSION_TYPE_NEWBORN           -0.741343\n",
            "MARITAL_STATUS_UNKNOWN (DEFAULT) -0.615034\n",
            "PRES_COUNT_DAY                    0.544390\n",
            "INSURANCE_Medicare                0.532009\n",
            "\n",
            "                          PC3\n",
            "LAB_COUNT_DAY        0.519200\n",
            "INPUTS_MV_COUNT_DAY  0.498529\n",
            "AGE                 -0.473275\n",
            "INSURANCE_Medicare  -0.368543\n",
            "PRES_COUNT_DAY       0.340249\n",
            "\n",
            "                          PC4\n",
            "LOS                  0.904682\n",
            "LOS_ICU              0.857235\n",
            "TRANSFER_COUNT_DAY  -0.445099\n",
            "INPUTS_MV_COUNT_DAY  0.370659\n",
            "OUTPUT_COUNT_DAY     0.197017\n",
            "\n",
            "                          PC5\n",
            "INPUTS_MV_COUNT_DAY  0.643378\n",
            "OUTPUT_COUNT_DAY     0.335272\n",
            "LOS                 -0.252708\n",
            "PRES_COUNT_DAY       0.201557\n",
            "CPT_COUNT_DAY        0.179857\n",
            "\n"
          ],
          "name": "stdout"
        }
      ]
    },
    {
      "cell_type": "markdown",
      "metadata": {
        "id": "xehL_v3IbDzZ"
      },
      "source": [
        "To summarize the semantic meaning for each PC:\n",
        "\n",
        "PC | Meaning\n",
        "---|---\n",
        "1 | Daily average input, lab and output events\n",
        "2 | Demographics (Age, Marital status), Newborn or not\n",
        "3 | Similar to PC1\n",
        "4 | Length of Stay\n",
        "5 | Similar to PC1"
      ]
    },
    {
      "cell_type": "markdown",
      "metadata": {
        "id": "EJEMgpy-koyz"
      },
      "source": [
        "# Clustering"
      ]
    },
    {
      "cell_type": "markdown",
      "metadata": {
        "id": "nM6a1faBJ4-l"
      },
      "source": [
        "Clustering refers to a technique of partitioning entities or objects (e.g. patients, diseases) with similar characteristics into distinct groups while maximizing dissimilarity between groups. In clinical datasets, the major objectives of performing clustering could be to:\n",
        "\n",
        "* Extract insights from the dataset. Understand what subgroups or phenotypes exist within the dataset. (e.g. [discovering asthma subtypes](https://pubmed.ncbi.nlm.nih.gov/18480428/))\n",
        "* Evaluate the association between extracted subgroups with other variables. (e.g. [subgroups of adult-onset diabetes and their association with outcomes](https://pubmed.ncbi.nlm.nih.gov/29503172/))\n",
        "* Use the extracted patient groups as one of the features or outcome in a subsequent prediction model. (e.g. [modelling and predicting osteoarthritis progression](https://pubmed.ncbi.nlm.nih.gov/30130590/))\n",
        "\n",
        "K-means clustering and hierachical clustering are two widely used clustering algorithms. "
      ]
    },
    {
      "cell_type": "markdown",
      "metadata": {
        "id": "H2pnuUjOlGMR"
      },
      "source": [
        "# K-means Clustering\n",
        "\n",
        "In K-means, this is achieved by iteratively update groupings and their respective centroids. \n",
        "\n",
        "[![](http://shabal.in/visuals/kmeans/random.gif)](http://shabal.in/visuals/kmeans/random.gif)\n",
        "\n",
        "([Source](http://shabal.in/visuals/kmeans/6.html))"
      ]
    },
    {
      "cell_type": "markdown",
      "metadata": {
        "id": "86NFVf45Qv_d"
      },
      "source": [
        "In our example, we will apply K-means clustering to the extracted PCs. Note that we do not apply it on the features `X` directly as K-means clustering works best when used on continuous variables instead of categorical variables. \n",
        "\n",
        "First, let's extract the value of the 5 PCs for all hsopital admissions."
      ]
    },
    {
      "cell_type": "code",
      "metadata": {
        "colab": {
          "base_uri": "https://localhost:8080/",
          "height": 402
        },
        "id": "xEodg0eRkMzp",
        "outputId": "69b1fc31-3235-4a40-c3a5-c464210de370"
      },
      "source": [
        "X_pc = model_pca.transform(X)\n",
        "X_pc = pd.DataFrame(X_pc, columns = ['PC' + str(i + 1) for i in range(model_pca.n_components_)]) # convert it to a table\n",
        "\n",
        "X_pc"
      ],
      "execution_count": 13,
      "outputs": [
        {
          "output_type": "execute_result",
          "data": {
            "text/html": [
              "<div>\n",
              "<style scoped>\n",
              "    .dataframe tbody tr th:only-of-type {\n",
              "        vertical-align: middle;\n",
              "    }\n",
              "\n",
              "    .dataframe tbody tr th {\n",
              "        vertical-align: top;\n",
              "    }\n",
              "\n",
              "    .dataframe thead th {\n",
              "        text-align: right;\n",
              "    }\n",
              "</style>\n",
              "<table border=\"1\" class=\"dataframe\">\n",
              "  <thead>\n",
              "    <tr style=\"text-align: right;\">\n",
              "      <th></th>\n",
              "      <th>PC1</th>\n",
              "      <th>PC2</th>\n",
              "      <th>PC3</th>\n",
              "      <th>PC4</th>\n",
              "      <th>PC5</th>\n",
              "    </tr>\n",
              "  </thead>\n",
              "  <tbody>\n",
              "    <tr>\n",
              "      <th>0</th>\n",
              "      <td>-19.596362</td>\n",
              "      <td>10.274110</td>\n",
              "      <td>-0.129143</td>\n",
              "      <td>-6.333733</td>\n",
              "      <td>-3.600393</td>\n",
              "    </tr>\n",
              "    <tr>\n",
              "      <th>1</th>\n",
              "      <td>-0.537506</td>\n",
              "      <td>-34.382891</td>\n",
              "      <td>15.653990</td>\n",
              "      <td>-3.945888</td>\n",
              "      <td>-3.842432</td>\n",
              "    </tr>\n",
              "    <tr>\n",
              "      <th>2</th>\n",
              "      <td>9.233575</td>\n",
              "      <td>8.916890</td>\n",
              "      <td>-11.750359</td>\n",
              "      <td>0.253808</td>\n",
              "      <td>-6.118831</td>\n",
              "    </tr>\n",
              "    <tr>\n",
              "      <th>3</th>\n",
              "      <td>-16.358409</td>\n",
              "      <td>32.028072</td>\n",
              "      <td>-20.422678</td>\n",
              "      <td>-3.486111</td>\n",
              "      <td>-2.451824</td>\n",
              "    </tr>\n",
              "    <tr>\n",
              "      <th>4</th>\n",
              "      <td>19.546284</td>\n",
              "      <td>26.382608</td>\n",
              "      <td>1.584111</td>\n",
              "      <td>-3.561140</td>\n",
              "      <td>-8.473485</td>\n",
              "    </tr>\n",
              "    <tr>\n",
              "      <th>...</th>\n",
              "      <td>...</td>\n",
              "      <td>...</td>\n",
              "      <td>...</td>\n",
              "      <td>...</td>\n",
              "      <td>...</td>\n",
              "    </tr>\n",
              "    <tr>\n",
              "      <th>58971</th>\n",
              "      <td>10.201657</td>\n",
              "      <td>3.795167</td>\n",
              "      <td>31.475975</td>\n",
              "      <td>-11.324666</td>\n",
              "      <td>-9.511399</td>\n",
              "    </tr>\n",
              "    <tr>\n",
              "      <th>58972</th>\n",
              "      <td>1.963658</td>\n",
              "      <td>31.047396</td>\n",
              "      <td>50.464309</td>\n",
              "      <td>-4.070876</td>\n",
              "      <td>-16.355135</td>\n",
              "    </tr>\n",
              "    <tr>\n",
              "      <th>58973</th>\n",
              "      <td>-23.569105</td>\n",
              "      <td>-5.833960</td>\n",
              "      <td>22.793480</td>\n",
              "      <td>-2.033509</td>\n",
              "      <td>17.849464</td>\n",
              "    </tr>\n",
              "    <tr>\n",
              "      <th>58974</th>\n",
              "      <td>-21.681307</td>\n",
              "      <td>4.068376</td>\n",
              "      <td>1.234109</td>\n",
              "      <td>-7.017070</td>\n",
              "      <td>-1.768529</td>\n",
              "    </tr>\n",
              "    <tr>\n",
              "      <th>58975</th>\n",
              "      <td>-13.287902</td>\n",
              "      <td>10.593544</td>\n",
              "      <td>32.370580</td>\n",
              "      <td>-1.378175</td>\n",
              "      <td>6.446580</td>\n",
              "    </tr>\n",
              "  </tbody>\n",
              "</table>\n",
              "<p>58976 rows × 5 columns</p>\n",
              "</div>"
            ],
            "text/plain": [
              "             PC1        PC2        PC3        PC4        PC5\n",
              "0     -19.596362  10.274110  -0.129143  -6.333733  -3.600393\n",
              "1      -0.537506 -34.382891  15.653990  -3.945888  -3.842432\n",
              "2       9.233575   8.916890 -11.750359   0.253808  -6.118831\n",
              "3     -16.358409  32.028072 -20.422678  -3.486111  -2.451824\n",
              "4      19.546284  26.382608   1.584111  -3.561140  -8.473485\n",
              "...          ...        ...        ...        ...        ...\n",
              "58971  10.201657   3.795167  31.475975 -11.324666  -9.511399\n",
              "58972   1.963658  31.047396  50.464309  -4.070876 -16.355135\n",
              "58973 -23.569105  -5.833960  22.793480  -2.033509  17.849464\n",
              "58974 -21.681307   4.068376   1.234109  -7.017070  -1.768529\n",
              "58975 -13.287902  10.593544  32.370580  -1.378175   6.446580\n",
              "\n",
              "[58976 rows x 5 columns]"
            ]
          },
          "metadata": {
            "tags": []
          },
          "execution_count": 13
        }
      ]
    },
    {
      "cell_type": "markdown",
      "metadata": {
        "id": "9O2lU2iLVJCZ"
      },
      "source": [
        "Second, we define a K-means model with 4 clusters and train it. Depending on your dataset and research question, you should experiment with different number of clusters."
      ]
    },
    {
      "cell_type": "code",
      "metadata": {
        "colab": {
          "base_uri": "https://localhost:8080/"
        },
        "id": "UX59kcORlBoX",
        "outputId": "8684f188-1df5-455b-9584-dac9f51d15f9"
      },
      "source": [
        "# 1. Specify a model to be trained\n",
        "model_kmeans_4 = KMeans(n_clusters = 4)\n",
        "\n",
        "# 2. Train the model\n",
        "model_kmeans_4.fit(X_pc)"
      ],
      "execution_count": 14,
      "outputs": [
        {
          "output_type": "execute_result",
          "data": {
            "text/plain": [
              "KMeans(algorithm='auto', copy_x=True, init='k-means++', max_iter=300,\n",
              "       n_clusters=4, n_init=10, n_jobs=None, precompute_distances='auto',\n",
              "       random_state=None, tol=0.0001, verbose=0)"
            ]
          },
          "metadata": {
            "tags": []
          },
          "execution_count": 14
        }
      ]
    },
    {
      "cell_type": "markdown",
      "metadata": {
        "id": "4Sl1V9keVdTq"
      },
      "source": [
        "Next, extract the cluster number from the model, and append it to a column called 'cluster'. Note that the generated clusters start from 0. "
      ]
    },
    {
      "cell_type": "code",
      "metadata": {
        "colab": {
          "base_uri": "https://localhost:8080/"
        },
        "id": "8t4hojTsly5s",
        "outputId": "00748650-fb89-477d-dcf0-77499ea0235f"
      },
      "source": [
        "X_pc['cluster'] = model_kmeans_4.labels_ \n",
        "X_pc['cluster'] "
      ],
      "execution_count": 15,
      "outputs": [
        {
          "output_type": "execute_result",
          "data": {
            "text/plain": [
              "0        0\n",
              "1        1\n",
              "2        0\n",
              "3        0\n",
              "4        0\n",
              "        ..\n",
              "58971    0\n",
              "58972    0\n",
              "58973    0\n",
              "58974    0\n",
              "58975    0\n",
              "Name: cluster, Length: 58976, dtype: int32"
            ]
          },
          "metadata": {
            "tags": []
          },
          "execution_count": 15
        }
      ]
    },
    {
      "cell_type": "markdown",
      "metadata": {
        "id": "ypbUEiXzVuaY"
      },
      "source": [
        "Plots can help us understand how the dataset is partitioned by the algorithm. Here is an example. Note that while we used all 5 PCs for clustering, we chose the 2-most important PCs for visualization."
      ]
    },
    {
      "cell_type": "code",
      "metadata": {
        "colab": {
          "base_uri": "https://localhost:8080/",
          "height": 623
        },
        "id": "cdYmbBn2leTk",
        "outputId": "e2e9b0ff-aa25-44ca-c737-b5adf402c0e0"
      },
      "source": [
        "plt.figure(figsize = (12, 10))\n",
        "sns.scatterplot(data = X_pc, x = 'PC1', y = 'PC2', hue = 'cluster')"
      ],
      "execution_count": 16,
      "outputs": [
        {
          "output_type": "execute_result",
          "data": {
            "text/plain": [
              "<matplotlib.axes._subplots.AxesSubplot at 0x7fdace71f0d0>"
            ]
          },
          "metadata": {
            "tags": []
          },
          "execution_count": 16
        },
        {
          "output_type": "display_data",
          "data": {
            "image/png": "[encoded data removed]",
            "text/plain": [
              "<Figure size 864x720 with 1 Axes>"
            ]
          },
          "metadata": {
            "tags": [],
            "needs_background": "light"
          }
        }
      ]
    },
    {
      "cell_type": "markdown",
      "metadata": {
        "id": "R32X1gYZWodC"
      },
      "source": [
        "Finally, to understand the characteristics of each cluster, we evaluate them by comparing the feature values of each cluster. Data exploration techniques from Week 5 can also be used here."
      ]
    },
    {
      "cell_type": "code",
      "metadata": {
        "id": "F69l8g_c_IjT"
      },
      "source": [
        "# make a DataFrame that combines all info: features, PCs and cluster\n",
        "df_clustered = pd.concat([df, X_pc], axis = 1)"
      ],
      "execution_count": 17,
      "outputs": []
    },
    {
      "cell_type": "markdown",
      "metadata": {
        "id": "BUjj-qFmX3ee"
      },
      "source": [
        "We can calculate some descriptive statistics by group/cluster. You can also apply statistical tests such as t-tests to compare whether there is a significant difference between groups. \n",
        "\n",
        "Here, we highlight some distintive features based on the top item loadings above.\n",
        "\n",
        "**Features highly associated with PC 1 and 3**"
      ]
    },
    {
      "cell_type": "code",
      "metadata": {
        "colab": {
          "base_uri": "https://localhost:8080/",
          "height": 245
        },
        "id": "9wgZrLd__gPB",
        "outputId": "1287f3c7-eed2-429c-9fe3-fd99420a39a9"
      },
      "source": [
        "df_clustered[['INPUTS_CV_COUNT_DAY', 'INPUTS_MV_COUNT_DAY', 'LAB_COUNT_DAY', 'cluster']].groupby('cluster').describe()"
      ],
      "execution_count": 18,
      "outputs": [
        {
          "output_type": "execute_result",
          "data": {
            "text/html": [
              "<div>\n",
              "<style scoped>\n",
              "    .dataframe tbody tr th:only-of-type {\n",
              "        vertical-align: middle;\n",
              "    }\n",
              "\n",
              "    .dataframe tbody tr th {\n",
              "        vertical-align: top;\n",
              "    }\n",
              "\n",
              "    .dataframe thead tr th {\n",
              "        text-align: left;\n",
              "    }\n",
              "\n",
              "    .dataframe thead tr:last-of-type th {\n",
              "        text-align: right;\n",
              "    }\n",
              "</style>\n",
              "<table border=\"1\" class=\"dataframe\">\n",
              "  <thead>\n",
              "    <tr>\n",
              "      <th></th>\n",
              "      <th colspan=\"8\" halign=\"left\">INPUTS_CV_COUNT_DAY</th>\n",
              "      <th colspan=\"8\" halign=\"left\">INPUTS_MV_COUNT_DAY</th>\n",
              "      <th colspan=\"8\" halign=\"left\">LAB_COUNT_DAY</th>\n",
              "    </tr>\n",
              "    <tr>\n",
              "      <th></th>\n",
              "      <th>count</th>\n",
              "      <th>mean</th>\n",
              "      <th>std</th>\n",
              "      <th>min</th>\n",
              "      <th>25%</th>\n",
              "      <th>50%</th>\n",
              "      <th>75%</th>\n",
              "      <th>max</th>\n",
              "      <th>count</th>\n",
              "      <th>mean</th>\n",
              "      <th>std</th>\n",
              "      <th>min</th>\n",
              "      <th>25%</th>\n",
              "      <th>50%</th>\n",
              "      <th>75%</th>\n",
              "      <th>max</th>\n",
              "      <th>count</th>\n",
              "      <th>mean</th>\n",
              "      <th>std</th>\n",
              "      <th>min</th>\n",
              "      <th>25%</th>\n",
              "      <th>50%</th>\n",
              "      <th>75%</th>\n",
              "      <th>max</th>\n",
              "    </tr>\n",
              "    <tr>\n",
              "      <th>cluster</th>\n",
              "      <th></th>\n",
              "      <th></th>\n",
              "      <th></th>\n",
              "      <th></th>\n",
              "      <th></th>\n",
              "      <th></th>\n",
              "      <th></th>\n",
              "      <th></th>\n",
              "      <th></th>\n",
              "      <th></th>\n",
              "      <th></th>\n",
              "      <th></th>\n",
              "      <th></th>\n",
              "      <th></th>\n",
              "      <th></th>\n",
              "      <th></th>\n",
              "      <th></th>\n",
              "      <th></th>\n",
              "      <th></th>\n",
              "      <th></th>\n",
              "      <th></th>\n",
              "      <th></th>\n",
              "      <th></th>\n",
              "      <th></th>\n",
              "    </tr>\n",
              "  </thead>\n",
              "  <tbody>\n",
              "    <tr>\n",
              "      <th>0</th>\n",
              "      <td>40799.0</td>\n",
              "      <td>7.990022</td>\n",
              "      <td>12.241093</td>\n",
              "      <td>0.0</td>\n",
              "      <td>0.000000</td>\n",
              "      <td>0.000000</td>\n",
              "      <td>13.123106</td>\n",
              "      <td>53.000000</td>\n",
              "      <td>40799.0</td>\n",
              "      <td>7.893783</td>\n",
              "      <td>15.229237</td>\n",
              "      <td>0.0</td>\n",
              "      <td>0.0</td>\n",
              "      <td>1.0</td>\n",
              "      <td>9.6</td>\n",
              "      <td>248.000000</td>\n",
              "      <td>40799.0</td>\n",
              "      <td>39.232082</td>\n",
              "      <td>19.224373</td>\n",
              "      <td>0.0</td>\n",
              "      <td>29.000000</td>\n",
              "      <td>36.285714</td>\n",
              "      <td>45.166667</td>\n",
              "      <td>283.0</td>\n",
              "    </tr>\n",
              "    <tr>\n",
              "      <th>1</th>\n",
              "      <td>10348.0</td>\n",
              "      <td>9.131588</td>\n",
              "      <td>13.630879</td>\n",
              "      <td>0.0</td>\n",
              "      <td>0.000000</td>\n",
              "      <td>1.000000</td>\n",
              "      <td>14.308333</td>\n",
              "      <td>87.333333</td>\n",
              "      <td>10348.0</td>\n",
              "      <td>0.841110</td>\n",
              "      <td>3.837250</td>\n",
              "      <td>0.0</td>\n",
              "      <td>0.0</td>\n",
              "      <td>0.0</td>\n",
              "      <td>0.0</td>\n",
              "      <td>61.294118</td>\n",
              "      <td>10348.0</td>\n",
              "      <td>11.858361</td>\n",
              "      <td>11.231833</td>\n",
              "      <td>0.0</td>\n",
              "      <td>4.333333</td>\n",
              "      <td>8.600000</td>\n",
              "      <td>15.000000</td>\n",
              "      <td>96.0</td>\n",
              "    </tr>\n",
              "    <tr>\n",
              "      <th>2</th>\n",
              "      <td>6844.0</td>\n",
              "      <td>83.147940</td>\n",
              "      <td>32.780167</td>\n",
              "      <td>0.0</td>\n",
              "      <td>57.000000</td>\n",
              "      <td>74.000000</td>\n",
              "      <td>103.183239</td>\n",
              "      <td>182.758621</td>\n",
              "      <td>6844.0</td>\n",
              "      <td>0.293986</td>\n",
              "      <td>6.352253</td>\n",
              "      <td>0.0</td>\n",
              "      <td>0.0</td>\n",
              "      <td>0.0</td>\n",
              "      <td>0.0</td>\n",
              "      <td>269.000000</td>\n",
              "      <td>6844.0</td>\n",
              "      <td>58.432613</td>\n",
              "      <td>28.695939</td>\n",
              "      <td>0.0</td>\n",
              "      <td>43.330000</td>\n",
              "      <td>52.200000</td>\n",
              "      <td>65.000000</td>\n",
              "      <td>482.0</td>\n",
              "    </tr>\n",
              "    <tr>\n",
              "      <th>3</th>\n",
              "      <td>985.0</td>\n",
              "      <td>249.464974</td>\n",
              "      <td>93.485875</td>\n",
              "      <td>29.0</td>\n",
              "      <td>191.037975</td>\n",
              "      <td>221.285714</td>\n",
              "      <td>284.826087</td>\n",
              "      <td>1176.000000</td>\n",
              "      <td>985.0</td>\n",
              "      <td>0.098885</td>\n",
              "      <td>2.297131</td>\n",
              "      <td>0.0</td>\n",
              "      <td>0.0</td>\n",
              "      <td>0.0</td>\n",
              "      <td>0.0</td>\n",
              "      <td>69.750000</td>\n",
              "      <td>985.0</td>\n",
              "      <td>123.741945</td>\n",
              "      <td>72.352772</td>\n",
              "      <td>36.0</td>\n",
              "      <td>72.851852</td>\n",
              "      <td>101.666667</td>\n",
              "      <td>149.750000</td>\n",
              "      <td>507.0</td>\n",
              "    </tr>\n",
              "  </tbody>\n",
              "</table>\n",
              "</div>"
            ],
            "text/plain": [
              "        INPUTS_CV_COUNT_DAY              ... LAB_COUNT_DAY       \n",
              "                      count        mean  ...           75%    max\n",
              "cluster                                  ...                     \n",
              "0                   40799.0    7.990022  ...     45.166667  283.0\n",
              "1                   10348.0    9.131588  ...     15.000000   96.0\n",
              "2                    6844.0   83.147940  ...     65.000000  482.0\n",
              "3                     985.0  249.464974  ...    149.750000  507.0\n",
              "\n",
              "[4 rows x 24 columns]"
            ]
          },
          "metadata": {
            "tags": []
          },
          "execution_count": 18
        }
      ]
    },
    {
      "cell_type": "markdown",
      "metadata": {
        "id": "Eu8Vt_ccdsal"
      },
      "source": [
        "* Cluster 3 patients had a high `INPUTS_CV_COUNT_DAY` and `\tLAB_COUNT_DAY`.\n",
        "* Cluster 0 had a low `INPUTS_CV_COUNT_DAY` and high `INPUTS_MV_COUNT_DAY`. The reverse is true for cluster 1 patients. This, in fact, is because two different clinical information systems ([CareVue and MetaVision](https://mimic.physionet.org/mimicdata/io/)) were used for different patients in MIMIC-III. "
      ]
    },
    {
      "cell_type": "markdown",
      "metadata": {
        "id": "xcQrfTIAYwkO"
      },
      "source": [
        "**Features highly associated with PC 2**"
      ]
    },
    {
      "cell_type": "code",
      "metadata": {
        "colab": {
          "base_uri": "https://localhost:8080/",
          "height": 225
        },
        "id": "w7tWxKfvTSCh",
        "outputId": "5fb6f129-6308-4fd4-a7b9-1e681c487336"
      },
      "source": [
        "df_clustered[['AGE', 'ADMISSION_TYPE_NEWBORN', 'cluster']].groupby('cluster').describe()"
      ],
      "execution_count": 19,
      "outputs": [
        {
          "output_type": "execute_result",
          "data": {
            "text/html": [
              "<div>\n",
              "<style scoped>\n",
              "    .dataframe tbody tr th:only-of-type {\n",
              "        vertical-align: middle;\n",
              "    }\n",
              "\n",
              "    .dataframe tbody tr th {\n",
              "        vertical-align: top;\n",
              "    }\n",
              "\n",
              "    .dataframe thead tr th {\n",
              "        text-align: left;\n",
              "    }\n",
              "\n",
              "    .dataframe thead tr:last-of-type th {\n",
              "        text-align: right;\n",
              "    }\n",
              "</style>\n",
              "<table border=\"1\" class=\"dataframe\">\n",
              "  <thead>\n",
              "    <tr>\n",
              "      <th></th>\n",
              "      <th colspan=\"8\" halign=\"left\">AGE</th>\n",
              "      <th colspan=\"8\" halign=\"left\">ADMISSION_TYPE_NEWBORN</th>\n",
              "    </tr>\n",
              "    <tr>\n",
              "      <th></th>\n",
              "      <th>count</th>\n",
              "      <th>mean</th>\n",
              "      <th>std</th>\n",
              "      <th>min</th>\n",
              "      <th>25%</th>\n",
              "      <th>50%</th>\n",
              "      <th>75%</th>\n",
              "      <th>max</th>\n",
              "      <th>count</th>\n",
              "      <th>mean</th>\n",
              "      <th>std</th>\n",
              "      <th>min</th>\n",
              "      <th>25%</th>\n",
              "      <th>50%</th>\n",
              "      <th>75%</th>\n",
              "      <th>max</th>\n",
              "    </tr>\n",
              "    <tr>\n",
              "      <th>cluster</th>\n",
              "      <th></th>\n",
              "      <th></th>\n",
              "      <th></th>\n",
              "      <th></th>\n",
              "      <th></th>\n",
              "      <th></th>\n",
              "      <th></th>\n",
              "      <th></th>\n",
              "      <th></th>\n",
              "      <th></th>\n",
              "      <th></th>\n",
              "      <th></th>\n",
              "      <th></th>\n",
              "      <th></th>\n",
              "      <th></th>\n",
              "      <th></th>\n",
              "    </tr>\n",
              "  </thead>\n",
              "  <tbody>\n",
              "    <tr>\n",
              "      <th>0</th>\n",
              "      <td>40799.0</td>\n",
              "      <td>65.452879</td>\n",
              "      <td>15.413619</td>\n",
              "      <td>16.0</td>\n",
              "      <td>54.0</td>\n",
              "      <td>66.0</td>\n",
              "      <td>78.0</td>\n",
              "      <td>90.0</td>\n",
              "      <td>40799.0</td>\n",
              "      <td>0.000000</td>\n",
              "      <td>0.000000</td>\n",
              "      <td>0.0</td>\n",
              "      <td>0.00</td>\n",
              "      <td>0.0</td>\n",
              "      <td>0.0</td>\n",
              "      <td>0.0</td>\n",
              "    </tr>\n",
              "    <tr>\n",
              "      <th>1</th>\n",
              "      <td>10348.0</td>\n",
              "      <td>6.117994</td>\n",
              "      <td>11.753241</td>\n",
              "      <td>0.0</td>\n",
              "      <td>0.0</td>\n",
              "      <td>0.0</td>\n",
              "      <td>0.0</td>\n",
              "      <td>49.0</td>\n",
              "      <td>10348.0</td>\n",
              "      <td>0.750000</td>\n",
              "      <td>0.433034</td>\n",
              "      <td>0.0</td>\n",
              "      <td>0.75</td>\n",
              "      <td>1.0</td>\n",
              "      <td>1.0</td>\n",
              "      <td>1.0</td>\n",
              "    </tr>\n",
              "    <tr>\n",
              "      <th>2</th>\n",
              "      <td>6844.0</td>\n",
              "      <td>62.792519</td>\n",
              "      <td>18.083175</td>\n",
              "      <td>0.0</td>\n",
              "      <td>52.0</td>\n",
              "      <td>65.0</td>\n",
              "      <td>77.0</td>\n",
              "      <td>90.0</td>\n",
              "      <td>6844.0</td>\n",
              "      <td>0.012858</td>\n",
              "      <td>0.112670</td>\n",
              "      <td>0.0</td>\n",
              "      <td>0.00</td>\n",
              "      <td>0.0</td>\n",
              "      <td>0.0</td>\n",
              "      <td>1.0</td>\n",
              "    </tr>\n",
              "    <tr>\n",
              "      <th>3</th>\n",
              "      <td>985.0</td>\n",
              "      <td>62.447716</td>\n",
              "      <td>18.583517</td>\n",
              "      <td>0.0</td>\n",
              "      <td>51.0</td>\n",
              "      <td>66.0</td>\n",
              "      <td>77.0</td>\n",
              "      <td>90.0</td>\n",
              "      <td>985.0</td>\n",
              "      <td>0.014213</td>\n",
              "      <td>0.118429</td>\n",
              "      <td>0.0</td>\n",
              "      <td>0.00</td>\n",
              "      <td>0.0</td>\n",
              "      <td>0.0</td>\n",
              "      <td>1.0</td>\n",
              "    </tr>\n",
              "  </tbody>\n",
              "</table>\n",
              "</div>"
            ],
            "text/plain": [
              "             AGE                                    ... ADMISSION_TYPE_NEWBORN                     \n",
              "           count       mean        std   min   25%  ...                    min   25%  50%  75%  max\n",
              "cluster                                             ...                                            \n",
              "0        40799.0  65.452879  15.413619  16.0  54.0  ...                    0.0  0.00  0.0  0.0  0.0\n",
              "1        10348.0   6.117994  11.753241   0.0   0.0  ...                    0.0  0.75  1.0  1.0  1.0\n",
              "2         6844.0  62.792519  18.083175   0.0  52.0  ...                    0.0  0.00  0.0  0.0  1.0\n",
              "3          985.0  62.447716  18.583517   0.0  51.0  ...                    0.0  0.00  0.0  0.0  1.0\n",
              "\n",
              "[4 rows x 16 columns]"
            ]
          },
          "metadata": {
            "tags": []
          },
          "execution_count": 19
        }
      ]
    },
    {
      "cell_type": "markdown",
      "metadata": {
        "id": "DXp6oYdNfE4n"
      },
      "source": [
        "* Cluster 2 patients had much younger and their `ADMISSION_TYPE_NEWBORN` is much more likely to be 1."
      ]
    },
    {
      "cell_type": "markdown",
      "metadata": {
        "id": "LprYOQfeZH7E"
      },
      "source": [
        "**Features highly associated with PC 4**"
      ]
    },
    {
      "cell_type": "code",
      "metadata": {
        "colab": {
          "base_uri": "https://localhost:8080/",
          "height": 245
        },
        "id": "sDPZpUNNTW7q",
        "outputId": "fc9ab117-316e-4dbc-b5e1-a20355b8c1d6"
      },
      "source": [
        "df_clustered[['LOS', 'LOS_ICU', 'cluster']].groupby('cluster').describe()"
      ],
      "execution_count": 20,
      "outputs": [
        {
          "output_type": "execute_result",
          "data": {
            "text/html": [
              "<div>\n",
              "<style scoped>\n",
              "    .dataframe tbody tr th:only-of-type {\n",
              "        vertical-align: middle;\n",
              "    }\n",
              "\n",
              "    .dataframe tbody tr th {\n",
              "        vertical-align: top;\n",
              "    }\n",
              "\n",
              "    .dataframe thead tr th {\n",
              "        text-align: left;\n",
              "    }\n",
              "\n",
              "    .dataframe thead tr:last-of-type th {\n",
              "        text-align: right;\n",
              "    }\n",
              "</style>\n",
              "<table border=\"1\" class=\"dataframe\">\n",
              "  <thead>\n",
              "    <tr>\n",
              "      <th></th>\n",
              "      <th colspan=\"8\" halign=\"left\">LOS</th>\n",
              "      <th colspan=\"8\" halign=\"left\">LOS_ICU</th>\n",
              "    </tr>\n",
              "    <tr>\n",
              "      <th></th>\n",
              "      <th>count</th>\n",
              "      <th>mean</th>\n",
              "      <th>std</th>\n",
              "      <th>min</th>\n",
              "      <th>25%</th>\n",
              "      <th>50%</th>\n",
              "      <th>75%</th>\n",
              "      <th>max</th>\n",
              "      <th>count</th>\n",
              "      <th>mean</th>\n",
              "      <th>std</th>\n",
              "      <th>min</th>\n",
              "      <th>25%</th>\n",
              "      <th>50%</th>\n",
              "      <th>75%</th>\n",
              "      <th>max</th>\n",
              "    </tr>\n",
              "    <tr>\n",
              "      <th>cluster</th>\n",
              "      <th></th>\n",
              "      <th></th>\n",
              "      <th></th>\n",
              "      <th></th>\n",
              "      <th></th>\n",
              "      <th></th>\n",
              "      <th></th>\n",
              "      <th></th>\n",
              "      <th></th>\n",
              "      <th></th>\n",
              "      <th></th>\n",
              "      <th></th>\n",
              "      <th></th>\n",
              "      <th></th>\n",
              "      <th></th>\n",
              "      <th></th>\n",
              "    </tr>\n",
              "  </thead>\n",
              "  <tbody>\n",
              "    <tr>\n",
              "      <th>0</th>\n",
              "      <td>40799.0</td>\n",
              "      <td>9.112929</td>\n",
              "      <td>9.421918</td>\n",
              "      <td>-0.945139</td>\n",
              "      <td>3.929167</td>\n",
              "      <td>6.634028</td>\n",
              "      <td>10.917361</td>\n",
              "      <td>206.425694</td>\n",
              "      <td>40799.0</td>\n",
              "      <td>3.330919</td>\n",
              "      <td>4.598575</td>\n",
              "      <td>0.0</td>\n",
              "      <td>1.128400</td>\n",
              "      <td>1.97850</td>\n",
              "      <td>3.596150</td>\n",
              "      <td>101.7390</td>\n",
              "    </tr>\n",
              "    <tr>\n",
              "      <th>1</th>\n",
              "      <td>10348.0</td>\n",
              "      <td>11.237096</td>\n",
              "      <td>18.865732</td>\n",
              "      <td>-0.677083</td>\n",
              "      <td>2.420833</td>\n",
              "      <td>4.262847</td>\n",
              "      <td>10.413368</td>\n",
              "      <td>202.762500</td>\n",
              "      <td>10348.0</td>\n",
              "      <td>8.329674</td>\n",
              "      <td>18.475939</td>\n",
              "      <td>0.0</td>\n",
              "      <td>0.171675</td>\n",
              "      <td>1.19600</td>\n",
              "      <td>6.799925</td>\n",
              "      <td>171.6227</td>\n",
              "    </tr>\n",
              "    <tr>\n",
              "      <th>2</th>\n",
              "      <td>6844.0</td>\n",
              "      <td>14.126392</td>\n",
              "      <td>14.693365</td>\n",
              "      <td>-0.438194</td>\n",
              "      <td>5.233681</td>\n",
              "      <td>9.750694</td>\n",
              "      <td>18.395660</td>\n",
              "      <td>294.660417</td>\n",
              "      <td>6844.0</td>\n",
              "      <td>9.985710</td>\n",
              "      <td>11.600775</td>\n",
              "      <td>0.0</td>\n",
              "      <td>3.046725</td>\n",
              "      <td>6.06635</td>\n",
              "      <td>12.773000</td>\n",
              "      <td>260.7089</td>\n",
              "    </tr>\n",
              "    <tr>\n",
              "      <th>3</th>\n",
              "      <td>985.0</td>\n",
              "      <td>13.093350</td>\n",
              "      <td>14.130382</td>\n",
              "      <td>-0.188194</td>\n",
              "      <td>2.247222</td>\n",
              "      <td>8.295833</td>\n",
              "      <td>20.197917</td>\n",
              "      <td>153.915972</td>\n",
              "      <td>985.0</td>\n",
              "      <td>12.312280</td>\n",
              "      <td>13.382298</td>\n",
              "      <td>0.0</td>\n",
              "      <td>2.362200</td>\n",
              "      <td>7.80330</td>\n",
              "      <td>17.815900</td>\n",
              "      <td>153.9280</td>\n",
              "    </tr>\n",
              "  </tbody>\n",
              "</table>\n",
              "</div>"
            ],
            "text/plain": [
              "             LOS                        ...  LOS_ICU                     \n",
              "           count       mean        std  ...      50%        75%       max\n",
              "cluster                                 ...                              \n",
              "0        40799.0   9.112929   9.421918  ...  1.97850   3.596150  101.7390\n",
              "1        10348.0  11.237096  18.865732  ...  1.19600   6.799925  171.6227\n",
              "2         6844.0  14.126392  14.693365  ...  6.06635  12.773000  260.7089\n",
              "3          985.0  13.093350  14.130382  ...  7.80330  17.815900  153.9280\n",
              "\n",
              "[4 rows x 16 columns]"
            ]
          },
          "metadata": {
            "tags": []
          },
          "execution_count": 20
        }
      ]
    },
    {
      "cell_type": "markdown",
      "metadata": {
        "id": "eVinYPIofnW7"
      },
      "source": [
        "* Cluster 0 patients had a shorter LOS in ICU while that for cluster 3 patients was longer. The difference do not appear to be significant. "
      ]
    },
    {
      "cell_type": "markdown",
      "metadata": {
        "id": "FumfW4MqaGzE"
      },
      "source": [
        "**Other Features**\n",
        "\n",
        "Associating clusters with other variables that were NOT used for clustering could also provide some interesting insights. In this case, `IN_HOSP_DEATH` was not used in clustering but the mortality rates across clusters are found to be quite different. "
      ]
    },
    {
      "cell_type": "code",
      "metadata": {
        "colab": {
          "base_uri": "https://localhost:8080/",
          "height": 225
        },
        "id": "e4emTrxsA6_m",
        "outputId": "428aa681-bbcb-4213-a30c-fda8460a3cb4"
      },
      "source": [
        "df_clustered[['IN_HOSP_DEATH', 'cluster']].groupby('cluster').describe()"
      ],
      "execution_count": 21,
      "outputs": [
        {
          "output_type": "execute_result",
          "data": {
            "text/html": [
              "<div>\n",
              "<style scoped>\n",
              "    .dataframe tbody tr th:only-of-type {\n",
              "        vertical-align: middle;\n",
              "    }\n",
              "\n",
              "    .dataframe tbody tr th {\n",
              "        vertical-align: top;\n",
              "    }\n",
              "\n",
              "    .dataframe thead tr th {\n",
              "        text-align: left;\n",
              "    }\n",
              "\n",
              "    .dataframe thead tr:last-of-type th {\n",
              "        text-align: right;\n",
              "    }\n",
              "</style>\n",
              "<table border=\"1\" class=\"dataframe\">\n",
              "  <thead>\n",
              "    <tr>\n",
              "      <th></th>\n",
              "      <th colspan=\"8\" halign=\"left\">IN_HOSP_DEATH</th>\n",
              "    </tr>\n",
              "    <tr>\n",
              "      <th></th>\n",
              "      <th>count</th>\n",
              "      <th>mean</th>\n",
              "      <th>std</th>\n",
              "      <th>min</th>\n",
              "      <th>25%</th>\n",
              "      <th>50%</th>\n",
              "      <th>75%</th>\n",
              "      <th>max</th>\n",
              "    </tr>\n",
              "    <tr>\n",
              "      <th>cluster</th>\n",
              "      <th></th>\n",
              "      <th></th>\n",
              "      <th></th>\n",
              "      <th></th>\n",
              "      <th></th>\n",
              "      <th></th>\n",
              "      <th></th>\n",
              "      <th></th>\n",
              "    </tr>\n",
              "  </thead>\n",
              "  <tbody>\n",
              "    <tr>\n",
              "      <th>0</th>\n",
              "      <td>40799.0</td>\n",
              "      <td>0.085002</td>\n",
              "      <td>0.278888</td>\n",
              "      <td>0.0</td>\n",
              "      <td>0.0</td>\n",
              "      <td>0.0</td>\n",
              "      <td>0.0</td>\n",
              "      <td>1.0</td>\n",
              "    </tr>\n",
              "    <tr>\n",
              "      <th>1</th>\n",
              "      <td>10348.0</td>\n",
              "      <td>0.003962</td>\n",
              "      <td>0.062824</td>\n",
              "      <td>0.0</td>\n",
              "      <td>0.0</td>\n",
              "      <td>0.0</td>\n",
              "      <td>0.0</td>\n",
              "      <td>1.0</td>\n",
              "    </tr>\n",
              "    <tr>\n",
              "      <th>2</th>\n",
              "      <td>6844.0</td>\n",
              "      <td>0.234950</td>\n",
              "      <td>0.423999</td>\n",
              "      <td>0.0</td>\n",
              "      <td>0.0</td>\n",
              "      <td>0.0</td>\n",
              "      <td>0.0</td>\n",
              "      <td>1.0</td>\n",
              "    </tr>\n",
              "    <tr>\n",
              "      <th>3</th>\n",
              "      <td>985.0</td>\n",
              "      <td>0.748223</td>\n",
              "      <td>0.434254</td>\n",
              "      <td>0.0</td>\n",
              "      <td>0.0</td>\n",
              "      <td>1.0</td>\n",
              "      <td>1.0</td>\n",
              "      <td>1.0</td>\n",
              "    </tr>\n",
              "  </tbody>\n",
              "</table>\n",
              "</div>"
            ],
            "text/plain": [
              "        IN_HOSP_DEATH                                             \n",
              "                count      mean       std  min  25%  50%  75%  max\n",
              "cluster                                                           \n",
              "0             40799.0  0.085002  0.278888  0.0  0.0  0.0  0.0  1.0\n",
              "1             10348.0  0.003962  0.062824  0.0  0.0  0.0  0.0  1.0\n",
              "2              6844.0  0.234950  0.423999  0.0  0.0  0.0  0.0  1.0\n",
              "3               985.0  0.748223  0.434254  0.0  0.0  1.0  1.0  1.0"
            ]
          },
          "metadata": {
            "tags": []
          },
          "execution_count": 21
        }
      ]
    },
    {
      "cell_type": "markdown",
      "metadata": {
        "id": "XxYigngolZbw"
      },
      "source": [
        "* Cluster 3 patients had higher a mortality rate. \n",
        "\n",
        "From the results above, we can summarize the meaning for each cluster as follows:\n",
        "\n",
        "Cluster | Meaning\n",
        "---|---\n",
        "0 | Patients in the clinical information system CareVue\n",
        "1 | Patients in the clinical information system MetaVision\n",
        "2 | Newborn\n",
        "3 | Patients with more events and higher mortality rate "
      ]
    },
    {
      "cell_type": "markdown",
      "metadata": {
        "id": "HSiEcu0NQfyT"
      },
      "source": [
        "# Reference\n",
        "\n",
        "* [K-means Clustering: Algorithm, Applications, Evaluation Methods, and Drawbacks](https://towardsdatascience.com/k-means-clustering-algorithm-applications-evaluation-methods-and-drawbacks-aa03e644b48a)"
      ]
    }
  ]
}