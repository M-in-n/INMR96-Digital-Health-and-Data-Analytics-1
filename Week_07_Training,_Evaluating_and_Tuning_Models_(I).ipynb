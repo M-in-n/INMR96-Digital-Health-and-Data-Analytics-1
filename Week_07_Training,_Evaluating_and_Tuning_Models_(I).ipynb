{
  "nbformat": 4,
  "nbformat_minor": 0,
  "metadata": {
    "colab": {
      "provenance": [],
      "toc_visible": true,
      "authorship_tag": "ABX9TyPQ6lLsz8pyCtJ3pnijQzKA",
      "include_colab_link": true
    },
    "kernelspec": {
      "name": "python3",
      "display_name": "Python 3"
    },
    "language_info": {
      "name": "python"
    }
  },
  "cells": [
    {
      "cell_type": "markdown",
      "metadata": {
        "id": "view-in-github",
        "colab_type": "text"
      },
      "source": [
        "<a href=\"https://colab.research.google.com/github/nbchan/INMR96-Digital-Health-and-Data-Analytics/blob/main/Week_07_Training%2C_Evaluating_and_Tuning_Models_(I).ipynb\" target=\"_parent\"><img src=\"https://colab.research.google.com/assets/colab-badge.svg\" alt=\"Open In Colab\"/></a>"
      ]
    },
    {
      "cell_type": "markdown",
      "metadata": {
        "id": "frajfwsbe055"
      },
      "source": [
        "# MIMIC-III Example: In-hospital Mortality Prediction (Cont'd)"
      ]
    },
    {
      "cell_type": "markdown",
      "metadata": {
        "id": "bnGIpIj4cJaq"
      },
      "source": [
        "# 1. Setting up"
      ]
    },
    {
      "cell_type": "markdown",
      "metadata": {
        "id": "BmkFn7Yrck1t"
      },
      "source": [
        "**Packages for data handling and visualization**"
      ]
    },
    {
      "cell_type": "code",
      "metadata": {
        "id": "wMy8PYCmW22F"
      },
      "source": [
        "import pandas as pd\n",
        "import numpy as np\n",
        "import os\n",
        "\n",
        "import matplotlib.pyplot as plt\n",
        "import seaborn as sns\n",
        "%matplotlib inline\n",
        "sns.set_theme()"
      ],
      "execution_count": null,
      "outputs": []
    },
    {
      "cell_type": "markdown",
      "metadata": {
        "id": "0R0W3t47iq_O"
      },
      "source": [
        "**Packages for data analysis and modelling**"
      ]
    },
    {
      "cell_type": "code",
      "metadata": {
        "id": "zoHOrDu5ivPv"
      },
      "source": [
        "from sklearn.model_selection import train_test_split\n",
        "from sklearn.linear_model import LogisticRegression\n",
        "from sklearn.ensemble import RandomForestClassifier\n",
        "from sklearn.metrics import accuracy_score, f1_score, roc_auc_score, precision_score, recall_score, classification_report, ConfusionMatrixDisplay, RocCurveDisplay"
      ],
      "execution_count": null,
      "outputs": []
    },
    {
      "cell_type": "markdown",
      "metadata": {
        "id": "nYZWbwV3cqHa"
      },
      "source": [
        "**Import the intermediate dataset and Authenication for Google Drive access**\n",
        "\n",
        "If you saved the intermediate dataset in your Google Drive by following all the steps in the previous tutorial, you can grant Colab access to your Google Drive and import the intermediate dataset to the current notebook.\n",
        "\n",
        "Alternatively, when you are working on your own analysis, you may also put everything (e.g. codes for extracting data from BigQuery; exploring data; preparing and cleaning data; building models) in a single notebook. In that case, you do not need to import the dataset from your Google Drive - simply continue with the cleaned dataset in your existing notebook environment.\n"
      ]
    },
    {
      "cell_type": "code",
      "metadata": {
        "colab": {
          "base_uri": "https://localhost:8080/"
        },
        "id": "EyV_r_xhbuxw",
        "outputId": "7293f72b-7894-4887-9762-7b64e431ea0d"
      },
      "source": [
        "from google.colab import drive\n",
        "drive.mount('/content/gdrive', force_remount = True) # you would need to authenicate yourself here\n",
        "\n",
        "gdrive_rootpath = '/content/gdrive/MyDrive/'\n",
        "# if you saved the file inside a folder in your Google Drive (instead of the base path),\n",
        "# you would need to append the folder name to the above"
      ],
      "execution_count": null,
      "outputs": [
        {
          "output_type": "stream",
          "name": "stdout",
          "text": [
            "Mounted at /content/gdrive\n"
          ]
        }
      ]
    },
    {
      "cell_type": "markdown",
      "source": [
        "If you have followed the previous tutorial and execute all codes, a file named 'mimic_in_hosp_death_clean.csv' should appear in your Google Drive. In that case you can directly import it into the current notebook. Otherwise, you can download the intermediate dataset using the link below."
      ],
      "metadata": {
        "id": "E3PwyWV-wvUd"
      }
    },
    {
      "cell_type": "code",
      "metadata": {
        "colab": {
          "base_uri": "https://localhost:8080/"
        },
        "id": "VosxWnKTbwcD",
        "outputId": "0f7df4a6-31a5-4806-cc0b-6e37cdba66ed"
      },
      "source": [
        "if os.path.exists(gdrive_rootpath + 'mimic_in_hosp_death_clean.csv'):\n",
        "  print('Importing file from Google Drive...')\n",
        "  df = pd.read_csv(gdrive_rootpath + 'mimic_in_hosp_death_clean.csv')\n",
        "else:\n",
        "  print('Importing file from external link...')\n",
        "  df = pd.read_csv('https://dl.dropboxusercontent.com/s/0g9rio6jz5zb8ow/mimic_in_hosp_death_clean.csv')"
      ],
      "execution_count": null,
      "outputs": [
        {
          "output_type": "stream",
          "name": "stdout",
          "text": [
            "Importing file from Google Drive...\n"
          ]
        }
      ]
    },
    {
      "cell_type": "code",
      "metadata": {
        "colab": {
          "base_uri": "https://localhost:8080/"
        },
        "id": "9bMdrT9jecVR",
        "outputId": "2563ef06-aba9-4602-feee-0cf63120a80a"
      },
      "source": [
        "df.info()"
      ],
      "execution_count": null,
      "outputs": [
        {
          "output_type": "stream",
          "name": "stdout",
          "text": [
            "<class 'pandas.core.frame.DataFrame'>\n",
            "RangeIndex: 58976 entries, 0 to 58975\n",
            "Data columns (total 65 columns):\n",
            " #   Column                            Non-Null Count  Dtype  \n",
            "---  ------                            --------------  -----  \n",
            " 0   SUBJECT_ID                        58976 non-null  int64  \n",
            " 1   HADM_ID                           58976 non-null  int64  \n",
            " 2   ADMISSION_TYPE                    58976 non-null  object \n",
            " 3   ADMITTIME                         58976 non-null  object \n",
            " 4   DISCHTIME                         58976 non-null  object \n",
            " 5   DEATHTIME                         5854 non-null   object \n",
            " 6   DIAGNOSIS                         58951 non-null  object \n",
            " 7   MARITAL_STATUS                    58976 non-null  object \n",
            " 8   INSURANCE                         58976 non-null  object \n",
            " 9   LANGUAGE                          58976 non-null  object \n",
            " 10  RELIGION                          58976 non-null  object \n",
            " 11  ETHNICITY                         58976 non-null  object \n",
            " 12  GENDER                            58976 non-null  object \n",
            " 13  DOB                               58976 non-null  object \n",
            " 14  LOS_ICU                           58976 non-null  float64\n",
            " 15  CALLOUT_COUNT                     58976 non-null  int64  \n",
            " 16  DIAG_COUNT                        58976 non-null  int64  \n",
            " 17  PRES_COUNT                        58976 non-null  int64  \n",
            " 18  PROC_COUNT                        58976 non-null  int64  \n",
            " 19  CPT_COUNT                         58976 non-null  int64  \n",
            " 20  LAB_COUNT                         58976 non-null  int64  \n",
            " 21  INPUTS_CV_COUNT                   58976 non-null  int64  \n",
            " 22  INPUTS_MV_COUNT                   58976 non-null  int64  \n",
            " 23  OUTPUT_COUNT                      58976 non-null  int64  \n",
            " 24  TRANSFER_COUNT                    58976 non-null  int64  \n",
            " 25  MICRO_COUNT                       58976 non-null  int64  \n",
            " 26  IN_HOSP_DEATH                     58976 non-null  int64  \n",
            " 27  date_of_admission                 58976 non-null  object \n",
            " 28  AGE                               58976 non-null  int64  \n",
            " 29  LOS                               58976 non-null  float64\n",
            " 30  CALLOUT_COUNT_DAY                 58976 non-null  float64\n",
            " 31  PRES_COUNT_DAY                    58976 non-null  float64\n",
            " 32  PROC_COUNT_DAY                    58976 non-null  float64\n",
            " 33  CPT_COUNT_DAY                     58976 non-null  float64\n",
            " 34  LAB_COUNT_DAY                     58976 non-null  float64\n",
            " 35  INPUTS_CV_COUNT_DAY               58976 non-null  float64\n",
            " 36  INPUTS_MV_COUNT_DAY               58976 non-null  float64\n",
            " 37  OUTPUT_COUNT_DAY                  58976 non-null  float64\n",
            " 38  TRANSFER_COUNT_DAY                58976 non-null  float64\n",
            " 39  MICRO_COUNT_DAY                   58976 non-null  float64\n",
            " 40  ADMISSION_TYPE_ELECTIVE           58976 non-null  int64  \n",
            " 41  ADMISSION_TYPE_EMERGENCY          58976 non-null  int64  \n",
            " 42  ADMISSION_TYPE_NEWBORN            58976 non-null  int64  \n",
            " 43  ADMISSION_TYPE_URGENT             58976 non-null  int64  \n",
            " 44  GENDER_F                          58976 non-null  int64  \n",
            " 45  RELIGION_CATHOLIC                 58976 non-null  int64  \n",
            " 46  RELIGION_NOT SPECIFIED            58976 non-null  int64  \n",
            " 47  RELIGION_UNOBTAINABLE             58976 non-null  int64  \n",
            " 48  RELIGION_OTHERS                   58976 non-null  int64  \n",
            " 49  INSURANCE_Medicare                58976 non-null  int64  \n",
            " 50  INSURANCE_Private                 58976 non-null  int64  \n",
            " 51  INSURANCE_Medicaid                58976 non-null  int64  \n",
            " 52  INSURANCE_OTHERS                  58976 non-null  int64  \n",
            " 53  MARITAL_STATUS_MARRIED            58976 non-null  int64  \n",
            " 54  MARITAL_STATUS_SINGLE             58976 non-null  int64  \n",
            " 55  MARITAL_STATUS_UNKNOWN (DEFAULT)  58976 non-null  int64  \n",
            " 56  MARITAL_STATUS_OTHERS             58976 non-null  int64  \n",
            " 57  LANGUAGE_ENGL                     58976 non-null  int64  \n",
            " 58  LANGUAGE_SPAN                     58976 non-null  int64  \n",
            " 59  LANGUAGE_RUSS                     58976 non-null  int64  \n",
            " 60  LANGUAGE_OTHERS                   58976 non-null  int64  \n",
            " 61  ETHNICITY_WHITE                   58976 non-null  int64  \n",
            " 62  ETHNICITY_BLACK/AFRICAN AMERICAN  58976 non-null  int64  \n",
            " 63  ETHNICITY_UNKNOWN/NOT SPECIFIED   58976 non-null  int64  \n",
            " 64  ETHNICITY_OTHERS                  58976 non-null  int64  \n",
            "dtypes: float64(12), int64(40), object(13)\n",
            "memory usage: 29.2+ MB\n"
          ]
        }
      ]
    },
    {
      "cell_type": "code",
      "metadata": {
        "colab": {
          "base_uri": "https://localhost:8080/",
          "height": 490
        },
        "id": "oLSCWB-Wnixu",
        "outputId": "10862992-e4b8-476d-e6db-83e911401dec"
      },
      "source": [
        "df.head()"
      ],
      "execution_count": null,
      "outputs": [
        {
          "output_type": "execute_result",
          "data": {
            "text/plain": [
              "   SUBJECT_ID  HADM_ID ADMISSION_TYPE            ADMITTIME  \\\n",
              "0        3115   134067      EMERGENCY  2139-02-13 03:11:00   \n",
              "1        7124   109129      EMERGENCY  2188-07-11 00:58:00   \n",
              "2       10348   121510      EMERGENCY  2133-04-16 21:12:00   \n",
              "3        9396   106469      EMERGENCY  2109-02-16 23:14:00   \n",
              "4        9333   133732         URGENT  2167-10-06 18:35:00   \n",
              "\n",
              "             DISCHTIME DEATHTIME                     DIAGNOSIS  \\\n",
              "0  2139-02-20 07:33:00       NaN                    STAB WOUND   \n",
              "1  2188-08-01 12:04:00       NaN  PENILE LACERATION-CELLULITIS   \n",
              "2  2133-04-23 15:52:00       NaN            STATUS EPILEPTICUS   \n",
              "3  2109-02-23 12:01:00       NaN             SUBDURAL HEMATOMA   \n",
              "4  2167-10-16 13:13:00       NaN       CORONARY ARTERY DISEASE   \n",
              "\n",
              "      MARITAL_STATUS INSURANCE LANGUAGE  ... MARITAL_STATUS_UNKNOWN (DEFAULT)  \\\n",
              "0  UNKNOWN (DEFAULT)  Medicare     ENGL  ...                                1   \n",
              "1  UNKNOWN (DEFAULT)  Medicare     ENGL  ...                                1   \n",
              "2  UNKNOWN (DEFAULT)  Medicare     ENGL  ...                                1   \n",
              "3  UNKNOWN (DEFAULT)  Medicare     ENGL  ...                                1   \n",
              "4  UNKNOWN (DEFAULT)   Private     ENGL  ...                                1   \n",
              "\n",
              "  MARITAL_STATUS_OTHERS LANGUAGE_ENGL LANGUAGE_SPAN  LANGUAGE_RUSS  \\\n",
              "0                     0             1             0              0   \n",
              "1                     0             1             0              0   \n",
              "2                     0             1             0              0   \n",
              "3                     0             1             0              0   \n",
              "4                     0             1             0              0   \n",
              "\n",
              "   LANGUAGE_OTHERS  ETHNICITY_WHITE  ETHNICITY_BLACK/AFRICAN AMERICAN  \\\n",
              "0                0                1                                 0   \n",
              "1                0                1                                 0   \n",
              "2                0                0                                 0   \n",
              "3                0                1                                 0   \n",
              "4                0                0                                 0   \n",
              "\n",
              "   ETHNICITY_UNKNOWN/NOT SPECIFIED  ETHNICITY_OTHERS  \n",
              "0                                0                 0  \n",
              "1                                0                 0  \n",
              "2                                1                 0  \n",
              "3                                0                 0  \n",
              "4                                1                 0  \n",
              "\n",
              "[5 rows x 65 columns]"
            ],
            "text/html": [
              "\n",
              "  <div id=\"df-fb8f1f7f-93c4-4b92-8ac6-3daa264993ac\">\n",
              "    <div class=\"colab-df-container\">\n",
              "      <div>\n",
              "<style scoped>\n",
              "    .dataframe tbody tr th:only-of-type {\n",
              "        vertical-align: middle;\n",
              "    }\n",
              "\n",
              "    .dataframe tbody tr th {\n",
              "        vertical-align: top;\n",
              "    }\n",
              "\n",
              "    .dataframe thead th {\n",
              "        text-align: right;\n",
              "    }\n",
              "</style>\n",
              "<table border=\"1\" class=\"dataframe\">\n",
              "  <thead>\n",
              "    <tr style=\"text-align: right;\">\n",
              "      <th></th>\n",
              "      <th>SUBJECT_ID</th>\n",
              "      <th>HADM_ID</th>\n",
              "      <th>ADMISSION_TYPE</th>\n",
              "      <th>ADMITTIME</th>\n",
              "      <th>DISCHTIME</th>\n",
              "      <th>DEATHTIME</th>\n",
              "      <th>DIAGNOSIS</th>\n",
              "      <th>MARITAL_STATUS</th>\n",
              "      <th>INSURANCE</th>\n",
              "      <th>LANGUAGE</th>\n",
              "      <th>...</th>\n",
              "      <th>MARITAL_STATUS_UNKNOWN (DEFAULT)</th>\n",
              "      <th>MARITAL_STATUS_OTHERS</th>\n",
              "      <th>LANGUAGE_ENGL</th>\n",
              "      <th>LANGUAGE_SPAN</th>\n",
              "      <th>LANGUAGE_RUSS</th>\n",
              "      <th>LANGUAGE_OTHERS</th>\n",
              "      <th>ETHNICITY_WHITE</th>\n",
              "      <th>ETHNICITY_BLACK/AFRICAN AMERICAN</th>\n",
              "      <th>ETHNICITY_UNKNOWN/NOT SPECIFIED</th>\n",
              "      <th>ETHNICITY_OTHERS</th>\n",
              "    </tr>\n",
              "  </thead>\n",
              "  <tbody>\n",
              "    <tr>\n",
              "      <th>0</th>\n",
              "      <td>3115</td>\n",
              "      <td>134067</td>\n",
              "      <td>EMERGENCY</td>\n",
              "      <td>2139-02-13 03:11:00</td>\n",
              "      <td>2139-02-20 07:33:00</td>\n",
              "      <td>NaN</td>\n",
              "      <td>STAB WOUND</td>\n",
              "      <td>UNKNOWN (DEFAULT)</td>\n",
              "      <td>Medicare</td>\n",
              "      <td>ENGL</td>\n",
              "      <td>...</td>\n",
              "      <td>1</td>\n",
              "      <td>0</td>\n",
              "      <td>1</td>\n",
              "      <td>0</td>\n",
              "      <td>0</td>\n",
              "      <td>0</td>\n",
              "      <td>1</td>\n",
              "      <td>0</td>\n",
              "      <td>0</td>\n",
              "      <td>0</td>\n",
              "    </tr>\n",
              "    <tr>\n",
              "      <th>1</th>\n",
              "      <td>7124</td>\n",
              "      <td>109129</td>\n",
              "      <td>EMERGENCY</td>\n",
              "      <td>2188-07-11 00:58:00</td>\n",
              "      <td>2188-08-01 12:04:00</td>\n",
              "      <td>NaN</td>\n",
              "      <td>PENILE LACERATION-CELLULITIS</td>\n",
              "      <td>UNKNOWN (DEFAULT)</td>\n",
              "      <td>Medicare</td>\n",
              "      <td>ENGL</td>\n",
              "      <td>...</td>\n",
              "      <td>1</td>\n",
              "      <td>0</td>\n",
              "      <td>1</td>\n",
              "      <td>0</td>\n",
              "      <td>0</td>\n",
              "      <td>0</td>\n",
              "      <td>1</td>\n",
              "      <td>0</td>\n",
              "      <td>0</td>\n",
              "      <td>0</td>\n",
              "    </tr>\n",
              "    <tr>\n",
              "      <th>2</th>\n",
              "      <td>10348</td>\n",
              "      <td>121510</td>\n",
              "      <td>EMERGENCY</td>\n",
              "      <td>2133-04-16 21:12:00</td>\n",
              "      <td>2133-04-23 15:52:00</td>\n",
              "      <td>NaN</td>\n",
              "      <td>STATUS EPILEPTICUS</td>\n",
              "      <td>UNKNOWN (DEFAULT)</td>\n",
              "      <td>Medicare</td>\n",
              "      <td>ENGL</td>\n",
              "      <td>...</td>\n",
              "      <td>1</td>\n",
              "      <td>0</td>\n",
              "      <td>1</td>\n",
              "      <td>0</td>\n",
              "      <td>0</td>\n",
              "      <td>0</td>\n",
              "      <td>0</td>\n",
              "      <td>0</td>\n",
              "      <td>1</td>\n",
              "      <td>0</td>\n",
              "    </tr>\n",
              "    <tr>\n",
              "      <th>3</th>\n",
              "      <td>9396</td>\n",
              "      <td>106469</td>\n",
              "      <td>EMERGENCY</td>\n",
              "      <td>2109-02-16 23:14:00</td>\n",
              "      <td>2109-02-23 12:01:00</td>\n",
              "      <td>NaN</td>\n",
              "      <td>SUBDURAL HEMATOMA</td>\n",
              "      <td>UNKNOWN (DEFAULT)</td>\n",
              "      <td>Medicare</td>\n",
              "      <td>ENGL</td>\n",
              "      <td>...</td>\n",
              "      <td>1</td>\n",
              "      <td>0</td>\n",
              "      <td>1</td>\n",
              "      <td>0</td>\n",
              "      <td>0</td>\n",
              "      <td>0</td>\n",
              "      <td>1</td>\n",
              "      <td>0</td>\n",
              "      <td>0</td>\n",
              "      <td>0</td>\n",
              "    </tr>\n",
              "    <tr>\n",
              "      <th>4</th>\n",
              "      <td>9333</td>\n",
              "      <td>133732</td>\n",
              "      <td>URGENT</td>\n",
              "      <td>2167-10-06 18:35:00</td>\n",
              "      <td>2167-10-16 13:13:00</td>\n",
              "      <td>NaN</td>\n",
              "      <td>CORONARY ARTERY DISEASE</td>\n",
              "      <td>UNKNOWN (DEFAULT)</td>\n",
              "      <td>Private</td>\n",
              "      <td>ENGL</td>\n",
              "      <td>...</td>\n",
              "      <td>1</td>\n",
              "      <td>0</td>\n",
              "      <td>1</td>\n",
              "      <td>0</td>\n",
              "      <td>0</td>\n",
              "      <td>0</td>\n",
              "      <td>0</td>\n",
              "      <td>0</td>\n",
              "      <td>1</td>\n",
              "      <td>0</td>\n",
              "    </tr>\n",
              "  </tbody>\n",
              "</table>\n",
              "<p>5 rows × 65 columns</p>\n",
              "</div>\n",
              "      <button class=\"colab-df-convert\" onclick=\"convertToInteractive('df-fb8f1f7f-93c4-4b92-8ac6-3daa264993ac')\"\n",
              "              title=\"Convert this dataframe to an interactive table.\"\n",
              "              style=\"display:none;\">\n",
              "        \n",
              "  <svg xmlns=\"http://www.w3.org/2000/svg\" height=\"24px\"viewBox=\"0 0 24 24\"\n",
              "       width=\"24px\">\n",
              "    <path d=\"M0 0h24v24H0V0z\" fill=\"none\"/>\n",
              "    <path d=\"M18.56 5.44l.94 2.06.94-2.06 2.06-.94-2.06-.94-.94-2.06-.94 2.06-2.06.94zm-11 1L8.5 8.5l.94-2.06 2.06-.94-2.06-.94L8.5 2.5l-.94 2.06-2.06.94zm10 10l.94 2.06.94-2.06 2.06-.94-2.06-.94-.94-2.06-.94 2.06-2.06.94z\"/><path d=\"M17.41 7.96l-1.37-1.37c-.4-.4-.92-.59-1.43-.59-.52 0-1.04.2-1.43.59L10.3 9.45l-7.72 7.72c-.78.78-.78 2.05 0 2.83L4 21.41c.39.39.9.59 1.41.59.51 0 1.02-.2 1.41-.59l7.78-7.78 2.81-2.81c.8-.78.8-2.07 0-2.86zM5.41 20L4 18.59l7.72-7.72 1.47 1.35L5.41 20z\"/>\n",
              "  </svg>\n",
              "      </button>\n",
              "      \n",
              "  <style>\n",
              "    .colab-df-container {\n",
              "      display:flex;\n",
              "      flex-wrap:wrap;\n",
              "      gap: 12px;\n",
              "    }\n",
              "\n",
              "    .colab-df-convert {\n",
              "      background-color: #E8F0FE;\n",
              "      border: none;\n",
              "      border-radius: 50%;\n",
              "      cursor: pointer;\n",
              "      display: none;\n",
              "      fill: #1967D2;\n",
              "      height: 32px;\n",
              "      padding: 0 0 0 0;\n",
              "      width: 32px;\n",
              "    }\n",
              "\n",
              "    .colab-df-convert:hover {\n",
              "      background-color: #E2EBFA;\n",
              "      box-shadow: 0px 1px 2px rgba(60, 64, 67, 0.3), 0px 1px 3px 1px rgba(60, 64, 67, 0.15);\n",
              "      fill: #174EA6;\n",
              "    }\n",
              "\n",
              "    [theme=dark] .colab-df-convert {\n",
              "      background-color: #3B4455;\n",
              "      fill: #D2E3FC;\n",
              "    }\n",
              "\n",
              "    [theme=dark] .colab-df-convert:hover {\n",
              "      background-color: #434B5C;\n",
              "      box-shadow: 0px 1px 3px 1px rgba(0, 0, 0, 0.15);\n",
              "      filter: drop-shadow(0px 1px 2px rgba(0, 0, 0, 0.3));\n",
              "      fill: #FFFFFF;\n",
              "    }\n",
              "  </style>\n",
              "\n",
              "      <script>\n",
              "        const buttonEl =\n",
              "          document.querySelector('#df-fb8f1f7f-93c4-4b92-8ac6-3daa264993ac button.colab-df-convert');\n",
              "        buttonEl.style.display =\n",
              "          google.colab.kernel.accessAllowed ? 'block' : 'none';\n",
              "\n",
              "        async function convertToInteractive(key) {\n",
              "          const element = document.querySelector('#df-fb8f1f7f-93c4-4b92-8ac6-3daa264993ac');\n",
              "          const dataTable =\n",
              "            await google.colab.kernel.invokeFunction('convertToInteractive',\n",
              "                                                     [key], {});\n",
              "          if (!dataTable) return;\n",
              "\n",
              "          const docLinkHtml = 'Like what you see? Visit the ' +\n",
              "            '<a target=\"_blank\" href=https://colab.research.google.com/notebooks/data_table.ipynb>data table notebook</a>'\n",
              "            + ' to learn more about interactive tables.';\n",
              "          element.innerHTML = '';\n",
              "          dataTable['output_type'] = 'display_data';\n",
              "          await google.colab.output.renderOutput(dataTable, element);\n",
              "          const docLink = document.createElement('div');\n",
              "          docLink.innerHTML = docLinkHtml;\n",
              "          element.appendChild(docLink);\n",
              "        }\n",
              "      </script>\n",
              "    </div>\n",
              "  </div>\n",
              "  "
            ]
          },
          "metadata": {},
          "execution_count": 6
        }
      ]
    },
    {
      "cell_type": "markdown",
      "source": [
        "---\n",
        "\n",
        "# 2. Training a Logistic Regression Model"
      ],
      "metadata": {
        "id": "GuexQoL6ENqs"
      }
    },
    {
      "cell_type": "markdown",
      "metadata": {
        "id": "ciDSdMSXjI9V"
      },
      "source": [
        "## 2.1. Train-test Split\n",
        "\n",
        "* Allow us to report an **unbiased performance metric** using data unseen by the model\n",
        "* Help **mitigate overfitting** (model learns to fit the noise and error terms in the data) while we train machine learning models\n",
        "* A 70-30 or 80-20 split is usually the most common.\n",
        "\n",
        "![image.png](data:image/png;base64,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)\n",
        "\n",
        "([Source](https://towardsdatascience.com/train-test-split-and-cross-validation-in-python-80b61beca4b6))"
      ]
    },
    {
      "cell_type": "markdown",
      "metadata": {
        "id": "7kNWwOYsnnF5"
      },
      "source": [
        "`IN_HOSP_DEATH` would be our prediction target. Here, let's define a list of 38 column names for features/inputs we would use in the model as not all columns are appropriate (e.g. `SUBJECT_ID`)."
      ]
    },
    {
      "cell_type": "code",
      "metadata": {
        "colab": {
          "base_uri": "https://localhost:8080/"
        },
        "id": "OwtYw-H2nj-Z",
        "outputId": "e575672e-3ed6-4da7-8491-0221a46ee861"
      },
      "source": [
        "features_list = ['GENDER_F', 'AGE', 'LOS', 'LOS_ICU',\n",
        "                 'CALLOUT_COUNT_DAY', 'PRES_COUNT_DAY', 'PROC_COUNT_DAY',\n",
        "                 'CPT_COUNT_DAY', 'LAB_COUNT_DAY', 'INPUTS_CV_COUNT_DAY',\n",
        "                 'INPUTS_MV_COUNT_DAY', 'OUTPUT_COUNT_DAY', 'TRANSFER_COUNT_DAY',\n",
        "                 'MICRO_COUNT_DAY',\n",
        "                 'ADMISSION_TYPE_ELECTIVE', 'ADMISSION_TYPE_EMERGENCY', 'ADMISSION_TYPE_NEWBORN', 'ADMISSION_TYPE_URGENT',\n",
        "                 'RELIGION_CATHOLIC', 'RELIGION_NOT SPECIFIED', 'RELIGION_UNOBTAINABLE', 'RELIGION_OTHERS',\n",
        "                 'INSURANCE_Medicare', 'INSURANCE_Private', 'INSURANCE_Medicaid', 'INSURANCE_OTHERS',\n",
        "                 'MARITAL_STATUS_MARRIED', 'MARITAL_STATUS_SINGLE', 'MARITAL_STATUS_UNKNOWN (DEFAULT)', 'MARITAL_STATUS_OTHERS',\n",
        "                 'LANGUAGE_ENGL', 'LANGUAGE_SPAN', 'LANGUAGE_RUSS', 'LANGUAGE_OTHERS',\n",
        "                 'ETHNICITY_WHITE', 'ETHNICITY_BLACK/AFRICAN AMERICAN', 'ETHNICITY_UNKNOWN/NOT SPECIFIED', 'ETHNICITY_OTHERS']\n",
        "\n",
        "len(features_list)"
      ],
      "execution_count": null,
      "outputs": [
        {
          "output_type": "execute_result",
          "data": {
            "text/plain": [
              "38"
            ]
          },
          "metadata": {},
          "execution_count": 25
        }
      ]
    },
    {
      "cell_type": "markdown",
      "source": [
        "Then, create a DataFrame (`X`) containing input features only as well as a Series (`y`) containing our prediction target."
      ],
      "metadata": {
        "id": "xEEq6odyFt7H"
      }
    },
    {
      "cell_type": "code",
      "metadata": {
        "id": "cnPEJnMjq8dG"
      },
      "source": [
        "X = df[features_list]\n",
        "y = df['IN_HOSP_DEATH']"
      ],
      "execution_count": null,
      "outputs": []
    },
    {
      "cell_type": "markdown",
      "source": [
        "Finally, use `train_test_split()` from the package [Scikit-learn](https://scikit-learn.org/stable/) to perform a train-test split.\n",
        "\n",
        "Note that the function outputs four things: the input and output datasets for training and testing respectively."
      ],
      "metadata": {
        "id": "VCDqkhj2F8fk"
      }
    },
    {
      "cell_type": "code",
      "metadata": {
        "id": "A6MFgGhUjYwb"
      },
      "source": [
        "X_train, X_test, y_train, y_test = train_test_split(X, y,\n",
        "                                                    test_size = 0.2,  # 20% of data belongs to the test set\n",
        "                                                    random_state = 1, # make sure the split is the same across different devices for illustrative purposes\n",
        "                                                    stratify = y)     # ensure the number of positive examples in the train and test sets are similar"
      ],
      "execution_count": null,
      "outputs": []
    },
    {
      "cell_type": "code",
      "metadata": {
        "colab": {
          "base_uri": "https://localhost:8080/"
        },
        "id": "lhSH-NEhrcVI",
        "outputId": "220a1b5b-b664-4691-cee9-598253d77cb3"
      },
      "source": [
        "X_train.shape"
      ],
      "execution_count": null,
      "outputs": [
        {
          "output_type": "execute_result",
          "data": {
            "text/plain": [
              "(47180, 38)"
            ]
          },
          "metadata": {},
          "execution_count": 28
        }
      ]
    },
    {
      "cell_type": "code",
      "metadata": {
        "colab": {
          "base_uri": "https://localhost:8080/"
        },
        "id": "H_C9DfnRrsjS",
        "outputId": "3dbce25b-484a-404f-c8ad-6ad61fc05e40"
      },
      "source": [
        "X_test.shape"
      ],
      "execution_count": null,
      "outputs": [
        {
          "output_type": "execute_result",
          "data": {
            "text/plain": [
              "(11796, 38)"
            ]
          },
          "metadata": {},
          "execution_count": 29
        }
      ]
    },
    {
      "cell_type": "markdown",
      "metadata": {
        "id": "BIzFO247rmjB"
      },
      "source": [
        "As a result, our training and test set would include 47,180 and 11,796 admissions respectively."
      ]
    },
    {
      "cell_type": "markdown",
      "metadata": {
        "id": "eor-Oq3x7iio"
      },
      "source": [
        "## 2.2. Model Training"
      ]
    },
    {
      "cell_type": "markdown",
      "metadata": {
        "id": "Gq_fZIosiaFl"
      },
      "source": [
        "![image.png](data:image/png;base64,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)\n",
        "\n",
        "([Source](https://www.tpointtech.com/linear-regression-vs-logistic-regression-in-machine-learning))\n",
        "\n",
        "In this example, we would be utilizing the package package [Scikit-learn](https://scikit-learn.org/stable/user_guide.html) heavily for modelling. In Scikit-learn, the general flow for training and using a model can be simplified into 3 steps:\n",
        "\n",
        "1. **Specify a model to be trained**\n",
        "  * Choose a type of model based on your task and dataset. A full list of available models in the package can be found [here](https://scikit-learn.org/stable/modules/classes.html).\n",
        "  * Set the hyperparameters of the model.\n",
        "  * Assign the model to a variable.\n",
        "2. **Train the model**\n",
        "  * Call the `.fit()` function using your cleaned train dataset.\n",
        "3. **Make predictions**\n",
        "  * Call the `.predict()` function using your cleaned test dataset."
      ]
    },
    {
      "cell_type": "code",
      "metadata": {
        "id": "QGiQXnaF7k-U"
      },
      "source": [
        "# 1. Specify a model to be trained\n",
        "model_lr = LogisticRegression(random_state = 1,\n",
        "                              n_jobs = -1) # use all available CPUs within your Colab notebook for computation"
      ],
      "execution_count": null,
      "outputs": []
    },
    {
      "cell_type": "code",
      "metadata": {
        "colab": {
          "base_uri": "https://localhost:8080/",
          "height": 74
        },
        "id": "OUVdAqCa7_VJ",
        "outputId": "92240b12-260d-4708-ab30-346fe2c05933"
      },
      "source": [
        "# 2. Train the model\n",
        "model_lr.fit(X_train, y_train)"
      ],
      "execution_count": null,
      "outputs": [
        {
          "output_type": "execute_result",
          "data": {
            "text/plain": [
              "LogisticRegression(n_jobs=-1, random_state=1)"
            ],
            "text/html": [
              "<style>#sk-container-id-1 {color: black;background-color: white;}#sk-container-id-1 pre{padding: 0;}#sk-container-id-1 div.sk-toggleable {background-color: white;}#sk-container-id-1 label.sk-toggleable__label {cursor: pointer;display: block;width: 100%;margin-bottom: 0;padding: 0.3em;box-sizing: border-box;text-align: center;}#sk-container-id-1 label.sk-toggleable__label-arrow:before {content: \"▸\";float: left;margin-right: 0.25em;color: #696969;}#sk-container-id-1 label.sk-toggleable__label-arrow:hover:before {color: black;}#sk-container-id-1 div.sk-estimator:hover label.sk-toggleable__label-arrow:before {color: black;}#sk-container-id-1 div.sk-toggleable__content {max-height: 0;max-width: 0;overflow: hidden;text-align: left;background-color: #f0f8ff;}#sk-container-id-1 div.sk-toggleable__content pre {margin: 0.2em;color: black;border-radius: 0.25em;background-color: #f0f8ff;}#sk-container-id-1 input.sk-toggleable__control:checked~div.sk-toggleable__content {max-height: 200px;max-width: 100%;overflow: auto;}#sk-container-id-1 input.sk-toggleable__control:checked~label.sk-toggleable__label-arrow:before {content: \"▾\";}#sk-container-id-1 div.sk-estimator input.sk-toggleable__control:checked~label.sk-toggleable__label {background-color: #d4ebff;}#sk-container-id-1 div.sk-label input.sk-toggleable__control:checked~label.sk-toggleable__label {background-color: #d4ebff;}#sk-container-id-1 input.sk-hidden--visually {border: 0;clip: rect(1px 1px 1px 1px);clip: rect(1px, 1px, 1px, 1px);height: 1px;margin: -1px;overflow: hidden;padding: 0;position: absolute;width: 1px;}#sk-container-id-1 div.sk-estimator {font-family: monospace;background-color: #f0f8ff;border: 1px dotted black;border-radius: 0.25em;box-sizing: border-box;margin-bottom: 0.5em;}#sk-container-id-1 div.sk-estimator:hover {background-color: #d4ebff;}#sk-container-id-1 div.sk-parallel-item::after {content: \"\";width: 100%;border-bottom: 1px solid gray;flex-grow: 1;}#sk-container-id-1 div.sk-label:hover label.sk-toggleable__label {background-color: #d4ebff;}#sk-container-id-1 div.sk-serial::before {content: \"\";position: absolute;border-left: 1px solid gray;box-sizing: border-box;top: 0;bottom: 0;left: 50%;z-index: 0;}#sk-container-id-1 div.sk-serial {display: flex;flex-direction: column;align-items: center;background-color: white;padding-right: 0.2em;padding-left: 0.2em;position: relative;}#sk-container-id-1 div.sk-item {position: relative;z-index: 1;}#sk-container-id-1 div.sk-parallel {display: flex;align-items: stretch;justify-content: center;background-color: white;position: relative;}#sk-container-id-1 div.sk-item::before, #sk-container-id-1 div.sk-parallel-item::before {content: \"\";position: absolute;border-left: 1px solid gray;box-sizing: border-box;top: 0;bottom: 0;left: 50%;z-index: -1;}#sk-container-id-1 div.sk-parallel-item {display: flex;flex-direction: column;z-index: 1;position: relative;background-color: white;}#sk-container-id-1 div.sk-parallel-item:first-child::after {align-self: flex-end;width: 50%;}#sk-container-id-1 div.sk-parallel-item:last-child::after {align-self: flex-start;width: 50%;}#sk-container-id-1 div.sk-parallel-item:only-child::after {width: 0;}#sk-container-id-1 div.sk-dashed-wrapped {border: 1px dashed gray;margin: 0 0.4em 0.5em 0.4em;box-sizing: border-box;padding-bottom: 0.4em;background-color: white;}#sk-container-id-1 div.sk-label label {font-family: monospace;font-weight: bold;display: inline-block;line-height: 1.2em;}#sk-container-id-1 div.sk-label-container {text-align: center;}#sk-container-id-1 div.sk-container {/* jupyter's `normalize.less` sets `[hidden] { display: none; }` but bootstrap.min.css set `[hidden] { display: none !important; }` so we also need the `!important` here to be able to override the default hidden behavior on the sphinx rendered scikit-learn.org. See: https://github.com/scikit-learn/scikit-learn/issues/21755 */display: inline-block !important;position: relative;}#sk-container-id-1 div.sk-text-repr-fallback {display: none;}</style><div id=\"sk-container-id-1\" class=\"sk-top-container\"><div class=\"sk-text-repr-fallback\"><pre>LogisticRegression(n_jobs=-1, random_state=1)</pre><b>In a Jupyter environment, please rerun this cell to show the HTML representation or trust the notebook. <br />On GitHub, the HTML representation is unable to render, please try loading this page with nbviewer.org.</b></div><div class=\"sk-container\" hidden><div class=\"sk-item\"><div class=\"sk-estimator sk-toggleable\"><input class=\"sk-toggleable__control sk-hidden--visually\" id=\"sk-estimator-id-1\" type=\"checkbox\" checked><label for=\"sk-estimator-id-1\" class=\"sk-toggleable__label sk-toggleable__label-arrow\">LogisticRegression</label><div class=\"sk-toggleable__content\"><pre>LogisticRegression(n_jobs=-1, random_state=1)</pre></div></div></div></div></div>"
            ]
          },
          "metadata": {},
          "execution_count": 31
        }
      ]
    },
    {
      "cell_type": "code",
      "metadata": {
        "id": "FXJk0ZS48Jgq",
        "colab": {
          "base_uri": "https://localhost:8080/"
        },
        "outputId": "17954deb-b584-43e9-d039-70511ba8861f"
      },
      "source": [
        "# 3. Make predictions\n",
        "y_pred_lr = model_lr.predict(X_test)\n",
        "y_pred_lr"
      ],
      "execution_count": null,
      "outputs": [
        {
          "output_type": "execute_result",
          "data": {
            "text/plain": [
              "array([0, 0, 0, ..., 0, 0, 0])"
            ]
          },
          "metadata": {},
          "execution_count": 32
        }
      ]
    },
    {
      "cell_type": "markdown",
      "metadata": {
        "id": "pihaxTN1BIHc"
      },
      "source": [
        "Use `.predict_proba()` instead if you want probabilistic outputs over class outputs."
      ]
    },
    {
      "cell_type": "code",
      "metadata": {
        "colab": {
          "base_uri": "https://localhost:8080/"
        },
        "id": "IPJQ8npLBCB-",
        "outputId": "d764a356-ffa3-465b-b8ab-88ec62471332"
      },
      "source": [
        "y_pred_prob_lr = model_lr.predict_proba(X_test)\n",
        "y_pred_prob_lr # here, the two columns represent the prob of 0 and 1 respectively"
      ],
      "execution_count": null,
      "outputs": [
        {
          "output_type": "execute_result",
          "data": {
            "text/plain": [
              "array([[0.93262806, 0.06737194],\n",
              "       [0.9427264 , 0.0572736 ],\n",
              "       [0.99321762, 0.00678238],\n",
              "       ...,\n",
              "       [0.91352512, 0.08647488],\n",
              "       [0.97662272, 0.02337728],\n",
              "       [0.97324441, 0.02675559]])"
            ]
          },
          "metadata": {},
          "execution_count": 33
        }
      ]
    },
    {
      "cell_type": "markdown",
      "metadata": {
        "id": "hOvZnFB-ksjf"
      },
      "source": [
        "---\n",
        "\n",
        "## 2.3. Evaluation (binary classification)"
      ]
    },
    {
      "cell_type": "markdown",
      "metadata": {
        "id": "SC-UKsTmJMoG"
      },
      "source": [
        "There are several metrics for evaluating the binary classification performances. In general, the most common reported metric for these kinds of machine learning problems are\n",
        "\n",
        "* **Precision**. Proportion of correct predictions made among the predicted positive class\n",
        "* **Recall**. Proportion of correct predictions made among the actual positive class. Also known as sensitivity\n",
        "* **F1-score**. harmonic mean of precision and recall\n",
        "* **Area under receiver operating characteristic curve (AUC)**. overall diagnostic ability across all classification probability cutoffs\n",
        "\n",
        "These are all ranged between 0 and 1.\n",
        "\n",
        "![binary classification metrics](https://2.bp.blogspot.com/-EvSXDotTOwc/XMfeOGZ-CVI/AAAAAAAAEiE/oePFfvhfOQM11dgRn9FkPxlegCXbgOF4QCLcBGAs/s1600/confusionMatrxiUpdated.jpg)\n",
        "\n",
        "([Source](https://manisha-sirsat.blogspot.com/2019/04/confusion-matrix.html))\n",
        "\n",
        "<img src='https://upload.wikimedia.org/wikipedia/commons/1/13/Roc_curve.svg' width='40%'>\n",
        "\n",
        "([Source](https://en.wikipedia.org/wiki/Receiver_operating_characteristic))"
      ]
    },
    {
      "cell_type": "code",
      "metadata": {
        "colab": {
          "base_uri": "https://localhost:8080/"
        },
        "id": "jnlsu2WX8PYR",
        "outputId": "3912dd76-b496-4651-de1f-0d4f25c96cf0"
      },
      "source": [
        "# to calculate accuracy:\n",
        "accuracy_score(y_test, y_pred_lr)"
      ],
      "execution_count": null,
      "outputs": [
        {
          "output_type": "execute_result",
          "data": {
            "text/plain": [
              "0.9265852831468294"
            ]
          },
          "metadata": {},
          "execution_count": 34
        }
      ]
    },
    {
      "cell_type": "code",
      "source": [
        "# to calculate precision:\n",
        "precision_score(y_test, y_pred_lr)"
      ],
      "metadata": {
        "id": "qT3oNxY5sWo0"
      },
      "execution_count": null,
      "outputs": []
    },
    {
      "cell_type": "code",
      "source": [
        "# to calculate recall:\n",
        "recall_score(y_test, y_pred_lr)"
      ],
      "metadata": {
        "id": "dmlKK4cgsaFL"
      },
      "execution_count": null,
      "outputs": []
    },
    {
      "cell_type": "code",
      "source": [
        "# to calculate F1 score:\n",
        "f1_score(y_test, y_pred_lr)"
      ],
      "metadata": {
        "colab": {
          "base_uri": "https://localhost:8080/"
        },
        "id": "X-dMcUpaVx-6",
        "outputId": "ef884d4c-fc14-4138-aa2f-e72d417a8085"
      },
      "execution_count": null,
      "outputs": [
        {
          "output_type": "execute_result",
          "data": {
            "text/plain": [
              "0.4976798143851508"
            ]
          },
          "metadata": {},
          "execution_count": 35
        }
      ]
    },
    {
      "cell_type": "code",
      "metadata": {
        "colab": {
          "base_uri": "https://localhost:8080/"
        },
        "id": "qwZSc1LA8Tf3",
        "outputId": "c340cd31-28f7-4a3a-e025-74684a4a5712"
      },
      "source": [
        "# to display multiple classification-related metrics:\n",
        "print(classification_report(y_test, y_pred_lr, digits = 3))"
      ],
      "execution_count": null,
      "outputs": [
        {
          "output_type": "stream",
          "name": "stdout",
          "text": [
            "              precision    recall  f1-score   support\n",
            "\n",
            "           0      0.934     0.988     0.960     10625\n",
            "           1      0.776     0.366     0.498      1171\n",
            "\n",
            "    accuracy                          0.927     11796\n",
            "   macro avg      0.855     0.677     0.729     11796\n",
            "weighted avg      0.918     0.927     0.914     11796\n",
            "\n"
          ]
        }
      ]
    },
    {
      "cell_type": "code",
      "metadata": {
        "colab": {
          "base_uri": "https://localhost:8080/",
          "height": 285
        },
        "id": "HFe6SKZG8YRE",
        "outputId": "42f0f638-c0f1-4db7-e5ac-af0a5a48680e"
      },
      "source": [
        "# to visualise a confusion matrix using a heatmap:\n",
        "ConfusionMatrixDisplay.from_estimator(model_lr, X_test, y_test)\n",
        "plt.grid(False) # just to disable grid lines for this plot"
      ],
      "execution_count": null,
      "outputs": [
        {
          "output_type": "display_data",
          "data": {
            "text/plain": [
              "<Figure size 432x288 with 2 Axes>"
            ],
            "image/png": "[encoded data removed]"
          },
          "metadata": {}
        }
      ]
    },
    {
      "cell_type": "markdown",
      "source": [
        "Note that the colour in the above plot has little implications as the quantity of the two classes differ by too much. We can express them as ratios and percentages instead."
      ],
      "metadata": {
        "id": "mxiHZe5nMbm7"
      }
    },
    {
      "cell_type": "code",
      "metadata": {
        "colab": {
          "base_uri": "https://localhost:8080/",
          "height": 285
        },
        "id": "lvT6wt7D8h2K",
        "outputId": "e4c2c4b9-bed4-4752-f06a-020917edd438"
      },
      "source": [
        "# recall-related metrics (% of row)\n",
        "ConfusionMatrixDisplay.from_estimator(model_lr, X_test, y_test, normalize = 'true')\n",
        "plt.grid(False)"
      ],
      "execution_count": null,
      "outputs": [
        {
          "output_type": "display_data",
          "data": {
            "text/plain": [
              "<Figure size 432x288 with 2 Axes>"
            ],
            "image/png": "[encoded data removed]"
          },
          "metadata": {}
        }
      ]
    },
    {
      "cell_type": "code",
      "metadata": {
        "colab": {
          "base_uri": "https://localhost:8080/",
          "height": 285
        },
        "id": "KqwWsT628lgb",
        "outputId": "863eed76-4a0e-4c8f-b8d2-f178b8cafc6b"
      },
      "source": [
        "# precision-related metrics (% of column)\n",
        "ConfusionMatrixDisplay.from_estimator(model_lr, X_test, y_test, normalize = 'pred')\n",
        "plt.grid(False)"
      ],
      "execution_count": null,
      "outputs": [
        {
          "output_type": "display_data",
          "data": {
            "text/plain": [
              "<Figure size 432x288 with 2 Axes>"
            ],
            "image/png": "[encoded data removed]"
          },
          "metadata": {}
        }
      ]
    },
    {
      "cell_type": "code",
      "metadata": {
        "colab": {
          "base_uri": "https://localhost:8080/",
          "height": 412
        },
        "id": "l3Hx-hA49EAY",
        "outputId": "1191d9b5-1bf9-40a8-a7e9-75cea510b75f"
      },
      "source": [
        "# to plot an ROC:\n",
        "fig, ax = plt.subplots(figsize=(6, 6)) # modify figure size\n",
        "RocCurveDisplay.from_estimator(model_lr, X_test, y_test, ax = ax)"
      ],
      "execution_count": null,
      "outputs": [
        {
          "output_type": "execute_result",
          "data": {
            "text/plain": [
              "<sklearn.metrics._plot.roc_curve.RocCurveDisplay at 0x7f9ab30bfdc0>"
            ]
          },
          "metadata": {},
          "execution_count": 40
        },
        {
          "output_type": "display_data",
          "data": {
            "text/plain": [
              "<Figure size 432x432 with 1 Axes>"
            ],
            "image/png": "[encoded data removed]"
          },
          "metadata": {}
        }
      ]
    },
    {
      "cell_type": "code",
      "source": [
        "# to calculate Area under ROC:\n",
        "roc_auc_score(y_test, y_pred_prob_lr[:,1])"
      ],
      "metadata": {
        "colab": {
          "base_uri": "https://localhost:8080/"
        },
        "id": "BPq78LguO-dC",
        "outputId": "6e55ec14-033a-4a2d-900f-7a528c9cd9aa"
      },
      "execution_count": null,
      "outputs": [
        {
          "output_type": "execute_result",
          "data": {
            "text/plain": [
              "0.8573533329984427"
            ]
          },
          "metadata": {},
          "execution_count": 41
        }
      ]
    },
    {
      "cell_type": "markdown",
      "metadata": {
        "id": "tvMK4tiplLnL"
      },
      "source": [
        "**Some Observations**\n",
        "\n",
        "* Despite having an accuracy of 92.6%, the overall F1-score is around 48%. The high accuracy is due to class imbalance and the model predicted the majority class (`IN_HOSP_DEATH == 0`) correctly.\n",
        "* The recall for the positive examples is 34%, meaning that only around one-third of those who died within their hospital stay is successfully detected by the model."
      ]
    },
    {
      "cell_type": "markdown",
      "source": [
        "---\n",
        "\n",
        "# 3. Training a Random Forest Model"
      ],
      "metadata": {
        "id": "2lOuFb6Bz2t_"
      }
    },
    {
      "cell_type": "markdown",
      "source": [
        "## 3.1. Train-test Split\n",
        "\n",
        "As we have already made a train-test split when training the logistic regression model, we do not need to do this again. Having the same data split also allows for fair comparison between models."
      ],
      "metadata": {
        "id": "7uezP6H-0Zou"
      }
    },
    {
      "cell_type": "markdown",
      "metadata": {
        "id": "3MzozqJp3Vgi"
      },
      "source": [
        "---\n",
        "\n",
        "## 3.2. Model Training"
      ]
    },
    {
      "cell_type": "markdown",
      "metadata": {
        "id": "ecd_EV120F2f"
      },
      "source": [
        "* A Random Forest model consists of **multiple Decision Tree** models.\n",
        "* Each decision tree consists of **levels** of nodes that represent **yes/no questions**. By following these rules given by a decision tree, each sample arrives to the end node which outputs a prediction.\n",
        "* Decision trees are trained by minimizing metrics such as gini score or **entropy**.\n",
        "* Random Forest is trained by first training multiple decision trees with different subsets of the training dataset as inputs; then **aggregate the predictions from all decision trees** via a majority vote or averaging.\n",
        "\n",
        "![Random Forest](https://cdn.analyticsvidhya.com/wp-content/uploads/2020/02/rfc_vs_dt1.png)\n",
        "\n",
        "([Source](https://www.analyticsvidhya.com/blog/2020/05/decision-tree-vs-random-forest-algorithm/))\n",
        "\n",
        "We can follow the same 3-step process to train the model."
      ]
    },
    {
      "cell_type": "markdown",
      "metadata": {
        "id": "V5tJmuoF2fns"
      },
      "source": [
        "Define the configuration/hyperparameters of a random forest model. Here we specify that the model contains 200 decision trees."
      ]
    },
    {
      "cell_type": "code",
      "metadata": {
        "id": "Wqmi5cLRiiOY"
      },
      "source": [
        "# 1. Specify a model to be trained\n",
        "# Also define the configuration/hyperparameters of a random forest model.\n",
        "# Here we specify that the model contains 200 decision trees.\n",
        "model_rf = RandomForestClassifier(n_estimators = 200,\n",
        "                                   random_state = 1,\n",
        "                                   n_jobs = -1)"
      ],
      "execution_count": null,
      "outputs": []
    },
    {
      "cell_type": "code",
      "metadata": {
        "colab": {
          "base_uri": "https://localhost:8080/",
          "height": 74
        },
        "id": "OjdZWia9seQG",
        "outputId": "7fa856cd-1a4f-4c1a-ff70-8670e87d41cb"
      },
      "source": [
        "# 2. Train the model\n",
        "model_rf.fit(X_train, y_train)"
      ],
      "execution_count": null,
      "outputs": [
        {
          "output_type": "execute_result",
          "data": {
            "text/plain": [
              "RandomForestClassifier(n_estimators=200, n_jobs=-1, random_state=1)"
            ],
            "text/html": [
              "<style>#sk-container-id-2 {color: black;background-color: white;}#sk-container-id-2 pre{padding: 0;}#sk-container-id-2 div.sk-toggleable {background-color: white;}#sk-container-id-2 label.sk-toggleable__label {cursor: pointer;display: block;width: 100%;margin-bottom: 0;padding: 0.3em;box-sizing: border-box;text-align: center;}#sk-container-id-2 label.sk-toggleable__label-arrow:before {content: \"▸\";float: left;margin-right: 0.25em;color: #696969;}#sk-container-id-2 label.sk-toggleable__label-arrow:hover:before {color: black;}#sk-container-id-2 div.sk-estimator:hover label.sk-toggleable__label-arrow:before {color: black;}#sk-container-id-2 div.sk-toggleable__content {max-height: 0;max-width: 0;overflow: hidden;text-align: left;background-color: #f0f8ff;}#sk-container-id-2 div.sk-toggleable__content pre {margin: 0.2em;color: black;border-radius: 0.25em;background-color: #f0f8ff;}#sk-container-id-2 input.sk-toggleable__control:checked~div.sk-toggleable__content {max-height: 200px;max-width: 100%;overflow: auto;}#sk-container-id-2 input.sk-toggleable__control:checked~label.sk-toggleable__label-arrow:before {content: \"▾\";}#sk-container-id-2 div.sk-estimator input.sk-toggleable__control:checked~label.sk-toggleable__label {background-color: #d4ebff;}#sk-container-id-2 div.sk-label input.sk-toggleable__control:checked~label.sk-toggleable__label {background-color: #d4ebff;}#sk-container-id-2 input.sk-hidden--visually {border: 0;clip: rect(1px 1px 1px 1px);clip: rect(1px, 1px, 1px, 1px);height: 1px;margin: -1px;overflow: hidden;padding: 0;position: absolute;width: 1px;}#sk-container-id-2 div.sk-estimator {font-family: monospace;background-color: #f0f8ff;border: 1px dotted black;border-radius: 0.25em;box-sizing: border-box;margin-bottom: 0.5em;}#sk-container-id-2 div.sk-estimator:hover {background-color: #d4ebff;}#sk-container-id-2 div.sk-parallel-item::after {content: \"\";width: 100%;border-bottom: 1px solid gray;flex-grow: 1;}#sk-container-id-2 div.sk-label:hover label.sk-toggleable__label {background-color: #d4ebff;}#sk-container-id-2 div.sk-serial::before {content: \"\";position: absolute;border-left: 1px solid gray;box-sizing: border-box;top: 0;bottom: 0;left: 50%;z-index: 0;}#sk-container-id-2 div.sk-serial {display: flex;flex-direction: column;align-items: center;background-color: white;padding-right: 0.2em;padding-left: 0.2em;position: relative;}#sk-container-id-2 div.sk-item {position: relative;z-index: 1;}#sk-container-id-2 div.sk-parallel {display: flex;align-items: stretch;justify-content: center;background-color: white;position: relative;}#sk-container-id-2 div.sk-item::before, #sk-container-id-2 div.sk-parallel-item::before {content: \"\";position: absolute;border-left: 1px solid gray;box-sizing: border-box;top: 0;bottom: 0;left: 50%;z-index: -1;}#sk-container-id-2 div.sk-parallel-item {display: flex;flex-direction: column;z-index: 1;position: relative;background-color: white;}#sk-container-id-2 div.sk-parallel-item:first-child::after {align-self: flex-end;width: 50%;}#sk-container-id-2 div.sk-parallel-item:last-child::after {align-self: flex-start;width: 50%;}#sk-container-id-2 div.sk-parallel-item:only-child::after {width: 0;}#sk-container-id-2 div.sk-dashed-wrapped {border: 1px dashed gray;margin: 0 0.4em 0.5em 0.4em;box-sizing: border-box;padding-bottom: 0.4em;background-color: white;}#sk-container-id-2 div.sk-label label {font-family: monospace;font-weight: bold;display: inline-block;line-height: 1.2em;}#sk-container-id-2 div.sk-label-container {text-align: center;}#sk-container-id-2 div.sk-container {/* jupyter's `normalize.less` sets `[hidden] { display: none; }` but bootstrap.min.css set `[hidden] { display: none !important; }` so we also need the `!important` here to be able to override the default hidden behavior on the sphinx rendered scikit-learn.org. See: https://github.com/scikit-learn/scikit-learn/issues/21755 */display: inline-block !important;position: relative;}#sk-container-id-2 div.sk-text-repr-fallback {display: none;}</style><div id=\"sk-container-id-2\" class=\"sk-top-container\"><div class=\"sk-text-repr-fallback\"><pre>RandomForestClassifier(n_estimators=200, n_jobs=-1, random_state=1)</pre><b>In a Jupyter environment, please rerun this cell to show the HTML representation or trust the notebook. <br />On GitHub, the HTML representation is unable to render, please try loading this page with nbviewer.org.</b></div><div class=\"sk-container\" hidden><div class=\"sk-item\"><div class=\"sk-estimator sk-toggleable\"><input class=\"sk-toggleable__control sk-hidden--visually\" id=\"sk-estimator-id-2\" type=\"checkbox\" checked><label for=\"sk-estimator-id-2\" class=\"sk-toggleable__label sk-toggleable__label-arrow\">RandomForestClassifier</label><div class=\"sk-toggleable__content\"><pre>RandomForestClassifier(n_estimators=200, n_jobs=-1, random_state=1)</pre></div></div></div></div></div>"
            ]
          },
          "metadata": {},
          "execution_count": 43
        }
      ]
    },
    {
      "cell_type": "code",
      "metadata": {
        "id": "UCT2LIRVspQm",
        "colab": {
          "base_uri": "https://localhost:8080/"
        },
        "outputId": "b73f3c50-3ba9-4a12-facf-fac9d8175c2e"
      },
      "source": [
        "# 3. Make predictions\n",
        "y_pred_rf = model_rf.predict(X_test)\n",
        "y_pred_rf"
      ],
      "execution_count": null,
      "outputs": [
        {
          "output_type": "execute_result",
          "data": {
            "text/plain": [
              "array([1, 0, 0, ..., 0, 0, 0])"
            ]
          },
          "metadata": {},
          "execution_count": 44
        }
      ]
    },
    {
      "cell_type": "markdown",
      "source": [
        "Use `.predict_proba()` instead if you want probabilistic outputs over class outputs."
      ],
      "metadata": {
        "id": "StcejcXe-M2B"
      }
    },
    {
      "cell_type": "code",
      "source": [
        "y_pred_prob_rf = model_rf.predict_proba(X_test)\n",
        "y_pred_prob_rf # the two columns represent the prob of 0 and 1 respectively"
      ],
      "metadata": {
        "colab": {
          "base_uri": "https://localhost:8080/"
        },
        "id": "HQvw6z-R-C_H",
        "outputId": "5cfedc99-5742-4810-fa37-1627bd9f5530"
      },
      "execution_count": null,
      "outputs": [
        {
          "output_type": "execute_result",
          "data": {
            "text/plain": [
              "array([[0.21 , 0.79 ],\n",
              "       [0.88 , 0.12 ],\n",
              "       [1.   , 0.   ],\n",
              "       ...,\n",
              "       [0.92 , 0.08 ],\n",
              "       [0.985, 0.015],\n",
              "       [1.   , 0.   ]])"
            ]
          },
          "metadata": {},
          "execution_count": 45
        }
      ]
    },
    {
      "cell_type": "markdown",
      "metadata": {
        "id": "tTRnCjeQo99E"
      },
      "source": [
        "---\n",
        "\n",
        "## 3.3. Evaluation"
      ]
    },
    {
      "cell_type": "code",
      "metadata": {
        "colab": {
          "base_uri": "https://localhost:8080/"
        },
        "outputId": "04974e1c-f227-4732-80bf-037223cdf1d5",
        "id": "rh64-ZXb0F2g"
      },
      "source": [
        "# to calculate accuracy:\n",
        "accuracy_score(y_test, y_pred_rf)"
      ],
      "execution_count": null,
      "outputs": [
        {
          "output_type": "execute_result",
          "data": {
            "text/plain": [
              "0.937775517124449"
            ]
          },
          "metadata": {},
          "execution_count": 46
        }
      ]
    },
    {
      "cell_type": "code",
      "source": [
        "# to calculate F1 score:\n",
        "f1_score(y_test, y_pred_rf)"
      ],
      "metadata": {
        "colab": {
          "base_uri": "https://localhost:8080/"
        },
        "outputId": "37ee9c37-b582-4980-fddd-900290abb6cd",
        "id": "W-VaOQ2O0F2g"
      },
      "execution_count": null,
      "outputs": [
        {
          "output_type": "execute_result",
          "data": {
            "text/plain": [
              "0.5922222222222222"
            ]
          },
          "metadata": {},
          "execution_count": 47
        }
      ]
    },
    {
      "cell_type": "code",
      "metadata": {
        "colab": {
          "base_uri": "https://localhost:8080/"
        },
        "outputId": "73783c46-5da8-4510-d0bf-ff283deb2472",
        "id": "hfQ26YfW0F2g"
      },
      "source": [
        "# to display multiple classification-related metrics:\n",
        "print(classification_report(y_test, y_pred_rf, digits = 3))"
      ],
      "execution_count": null,
      "outputs": [
        {
          "output_type": "stream",
          "name": "stdout",
          "text": [
            "              precision    recall  f1-score   support\n",
            "\n",
            "           0      0.943     0.991     0.966     10625\n",
            "           1      0.847     0.455     0.592      1171\n",
            "\n",
            "    accuracy                          0.938     11796\n",
            "   macro avg      0.895     0.723     0.779     11796\n",
            "weighted avg      0.933     0.938     0.929     11796\n",
            "\n"
          ]
        }
      ]
    },
    {
      "cell_type": "code",
      "metadata": {
        "colab": {
          "base_uri": "https://localhost:8080/",
          "height": 285
        },
        "outputId": "dc31b543-6693-4f2a-f228-f15839a84685",
        "id": "hvx6CR3_0F2h"
      },
      "source": [
        "# to visualise a confusion matrix using a heatmap:\n",
        "# recall-related metrics (% of row)\n",
        "ConfusionMatrixDisplay.from_estimator(model_rf, X_test, y_test, normalize = 'true')\n",
        "plt.grid(False)"
      ],
      "execution_count": null,
      "outputs": [
        {
          "output_type": "display_data",
          "data": {
            "text/plain": [
              "<Figure size 432x288 with 2 Axes>"
            ],
            "image/png": "[encoded data removed]"
          },
          "metadata": {}
        }
      ]
    },
    {
      "cell_type": "code",
      "metadata": {
        "colab": {
          "base_uri": "https://localhost:8080/",
          "height": 285
        },
        "outputId": "93081377-047e-420f-81e7-0ba270cd476d",
        "id": "wDmTEmj50F2h"
      },
      "source": [
        "# precision-related metrics (% of column)\n",
        "ConfusionMatrixDisplay.from_estimator(model_rf, X_test, y_test, normalize = 'pred')\n",
        "plt.grid(False)"
      ],
      "execution_count": null,
      "outputs": [
        {
          "output_type": "display_data",
          "data": {
            "text/plain": [
              "<Figure size 432x288 with 2 Axes>"
            ],
            "image/png": "[encoded data removed]"
          },
          "metadata": {}
        }
      ]
    },
    {
      "cell_type": "code",
      "metadata": {
        "colab": {
          "base_uri": "https://localhost:8080/",
          "height": 412
        },
        "outputId": "8976856f-e702-48ee-a60a-56224d43273d",
        "id": "IXFS_6wa0F2h"
      },
      "source": [
        "# to plot an ROC:\n",
        "fig, ax = plt.subplots(figsize=(6, 6)) # modify figure size\n",
        "RocCurveDisplay.from_estimator(model_rf, X_test, y_test, ax = ax)"
      ],
      "execution_count": null,
      "outputs": [
        {
          "output_type": "execute_result",
          "data": {
            "text/plain": [
              "<sklearn.metrics._plot.roc_curve.RocCurveDisplay at 0x7f9ab2ff0c40>"
            ]
          },
          "metadata": {},
          "execution_count": 51
        },
        {
          "output_type": "display_data",
          "data": {
            "text/plain": [
              "<Figure size 432x432 with 1 Axes>"
            ],
            "image/png": "[encoded data removed]"
          },
          "metadata": {}
        }
      ]
    },
    {
      "cell_type": "code",
      "source": [
        "# to calculate Area under ROC:\n",
        "roc_auc_score(y_test, y_pred_prob_rf[:,1])"
      ],
      "metadata": {
        "colab": {
          "base_uri": "https://localhost:8080/"
        },
        "outputId": "b66f2d60-ce2a-4e64-873a-9923756747bc",
        "id": "CrDfANwx0F2h"
      },
      "execution_count": null,
      "outputs": [
        {
          "output_type": "execute_result",
          "data": {
            "text/plain": [
              "0.9306062390114029"
            ]
          },
          "metadata": {},
          "execution_count": 52
        }
      ]
    },
    {
      "cell_type": "markdown",
      "source": [
        "Let us compare the performance of the two models with the table below:"
      ],
      "metadata": {
        "id": "XRRNrTkR30eU"
      }
    },
    {
      "cell_type": "code",
      "source": [
        "pd.DataFrame({\n",
        "    'Random Forest': [\n",
        "        accuracy_score(y_test, y_pred_rf),\n",
        "        f1_score(y_test, y_pred_rf),\n",
        "        precision_score(y_test, y_pred_rf),\n",
        "        recall_score(y_test, y_pred_rf),\n",
        "        roc_auc_score(y_test, y_pred_prob_rf[:,1])\n",
        "    ],\n",
        "    'Logistic Regression': [\n",
        "        accuracy_score(y_test, y_pred_lr),\n",
        "        f1_score(y_test, y_pred_lr),\n",
        "        precision_score(y_test, y_pred_lr),\n",
        "        recall_score(y_test, y_pred_lr),\n",
        "        roc_auc_score(y_test, y_pred_prob_lr[:,1])\n",
        "    ]\n",
        "    }, index=[\n",
        "        'Accuracy', 'F1 Score', 'Precision', 'Recall', 'ROC'\n",
        "    ])"
      ],
      "metadata": {
        "colab": {
          "base_uri": "https://localhost:8080/",
          "height": 206
        },
        "id": "tm8XLBR_2bZU",
        "outputId": "c7214df8-b939-4cb9-dd05-331ec07462f3"
      },
      "execution_count": null,
      "outputs": [
        {
          "output_type": "execute_result",
          "data": {
            "text/plain": [
              "           Random Forest  Logistic Regression\n",
              "Accuracy        0.937776             0.926585\n",
              "F1 Score        0.592222             0.497680\n",
              "Precision       0.847377             0.775769\n",
              "Recall          0.455167             0.366354\n",
              "ROC             0.930606             0.857353"
            ],
            "text/html": [
              "\n",
              "  <div id=\"df-3de2660f-2c00-4ec0-b641-2fcb3782cbfa\">\n",
              "    <div class=\"colab-df-container\">\n",
              "      <div>\n",
              "<style scoped>\n",
              "    .dataframe tbody tr th:only-of-type {\n",
              "        vertical-align: middle;\n",
              "    }\n",
              "\n",
              "    .dataframe tbody tr th {\n",
              "        vertical-align: top;\n",
              "    }\n",
              "\n",
              "    .dataframe thead th {\n",
              "        text-align: right;\n",
              "    }\n",
              "</style>\n",
              "<table border=\"1\" class=\"dataframe\">\n",
              "  <thead>\n",
              "    <tr style=\"text-align: right;\">\n",
              "      <th></th>\n",
              "      <th>Random Forest</th>\n",
              "      <th>Logistic Regression</th>\n",
              "    </tr>\n",
              "  </thead>\n",
              "  <tbody>\n",
              "    <tr>\n",
              "      <th>Accuracy</th>\n",
              "      <td>0.937776</td>\n",
              "      <td>0.926585</td>\n",
              "    </tr>\n",
              "    <tr>\n",
              "      <th>F1 Score</th>\n",
              "      <td>0.592222</td>\n",
              "      <td>0.497680</td>\n",
              "    </tr>\n",
              "    <tr>\n",
              "      <th>Precision</th>\n",
              "      <td>0.847377</td>\n",
              "      <td>0.775769</td>\n",
              "    </tr>\n",
              "    <tr>\n",
              "      <th>Recall</th>\n",
              "      <td>0.455167</td>\n",
              "      <td>0.366354</td>\n",
              "    </tr>\n",
              "    <tr>\n",
              "      <th>ROC</th>\n",
              "      <td>0.930606</td>\n",
              "      <td>0.857353</td>\n",
              "    </tr>\n",
              "  </tbody>\n",
              "</table>\n",
              "</div>\n",
              "      <button class=\"colab-df-convert\" onclick=\"convertToInteractive('df-3de2660f-2c00-4ec0-b641-2fcb3782cbfa')\"\n",
              "              title=\"Convert this dataframe to an interactive table.\"\n",
              "              style=\"display:none;\">\n",
              "        \n",
              "  <svg xmlns=\"http://www.w3.org/2000/svg\" height=\"24px\"viewBox=\"0 0 24 24\"\n",
              "       width=\"24px\">\n",
              "    <path d=\"M0 0h24v24H0V0z\" fill=\"none\"/>\n",
              "    <path d=\"M18.56 5.44l.94 2.06.94-2.06 2.06-.94-2.06-.94-.94-2.06-.94 2.06-2.06.94zm-11 1L8.5 8.5l.94-2.06 2.06-.94-2.06-.94L8.5 2.5l-.94 2.06-2.06.94zm10 10l.94 2.06.94-2.06 2.06-.94-2.06-.94-.94-2.06-.94 2.06-2.06.94z\"/><path d=\"M17.41 7.96l-1.37-1.37c-.4-.4-.92-.59-1.43-.59-.52 0-1.04.2-1.43.59L10.3 9.45l-7.72 7.72c-.78.78-.78 2.05 0 2.83L4 21.41c.39.39.9.59 1.41.59.51 0 1.02-.2 1.41-.59l7.78-7.78 2.81-2.81c.8-.78.8-2.07 0-2.86zM5.41 20L4 18.59l7.72-7.72 1.47 1.35L5.41 20z\"/>\n",
              "  </svg>\n",
              "      </button>\n",
              "      \n",
              "  <style>\n",
              "    .colab-df-container {\n",
              "      display:flex;\n",
              "      flex-wrap:wrap;\n",
              "      gap: 12px;\n",
              "    }\n",
              "\n",
              "    .colab-df-convert {\n",
              "      background-color: #E8F0FE;\n",
              "      border: none;\n",
              "      border-radius: 50%;\n",
              "      cursor: pointer;\n",
              "      display: none;\n",
              "      fill: #1967D2;\n",
              "      height: 32px;\n",
              "      padding: 0 0 0 0;\n",
              "      width: 32px;\n",
              "    }\n",
              "\n",
              "    .colab-df-convert:hover {\n",
              "      background-color: #E2EBFA;\n",
              "      box-shadow: 0px 1px 2px rgba(60, 64, 67, 0.3), 0px 1px 3px 1px rgba(60, 64, 67, 0.15);\n",
              "      fill: #174EA6;\n",
              "    }\n",
              "\n",
              "    [theme=dark] .colab-df-convert {\n",
              "      background-color: #3B4455;\n",
              "      fill: #D2E3FC;\n",
              "    }\n",
              "\n",
              "    [theme=dark] .colab-df-convert:hover {\n",
              "      background-color: #434B5C;\n",
              "      box-shadow: 0px 1px 3px 1px rgba(0, 0, 0, 0.15);\n",
              "      filter: drop-shadow(0px 1px 2px rgba(0, 0, 0, 0.3));\n",
              "      fill: #FFFFFF;\n",
              "    }\n",
              "  </style>\n",
              "\n",
              "      <script>\n",
              "        const buttonEl =\n",
              "          document.querySelector('#df-3de2660f-2c00-4ec0-b641-2fcb3782cbfa button.colab-df-convert');\n",
              "        buttonEl.style.display =\n",
              "          google.colab.kernel.accessAllowed ? 'block' : 'none';\n",
              "\n",
              "        async function convertToInteractive(key) {\n",
              "          const element = document.querySelector('#df-3de2660f-2c00-4ec0-b641-2fcb3782cbfa');\n",
              "          const dataTable =\n",
              "            await google.colab.kernel.invokeFunction('convertToInteractive',\n",
              "                                                     [key], {});\n",
              "          if (!dataTable) return;\n",
              "\n",
              "          const docLinkHtml = 'Like what you see? Visit the ' +\n",
              "            '<a target=\"_blank\" href=https://colab.research.google.com/notebooks/data_table.ipynb>data table notebook</a>'\n",
              "            + ' to learn more about interactive tables.';\n",
              "          element.innerHTML = '';\n",
              "          dataTable['output_type'] = 'display_data';\n",
              "          await google.colab.output.renderOutput(dataTable, element);\n",
              "          const docLink = document.createElement('div');\n",
              "          docLink.innerHTML = docLinkHtml;\n",
              "          element.appendChild(docLink);\n",
              "        }\n",
              "      </script>\n",
              "    </div>\n",
              "  </div>\n",
              "  "
            ]
          },
          "metadata": {},
          "execution_count": 53
        }
      ]
    },
    {
      "cell_type": "markdown",
      "source": [
        "**Some Observations**\n",
        "\n",
        "* This model outperforms the logistic regression model we have trained last tutorial in several metrics:\n",
        "* The recall is still not optimal at 45.5%, meaning that only around half of those who died within their hospital stay is successfully detected by the model. Depending on the objectives of your model, it **could be beneficial to choose another cutoff point** for binary classification predictions rather than the default 0.5. One might prioritise recall over precision if the impact of having false negatives outweighs false positives. For example, for cancer prediction, minimising the risk of unidentified positive cases (hence delayed treatment) could outweigh the inconvenience and costs incurred by additional checkup appointments for negative cases."
      ],
      "metadata": {
        "id": "WyAb-_xW_MxN"
      }
    },
    {
      "cell_type": "markdown",
      "source": [
        "### Tuning Cutoffs"
      ],
      "metadata": {
        "id": "fblQEKR54Yf5"
      }
    },
    {
      "cell_type": "markdown",
      "source": [
        "As an example, let's lower the cutoff to 0.2 so that more patients will be classified as positive (hence higher recall at the cost of lower precision). We can use the probablistic outputs from the model (saved in `y_pred_prob_rf`) and define a new cutoff ourselves."
      ],
      "metadata": {
        "id": "TNuIVcnEGjwW"
      }
    },
    {
      "cell_type": "code",
      "source": [
        "sns.histplot(y_pred_prob_rf[:,1])"
      ],
      "metadata": {
        "colab": {
          "base_uri": "https://localhost:8080/",
          "height": 286
        },
        "id": "iPptwIMgGamH",
        "outputId": "41fa057a-843d-43d5-fbab-22c9cbff6d13"
      },
      "execution_count": null,
      "outputs": [
        {
          "output_type": "execute_result",
          "data": {
            "text/plain": [
              "<AxesSubplot:ylabel='Count'>"
            ]
          },
          "metadata": {},
          "execution_count": 54
        },
        {
          "output_type": "display_data",
          "data": {
            "text/plain": [
              "<Figure size 432x288 with 1 Axes>"
            ],
            "image/png": "[encoded data removed]"
          },
          "metadata": {}
        }
      ]
    },
    {
      "cell_type": "code",
      "source": [
        "y_pred_rf_cutoff20 = (y_pred_prob_rf[:,1] > 0.2) * 1\n",
        "y_pred_rf_cutoff20"
      ],
      "metadata": {
        "colab": {
          "base_uri": "https://localhost:8080/"
        },
        "id": "p2qPSGj_G2Fg",
        "outputId": "1993d44f-e63f-42e1-8b20-273ba689593c"
      },
      "execution_count": null,
      "outputs": [
        {
          "output_type": "execute_result",
          "data": {
            "text/plain": [
              "array([1, 0, 0, ..., 0, 0, 0])"
            ]
          },
          "metadata": {},
          "execution_count": 55
        }
      ]
    },
    {
      "cell_type": "code",
      "source": [
        "pd.Series(y_pred_rf).value_counts() # 0.5 as cutoff by default"
      ],
      "metadata": {
        "colab": {
          "base_uri": "https://localhost:8080/"
        },
        "id": "aqGg-IOjJeHb",
        "outputId": "d66475ac-7016-4190-a9c4-66b00e6fedd2"
      },
      "execution_count": null,
      "outputs": [
        {
          "output_type": "execute_result",
          "data": {
            "text/plain": [
              "0    11167\n",
              "1      629\n",
              "dtype: int64"
            ]
          },
          "metadata": {},
          "execution_count": 56
        }
      ]
    },
    {
      "cell_type": "code",
      "source": [
        "pd.Series(y_pred_rf_cutoff20).value_counts() # 0.2 as cutoff"
      ],
      "metadata": {
        "colab": {
          "base_uri": "https://localhost:8080/"
        },
        "id": "hGvflppzJig7",
        "outputId": "4a6c5d13-b324-40e5-bef4-70454aab33a2"
      },
      "execution_count": null,
      "outputs": [
        {
          "output_type": "execute_result",
          "data": {
            "text/plain": [
              "0    10116\n",
              "1     1680\n",
              "dtype: int64"
            ]
          },
          "metadata": {},
          "execution_count": 57
        }
      ]
    },
    {
      "cell_type": "code",
      "source": [
        "# to display multiple classification-related metrics:\n",
        "print(classification_report(y_test, y_pred_rf_cutoff20, digits = 3))"
      ],
      "metadata": {
        "colab": {
          "base_uri": "https://localhost:8080/"
        },
        "id": "lC1xcM7fHcui",
        "outputId": "c76e7ab7-be81-4ea3-bdd4-c4d3ee71e689"
      },
      "execution_count": null,
      "outputs": [
        {
          "output_type": "stream",
          "name": "stdout",
          "text": [
            "              precision    recall  f1-score   support\n",
            "\n",
            "           0      0.972     0.925     0.948     10625\n",
            "           1      0.527     0.757     0.622      1171\n",
            "\n",
            "    accuracy                          0.909     11796\n",
            "   macro avg      0.750     0.841     0.785     11796\n",
            "weighted avg      0.928     0.909     0.916     11796\n",
            "\n"
          ]
        }
      ]
    },
    {
      "cell_type": "code",
      "source": [
        "# recall-related metrics (% of row)\n",
        "ConfusionMatrixDisplay.from_predictions(y_test, y_pred_rf_cutoff20, normalize = 'true')\n",
        "plt.grid(False)"
      ],
      "metadata": {
        "colab": {
          "base_uri": "https://localhost:8080/",
          "height": 285
        },
        "id": "KZLit0sqHtPG",
        "outputId": "b8b17ea6-aa18-4c95-ba9e-bcb88fa74466"
      },
      "execution_count": null,
      "outputs": [
        {
          "output_type": "display_data",
          "data": {
            "text/plain": [
              "<Figure size 432x288 with 2 Axes>"
            ],
            "image/png": "[encoded data removed]"
          },
          "metadata": {}
        }
      ]
    },
    {
      "cell_type": "code",
      "source": [
        "# precision-related metrics (% of column)\n",
        "ConfusionMatrixDisplay.from_predictions(y_test, y_pred_rf_cutoff20, normalize = 'pred')\n",
        "plt.grid(False)"
      ],
      "metadata": {
        "colab": {
          "base_uri": "https://localhost:8080/",
          "height": 285
        },
        "id": "mXPKg4uKIELC",
        "outputId": "5629ab13-b752-4df7-8cbb-219b155f1558"
      },
      "execution_count": null,
      "outputs": [
        {
          "output_type": "display_data",
          "data": {
            "text/plain": [
              "<Figure size 432x288 with 2 Axes>"
            ],
            "image/png": "[encoded data removed]"
          },
          "metadata": {}
        }
      ]
    },
    {
      "cell_type": "markdown",
      "source": [
        "* As we lower the cutoff, more patients were classified as positive (613 -> 1,680), leading to a better recall (45.5% -> 75.7%) and a worse precision (84.7% -> 52.7%)"
      ],
      "metadata": {
        "id": "Goa26L0mJAtL"
      }
    },
    {
      "cell_type": "markdown",
      "metadata": {
        "id": "sgSQuIWj2JVA"
      },
      "source": [
        "---\n",
        "\n",
        "## 3.4. Understanding a Random Forest Model\n",
        "\n",
        "One major strength of tree-based machine learning models is its inherent ability to easily report **feature importance**. This could be useful to finding insights in the model."
      ]
    },
    {
      "cell_type": "code",
      "metadata": {
        "colab": {
          "base_uri": "https://localhost:8080/"
        },
        "id": "ZQryJO6r3Hm5",
        "outputId": "aee1b30e-dbfb-4cef-bdee-a479fb39cc0c"
      },
      "source": [
        "model_rf_importance = pd.Series(model_rf.feature_importances_, index = features_list).sort_values(ascending=False)\n",
        "model_rf_importance"
      ],
      "execution_count": null,
      "outputs": [
        {
          "output_type": "execute_result",
          "data": {
            "text/plain": [
              "LAB_COUNT_DAY                       0.164881\n",
              "CPT_COUNT_DAY                       0.081782\n",
              "INPUTS_CV_COUNT_DAY                 0.080389\n",
              "PRES_COUNT_DAY                      0.069207\n",
              "LOS                                 0.066490\n",
              "LOS_ICU                             0.061324\n",
              "MICRO_COUNT_DAY                     0.061143\n",
              "AGE                                 0.059491\n",
              "OUTPUT_COUNT_DAY                    0.059189\n",
              "PROC_COUNT_DAY                      0.054549\n",
              "TRANSFER_COUNT_DAY                  0.049298\n",
              "CALLOUT_COUNT_DAY                   0.045224\n",
              "INPUTS_MV_COUNT_DAY                 0.039719\n",
              "INSURANCE_Medicare                  0.008577\n",
              "GENDER_F                            0.007219\n",
              "ADMISSION_TYPE_EMERGENCY            0.006919\n",
              "MARITAL_STATUS_MARRIED              0.006389\n",
              "RELIGION_CATHOLIC                   0.006148\n",
              "RELIGION_OTHERS                     0.006050\n",
              "MARITAL_STATUS_SINGLE               0.005674\n",
              "RELIGION_UNOBTAINABLE               0.005625\n",
              "ETHNICITY_WHITE                     0.005170\n",
              "MARITAL_STATUS_OTHERS               0.005148\n",
              "INSURANCE_Private                   0.004928\n",
              "RELIGION_NOT SPECIFIED              0.004903\n",
              "MARITAL_STATUS_UNKNOWN (DEFAULT)    0.004802\n",
              "ETHNICITY_UNKNOWN/NOT SPECIFIED     0.004368\n",
              "ADMISSION_TYPE_ELECTIVE             0.003658\n",
              "ETHNICITY_OTHERS                    0.003423\n",
              "ETHNICITY_BLACK/AFRICAN AMERICAN    0.003140\n",
              "LANGUAGE_ENGL                       0.003076\n",
              "INSURANCE_Medicaid                  0.002596\n",
              "LANGUAGE_OTHERS                     0.002524\n",
              "LANGUAGE_RUSS                       0.001789\n",
              "INSURANCE_OTHERS                    0.001560\n",
              "ADMISSION_TYPE_URGENT               0.001462\n",
              "LANGUAGE_SPAN                       0.001086\n",
              "ADMISSION_TYPE_NEWBORN              0.001079\n",
              "dtype: float64"
            ]
          },
          "metadata": {},
          "execution_count": 61
        }
      ]
    },
    {
      "cell_type": "code",
      "metadata": {
        "colab": {
          "base_uri": "https://localhost:8080/",
          "height": 612
        },
        "id": "HxSsX1dc3e3r",
        "outputId": "46edf6e4-7a89-4057-efdf-196d0c3b8d0c"
      },
      "source": [
        "plt.figure(figsize = (10, 10))\n",
        "sns.barplot(x = model_rf_importance, y = model_rf_importance.index)"
      ],
      "execution_count": null,
      "outputs": [
        {
          "output_type": "execute_result",
          "data": {
            "text/plain": [
              "<AxesSubplot:>"
            ]
          },
          "metadata": {},
          "execution_count": 62
        },
        {
          "output_type": "display_data",
          "data": {
            "text/plain": [
              "<Figure size 720x720 with 1 Axes>"
            ],
            "image/png": "[encoded data removed]"
          },
          "metadata": {}
        }
      ]
    },
    {
      "cell_type": "markdown",
      "metadata": {
        "id": "N-5l_n25hGIw"
      },
      "source": [
        "## 3.5. Saving and Loading your trained model\n",
        "\n",
        "After training a model you might want to save your model to your Google Drive so that you do not need to re-train it next time. (As a side note, due to the random nature of most machine learning algorithms, if you did not set a random seed (`random_state`) while training, you would end up with a model with different trained parameters when you re-train a model)"
      ]
    },
    {
      "cell_type": "code",
      "metadata": {
        "id": "sT3b-nFyhFeJ"
      },
      "source": [
        "import joblib"
      ],
      "execution_count": null,
      "outputs": []
    },
    {
      "cell_type": "markdown",
      "metadata": {
        "id": "hCQcVCAfizIk"
      },
      "source": [
        "To save:"
      ]
    },
    {
      "cell_type": "code",
      "metadata": {
        "colab": {
          "base_uri": "https://localhost:8080/"
        },
        "id": "Hn79ixExiQoJ",
        "outputId": "ca45bf4c-b03e-4abc-f25d-4c3a788141c5"
      },
      "source": [
        "joblib.dump(model_rf, gdrive_rootpath + 'mimic_in_hosp_mortality_model_rf.joblib') # specify your filename here"
      ],
      "execution_count": null,
      "outputs": [
        {
          "output_type": "execute_result",
          "data": {
            "text/plain": [
              "['/content/gdrive/MyDrive/mimic_in_hosp_mortality_model_rf.joblib']"
            ]
          },
          "metadata": {},
          "execution_count": 64
        }
      ]
    },
    {
      "cell_type": "markdown",
      "metadata": {
        "id": "Mglo1oGMi2X7"
      },
      "source": [
        "To load:"
      ]
    },
    {
      "cell_type": "code",
      "metadata": {
        "id": "6aKNGrqaidOb"
      },
      "source": [
        "model_rf_loaded = joblib.load(gdrive_rootpath + 'mimic_in_hosp_mortality_model_rf.joblib') # specify your filename here"
      ],
      "execution_count": null,
      "outputs": []
    },
    {
      "cell_type": "code",
      "metadata": {
        "colab": {
          "base_uri": "https://localhost:8080/",
          "height": 74
        },
        "id": "PHez_PgUir71",
        "outputId": "a846bad4-a23e-4039-b61a-bea1189b8da6"
      },
      "source": [
        "model_rf_loaded"
      ],
      "execution_count": null,
      "outputs": [
        {
          "output_type": "execute_result",
          "data": {
            "text/plain": [
              "RandomForestClassifier(n_estimators=200, n_jobs=-1, random_state=1)"
            ],
            "text/html": [
              "<style>#sk-container-id-3 {color: black;background-color: white;}#sk-container-id-3 pre{padding: 0;}#sk-container-id-3 div.sk-toggleable {background-color: white;}#sk-container-id-3 label.sk-toggleable__label {cursor: pointer;display: block;width: 100%;margin-bottom: 0;padding: 0.3em;box-sizing: border-box;text-align: center;}#sk-container-id-3 label.sk-toggleable__label-arrow:before {content: \"▸\";float: left;margin-right: 0.25em;color: #696969;}#sk-container-id-3 label.sk-toggleable__label-arrow:hover:before {color: black;}#sk-container-id-3 div.sk-estimator:hover label.sk-toggleable__label-arrow:before {color: black;}#sk-container-id-3 div.sk-toggleable__content {max-height: 0;max-width: 0;overflow: hidden;text-align: left;background-color: #f0f8ff;}#sk-container-id-3 div.sk-toggleable__content pre {margin: 0.2em;color: black;border-radius: 0.25em;background-color: #f0f8ff;}#sk-container-id-3 input.sk-toggleable__control:checked~div.sk-toggleable__content {max-height: 200px;max-width: 100%;overflow: auto;}#sk-container-id-3 input.sk-toggleable__control:checked~label.sk-toggleable__label-arrow:before {content: \"▾\";}#sk-container-id-3 div.sk-estimator input.sk-toggleable__control:checked~label.sk-toggleable__label {background-color: #d4ebff;}#sk-container-id-3 div.sk-label input.sk-toggleable__control:checked~label.sk-toggleable__label {background-color: #d4ebff;}#sk-container-id-3 input.sk-hidden--visually {border: 0;clip: rect(1px 1px 1px 1px);clip: rect(1px, 1px, 1px, 1px);height: 1px;margin: -1px;overflow: hidden;padding: 0;position: absolute;width: 1px;}#sk-container-id-3 div.sk-estimator {font-family: monospace;background-color: #f0f8ff;border: 1px dotted black;border-radius: 0.25em;box-sizing: border-box;margin-bottom: 0.5em;}#sk-container-id-3 div.sk-estimator:hover {background-color: #d4ebff;}#sk-container-id-3 div.sk-parallel-item::after {content: \"\";width: 100%;border-bottom: 1px solid gray;flex-grow: 1;}#sk-container-id-3 div.sk-label:hover label.sk-toggleable__label {background-color: #d4ebff;}#sk-container-id-3 div.sk-serial::before {content: \"\";position: absolute;border-left: 1px solid gray;box-sizing: border-box;top: 0;bottom: 0;left: 50%;z-index: 0;}#sk-container-id-3 div.sk-serial {display: flex;flex-direction: column;align-items: center;background-color: white;padding-right: 0.2em;padding-left: 0.2em;position: relative;}#sk-container-id-3 div.sk-item {position: relative;z-index: 1;}#sk-container-id-3 div.sk-parallel {display: flex;align-items: stretch;justify-content: center;background-color: white;position: relative;}#sk-container-id-3 div.sk-item::before, #sk-container-id-3 div.sk-parallel-item::before {content: \"\";position: absolute;border-left: 1px solid gray;box-sizing: border-box;top: 0;bottom: 0;left: 50%;z-index: -1;}#sk-container-id-3 div.sk-parallel-item {display: flex;flex-direction: column;z-index: 1;position: relative;background-color: white;}#sk-container-id-3 div.sk-parallel-item:first-child::after {align-self: flex-end;width: 50%;}#sk-container-id-3 div.sk-parallel-item:last-child::after {align-self: flex-start;width: 50%;}#sk-container-id-3 div.sk-parallel-item:only-child::after {width: 0;}#sk-container-id-3 div.sk-dashed-wrapped {border: 1px dashed gray;margin: 0 0.4em 0.5em 0.4em;box-sizing: border-box;padding-bottom: 0.4em;background-color: white;}#sk-container-id-3 div.sk-label label {font-family: monospace;font-weight: bold;display: inline-block;line-height: 1.2em;}#sk-container-id-3 div.sk-label-container {text-align: center;}#sk-container-id-3 div.sk-container {/* jupyter's `normalize.less` sets `[hidden] { display: none; }` but bootstrap.min.css set `[hidden] { display: none !important; }` so we also need the `!important` here to be able to override the default hidden behavior on the sphinx rendered scikit-learn.org. See: https://github.com/scikit-learn/scikit-learn/issues/21755 */display: inline-block !important;position: relative;}#sk-container-id-3 div.sk-text-repr-fallback {display: none;}</style><div id=\"sk-container-id-3\" class=\"sk-top-container\"><div class=\"sk-text-repr-fallback\"><pre>RandomForestClassifier(n_estimators=200, n_jobs=-1, random_state=1)</pre><b>In a Jupyter environment, please rerun this cell to show the HTML representation or trust the notebook. <br />On GitHub, the HTML representation is unable to render, please try loading this page with nbviewer.org.</b></div><div class=\"sk-container\" hidden><div class=\"sk-item\"><div class=\"sk-estimator sk-toggleable\"><input class=\"sk-toggleable__control sk-hidden--visually\" id=\"sk-estimator-id-3\" type=\"checkbox\" checked><label for=\"sk-estimator-id-3\" class=\"sk-toggleable__label sk-toggleable__label-arrow\">RandomForestClassifier</label><div class=\"sk-toggleable__content\"><pre>RandomForestClassifier(n_estimators=200, n_jobs=-1, random_state=1)</pre></div></div></div></div></div>"
            ]
          },
          "metadata": {},
          "execution_count": 66
        }
      ]
    },
    {
      "cell_type": "markdown",
      "metadata": {
        "id": "4ABKsxHLhb_i"
      },
      "source": [
        "# References\n",
        "\n",
        "* [Which machine learning algorithm should I use?](https://blogs.sas.com/content/subconsciousmusings/2020/12/09/machine-learning-algorithm-use/)\n",
        "![](https://blogs.sas.com/content/subconsciousmusings/files/2017/04/machine-learning-cheet-sheet-2.png)\n",
        "* [Decision Tree vs. Random Forest – Which Algorithm Should you Use?](https://www.analyticsvidhya.com/blog/2020/05/decision-tree-vs-random-forest-algorithm/)\n",
        "* [Train/Test Split and Cross Validation in Python](https://towardsdatascience.com/train-test-split-and-cross-validation-in-python-80b61beca4b6)\n"
      ]
    }
  ]
}