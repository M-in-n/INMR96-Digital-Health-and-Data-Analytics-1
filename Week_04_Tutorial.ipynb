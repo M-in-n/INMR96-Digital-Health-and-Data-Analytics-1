{
  "nbformat": 4,
  "nbformat_minor": 0,
  "metadata": {
    "colab": {
      "provenance": [],
      "collapsed_sections": [
        "RHMovLZzdK1-",
        "PQrXW4H5gyx1",
        "rkmZF1sQyfYW",
        "LPkT1DX1jERI",
        "OXeZHUGWsqYl",
        "8ZL1ZPqtyXJu",
        "l8Gk5JKnWGg2",
        "gWZL0TaEX1Vm",
        "c8ZfEneG1y_Q",
        "I-VkxWkgZP0S"
      ],
      "toc_visible": true,
      "authorship_tag": "ABX9TyM9W/qNUPjByjv/rawVgzEV",
      "include_colab_link": true
    },
    "kernelspec": {
      "name": "python3",
      "display_name": "Python 3"
    },
    "language_info": {
      "name": "python"
    },
    "widgets": {
      "application/vnd.jupyter.widget-state+json": {
        "0caa1548df324e6ba6f5d4bdd1424b6c": {
          "model_module": "@jupyter-widgets/controls",
          "model_name": "HBoxModel",
          "model_module_version": "1.5.0",
          "state": {
            "_dom_classes": [],
            "_model_module": "@jupyter-widgets/controls",
            "_model_module_version": "1.5.0",
            "_model_name": "HBoxModel",
            "_view_count": null,
            "_view_module": "@jupyter-widgets/controls",
            "_view_module_version": "1.5.0",
            "_view_name": "HBoxView",
            "box_style": "",
            "children": [
              "IPY_MODEL_d32dde9ff52d41569bcf0ac406f3194b",
              "IPY_MODEL_4881c0d1c6044f8aaa29791b475bdf96",
              "IPY_MODEL_280b51cf9cb2414cba23e5f04249d720"
            ],
            "layout": "IPY_MODEL_fb3bdd9440534fb6b58a7af732e33d6d"
          }
        },
        "d32dde9ff52d41569bcf0ac406f3194b": {
          "model_module": "@jupyter-widgets/controls",
          "model_name": "HTMLModel",
          "model_module_version": "1.5.0",
          "state": {
            "_dom_classes": [],
            "_model_module": "@jupyter-widgets/controls",
            "_model_module_version": "1.5.0",
            "_model_name": "HTMLModel",
            "_view_count": null,
            "_view_module": "@jupyter-widgets/controls",
            "_view_module_version": "1.5.0",
            "_view_name": "HTMLView",
            "description": "",
            "description_tooltip": null,
            "layout": "IPY_MODEL_8f160153895147149b680d8ba0d35c89",
            "placeholder": "​",
            "style": "IPY_MODEL_f9c947ed8c7742e38439458bdae9a1ff",
            "value": "Job ID 7c8965f8-25ca-4d93-b00c-192ce801ef98 successfully executed: 100%"
          }
        },
        "4881c0d1c6044f8aaa29791b475bdf96": {
          "model_module": "@jupyter-widgets/controls",
          "model_name": "FloatProgressModel",
          "model_module_version": "1.5.0",
          "state": {
            "_dom_classes": [],
            "_model_module": "@jupyter-widgets/controls",
            "_model_module_version": "1.5.0",
            "_model_name": "FloatProgressModel",
            "_view_count": null,
            "_view_module": "@jupyter-widgets/controls",
            "_view_module_version": "1.5.0",
            "_view_name": "ProgressView",
            "bar_style": "success",
            "description": "",
            "description_tooltip": null,
            "layout": "IPY_MODEL_3afd5bac679a4e0f8754f92387a207e1",
            "max": 1,
            "min": 0,
            "orientation": "horizontal",
            "style": "IPY_MODEL_076da07f2899485ab17fe6438415433d",
            "value": 1
          }
        },
        "280b51cf9cb2414cba23e5f04249d720": {
          "model_module": "@jupyter-widgets/controls",
          "model_name": "HTMLModel",
          "model_module_version": "1.5.0",
          "state": {
            "_dom_classes": [],
            "_model_module": "@jupyter-widgets/controls",
            "_model_module_version": "1.5.0",
            "_model_name": "HTMLModel",
            "_view_count": null,
            "_view_module": "@jupyter-widgets/controls",
            "_view_module_version": "1.5.0",
            "_view_name": "HTMLView",
            "description": "",
            "description_tooltip": null,
            "layout": "IPY_MODEL_9198b8cb4bc84b2a85ee70e867f38d1e",
            "placeholder": "​",
            "style": "IPY_MODEL_e5322a8410904b5aa256e634522b40b7",
            "value": ""
          }
        },
        "fb3bdd9440534fb6b58a7af732e33d6d": {
          "model_module": "@jupyter-widgets/base",
          "model_name": "LayoutModel",
          "model_module_version": "1.2.0",
          "state": {
            "_model_module": "@jupyter-widgets/base",
            "_model_module_version": "1.2.0",
            "_model_name": "LayoutModel",
            "_view_count": null,
            "_view_module": "@jupyter-widgets/base",
            "_view_module_version": "1.2.0",
            "_view_name": "LayoutView",
            "align_content": null,
            "align_items": null,
            "align_self": null,
            "border": null,
            "bottom": null,
            "display": null,
            "flex": null,
            "flex_flow": null,
            "grid_area": null,
            "grid_auto_columns": null,
            "grid_auto_flow": null,
            "grid_auto_rows": null,
            "grid_column": null,
            "grid_gap": null,
            "grid_row": null,
            "grid_template_areas": null,
            "grid_template_columns": null,
            "grid_template_rows": null,
            "height": null,
            "justify_content": null,
            "justify_items": null,
            "left": null,
            "margin": null,
            "max_height": null,
            "max_width": null,
            "min_height": null,
            "min_width": null,
            "object_fit": null,
            "object_position": null,
            "order": null,
            "overflow": null,
            "overflow_x": null,
            "overflow_y": null,
            "padding": null,
            "right": null,
            "top": null,
            "visibility": null,
            "width": null
          }
        },
        "8f160153895147149b680d8ba0d35c89": {
          "model_module": "@jupyter-widgets/base",
          "model_name": "LayoutModel",
          "model_module_version": "1.2.0",
          "state": {
            "_model_module": "@jupyter-widgets/base",
            "_model_module_version": "1.2.0",
            "_model_name": "LayoutModel",
            "_view_count": null,
            "_view_module": "@jupyter-widgets/base",
            "_view_module_version": "1.2.0",
            "_view_name": "LayoutView",
            "align_content": null,
            "align_items": null,
            "align_self": null,
            "border": null,
            "bottom": null,
            "display": null,
            "flex": null,
            "flex_flow": null,
            "grid_area": null,
            "grid_auto_columns": null,
            "grid_auto_flow": null,
            "grid_auto_rows": null,
            "grid_column": null,
            "grid_gap": null,
            "grid_row": null,
            "grid_template_areas": null,
            "grid_template_columns": null,
            "grid_template_rows": null,
            "height": null,
            "justify_content": null,
            "justify_items": null,
            "left": null,
            "margin": null,
            "max_height": null,
            "max_width": null,
            "min_height": null,
            "min_width": null,
            "object_fit": null,
            "object_position": null,
            "order": null,
            "overflow": null,
            "overflow_x": null,
            "overflow_y": null,
            "padding": null,
            "right": null,
            "top": null,
            "visibility": null,
            "width": null
          }
        },
        "f9c947ed8c7742e38439458bdae9a1ff": {
          "model_module": "@jupyter-widgets/controls",
          "model_name": "DescriptionStyleModel",
          "model_module_version": "1.5.0",
          "state": {
            "_model_module": "@jupyter-widgets/controls",
            "_model_module_version": "1.5.0",
            "_model_name": "DescriptionStyleModel",
            "_view_count": null,
            "_view_module": "@jupyter-widgets/base",
            "_view_module_version": "1.2.0",
            "_view_name": "StyleView",
            "description_width": ""
          }
        },
        "3afd5bac679a4e0f8754f92387a207e1": {
          "model_module": "@jupyter-widgets/base",
          "model_name": "LayoutModel",
          "model_module_version": "1.2.0",
          "state": {
            "_model_module": "@jupyter-widgets/base",
            "_model_module_version": "1.2.0",
            "_model_name": "LayoutModel",
            "_view_count": null,
            "_view_module": "@jupyter-widgets/base",
            "_view_module_version": "1.2.0",
            "_view_name": "LayoutView",
            "align_content": null,
            "align_items": null,
            "align_self": null,
            "border": null,
            "bottom": null,
            "display": null,
            "flex": null,
            "flex_flow": null,
            "grid_area": null,
            "grid_auto_columns": null,
            "grid_auto_flow": null,
            "grid_auto_rows": null,
            "grid_column": null,
            "grid_gap": null,
            "grid_row": null,
            "grid_template_areas": null,
            "grid_template_columns": null,
            "grid_template_rows": null,
            "height": null,
            "justify_content": null,
            "justify_items": null,
            "left": null,
            "margin": null,
            "max_height": null,
            "max_width": null,
            "min_height": null,
            "min_width": null,
            "object_fit": null,
            "object_position": null,
            "order": null,
            "overflow": null,
            "overflow_x": null,
            "overflow_y": null,
            "padding": null,
            "right": null,
            "top": null,
            "visibility": null,
            "width": null
          }
        },
        "076da07f2899485ab17fe6438415433d": {
          "model_module": "@jupyter-widgets/controls",
          "model_name": "ProgressStyleModel",
          "model_module_version": "1.5.0",
          "state": {
            "_model_module": "@jupyter-widgets/controls",
            "_model_module_version": "1.5.0",
            "_model_name": "ProgressStyleModel",
            "_view_count": null,
            "_view_module": "@jupyter-widgets/base",
            "_view_module_version": "1.2.0",
            "_view_name": "StyleView",
            "bar_color": null,
            "description_width": ""
          }
        },
        "9198b8cb4bc84b2a85ee70e867f38d1e": {
          "model_module": "@jupyter-widgets/base",
          "model_name": "LayoutModel",
          "model_module_version": "1.2.0",
          "state": {
            "_model_module": "@jupyter-widgets/base",
            "_model_module_version": "1.2.0",
            "_model_name": "LayoutModel",
            "_view_count": null,
            "_view_module": "@jupyter-widgets/base",
            "_view_module_version": "1.2.0",
            "_view_name": "LayoutView",
            "align_content": null,
            "align_items": null,
            "align_self": null,
            "border": null,
            "bottom": null,
            "display": null,
            "flex": null,
            "flex_flow": null,
            "grid_area": null,
            "grid_auto_columns": null,
            "grid_auto_flow": null,
            "grid_auto_rows": null,
            "grid_column": null,
            "grid_gap": null,
            "grid_row": null,
            "grid_template_areas": null,
            "grid_template_columns": null,
            "grid_template_rows": null,
            "height": null,
            "justify_content": null,
            "justify_items": null,
            "left": null,
            "margin": null,
            "max_height": null,
            "max_width": null,
            "min_height": null,
            "min_width": null,
            "object_fit": null,
            "object_position": null,
            "order": null,
            "overflow": null,
            "overflow_x": null,
            "overflow_y": null,
            "padding": null,
            "right": null,
            "top": null,
            "visibility": null,
            "width": null
          }
        },
        "e5322a8410904b5aa256e634522b40b7": {
          "model_module": "@jupyter-widgets/controls",
          "model_name": "DescriptionStyleModel",
          "model_module_version": "1.5.0",
          "state": {
            "_model_module": "@jupyter-widgets/controls",
            "_model_module_version": "1.5.0",
            "_model_name": "DescriptionStyleModel",
            "_view_count": null,
            "_view_module": "@jupyter-widgets/base",
            "_view_module_version": "1.2.0",
            "_view_name": "StyleView",
            "description_width": ""
          }
        },
        "4ca88693a41d4885a61211de41cd7bd6": {
          "model_module": "@jupyter-widgets/controls",
          "model_name": "HBoxModel",
          "model_module_version": "1.5.0",
          "state": {
            "_dom_classes": [],
            "_model_module": "@jupyter-widgets/controls",
            "_model_module_version": "1.5.0",
            "_model_name": "HBoxModel",
            "_view_count": null,
            "_view_module": "@jupyter-widgets/controls",
            "_view_module_version": "1.5.0",
            "_view_name": "HBoxView",
            "box_style": "",
            "children": [
              "IPY_MODEL_e5e9ccfbe4284ae5899da7eab51c3409",
              "IPY_MODEL_9c0e48fa47df449fba20629ff9d07dfb",
              "IPY_MODEL_dff8300f69984af1bb91e0d6a08a2b00"
            ],
            "layout": "IPY_MODEL_e602dea9ca16448ba3ac91a7ce7cf8be"
          }
        },
        "e5e9ccfbe4284ae5899da7eab51c3409": {
          "model_module": "@jupyter-widgets/controls",
          "model_name": "HTMLModel",
          "model_module_version": "1.5.0",
          "state": {
            "_dom_classes": [],
            "_model_module": "@jupyter-widgets/controls",
            "_model_module_version": "1.5.0",
            "_model_name": "HTMLModel",
            "_view_count": null,
            "_view_module": "@jupyter-widgets/controls",
            "_view_module_version": "1.5.0",
            "_view_name": "HTMLView",
            "description": "",
            "description_tooltip": null,
            "layout": "IPY_MODEL_0f081645295c4c6485c850be453c77c6",
            "placeholder": "​",
            "style": "IPY_MODEL_e551f487ae5242629bfdd13d9fa8d560",
            "value": "Downloading: 100%"
          }
        },
        "9c0e48fa47df449fba20629ff9d07dfb": {
          "model_module": "@jupyter-widgets/controls",
          "model_name": "FloatProgressModel",
          "model_module_version": "1.5.0",
          "state": {
            "_dom_classes": [],
            "_model_module": "@jupyter-widgets/controls",
            "_model_module_version": "1.5.0",
            "_model_name": "FloatProgressModel",
            "_view_count": null,
            "_view_module": "@jupyter-widgets/controls",
            "_view_module_version": "1.5.0",
            "_view_name": "ProgressView",
            "bar_style": "success",
            "description": "",
            "description_tooltip": null,
            "layout": "IPY_MODEL_bd5fc34ba94b4d8e8460460ba34c0e72",
            "max": 58976,
            "min": 0,
            "orientation": "horizontal",
            "style": "IPY_MODEL_0b5cdb298aa2442795b4cefd61b4eb63",
            "value": 58976
          }
        },
        "dff8300f69984af1bb91e0d6a08a2b00": {
          "model_module": "@jupyter-widgets/controls",
          "model_name": "HTMLModel",
          "model_module_version": "1.5.0",
          "state": {
            "_dom_classes": [],
            "_model_module": "@jupyter-widgets/controls",
            "_model_module_version": "1.5.0",
            "_model_name": "HTMLModel",
            "_view_count": null,
            "_view_module": "@jupyter-widgets/controls",
            "_view_module_version": "1.5.0",
            "_view_name": "HTMLView",
            "description": "",
            "description_tooltip": null,
            "layout": "IPY_MODEL_5083216d0ad14054b015a0b4a3ff6978",
            "placeholder": "​",
            "style": "IPY_MODEL_48a820bbf8d4444286d266bf10fee9a7",
            "value": ""
          }
        },
        "e602dea9ca16448ba3ac91a7ce7cf8be": {
          "model_module": "@jupyter-widgets/base",
          "model_name": "LayoutModel",
          "model_module_version": "1.2.0",
          "state": {
            "_model_module": "@jupyter-widgets/base",
            "_model_module_version": "1.2.0",
            "_model_name": "LayoutModel",
            "_view_count": null,
            "_view_module": "@jupyter-widgets/base",
            "_view_module_version": "1.2.0",
            "_view_name": "LayoutView",
            "align_content": null,
            "align_items": null,
            "align_self": null,
            "border": null,
            "bottom": null,
            "display": null,
            "flex": null,
            "flex_flow": null,
            "grid_area": null,
            "grid_auto_columns": null,
            "grid_auto_flow": null,
            "grid_auto_rows": null,
            "grid_column": null,
            "grid_gap": null,
            "grid_row": null,
            "grid_template_areas": null,
            "grid_template_columns": null,
            "grid_template_rows": null,
            "height": null,
            "justify_content": null,
            "justify_items": null,
            "left": null,
            "margin": null,
            "max_height": null,
            "max_width": null,
            "min_height": null,
            "min_width": null,
            "object_fit": null,
            "object_position": null,
            "order": null,
            "overflow": null,
            "overflow_x": null,
            "overflow_y": null,
            "padding": null,
            "right": null,
            "top": null,
            "visibility": null,
            "width": null
          }
        },
        "0f081645295c4c6485c850be453c77c6": {
          "model_module": "@jupyter-widgets/base",
          "model_name": "LayoutModel",
          "model_module_version": "1.2.0",
          "state": {
            "_model_module": "@jupyter-widgets/base",
            "_model_module_version": "1.2.0",
            "_model_name": "LayoutModel",
            "_view_count": null,
            "_view_module": "@jupyter-widgets/base",
            "_view_module_version": "1.2.0",
            "_view_name": "LayoutView",
            "align_content": null,
            "align_items": null,
            "align_self": null,
            "border": null,
            "bottom": null,
            "display": null,
            "flex": null,
            "flex_flow": null,
            "grid_area": null,
            "grid_auto_columns": null,
            "grid_auto_flow": null,
            "grid_auto_rows": null,
            "grid_column": null,
            "grid_gap": null,
            "grid_row": null,
            "grid_template_areas": null,
            "grid_template_columns": null,
            "grid_template_rows": null,
            "height": null,
            "justify_content": null,
            "justify_items": null,
            "left": null,
            "margin": null,
            "max_height": null,
            "max_width": null,
            "min_height": null,
            "min_width": null,
            "object_fit": null,
            "object_position": null,
            "order": null,
            "overflow": null,
            "overflow_x": null,
            "overflow_y": null,
            "padding": null,
            "right": null,
            "top": null,
            "visibility": null,
            "width": null
          }
        },
        "e551f487ae5242629bfdd13d9fa8d560": {
          "model_module": "@jupyter-widgets/controls",
          "model_name": "DescriptionStyleModel",
          "model_module_version": "1.5.0",
          "state": {
            "_model_module": "@jupyter-widgets/controls",
            "_model_module_version": "1.5.0",
            "_model_name": "DescriptionStyleModel",
            "_view_count": null,
            "_view_module": "@jupyter-widgets/base",
            "_view_module_version": "1.2.0",
            "_view_name": "StyleView",
            "description_width": ""
          }
        },
        "bd5fc34ba94b4d8e8460460ba34c0e72": {
          "model_module": "@jupyter-widgets/base",
          "model_name": "LayoutModel",
          "model_module_version": "1.2.0",
          "state": {
            "_model_module": "@jupyter-widgets/base",
            "_model_module_version": "1.2.0",
            "_model_name": "LayoutModel",
            "_view_count": null,
            "_view_module": "@jupyter-widgets/base",
            "_view_module_version": "1.2.0",
            "_view_name": "LayoutView",
            "align_content": null,
            "align_items": null,
            "align_self": null,
            "border": null,
            "bottom": null,
            "display": null,
            "flex": null,
            "flex_flow": null,
            "grid_area": null,
            "grid_auto_columns": null,
            "grid_auto_flow": null,
            "grid_auto_rows": null,
            "grid_column": null,
            "grid_gap": null,
            "grid_row": null,
            "grid_template_areas": null,
            "grid_template_columns": null,
            "grid_template_rows": null,
            "height": null,
            "justify_content": null,
            "justify_items": null,
            "left": null,
            "margin": null,
            "max_height": null,
            "max_width": null,
            "min_height": null,
            "min_width": null,
            "object_fit": null,
            "object_position": null,
            "order": null,
            "overflow": null,
            "overflow_x": null,
            "overflow_y": null,
            "padding": null,
            "right": null,
            "top": null,
            "visibility": null,
            "width": null
          }
        },
        "0b5cdb298aa2442795b4cefd61b4eb63": {
          "model_module": "@jupyter-widgets/controls",
          "model_name": "ProgressStyleModel",
          "model_module_version": "1.5.0",
          "state": {
            "_model_module": "@jupyter-widgets/controls",
            "_model_module_version": "1.5.0",
            "_model_name": "ProgressStyleModel",
            "_view_count": null,
            "_view_module": "@jupyter-widgets/base",
            "_view_module_version": "1.2.0",
            "_view_name": "StyleView",
            "bar_color": null,
            "description_width": ""
          }
        },
        "5083216d0ad14054b015a0b4a3ff6978": {
          "model_module": "@jupyter-widgets/base",
          "model_name": "LayoutModel",
          "model_module_version": "1.2.0",
          "state": {
            "_model_module": "@jupyter-widgets/base",
            "_model_module_version": "1.2.0",
            "_model_name": "LayoutModel",
            "_view_count": null,
            "_view_module": "@jupyter-widgets/base",
            "_view_module_version": "1.2.0",
            "_view_name": "LayoutView",
            "align_content": null,
            "align_items": null,
            "align_self": null,
            "border": null,
            "bottom": null,
            "display": null,
            "flex": null,
            "flex_flow": null,
            "grid_area": null,
            "grid_auto_columns": null,
            "grid_auto_flow": null,
            "grid_auto_rows": null,
            "grid_column": null,
            "grid_gap": null,
            "grid_row": null,
            "grid_template_areas": null,
            "grid_template_columns": null,
            "grid_template_rows": null,
            "height": null,
            "justify_content": null,
            "justify_items": null,
            "left": null,
            "margin": null,
            "max_height": null,
            "max_width": null,
            "min_height": null,
            "min_width": null,
            "object_fit": null,
            "object_position": null,
            "order": null,
            "overflow": null,
            "overflow_x": null,
            "overflow_y": null,
            "padding": null,
            "right": null,
            "top": null,
            "visibility": null,
            "width": null
          }
        },
        "48a820bbf8d4444286d266bf10fee9a7": {
          "model_module": "@jupyter-widgets/controls",
          "model_name": "DescriptionStyleModel",
          "model_module_version": "1.5.0",
          "state": {
            "_model_module": "@jupyter-widgets/controls",
            "_model_module_version": "1.5.0",
            "_model_name": "DescriptionStyleModel",
            "_view_count": null,
            "_view_module": "@jupyter-widgets/base",
            "_view_module_version": "1.2.0",
            "_view_name": "StyleView",
            "description_width": ""
          }
        }
      }
    }
  },
  "cells": [
    {
      "cell_type": "markdown",
      "metadata": {
        "id": "view-in-github",
        "colab_type": "text"
      },
      "source": [
        "<a href=\"https://colab.research.google.com/github/nbchan/INMR96-Digital-Health-and-Data-Analytics/blob/main/Week_04_Tutorial.ipynb\" target=\"_parent\"><img src=\"https://colab.research.google.com/assets/colab-badge.svg\" alt=\"Open In Colab\"/></a>"
      ]
    },
    {
      "cell_type": "markdown",
      "source": [
        "# Python Basics"
      ],
      "metadata": {
        "id": "LsNx0hbQb7Gy"
      }
    },
    {
      "cell_type": "markdown",
      "metadata": {
        "id": "6ojj317Cb2oI"
      },
      "source": [
        "## Exercise 1\n",
        "\n",
        "Given the a person's height is 5 ft 9 inches, use the variables below to compute the person's height in meters and assign it to `person_height_m`.\n",
        "\n",
        "(1 feet = 0.3048 meters; 1 inch = 0.0254 meters)"
      ]
    },
    {
      "cell_type": "code",
      "metadata": {
        "id": "IlZBDbI0b1Q9"
      },
      "source": [
        "person_height_ft = 5\n",
        "person_height_inch = 9"
      ],
      "execution_count": null,
      "outputs": []
    },
    {
      "cell_type": "markdown",
      "metadata": {
        "id": "RHMovLZzdK1-"
      },
      "source": [
        "### Suggested solution"
      ]
    },
    {
      "cell_type": "code",
      "metadata": {
        "colab": {
          "base_uri": "https://localhost:8080/"
        },
        "id": "1s1C6b1AdMrw",
        "outputId": "dade3971-8727-42e3-bb2b-4cbab614afdb"
      },
      "source": [
        "person_height_m = person_height_ft * 0.3048 + person_height_inch * 0.0254\n",
        "person_height_m"
      ],
      "execution_count": null,
      "outputs": [
        {
          "output_type": "execute_result",
          "data": {
            "text/plain": [
              "1.7526"
            ]
          },
          "metadata": {},
          "execution_count": 43
        }
      ]
    },
    {
      "cell_type": "markdown",
      "metadata": {
        "id": "tkkR7glafLBn"
      },
      "source": [
        "---\n",
        "\n",
        "## Exercise 2\n",
        "\n",
        "The person above weighs 111 kilograms. What is the person's body-mass index (BMI; assign it to `person_bmi`)?\n",
        "\n",
        "Is the person overweight based on the criteria BMI > 25 (assign it to `person_overweight`)?"
      ]
    },
    {
      "cell_type": "code",
      "metadata": {
        "id": "L_T2nz-hfLXG"
      },
      "source": [
        "person_weight = 111"
      ],
      "execution_count": null,
      "outputs": []
    },
    {
      "cell_type": "markdown",
      "metadata": {
        "id": "PQrXW4H5gyx1"
      },
      "source": [
        "### Suggested Solution"
      ]
    },
    {
      "cell_type": "code",
      "metadata": {
        "colab": {
          "base_uri": "https://localhost:8080/"
        },
        "id": "SnbykzPze6sd",
        "outputId": "e52010f0-3eb4-4bd3-ab24-071a13ec2c17"
      },
      "source": [
        "person_bmi = person_weight / (person_height_m ** 2) \n",
        "person_bmi"
      ],
      "execution_count": null,
      "outputs": [
        {
          "output_type": "execute_result",
          "data": {
            "text/plain": [
              "36.13743837443567"
            ]
          },
          "metadata": {},
          "execution_count": 45
        }
      ]
    },
    {
      "cell_type": "code",
      "metadata": {
        "colab": {
          "base_uri": "https://localhost:8080/"
        },
        "id": "WNdun93mgpUN",
        "outputId": "c748d559-0ea5-43e5-b6a0-2c031fec3ce5"
      },
      "source": [
        "person_overweight = person_bmi > 25\n",
        "person_overweight"
      ],
      "execution_count": null,
      "outputs": [
        {
          "output_type": "execute_result",
          "data": {
            "text/plain": [
              "True"
            ]
          },
          "metadata": {},
          "execution_count": 46
        }
      ]
    },
    {
      "cell_type": "markdown",
      "metadata": {
        "id": "CpBqoQGbxAum"
      },
      "source": [
        "---\n",
        "\n",
        "## Exercise 3\n",
        "\n",
        "Using the body temperature list `patients_body_temperature`, create a list that indicates\n",
        "\n",
        "1. their body temperatures in °F (multiply values in °C by 1.8 and then add 32).\n",
        "2. whether they have fever, as defined by body temperatures over 37.6°C."
      ]
    },
    {
      "cell_type": "code",
      "metadata": {
        "id": "ad7Cfgmx0ggP"
      },
      "source": [
        "patients_body_temperature = [36.4, 37.8, 37, 35.8, 35.6, 36.2, 36.4, 36.9, 37.5, 36.4]"
      ],
      "execution_count": null,
      "outputs": []
    },
    {
      "cell_type": "markdown",
      "metadata": {
        "id": "rkmZF1sQyfYW"
      },
      "source": [
        "### Suggested solution"
      ]
    },
    {
      "cell_type": "markdown",
      "metadata": {
        "id": "hgsT-USkyvKY"
      },
      "source": [
        "3.1 "
      ]
    },
    {
      "cell_type": "code",
      "metadata": {
        "colab": {
          "base_uri": "https://localhost:8080/"
        },
        "id": "h4aQoNDUymYs",
        "outputId": "b871eb76-084e-4a15-f53d-89b504d54efa"
      },
      "source": [
        "patients_body_temperature_f = []\n",
        "\n",
        "for x in patients_body_temperature: # loop through the original list\n",
        "    patients_body_temperature_f.append(x * 1.8 + 32)\n",
        "\n",
        "print(patients_body_temperature_f)"
      ],
      "execution_count": null,
      "outputs": [
        {
          "output_type": "stream",
          "name": "stdout",
          "text": [
            "[97.52, 100.03999999999999, 98.60000000000001, 96.44, 96.08, 97.16000000000001, 97.52, 98.42, 99.5, 97.52]\n"
          ]
        }
      ]
    },
    {
      "cell_type": "code",
      "metadata": {
        "colab": {
          "base_uri": "https://localhost:8080/"
        },
        "id": "SlkJPguwy1PV",
        "outputId": "8c3b13b9-2e0b-411c-9e9f-e4395224ece1"
      },
      "source": [
        "# alternative\n",
        "patients_body_temperature_f = [x * 1.8 + 32 for x in patients_body_temperature]\n",
        "print(patients_body_temperature_f)"
      ],
      "execution_count": null,
      "outputs": [
        {
          "output_type": "stream",
          "name": "stdout",
          "text": [
            "[97.52, 100.03999999999999, 98.60000000000001, 96.44, 96.08, 97.16000000000001, 97.52, 98.42, 99.5, 97.52]\n"
          ]
        }
      ]
    },
    {
      "cell_type": "markdown",
      "metadata": {
        "id": "3Zpp4AokzGG3"
      },
      "source": [
        "3.2"
      ]
    },
    {
      "cell_type": "code",
      "metadata": {
        "colab": {
          "base_uri": "https://localhost:8080/"
        },
        "id": "6XwaXmQ9zElR",
        "outputId": "df22f4fa-dde8-4e0f-c200-981e51fe90d2"
      },
      "source": [
        "patients_fever = []\n",
        "\n",
        "for x in patients_body_temperature: # loop through the original list\n",
        "    patients_fever.append(x > 37.6)\n",
        "\n",
        "print(patients_fever)"
      ],
      "execution_count": null,
      "outputs": [
        {
          "output_type": "stream",
          "name": "stdout",
          "text": [
            "[False, True, False, False, False, False, False, False, False, False]\n"
          ]
        }
      ]
    },
    {
      "cell_type": "code",
      "metadata": {
        "colab": {
          "base_uri": "https://localhost:8080/"
        },
        "id": "M0EuOzpJzQJ_",
        "outputId": "0ad669ee-86ab-4966-84dd-24750852f0ce"
      },
      "source": [
        "# alternative\n",
        "patients_body_temperature_f = [x > 37.6 for x in patients_body_temperature]\n",
        "print(patients_body_temperature_f)"
      ],
      "execution_count": null,
      "outputs": [
        {
          "output_type": "stream",
          "name": "stdout",
          "text": [
            "[False, True, False, False, False, False, False, False, False, False]\n"
          ]
        }
      ]
    },
    {
      "cell_type": "markdown",
      "source": [
        "---\n",
        "\n",
        "## Exercise 4\n",
        "\n",
        "ICD-10 codes consist of three or more characters. Every code begins with an alphabet, which is indicative of the **chapter** to which the code is classified. The second and third characters are numbers. The first three characters of ICD-10 are indicative of the **category**, which describes the general type of the injury or disease.\n",
        "\n",
        "Based on the list of ICD-10 codes below, \n",
        "\n",
        "1. extract the second code from the list.\n",
        "2. extract the last code from the list.\n",
        "3. extract the respective ICD10 chapter of each code. Assign it to `sample_icd10_chapter`\n",
        "4. extract the respective ICD10 category of each code. Assign it to `sample_icd10_category`.\n",
        "5. count the number of codes that belong to the chapter \"I\" (Diseases of the circulatory system)."
      ],
      "metadata": {
        "id": "BcXQJVepfQ_H"
      }
    },
    {
      "cell_type": "code",
      "source": [
        "sample_icd10_codes = [\n",
        "    'I10', # Essential (primary) hypertension \n",
        "    'C73', # Malignant neoplasm of thyroid gland\n",
        "    'E11', # Type 2 diabetes mellitus\n",
        "    'E11.9', # Type 2 diabetes mellitus without complications \n",
        "    'U07.1', # COVID-19 \n",
        "    'K26.1', # Acute duodenal ulcer with perforation\n",
        "    'I21.3', # Acute transmural myocardial infarction of unspecified site\n",
        "    'A37.81', # Whooping cough due to other Bordetella species with pneumonia\n",
        "    'I25.111' # Atherosclerotic heart disease of native coronary artery with angina pectoris with documented spasm\n",
        "]"
      ],
      "metadata": {
        "id": "H74JE56XfSqU"
      },
      "execution_count": null,
      "outputs": []
    },
    {
      "cell_type": "markdown",
      "source": [
        "### Suggested Solution"
      ],
      "metadata": {
        "id": "LPkT1DX1jERI"
      }
    },
    {
      "cell_type": "markdown",
      "source": [
        "4.1"
      ],
      "metadata": {
        "id": "k_kR6-X2jJbX"
      }
    },
    {
      "cell_type": "code",
      "source": [
        "sample_icd10_codes[1]"
      ],
      "metadata": {
        "colab": {
          "base_uri": "https://localhost:8080/"
        },
        "id": "bna5GiVIjHCC",
        "outputId": "eb4f764a-9c88-4ce4-bcbd-1d66fbd56706"
      },
      "execution_count": null,
      "outputs": [
        {
          "output_type": "execute_result",
          "data": {
            "text/plain": [
              "'C73'"
            ],
            "application/vnd.google.colaboratory.intrinsic+json": {
              "type": "string"
            }
          },
          "metadata": {},
          "execution_count": 53
        }
      ]
    },
    {
      "cell_type": "markdown",
      "source": [
        "4.2"
      ],
      "metadata": {
        "id": "ES3WkxVbjXYd"
      }
    },
    {
      "cell_type": "code",
      "source": [
        "sample_icd10_codes[-1]"
      ],
      "metadata": {
        "colab": {
          "base_uri": "https://localhost:8080/"
        },
        "id": "LxqKDb7ijZdH",
        "outputId": "99c997ad-cdcb-43e5-b5c1-48da01911dd6"
      },
      "execution_count": null,
      "outputs": [
        {
          "output_type": "execute_result",
          "data": {
            "text/plain": [
              "'I25.111'"
            ],
            "application/vnd.google.colaboratory.intrinsic+json": {
              "type": "string"
            }
          },
          "metadata": {},
          "execution_count": 54
        }
      ]
    },
    {
      "cell_type": "code",
      "source": [
        "# alternative\n",
        "sample_icd10_codes[8]"
      ],
      "metadata": {
        "colab": {
          "base_uri": "https://localhost:8080/"
        },
        "id": "3xVm4njZjZoE",
        "outputId": "9cf1e16d-6688-49ee-ac71-8e78b3141020"
      },
      "execution_count": null,
      "outputs": [
        {
          "output_type": "execute_result",
          "data": {
            "text/plain": [
              "'I25.111'"
            ],
            "application/vnd.google.colaboratory.intrinsic+json": {
              "type": "string"
            }
          },
          "metadata": {},
          "execution_count": 55
        }
      ]
    },
    {
      "cell_type": "markdown",
      "source": [
        "4.3"
      ],
      "metadata": {
        "id": "eObYRRsZjZy2"
      }
    },
    {
      "cell_type": "code",
      "source": [
        "sample_icd10_chapter = []\n",
        "\n",
        "for x in sample_icd10_codes: # loop through the original list\n",
        "    sample_icd10_chapter.append(x[0])\n",
        "\n",
        "print(sample_icd10_chapter)"
      ],
      "metadata": {
        "colab": {
          "base_uri": "https://localhost:8080/"
        },
        "id": "6J_1z1RsjZ9m",
        "outputId": "27fade5d-4963-411a-835a-de109aa4079e"
      },
      "execution_count": null,
      "outputs": [
        {
          "output_type": "stream",
          "name": "stdout",
          "text": [
            "['I', 'C', 'E', 'E', 'U', 'K', 'I', 'A', 'I']\n"
          ]
        }
      ]
    },
    {
      "cell_type": "markdown",
      "source": [
        "4.4"
      ],
      "metadata": {
        "id": "LMNOMUoHkKUI"
      }
    },
    {
      "cell_type": "code",
      "source": [
        "sample_icd10_category = []\n",
        "\n",
        "for x in sample_icd10_codes: # loop through the original list\n",
        "    sample_icd10_category.append(x[:3])\n",
        "\n",
        "print(sample_icd10_category)"
      ],
      "metadata": {
        "colab": {
          "base_uri": "https://localhost:8080/"
        },
        "id": "XvysTM5Zjyj3",
        "outputId": "c58f7c6b-95c0-4f81-a01c-554e847ec64c"
      },
      "execution_count": null,
      "outputs": [
        {
          "output_type": "stream",
          "name": "stdout",
          "text": [
            "['I10', 'C73', 'E11', 'E11', 'U07', 'K26', 'I21', 'A37', 'I25']\n"
          ]
        }
      ]
    },
    {
      "cell_type": "markdown",
      "source": [
        "4.5"
      ],
      "metadata": {
        "id": "6vqxh53PkFpg"
      }
    },
    {
      "cell_type": "code",
      "source": [
        "sample_icd10_chapter.count(\"I\")"
      ],
      "metadata": {
        "colab": {
          "base_uri": "https://localhost:8080/"
        },
        "id": "d5uBhJb5kPFA",
        "outputId": "d58dda0b-54b6-4eb6-db12-8eee496cbf52"
      },
      "execution_count": null,
      "outputs": [
        {
          "output_type": "execute_result",
          "data": {
            "text/plain": [
              "3"
            ]
          },
          "metadata": {},
          "execution_count": 58
        }
      ]
    },
    {
      "cell_type": "markdown",
      "source": [
        "---\n",
        "\n",
        "# Tabular Data in Python"
      ],
      "metadata": {
        "id": "K5EiME_SsQaX"
      }
    },
    {
      "cell_type": "markdown",
      "source": [
        "## Exercise 5\n",
        "\n",
        "Import the `pandas` package and create an alias `pd` for it."
      ],
      "metadata": {
        "id": "BmBdwQxMsYbg"
      }
    },
    {
      "cell_type": "markdown",
      "source": [
        "### Suggested Solution\n"
      ],
      "metadata": {
        "id": "OXeZHUGWsqYl"
      }
    },
    {
      "cell_type": "code",
      "source": [
        "import pandas as pd"
      ],
      "metadata": {
        "id": "xr_nBcsTsUrJ"
      },
      "execution_count": null,
      "outputs": []
    },
    {
      "cell_type": "markdown",
      "source": [
        "---\n",
        "\n",
        "## Importing MIMIC-III data from BigQuery as a Pandas DataFrame"
      ],
      "metadata": {
        "id": "BZT2suJ1spE_"
      }
    },
    {
      "cell_type": "markdown",
      "metadata": {
        "id": "UlqXFKgOALkE"
      },
      "source": [
        "### Provide your credentials to the Colab runtime\n",
        "\n",
        "Run the following code. You will be given a link that requests permission of the notebook to access your data from BigQuery. Enter that link and accept the request. You might be asked to enter your password in this step. \n",
        "\n",
        "After that, you will be given a one-time authentication token. Copy and paste it to the textbox under the link. If successful, the message \"Authenticated\" would be printed. \n",
        "\n"
      ]
    },
    {
      "cell_type": "code",
      "metadata": {
        "id": "C6C_kV_f-W3S",
        "colab": {
          "base_uri": "https://localhost:8080/"
        },
        "outputId": "b0f09894-8d58-41e5-eb7e-68f5800d7f0a"
      },
      "source": [
        "from google.colab import auth\n",
        "auth.authenticate_user()\n",
        "print('Authenticated')"
      ],
      "execution_count": null,
      "outputs": [
        {
          "output_type": "stream",
          "name": "stdout",
          "text": [
            "Authenticated\n"
          ]
        }
      ]
    },
    {
      "cell_type": "markdown",
      "metadata": {
        "id": "DSCFvXvp_fxN"
      },
      "source": [
        "**Troubleshooting**\n",
        "\n",
        "If you are unable to authenticate yourself, check for the following: \n",
        "\n",
        "* Make sure you have followed the [guide to access MIMIC-III on BigQuery](https://mimic.mit.edu/docs/gettingstarted/cloud/bigquery/).\n",
        "* Use the [Cloud Resource Manager](https://console.cloud.google.com/cloud-resource-manager) to Create a Cloud Platform project if you do not already have one. \n",
        "  * Almost all of your interactions with Google Cloud Platform (GCP) are associated with a project. Importantly, all billing for your usage must be allotted to a single project. In order to use BigQuery you must have an active project associated with your account. BigQuery offers a $300 free trial for first time users. You should not be billed for any reasonable usage for completing the module.\n",
        "* [Enable billing](https://support.google.com/cloud/answer/6293499#enable-billing) for the project."
      ]
    },
    {
      "cell_type": "markdown",
      "source": [
        "---\n",
        "\n",
        "## Exercise 6\n",
        "\n",
        "1. Write a SQL query to retrieve the entire `admissions` table in MIMIC-III. Test your query in [BigQuery](https://console.cloud.google.com/bigquery).\n",
        "2. Execute the above SQL query within Colab and save the results as a `DataFrame` called `df`. The skeleton code below is given for your reference. Your GCP project ID can be found in [Cloud Resource Manager](https://console.cloud.google.com/cloud-resource-manager).\n",
        "\n"
      ],
      "metadata": {
        "id": "AC5H2i6ptUKj"
      }
    },
    {
      "cell_type": "code",
      "source": [
        "%%bigquery --project your-project-id-here\n",
        "\n",
        "your-sql-code-here"
      ],
      "metadata": {
        "colab": {
          "base_uri": "https://localhost:8080/"
        },
        "id": "x0X54wjmuilE",
        "outputId": "a4ef1dcf-4b69-4270-a67c-4d9f3f1980b5"
      },
      "execution_count": null,
      "outputs": [
        {
          "output_type": "stream",
          "name": "stderr",
          "text": [
            "\n",
            "ERROR:\n",
            " table_id must be a fully-qualified ID in standard SQL format, e.g., \"project.dataset.table_id\", got your-sql-code-here\n"
          ]
        }
      ]
    },
    {
      "cell_type": "markdown",
      "source": [
        "### Suggested Solution"
      ],
      "metadata": {
        "id": "8ZL1ZPqtyXJu"
      }
    },
    {
      "cell_type": "markdown",
      "source": [
        "6.1\n",
        "\n",
        "The SQL query is \n",
        "\n",
        "```sql\n",
        "SELECT * FROM `physionet-data.mimiciii_clinical.admissions`\n",
        "```\n",
        "\n",
        "6.2"
      ],
      "metadata": {
        "id": "OaQef5eWuOMm"
      }
    },
    {
      "cell_type": "code",
      "source": [
        "%%bigquery df --project your-project-id-here\n",
        "\n",
        "SELECT * FROM `physionet-data.mimiciii_clinical.admissions`"
      ],
      "metadata": {
        "colab": {
          "base_uri": "https://localhost:8080/",
          "height": 81,
          "referenced_widgets": [
            "0caa1548df324e6ba6f5d4bdd1424b6c",
            "d32dde9ff52d41569bcf0ac406f3194b",
            "4881c0d1c6044f8aaa29791b475bdf96",
            "280b51cf9cb2414cba23e5f04249d720",
            "fb3bdd9440534fb6b58a7af732e33d6d",
            "8f160153895147149b680d8ba0d35c89",
            "f9c947ed8c7742e38439458bdae9a1ff",
            "3afd5bac679a4e0f8754f92387a207e1",
            "076da07f2899485ab17fe6438415433d",
            "9198b8cb4bc84b2a85ee70e867f38d1e",
            "e5322a8410904b5aa256e634522b40b7",
            "4ca88693a41d4885a61211de41cd7bd6",
            "e5e9ccfbe4284ae5899da7eab51c3409",
            "9c0e48fa47df449fba20629ff9d07dfb",
            "dff8300f69984af1bb91e0d6a08a2b00",
            "e602dea9ca16448ba3ac91a7ce7cf8be",
            "0f081645295c4c6485c850be453c77c6",
            "e551f487ae5242629bfdd13d9fa8d560",
            "bd5fc34ba94b4d8e8460460ba34c0e72",
            "0b5cdb298aa2442795b4cefd61b4eb63",
            "5083216d0ad14054b015a0b4a3ff6978",
            "48a820bbf8d4444286d266bf10fee9a7"
          ]
        },
        "id": "hA8zmnEKtLC8",
        "outputId": "c61be341-7ae8-4ad2-d567-7cb782babdc6"
      },
      "execution_count": null,
      "outputs": [
        {
          "output_type": "display_data",
          "data": {
            "text/plain": [
              "Query is running:   0%|          |"
            ],
            "application/vnd.jupyter.widget-view+json": {
              "version_major": 2,
              "version_minor": 0,
              "model_id": "0caa1548df324e6ba6f5d4bdd1424b6c"
            }
          },
          "metadata": {}
        },
        {
          "output_type": "display_data",
          "data": {
            "text/plain": [
              "Downloading:   0%|          |"
            ],
            "application/vnd.jupyter.widget-view+json": {
              "version_major": 2,
              "version_minor": 0,
              "model_id": "4ca88693a41d4885a61211de41cd7bd6"
            }
          },
          "metadata": {}
        }
      ]
    },
    {
      "cell_type": "code",
      "source": [
        "df"
      ],
      "metadata": {
        "colab": {
          "base_uri": "https://localhost:8080/",
          "height": 835
        },
        "id": "yyLyRN-ou-JJ",
        "outputId": "ec56b7cc-95cc-4479-ed3e-aff4e65ed5e9"
      },
      "execution_count": null,
      "outputs": [
        {
          "output_type": "execute_result",
          "data": {
            "text/plain": [
              "       ROW_ID  SUBJECT_ID  HADM_ID           ADMITTIME           DISCHTIME  \\\n",
              "0        3757        3115   134067 2139-02-13 03:11:00 2139-02-20 07:33:00   \n",
              "1        8689        7124   109129 2188-07-11 00:58:00 2188-08-01 12:04:00   \n",
              "2       12652       10348   121510 2133-04-16 21:12:00 2133-04-23 15:52:00   \n",
              "3       11501        9396   106469 2109-02-16 23:14:00 2109-02-23 12:01:00   \n",
              "4       11419        9333   133732 2167-10-06 18:35:00 2167-10-16 13:13:00   \n",
              "...       ...         ...      ...                 ...                 ...   \n",
              "58971     917         744   148472 2106-07-12 18:52:00 2106-07-16 17:21:00   \n",
              "58972   44966       56130   114902 2194-09-22 17:07:00 2194-10-08 12:00:00   \n",
              "58973   53532       82746   156806 2123-09-08 06:45:00 2123-09-24 17:22:00   \n",
              "58974   12305       10056   100375 2129-05-02 00:12:00 2129-05-06 13:40:00   \n",
              "58975   44640       55092   181473 2145-11-22 20:18:00 2145-11-27 14:00:00   \n",
              "\n",
              "      DEATHTIME ADMISSION_TYPE         ADMISSION_LOCATION  \\\n",
              "0           NaT      EMERGENCY       EMERGENCY ROOM ADMIT   \n",
              "1           NaT      EMERGENCY       EMERGENCY ROOM ADMIT   \n",
              "2           NaT      EMERGENCY       EMERGENCY ROOM ADMIT   \n",
              "3           NaT      EMERGENCY       EMERGENCY ROOM ADMIT   \n",
              "4           NaT         URGENT  TRANSFER FROM HOSP/EXTRAM   \n",
              "...         ...            ...                        ...   \n",
              "58971       NaT      EMERGENCY  TRANSFER FROM HOSP/EXTRAM   \n",
              "58972       NaT      EMERGENCY  CLINIC REFERRAL/PREMATURE   \n",
              "58973       NaT      EMERGENCY  CLINIC REFERRAL/PREMATURE   \n",
              "58974       NaT      EMERGENCY  TRANSFER FROM HOSP/EXTRAM   \n",
              "58975       NaT      EMERGENCY  CLINIC REFERRAL/PREMATURE   \n",
              "\n",
              "            DISCHARGE_LOCATION INSURANCE LANGUAGE             RELIGION  \\\n",
              "0                          SNF  Medicare     None                 None   \n",
              "1                          SNF  Medicare     None                 None   \n",
              "2                          SNF  Medicare     None                 None   \n",
              "3                          SNF  Medicare     None                 None   \n",
              "4                          SNF   Private     None                 None   \n",
              "...                        ...       ...      ...                  ...   \n",
              "58971         HOME HEALTH CARE  Medicare     None    PROTESTANT QUAKER   \n",
              "58972  LONG TERM CARE HOSPITAL   Private     ENGL    PROTESTANT QUAKER   \n",
              "58973  LONG TERM CARE HOSPITAL  Medicare     ENGL    PROTESTANT QUAKER   \n",
              "58974                      SNF  Medicare     None  CHRISTIAN SCIENTIST   \n",
              "58975         HOME HEALTH CARE  Medicare     ENGL  CHRISTIAN SCIENTIST   \n",
              "\n",
              "          MARITAL_STATUS              ETHNICITY           EDREGTIME  \\\n",
              "0                   None                  WHITE 2139-02-13 00:02:00   \n",
              "1                   None                  WHITE 2188-07-10 14:17:00   \n",
              "2                   None  UNKNOWN/NOT SPECIFIED 2133-04-16 19:22:00   \n",
              "3                   None                  WHITE 2109-02-16 20:58:00   \n",
              "4                   None  UNKNOWN/NOT SPECIFIED                 NaT   \n",
              "...                  ...                    ...                 ...   \n",
              "58971  UNKNOWN (DEFAULT)                  WHITE                 NaT   \n",
              "58972  UNKNOWN (DEFAULT)       UNABLE TO OBTAIN 2194-09-22 14:59:00   \n",
              "58973  UNKNOWN (DEFAULT)                  WHITE 2123-09-08 03:39:00   \n",
              "58974  UNKNOWN (DEFAULT)                  WHITE                 NaT   \n",
              "58975  UNKNOWN (DEFAULT)                  WHITE 2145-11-22 14:06:00   \n",
              "\n",
              "                EDOUTTIME                            DIAGNOSIS  \\\n",
              "0     2139-02-13 03:22:00                           STAB WOUND   \n",
              "1     2188-07-11 01:52:00         PENILE LACERATION-CELLULITIS   \n",
              "2     2133-04-16 22:17:00                   STATUS EPILEPTICUS   \n",
              "3     2109-02-16 23:42:00                    SUBDURAL HEMATOMA   \n",
              "4                     NaT              CORONARY ARTERY DISEASE   \n",
              "...                   ...                                  ...   \n",
              "58971                 NaT  CORONARY ARTERY DISEASE\\ANGIOPLASTY   \n",
              "58972 2194-09-22 18:26:00                             S/P FALL   \n",
              "58973 2123-09-08 07:55:00                                  AMS   \n",
              "58974                 NaT                               SEPSIS   \n",
              "58975 2145-11-22 21:53:00    ATRIAL FIBRILLATION;TELEMETRY;RVR   \n",
              "\n",
              "       HOSPITAL_EXPIRE_FLAG  HAS_CHARTEVENTS_DATA  \n",
              "0                         0                     1  \n",
              "1                         0                     1  \n",
              "2                         0                     1  \n",
              "3                         0                     1  \n",
              "4                         0                     1  \n",
              "...                     ...                   ...  \n",
              "58971                     0                     1  \n",
              "58972                     0                     1  \n",
              "58973                     0                     1  \n",
              "58974                     0                     1  \n",
              "58975                     0                     1  \n",
              "\n",
              "[58976 rows x 19 columns]"
            ],
            "text/html": [
              "\n",
              "  <div id=\"df-5e347945-0d36-4429-8742-3d5066ace759\">\n",
              "    <div class=\"colab-df-container\">\n",
              "      <div>\n",
              "<style scoped>\n",
              "    .dataframe tbody tr th:only-of-type {\n",
              "        vertical-align: middle;\n",
              "    }\n",
              "\n",
              "    .dataframe tbody tr th {\n",
              "        vertical-align: top;\n",
              "    }\n",
              "\n",
              "    .dataframe thead th {\n",
              "        text-align: right;\n",
              "    }\n",
              "</style>\n",
              "<table border=\"1\" class=\"dataframe\">\n",
              "  <thead>\n",
              "    <tr style=\"text-align: right;\">\n",
              "      <th></th>\n",
              "      <th>ROW_ID</th>\n",
              "      <th>SUBJECT_ID</th>\n",
              "      <th>HADM_ID</th>\n",
              "      <th>ADMITTIME</th>\n",
              "      <th>DISCHTIME</th>\n",
              "      <th>DEATHTIME</th>\n",
              "      <th>ADMISSION_TYPE</th>\n",
              "      <th>ADMISSION_LOCATION</th>\n",
              "      <th>DISCHARGE_LOCATION</th>\n",
              "      <th>INSURANCE</th>\n",
              "      <th>LANGUAGE</th>\n",
              "      <th>RELIGION</th>\n",
              "      <th>MARITAL_STATUS</th>\n",
              "      <th>ETHNICITY</th>\n",
              "      <th>EDREGTIME</th>\n",
              "      <th>EDOUTTIME</th>\n",
              "      <th>DIAGNOSIS</th>\n",
              "      <th>HOSPITAL_EXPIRE_FLAG</th>\n",
              "      <th>HAS_CHARTEVENTS_DATA</th>\n",
              "    </tr>\n",
              "  </thead>\n",
              "  <tbody>\n",
              "    <tr>\n",
              "      <th>0</th>\n",
              "      <td>3757</td>\n",
              "      <td>3115</td>\n",
              "      <td>134067</td>\n",
              "      <td>2139-02-13 03:11:00</td>\n",
              "      <td>2139-02-20 07:33:00</td>\n",
              "      <td>NaT</td>\n",
              "      <td>EMERGENCY</td>\n",
              "      <td>EMERGENCY ROOM ADMIT</td>\n",
              "      <td>SNF</td>\n",
              "      <td>Medicare</td>\n",
              "      <td>None</td>\n",
              "      <td>None</td>\n",
              "      <td>None</td>\n",
              "      <td>WHITE</td>\n",
              "      <td>2139-02-13 00:02:00</td>\n",
              "      <td>2139-02-13 03:22:00</td>\n",
              "      <td>STAB WOUND</td>\n",
              "      <td>0</td>\n",
              "      <td>1</td>\n",
              "    </tr>\n",
              "    <tr>\n",
              "      <th>1</th>\n",
              "      <td>8689</td>\n",
              "      <td>7124</td>\n",
              "      <td>109129</td>\n",
              "      <td>2188-07-11 00:58:00</td>\n",
              "      <td>2188-08-01 12:04:00</td>\n",
              "      <td>NaT</td>\n",
              "      <td>EMERGENCY</td>\n",
              "      <td>EMERGENCY ROOM ADMIT</td>\n",
              "      <td>SNF</td>\n",
              "      <td>Medicare</td>\n",
              "      <td>None</td>\n",
              "      <td>None</td>\n",
              "      <td>None</td>\n",
              "      <td>WHITE</td>\n",
              "      <td>2188-07-10 14:17:00</td>\n",
              "      <td>2188-07-11 01:52:00</td>\n",
              "      <td>PENILE LACERATION-CELLULITIS</td>\n",
              "      <td>0</td>\n",
              "      <td>1</td>\n",
              "    </tr>\n",
              "    <tr>\n",
              "      <th>2</th>\n",
              "      <td>12652</td>\n",
              "      <td>10348</td>\n",
              "      <td>121510</td>\n",
              "      <td>2133-04-16 21:12:00</td>\n",
              "      <td>2133-04-23 15:52:00</td>\n",
              "      <td>NaT</td>\n",
              "      <td>EMERGENCY</td>\n",
              "      <td>EMERGENCY ROOM ADMIT</td>\n",
              "      <td>SNF</td>\n",
              "      <td>Medicare</td>\n",
              "      <td>None</td>\n",
              "      <td>None</td>\n",
              "      <td>None</td>\n",
              "      <td>UNKNOWN/NOT SPECIFIED</td>\n",
              "      <td>2133-04-16 19:22:00</td>\n",
              "      <td>2133-04-16 22:17:00</td>\n",
              "      <td>STATUS EPILEPTICUS</td>\n",
              "      <td>0</td>\n",
              "      <td>1</td>\n",
              "    </tr>\n",
              "    <tr>\n",
              "      <th>3</th>\n",
              "      <td>11501</td>\n",
              "      <td>9396</td>\n",
              "      <td>106469</td>\n",
              "      <td>2109-02-16 23:14:00</td>\n",
              "      <td>2109-02-23 12:01:00</td>\n",
              "      <td>NaT</td>\n",
              "      <td>EMERGENCY</td>\n",
              "      <td>EMERGENCY ROOM ADMIT</td>\n",
              "      <td>SNF</td>\n",
              "      <td>Medicare</td>\n",
              "      <td>None</td>\n",
              "      <td>None</td>\n",
              "      <td>None</td>\n",
              "      <td>WHITE</td>\n",
              "      <td>2109-02-16 20:58:00</td>\n",
              "      <td>2109-02-16 23:42:00</td>\n",
              "      <td>SUBDURAL HEMATOMA</td>\n",
              "      <td>0</td>\n",
              "      <td>1</td>\n",
              "    </tr>\n",
              "    <tr>\n",
              "      <th>4</th>\n",
              "      <td>11419</td>\n",
              "      <td>9333</td>\n",
              "      <td>133732</td>\n",
              "      <td>2167-10-06 18:35:00</td>\n",
              "      <td>2167-10-16 13:13:00</td>\n",
              "      <td>NaT</td>\n",
              "      <td>URGENT</td>\n",
              "      <td>TRANSFER FROM HOSP/EXTRAM</td>\n",
              "      <td>SNF</td>\n",
              "      <td>Private</td>\n",
              "      <td>None</td>\n",
              "      <td>None</td>\n",
              "      <td>None</td>\n",
              "      <td>UNKNOWN/NOT SPECIFIED</td>\n",
              "      <td>NaT</td>\n",
              "      <td>NaT</td>\n",
              "      <td>CORONARY ARTERY DISEASE</td>\n",
              "      <td>0</td>\n",
              "      <td>1</td>\n",
              "    </tr>\n",
              "    <tr>\n",
              "      <th>...</th>\n",
              "      <td>...</td>\n",
              "      <td>...</td>\n",
              "      <td>...</td>\n",
              "      <td>...</td>\n",
              "      <td>...</td>\n",
              "      <td>...</td>\n",
              "      <td>...</td>\n",
              "      <td>...</td>\n",
              "      <td>...</td>\n",
              "      <td>...</td>\n",
              "      <td>...</td>\n",
              "      <td>...</td>\n",
              "      <td>...</td>\n",
              "      <td>...</td>\n",
              "      <td>...</td>\n",
              "      <td>...</td>\n",
              "      <td>...</td>\n",
              "      <td>...</td>\n",
              "      <td>...</td>\n",
              "    </tr>\n",
              "    <tr>\n",
              "      <th>58971</th>\n",
              "      <td>917</td>\n",
              "      <td>744</td>\n",
              "      <td>148472</td>\n",
              "      <td>2106-07-12 18:52:00</td>\n",
              "      <td>2106-07-16 17:21:00</td>\n",
              "      <td>NaT</td>\n",
              "      <td>EMERGENCY</td>\n",
              "      <td>TRANSFER FROM HOSP/EXTRAM</td>\n",
              "      <td>HOME HEALTH CARE</td>\n",
              "      <td>Medicare</td>\n",
              "      <td>None</td>\n",
              "      <td>PROTESTANT QUAKER</td>\n",
              "      <td>UNKNOWN (DEFAULT)</td>\n",
              "      <td>WHITE</td>\n",
              "      <td>NaT</td>\n",
              "      <td>NaT</td>\n",
              "      <td>CORONARY ARTERY DISEASE\\ANGIOPLASTY</td>\n",
              "      <td>0</td>\n",
              "      <td>1</td>\n",
              "    </tr>\n",
              "    <tr>\n",
              "      <th>58972</th>\n",
              "      <td>44966</td>\n",
              "      <td>56130</td>\n",
              "      <td>114902</td>\n",
              "      <td>2194-09-22 17:07:00</td>\n",
              "      <td>2194-10-08 12:00:00</td>\n",
              "      <td>NaT</td>\n",
              "      <td>EMERGENCY</td>\n",
              "      <td>CLINIC REFERRAL/PREMATURE</td>\n",
              "      <td>LONG TERM CARE HOSPITAL</td>\n",
              "      <td>Private</td>\n",
              "      <td>ENGL</td>\n",
              "      <td>PROTESTANT QUAKER</td>\n",
              "      <td>UNKNOWN (DEFAULT)</td>\n",
              "      <td>UNABLE TO OBTAIN</td>\n",
              "      <td>2194-09-22 14:59:00</td>\n",
              "      <td>2194-09-22 18:26:00</td>\n",
              "      <td>S/P FALL</td>\n",
              "      <td>0</td>\n",
              "      <td>1</td>\n",
              "    </tr>\n",
              "    <tr>\n",
              "      <th>58973</th>\n",
              "      <td>53532</td>\n",
              "      <td>82746</td>\n",
              "      <td>156806</td>\n",
              "      <td>2123-09-08 06:45:00</td>\n",
              "      <td>2123-09-24 17:22:00</td>\n",
              "      <td>NaT</td>\n",
              "      <td>EMERGENCY</td>\n",
              "      <td>CLINIC REFERRAL/PREMATURE</td>\n",
              "      <td>LONG TERM CARE HOSPITAL</td>\n",
              "      <td>Medicare</td>\n",
              "      <td>ENGL</td>\n",
              "      <td>PROTESTANT QUAKER</td>\n",
              "      <td>UNKNOWN (DEFAULT)</td>\n",
              "      <td>WHITE</td>\n",
              "      <td>2123-09-08 03:39:00</td>\n",
              "      <td>2123-09-08 07:55:00</td>\n",
              "      <td>AMS</td>\n",
              "      <td>0</td>\n",
              "      <td>1</td>\n",
              "    </tr>\n",
              "    <tr>\n",
              "      <th>58974</th>\n",
              "      <td>12305</td>\n",
              "      <td>10056</td>\n",
              "      <td>100375</td>\n",
              "      <td>2129-05-02 00:12:00</td>\n",
              "      <td>2129-05-06 13:40:00</td>\n",
              "      <td>NaT</td>\n",
              "      <td>EMERGENCY</td>\n",
              "      <td>TRANSFER FROM HOSP/EXTRAM</td>\n",
              "      <td>SNF</td>\n",
              "      <td>Medicare</td>\n",
              "      <td>None</td>\n",
              "      <td>CHRISTIAN SCIENTIST</td>\n",
              "      <td>UNKNOWN (DEFAULT)</td>\n",
              "      <td>WHITE</td>\n",
              "      <td>NaT</td>\n",
              "      <td>NaT</td>\n",
              "      <td>SEPSIS</td>\n",
              "      <td>0</td>\n",
              "      <td>1</td>\n",
              "    </tr>\n",
              "    <tr>\n",
              "      <th>58975</th>\n",
              "      <td>44640</td>\n",
              "      <td>55092</td>\n",
              "      <td>181473</td>\n",
              "      <td>2145-11-22 20:18:00</td>\n",
              "      <td>2145-11-27 14:00:00</td>\n",
              "      <td>NaT</td>\n",
              "      <td>EMERGENCY</td>\n",
              "      <td>CLINIC REFERRAL/PREMATURE</td>\n",
              "      <td>HOME HEALTH CARE</td>\n",
              "      <td>Medicare</td>\n",
              "      <td>ENGL</td>\n",
              "      <td>CHRISTIAN SCIENTIST</td>\n",
              "      <td>UNKNOWN (DEFAULT)</td>\n",
              "      <td>WHITE</td>\n",
              "      <td>2145-11-22 14:06:00</td>\n",
              "      <td>2145-11-22 21:53:00</td>\n",
              "      <td>ATRIAL FIBRILLATION;TELEMETRY;RVR</td>\n",
              "      <td>0</td>\n",
              "      <td>1</td>\n",
              "    </tr>\n",
              "  </tbody>\n",
              "</table>\n",
              "<p>58976 rows × 19 columns</p>\n",
              "</div>\n",
              "      <button class=\"colab-df-convert\" onclick=\"convertToInteractive('df-5e347945-0d36-4429-8742-3d5066ace759')\"\n",
              "              title=\"Convert this dataframe to an interactive table.\"\n",
              "              style=\"display:none;\">\n",
              "        \n",
              "  <svg xmlns=\"http://www.w3.org/2000/svg\" height=\"24px\"viewBox=\"0 0 24 24\"\n",
              "       width=\"24px\">\n",
              "    <path d=\"M0 0h24v24H0V0z\" fill=\"none\"/>\n",
              "    <path d=\"M18.56 5.44l.94 2.06.94-2.06 2.06-.94-2.06-.94-.94-2.06-.94 2.06-2.06.94zm-11 1L8.5 8.5l.94-2.06 2.06-.94-2.06-.94L8.5 2.5l-.94 2.06-2.06.94zm10 10l.94 2.06.94-2.06 2.06-.94-2.06-.94-.94-2.06-.94 2.06-2.06.94z\"/><path d=\"M17.41 7.96l-1.37-1.37c-.4-.4-.92-.59-1.43-.59-.52 0-1.04.2-1.43.59L10.3 9.45l-7.72 7.72c-.78.78-.78 2.05 0 2.83L4 21.41c.39.39.9.59 1.41.59.51 0 1.02-.2 1.41-.59l7.78-7.78 2.81-2.81c.8-.78.8-2.07 0-2.86zM5.41 20L4 18.59l7.72-7.72 1.47 1.35L5.41 20z\"/>\n",
              "  </svg>\n",
              "      </button>\n",
              "      \n",
              "  <style>\n",
              "    .colab-df-container {\n",
              "      display:flex;\n",
              "      flex-wrap:wrap;\n",
              "      gap: 12px;\n",
              "    }\n",
              "\n",
              "    .colab-df-convert {\n",
              "      background-color: #E8F0FE;\n",
              "      border: none;\n",
              "      border-radius: 50%;\n",
              "      cursor: pointer;\n",
              "      display: none;\n",
              "      fill: #1967D2;\n",
              "      height: 32px;\n",
              "      padding: 0 0 0 0;\n",
              "      width: 32px;\n",
              "    }\n",
              "\n",
              "    .colab-df-convert:hover {\n",
              "      background-color: #E2EBFA;\n",
              "      box-shadow: 0px 1px 2px rgba(60, 64, 67, 0.3), 0px 1px 3px 1px rgba(60, 64, 67, 0.15);\n",
              "      fill: #174EA6;\n",
              "    }\n",
              "\n",
              "    [theme=dark] .colab-df-convert {\n",
              "      background-color: #3B4455;\n",
              "      fill: #D2E3FC;\n",
              "    }\n",
              "\n",
              "    [theme=dark] .colab-df-convert:hover {\n",
              "      background-color: #434B5C;\n",
              "      box-shadow: 0px 1px 3px 1px rgba(0, 0, 0, 0.15);\n",
              "      filter: drop-shadow(0px 1px 2px rgba(0, 0, 0, 0.3));\n",
              "      fill: #FFFFFF;\n",
              "    }\n",
              "  </style>\n",
              "\n",
              "      <script>\n",
              "        const buttonEl =\n",
              "          document.querySelector('#df-5e347945-0d36-4429-8742-3d5066ace759 button.colab-df-convert');\n",
              "        buttonEl.style.display =\n",
              "          google.colab.kernel.accessAllowed ? 'block' : 'none';\n",
              "\n",
              "        async function convertToInteractive(key) {\n",
              "          const element = document.querySelector('#df-5e347945-0d36-4429-8742-3d5066ace759');\n",
              "          const dataTable =\n",
              "            await google.colab.kernel.invokeFunction('convertToInteractive',\n",
              "                                                     [key], {});\n",
              "          if (!dataTable) return;\n",
              "\n",
              "          const docLinkHtml = 'Like what you see? Visit the ' +\n",
              "            '<a target=\"_blank\" href=https://colab.research.google.com/notebooks/data_table.ipynb>data table notebook</a>'\n",
              "            + ' to learn more about interactive tables.';\n",
              "          element.innerHTML = '';\n",
              "          dataTable['output_type'] = 'display_data';\n",
              "          await google.colab.output.renderOutput(dataTable, element);\n",
              "          const docLink = document.createElement('div');\n",
              "          docLink.innerHTML = docLinkHtml;\n",
              "          element.appendChild(docLink);\n",
              "        }\n",
              "      </script>\n",
              "    </div>\n",
              "  </div>\n",
              "  "
            ]
          },
          "metadata": {},
          "execution_count": 66
        }
      ]
    },
    {
      "cell_type": "markdown",
      "metadata": {
        "id": "2VPxeYr-UXjh"
      },
      "source": [
        "---\n",
        "\n",
        "## Exercise 7\n",
        "\n",
        "Using the admissions table in MIMIC-III (`df`), what are the top 5 types of diagnosis at admission?"
      ]
    },
    {
      "cell_type": "markdown",
      "metadata": {
        "id": "l8Gk5JKnWGg2"
      },
      "source": [
        "### Suggested Solution"
      ]
    },
    {
      "cell_type": "code",
      "metadata": {
        "colab": {
          "base_uri": "https://localhost:8080/"
        },
        "id": "fI6uvjSoVFZa",
        "outputId": "c377600c-def8-487e-ca90-0ede54f3f57b"
      },
      "source": [
        "df['DIAGNOSIS'].value_counts()"
      ],
      "execution_count": null,
      "outputs": [
        {
          "output_type": "execute_result",
          "data": {
            "text/plain": [
              "NEWBORN                                                                                                                        7823\n",
              "PNEUMONIA                                                                                                                      1566\n",
              "SEPSIS                                                                                                                         1184\n",
              "CONGESTIVE HEART FAILURE                                                                                                        928\n",
              "CORONARY ARTERY DISEASE                                                                                                         840\n",
              "                                                                                                                               ... \n",
              "SEVERE ANEMIA                                                                                                                     1\n",
              "HYPOTENSION;WEAKNESS\\HYPOTENSION;WEAKNESS                                                                                         1\n",
              "R/O SEPTIC SHOCK                                                                                                                  1\n",
              "FEBRILE SYNDROME                                                                                                                  1\n",
              "MITRAL VALVE REGURGITATION\\ MITRAL VALVE REPLACEMENT REDO; ?AORTIC VALVE REPLACEMENT; TRICUSPID VALVE REPAIR OR REPLACEMENT       1\n",
              "Name: DIAGNOSIS, Length: 15691, dtype: int64"
            ]
          },
          "metadata": {},
          "execution_count": 67
        }
      ]
    },
    {
      "cell_type": "markdown",
      "metadata": {
        "id": "EYsJKjYZVdPq"
      },
      "source": [
        "* New born, pneumonia, sepsis, congestive heart failure, and coronary artery disease. \n",
        "\n",
        "*Note:* The output is truncated if it's too long. If you want to see more from the list, you can use slicing to do so. See the notebook \"Introduction to Python\" for details. "
      ]
    },
    {
      "cell_type": "code",
      "metadata": {
        "colab": {
          "base_uri": "https://localhost:8080/"
        },
        "id": "kmY4Dq8pVYS9",
        "outputId": "9f22bb88-a514-4b98-e41e-5981e8eba1b2"
      },
      "source": [
        "df['DIAGNOSIS'].value_counts()[:10]"
      ],
      "execution_count": null,
      "outputs": [
        {
          "output_type": "execute_result",
          "data": {
            "text/plain": [
              "NEWBORN                                                      7823\n",
              "PNEUMONIA                                                    1566\n",
              "SEPSIS                                                       1184\n",
              "CONGESTIVE HEART FAILURE                                      928\n",
              "CORONARY ARTERY DISEASE                                       840\n",
              "CHEST PAIN                                                    778\n",
              "INTRACRANIAL HEMORRHAGE                                       713\n",
              "ALTERED MENTAL STATUS                                         712\n",
              "GASTROINTESTINAL BLEED                                        686\n",
              "CORONARY ARTERY DISEASE\\CORONARY ARTERY BYPASS GRAFT /SDA     583\n",
              "Name: DIAGNOSIS, dtype: int64"
            ]
          },
          "metadata": {},
          "execution_count": 68
        }
      ]
    },
    {
      "cell_type": "markdown",
      "metadata": {
        "id": "12YScho1WKJQ"
      },
      "source": [
        "---\n",
        "\n",
        "## Exercise 8\n",
        "\n",
        "Using the admissions table in MIMIC-III (`df`), what are the unique values and respective occurrences in the column `HOSPITAL_EXPIRE_FLAG`?\n",
        "\n",
        "What is the rate of in-hospital death across all hospitalisations? (*Hint:* Check out the meaning of the variable from [MIMIC's documentation](https://mimic.mit.edu/docs/iii/tables/).)"
      ]
    },
    {
      "cell_type": "markdown",
      "metadata": {
        "id": "gWZL0TaEX1Vm"
      },
      "source": [
        "### Suggested Solution"
      ]
    },
    {
      "cell_type": "code",
      "metadata": {
        "colab": {
          "base_uri": "https://localhost:8080/"
        },
        "id": "KESCq_vjXZsZ",
        "outputId": "c999d985-bed7-436c-81e8-b3f759fd1ea3"
      },
      "source": [
        "df['HOSPITAL_EXPIRE_FLAG'].unique()"
      ],
      "execution_count": null,
      "outputs": [
        {
          "output_type": "execute_result",
          "data": {
            "text/plain": [
              "<IntegerArray>\n",
              "[0, 1]\n",
              "Length: 2, dtype: Int64"
            ]
          },
          "metadata": {},
          "execution_count": 69
        }
      ]
    },
    {
      "cell_type": "code",
      "metadata": {
        "colab": {
          "base_uri": "https://localhost:8080/"
        },
        "id": "tvK5rd0cXejW",
        "outputId": "b63c7de8-3d0a-4d78-e30e-21ff01fcaeb6"
      },
      "source": [
        "df['HOSPITAL_EXPIRE_FLAG'].value_counts()"
      ],
      "execution_count": null,
      "outputs": [
        {
          "output_type": "execute_result",
          "data": {
            "text/plain": [
              "0    53122\n",
              "1     5854\n",
              "Name: HOSPITAL_EXPIRE_FLAG, dtype: Int64"
            ]
          },
          "metadata": {},
          "execution_count": 70
        }
      ]
    },
    {
      "cell_type": "markdown",
      "metadata": {
        "id": "nJ9RoctAXu3B"
      },
      "source": [
        "The in-hospital death rate is"
      ]
    },
    {
      "cell_type": "code",
      "metadata": {
        "colab": {
          "base_uri": "https://localhost:8080/"
        },
        "id": "o7JNCLcpXhSK",
        "outputId": "e8410d17-bf71-40ce-b1da-d4dfb59ba18f"
      },
      "source": [
        "df['HOSPITAL_EXPIRE_FLAG'].mean()\n",
        "\n",
        "# or alternatively, \n",
        "# 5854 / (53122 + 5854)"
      ],
      "execution_count": null,
      "outputs": [
        {
          "output_type": "execute_result",
          "data": {
            "text/plain": [
              "0.09926071622354857"
            ]
          },
          "metadata": {},
          "execution_count": 71
        }
      ]
    },
    {
      "cell_type": "markdown",
      "source": [
        "---\n",
        "\n",
        "## Exercise 9\n",
        "\n",
        "Using the admissions table in MIMIC-III (`df`), \n",
        "\n",
        "1. what are the unique values and respective occurrences in the column `MARITAL_STATUS`?\n",
        "\n",
        "2. filter the dataset such that the column `MARITAL_STATUS` does not contain missing values, nor `'UNKNOWN (DEFAULT)'`."
      ],
      "metadata": {
        "id": "RkpJMFaPzkVk"
      }
    },
    {
      "cell_type": "markdown",
      "source": [
        "### Suggested Solution"
      ],
      "metadata": {
        "id": "c8ZfEneG1y_Q"
      }
    },
    {
      "cell_type": "markdown",
      "source": [
        "9.1"
      ],
      "metadata": {
        "id": "9W_Fe4fw0_dG"
      }
    },
    {
      "cell_type": "code",
      "source": [
        "df['MARITAL_STATUS'].value_counts()"
      ],
      "metadata": {
        "colab": {
          "base_uri": "https://localhost:8080/"
        },
        "id": "VLH6KrYm0RKI",
        "outputId": "f81f3d03-58c7-4ee6-8929-2326dba4adb0"
      },
      "execution_count": null,
      "outputs": [
        {
          "output_type": "execute_result",
          "data": {
            "text/plain": [
              "MARRIED              24239\n",
              "SINGLE               13254\n",
              "WIDOWED               7211\n",
              "DIVORCED              3213\n",
              "SEPARATED              571\n",
              "UNKNOWN (DEFAULT)      345\n",
              "LIFE PARTNER            15\n",
              "Name: MARITAL_STATUS, dtype: int64"
            ]
          },
          "metadata": {},
          "execution_count": 72
        }
      ]
    },
    {
      "cell_type": "code",
      "source": [
        "# note that `value_counts` ignores missing values by default. To include them to the count explicitly, we have to specify `dropna=False`.\n",
        "df['MARITAL_STATUS'].value_counts(dropna=False)"
      ],
      "metadata": {
        "colab": {
          "base_uri": "https://localhost:8080/"
        },
        "id": "6EFqNugK0qrP",
        "outputId": "90e48eac-3d60-48ad-ce60-0788165a62a5"
      },
      "execution_count": null,
      "outputs": [
        {
          "output_type": "execute_result",
          "data": {
            "text/plain": [
              "MARRIED              24239\n",
              "SINGLE               13254\n",
              "NaN                  10128\n",
              "WIDOWED               7211\n",
              "DIVORCED              3213\n",
              "SEPARATED              571\n",
              "UNKNOWN (DEFAULT)      345\n",
              "LIFE PARTNER            15\n",
              "Name: MARITAL_STATUS, dtype: int64"
            ]
          },
          "metadata": {},
          "execution_count": 73
        }
      ]
    },
    {
      "cell_type": "markdown",
      "source": [
        "9.2"
      ],
      "metadata": {
        "id": "VAtHxa2i1CM4"
      }
    },
    {
      "cell_type": "code",
      "source": [
        "df_filtered = df[(df['MARITAL_STATUS'].notna()) & (df['MARITAL_STATUS'] != 'UNKNOWN (DEFAULT)')]\n",
        "\n",
        "df_filtered"
      ],
      "metadata": {
        "colab": {
          "base_uri": "https://localhost:8080/"
        },
        "id": "FlKGbPQnzowW",
        "outputId": "edfd5f3e-e06b-4934-ef74-aa98eb3d200e"
      },
      "execution_count": null,
      "outputs": [
        {
          "output_type": "execute_result",
          "data": {
            "text/plain": [
              "       ROW_ID  SUBJECT_ID  HADM_ID           ADMITTIME           DISCHTIME  \\\n",
              "10128   12520       10235   103676 2179-08-11 23:54:00 2179-08-24 15:26:00   \n",
              "10129   15030       12232   182524 2100-09-21 19:00:00 2100-09-28 11:44:00   \n",
              "10130    1028         828   180903 2200-10-28 01:07:00 2200-10-28 13:29:00   \n",
              "10131    2595        2141   193356 2171-08-11 17:36:00 2171-08-15 10:01:00   \n",
              "10132    2815        2327   125663 2127-09-15 23:08:00 2127-09-20 13:02:00   \n",
              "...       ...         ...      ...                 ...                 ...   \n",
              "58626   39138       32269   110753 2182-12-04 11:57:00 2182-12-10 13:57:00   \n",
              "58627   48352       66603   166019 2178-04-15 19:14:00 2178-04-30 14:30:00   \n",
              "58628   46623       61149   115021 2126-10-15 03:54:00 2126-10-25 14:48:00   \n",
              "58629   58564       98717   174054 2188-02-07 18:05:00 2188-02-14 12:15:00   \n",
              "58630   47805       64967   160894 2155-08-02 13:16:00 2155-08-09 13:20:00   \n",
              "\n",
              "      DEATHTIME ADMISSION_TYPE         ADMISSION_LOCATION  \\\n",
              "10128       NaT      EMERGENCY       EMERGENCY ROOM ADMIT   \n",
              "10129       NaT      EMERGENCY       EMERGENCY ROOM ADMIT   \n",
              "10130       NaT      EMERGENCY       EMERGENCY ROOM ADMIT   \n",
              "10131       NaT      EMERGENCY       EMERGENCY ROOM ADMIT   \n",
              "10132       NaT      EMERGENCY       EMERGENCY ROOM ADMIT   \n",
              "...         ...            ...                        ...   \n",
              "58626       NaT      EMERGENCY  PHYS REFERRAL/NORMAL DELI   \n",
              "58627       NaT      EMERGENCY  TRANSFER FROM HOSP/EXTRAM   \n",
              "58628       NaT       ELECTIVE  PHYS REFERRAL/NORMAL DELI   \n",
              "58629       NaT      EMERGENCY  CLINIC REFERRAL/PREMATURE   \n",
              "58630       NaT      EMERGENCY  CLINIC REFERRAL/PREMATURE   \n",
              "\n",
              "             DISCHARGE_LOCATION INSURANCE LANGUAGE           RELIGION  \\\n",
              "10128                       SNF  Medicare     None               None   \n",
              "10129                       SNF  Medicare     None               None   \n",
              "10130                      HOME  Self Pay     None               None   \n",
              "10131                      HOME   Private     None               None   \n",
              "10132                      HOME   Private     None               None   \n",
              "...                         ...       ...      ...                ...   \n",
              "58626                      HOME  Medicare     ENGL      NOT SPECIFIED   \n",
              "58627                      HOME  Medicaid     ENGL      NOT SPECIFIED   \n",
              "58628          HOME HEALTH CARE  Medicare     ENGL      NOT SPECIFIED   \n",
              "58629  REHAB/DISTINCT PART HOSP   Private     ENGL      NOT SPECIFIED   \n",
              "58630          HOME HEALTH CARE  Medicare     ENGL  PROTESTANT QUAKER   \n",
              "\n",
              "      MARITAL_STATUS                   ETHNICITY           EDREGTIME  \\\n",
              "10128         SINGLE                       WHITE 2179-08-11 20:29:00   \n",
              "10129         SINGLE       UNKNOWN/NOT SPECIFIED 2100-09-21 12:44:00   \n",
              "10130         SINGLE                       WHITE 2200-10-27 22:15:00   \n",
              "10131         SINGLE                       WHITE 2171-08-11 14:31:00   \n",
              "10132         SINGLE                       WHITE 2127-09-15 17:44:00   \n",
              "...              ...                         ...                 ...   \n",
              "58626   LIFE PARTNER                       WHITE                 NaT   \n",
              "58627   LIFE PARTNER                       WHITE                 NaT   \n",
              "58628   LIFE PARTNER                       WHITE                 NaT   \n",
              "58629   LIFE PARTNER  PATIENT DECLINED TO ANSWER 2188-02-07 14:16:00   \n",
              "58630   LIFE PARTNER                       WHITE 2155-08-02 12:11:00   \n",
              "\n",
              "                EDOUTTIME                                          DIAGNOSIS  \\\n",
              "10128 2179-08-12 00:29:00                      C2 FRACTURE,ODONTOID FRACTURE   \n",
              "10129 2100-09-21 19:01:00                               PNEUMONIA;CHEST PAIN   \n",
              "10130 2200-10-28 00:30:00                                      DRUG OVERDOSE   \n",
              "10131 2171-08-11 17:07:00                                            S/P MVA   \n",
              "10132 2127-09-16 00:35:00  STATUS POST MOTOR VEHICLE ACCIDENT WITH INJURI...   \n",
              "...                   ...                                                ...   \n",
              "58626                 NaT                               PERICARDIAL EFFUSION   \n",
              "58627                 NaT             SEPSIS;HYPOTENSION;ACUTE RENAL FAILURE   \n",
              "58628                 NaT  AORTIC STENOSIS\\AORTIC VALVE REPLACEMENT REDO ...   \n",
              "58629 2188-02-07 19:00:00                                           S/P FALL   \n",
              "58630 2155-08-02 14:55:00                            ACUTE CORONARY SYNDROME   \n",
              "\n",
              "       HOSPITAL_EXPIRE_FLAG  HAS_CHARTEVENTS_DATA  \n",
              "10128                     0                     1  \n",
              "10129                     0                     1  \n",
              "10130                     0                     1  \n",
              "10131                     0                     1  \n",
              "10132                     0                     1  \n",
              "...                     ...                   ...  \n",
              "58626                     0                     1  \n",
              "58627                     0                     1  \n",
              "58628                     0                     1  \n",
              "58629                     0                     1  \n",
              "58630                     0                     1  \n",
              "\n",
              "[48503 rows x 19 columns]"
            ],
            "text/html": [
              "\n",
              "  <div id=\"df-7b7dfd0a-782d-47e8-9998-fdc531e91a92\">\n",
              "    <div class=\"colab-df-container\">\n",
              "      <div>\n",
              "<style scoped>\n",
              "    .dataframe tbody tr th:only-of-type {\n",
              "        vertical-align: middle;\n",
              "    }\n",
              "\n",
              "    .dataframe tbody tr th {\n",
              "        vertical-align: top;\n",
              "    }\n",
              "\n",
              "    .dataframe thead th {\n",
              "        text-align: right;\n",
              "    }\n",
              "</style>\n",
              "<table border=\"1\" class=\"dataframe\">\n",
              "  <thead>\n",
              "    <tr style=\"text-align: right;\">\n",
              "      <th></th>\n",
              "      <th>ROW_ID</th>\n",
              "      <th>SUBJECT_ID</th>\n",
              "      <th>HADM_ID</th>\n",
              "      <th>ADMITTIME</th>\n",
              "      <th>DISCHTIME</th>\n",
              "      <th>DEATHTIME</th>\n",
              "      <th>ADMISSION_TYPE</th>\n",
              "      <th>ADMISSION_LOCATION</th>\n",
              "      <th>DISCHARGE_LOCATION</th>\n",
              "      <th>INSURANCE</th>\n",
              "      <th>LANGUAGE</th>\n",
              "      <th>RELIGION</th>\n",
              "      <th>MARITAL_STATUS</th>\n",
              "      <th>ETHNICITY</th>\n",
              "      <th>EDREGTIME</th>\n",
              "      <th>EDOUTTIME</th>\n",
              "      <th>DIAGNOSIS</th>\n",
              "      <th>HOSPITAL_EXPIRE_FLAG</th>\n",
              "      <th>HAS_CHARTEVENTS_DATA</th>\n",
              "    </tr>\n",
              "  </thead>\n",
              "  <tbody>\n",
              "    <tr>\n",
              "      <th>10128</th>\n",
              "      <td>12520</td>\n",
              "      <td>10235</td>\n",
              "      <td>103676</td>\n",
              "      <td>2179-08-11 23:54:00</td>\n",
              "      <td>2179-08-24 15:26:00</td>\n",
              "      <td>NaT</td>\n",
              "      <td>EMERGENCY</td>\n",
              "      <td>EMERGENCY ROOM ADMIT</td>\n",
              "      <td>SNF</td>\n",
              "      <td>Medicare</td>\n",
              "      <td>None</td>\n",
              "      <td>None</td>\n",
              "      <td>SINGLE</td>\n",
              "      <td>WHITE</td>\n",
              "      <td>2179-08-11 20:29:00</td>\n",
              "      <td>2179-08-12 00:29:00</td>\n",
              "      <td>C2 FRACTURE,ODONTOID FRACTURE</td>\n",
              "      <td>0</td>\n",
              "      <td>1</td>\n",
              "    </tr>\n",
              "    <tr>\n",
              "      <th>10129</th>\n",
              "      <td>15030</td>\n",
              "      <td>12232</td>\n",
              "      <td>182524</td>\n",
              "      <td>2100-09-21 19:00:00</td>\n",
              "      <td>2100-09-28 11:44:00</td>\n",
              "      <td>NaT</td>\n",
              "      <td>EMERGENCY</td>\n",
              "      <td>EMERGENCY ROOM ADMIT</td>\n",
              "      <td>SNF</td>\n",
              "      <td>Medicare</td>\n",
              "      <td>None</td>\n",
              "      <td>None</td>\n",
              "      <td>SINGLE</td>\n",
              "      <td>UNKNOWN/NOT SPECIFIED</td>\n",
              "      <td>2100-09-21 12:44:00</td>\n",
              "      <td>2100-09-21 19:01:00</td>\n",
              "      <td>PNEUMONIA;CHEST PAIN</td>\n",
              "      <td>0</td>\n",
              "      <td>1</td>\n",
              "    </tr>\n",
              "    <tr>\n",
              "      <th>10130</th>\n",
              "      <td>1028</td>\n",
              "      <td>828</td>\n",
              "      <td>180903</td>\n",
              "      <td>2200-10-28 01:07:00</td>\n",
              "      <td>2200-10-28 13:29:00</td>\n",
              "      <td>NaT</td>\n",
              "      <td>EMERGENCY</td>\n",
              "      <td>EMERGENCY ROOM ADMIT</td>\n",
              "      <td>HOME</td>\n",
              "      <td>Self Pay</td>\n",
              "      <td>None</td>\n",
              "      <td>None</td>\n",
              "      <td>SINGLE</td>\n",
              "      <td>WHITE</td>\n",
              "      <td>2200-10-27 22:15:00</td>\n",
              "      <td>2200-10-28 00:30:00</td>\n",
              "      <td>DRUG OVERDOSE</td>\n",
              "      <td>0</td>\n",
              "      <td>1</td>\n",
              "    </tr>\n",
              "    <tr>\n",
              "      <th>10131</th>\n",
              "      <td>2595</td>\n",
              "      <td>2141</td>\n",
              "      <td>193356</td>\n",
              "      <td>2171-08-11 17:36:00</td>\n",
              "      <td>2171-08-15 10:01:00</td>\n",
              "      <td>NaT</td>\n",
              "      <td>EMERGENCY</td>\n",
              "      <td>EMERGENCY ROOM ADMIT</td>\n",
              "      <td>HOME</td>\n",
              "      <td>Private</td>\n",
              "      <td>None</td>\n",
              "      <td>None</td>\n",
              "      <td>SINGLE</td>\n",
              "      <td>WHITE</td>\n",
              "      <td>2171-08-11 14:31:00</td>\n",
              "      <td>2171-08-11 17:07:00</td>\n",
              "      <td>S/P MVA</td>\n",
              "      <td>0</td>\n",
              "      <td>1</td>\n",
              "    </tr>\n",
              "    <tr>\n",
              "      <th>10132</th>\n",
              "      <td>2815</td>\n",
              "      <td>2327</td>\n",
              "      <td>125663</td>\n",
              "      <td>2127-09-15 23:08:00</td>\n",
              "      <td>2127-09-20 13:02:00</td>\n",
              "      <td>NaT</td>\n",
              "      <td>EMERGENCY</td>\n",
              "      <td>EMERGENCY ROOM ADMIT</td>\n",
              "      <td>HOME</td>\n",
              "      <td>Private</td>\n",
              "      <td>None</td>\n",
              "      <td>None</td>\n",
              "      <td>SINGLE</td>\n",
              "      <td>WHITE</td>\n",
              "      <td>2127-09-15 17:44:00</td>\n",
              "      <td>2127-09-16 00:35:00</td>\n",
              "      <td>STATUS POST MOTOR VEHICLE ACCIDENT WITH INJURI...</td>\n",
              "      <td>0</td>\n",
              "      <td>1</td>\n",
              "    </tr>\n",
              "    <tr>\n",
              "      <th>...</th>\n",
              "      <td>...</td>\n",
              "      <td>...</td>\n",
              "      <td>...</td>\n",
              "      <td>...</td>\n",
              "      <td>...</td>\n",
              "      <td>...</td>\n",
              "      <td>...</td>\n",
              "      <td>...</td>\n",
              "      <td>...</td>\n",
              "      <td>...</td>\n",
              "      <td>...</td>\n",
              "      <td>...</td>\n",
              "      <td>...</td>\n",
              "      <td>...</td>\n",
              "      <td>...</td>\n",
              "      <td>...</td>\n",
              "      <td>...</td>\n",
              "      <td>...</td>\n",
              "      <td>...</td>\n",
              "    </tr>\n",
              "    <tr>\n",
              "      <th>58626</th>\n",
              "      <td>39138</td>\n",
              "      <td>32269</td>\n",
              "      <td>110753</td>\n",
              "      <td>2182-12-04 11:57:00</td>\n",
              "      <td>2182-12-10 13:57:00</td>\n",
              "      <td>NaT</td>\n",
              "      <td>EMERGENCY</td>\n",
              "      <td>PHYS REFERRAL/NORMAL DELI</td>\n",
              "      <td>HOME</td>\n",
              "      <td>Medicare</td>\n",
              "      <td>ENGL</td>\n",
              "      <td>NOT SPECIFIED</td>\n",
              "      <td>LIFE PARTNER</td>\n",
              "      <td>WHITE</td>\n",
              "      <td>NaT</td>\n",
              "      <td>NaT</td>\n",
              "      <td>PERICARDIAL EFFUSION</td>\n",
              "      <td>0</td>\n",
              "      <td>1</td>\n",
              "    </tr>\n",
              "    <tr>\n",
              "      <th>58627</th>\n",
              "      <td>48352</td>\n",
              "      <td>66603</td>\n",
              "      <td>166019</td>\n",
              "      <td>2178-04-15 19:14:00</td>\n",
              "      <td>2178-04-30 14:30:00</td>\n",
              "      <td>NaT</td>\n",
              "      <td>EMERGENCY</td>\n",
              "      <td>TRANSFER FROM HOSP/EXTRAM</td>\n",
              "      <td>HOME</td>\n",
              "      <td>Medicaid</td>\n",
              "      <td>ENGL</td>\n",
              "      <td>NOT SPECIFIED</td>\n",
              "      <td>LIFE PARTNER</td>\n",
              "      <td>WHITE</td>\n",
              "      <td>NaT</td>\n",
              "      <td>NaT</td>\n",
              "      <td>SEPSIS;HYPOTENSION;ACUTE RENAL FAILURE</td>\n",
              "      <td>0</td>\n",
              "      <td>1</td>\n",
              "    </tr>\n",
              "    <tr>\n",
              "      <th>58628</th>\n",
              "      <td>46623</td>\n",
              "      <td>61149</td>\n",
              "      <td>115021</td>\n",
              "      <td>2126-10-15 03:54:00</td>\n",
              "      <td>2126-10-25 14:48:00</td>\n",
              "      <td>NaT</td>\n",
              "      <td>ELECTIVE</td>\n",
              "      <td>PHYS REFERRAL/NORMAL DELI</td>\n",
              "      <td>HOME HEALTH CARE</td>\n",
              "      <td>Medicare</td>\n",
              "      <td>ENGL</td>\n",
              "      <td>NOT SPECIFIED</td>\n",
              "      <td>LIFE PARTNER</td>\n",
              "      <td>WHITE</td>\n",
              "      <td>NaT</td>\n",
              "      <td>NaT</td>\n",
              "      <td>AORTIC STENOSIS\\AORTIC VALVE REPLACEMENT REDO ...</td>\n",
              "      <td>0</td>\n",
              "      <td>1</td>\n",
              "    </tr>\n",
              "    <tr>\n",
              "      <th>58629</th>\n",
              "      <td>58564</td>\n",
              "      <td>98717</td>\n",
              "      <td>174054</td>\n",
              "      <td>2188-02-07 18:05:00</td>\n",
              "      <td>2188-02-14 12:15:00</td>\n",
              "      <td>NaT</td>\n",
              "      <td>EMERGENCY</td>\n",
              "      <td>CLINIC REFERRAL/PREMATURE</td>\n",
              "      <td>REHAB/DISTINCT PART HOSP</td>\n",
              "      <td>Private</td>\n",
              "      <td>ENGL</td>\n",
              "      <td>NOT SPECIFIED</td>\n",
              "      <td>LIFE PARTNER</td>\n",
              "      <td>PATIENT DECLINED TO ANSWER</td>\n",
              "      <td>2188-02-07 14:16:00</td>\n",
              "      <td>2188-02-07 19:00:00</td>\n",
              "      <td>S/P FALL</td>\n",
              "      <td>0</td>\n",
              "      <td>1</td>\n",
              "    </tr>\n",
              "    <tr>\n",
              "      <th>58630</th>\n",
              "      <td>47805</td>\n",
              "      <td>64967</td>\n",
              "      <td>160894</td>\n",
              "      <td>2155-08-02 13:16:00</td>\n",
              "      <td>2155-08-09 13:20:00</td>\n",
              "      <td>NaT</td>\n",
              "      <td>EMERGENCY</td>\n",
              "      <td>CLINIC REFERRAL/PREMATURE</td>\n",
              "      <td>HOME HEALTH CARE</td>\n",
              "      <td>Medicare</td>\n",
              "      <td>ENGL</td>\n",
              "      <td>PROTESTANT QUAKER</td>\n",
              "      <td>LIFE PARTNER</td>\n",
              "      <td>WHITE</td>\n",
              "      <td>2155-08-02 12:11:00</td>\n",
              "      <td>2155-08-02 14:55:00</td>\n",
              "      <td>ACUTE CORONARY SYNDROME</td>\n",
              "      <td>0</td>\n",
              "      <td>1</td>\n",
              "    </tr>\n",
              "  </tbody>\n",
              "</table>\n",
              "<p>48503 rows × 19 columns</p>\n",
              "</div>\n",
              "      <button class=\"colab-df-convert\" onclick=\"convertToInteractive('df-7b7dfd0a-782d-47e8-9998-fdc531e91a92')\"\n",
              "              title=\"Convert this dataframe to an interactive table.\"\n",
              "              style=\"display:none;\">\n",
              "        \n",
              "  <svg xmlns=\"http://www.w3.org/2000/svg\" height=\"24px\"viewBox=\"0 0 24 24\"\n",
              "       width=\"24px\">\n",
              "    <path d=\"M0 0h24v24H0V0z\" fill=\"none\"/>\n",
              "    <path d=\"M18.56 5.44l.94 2.06.94-2.06 2.06-.94-2.06-.94-.94-2.06-.94 2.06-2.06.94zm-11 1L8.5 8.5l.94-2.06 2.06-.94-2.06-.94L8.5 2.5l-.94 2.06-2.06.94zm10 10l.94 2.06.94-2.06 2.06-.94-2.06-.94-.94-2.06-.94 2.06-2.06.94z\"/><path d=\"M17.41 7.96l-1.37-1.37c-.4-.4-.92-.59-1.43-.59-.52 0-1.04.2-1.43.59L10.3 9.45l-7.72 7.72c-.78.78-.78 2.05 0 2.83L4 21.41c.39.39.9.59 1.41.59.51 0 1.02-.2 1.41-.59l7.78-7.78 2.81-2.81c.8-.78.8-2.07 0-2.86zM5.41 20L4 18.59l7.72-7.72 1.47 1.35L5.41 20z\"/>\n",
              "  </svg>\n",
              "      </button>\n",
              "      \n",
              "  <style>\n",
              "    .colab-df-container {\n",
              "      display:flex;\n",
              "      flex-wrap:wrap;\n",
              "      gap: 12px;\n",
              "    }\n",
              "\n",
              "    .colab-df-convert {\n",
              "      background-color: #E8F0FE;\n",
              "      border: none;\n",
              "      border-radius: 50%;\n",
              "      cursor: pointer;\n",
              "      display: none;\n",
              "      fill: #1967D2;\n",
              "      height: 32px;\n",
              "      padding: 0 0 0 0;\n",
              "      width: 32px;\n",
              "    }\n",
              "\n",
              "    .colab-df-convert:hover {\n",
              "      background-color: #E2EBFA;\n",
              "      box-shadow: 0px 1px 2px rgba(60, 64, 67, 0.3), 0px 1px 3px 1px rgba(60, 64, 67, 0.15);\n",
              "      fill: #174EA6;\n",
              "    }\n",
              "\n",
              "    [theme=dark] .colab-df-convert {\n",
              "      background-color: #3B4455;\n",
              "      fill: #D2E3FC;\n",
              "    }\n",
              "\n",
              "    [theme=dark] .colab-df-convert:hover {\n",
              "      background-color: #434B5C;\n",
              "      box-shadow: 0px 1px 3px 1px rgba(0, 0, 0, 0.15);\n",
              "      filter: drop-shadow(0px 1px 2px rgba(0, 0, 0, 0.3));\n",
              "      fill: #FFFFFF;\n",
              "    }\n",
              "  </style>\n",
              "\n",
              "      <script>\n",
              "        const buttonEl =\n",
              "          document.querySelector('#df-7b7dfd0a-782d-47e8-9998-fdc531e91a92 button.colab-df-convert');\n",
              "        buttonEl.style.display =\n",
              "          google.colab.kernel.accessAllowed ? 'block' : 'none';\n",
              "\n",
              "        async function convertToInteractive(key) {\n",
              "          const element = document.querySelector('#df-7b7dfd0a-782d-47e8-9998-fdc531e91a92');\n",
              "          const dataTable =\n",
              "            await google.colab.kernel.invokeFunction('convertToInteractive',\n",
              "                                                     [key], {});\n",
              "          if (!dataTable) return;\n",
              "\n",
              "          const docLinkHtml = 'Like what you see? Visit the ' +\n",
              "            '<a target=\"_blank\" href=https://colab.research.google.com/notebooks/data_table.ipynb>data table notebook</a>'\n",
              "            + ' to learn more about interactive tables.';\n",
              "          element.innerHTML = '';\n",
              "          dataTable['output_type'] = 'display_data';\n",
              "          await google.colab.output.renderOutput(dataTable, element);\n",
              "          const docLink = document.createElement('div');\n",
              "          docLink.innerHTML = docLinkHtml;\n",
              "          element.appendChild(docLink);\n",
              "        }\n",
              "      </script>\n",
              "    </div>\n",
              "  </div>\n",
              "  "
            ]
          },
          "metadata": {},
          "execution_count": 74
        }
      ]
    },
    {
      "cell_type": "code",
      "source": [
        "df_filtered['MARITAL_STATUS'].value_counts()"
      ],
      "metadata": {
        "colab": {
          "base_uri": "https://localhost:8080/"
        },
        "id": "JUU3q2UjzwB2",
        "outputId": "afb38764-dd1e-4efc-fa5e-ec7db7294eb3"
      },
      "execution_count": null,
      "outputs": [
        {
          "output_type": "execute_result",
          "data": {
            "text/plain": [
              "MARRIED         24239\n",
              "SINGLE          13254\n",
              "WIDOWED          7211\n",
              "DIVORCED         3213\n",
              "SEPARATED         571\n",
              "LIFE PARTNER       15\n",
              "Name: MARITAL_STATUS, dtype: int64"
            ]
          },
          "metadata": {},
          "execution_count": 75
        }
      ]
    },
    {
      "cell_type": "markdown",
      "metadata": {
        "id": "v-nxFU9cXyc3"
      },
      "source": [
        "---\n",
        "\n",
        "## Exercise 10\n",
        "\n",
        "Run the following code to retrieve the COVID dataset. \n",
        "\n",
        "1. Based on `df_covid_filtered`, which country has the most new deaths per million (`new_deaths_per_million`) on Jan 1, 2021?\n",
        "\n",
        "2. Plot a histogram of new deaths per million across all countries.\n",
        "\n",
        "3. Calculate the summary statistics of new cases per million across all countries."
      ]
    },
    {
      "cell_type": "code",
      "source": [
        "df_covid = pd.read_csv('https://covid.ourworldindata.org/data/owid-covid-data.csv')\n",
        "df_covid_filtered = df_covid[df_covid['date'] == '2022-01-01'] # filter by date\n",
        "df_covid_filtered = df_covid_filtered[~df_covid_filtered['iso_code'].str.startswith('OWID_')] # removes non-country locations such as \"Worldwide\", \"Asia\" and \"Low income\"\n",
        "\n",
        "df_covid_filtered"
      ],
      "metadata": {
        "colab": {
          "base_uri": "https://localhost:8080/",
          "height": 696
        },
        "id": "z4YMzaR1w2xU",
        "outputId": "720028ea-bae0-46c7-f49b-81f0b706fe63"
      },
      "execution_count": null,
      "outputs": [
        {
          "output_type": "stream",
          "name": "stderr",
          "text": [
            "/usr/local/lib/python3.8/dist-packages/IPython/core/interactiveshell.py:3326: DtypeWarning: Columns (33) have mixed types.Specify dtype option on import or set low_memory=False.\n",
            "  exec(code_obj, self.user_global_ns, self.user_ns)\n"
          ]
        },
        {
          "output_type": "execute_result",
          "data": {
            "text/plain": [
              "       iso_code continent           location        date  total_cases  \\\n",
              "677         AFG      Asia        Afghanistan  2022-01-01     158107.0   \n",
              "2833        ALB    Europe            Albania  2022-01-01     210224.0   \n",
              "3905        DZA    Africa            Algeria  2022-01-01     218818.0   \n",
              "4971        AND    Europe            Andorra  2022-01-01      23740.0   \n",
              "6019        AGO    Africa             Angola  2022-01-01      82398.0   \n",
              "...         ...       ...                ...         ...          ...   \n",
              "247674      VNM      Asia            Vietnam  2022-01-01    1746092.0   \n",
              "249547      WLF   Oceania  Wallis and Futuna  2022-01-01        454.0   \n",
              "251681      YEM      Asia              Yemen  2022-01-01      10127.0   \n",
              "252731      ZMB    Africa             Zambia  2022-01-01     257948.0   \n",
              "253779      ZWE    Africa           Zimbabwe  2022-01-01     214214.0   \n",
              "\n",
              "        new_cases  new_cases_smoothed  total_deaths  new_deaths  \\\n",
              "677          23.0              30.286        7356.0         0.0   \n",
              "2833          0.0             383.143        3217.0         0.0   \n",
              "3905        386.0             348.857        6284.0         8.0   \n",
              "4971          0.0             287.143         140.0         0.0   \n",
              "6019        805.0            1608.000        1772.0         2.0   \n",
              "...           ...                 ...           ...         ...   \n",
              "247674    14835.0           15662.429       32610.0       216.0   \n",
              "249547        0.0               0.000           7.0         0.0   \n",
              "251681        1.0               2.286        1984.0         0.0   \n",
              "252731     3674.0            3766.714        3740.0         6.0   \n",
              "253779      956.0            1495.429        5017.0        13.0   \n",
              "\n",
              "        new_deaths_smoothed  ...  male_smokers  handwashing_facilities  \\\n",
              "677                   1.000  ...           NaN                  37.746   \n",
              "2833                  4.000  ...          51.2                     NaN   \n",
              "3905                  7.857  ...          30.4                  83.741   \n",
              "4971                  0.143  ...          37.8                     NaN   \n",
              "6019                  3.714  ...           NaN                  26.664   \n",
              "...                     ...  ...           ...                     ...   \n",
              "247674              229.000  ...          45.9                  85.847   \n",
              "249547                0.000  ...           NaN                     NaN   \n",
              "251681                0.143  ...          29.2                  49.542   \n",
              "252731                6.143  ...          24.7                  13.938   \n",
              "253779               18.857  ...          30.7                  36.791   \n",
              "\n",
              "        hospital_beds_per_thousand  life_expectancy  human_development_index  \\\n",
              "677                           0.50            64.83                    0.511   \n",
              "2833                          2.89            78.57                    0.795   \n",
              "3905                          1.90            76.88                    0.748   \n",
              "4971                           NaN            83.73                    0.868   \n",
              "6019                           NaN            61.15                    0.581   \n",
              "...                            ...              ...                      ...   \n",
              "247674                        2.60            75.40                    0.704   \n",
              "249547                         NaN            79.94                      NaN   \n",
              "251681                        0.70            66.12                    0.470   \n",
              "252731                        2.00            63.89                    0.584   \n",
              "253779                        1.70            61.49                    0.571   \n",
              "\n",
              "        population  excess_mortality_cumulative_absolute  \\\n",
              "677     41128772.0                                   NaN   \n",
              "2833     2842318.0                                   NaN   \n",
              "3905    44903228.0                                   NaN   \n",
              "4971       79843.0                                   NaN   \n",
              "6019    35588996.0                                   NaN   \n",
              "...            ...                                   ...   \n",
              "247674  98186856.0                                   NaN   \n",
              "249547     11596.0                                   NaN   \n",
              "251681  33696612.0                                   NaN   \n",
              "252731  20017670.0                                   NaN   \n",
              "253779  16320539.0                                   NaN   \n",
              "\n",
              "        excess_mortality_cumulative  excess_mortality  \\\n",
              "677                             NaN               NaN   \n",
              "2833                            NaN               NaN   \n",
              "3905                            NaN               NaN   \n",
              "4971                            NaN               NaN   \n",
              "6019                            NaN               NaN   \n",
              "...                             ...               ...   \n",
              "247674                          NaN               NaN   \n",
              "249547                          NaN               NaN   \n",
              "251681                          NaN               NaN   \n",
              "252731                          NaN               NaN   \n",
              "253779                          NaN               NaN   \n",
              "\n",
              "        excess_mortality_cumulative_per_million  \n",
              "677                                         NaN  \n",
              "2833                                        NaN  \n",
              "3905                                        NaN  \n",
              "4971                                        NaN  \n",
              "6019                                        NaN  \n",
              "...                                         ...  \n",
              "247674                                      NaN  \n",
              "249547                                      NaN  \n",
              "251681                                      NaN  \n",
              "252731                                      NaN  \n",
              "253779                                      NaN  \n",
              "\n",
              "[227 rows x 67 columns]"
            ],
            "text/html": [
              "\n",
              "  <div id=\"df-851f1192-525b-4724-9a6f-f748fd5e763c\">\n",
              "    <div class=\"colab-df-container\">\n",
              "      <div>\n",
              "<style scoped>\n",
              "    .dataframe tbody tr th:only-of-type {\n",
              "        vertical-align: middle;\n",
              "    }\n",
              "\n",
              "    .dataframe tbody tr th {\n",
              "        vertical-align: top;\n",
              "    }\n",
              "\n",
              "    .dataframe thead th {\n",
              "        text-align: right;\n",
              "    }\n",
              "</style>\n",
              "<table border=\"1\" class=\"dataframe\">\n",
              "  <thead>\n",
              "    <tr style=\"text-align: right;\">\n",
              "      <th></th>\n",
              "      <th>iso_code</th>\n",
              "      <th>continent</th>\n",
              "      <th>location</th>\n",
              "      <th>date</th>\n",
              "      <th>total_cases</th>\n",
              "      <th>new_cases</th>\n",
              "      <th>new_cases_smoothed</th>\n",
              "      <th>total_deaths</th>\n",
              "      <th>new_deaths</th>\n",
              "      <th>new_deaths_smoothed</th>\n",
              "      <th>...</th>\n",
              "      <th>male_smokers</th>\n",
              "      <th>handwashing_facilities</th>\n",
              "      <th>hospital_beds_per_thousand</th>\n",
              "      <th>life_expectancy</th>\n",
              "      <th>human_development_index</th>\n",
              "      <th>population</th>\n",
              "      <th>excess_mortality_cumulative_absolute</th>\n",
              "      <th>excess_mortality_cumulative</th>\n",
              "      <th>excess_mortality</th>\n",
              "      <th>excess_mortality_cumulative_per_million</th>\n",
              "    </tr>\n",
              "  </thead>\n",
              "  <tbody>\n",
              "    <tr>\n",
              "      <th>677</th>\n",
              "      <td>AFG</td>\n",
              "      <td>Asia</td>\n",
              "      <td>Afghanistan</td>\n",
              "      <td>2022-01-01</td>\n",
              "      <td>158107.0</td>\n",
              "      <td>23.0</td>\n",
              "      <td>30.286</td>\n",
              "      <td>7356.0</td>\n",
              "      <td>0.0</td>\n",
              "      <td>1.000</td>\n",
              "      <td>...</td>\n",
              "      <td>NaN</td>\n",
              "      <td>37.746</td>\n",
              "      <td>0.50</td>\n",
              "      <td>64.83</td>\n",
              "      <td>0.511</td>\n",
              "      <td>41128772.0</td>\n",
              "      <td>NaN</td>\n",
              "      <td>NaN</td>\n",
              "      <td>NaN</td>\n",
              "      <td>NaN</td>\n",
              "    </tr>\n",
              "    <tr>\n",
              "      <th>2833</th>\n",
              "      <td>ALB</td>\n",
              "      <td>Europe</td>\n",
              "      <td>Albania</td>\n",
              "      <td>2022-01-01</td>\n",
              "      <td>210224.0</td>\n",
              "      <td>0.0</td>\n",
              "      <td>383.143</td>\n",
              "      <td>3217.0</td>\n",
              "      <td>0.0</td>\n",
              "      <td>4.000</td>\n",
              "      <td>...</td>\n",
              "      <td>51.2</td>\n",
              "      <td>NaN</td>\n",
              "      <td>2.89</td>\n",
              "      <td>78.57</td>\n",
              "      <td>0.795</td>\n",
              "      <td>2842318.0</td>\n",
              "      <td>NaN</td>\n",
              "      <td>NaN</td>\n",
              "      <td>NaN</td>\n",
              "      <td>NaN</td>\n",
              "    </tr>\n",
              "    <tr>\n",
              "      <th>3905</th>\n",
              "      <td>DZA</td>\n",
              "      <td>Africa</td>\n",
              "      <td>Algeria</td>\n",
              "      <td>2022-01-01</td>\n",
              "      <td>218818.0</td>\n",
              "      <td>386.0</td>\n",
              "      <td>348.857</td>\n",
              "      <td>6284.0</td>\n",
              "      <td>8.0</td>\n",
              "      <td>7.857</td>\n",
              "      <td>...</td>\n",
              "      <td>30.4</td>\n",
              "      <td>83.741</td>\n",
              "      <td>1.90</td>\n",
              "      <td>76.88</td>\n",
              "      <td>0.748</td>\n",
              "      <td>44903228.0</td>\n",
              "      <td>NaN</td>\n",
              "      <td>NaN</td>\n",
              "      <td>NaN</td>\n",
              "      <td>NaN</td>\n",
              "    </tr>\n",
              "    <tr>\n",
              "      <th>4971</th>\n",
              "      <td>AND</td>\n",
              "      <td>Europe</td>\n",
              "      <td>Andorra</td>\n",
              "      <td>2022-01-01</td>\n",
              "      <td>23740.0</td>\n",
              "      <td>0.0</td>\n",
              "      <td>287.143</td>\n",
              "      <td>140.0</td>\n",
              "      <td>0.0</td>\n",
              "      <td>0.143</td>\n",
              "      <td>...</td>\n",
              "      <td>37.8</td>\n",
              "      <td>NaN</td>\n",
              "      <td>NaN</td>\n",
              "      <td>83.73</td>\n",
              "      <td>0.868</td>\n",
              "      <td>79843.0</td>\n",
              "      <td>NaN</td>\n",
              "      <td>NaN</td>\n",
              "      <td>NaN</td>\n",
              "      <td>NaN</td>\n",
              "    </tr>\n",
              "    <tr>\n",
              "      <th>6019</th>\n",
              "      <td>AGO</td>\n",
              "      <td>Africa</td>\n",
              "      <td>Angola</td>\n",
              "      <td>2022-01-01</td>\n",
              "      <td>82398.0</td>\n",
              "      <td>805.0</td>\n",
              "      <td>1608.000</td>\n",
              "      <td>1772.0</td>\n",
              "      <td>2.0</td>\n",
              "      <td>3.714</td>\n",
              "      <td>...</td>\n",
              "      <td>NaN</td>\n",
              "      <td>26.664</td>\n",
              "      <td>NaN</td>\n",
              "      <td>61.15</td>\n",
              "      <td>0.581</td>\n",
              "      <td>35588996.0</td>\n",
              "      <td>NaN</td>\n",
              "      <td>NaN</td>\n",
              "      <td>NaN</td>\n",
              "      <td>NaN</td>\n",
              "    </tr>\n",
              "    <tr>\n",
              "      <th>...</th>\n",
              "      <td>...</td>\n",
              "      <td>...</td>\n",
              "      <td>...</td>\n",
              "      <td>...</td>\n",
              "      <td>...</td>\n",
              "      <td>...</td>\n",
              "      <td>...</td>\n",
              "      <td>...</td>\n",
              "      <td>...</td>\n",
              "      <td>...</td>\n",
              "      <td>...</td>\n",
              "      <td>...</td>\n",
              "      <td>...</td>\n",
              "      <td>...</td>\n",
              "      <td>...</td>\n",
              "      <td>...</td>\n",
              "      <td>...</td>\n",
              "      <td>...</td>\n",
              "      <td>...</td>\n",
              "      <td>...</td>\n",
              "      <td>...</td>\n",
              "    </tr>\n",
              "    <tr>\n",
              "      <th>247674</th>\n",
              "      <td>VNM</td>\n",
              "      <td>Asia</td>\n",
              "      <td>Vietnam</td>\n",
              "      <td>2022-01-01</td>\n",
              "      <td>1746092.0</td>\n",
              "      <td>14835.0</td>\n",
              "      <td>15662.429</td>\n",
              "      <td>32610.0</td>\n",
              "      <td>216.0</td>\n",
              "      <td>229.000</td>\n",
              "      <td>...</td>\n",
              "      <td>45.9</td>\n",
              "      <td>85.847</td>\n",
              "      <td>2.60</td>\n",
              "      <td>75.40</td>\n",
              "      <td>0.704</td>\n",
              "      <td>98186856.0</td>\n",
              "      <td>NaN</td>\n",
              "      <td>NaN</td>\n",
              "      <td>NaN</td>\n",
              "      <td>NaN</td>\n",
              "    </tr>\n",
              "    <tr>\n",
              "      <th>249547</th>\n",
              "      <td>WLF</td>\n",
              "      <td>Oceania</td>\n",
              "      <td>Wallis and Futuna</td>\n",
              "      <td>2022-01-01</td>\n",
              "      <td>454.0</td>\n",
              "      <td>0.0</td>\n",
              "      <td>0.000</td>\n",
              "      <td>7.0</td>\n",
              "      <td>0.0</td>\n",
              "      <td>0.000</td>\n",
              "      <td>...</td>\n",
              "      <td>NaN</td>\n",
              "      <td>NaN</td>\n",
              "      <td>NaN</td>\n",
              "      <td>79.94</td>\n",
              "      <td>NaN</td>\n",
              "      <td>11596.0</td>\n",
              "      <td>NaN</td>\n",
              "      <td>NaN</td>\n",
              "      <td>NaN</td>\n",
              "      <td>NaN</td>\n",
              "    </tr>\n",
              "    <tr>\n",
              "      <th>251681</th>\n",
              "      <td>YEM</td>\n",
              "      <td>Asia</td>\n",
              "      <td>Yemen</td>\n",
              "      <td>2022-01-01</td>\n",
              "      <td>10127.0</td>\n",
              "      <td>1.0</td>\n",
              "      <td>2.286</td>\n",
              "      <td>1984.0</td>\n",
              "      <td>0.0</td>\n",
              "      <td>0.143</td>\n",
              "      <td>...</td>\n",
              "      <td>29.2</td>\n",
              "      <td>49.542</td>\n",
              "      <td>0.70</td>\n",
              "      <td>66.12</td>\n",
              "      <td>0.470</td>\n",
              "      <td>33696612.0</td>\n",
              "      <td>NaN</td>\n",
              "      <td>NaN</td>\n",
              "      <td>NaN</td>\n",
              "      <td>NaN</td>\n",
              "    </tr>\n",
              "    <tr>\n",
              "      <th>252731</th>\n",
              "      <td>ZMB</td>\n",
              "      <td>Africa</td>\n",
              "      <td>Zambia</td>\n",
              "      <td>2022-01-01</td>\n",
              "      <td>257948.0</td>\n",
              "      <td>3674.0</td>\n",
              "      <td>3766.714</td>\n",
              "      <td>3740.0</td>\n",
              "      <td>6.0</td>\n",
              "      <td>6.143</td>\n",
              "      <td>...</td>\n",
              "      <td>24.7</td>\n",
              "      <td>13.938</td>\n",
              "      <td>2.00</td>\n",
              "      <td>63.89</td>\n",
              "      <td>0.584</td>\n",
              "      <td>20017670.0</td>\n",
              "      <td>NaN</td>\n",
              "      <td>NaN</td>\n",
              "      <td>NaN</td>\n",
              "      <td>NaN</td>\n",
              "    </tr>\n",
              "    <tr>\n",
              "      <th>253779</th>\n",
              "      <td>ZWE</td>\n",
              "      <td>Africa</td>\n",
              "      <td>Zimbabwe</td>\n",
              "      <td>2022-01-01</td>\n",
              "      <td>214214.0</td>\n",
              "      <td>956.0</td>\n",
              "      <td>1495.429</td>\n",
              "      <td>5017.0</td>\n",
              "      <td>13.0</td>\n",
              "      <td>18.857</td>\n",
              "      <td>...</td>\n",
              "      <td>30.7</td>\n",
              "      <td>36.791</td>\n",
              "      <td>1.70</td>\n",
              "      <td>61.49</td>\n",
              "      <td>0.571</td>\n",
              "      <td>16320539.0</td>\n",
              "      <td>NaN</td>\n",
              "      <td>NaN</td>\n",
              "      <td>NaN</td>\n",
              "      <td>NaN</td>\n",
              "    </tr>\n",
              "  </tbody>\n",
              "</table>\n",
              "<p>227 rows × 67 columns</p>\n",
              "</div>\n",
              "      <button class=\"colab-df-convert\" onclick=\"convertToInteractive('df-851f1192-525b-4724-9a6f-f748fd5e763c')\"\n",
              "              title=\"Convert this dataframe to an interactive table.\"\n",
              "              style=\"display:none;\">\n",
              "        \n",
              "  <svg xmlns=\"http://www.w3.org/2000/svg\" height=\"24px\"viewBox=\"0 0 24 24\"\n",
              "       width=\"24px\">\n",
              "    <path d=\"M0 0h24v24H0V0z\" fill=\"none\"/>\n",
              "    <path d=\"M18.56 5.44l.94 2.06.94-2.06 2.06-.94-2.06-.94-.94-2.06-.94 2.06-2.06.94zm-11 1L8.5 8.5l.94-2.06 2.06-.94-2.06-.94L8.5 2.5l-.94 2.06-2.06.94zm10 10l.94 2.06.94-2.06 2.06-.94-2.06-.94-.94-2.06-.94 2.06-2.06.94z\"/><path d=\"M17.41 7.96l-1.37-1.37c-.4-.4-.92-.59-1.43-.59-.52 0-1.04.2-1.43.59L10.3 9.45l-7.72 7.72c-.78.78-.78 2.05 0 2.83L4 21.41c.39.39.9.59 1.41.59.51 0 1.02-.2 1.41-.59l7.78-7.78 2.81-2.81c.8-.78.8-2.07 0-2.86zM5.41 20L4 18.59l7.72-7.72 1.47 1.35L5.41 20z\"/>\n",
              "  </svg>\n",
              "      </button>\n",
              "      \n",
              "  <style>\n",
              "    .colab-df-container {\n",
              "      display:flex;\n",
              "      flex-wrap:wrap;\n",
              "      gap: 12px;\n",
              "    }\n",
              "\n",
              "    .colab-df-convert {\n",
              "      background-color: #E8F0FE;\n",
              "      border: none;\n",
              "      border-radius: 50%;\n",
              "      cursor: pointer;\n",
              "      display: none;\n",
              "      fill: #1967D2;\n",
              "      height: 32px;\n",
              "      padding: 0 0 0 0;\n",
              "      width: 32px;\n",
              "    }\n",
              "\n",
              "    .colab-df-convert:hover {\n",
              "      background-color: #E2EBFA;\n",
              "      box-shadow: 0px 1px 2px rgba(60, 64, 67, 0.3), 0px 1px 3px 1px rgba(60, 64, 67, 0.15);\n",
              "      fill: #174EA6;\n",
              "    }\n",
              "\n",
              "    [theme=dark] .colab-df-convert {\n",
              "      background-color: #3B4455;\n",
              "      fill: #D2E3FC;\n",
              "    }\n",
              "\n",
              "    [theme=dark] .colab-df-convert:hover {\n",
              "      background-color: #434B5C;\n",
              "      box-shadow: 0px 1px 3px 1px rgba(0, 0, 0, 0.15);\n",
              "      filter: drop-shadow(0px 1px 2px rgba(0, 0, 0, 0.3));\n",
              "      fill: #FFFFFF;\n",
              "    }\n",
              "  </style>\n",
              "\n",
              "      <script>\n",
              "        const buttonEl =\n",
              "          document.querySelector('#df-851f1192-525b-4724-9a6f-f748fd5e763c button.colab-df-convert');\n",
              "        buttonEl.style.display =\n",
              "          google.colab.kernel.accessAllowed ? 'block' : 'none';\n",
              "\n",
              "        async function convertToInteractive(key) {\n",
              "          const element = document.querySelector('#df-851f1192-525b-4724-9a6f-f748fd5e763c');\n",
              "          const dataTable =\n",
              "            await google.colab.kernel.invokeFunction('convertToInteractive',\n",
              "                                                     [key], {});\n",
              "          if (!dataTable) return;\n",
              "\n",
              "          const docLinkHtml = 'Like what you see? Visit the ' +\n",
              "            '<a target=\"_blank\" href=https://colab.research.google.com/notebooks/data_table.ipynb>data table notebook</a>'\n",
              "            + ' to learn more about interactive tables.';\n",
              "          element.innerHTML = '';\n",
              "          dataTable['output_type'] = 'display_data';\n",
              "          await google.colab.output.renderOutput(dataTable, element);\n",
              "          const docLink = document.createElement('div');\n",
              "          docLink.innerHTML = docLinkHtml;\n",
              "          element.appendChild(docLink);\n",
              "        }\n",
              "      </script>\n",
              "    </div>\n",
              "  </div>\n",
              "  "
            ]
          },
          "metadata": {},
          "execution_count": 76
        }
      ]
    },
    {
      "cell_type": "markdown",
      "metadata": {
        "id": "I-VkxWkgZP0S"
      },
      "source": [
        "### Suggested Solution"
      ]
    },
    {
      "cell_type": "markdown",
      "source": [
        "10.1"
      ],
      "metadata": {
        "id": "3q-7-6vmxNSi"
      }
    },
    {
      "cell_type": "code",
      "source": [
        "# first find out the maximum with `.max()`\n",
        "df_covid_filtered['new_deaths_per_million'].max()"
      ],
      "metadata": {
        "colab": {
          "base_uri": "https://localhost:8080/"
        },
        "id": "TKM-cY0y4_4D",
        "outputId": "04a4f2e0-eb99-420d-af64-417e0dfea106"
      },
      "execution_count": null,
      "outputs": [
        {
          "output_type": "execute_result",
          "data": {
            "text/plain": [
              "33.357"
            ]
          },
          "metadata": {},
          "execution_count": 77
        }
      ]
    },
    {
      "cell_type": "code",
      "source": [
        "# Then filter\n",
        "df_covid_filtered[df_covid_filtered['new_deaths_per_million'] == df_covid_filtered['new_deaths_per_million'].max()]"
      ],
      "metadata": {
        "colab": {
          "base_uri": "https://localhost:8080/",
          "height": 191
        },
        "id": "zZXIr9Hd6J-J",
        "outputId": "e60915d0-a9a1-405a-8573-1fff1fcd9bf2"
      },
      "execution_count": null,
      "outputs": [
        {
          "output_type": "execute_result",
          "data": {
            "text/plain": [
              "       iso_code      continent     location        date  total_cases  \\\n",
              "192234      LCA  North America  Saint Lucia  2022-01-01      13640.0   \n",
              "\n",
              "        new_cases  new_cases_smoothed  total_deaths  new_deaths  \\\n",
              "192234       70.0              52.143         301.0         6.0   \n",
              "\n",
              "        new_deaths_smoothed  ...  male_smokers  handwashing_facilities  \\\n",
              "192234                0.857  ...           NaN                  87.202   \n",
              "\n",
              "        hospital_beds_per_thousand  life_expectancy  human_development_index  \\\n",
              "192234                         1.3             76.2                    0.759   \n",
              "\n",
              "        population  excess_mortality_cumulative_absolute  \\\n",
              "192234    179872.0                                   NaN   \n",
              "\n",
              "        excess_mortality_cumulative  excess_mortality  \\\n",
              "192234                          NaN               NaN   \n",
              "\n",
              "        excess_mortality_cumulative_per_million  \n",
              "192234                                      NaN  \n",
              "\n",
              "[1 rows x 67 columns]"
            ],
            "text/html": [
              "\n",
              "  <div id=\"df-d2414a1b-aed1-47c4-bd8b-b235be4cf628\">\n",
              "    <div class=\"colab-df-container\">\n",
              "      <div>\n",
              "<style scoped>\n",
              "    .dataframe tbody tr th:only-of-type {\n",
              "        vertical-align: middle;\n",
              "    }\n",
              "\n",
              "    .dataframe tbody tr th {\n",
              "        vertical-align: top;\n",
              "    }\n",
              "\n",
              "    .dataframe thead th {\n",
              "        text-align: right;\n",
              "    }\n",
              "</style>\n",
              "<table border=\"1\" class=\"dataframe\">\n",
              "  <thead>\n",
              "    <tr style=\"text-align: right;\">\n",
              "      <th></th>\n",
              "      <th>iso_code</th>\n",
              "      <th>continent</th>\n",
              "      <th>location</th>\n",
              "      <th>date</th>\n",
              "      <th>total_cases</th>\n",
              "      <th>new_cases</th>\n",
              "      <th>new_cases_smoothed</th>\n",
              "      <th>total_deaths</th>\n",
              "      <th>new_deaths</th>\n",
              "      <th>new_deaths_smoothed</th>\n",
              "      <th>...</th>\n",
              "      <th>male_smokers</th>\n",
              "      <th>handwashing_facilities</th>\n",
              "      <th>hospital_beds_per_thousand</th>\n",
              "      <th>life_expectancy</th>\n",
              "      <th>human_development_index</th>\n",
              "      <th>population</th>\n",
              "      <th>excess_mortality_cumulative_absolute</th>\n",
              "      <th>excess_mortality_cumulative</th>\n",
              "      <th>excess_mortality</th>\n",
              "      <th>excess_mortality_cumulative_per_million</th>\n",
              "    </tr>\n",
              "  </thead>\n",
              "  <tbody>\n",
              "    <tr>\n",
              "      <th>192234</th>\n",
              "      <td>LCA</td>\n",
              "      <td>North America</td>\n",
              "      <td>Saint Lucia</td>\n",
              "      <td>2022-01-01</td>\n",
              "      <td>13640.0</td>\n",
              "      <td>70.0</td>\n",
              "      <td>52.143</td>\n",
              "      <td>301.0</td>\n",
              "      <td>6.0</td>\n",
              "      <td>0.857</td>\n",
              "      <td>...</td>\n",
              "      <td>NaN</td>\n",
              "      <td>87.202</td>\n",
              "      <td>1.3</td>\n",
              "      <td>76.2</td>\n",
              "      <td>0.759</td>\n",
              "      <td>179872.0</td>\n",
              "      <td>NaN</td>\n",
              "      <td>NaN</td>\n",
              "      <td>NaN</td>\n",
              "      <td>NaN</td>\n",
              "    </tr>\n",
              "  </tbody>\n",
              "</table>\n",
              "<p>1 rows × 67 columns</p>\n",
              "</div>\n",
              "      <button class=\"colab-df-convert\" onclick=\"convertToInteractive('df-d2414a1b-aed1-47c4-bd8b-b235be4cf628')\"\n",
              "              title=\"Convert this dataframe to an interactive table.\"\n",
              "              style=\"display:none;\">\n",
              "        \n",
              "  <svg xmlns=\"http://www.w3.org/2000/svg\" height=\"24px\"viewBox=\"0 0 24 24\"\n",
              "       width=\"24px\">\n",
              "    <path d=\"M0 0h24v24H0V0z\" fill=\"none\"/>\n",
              "    <path d=\"M18.56 5.44l.94 2.06.94-2.06 2.06-.94-2.06-.94-.94-2.06-.94 2.06-2.06.94zm-11 1L8.5 8.5l.94-2.06 2.06-.94-2.06-.94L8.5 2.5l-.94 2.06-2.06.94zm10 10l.94 2.06.94-2.06 2.06-.94-2.06-.94-.94-2.06-.94 2.06-2.06.94z\"/><path d=\"M17.41 7.96l-1.37-1.37c-.4-.4-.92-.59-1.43-.59-.52 0-1.04.2-1.43.59L10.3 9.45l-7.72 7.72c-.78.78-.78 2.05 0 2.83L4 21.41c.39.39.9.59 1.41.59.51 0 1.02-.2 1.41-.59l7.78-7.78 2.81-2.81c.8-.78.8-2.07 0-2.86zM5.41 20L4 18.59l7.72-7.72 1.47 1.35L5.41 20z\"/>\n",
              "  </svg>\n",
              "      </button>\n",
              "      \n",
              "  <style>\n",
              "    .colab-df-container {\n",
              "      display:flex;\n",
              "      flex-wrap:wrap;\n",
              "      gap: 12px;\n",
              "    }\n",
              "\n",
              "    .colab-df-convert {\n",
              "      background-color: #E8F0FE;\n",
              "      border: none;\n",
              "      border-radius: 50%;\n",
              "      cursor: pointer;\n",
              "      display: none;\n",
              "      fill: #1967D2;\n",
              "      height: 32px;\n",
              "      padding: 0 0 0 0;\n",
              "      width: 32px;\n",
              "    }\n",
              "\n",
              "    .colab-df-convert:hover {\n",
              "      background-color: #E2EBFA;\n",
              "      box-shadow: 0px 1px 2px rgba(60, 64, 67, 0.3), 0px 1px 3px 1px rgba(60, 64, 67, 0.15);\n",
              "      fill: #174EA6;\n",
              "    }\n",
              "\n",
              "    [theme=dark] .colab-df-convert {\n",
              "      background-color: #3B4455;\n",
              "      fill: #D2E3FC;\n",
              "    }\n",
              "\n",
              "    [theme=dark] .colab-df-convert:hover {\n",
              "      background-color: #434B5C;\n",
              "      box-shadow: 0px 1px 3px 1px rgba(0, 0, 0, 0.15);\n",
              "      filter: drop-shadow(0px 1px 2px rgba(0, 0, 0, 0.3));\n",
              "      fill: #FFFFFF;\n",
              "    }\n",
              "  </style>\n",
              "\n",
              "      <script>\n",
              "        const buttonEl =\n",
              "          document.querySelector('#df-d2414a1b-aed1-47c4-bd8b-b235be4cf628 button.colab-df-convert');\n",
              "        buttonEl.style.display =\n",
              "          google.colab.kernel.accessAllowed ? 'block' : 'none';\n",
              "\n",
              "        async function convertToInteractive(key) {\n",
              "          const element = document.querySelector('#df-d2414a1b-aed1-47c4-bd8b-b235be4cf628');\n",
              "          const dataTable =\n",
              "            await google.colab.kernel.invokeFunction('convertToInteractive',\n",
              "                                                     [key], {});\n",
              "          if (!dataTable) return;\n",
              "\n",
              "          const docLinkHtml = 'Like what you see? Visit the ' +\n",
              "            '<a target=\"_blank\" href=https://colab.research.google.com/notebooks/data_table.ipynb>data table notebook</a>'\n",
              "            + ' to learn more about interactive tables.';\n",
              "          element.innerHTML = '';\n",
              "          dataTable['output_type'] = 'display_data';\n",
              "          await google.colab.output.renderOutput(dataTable, element);\n",
              "          const docLink = document.createElement('div');\n",
              "          docLink.innerHTML = docLinkHtml;\n",
              "          element.appendChild(docLink);\n",
              "        }\n",
              "      </script>\n",
              "    </div>\n",
              "  </div>\n",
              "  "
            ]
          },
          "metadata": {},
          "execution_count": 78
        }
      ]
    },
    {
      "cell_type": "code",
      "metadata": {
        "colab": {
          "base_uri": "https://localhost:8080/",
          "height": 386
        },
        "id": "fyyoF5XoZaRI",
        "outputId": "b815c949-6e24-440c-dca1-51c48e01ffc0"
      },
      "source": [
        "# alternatively, sort the dataframe by 'new_deaths_per_million' in decending order, then look at the first few rows\n",
        "df_covid_filtered.sort_values('new_deaths_per_million', ascending = False).head() "
      ],
      "execution_count": null,
      "outputs": [
        {
          "output_type": "execute_result",
          "data": {
            "text/plain": [
              "       iso_code      continent        location        date  total_cases  \\\n",
              "192234      LCA  North America     Saint Lucia  2022-01-01      13640.0   \n",
              "148734      MCO         Europe          Monaco  2022-01-01       4985.0   \n",
              "42233       CYM  North America  Cayman Islands  2022-01-01       8943.0   \n",
              "84385       GEO           Asia         Georgia  2022-01-01     936844.0   \n",
              "183062      POL         Europe          Poland  2022-01-01    4120248.0   \n",
              "\n",
              "        new_cases  new_cases_smoothed  total_deaths  new_deaths  \\\n",
              "192234       70.0              52.143         301.0         6.0   \n",
              "148734        0.0              33.571          39.0         1.0   \n",
              "42233       125.0              79.571          12.0         1.0   \n",
              "84385      2103.0            2019.571       13850.0        50.0   \n",
              "183062    12033.0           10951.857       97559.0       505.0   \n",
              "\n",
              "        new_deaths_smoothed  ...  male_smokers  handwashing_facilities  \\\n",
              "192234                0.857  ...           NaN                  87.202   \n",
              "148734                0.143  ...           NaN                     NaN   \n",
              "42233                 0.143  ...           NaN                     NaN   \n",
              "84385                58.143  ...          55.5                     NaN   \n",
              "183062              464.000  ...          33.1                     NaN   \n",
              "\n",
              "        hospital_beds_per_thousand  life_expectancy  human_development_index  \\\n",
              "192234                        1.30            76.20                    0.759   \n",
              "148734                       13.80            86.75                      NaN   \n",
              "42233                          NaN            83.92                      NaN   \n",
              "84385                         2.60            73.77                    0.812   \n",
              "183062                        6.62            78.73                    0.880   \n",
              "\n",
              "        population  excess_mortality_cumulative_absolute  \\\n",
              "192234    179872.0                                   NaN   \n",
              "148734     36491.0                                   NaN   \n",
              "42233      68722.0                                   NaN   \n",
              "84385    3744385.0                                   NaN   \n",
              "183062  39857144.0                                   NaN   \n",
              "\n",
              "        excess_mortality_cumulative  excess_mortality  \\\n",
              "192234                          NaN               NaN   \n",
              "148734                          NaN               NaN   \n",
              "42233                           NaN               NaN   \n",
              "84385                           NaN               NaN   \n",
              "183062                          NaN               NaN   \n",
              "\n",
              "        excess_mortality_cumulative_per_million  \n",
              "192234                                      NaN  \n",
              "148734                                      NaN  \n",
              "42233                                       NaN  \n",
              "84385                                       NaN  \n",
              "183062                                      NaN  \n",
              "\n",
              "[5 rows x 67 columns]"
            ],
            "text/html": [
              "\n",
              "  <div id=\"df-2b2d45ab-f2ce-452d-9351-5bff0400b1e2\">\n",
              "    <div class=\"colab-df-container\">\n",
              "      <div>\n",
              "<style scoped>\n",
              "    .dataframe tbody tr th:only-of-type {\n",
              "        vertical-align: middle;\n",
              "    }\n",
              "\n",
              "    .dataframe tbody tr th {\n",
              "        vertical-align: top;\n",
              "    }\n",
              "\n",
              "    .dataframe thead th {\n",
              "        text-align: right;\n",
              "    }\n",
              "</style>\n",
              "<table border=\"1\" class=\"dataframe\">\n",
              "  <thead>\n",
              "    <tr style=\"text-align: right;\">\n",
              "      <th></th>\n",
              "      <th>iso_code</th>\n",
              "      <th>continent</th>\n",
              "      <th>location</th>\n",
              "      <th>date</th>\n",
              "      <th>total_cases</th>\n",
              "      <th>new_cases</th>\n",
              "      <th>new_cases_smoothed</th>\n",
              "      <th>total_deaths</th>\n",
              "      <th>new_deaths</th>\n",
              "      <th>new_deaths_smoothed</th>\n",
              "      <th>...</th>\n",
              "      <th>male_smokers</th>\n",
              "      <th>handwashing_facilities</th>\n",
              "      <th>hospital_beds_per_thousand</th>\n",
              "      <th>life_expectancy</th>\n",
              "      <th>human_development_index</th>\n",
              "      <th>population</th>\n",
              "      <th>excess_mortality_cumulative_absolute</th>\n",
              "      <th>excess_mortality_cumulative</th>\n",
              "      <th>excess_mortality</th>\n",
              "      <th>excess_mortality_cumulative_per_million</th>\n",
              "    </tr>\n",
              "  </thead>\n",
              "  <tbody>\n",
              "    <tr>\n",
              "      <th>192234</th>\n",
              "      <td>LCA</td>\n",
              "      <td>North America</td>\n",
              "      <td>Saint Lucia</td>\n",
              "      <td>2022-01-01</td>\n",
              "      <td>13640.0</td>\n",
              "      <td>70.0</td>\n",
              "      <td>52.143</td>\n",
              "      <td>301.0</td>\n",
              "      <td>6.0</td>\n",
              "      <td>0.857</td>\n",
              "      <td>...</td>\n",
              "      <td>NaN</td>\n",
              "      <td>87.202</td>\n",
              "      <td>1.30</td>\n",
              "      <td>76.20</td>\n",
              "      <td>0.759</td>\n",
              "      <td>179872.0</td>\n",
              "      <td>NaN</td>\n",
              "      <td>NaN</td>\n",
              "      <td>NaN</td>\n",
              "      <td>NaN</td>\n",
              "    </tr>\n",
              "    <tr>\n",
              "      <th>148734</th>\n",
              "      <td>MCO</td>\n",
              "      <td>Europe</td>\n",
              "      <td>Monaco</td>\n",
              "      <td>2022-01-01</td>\n",
              "      <td>4985.0</td>\n",
              "      <td>0.0</td>\n",
              "      <td>33.571</td>\n",
              "      <td>39.0</td>\n",
              "      <td>1.0</td>\n",
              "      <td>0.143</td>\n",
              "      <td>...</td>\n",
              "      <td>NaN</td>\n",
              "      <td>NaN</td>\n",
              "      <td>13.80</td>\n",
              "      <td>86.75</td>\n",
              "      <td>NaN</td>\n",
              "      <td>36491.0</td>\n",
              "      <td>NaN</td>\n",
              "      <td>NaN</td>\n",
              "      <td>NaN</td>\n",
              "      <td>NaN</td>\n",
              "    </tr>\n",
              "    <tr>\n",
              "      <th>42233</th>\n",
              "      <td>CYM</td>\n",
              "      <td>North America</td>\n",
              "      <td>Cayman Islands</td>\n",
              "      <td>2022-01-01</td>\n",
              "      <td>8943.0</td>\n",
              "      <td>125.0</td>\n",
              "      <td>79.571</td>\n",
              "      <td>12.0</td>\n",
              "      <td>1.0</td>\n",
              "      <td>0.143</td>\n",
              "      <td>...</td>\n",
              "      <td>NaN</td>\n",
              "      <td>NaN</td>\n",
              "      <td>NaN</td>\n",
              "      <td>83.92</td>\n",
              "      <td>NaN</td>\n",
              "      <td>68722.0</td>\n",
              "      <td>NaN</td>\n",
              "      <td>NaN</td>\n",
              "      <td>NaN</td>\n",
              "      <td>NaN</td>\n",
              "    </tr>\n",
              "    <tr>\n",
              "      <th>84385</th>\n",
              "      <td>GEO</td>\n",
              "      <td>Asia</td>\n",
              "      <td>Georgia</td>\n",
              "      <td>2022-01-01</td>\n",
              "      <td>936844.0</td>\n",
              "      <td>2103.0</td>\n",
              "      <td>2019.571</td>\n",
              "      <td>13850.0</td>\n",
              "      <td>50.0</td>\n",
              "      <td>58.143</td>\n",
              "      <td>...</td>\n",
              "      <td>55.5</td>\n",
              "      <td>NaN</td>\n",
              "      <td>2.60</td>\n",
              "      <td>73.77</td>\n",
              "      <td>0.812</td>\n",
              "      <td>3744385.0</td>\n",
              "      <td>NaN</td>\n",
              "      <td>NaN</td>\n",
              "      <td>NaN</td>\n",
              "      <td>NaN</td>\n",
              "    </tr>\n",
              "    <tr>\n",
              "      <th>183062</th>\n",
              "      <td>POL</td>\n",
              "      <td>Europe</td>\n",
              "      <td>Poland</td>\n",
              "      <td>2022-01-01</td>\n",
              "      <td>4120248.0</td>\n",
              "      <td>12033.0</td>\n",
              "      <td>10951.857</td>\n",
              "      <td>97559.0</td>\n",
              "      <td>505.0</td>\n",
              "      <td>464.000</td>\n",
              "      <td>...</td>\n",
              "      <td>33.1</td>\n",
              "      <td>NaN</td>\n",
              "      <td>6.62</td>\n",
              "      <td>78.73</td>\n",
              "      <td>0.880</td>\n",
              "      <td>39857144.0</td>\n",
              "      <td>NaN</td>\n",
              "      <td>NaN</td>\n",
              "      <td>NaN</td>\n",
              "      <td>NaN</td>\n",
              "    </tr>\n",
              "  </tbody>\n",
              "</table>\n",
              "<p>5 rows × 67 columns</p>\n",
              "</div>\n",
              "      <button class=\"colab-df-convert\" onclick=\"convertToInteractive('df-2b2d45ab-f2ce-452d-9351-5bff0400b1e2')\"\n",
              "              title=\"Convert this dataframe to an interactive table.\"\n",
              "              style=\"display:none;\">\n",
              "        \n",
              "  <svg xmlns=\"http://www.w3.org/2000/svg\" height=\"24px\"viewBox=\"0 0 24 24\"\n",
              "       width=\"24px\">\n",
              "    <path d=\"M0 0h24v24H0V0z\" fill=\"none\"/>\n",
              "    <path d=\"M18.56 5.44l.94 2.06.94-2.06 2.06-.94-2.06-.94-.94-2.06-.94 2.06-2.06.94zm-11 1L8.5 8.5l.94-2.06 2.06-.94-2.06-.94L8.5 2.5l-.94 2.06-2.06.94zm10 10l.94 2.06.94-2.06 2.06-.94-2.06-.94-.94-2.06-.94 2.06-2.06.94z\"/><path d=\"M17.41 7.96l-1.37-1.37c-.4-.4-.92-.59-1.43-.59-.52 0-1.04.2-1.43.59L10.3 9.45l-7.72 7.72c-.78.78-.78 2.05 0 2.83L4 21.41c.39.39.9.59 1.41.59.51 0 1.02-.2 1.41-.59l7.78-7.78 2.81-2.81c.8-.78.8-2.07 0-2.86zM5.41 20L4 18.59l7.72-7.72 1.47 1.35L5.41 20z\"/>\n",
              "  </svg>\n",
              "      </button>\n",
              "      \n",
              "  <style>\n",
              "    .colab-df-container {\n",
              "      display:flex;\n",
              "      flex-wrap:wrap;\n",
              "      gap: 12px;\n",
              "    }\n",
              "\n",
              "    .colab-df-convert {\n",
              "      background-color: #E8F0FE;\n",
              "      border: none;\n",
              "      border-radius: 50%;\n",
              "      cursor: pointer;\n",
              "      display: none;\n",
              "      fill: #1967D2;\n",
              "      height: 32px;\n",
              "      padding: 0 0 0 0;\n",
              "      width: 32px;\n",
              "    }\n",
              "\n",
              "    .colab-df-convert:hover {\n",
              "      background-color: #E2EBFA;\n",
              "      box-shadow: 0px 1px 2px rgba(60, 64, 67, 0.3), 0px 1px 3px 1px rgba(60, 64, 67, 0.15);\n",
              "      fill: #174EA6;\n",
              "    }\n",
              "\n",
              "    [theme=dark] .colab-df-convert {\n",
              "      background-color: #3B4455;\n",
              "      fill: #D2E3FC;\n",
              "    }\n",
              "\n",
              "    [theme=dark] .colab-df-convert:hover {\n",
              "      background-color: #434B5C;\n",
              "      box-shadow: 0px 1px 3px 1px rgba(0, 0, 0, 0.15);\n",
              "      filter: drop-shadow(0px 1px 2px rgba(0, 0, 0, 0.3));\n",
              "      fill: #FFFFFF;\n",
              "    }\n",
              "  </style>\n",
              "\n",
              "      <script>\n",
              "        const buttonEl =\n",
              "          document.querySelector('#df-2b2d45ab-f2ce-452d-9351-5bff0400b1e2 button.colab-df-convert');\n",
              "        buttonEl.style.display =\n",
              "          google.colab.kernel.accessAllowed ? 'block' : 'none';\n",
              "\n",
              "        async function convertToInteractive(key) {\n",
              "          const element = document.querySelector('#df-2b2d45ab-f2ce-452d-9351-5bff0400b1e2');\n",
              "          const dataTable =\n",
              "            await google.colab.kernel.invokeFunction('convertToInteractive',\n",
              "                                                     [key], {});\n",
              "          if (!dataTable) return;\n",
              "\n",
              "          const docLinkHtml = 'Like what you see? Visit the ' +\n",
              "            '<a target=\"_blank\" href=https://colab.research.google.com/notebooks/data_table.ipynb>data table notebook</a>'\n",
              "            + ' to learn more about interactive tables.';\n",
              "          element.innerHTML = '';\n",
              "          dataTable['output_type'] = 'display_data';\n",
              "          await google.colab.output.renderOutput(dataTable, element);\n",
              "          const docLink = document.createElement('div');\n",
              "          docLink.innerHTML = docLinkHtml;\n",
              "          element.appendChild(docLink);\n",
              "        }\n",
              "      </script>\n",
              "    </div>\n",
              "  </div>\n",
              "  "
            ]
          },
          "metadata": {},
          "execution_count": 79
        }
      ]
    },
    {
      "cell_type": "markdown",
      "source": [
        "10.2"
      ],
      "metadata": {
        "id": "X12yON8oxSi6"
      }
    },
    {
      "cell_type": "code",
      "metadata": {
        "colab": {
          "base_uri": "https://localhost:8080/",
          "height": 282
        },
        "id": "HMKqdhldX9xN",
        "outputId": "7d6bca63-3945-44d5-cd17-228d5c0ac7c0"
      },
      "source": [
        "df_covid_filtered['new_deaths_per_million'].hist()"
      ],
      "execution_count": null,
      "outputs": [
        {
          "output_type": "execute_result",
          "data": {
            "text/plain": [
              "<matplotlib.axes._subplots.AxesSubplot at 0x7f8cea3e1b20>"
            ]
          },
          "metadata": {},
          "execution_count": 80
        },
        {
          "output_type": "display_data",
          "data": {
            "text/plain": [
              "<Figure size 432x288 with 1 Axes>"
            ],
            "image/png": "[encoded data removed]"
          },
          "metadata": {
            "needs_background": "light"
          }
        }
      ]
    },
    {
      "cell_type": "markdown",
      "source": [
        "10.3"
      ],
      "metadata": {
        "id": "yVtiuQ8uvoAO"
      }
    },
    {
      "cell_type": "code",
      "source": [
        "df_covid_filtered[['new_cases_per_million']].describe()"
      ],
      "metadata": {
        "colab": {
          "base_uri": "https://localhost:8080/",
          "height": 300
        },
        "id": "c4HuHYprx2Y7",
        "outputId": "0bf29080-dce9-45d3-c9bf-ba371acd19ce"
      },
      "execution_count": null,
      "outputs": [
        {
          "output_type": "execute_result",
          "data": {
            "text/plain": [
              "       new_cases_per_million\n",
              "count             214.000000\n",
              "mean              387.018238\n",
              "std               905.601675\n",
              "min                 0.000000\n",
              "25%                 0.000000\n",
              "50%                25.591000\n",
              "75%               267.980250\n",
              "max              5967.958000"
            ],
            "text/html": [
              "\n",
              "  <div id=\"df-716f43e6-4362-4f4a-bcf1-9882d0bbd958\">\n",
              "    <div class=\"colab-df-container\">\n",
              "      <div>\n",
              "<style scoped>\n",
              "    .dataframe tbody tr th:only-of-type {\n",
              "        vertical-align: middle;\n",
              "    }\n",
              "\n",
              "    .dataframe tbody tr th {\n",
              "        vertical-align: top;\n",
              "    }\n",
              "\n",
              "    .dataframe thead th {\n",
              "        text-align: right;\n",
              "    }\n",
              "</style>\n",
              "<table border=\"1\" class=\"dataframe\">\n",
              "  <thead>\n",
              "    <tr style=\"text-align: right;\">\n",
              "      <th></th>\n",
              "      <th>new_cases_per_million</th>\n",
              "    </tr>\n",
              "  </thead>\n",
              "  <tbody>\n",
              "    <tr>\n",
              "      <th>count</th>\n",
              "      <td>214.000000</td>\n",
              "    </tr>\n",
              "    <tr>\n",
              "      <th>mean</th>\n",
              "      <td>387.018238</td>\n",
              "    </tr>\n",
              "    <tr>\n",
              "      <th>std</th>\n",
              "      <td>905.601675</td>\n",
              "    </tr>\n",
              "    <tr>\n",
              "      <th>min</th>\n",
              "      <td>0.000000</td>\n",
              "    </tr>\n",
              "    <tr>\n",
              "      <th>25%</th>\n",
              "      <td>0.000000</td>\n",
              "    </tr>\n",
              "    <tr>\n",
              "      <th>50%</th>\n",
              "      <td>25.591000</td>\n",
              "    </tr>\n",
              "    <tr>\n",
              "      <th>75%</th>\n",
              "      <td>267.980250</td>\n",
              "    </tr>\n",
              "    <tr>\n",
              "      <th>max</th>\n",
              "      <td>5967.958000</td>\n",
              "    </tr>\n",
              "  </tbody>\n",
              "</table>\n",
              "</div>\n",
              "      <button class=\"colab-df-convert\" onclick=\"convertToInteractive('df-716f43e6-4362-4f4a-bcf1-9882d0bbd958')\"\n",
              "              title=\"Convert this dataframe to an interactive table.\"\n",
              "              style=\"display:none;\">\n",
              "        \n",
              "  <svg xmlns=\"http://www.w3.org/2000/svg\" height=\"24px\"viewBox=\"0 0 24 24\"\n",
              "       width=\"24px\">\n",
              "    <path d=\"M0 0h24v24H0V0z\" fill=\"none\"/>\n",
              "    <path d=\"M18.56 5.44l.94 2.06.94-2.06 2.06-.94-2.06-.94-.94-2.06-.94 2.06-2.06.94zm-11 1L8.5 8.5l.94-2.06 2.06-.94-2.06-.94L8.5 2.5l-.94 2.06-2.06.94zm10 10l.94 2.06.94-2.06 2.06-.94-2.06-.94-.94-2.06-.94 2.06-2.06.94z\"/><path d=\"M17.41 7.96l-1.37-1.37c-.4-.4-.92-.59-1.43-.59-.52 0-1.04.2-1.43.59L10.3 9.45l-7.72 7.72c-.78.78-.78 2.05 0 2.83L4 21.41c.39.39.9.59 1.41.59.51 0 1.02-.2 1.41-.59l7.78-7.78 2.81-2.81c.8-.78.8-2.07 0-2.86zM5.41 20L4 18.59l7.72-7.72 1.47 1.35L5.41 20z\"/>\n",
              "  </svg>\n",
              "      </button>\n",
              "      \n",
              "  <style>\n",
              "    .colab-df-container {\n",
              "      display:flex;\n",
              "      flex-wrap:wrap;\n",
              "      gap: 12px;\n",
              "    }\n",
              "\n",
              "    .colab-df-convert {\n",
              "      background-color: #E8F0FE;\n",
              "      border: none;\n",
              "      border-radius: 50%;\n",
              "      cursor: pointer;\n",
              "      display: none;\n",
              "      fill: #1967D2;\n",
              "      height: 32px;\n",
              "      padding: 0 0 0 0;\n",
              "      width: 32px;\n",
              "    }\n",
              "\n",
              "    .colab-df-convert:hover {\n",
              "      background-color: #E2EBFA;\n",
              "      box-shadow: 0px 1px 2px rgba(60, 64, 67, 0.3), 0px 1px 3px 1px rgba(60, 64, 67, 0.15);\n",
              "      fill: #174EA6;\n",
              "    }\n",
              "\n",
              "    [theme=dark] .colab-df-convert {\n",
              "      background-color: #3B4455;\n",
              "      fill: #D2E3FC;\n",
              "    }\n",
              "\n",
              "    [theme=dark] .colab-df-convert:hover {\n",
              "      background-color: #434B5C;\n",
              "      box-shadow: 0px 1px 3px 1px rgba(0, 0, 0, 0.15);\n",
              "      filter: drop-shadow(0px 1px 2px rgba(0, 0, 0, 0.3));\n",
              "      fill: #FFFFFF;\n",
              "    }\n",
              "  </style>\n",
              "\n",
              "      <script>\n",
              "        const buttonEl =\n",
              "          document.querySelector('#df-716f43e6-4362-4f4a-bcf1-9882d0bbd958 button.colab-df-convert');\n",
              "        buttonEl.style.display =\n",
              "          google.colab.kernel.accessAllowed ? 'block' : 'none';\n",
              "\n",
              "        async function convertToInteractive(key) {\n",
              "          const element = document.querySelector('#df-716f43e6-4362-4f4a-bcf1-9882d0bbd958');\n",
              "          const dataTable =\n",
              "            await google.colab.kernel.invokeFunction('convertToInteractive',\n",
              "                                                     [key], {});\n",
              "          if (!dataTable) return;\n",
              "\n",
              "          const docLinkHtml = 'Like what you see? Visit the ' +\n",
              "            '<a target=\"_blank\" href=https://colab.research.google.com/notebooks/data_table.ipynb>data table notebook</a>'\n",
              "            + ' to learn more about interactive tables.';\n",
              "          element.innerHTML = '';\n",
              "          dataTable['output_type'] = 'display_data';\n",
              "          await google.colab.output.renderOutput(dataTable, element);\n",
              "          const docLink = document.createElement('div');\n",
              "          docLink.innerHTML = docLinkHtml;\n",
              "          element.appendChild(docLink);\n",
              "        }\n",
              "      </script>\n",
              "    </div>\n",
              "  </div>\n",
              "  "
            ]
          },
          "metadata": {},
          "execution_count": 81
        }
      ]
    }
  ]
}