{
  "nbformat": 4,
  "nbformat_minor": 0,
  "metadata": {
    "colab": {
      "name": "Week 4 Pandas.ipynb",
      "provenance": [],
      "collapsed_sections": [
        "l8Gk5JKnWGg2",
        "gWZL0TaEX1Vm",
        "I-VkxWkgZP0S"
      ],
      "toc_visible": true,
      "authorship_tag": "ABX9TyPFtwkw5pJEyuUsYJTaQ6O+",
      "include_colab_link": true
    },
    "kernelspec": {
      "name": "python3",
      "display_name": "Python 3"
    }
  },
  "cells": [
    {
      "cell_type": "markdown",
      "metadata": {
        "id": "view-in-github",
        "colab_type": "text"
      },
      "source": [
        "<a href=\"https://colab.research.google.com/github/nbchan/INMR96-Digital-Health-and-Data-Analytics/blob/main/Week_4_Pandas.ipynb\" target=\"_parent\"><img src=\"https://colab.research.google.com/assets/colab-badge.svg\" alt=\"Open In Colab\"/></a>"
      ]
    },
    {
      "cell_type": "markdown",
      "metadata": {
        "id": "Jt2VcJo93dQ1"
      },
      "source": [
        "# What is Pandas and Why Pandas?"
      ]
    },
    {
      "cell_type": "markdown",
      "metadata": {
        "id": "aENWxjjS3nnq"
      },
      "source": [
        "* the go-to Python package/library for column-oriented data analysis\r\n",
        "* great tool for handling and analyzing tabular data\r\n",
        "* many machine learning frameworks support pandas data structures as inputs\r\n",
        "\r\n",
        "\r\n",
        "For a complete reference to pandas functions, the [*pandas* docs site](http://pandas.pydata.org/pandas-docs/stable/index.html) contains extensive documentation and many tutorials."
      ]
    },
    {
      "cell_type": "markdown",
      "metadata": {
        "id": "7-Ui7fDe3ysi"
      },
      "source": [
        "# Basic Concepts\r\n",
        "\r\n",
        "Similar to how you would import packages in [R](https://www.r-project.org/about.html) using `library()`, the following line imports the *pandas* library to your current notebook. This line is usually put in the beginning of your code.\r\n",
        "\r\n",
        "Note that the `as` keyword is used to create an alias for the package."
      ]
    },
    {
      "cell_type": "code",
      "metadata": {
        "id": "nQh7_K4A5AIq"
      },
      "source": [
        "import pandas as pd"
      ],
      "execution_count": null,
      "outputs": []
    },
    {
      "cell_type": "markdown",
      "metadata": {
        "id": "MEaPs71Z5r6p"
      },
      "source": [
        "The primary data structures in *pandas* are implemented as two classes:\r\n",
        "\r\n",
        "  * **`DataFrame`**, which you can imagine as a relational data table, with rows and named columns.\r\n",
        "  * **`Series`**, which is a single column. A `DataFrame` contains one or more `Series` and a name for each `Series`.\r\n",
        "\r\n",
        "The data frame is a commonly used abstraction for data manipulation, similar to R.\r\n",
        "\r\n",
        "![pandas-data-structure](https://raw.githubusercontent.com/niuguy/digithealthcourse/master/pics/pandas-data-structure.png)\r\n"
      ]
    },
    {
      "cell_type": "markdown",
      "metadata": {
        "id": "ZkDHj2sN5xWW"
      },
      "source": [
        "One way to create a `Series` is to construct a `Series` object. For example:"
      ]
    },
    {
      "cell_type": "code",
      "metadata": {
        "colab": {
          "base_uri": "https://localhost:8080/"
        },
        "id": "ksZyc_YU6ti7",
        "outputId": "a8ca5044-f647-4d16-ca19-b24e02621ac8"
      },
      "source": [
        "pd.Series(['Reading', 'Wokingham', 'Southampton'])"
      ],
      "execution_count": null,
      "outputs": [
        {
          "output_type": "execute_result",
          "data": {
            "text/plain": [
              "0        Reading\n",
              "1      Wokingham\n",
              "2    Southampton\n",
              "dtype: object"
            ]
          },
          "metadata": {
            "tags": []
          },
          "execution_count": 4
        }
      ]
    },
    {
      "cell_type": "markdown",
      "metadata": {
        "id": "z3FJ9Pwv7U65"
      },
      "source": [
        "`DataFrame` objects can be created by passing a Python dictionary that maps column names to their respective `Series`. \r\n",
        "\r\n",
        "Example:"
      ]
    },
    {
      "cell_type": "code",
      "metadata": {
        "id": "lU_u4ny19djo"
      },
      "source": [
        "district_names = pd.Series(['Reading', 'Wokingham', 'Southampton'])\r\n",
        "population = pd.Series([161780, 171119 , 252520])\r\n",
        "\r\n",
        "df_district = pd.DataFrame({'City name': district_names, 'Population': population})"
      ],
      "execution_count": null,
      "outputs": []
    },
    {
      "cell_type": "code",
      "metadata": {
        "colab": {
          "base_uri": "https://localhost:8080/",
          "height": 148
        },
        "id": "AvoTfA71L2_a",
        "outputId": "b99a3baa-eaf5-41e2-f222-8a519984aed6"
      },
      "source": [
        "df_district"
      ],
      "execution_count": null,
      "outputs": [
        {
          "output_type": "execute_result",
          "data": {
            "application/vnd.google.colaboratory.module+javascript": "\n      import \"https://ssl.gstatic.com/colaboratory/data_table/a6224c040fa35dcf/data_table.js\";\n\n      window.createDataTable({\n        data: [[{\n            'v': 0,\n            'f': \"0\",\n        },\n\"Reading\",\n{\n            'v': 161780,\n            'f': \"161780\",\n        }],\n [{\n            'v': 1,\n            'f': \"1\",\n        },\n\"Wokingham\",\n{\n            'v': 171119,\n            'f': \"171119\",\n        }],\n [{\n            'v': 2,\n            'f': \"2\",\n        },\n\"Southampton\",\n{\n            'v': 252520,\n            'f': \"252520\",\n        }]],\n        columns: [[\"number\", \"index\"], [\"string\", \"City name\"], [\"number\", \"Population\"]],\n        columnOptions: [{\"width\": \"1px\", \"className\": \"index_column\"}],\n        rowsPerPage: 25,\n        helpUrl: \"https://colab.research.google.com/notebooks/data_table.ipynb\",\n        suppressOutputScrolling: true,\n        minimumWidth: undefined,\n      });\n    ",
            "text/html": [
              "<div>\n",
              "<style scoped>\n",
              "    .dataframe tbody tr th:only-of-type {\n",
              "        vertical-align: middle;\n",
              "    }\n",
              "\n",
              "    .dataframe tbody tr th {\n",
              "        vertical-align: top;\n",
              "    }\n",
              "\n",
              "    .dataframe thead th {\n",
              "        text-align: right;\n",
              "    }\n",
              "</style>\n",
              "<table border=\"1\" class=\"dataframe\">\n",
              "  <thead>\n",
              "    <tr style=\"text-align: right;\">\n",
              "      <th></th>\n",
              "      <th>City name</th>\n",
              "      <th>Population</th>\n",
              "    </tr>\n",
              "  </thead>\n",
              "  <tbody>\n",
              "    <tr>\n",
              "      <th>0</th>\n",
              "      <td>Reading</td>\n",
              "      <td>161780</td>\n",
              "    </tr>\n",
              "    <tr>\n",
              "      <th>1</th>\n",
              "      <td>Wokingham</td>\n",
              "      <td>171119</td>\n",
              "    </tr>\n",
              "    <tr>\n",
              "      <th>2</th>\n",
              "      <td>Southampton</td>\n",
              "      <td>252520</td>\n",
              "    </tr>\n",
              "  </tbody>\n",
              "</table>\n",
              "</div>"
            ],
            "text/plain": [
              "     City name  Population\n",
              "0      Reading      161780\n",
              "1    Wokingham      171119\n",
              "2  Southampton      252520"
            ]
          },
          "metadata": {
            "tags": []
          },
          "execution_count": 15
        }
      ]
    },
    {
      "cell_type": "markdown",
      "metadata": {
        "id": "o_B0S3Q-SF6u"
      },
      "source": [
        "To retrieve a column (as a `Series`) from a `DataFrame`, use square brackets:"
      ]
    },
    {
      "cell_type": "code",
      "metadata": {
        "colab": {
          "base_uri": "https://localhost:8080/"
        },
        "id": "lmEBW1RcSVpw",
        "outputId": "5de19bb7-9c34-48d6-a590-b72a00fbf816"
      },
      "source": [
        "df_district['Population']"
      ],
      "execution_count": null,
      "outputs": [
        {
          "output_type": "execute_result",
          "data": {
            "text/plain": [
              "0    161780\n",
              "1    171119\n",
              "2    252520\n",
              "Name: Population, dtype: int64"
            ]
          },
          "metadata": {
            "tags": []
          },
          "execution_count": 40
        }
      ]
    },
    {
      "cell_type": "markdown",
      "metadata": {
        "id": "y3fdxFmE94bK"
      },
      "source": [
        "# Importing MIMIC-III data from BigQuery as a Pandas `DataFrame` "
      ]
    },
    {
      "cell_type": "markdown",
      "metadata": {
        "id": "0xKEnmMJ-9NO"
      },
      "source": [
        "Most of the time, instead of creating `DataFrame`'s from scratch in Python, you load an entire file into a DataFrame. In our case, we would import MIMIC-III data via BigQuery. There are a few steps."
      ]
    },
    {
      "cell_type": "markdown",
      "metadata": {
        "id": "UlqXFKgOALkE"
      },
      "source": [
        "## 1. Provide your credentials to the Colab runtime\r\n",
        "\r\n",
        "Run the following code. You will be given a link that requests permission of the notebook to access your data from BigQuery. Enter that link and accept the request. You might be asked to enter your password in this step. \r\n",
        "\r\n",
        "After that, you will be given a one-time authentication token. Copy and paste it to the textbox under the link. If successful, the message \"Authenticated\" would be printed. \r\n",
        "\r\n"
      ]
    },
    {
      "cell_type": "code",
      "metadata": {
        "colab": {
          "base_uri": "https://localhost:8080/"
        },
        "id": "C6C_kV_f-W3S",
        "outputId": "17d8d30f-b834-4159-9043-f2f2e786be66"
      },
      "source": [
        "from google.colab import auth\r\n",
        "auth.authenticate_user()\r\n",
        "print('Authenticated')"
      ],
      "execution_count": null,
      "outputs": [
        {
          "output_type": "stream",
          "text": [
            "Authenticated\n"
          ],
          "name": "stdout"
        }
      ]
    },
    {
      "cell_type": "markdown",
      "metadata": {
        "id": "DSCFvXvp_fxN"
      },
      "source": [
        "**Troubleshooting**\r\n",
        "\r\n",
        "If you are unable to authenticate yourself, check for the following: \r\n",
        "\r\n",
        "* Use the [Cloud Resource Manager](https://console.cloud.google.com/cloud-resource-manager) to Create a Cloud Platform project if you do not already have one. \r\n",
        "  * Almost all of your interactions with Google Cloud Platform are associated with a project. Importantly, all billing for your usage must be allotted to a single project. In order to use BigQuery you must have an activate project associated with your account. BigQuery offers a $300 free trial for first time users. You should not be billed for any reasonable usage for completing the module.\r\n",
        "* [Enable billing](https://support.google.com/cloud/answer/6293499#enable-billing) for the project.\r\n",
        "* [Enable BigQuery](https://console.cloud.google.com/flows/enableapi?apiid=bigquery) APIs for the project."
      ]
    },
    {
      "cell_type": "markdown",
      "metadata": {
        "id": "NzvA_-doC6xi"
      },
      "source": [
        "## 2. (Optional) Enable data table display\r\n",
        "\r\n",
        "Colab includes the ``google.colab.data_table`` package that can be used to display large `pandas` dataframes as an interactive data table.\r\n",
        "\r\n",
        "It can be enabled with this line:"
      ]
    },
    {
      "cell_type": "code",
      "metadata": {
        "id": "CwpS15P0DEjB"
      },
      "source": [
        "%load_ext google.colab.data_table"
      ],
      "execution_count": null,
      "outputs": []
    },
    {
      "cell_type": "markdown",
      "metadata": {
        "id": "hvciyAGNCScJ"
      },
      "source": [
        "## 3. Execute your SQL queries and save the results as a `DataFrame`\r\n",
        "\r\n",
        "\r\n"
      ]
    },
    {
      "cell_type": "markdown",
      "metadata": {
        "id": "P0Mb1DgdErFL"
      },
      "source": [
        "The best way to do so is to use *cell magic* built in by the `google.cloud.bigquery` library. See the code below but make three changes. \r\n",
        "\r\n",
        "* Replace `your-project-id-here` with your GCP project ID found in [Cloud Resource Manager](https://console.cloud.google.com/cloud-resource-manager). \r\n",
        "* Replace the SQL query with a query of your choice. As a best practice, you should write and test the SQL queries in [BigQuery](https://console.cloud.google.com/bigquery) first, then paste it in Colab.\r\n",
        "* Replace `df` with a Python variable name of your choice. This is important especially if you would extract more than one table from BigQuery. "
      ]
    },
    {
      "cell_type": "code",
      "metadata": {
        "colab": {
          "base_uri": "https://localhost:8080/",
          "height": 758
        },
        "id": "6f2KW654CqXC",
        "outputId": "26255b7b-364d-4b63-f49e-5ffcd1ebc37c"
      },
      "source": [
        "# Display query output immediately\r\n",
        "\r\n",
        "%%bigquery --project your-project-id-here\r\n",
        "\r\n",
        "SELECT * FROM `physionet-data.mimiciii_clinical.admissions`"
      ],
      "execution_count": null,
      "outputs": [
        {
          "output_type": "execute_result",
          "data": {
            "text/html": [
              "<div>\n",
              "<style scoped>\n",
              "    .dataframe tbody tr th:only-of-type {\n",
              "        vertical-align: middle;\n",
              "    }\n",
              "\n",
              "    .dataframe tbody tr th {\n",
              "        vertical-align: top;\n",
              "    }\n",
              "\n",
              "    .dataframe thead th {\n",
              "        text-align: right;\n",
              "    }\n",
              "</style>\n",
              "<table border=\"1\" class=\"dataframe\">\n",
              "  <thead>\n",
              "    <tr style=\"text-align: right;\">\n",
              "      <th></th>\n",
              "      <th>ROW_ID</th>\n",
              "      <th>SUBJECT_ID</th>\n",
              "      <th>HADM_ID</th>\n",
              "      <th>ADMITTIME</th>\n",
              "      <th>DISCHTIME</th>\n",
              "      <th>DEATHTIME</th>\n",
              "      <th>ADMISSION_TYPE</th>\n",
              "      <th>ADMISSION_LOCATION</th>\n",
              "      <th>DISCHARGE_LOCATION</th>\n",
              "      <th>INSURANCE</th>\n",
              "      <th>LANGUAGE</th>\n",
              "      <th>RELIGION</th>\n",
              "      <th>MARITAL_STATUS</th>\n",
              "      <th>ETHNICITY</th>\n",
              "      <th>EDREGTIME</th>\n",
              "      <th>EDOUTTIME</th>\n",
              "      <th>DIAGNOSIS</th>\n",
              "      <th>HOSPITAL_EXPIRE_FLAG</th>\n",
              "      <th>HAS_CHARTEVENTS_DATA</th>\n",
              "    </tr>\n",
              "  </thead>\n",
              "  <tbody>\n",
              "    <tr>\n",
              "      <th>0</th>\n",
              "      <td>8902</td>\n",
              "      <td>7275</td>\n",
              "      <td>136809</td>\n",
              "      <td>2139-08-28 12:35:00</td>\n",
              "      <td>2139-09-01 16:32:00</td>\n",
              "      <td>NaT</td>\n",
              "      <td>EMERGENCY</td>\n",
              "      <td>EMERGENCY ROOM ADMIT</td>\n",
              "      <td>ICF</td>\n",
              "      <td>Medicare</td>\n",
              "      <td>ENGL</td>\n",
              "      <td>EPISCOPALIAN</td>\n",
              "      <td>DIVORCED</td>\n",
              "      <td>WHITE</td>\n",
              "      <td>2139-08-28 10:38:00</td>\n",
              "      <td>2139-08-28 14:30:00</td>\n",
              "      <td>ALTERED MENTAL STATUS; DYSPNEA</td>\n",
              "      <td>0</td>\n",
              "      <td>1</td>\n",
              "    </tr>\n",
              "    <tr>\n",
              "      <th>1</th>\n",
              "      <td>21467</td>\n",
              "      <td>17575</td>\n",
              "      <td>187131</td>\n",
              "      <td>2124-10-21 08:32:00</td>\n",
              "      <td>2124-11-01 11:14:00</td>\n",
              "      <td>NaT</td>\n",
              "      <td>EMERGENCY</td>\n",
              "      <td>EMERGENCY ROOM ADMIT</td>\n",
              "      <td>ICF</td>\n",
              "      <td>Government</td>\n",
              "      <td>None</td>\n",
              "      <td>OTHER</td>\n",
              "      <td>SINGLE</td>\n",
              "      <td>BLACK/AFRICAN AMERICAN</td>\n",
              "      <td>2124-10-21 05:04:00</td>\n",
              "      <td>2124-10-21 09:52:00</td>\n",
              "      <td>MVA;TRAUMA</td>\n",
              "      <td>0</td>\n",
              "      <td>1</td>\n",
              "    </tr>\n",
              "    <tr>\n",
              "      <th>2</th>\n",
              "      <td>30863</td>\n",
              "      <td>25251</td>\n",
              "      <td>142346</td>\n",
              "      <td>2167-01-23 16:23:00</td>\n",
              "      <td>2167-02-06 13:53:00</td>\n",
              "      <td>NaT</td>\n",
              "      <td>EMERGENCY</td>\n",
              "      <td>EMERGENCY ROOM ADMIT</td>\n",
              "      <td>ICF</td>\n",
              "      <td>Medicare</td>\n",
              "      <td>None</td>\n",
              "      <td>EPISCOPALIAN</td>\n",
              "      <td>DIVORCED</td>\n",
              "      <td>WHITE</td>\n",
              "      <td>2167-01-23 12:54:00</td>\n",
              "      <td>2167-01-23 18:00:00</td>\n",
              "      <td>INFECTED RIGHT FOOT</td>\n",
              "      <td>0</td>\n",
              "      <td>1</td>\n",
              "    </tr>\n",
              "    <tr>\n",
              "      <th>3</th>\n",
              "      <td>39212</td>\n",
              "      <td>32339</td>\n",
              "      <td>181355</td>\n",
              "      <td>2110-07-29 23:56:00</td>\n",
              "      <td>2110-08-04 15:10:00</td>\n",
              "      <td>NaT</td>\n",
              "      <td>EMERGENCY</td>\n",
              "      <td>EMERGENCY ROOM ADMIT</td>\n",
              "      <td>ICF</td>\n",
              "      <td>Medicare</td>\n",
              "      <td>ENGL</td>\n",
              "      <td>JEWISH</td>\n",
              "      <td>MARRIED</td>\n",
              "      <td>WHITE</td>\n",
              "      <td>2110-07-29 20:17:00</td>\n",
              "      <td>2110-07-30 01:24:00</td>\n",
              "      <td>GASTROINTESTINAL BLEED;CHEST PAIN;TELEMETRY</td>\n",
              "      <td>0</td>\n",
              "      <td>1</td>\n",
              "    </tr>\n",
              "    <tr>\n",
              "      <th>4</th>\n",
              "      <td>37441</td>\n",
              "      <td>30746</td>\n",
              "      <td>155603</td>\n",
              "      <td>2131-08-22 23:07:00</td>\n",
              "      <td>2131-08-28 13:10:00</td>\n",
              "      <td>NaT</td>\n",
              "      <td>EMERGENCY</td>\n",
              "      <td>EMERGENCY ROOM ADMIT</td>\n",
              "      <td>ICF</td>\n",
              "      <td>Medicare</td>\n",
              "      <td>ENGL</td>\n",
              "      <td>JEWISH</td>\n",
              "      <td>DIVORCED</td>\n",
              "      <td>WHITE</td>\n",
              "      <td>2131-08-22 14:15:00</td>\n",
              "      <td>2131-08-23 01:20:00</td>\n",
              "      <td>ALTERED MENTAL STATUS</td>\n",
              "      <td>0</td>\n",
              "      <td>1</td>\n",
              "    </tr>\n",
              "    <tr>\n",
              "      <th>...</th>\n",
              "      <td>...</td>\n",
              "      <td>...</td>\n",
              "      <td>...</td>\n",
              "      <td>...</td>\n",
              "      <td>...</td>\n",
              "      <td>...</td>\n",
              "      <td>...</td>\n",
              "      <td>...</td>\n",
              "      <td>...</td>\n",
              "      <td>...</td>\n",
              "      <td>...</td>\n",
              "      <td>...</td>\n",
              "      <td>...</td>\n",
              "      <td>...</td>\n",
              "      <td>...</td>\n",
              "      <td>...</td>\n",
              "      <td>...</td>\n",
              "      <td>...</td>\n",
              "      <td>...</td>\n",
              "    </tr>\n",
              "    <tr>\n",
              "      <th>58971</th>\n",
              "      <td>38142</td>\n",
              "      <td>31355</td>\n",
              "      <td>146717</td>\n",
              "      <td>2110-07-28 22:03:00</td>\n",
              "      <td>2110-07-30 19:00:00</td>\n",
              "      <td>None</td>\n",
              "      <td>EMERGENCY</td>\n",
              "      <td>TRANSFER FROM HOSP/EXTRAM</td>\n",
              "      <td>LEFT AGAINST MEDICAL ADVI</td>\n",
              "      <td>Private</td>\n",
              "      <td>PTUN</td>\n",
              "      <td>UNOBTAINABLE</td>\n",
              "      <td>None</td>\n",
              "      <td>UNKNOWN/NOT SPECIFIED</td>\n",
              "      <td>NaT</td>\n",
              "      <td>NaT</td>\n",
              "      <td>NECROTIZING PANCREATITIS</td>\n",
              "      <td>0</td>\n",
              "      <td>1</td>\n",
              "    </tr>\n",
              "    <tr>\n",
              "      <th>58972</th>\n",
              "      <td>45558</td>\n",
              "      <td>58016</td>\n",
              "      <td>105567</td>\n",
              "      <td>2118-10-08 20:59:00</td>\n",
              "      <td>2118-10-11 09:02:00</td>\n",
              "      <td>None</td>\n",
              "      <td>EMERGENCY</td>\n",
              "      <td>TRANSFER FROM HOSP/EXTRAM</td>\n",
              "      <td>LEFT AGAINST MEDICAL ADVI</td>\n",
              "      <td>Medicaid</td>\n",
              "      <td>PTUN</td>\n",
              "      <td>BUDDHIST</td>\n",
              "      <td>DIVORCED</td>\n",
              "      <td>UNABLE TO OBTAIN</td>\n",
              "      <td>NaT</td>\n",
              "      <td>NaT</td>\n",
              "      <td>GALLSTONES</td>\n",
              "      <td>0</td>\n",
              "      <td>1</td>\n",
              "    </tr>\n",
              "    <tr>\n",
              "      <th>58973</th>\n",
              "      <td>47608</td>\n",
              "      <td>64255</td>\n",
              "      <td>145415</td>\n",
              "      <td>2151-11-05 22:32:00</td>\n",
              "      <td>2151-11-07 13:10:00</td>\n",
              "      <td>None</td>\n",
              "      <td>EMERGENCY</td>\n",
              "      <td>TRANSFER FROM HOSP/EXTRAM</td>\n",
              "      <td>LEFT AGAINST MEDICAL ADVI</td>\n",
              "      <td>Private</td>\n",
              "      <td>PTUN</td>\n",
              "      <td>NOT SPECIFIED</td>\n",
              "      <td>MARRIED</td>\n",
              "      <td>WHITE</td>\n",
              "      <td>NaT</td>\n",
              "      <td>NaT</td>\n",
              "      <td>STATUS EPILEPTICUS</td>\n",
              "      <td>0</td>\n",
              "      <td>1</td>\n",
              "    </tr>\n",
              "    <tr>\n",
              "      <th>58974</th>\n",
              "      <td>53619</td>\n",
              "      <td>83060</td>\n",
              "      <td>122843</td>\n",
              "      <td>2158-10-11 19:08:00</td>\n",
              "      <td>2158-10-15 12:11:00</td>\n",
              "      <td>None</td>\n",
              "      <td>EMERGENCY</td>\n",
              "      <td>TRANSFER FROM HOSP/EXTRAM</td>\n",
              "      <td>LEFT AGAINST MEDICAL ADVI</td>\n",
              "      <td>Medicare</td>\n",
              "      <td>ENGL</td>\n",
              "      <td>NOT SPECIFIED</td>\n",
              "      <td>DIVORCED</td>\n",
              "      <td>UNKNOWN/NOT SPECIFIED</td>\n",
              "      <td>NaT</td>\n",
              "      <td>NaT</td>\n",
              "      <td>RIGHTBRONCHUS MASS</td>\n",
              "      <td>0</td>\n",
              "      <td>1</td>\n",
              "    </tr>\n",
              "    <tr>\n",
              "      <th>58975</th>\n",
              "      <td>54130</td>\n",
              "      <td>84694</td>\n",
              "      <td>149446</td>\n",
              "      <td>2173-03-20 20:01:00</td>\n",
              "      <td>2173-03-23 22:25:00</td>\n",
              "      <td>None</td>\n",
              "      <td>URGENT</td>\n",
              "      <td>TRANSFER FROM HOSP/EXTRAM</td>\n",
              "      <td>LEFT AGAINST MEDICAL ADVI</td>\n",
              "      <td>Medicare</td>\n",
              "      <td>ENGL</td>\n",
              "      <td>NOT SPECIFIED</td>\n",
              "      <td>SINGLE</td>\n",
              "      <td>WHITE</td>\n",
              "      <td>NaT</td>\n",
              "      <td>NaT</td>\n",
              "      <td>HEMOPTYSIS</td>\n",
              "      <td>0</td>\n",
              "      <td>1</td>\n",
              "    </tr>\n",
              "  </tbody>\n",
              "</table>\n",
              "<p>58976 rows × 19 columns</p>\n",
              "</div>"
            ],
            "text/plain": [
              "       ROW_ID  SUBJECT_ID  ...  HOSPITAL_EXPIRE_FLAG HAS_CHARTEVENTS_DATA\n",
              "0        8902        7275  ...                     0                    1\n",
              "1       21467       17575  ...                     0                    1\n",
              "2       30863       25251  ...                     0                    1\n",
              "3       39212       32339  ...                     0                    1\n",
              "4       37441       30746  ...                     0                    1\n",
              "...       ...         ...  ...                   ...                  ...\n",
              "58971   38142       31355  ...                     0                    1\n",
              "58972   45558       58016  ...                     0                    1\n",
              "58973   47608       64255  ...                     0                    1\n",
              "58974   53619       83060  ...                     0                    1\n",
              "58975   54130       84694  ...                     0                    1\n",
              "\n",
              "[58976 rows x 19 columns]"
            ]
          },
          "metadata": {
            "tags": []
          },
          "execution_count": 29
        }
      ]
    },
    {
      "cell_type": "code",
      "metadata": {
        "id": "muwJ53ajDm9f"
      },
      "source": [
        "# Save output in a variable `df`\r\n",
        "\r\n",
        "%%bigquery --project your-project-id-here df\r\n",
        "\r\n",
        "SELECT * FROM `physionet-data.mimiciii_clinical.admissions`"
      ],
      "execution_count": null,
      "outputs": []
    },
    {
      "cell_type": "code",
      "metadata": {
        "colab": {
          "base_uri": "https://localhost:8080/",
          "height": 758
        },
        "id": "w5DoVPOGLY69",
        "outputId": "3e1f78e0-c8e2-479b-b61e-a9c3e2a62811"
      },
      "source": [
        "df"
      ],
      "execution_count": null,
      "outputs": [
        {
          "output_type": "execute_result",
          "data": {
            "text/html": [
              "<div>\n",
              "<style scoped>\n",
              "    .dataframe tbody tr th:only-of-type {\n",
              "        vertical-align: middle;\n",
              "    }\n",
              "\n",
              "    .dataframe tbody tr th {\n",
              "        vertical-align: top;\n",
              "    }\n",
              "\n",
              "    .dataframe thead th {\n",
              "        text-align: right;\n",
              "    }\n",
              "</style>\n",
              "<table border=\"1\" class=\"dataframe\">\n",
              "  <thead>\n",
              "    <tr style=\"text-align: right;\">\n",
              "      <th></th>\n",
              "      <th>ROW_ID</th>\n",
              "      <th>SUBJECT_ID</th>\n",
              "      <th>HADM_ID</th>\n",
              "      <th>ADMITTIME</th>\n",
              "      <th>DISCHTIME</th>\n",
              "      <th>DEATHTIME</th>\n",
              "      <th>ADMISSION_TYPE</th>\n",
              "      <th>ADMISSION_LOCATION</th>\n",
              "      <th>DISCHARGE_LOCATION</th>\n",
              "      <th>INSURANCE</th>\n",
              "      <th>LANGUAGE</th>\n",
              "      <th>RELIGION</th>\n",
              "      <th>MARITAL_STATUS</th>\n",
              "      <th>ETHNICITY</th>\n",
              "      <th>EDREGTIME</th>\n",
              "      <th>EDOUTTIME</th>\n",
              "      <th>DIAGNOSIS</th>\n",
              "      <th>HOSPITAL_EXPIRE_FLAG</th>\n",
              "      <th>HAS_CHARTEVENTS_DATA</th>\n",
              "    </tr>\n",
              "  </thead>\n",
              "  <tbody>\n",
              "    <tr>\n",
              "      <th>0</th>\n",
              "      <td>8902</td>\n",
              "      <td>7275</td>\n",
              "      <td>136809</td>\n",
              "      <td>2139-08-28 12:35:00</td>\n",
              "      <td>2139-09-01 16:32:00</td>\n",
              "      <td>NaT</td>\n",
              "      <td>EMERGENCY</td>\n",
              "      <td>EMERGENCY ROOM ADMIT</td>\n",
              "      <td>ICF</td>\n",
              "      <td>Medicare</td>\n",
              "      <td>ENGL</td>\n",
              "      <td>EPISCOPALIAN</td>\n",
              "      <td>DIVORCED</td>\n",
              "      <td>WHITE</td>\n",
              "      <td>2139-08-28 10:38:00</td>\n",
              "      <td>2139-08-28 14:30:00</td>\n",
              "      <td>ALTERED MENTAL STATUS; DYSPNEA</td>\n",
              "      <td>0</td>\n",
              "      <td>1</td>\n",
              "    </tr>\n",
              "    <tr>\n",
              "      <th>1</th>\n",
              "      <td>21467</td>\n",
              "      <td>17575</td>\n",
              "      <td>187131</td>\n",
              "      <td>2124-10-21 08:32:00</td>\n",
              "      <td>2124-11-01 11:14:00</td>\n",
              "      <td>NaT</td>\n",
              "      <td>EMERGENCY</td>\n",
              "      <td>EMERGENCY ROOM ADMIT</td>\n",
              "      <td>ICF</td>\n",
              "      <td>Government</td>\n",
              "      <td>None</td>\n",
              "      <td>OTHER</td>\n",
              "      <td>SINGLE</td>\n",
              "      <td>BLACK/AFRICAN AMERICAN</td>\n",
              "      <td>2124-10-21 05:04:00</td>\n",
              "      <td>2124-10-21 09:52:00</td>\n",
              "      <td>MVA;TRAUMA</td>\n",
              "      <td>0</td>\n",
              "      <td>1</td>\n",
              "    </tr>\n",
              "    <tr>\n",
              "      <th>2</th>\n",
              "      <td>30863</td>\n",
              "      <td>25251</td>\n",
              "      <td>142346</td>\n",
              "      <td>2167-01-23 16:23:00</td>\n",
              "      <td>2167-02-06 13:53:00</td>\n",
              "      <td>NaT</td>\n",
              "      <td>EMERGENCY</td>\n",
              "      <td>EMERGENCY ROOM ADMIT</td>\n",
              "      <td>ICF</td>\n",
              "      <td>Medicare</td>\n",
              "      <td>None</td>\n",
              "      <td>EPISCOPALIAN</td>\n",
              "      <td>DIVORCED</td>\n",
              "      <td>WHITE</td>\n",
              "      <td>2167-01-23 12:54:00</td>\n",
              "      <td>2167-01-23 18:00:00</td>\n",
              "      <td>INFECTED RIGHT FOOT</td>\n",
              "      <td>0</td>\n",
              "      <td>1</td>\n",
              "    </tr>\n",
              "    <tr>\n",
              "      <th>3</th>\n",
              "      <td>39212</td>\n",
              "      <td>32339</td>\n",
              "      <td>181355</td>\n",
              "      <td>2110-07-29 23:56:00</td>\n",
              "      <td>2110-08-04 15:10:00</td>\n",
              "      <td>NaT</td>\n",
              "      <td>EMERGENCY</td>\n",
              "      <td>EMERGENCY ROOM ADMIT</td>\n",
              "      <td>ICF</td>\n",
              "      <td>Medicare</td>\n",
              "      <td>ENGL</td>\n",
              "      <td>JEWISH</td>\n",
              "      <td>MARRIED</td>\n",
              "      <td>WHITE</td>\n",
              "      <td>2110-07-29 20:17:00</td>\n",
              "      <td>2110-07-30 01:24:00</td>\n",
              "      <td>GASTROINTESTINAL BLEED;CHEST PAIN;TELEMETRY</td>\n",
              "      <td>0</td>\n",
              "      <td>1</td>\n",
              "    </tr>\n",
              "    <tr>\n",
              "      <th>4</th>\n",
              "      <td>37441</td>\n",
              "      <td>30746</td>\n",
              "      <td>155603</td>\n",
              "      <td>2131-08-22 23:07:00</td>\n",
              "      <td>2131-08-28 13:10:00</td>\n",
              "      <td>NaT</td>\n",
              "      <td>EMERGENCY</td>\n",
              "      <td>EMERGENCY ROOM ADMIT</td>\n",
              "      <td>ICF</td>\n",
              "      <td>Medicare</td>\n",
              "      <td>ENGL</td>\n",
              "      <td>JEWISH</td>\n",
              "      <td>DIVORCED</td>\n",
              "      <td>WHITE</td>\n",
              "      <td>2131-08-22 14:15:00</td>\n",
              "      <td>2131-08-23 01:20:00</td>\n",
              "      <td>ALTERED MENTAL STATUS</td>\n",
              "      <td>0</td>\n",
              "      <td>1</td>\n",
              "    </tr>\n",
              "    <tr>\n",
              "      <th>...</th>\n",
              "      <td>...</td>\n",
              "      <td>...</td>\n",
              "      <td>...</td>\n",
              "      <td>...</td>\n",
              "      <td>...</td>\n",
              "      <td>...</td>\n",
              "      <td>...</td>\n",
              "      <td>...</td>\n",
              "      <td>...</td>\n",
              "      <td>...</td>\n",
              "      <td>...</td>\n",
              "      <td>...</td>\n",
              "      <td>...</td>\n",
              "      <td>...</td>\n",
              "      <td>...</td>\n",
              "      <td>...</td>\n",
              "      <td>...</td>\n",
              "      <td>...</td>\n",
              "      <td>...</td>\n",
              "    </tr>\n",
              "    <tr>\n",
              "      <th>58971</th>\n",
              "      <td>38142</td>\n",
              "      <td>31355</td>\n",
              "      <td>146717</td>\n",
              "      <td>2110-07-28 22:03:00</td>\n",
              "      <td>2110-07-30 19:00:00</td>\n",
              "      <td>None</td>\n",
              "      <td>EMERGENCY</td>\n",
              "      <td>TRANSFER FROM HOSP/EXTRAM</td>\n",
              "      <td>LEFT AGAINST MEDICAL ADVI</td>\n",
              "      <td>Private</td>\n",
              "      <td>PTUN</td>\n",
              "      <td>UNOBTAINABLE</td>\n",
              "      <td>None</td>\n",
              "      <td>UNKNOWN/NOT SPECIFIED</td>\n",
              "      <td>NaT</td>\n",
              "      <td>NaT</td>\n",
              "      <td>NECROTIZING PANCREATITIS</td>\n",
              "      <td>0</td>\n",
              "      <td>1</td>\n",
              "    </tr>\n",
              "    <tr>\n",
              "      <th>58972</th>\n",
              "      <td>45558</td>\n",
              "      <td>58016</td>\n",
              "      <td>105567</td>\n",
              "      <td>2118-10-08 20:59:00</td>\n",
              "      <td>2118-10-11 09:02:00</td>\n",
              "      <td>None</td>\n",
              "      <td>EMERGENCY</td>\n",
              "      <td>TRANSFER FROM HOSP/EXTRAM</td>\n",
              "      <td>LEFT AGAINST MEDICAL ADVI</td>\n",
              "      <td>Medicaid</td>\n",
              "      <td>PTUN</td>\n",
              "      <td>BUDDHIST</td>\n",
              "      <td>DIVORCED</td>\n",
              "      <td>UNABLE TO OBTAIN</td>\n",
              "      <td>NaT</td>\n",
              "      <td>NaT</td>\n",
              "      <td>GALLSTONES</td>\n",
              "      <td>0</td>\n",
              "      <td>1</td>\n",
              "    </tr>\n",
              "    <tr>\n",
              "      <th>58973</th>\n",
              "      <td>47608</td>\n",
              "      <td>64255</td>\n",
              "      <td>145415</td>\n",
              "      <td>2151-11-05 22:32:00</td>\n",
              "      <td>2151-11-07 13:10:00</td>\n",
              "      <td>None</td>\n",
              "      <td>EMERGENCY</td>\n",
              "      <td>TRANSFER FROM HOSP/EXTRAM</td>\n",
              "      <td>LEFT AGAINST MEDICAL ADVI</td>\n",
              "      <td>Private</td>\n",
              "      <td>PTUN</td>\n",
              "      <td>NOT SPECIFIED</td>\n",
              "      <td>MARRIED</td>\n",
              "      <td>WHITE</td>\n",
              "      <td>NaT</td>\n",
              "      <td>NaT</td>\n",
              "      <td>STATUS EPILEPTICUS</td>\n",
              "      <td>0</td>\n",
              "      <td>1</td>\n",
              "    </tr>\n",
              "    <tr>\n",
              "      <th>58974</th>\n",
              "      <td>53619</td>\n",
              "      <td>83060</td>\n",
              "      <td>122843</td>\n",
              "      <td>2158-10-11 19:08:00</td>\n",
              "      <td>2158-10-15 12:11:00</td>\n",
              "      <td>None</td>\n",
              "      <td>EMERGENCY</td>\n",
              "      <td>TRANSFER FROM HOSP/EXTRAM</td>\n",
              "      <td>LEFT AGAINST MEDICAL ADVI</td>\n",
              "      <td>Medicare</td>\n",
              "      <td>ENGL</td>\n",
              "      <td>NOT SPECIFIED</td>\n",
              "      <td>DIVORCED</td>\n",
              "      <td>UNKNOWN/NOT SPECIFIED</td>\n",
              "      <td>NaT</td>\n",
              "      <td>NaT</td>\n",
              "      <td>RIGHTBRONCHUS MASS</td>\n",
              "      <td>0</td>\n",
              "      <td>1</td>\n",
              "    </tr>\n",
              "    <tr>\n",
              "      <th>58975</th>\n",
              "      <td>54130</td>\n",
              "      <td>84694</td>\n",
              "      <td>149446</td>\n",
              "      <td>2173-03-20 20:01:00</td>\n",
              "      <td>2173-03-23 22:25:00</td>\n",
              "      <td>None</td>\n",
              "      <td>URGENT</td>\n",
              "      <td>TRANSFER FROM HOSP/EXTRAM</td>\n",
              "      <td>LEFT AGAINST MEDICAL ADVI</td>\n",
              "      <td>Medicare</td>\n",
              "      <td>ENGL</td>\n",
              "      <td>NOT SPECIFIED</td>\n",
              "      <td>SINGLE</td>\n",
              "      <td>WHITE</td>\n",
              "      <td>NaT</td>\n",
              "      <td>NaT</td>\n",
              "      <td>HEMOPTYSIS</td>\n",
              "      <td>0</td>\n",
              "      <td>1</td>\n",
              "    </tr>\n",
              "  </tbody>\n",
              "</table>\n",
              "<p>58976 rows × 19 columns</p>\n",
              "</div>"
            ],
            "text/plain": [
              "       ROW_ID  SUBJECT_ID  ...  HOSPITAL_EXPIRE_FLAG HAS_CHARTEVENTS_DATA\n",
              "0        8902        7275  ...                     0                    1\n",
              "1       21467       17575  ...                     0                    1\n",
              "2       30863       25251  ...                     0                    1\n",
              "3       39212       32339  ...                     0                    1\n",
              "4       37441       30746  ...                     0                    1\n",
              "...       ...         ...  ...                   ...                  ...\n",
              "58971   38142       31355  ...                     0                    1\n",
              "58972   45558       58016  ...                     0                    1\n",
              "58973   47608       64255  ...                     0                    1\n",
              "58974   53619       83060  ...                     0                    1\n",
              "58975   54130       84694  ...                     0                    1\n",
              "\n",
              "[58976 rows x 19 columns]"
            ]
          },
          "metadata": {
            "tags": []
          },
          "execution_count": 31
        }
      ]
    },
    {
      "cell_type": "markdown",
      "metadata": {
        "id": "DZB2H3ymLu8F"
      },
      "source": [
        "For some advanced usage such as to incorporate a Python variable in SQL queries, check out the example [here](https://colab.research.google.com/notebooks/bigquery.ipynb#scrollTo=fkhbyGaXKs_6)."
      ]
    },
    {
      "cell_type": "markdown",
      "metadata": {
        "id": "3gnW1Wz-N6uI"
      },
      "source": [
        "# Basic Pandas functions"
      ]
    },
    {
      "cell_type": "markdown",
      "metadata": {
        "id": "hPRFWZEFOL2C"
      },
      "source": [
        "* `DataFrame.columns` shows a list of column names of a `DataFrame`\r\n",
        "* `DataFrame.describe()` shows summary statistics about a `DataFrame` for all numerical columns\r\n",
        "* `DataFrame.head()` displays the first few records of a `DataFrame`\r\n",
        "* `Series.unique()` shows a list of unique values of a (categorical) column\r\n",
        "* `Series.value_counts()` counts and tallies the occurrence of each value in a (categorical) column\r\n",
        "* `Series.hist()` lets you quickly study the distribution of values in a numerical column"
      ]
    },
    {
      "cell_type": "code",
      "metadata": {
        "colab": {
          "base_uri": "https://localhost:8080/"
        },
        "id": "zQyaqYSIOiRT",
        "outputId": "8d8b03f6-5684-4e4a-f775-6c2224ee50fd"
      },
      "source": [
        "df.columns"
      ],
      "execution_count": null,
      "outputs": [
        {
          "output_type": "execute_result",
          "data": {
            "text/plain": [
              "Index(['ROW_ID', 'SUBJECT_ID', 'HADM_ID', 'ADMITTIME', 'DISCHTIME',\n",
              "       'DEATHTIME', 'ADMISSION_TYPE', 'ADMISSION_LOCATION',\n",
              "       'DISCHARGE_LOCATION', 'INSURANCE', 'LANGUAGE', 'RELIGION',\n",
              "       'MARITAL_STATUS', 'ETHNICITY', 'EDREGTIME', 'EDOUTTIME', 'DIAGNOSIS',\n",
              "       'HOSPITAL_EXPIRE_FLAG', 'HAS_CHARTEVENTS_DATA'],\n",
              "      dtype='object')"
            ]
          },
          "metadata": {
            "tags": []
          },
          "execution_count": 32
        }
      ]
    },
    {
      "cell_type": "code",
      "metadata": {
        "colab": {
          "base_uri": "https://localhost:8080/",
          "height": 248
        },
        "id": "-oBRwgFNOExA",
        "outputId": "26a20695-c3d4-43dd-87b0-b503e25881aa"
      },
      "source": [
        "df.describe()"
      ],
      "execution_count": null,
      "outputs": [
        {
          "output_type": "execute_result",
          "data": {
            "application/vnd.google.colaboratory.module+javascript": "\n      import \"https://ssl.gstatic.com/colaboratory/data_table/a6224c040fa35dcf/data_table.js\";\n\n      window.createDataTable({\n        data: [[\"count\",\n{\n            'v': 58976.0,\n            'f': \"58976.0\",\n        },\n{\n            'v': 58976.0,\n            'f': \"58976.0\",\n        },\n{\n            'v': 58976.0,\n            'f': \"58976.0\",\n        },\n{\n            'v': 58976.0,\n            'f': \"58976.0\",\n        },\n{\n            'v': 58976.0,\n            'f': \"58976.0\",\n        }],\n [\"mean\",\n{\n            'v': 29488.5,\n            'f': \"29488.5\",\n        },\n{\n            'v': 33755.5832881172,\n            'f': \"33755.5832881172\",\n        },\n{\n            'v': 149970.8095835594,\n            'f': \"149970.8095835594\",\n        },\n{\n            'v': 0.09926071622354857,\n            'f': \"0.09926071622354857\",\n        },\n{\n            'v': 0.9730059685295713,\n            'f': \"0.9730059685295713\",\n        }],\n [\"std\",\n{\n            'v': 17025.049074819137,\n            'f': \"17025.049074819137\",\n        },\n{\n            'v': 28092.72622517041,\n            'f': \"28092.72622517041\",\n        },\n{\n            'v': 28883.095213439825,\n            'f': \"28883.095213439825\",\n        },\n{\n            'v': 0.29901428472753816,\n            'f': \"0.29901428472753816\",\n        },\n{\n            'v': 0.16206726720591463,\n            'f': \"0.16206726720591463\",\n        }],\n [\"min\",\n{\n            'v': 1.0,\n            'f': \"1.0\",\n        },\n{\n            'v': 2.0,\n            'f': \"2.0\",\n        },\n{\n            'v': 100001.0,\n            'f': \"100001.0\",\n        },\n{\n            'v': 0.0,\n            'f': \"0.0\",\n        },\n{\n            'v': 0.0,\n            'f': \"0.0\",\n        }],\n [\"25%\",\n{\n            'v': 14744.75,\n            'f': \"14744.75\",\n        },\n{\n            'v': 11993.75,\n            'f': \"11993.75\",\n        },\n{\n            'v': 124952.75,\n            'f': \"124952.75\",\n        },\n{\n            'v': 0.0,\n            'f': \"0.0\",\n        },\n{\n            'v': 1.0,\n            'f': \"1.0\",\n        }],\n [\"50%\",\n{\n            'v': 29488.5,\n            'f': \"29488.5\",\n        },\n{\n            'v': 24133.5,\n            'f': \"24133.5\",\n        },\n{\n            'v': 149989.5,\n            'f': \"149989.5\",\n        },\n{\n            'v': 0.0,\n            'f': \"0.0\",\n        },\n{\n            'v': 1.0,\n            'f': \"1.0\",\n        }],\n [\"75%\",\n{\n            'v': 44232.25,\n            'f': \"44232.25\",\n        },\n{\n            'v': 53851.5,\n            'f': \"53851.5\",\n        },\n{\n            'v': 174966.5,\n            'f': \"174966.5\",\n        },\n{\n            'v': 0.0,\n            'f': \"0.0\",\n        },\n{\n            'v': 1.0,\n            'f': \"1.0\",\n        }],\n [\"max\",\n{\n            'v': 58976.0,\n            'f': \"58976.0\",\n        },\n{\n            'v': 99999.0,\n            'f': \"99999.0\",\n        },\n{\n            'v': 199999.0,\n            'f': \"199999.0\",\n        },\n{\n            'v': 1.0,\n            'f': \"1.0\",\n        },\n{\n            'v': 1.0,\n            'f': \"1.0\",\n        }]],\n        columns: [[\"string\", \"index\"], [\"number\", \"ROW_ID\"], [\"number\", \"SUBJECT_ID\"], [\"number\", \"HADM_ID\"], [\"number\", \"HOSPITAL_EXPIRE_FLAG\"], [\"number\", \"HAS_CHARTEVENTS_DATA\"]],\n        columnOptions: [{\"width\": \"1px\", \"className\": \"index_column\"}],\n        rowsPerPage: 25,\n        helpUrl: \"https://colab.research.google.com/notebooks/data_table.ipynb\",\n        suppressOutputScrolling: true,\n        minimumWidth: undefined,\n      });\n    ",
            "text/html": [
              "<div>\n",
              "<style scoped>\n",
              "    .dataframe tbody tr th:only-of-type {\n",
              "        vertical-align: middle;\n",
              "    }\n",
              "\n",
              "    .dataframe tbody tr th {\n",
              "        vertical-align: top;\n",
              "    }\n",
              "\n",
              "    .dataframe thead th {\n",
              "        text-align: right;\n",
              "    }\n",
              "</style>\n",
              "<table border=\"1\" class=\"dataframe\">\n",
              "  <thead>\n",
              "    <tr style=\"text-align: right;\">\n",
              "      <th></th>\n",
              "      <th>ROW_ID</th>\n",
              "      <th>SUBJECT_ID</th>\n",
              "      <th>HADM_ID</th>\n",
              "      <th>HOSPITAL_EXPIRE_FLAG</th>\n",
              "      <th>HAS_CHARTEVENTS_DATA</th>\n",
              "    </tr>\n",
              "  </thead>\n",
              "  <tbody>\n",
              "    <tr>\n",
              "      <th>count</th>\n",
              "      <td>58976.000000</td>\n",
              "      <td>58976.000000</td>\n",
              "      <td>58976.000000</td>\n",
              "      <td>58976.000000</td>\n",
              "      <td>58976.000000</td>\n",
              "    </tr>\n",
              "    <tr>\n",
              "      <th>mean</th>\n",
              "      <td>29488.500000</td>\n",
              "      <td>33755.583288</td>\n",
              "      <td>149970.809584</td>\n",
              "      <td>0.099261</td>\n",
              "      <td>0.973006</td>\n",
              "    </tr>\n",
              "    <tr>\n",
              "      <th>std</th>\n",
              "      <td>17025.049075</td>\n",
              "      <td>28092.726225</td>\n",
              "      <td>28883.095213</td>\n",
              "      <td>0.299014</td>\n",
              "      <td>0.162067</td>\n",
              "    </tr>\n",
              "    <tr>\n",
              "      <th>min</th>\n",
              "      <td>1.000000</td>\n",
              "      <td>2.000000</td>\n",
              "      <td>100001.000000</td>\n",
              "      <td>0.000000</td>\n",
              "      <td>0.000000</td>\n",
              "    </tr>\n",
              "    <tr>\n",
              "      <th>25%</th>\n",
              "      <td>14744.750000</td>\n",
              "      <td>11993.750000</td>\n",
              "      <td>124952.750000</td>\n",
              "      <td>0.000000</td>\n",
              "      <td>1.000000</td>\n",
              "    </tr>\n",
              "    <tr>\n",
              "      <th>50%</th>\n",
              "      <td>29488.500000</td>\n",
              "      <td>24133.500000</td>\n",
              "      <td>149989.500000</td>\n",
              "      <td>0.000000</td>\n",
              "      <td>1.000000</td>\n",
              "    </tr>\n",
              "    <tr>\n",
              "      <th>75%</th>\n",
              "      <td>44232.250000</td>\n",
              "      <td>53851.500000</td>\n",
              "      <td>174966.500000</td>\n",
              "      <td>0.000000</td>\n",
              "      <td>1.000000</td>\n",
              "    </tr>\n",
              "    <tr>\n",
              "      <th>max</th>\n",
              "      <td>58976.000000</td>\n",
              "      <td>99999.000000</td>\n",
              "      <td>199999.000000</td>\n",
              "      <td>1.000000</td>\n",
              "      <td>1.000000</td>\n",
              "    </tr>\n",
              "  </tbody>\n",
              "</table>\n",
              "</div>"
            ],
            "text/plain": [
              "             ROW_ID    SUBJECT_ID  ...  HOSPITAL_EXPIRE_FLAG  HAS_CHARTEVENTS_DATA\n",
              "count  58976.000000  58976.000000  ...          58976.000000          58976.000000\n",
              "mean   29488.500000  33755.583288  ...              0.099261              0.973006\n",
              "std    17025.049075  28092.726225  ...              0.299014              0.162067\n",
              "min        1.000000      2.000000  ...              0.000000              0.000000\n",
              "25%    14744.750000  11993.750000  ...              0.000000              1.000000\n",
              "50%    29488.500000  24133.500000  ...              0.000000              1.000000\n",
              "75%    44232.250000  53851.500000  ...              0.000000              1.000000\n",
              "max    58976.000000  99999.000000  ...              1.000000              1.000000\n",
              "\n",
              "[8 rows x 5 columns]"
            ]
          },
          "metadata": {
            "tags": []
          },
          "execution_count": 41
        }
      ]
    },
    {
      "cell_type": "code",
      "metadata": {
        "colab": {
          "base_uri": "https://localhost:8080/",
          "height": 301
        },
        "id": "F-1OMA50PIpk",
        "outputId": "8c7a2ccf-825e-442d-d7fc-7d3ee95e7511"
      },
      "source": [
        "df.head()"
      ],
      "execution_count": null,
      "outputs": [
        {
          "output_type": "execute_result",
          "data": {
            "application/vnd.google.colaboratory.module+javascript": "\n      import \"https://ssl.gstatic.com/colaboratory/data_table/a6224c040fa35dcf/data_table.js\";\n\n      window.createDataTable({\n        data: [[{\n            'v': 0,\n            'f': \"0\",\n        },\n{\n            'v': 8902,\n            'f': \"8902\",\n        },\n{\n            'v': 7275,\n            'f': \"7275\",\n        },\n{\n            'v': 136809,\n            'f': \"136809\",\n        },\n\"2139-08-28 12:35:00\",\n\"2139-09-01 16:32:00\",\n\"NaT\",\n\"EMERGENCY\",\n\"EMERGENCY ROOM ADMIT\",\n\"ICF\",\n\"Medicare\",\n\"ENGL\",\n\"EPISCOPALIAN\",\n\"DIVORCED\",\n\"WHITE\",\n\"2139-08-28 10:38:00\",\n\"2139-08-28 14:30:00\",\n\"ALTERED MENTAL STATUS; DYSPNEA\",\n{\n            'v': 0,\n            'f': \"0\",\n        },\n{\n            'v': 1,\n            'f': \"1\",\n        }],\n [{\n            'v': 1,\n            'f': \"1\",\n        },\n{\n            'v': 21467,\n            'f': \"21467\",\n        },\n{\n            'v': 17575,\n            'f': \"17575\",\n        },\n{\n            'v': 187131,\n            'f': \"187131\",\n        },\n\"2124-10-21 08:32:00\",\n\"2124-11-01 11:14:00\",\n\"NaT\",\n\"EMERGENCY\",\n\"EMERGENCY ROOM ADMIT\",\n\"ICF\",\n\"Government\",\nnull,\n\"OTHER\",\n\"SINGLE\",\n\"BLACK/AFRICAN AMERICAN\",\n\"2124-10-21 05:04:00\",\n\"2124-10-21 09:52:00\",\n\"MVA;TRAUMA\",\n{\n            'v': 0,\n            'f': \"0\",\n        },\n{\n            'v': 1,\n            'f': \"1\",\n        }],\n [{\n            'v': 2,\n            'f': \"2\",\n        },\n{\n            'v': 30863,\n            'f': \"30863\",\n        },\n{\n            'v': 25251,\n            'f': \"25251\",\n        },\n{\n            'v': 142346,\n            'f': \"142346\",\n        },\n\"2167-01-23 16:23:00\",\n\"2167-02-06 13:53:00\",\n\"NaT\",\n\"EMERGENCY\",\n\"EMERGENCY ROOM ADMIT\",\n\"ICF\",\n\"Medicare\",\nnull,\n\"EPISCOPALIAN\",\n\"DIVORCED\",\n\"WHITE\",\n\"2167-01-23 12:54:00\",\n\"2167-01-23 18:00:00\",\n\"INFECTED RIGHT FOOT\",\n{\n            'v': 0,\n            'f': \"0\",\n        },\n{\n            'v': 1,\n            'f': \"1\",\n        }],\n [{\n            'v': 3,\n            'f': \"3\",\n        },\n{\n            'v': 39212,\n            'f': \"39212\",\n        },\n{\n            'v': 32339,\n            'f': \"32339\",\n        },\n{\n            'v': 181355,\n            'f': \"181355\",\n        },\n\"2110-07-29 23:56:00\",\n\"2110-08-04 15:10:00\",\n\"NaT\",\n\"EMERGENCY\",\n\"EMERGENCY ROOM ADMIT\",\n\"ICF\",\n\"Medicare\",\n\"ENGL\",\n\"JEWISH\",\n\"MARRIED\",\n\"WHITE\",\n\"2110-07-29 20:17:00\",\n\"2110-07-30 01:24:00\",\n\"GASTROINTESTINAL BLEED;CHEST PAIN;TELEMETRY\",\n{\n            'v': 0,\n            'f': \"0\",\n        },\n{\n            'v': 1,\n            'f': \"1\",\n        }],\n [{\n            'v': 4,\n            'f': \"4\",\n        },\n{\n            'v': 37441,\n            'f': \"37441\",\n        },\n{\n            'v': 30746,\n            'f': \"30746\",\n        },\n{\n            'v': 155603,\n            'f': \"155603\",\n        },\n\"2131-08-22 23:07:00\",\n\"2131-08-28 13:10:00\",\n\"NaT\",\n\"EMERGENCY\",\n\"EMERGENCY ROOM ADMIT\",\n\"ICF\",\n\"Medicare\",\n\"ENGL\",\n\"JEWISH\",\n\"DIVORCED\",\n\"WHITE\",\n\"2131-08-22 14:15:00\",\n\"2131-08-23 01:20:00\",\n\"ALTERED MENTAL STATUS\",\n{\n            'v': 0,\n            'f': \"0\",\n        },\n{\n            'v': 1,\n            'f': \"1\",\n        }]],\n        columns: [[\"number\", \"index\"], [\"number\", \"ROW_ID\"], [\"number\", \"SUBJECT_ID\"], [\"number\", \"HADM_ID\"], [\"string\", \"ADMITTIME\"], [\"string\", \"DISCHTIME\"], [\"string\", \"DEATHTIME\"], [\"string\", \"ADMISSION_TYPE\"], [\"string\", \"ADMISSION_LOCATION\"], [\"string\", \"DISCHARGE_LOCATION\"], [\"string\", \"INSURANCE\"], [\"string\", \"LANGUAGE\"], [\"string\", \"RELIGION\"], [\"string\", \"MARITAL_STATUS\"], [\"string\", \"ETHNICITY\"], [\"string\", \"EDREGTIME\"], [\"string\", \"EDOUTTIME\"], [\"string\", \"DIAGNOSIS\"], [\"number\", \"HOSPITAL_EXPIRE_FLAG\"], [\"number\", \"HAS_CHARTEVENTS_DATA\"]],\n        columnOptions: [{\"width\": \"1px\", \"className\": \"index_column\"}],\n        rowsPerPage: 25,\n        helpUrl: \"https://colab.research.google.com/notebooks/data_table.ipynb\",\n        suppressOutputScrolling: true,\n        minimumWidth: undefined,\n      });\n    ",
            "text/html": [
              "<div>\n",
              "<style scoped>\n",
              "    .dataframe tbody tr th:only-of-type {\n",
              "        vertical-align: middle;\n",
              "    }\n",
              "\n",
              "    .dataframe tbody tr th {\n",
              "        vertical-align: top;\n",
              "    }\n",
              "\n",
              "    .dataframe thead th {\n",
              "        text-align: right;\n",
              "    }\n",
              "</style>\n",
              "<table border=\"1\" class=\"dataframe\">\n",
              "  <thead>\n",
              "    <tr style=\"text-align: right;\">\n",
              "      <th></th>\n",
              "      <th>ROW_ID</th>\n",
              "      <th>SUBJECT_ID</th>\n",
              "      <th>HADM_ID</th>\n",
              "      <th>ADMITTIME</th>\n",
              "      <th>DISCHTIME</th>\n",
              "      <th>DEATHTIME</th>\n",
              "      <th>ADMISSION_TYPE</th>\n",
              "      <th>ADMISSION_LOCATION</th>\n",
              "      <th>DISCHARGE_LOCATION</th>\n",
              "      <th>INSURANCE</th>\n",
              "      <th>LANGUAGE</th>\n",
              "      <th>RELIGION</th>\n",
              "      <th>MARITAL_STATUS</th>\n",
              "      <th>ETHNICITY</th>\n",
              "      <th>EDREGTIME</th>\n",
              "      <th>EDOUTTIME</th>\n",
              "      <th>DIAGNOSIS</th>\n",
              "      <th>HOSPITAL_EXPIRE_FLAG</th>\n",
              "      <th>HAS_CHARTEVENTS_DATA</th>\n",
              "    </tr>\n",
              "  </thead>\n",
              "  <tbody>\n",
              "    <tr>\n",
              "      <th>0</th>\n",
              "      <td>8902</td>\n",
              "      <td>7275</td>\n",
              "      <td>136809</td>\n",
              "      <td>2139-08-28 12:35:00</td>\n",
              "      <td>2139-09-01 16:32:00</td>\n",
              "      <td>NaT</td>\n",
              "      <td>EMERGENCY</td>\n",
              "      <td>EMERGENCY ROOM ADMIT</td>\n",
              "      <td>ICF</td>\n",
              "      <td>Medicare</td>\n",
              "      <td>ENGL</td>\n",
              "      <td>EPISCOPALIAN</td>\n",
              "      <td>DIVORCED</td>\n",
              "      <td>WHITE</td>\n",
              "      <td>2139-08-28 10:38:00</td>\n",
              "      <td>2139-08-28 14:30:00</td>\n",
              "      <td>ALTERED MENTAL STATUS; DYSPNEA</td>\n",
              "      <td>0</td>\n",
              "      <td>1</td>\n",
              "    </tr>\n",
              "    <tr>\n",
              "      <th>1</th>\n",
              "      <td>21467</td>\n",
              "      <td>17575</td>\n",
              "      <td>187131</td>\n",
              "      <td>2124-10-21 08:32:00</td>\n",
              "      <td>2124-11-01 11:14:00</td>\n",
              "      <td>NaT</td>\n",
              "      <td>EMERGENCY</td>\n",
              "      <td>EMERGENCY ROOM ADMIT</td>\n",
              "      <td>ICF</td>\n",
              "      <td>Government</td>\n",
              "      <td>None</td>\n",
              "      <td>OTHER</td>\n",
              "      <td>SINGLE</td>\n",
              "      <td>BLACK/AFRICAN AMERICAN</td>\n",
              "      <td>2124-10-21 05:04:00</td>\n",
              "      <td>2124-10-21 09:52:00</td>\n",
              "      <td>MVA;TRAUMA</td>\n",
              "      <td>0</td>\n",
              "      <td>1</td>\n",
              "    </tr>\n",
              "    <tr>\n",
              "      <th>2</th>\n",
              "      <td>30863</td>\n",
              "      <td>25251</td>\n",
              "      <td>142346</td>\n",
              "      <td>2167-01-23 16:23:00</td>\n",
              "      <td>2167-02-06 13:53:00</td>\n",
              "      <td>NaT</td>\n",
              "      <td>EMERGENCY</td>\n",
              "      <td>EMERGENCY ROOM ADMIT</td>\n",
              "      <td>ICF</td>\n",
              "      <td>Medicare</td>\n",
              "      <td>None</td>\n",
              "      <td>EPISCOPALIAN</td>\n",
              "      <td>DIVORCED</td>\n",
              "      <td>WHITE</td>\n",
              "      <td>2167-01-23 12:54:00</td>\n",
              "      <td>2167-01-23 18:00:00</td>\n",
              "      <td>INFECTED RIGHT FOOT</td>\n",
              "      <td>0</td>\n",
              "      <td>1</td>\n",
              "    </tr>\n",
              "    <tr>\n",
              "      <th>3</th>\n",
              "      <td>39212</td>\n",
              "      <td>32339</td>\n",
              "      <td>181355</td>\n",
              "      <td>2110-07-29 23:56:00</td>\n",
              "      <td>2110-08-04 15:10:00</td>\n",
              "      <td>NaT</td>\n",
              "      <td>EMERGENCY</td>\n",
              "      <td>EMERGENCY ROOM ADMIT</td>\n",
              "      <td>ICF</td>\n",
              "      <td>Medicare</td>\n",
              "      <td>ENGL</td>\n",
              "      <td>JEWISH</td>\n",
              "      <td>MARRIED</td>\n",
              "      <td>WHITE</td>\n",
              "      <td>2110-07-29 20:17:00</td>\n",
              "      <td>2110-07-30 01:24:00</td>\n",
              "      <td>GASTROINTESTINAL BLEED;CHEST PAIN;TELEMETRY</td>\n",
              "      <td>0</td>\n",
              "      <td>1</td>\n",
              "    </tr>\n",
              "    <tr>\n",
              "      <th>4</th>\n",
              "      <td>37441</td>\n",
              "      <td>30746</td>\n",
              "      <td>155603</td>\n",
              "      <td>2131-08-22 23:07:00</td>\n",
              "      <td>2131-08-28 13:10:00</td>\n",
              "      <td>NaT</td>\n",
              "      <td>EMERGENCY</td>\n",
              "      <td>EMERGENCY ROOM ADMIT</td>\n",
              "      <td>ICF</td>\n",
              "      <td>Medicare</td>\n",
              "      <td>ENGL</td>\n",
              "      <td>JEWISH</td>\n",
              "      <td>DIVORCED</td>\n",
              "      <td>WHITE</td>\n",
              "      <td>2131-08-22 14:15:00</td>\n",
              "      <td>2131-08-23 01:20:00</td>\n",
              "      <td>ALTERED MENTAL STATUS</td>\n",
              "      <td>0</td>\n",
              "      <td>1</td>\n",
              "    </tr>\n",
              "  </tbody>\n",
              "</table>\n",
              "</div>"
            ],
            "text/plain": [
              "   ROW_ID  SUBJECT_ID  ...  HOSPITAL_EXPIRE_FLAG HAS_CHARTEVENTS_DATA\n",
              "0    8902        7275  ...                     0                    1\n",
              "1   21467       17575  ...                     0                    1\n",
              "2   30863       25251  ...                     0                    1\n",
              "3   39212       32339  ...                     0                    1\n",
              "4   37441       30746  ...                     0                    1\n",
              "\n",
              "[5 rows x 19 columns]"
            ]
          },
          "metadata": {
            "tags": []
          },
          "execution_count": 34
        }
      ]
    },
    {
      "cell_type": "code",
      "metadata": {
        "colab": {
          "base_uri": "https://localhost:8080/"
        },
        "id": "VE4iqK8yUITv",
        "outputId": "18cf425e-68a4-4db7-df44-6b60ebcaedba"
      },
      "source": [
        "df['ADMISSION_TYPE'].unique()"
      ],
      "execution_count": null,
      "outputs": [
        {
          "output_type": "execute_result",
          "data": {
            "text/plain": [
              "array(['EMERGENCY', 'ELECTIVE', 'URGENT', 'NEWBORN'], dtype=object)"
            ]
          },
          "metadata": {
            "tags": []
          },
          "execution_count": 46
        }
      ]
    },
    {
      "cell_type": "code",
      "metadata": {
        "colab": {
          "base_uri": "https://localhost:8080/"
        },
        "id": "yg1KCsgZUO5i",
        "outputId": "663846b7-3a01-48e6-9a35-ca22f41575a8"
      },
      "source": [
        "df['ADMISSION_TYPE'].value_counts()"
      ],
      "execution_count": null,
      "outputs": [
        {
          "output_type": "execute_result",
          "data": {
            "text/plain": [
              "EMERGENCY    42071\n",
              "NEWBORN       7863\n",
              "ELECTIVE      7706\n",
              "URGENT        1336\n",
              "Name: ADMISSION_TYPE, dtype: int64"
            ]
          },
          "metadata": {
            "tags": []
          },
          "execution_count": 47
        }
      ]
    },
    {
      "cell_type": "markdown",
      "metadata": {
        "id": "un4-JUJBRD7r"
      },
      "source": [
        "All variables are either identifiers or categorical variables in the above MIMIC example.\r\n",
        "\r\n",
        "To showcase the functions for numerical data, let us download an external dataset about [housing in different areas of California](https://developers.google.com/machine-learning/crash-course/california-housing-data-description). "
      ]
    },
    {
      "cell_type": "code",
      "metadata": {
        "colab": {
          "base_uri": "https://localhost:8080/",
          "height": 188
        },
        "id": "eRQ9T2ZbPRNc",
        "outputId": "a9bae064-4ad8-4498-a7ab-5b0c4eafe512"
      },
      "source": [
        "df_ca_housing = pd.read_csv(\"https://download.mlcc.google.com/mledu-datasets/california_housing_train.csv\", sep=\",\")\r\n",
        "df_ca_housing.head()"
      ],
      "execution_count": null,
      "outputs": [
        {
          "output_type": "execute_result",
          "data": {
            "application/vnd.google.colaboratory.module+javascript": "\n      import \"https://ssl.gstatic.com/colaboratory/data_table/a6224c040fa35dcf/data_table.js\";\n\n      window.createDataTable({\n        data: [[{\n            'v': 0,\n            'f': \"0\",\n        },\n{\n            'v': -114.31,\n            'f': \"-114.31\",\n        },\n{\n            'v': 34.19,\n            'f': \"34.19\",\n        },\n{\n            'v': 15,\n            'f': \"15\",\n        },\n{\n            'v': 5612,\n            'f': \"5612\",\n        },\n{\n            'v': 1283,\n            'f': \"1283\",\n        },\n{\n            'v': 1015,\n            'f': \"1015\",\n        },\n{\n            'v': 472,\n            'f': \"472\",\n        },\n{\n            'v': 1.4936,\n            'f': \"1.4936\",\n        },\n{\n            'v': 66900,\n            'f': \"66900\",\n        }],\n [{\n            'v': 1,\n            'f': \"1\",\n        },\n{\n            'v': -114.47,\n            'f': \"-114.47\",\n        },\n{\n            'v': 34.4,\n            'f': \"34.4\",\n        },\n{\n            'v': 19,\n            'f': \"19\",\n        },\n{\n            'v': 7650,\n            'f': \"7650\",\n        },\n{\n            'v': 1901,\n            'f': \"1901\",\n        },\n{\n            'v': 1129,\n            'f': \"1129\",\n        },\n{\n            'v': 463,\n            'f': \"463\",\n        },\n{\n            'v': 1.82,\n            'f': \"1.82\",\n        },\n{\n            'v': 80100,\n            'f': \"80100\",\n        }],\n [{\n            'v': 2,\n            'f': \"2\",\n        },\n{\n            'v': -114.56,\n            'f': \"-114.56\",\n        },\n{\n            'v': 33.69,\n            'f': \"33.69\",\n        },\n{\n            'v': 17,\n            'f': \"17\",\n        },\n{\n            'v': 720,\n            'f': \"720\",\n        },\n{\n            'v': 174,\n            'f': \"174\",\n        },\n{\n            'v': 333,\n            'f': \"333\",\n        },\n{\n            'v': 117,\n            'f': \"117\",\n        },\n{\n            'v': 1.6509,\n            'f': \"1.6509\",\n        },\n{\n            'v': 85700,\n            'f': \"85700\",\n        }],\n [{\n            'v': 3,\n            'f': \"3\",\n        },\n{\n            'v': -114.57,\n            'f': \"-114.57\",\n        },\n{\n            'v': 33.64,\n            'f': \"33.64\",\n        },\n{\n            'v': 14,\n            'f': \"14\",\n        },\n{\n            'v': 1501,\n            'f': \"1501\",\n        },\n{\n            'v': 337,\n            'f': \"337\",\n        },\n{\n            'v': 515,\n            'f': \"515\",\n        },\n{\n            'v': 226,\n            'f': \"226\",\n        },\n{\n            'v': 3.1917,\n            'f': \"3.1917\",\n        },\n{\n            'v': 73400,\n            'f': \"73400\",\n        }],\n [{\n            'v': 4,\n            'f': \"4\",\n        },\n{\n            'v': -114.57,\n            'f': \"-114.57\",\n        },\n{\n            'v': 33.57,\n            'f': \"33.57\",\n        },\n{\n            'v': 20,\n            'f': \"20\",\n        },\n{\n            'v': 1454,\n            'f': \"1454\",\n        },\n{\n            'v': 326,\n            'f': \"326\",\n        },\n{\n            'v': 624,\n            'f': \"624\",\n        },\n{\n            'v': 262,\n            'f': \"262\",\n        },\n{\n            'v': 1.925,\n            'f': \"1.925\",\n        },\n{\n            'v': 65500,\n            'f': \"65500\",\n        }]],\n        columns: [[\"number\", \"index\"], [\"number\", \"longitude\"], [\"number\", \"latitude\"], [\"number\", \"housing_median_age\"], [\"number\", \"total_rooms\"], [\"number\", \"total_bedrooms\"], [\"number\", \"population\"], [\"number\", \"households\"], [\"number\", \"median_income\"], [\"number\", \"median_house_value\"]],\n        columnOptions: [{\"width\": \"1px\", \"className\": \"index_column\"}],\n        rowsPerPage: 25,\n        helpUrl: \"https://colab.research.google.com/notebooks/data_table.ipynb\",\n        suppressOutputScrolling: true,\n        minimumWidth: undefined,\n      });\n    ",
            "text/html": [
              "<div>\n",
              "<style scoped>\n",
              "    .dataframe tbody tr th:only-of-type {\n",
              "        vertical-align: middle;\n",
              "    }\n",
              "\n",
              "    .dataframe tbody tr th {\n",
              "        vertical-align: top;\n",
              "    }\n",
              "\n",
              "    .dataframe thead th {\n",
              "        text-align: right;\n",
              "    }\n",
              "</style>\n",
              "<table border=\"1\" class=\"dataframe\">\n",
              "  <thead>\n",
              "    <tr style=\"text-align: right;\">\n",
              "      <th></th>\n",
              "      <th>longitude</th>\n",
              "      <th>latitude</th>\n",
              "      <th>housing_median_age</th>\n",
              "      <th>total_rooms</th>\n",
              "      <th>total_bedrooms</th>\n",
              "      <th>population</th>\n",
              "      <th>households</th>\n",
              "      <th>median_income</th>\n",
              "      <th>median_house_value</th>\n",
              "    </tr>\n",
              "  </thead>\n",
              "  <tbody>\n",
              "    <tr>\n",
              "      <th>0</th>\n",
              "      <td>-114.31</td>\n",
              "      <td>34.19</td>\n",
              "      <td>15.0</td>\n",
              "      <td>5612.0</td>\n",
              "      <td>1283.0</td>\n",
              "      <td>1015.0</td>\n",
              "      <td>472.0</td>\n",
              "      <td>1.4936</td>\n",
              "      <td>66900.0</td>\n",
              "    </tr>\n",
              "    <tr>\n",
              "      <th>1</th>\n",
              "      <td>-114.47</td>\n",
              "      <td>34.40</td>\n",
              "      <td>19.0</td>\n",
              "      <td>7650.0</td>\n",
              "      <td>1901.0</td>\n",
              "      <td>1129.0</td>\n",
              "      <td>463.0</td>\n",
              "      <td>1.8200</td>\n",
              "      <td>80100.0</td>\n",
              "    </tr>\n",
              "    <tr>\n",
              "      <th>2</th>\n",
              "      <td>-114.56</td>\n",
              "      <td>33.69</td>\n",
              "      <td>17.0</td>\n",
              "      <td>720.0</td>\n",
              "      <td>174.0</td>\n",
              "      <td>333.0</td>\n",
              "      <td>117.0</td>\n",
              "      <td>1.6509</td>\n",
              "      <td>85700.0</td>\n",
              "    </tr>\n",
              "    <tr>\n",
              "      <th>3</th>\n",
              "      <td>-114.57</td>\n",
              "      <td>33.64</td>\n",
              "      <td>14.0</td>\n",
              "      <td>1501.0</td>\n",
              "      <td>337.0</td>\n",
              "      <td>515.0</td>\n",
              "      <td>226.0</td>\n",
              "      <td>3.1917</td>\n",
              "      <td>73400.0</td>\n",
              "    </tr>\n",
              "    <tr>\n",
              "      <th>4</th>\n",
              "      <td>-114.57</td>\n",
              "      <td>33.57</td>\n",
              "      <td>20.0</td>\n",
              "      <td>1454.0</td>\n",
              "      <td>326.0</td>\n",
              "      <td>624.0</td>\n",
              "      <td>262.0</td>\n",
              "      <td>1.9250</td>\n",
              "      <td>65500.0</td>\n",
              "    </tr>\n",
              "  </tbody>\n",
              "</table>\n",
              "</div>"
            ],
            "text/plain": [
              "   longitude  latitude  ...  median_income  median_house_value\n",
              "0    -114.31     34.19  ...         1.4936             66900.0\n",
              "1    -114.47     34.40  ...         1.8200             80100.0\n",
              "2    -114.56     33.69  ...         1.6509             85700.0\n",
              "3    -114.57     33.64  ...         3.1917             73400.0\n",
              "4    -114.57     33.57  ...         1.9250             65500.0\n",
              "\n",
              "[5 rows x 9 columns]"
            ]
          },
          "metadata": {
            "tags": []
          },
          "execution_count": 42
        }
      ]
    },
    {
      "cell_type": "code",
      "metadata": {
        "colab": {
          "base_uri": "https://localhost:8080/",
          "height": 265
        },
        "id": "b06aQJDJT3IW",
        "outputId": "4bd9b0be-a7d3-45c8-a2e6-8f27d76e2e52"
      },
      "source": [
        "df_ca_housing.describe()"
      ],
      "execution_count": null,
      "outputs": [
        {
          "output_type": "execute_result",
          "data": {
            "application/vnd.google.colaboratory.module+javascript": "\n      import \"https://ssl.gstatic.com/colaboratory/data_table/a6224c040fa35dcf/data_table.js\";\n\n      window.createDataTable({\n        data: [[\"count\",\n{\n            'v': 17000.0,\n            'f': \"17000.0\",\n        },\n{\n            'v': 17000.0,\n            'f': \"17000.0\",\n        },\n{\n            'v': 17000.0,\n            'f': \"17000.0\",\n        },\n{\n            'v': 17000.0,\n            'f': \"17000.0\",\n        },\n{\n            'v': 17000.0,\n            'f': \"17000.0\",\n        },\n{\n            'v': 17000.0,\n            'f': \"17000.0\",\n        },\n{\n            'v': 17000.0,\n            'f': \"17000.0\",\n        },\n{\n            'v': 17000.0,\n            'f': \"17000.0\",\n        },\n{\n            'v': 17000.0,\n            'f': \"17000.0\",\n        }],\n [\"mean\",\n{\n            'v': -119.56210823529375,\n            'f': \"-119.56210823529375\",\n        },\n{\n            'v': 35.6252247058827,\n            'f': \"35.6252247058827\",\n        },\n{\n            'v': 28.58935294117647,\n            'f': \"28.58935294117647\",\n        },\n{\n            'v': 2643.664411764706,\n            'f': \"2643.664411764706\",\n        },\n{\n            'v': 539.4108235294118,\n            'f': \"539.4108235294118\",\n        },\n{\n            'v': 1429.5739411764705,\n            'f': \"1429.5739411764705\",\n        },\n{\n            'v': 501.2219411764706,\n            'f': \"501.2219411764706\",\n        },\n{\n            'v': 3.883578100000021,\n            'f': \"3.883578100000021\",\n        },\n{\n            'v': 207300.91235294117,\n            'f': \"207300.91235294117\",\n        }],\n [\"std\",\n{\n            'v': 2.005166408426173,\n            'f': \"2.005166408426173\",\n        },\n{\n            'v': 2.1373397946570734,\n            'f': \"2.1373397946570734\",\n        },\n{\n            'v': 12.586936981660335,\n            'f': \"12.586936981660335\",\n        },\n{\n            'v': 2179.947071452768,\n            'f': \"2179.947071452768\",\n        },\n{\n            'v': 421.49945157986514,\n            'f': \"421.49945157986514\",\n        },\n{\n            'v': 1147.852959159525,\n            'f': \"1147.852959159525\",\n        },\n{\n            'v': 384.52084085590013,\n            'f': \"384.52084085590013\",\n        },\n{\n            'v': 1.908156518379093,\n            'f': \"1.908156518379093\",\n        },\n{\n            'v': 115983.76438720913,\n            'f': \"115983.76438720913\",\n        }],\n [\"min\",\n{\n            'v': -124.35,\n            'f': \"-124.35\",\n        },\n{\n            'v': 32.54,\n            'f': \"32.54\",\n        },\n{\n            'v': 1.0,\n            'f': \"1.0\",\n        },\n{\n            'v': 2.0,\n            'f': \"2.0\",\n        },\n{\n            'v': 1.0,\n            'f': \"1.0\",\n        },\n{\n            'v': 3.0,\n            'f': \"3.0\",\n        },\n{\n            'v': 1.0,\n            'f': \"1.0\",\n        },\n{\n            'v': 0.4999,\n            'f': \"0.4999\",\n        },\n{\n            'v': 14999.0,\n            'f': \"14999.0\",\n        }],\n [\"25%\",\n{\n            'v': -121.79,\n            'f': \"-121.79\",\n        },\n{\n            'v': 33.93,\n            'f': \"33.93\",\n        },\n{\n            'v': 18.0,\n            'f': \"18.0\",\n        },\n{\n            'v': 1462.0,\n            'f': \"1462.0\",\n        },\n{\n            'v': 297.0,\n            'f': \"297.0\",\n        },\n{\n            'v': 790.0,\n            'f': \"790.0\",\n        },\n{\n            'v': 282.0,\n            'f': \"282.0\",\n        },\n{\n            'v': 2.566375,\n            'f': \"2.566375\",\n        },\n{\n            'v': 119400.0,\n            'f': \"119400.0\",\n        }],\n [\"50%\",\n{\n            'v': -118.49,\n            'f': \"-118.49\",\n        },\n{\n            'v': 34.25,\n            'f': \"34.25\",\n        },\n{\n            'v': 29.0,\n            'f': \"29.0\",\n        },\n{\n            'v': 2127.0,\n            'f': \"2127.0\",\n        },\n{\n            'v': 434.0,\n            'f': \"434.0\",\n        },\n{\n            'v': 1167.0,\n            'f': \"1167.0\",\n        },\n{\n            'v': 409.0,\n            'f': \"409.0\",\n        },\n{\n            'v': 3.5446,\n            'f': \"3.5446\",\n        },\n{\n            'v': 180400.0,\n            'f': \"180400.0\",\n        }],\n [\"75%\",\n{\n            'v': -118.0,\n            'f': \"-118.0\",\n        },\n{\n            'v': 37.72,\n            'f': \"37.72\",\n        },\n{\n            'v': 37.0,\n            'f': \"37.0\",\n        },\n{\n            'v': 3151.25,\n            'f': \"3151.25\",\n        },\n{\n            'v': 648.25,\n            'f': \"648.25\",\n        },\n{\n            'v': 1721.0,\n            'f': \"1721.0\",\n        },\n{\n            'v': 605.25,\n            'f': \"605.25\",\n        },\n{\n            'v': 4.767,\n            'f': \"4.767\",\n        },\n{\n            'v': 265000.0,\n            'f': \"265000.0\",\n        }],\n [\"max\",\n{\n            'v': -114.31,\n            'f': \"-114.31\",\n        },\n{\n            'v': 41.95,\n            'f': \"41.95\",\n        },\n{\n            'v': 52.0,\n            'f': \"52.0\",\n        },\n{\n            'v': 37937.0,\n            'f': \"37937.0\",\n        },\n{\n            'v': 6445.0,\n            'f': \"6445.0\",\n        },\n{\n            'v': 35682.0,\n            'f': \"35682.0\",\n        },\n{\n            'v': 6082.0,\n            'f': \"6082.0\",\n        },\n{\n            'v': 15.0001,\n            'f': \"15.0001\",\n        },\n{\n            'v': 500001.0,\n            'f': \"500001.0\",\n        }]],\n        columns: [[\"string\", \"index\"], [\"number\", \"longitude\"], [\"number\", \"latitude\"], [\"number\", \"housing_median_age\"], [\"number\", \"total_rooms\"], [\"number\", \"total_bedrooms\"], [\"number\", \"population\"], [\"number\", \"households\"], [\"number\", \"median_income\"], [\"number\", \"median_house_value\"]],\n        columnOptions: [{\"width\": \"1px\", \"className\": \"index_column\"}],\n        rowsPerPage: 25,\n        helpUrl: \"https://colab.research.google.com/notebooks/data_table.ipynb\",\n        suppressOutputScrolling: true,\n        minimumWidth: undefined,\n      });\n    ",
            "text/html": [
              "<div>\n",
              "<style scoped>\n",
              "    .dataframe tbody tr th:only-of-type {\n",
              "        vertical-align: middle;\n",
              "    }\n",
              "\n",
              "    .dataframe tbody tr th {\n",
              "        vertical-align: top;\n",
              "    }\n",
              "\n",
              "    .dataframe thead th {\n",
              "        text-align: right;\n",
              "    }\n",
              "</style>\n",
              "<table border=\"1\" class=\"dataframe\">\n",
              "  <thead>\n",
              "    <tr style=\"text-align: right;\">\n",
              "      <th></th>\n",
              "      <th>longitude</th>\n",
              "      <th>latitude</th>\n",
              "      <th>housing_median_age</th>\n",
              "      <th>total_rooms</th>\n",
              "      <th>total_bedrooms</th>\n",
              "      <th>population</th>\n",
              "      <th>households</th>\n",
              "      <th>median_income</th>\n",
              "      <th>median_house_value</th>\n",
              "    </tr>\n",
              "  </thead>\n",
              "  <tbody>\n",
              "    <tr>\n",
              "      <th>count</th>\n",
              "      <td>17000.000000</td>\n",
              "      <td>17000.000000</td>\n",
              "      <td>17000.000000</td>\n",
              "      <td>17000.000000</td>\n",
              "      <td>17000.000000</td>\n",
              "      <td>17000.000000</td>\n",
              "      <td>17000.000000</td>\n",
              "      <td>17000.000000</td>\n",
              "      <td>17000.000000</td>\n",
              "    </tr>\n",
              "    <tr>\n",
              "      <th>mean</th>\n",
              "      <td>-119.562108</td>\n",
              "      <td>35.625225</td>\n",
              "      <td>28.589353</td>\n",
              "      <td>2643.664412</td>\n",
              "      <td>539.410824</td>\n",
              "      <td>1429.573941</td>\n",
              "      <td>501.221941</td>\n",
              "      <td>3.883578</td>\n",
              "      <td>207300.912353</td>\n",
              "    </tr>\n",
              "    <tr>\n",
              "      <th>std</th>\n",
              "      <td>2.005166</td>\n",
              "      <td>2.137340</td>\n",
              "      <td>12.586937</td>\n",
              "      <td>2179.947071</td>\n",
              "      <td>421.499452</td>\n",
              "      <td>1147.852959</td>\n",
              "      <td>384.520841</td>\n",
              "      <td>1.908157</td>\n",
              "      <td>115983.764387</td>\n",
              "    </tr>\n",
              "    <tr>\n",
              "      <th>min</th>\n",
              "      <td>-124.350000</td>\n",
              "      <td>32.540000</td>\n",
              "      <td>1.000000</td>\n",
              "      <td>2.000000</td>\n",
              "      <td>1.000000</td>\n",
              "      <td>3.000000</td>\n",
              "      <td>1.000000</td>\n",
              "      <td>0.499900</td>\n",
              "      <td>14999.000000</td>\n",
              "    </tr>\n",
              "    <tr>\n",
              "      <th>25%</th>\n",
              "      <td>-121.790000</td>\n",
              "      <td>33.930000</td>\n",
              "      <td>18.000000</td>\n",
              "      <td>1462.000000</td>\n",
              "      <td>297.000000</td>\n",
              "      <td>790.000000</td>\n",
              "      <td>282.000000</td>\n",
              "      <td>2.566375</td>\n",
              "      <td>119400.000000</td>\n",
              "    </tr>\n",
              "    <tr>\n",
              "      <th>50%</th>\n",
              "      <td>-118.490000</td>\n",
              "      <td>34.250000</td>\n",
              "      <td>29.000000</td>\n",
              "      <td>2127.000000</td>\n",
              "      <td>434.000000</td>\n",
              "      <td>1167.000000</td>\n",
              "      <td>409.000000</td>\n",
              "      <td>3.544600</td>\n",
              "      <td>180400.000000</td>\n",
              "    </tr>\n",
              "    <tr>\n",
              "      <th>75%</th>\n",
              "      <td>-118.000000</td>\n",
              "      <td>37.720000</td>\n",
              "      <td>37.000000</td>\n",
              "      <td>3151.250000</td>\n",
              "      <td>648.250000</td>\n",
              "      <td>1721.000000</td>\n",
              "      <td>605.250000</td>\n",
              "      <td>4.767000</td>\n",
              "      <td>265000.000000</td>\n",
              "    </tr>\n",
              "    <tr>\n",
              "      <th>max</th>\n",
              "      <td>-114.310000</td>\n",
              "      <td>41.950000</td>\n",
              "      <td>52.000000</td>\n",
              "      <td>37937.000000</td>\n",
              "      <td>6445.000000</td>\n",
              "      <td>35682.000000</td>\n",
              "      <td>6082.000000</td>\n",
              "      <td>15.000100</td>\n",
              "      <td>500001.000000</td>\n",
              "    </tr>\n",
              "  </tbody>\n",
              "</table>\n",
              "</div>"
            ],
            "text/plain": [
              "          longitude      latitude  ...  median_income  median_house_value\n",
              "count  17000.000000  17000.000000  ...   17000.000000        17000.000000\n",
              "mean    -119.562108     35.625225  ...       3.883578       207300.912353\n",
              "std        2.005166      2.137340  ...       1.908157       115983.764387\n",
              "min     -124.350000     32.540000  ...       0.499900        14999.000000\n",
              "25%     -121.790000     33.930000  ...       2.566375       119400.000000\n",
              "50%     -118.490000     34.250000  ...       3.544600       180400.000000\n",
              "75%     -118.000000     37.720000  ...       4.767000       265000.000000\n",
              "max     -114.310000     41.950000  ...      15.000100       500001.000000\n",
              "\n",
              "[8 rows x 9 columns]"
            ]
          },
          "metadata": {
            "tags": []
          },
          "execution_count": 44
        }
      ]
    },
    {
      "cell_type": "code",
      "metadata": {
        "colab": {
          "base_uri": "https://localhost:8080/",
          "height": 284
        },
        "id": "IXalsDuqRTnU",
        "outputId": "ca947320-f17f-404a-c32c-684d303e787d"
      },
      "source": [
        "df_ca_housing['median_house_value'].hist()"
      ],
      "execution_count": null,
      "outputs": [
        {
          "output_type": "execute_result",
          "data": {
            "text/plain": [
              "<matplotlib.axes._subplots.AxesSubplot at 0x7efd77530f98>"
            ]
          },
          "metadata": {
            "tags": []
          },
          "execution_count": 43
        },
        {
          "output_type": "display_data",
          "data": {
            "image/png": "[encoded data removed]",
            "text/plain": [
              "<Figure size 432x288 with 1 Axes>"
            ]
          },
          "metadata": {
            "tags": [],
            "needs_background": "light"
          }
        }
      ]
    },
    {
      "cell_type": "markdown",
      "metadata": {
        "id": "2VPxeYr-UXjh"
      },
      "source": [
        "# Exercise 1\r\n",
        "\r\n",
        "Using the admissions table in MIMIC-III, what are the top 5 types of diagnosis at admission?"
      ]
    },
    {
      "cell_type": "markdown",
      "metadata": {
        "id": "l8Gk5JKnWGg2"
      },
      "source": [
        "## Suggest Solution"
      ]
    },
    {
      "cell_type": "code",
      "metadata": {
        "colab": {
          "base_uri": "https://localhost:8080/"
        },
        "id": "fI6uvjSoVFZa",
        "outputId": "b2b19c28-1f56-4617-a039-1451588ff668"
      },
      "source": [
        "df['DIAGNOSIS'].value_counts()"
      ],
      "execution_count": null,
      "outputs": [
        {
          "output_type": "execute_result",
          "data": {
            "text/plain": [
              "NEWBORN                               7823\n",
              "PNEUMONIA                             1566\n",
              "SEPSIS                                1184\n",
              "CONGESTIVE HEART FAILURE               928\n",
              "CORONARY ARTERY DISEASE                840\n",
              "                                      ... \n",
              "PERIAPPENDICEAL ABSCESS                  1\n",
              "DELERIUM TREMONS,ANKLE FRACTURE          1\n",
              "INTRACEREBRAL HEMORRHAGE; SAH; SDH       1\n",
              "RENAL CANCER;PERICARDIAL FLUID           1\n",
              "PNEUMONIA;CHOLECYSTITIS                  1\n",
              "Name: DIAGNOSIS, Length: 15691, dtype: int64"
            ]
          },
          "metadata": {
            "tags": []
          },
          "execution_count": 48
        }
      ]
    },
    {
      "cell_type": "markdown",
      "metadata": {
        "id": "EYsJKjYZVdPq"
      },
      "source": [
        "New born, pneumonis, sepsis, congestive heart failure, and coronary artery disease. \r\n",
        "\r\n",
        "Note: The output is truncated if it's too long. If you want to see more from the list, you can use slicing to do so. See the materials from Week 3 for details. "
      ]
    },
    {
      "cell_type": "code",
      "metadata": {
        "colab": {
          "base_uri": "https://localhost:8080/"
        },
        "id": "kmY4Dq8pVYS9",
        "outputId": "f095db30-ea0f-4607-b53a-2266b5a8d2a1"
      },
      "source": [
        "df['DIAGNOSIS'].value_counts()[:10]"
      ],
      "execution_count": null,
      "outputs": [
        {
          "output_type": "execute_result",
          "data": {
            "text/plain": [
              "NEWBORN                                                      7823\n",
              "PNEUMONIA                                                    1566\n",
              "SEPSIS                                                       1184\n",
              "CONGESTIVE HEART FAILURE                                      928\n",
              "CORONARY ARTERY DISEASE                                       840\n",
              "CHEST PAIN                                                    778\n",
              "INTRACRANIAL HEMORRHAGE                                       713\n",
              "ALTERED MENTAL STATUS                                         712\n",
              "GASTROINTESTINAL BLEED                                        686\n",
              "CORONARY ARTERY DISEASE\\CORONARY ARTERY BYPASS GRAFT /SDA     583\n",
              "Name: DIAGNOSIS, dtype: int64"
            ]
          },
          "metadata": {
            "tags": []
          },
          "execution_count": 49
        }
      ]
    },
    {
      "cell_type": "markdown",
      "metadata": {
        "id": "12YScho1WKJQ"
      },
      "source": [
        "# Exercise 2\r\n",
        "\r\n",
        "Using the admissions table in MIMIC-III, what are the unique values and respective occurrences in the column `HOSPITAL_EXPIRE_FLAG`?\r\n",
        "\r\n",
        "What is the rate of in-hospital death across all hospitalisations? (Hint: Check out the meaning of the variable from [MIMIC's documentation](https://mimic.physionet.org/about/mimic/).)"
      ]
    },
    {
      "cell_type": "markdown",
      "metadata": {
        "id": "gWZL0TaEX1Vm"
      },
      "source": [
        "## Suggested Solution"
      ]
    },
    {
      "cell_type": "code",
      "metadata": {
        "colab": {
          "base_uri": "https://localhost:8080/"
        },
        "id": "KESCq_vjXZsZ",
        "outputId": "acbe62dd-f406-483f-acc2-6e83991c9141"
      },
      "source": [
        "df['HOSPITAL_EXPIRE_FLAG'].unique()"
      ],
      "execution_count": null,
      "outputs": [
        {
          "output_type": "execute_result",
          "data": {
            "text/plain": [
              "array([0, 1])"
            ]
          },
          "metadata": {
            "tags": []
          },
          "execution_count": 50
        }
      ]
    },
    {
      "cell_type": "code",
      "metadata": {
        "colab": {
          "base_uri": "https://localhost:8080/"
        },
        "id": "tvK5rd0cXejW",
        "outputId": "7c0fce40-38b5-4526-d90a-3ce42d43254f"
      },
      "source": [
        "df['HOSPITAL_EXPIRE_FLAG'].value_counts()"
      ],
      "execution_count": null,
      "outputs": [
        {
          "output_type": "execute_result",
          "data": {
            "text/plain": [
              "0    53122\n",
              "1     5854\n",
              "Name: HOSPITAL_EXPIRE_FLAG, dtype: int64"
            ]
          },
          "metadata": {
            "tags": []
          },
          "execution_count": 52
        }
      ]
    },
    {
      "cell_type": "markdown",
      "metadata": {
        "id": "nJ9RoctAXu3B"
      },
      "source": [
        "The in-hospital death rate is"
      ]
    },
    {
      "cell_type": "code",
      "metadata": {
        "colab": {
          "base_uri": "https://localhost:8080/"
        },
        "id": "o7JNCLcpXhSK",
        "outputId": "d57c828d-561a-4194-ade4-30d60b5d09bb"
      },
      "source": [
        "5854 / 53122"
      ],
      "execution_count": null,
      "outputs": [
        {
          "output_type": "execute_result",
          "data": {
            "text/plain": [
              "0.11019916418809533"
            ]
          },
          "metadata": {
            "tags": []
          },
          "execution_count": 53
        }
      ]
    },
    {
      "cell_type": "markdown",
      "metadata": {
        "id": "v-nxFU9cXyc3"
      },
      "source": [
        "# Exercise 3\r\n",
        "\r\n",
        "In the California housing dataset, what is the maximum housing median age across all areas?\r\n",
        "\r\n",
        "Plot a histogram of housing median age across all areas."
      ]
    },
    {
      "cell_type": "markdown",
      "metadata": {
        "id": "I-VkxWkgZP0S"
      },
      "source": [
        "## Suggested Solution"
      ]
    },
    {
      "cell_type": "code",
      "metadata": {
        "colab": {
          "base_uri": "https://localhost:8080/"
        },
        "id": "50m6UjtLZUgn",
        "outputId": "b084f28e-11ee-4bf6-92c2-1f728ea071a5"
      },
      "source": [
        "df_ca_housing['housing_median_age'].describe()"
      ],
      "execution_count": null,
      "outputs": [
        {
          "output_type": "execute_result",
          "data": {
            "text/plain": [
              "count    17000.000000\n",
              "mean        28.589353\n",
              "std         12.586937\n",
              "min          1.000000\n",
              "25%         18.000000\n",
              "50%         29.000000\n",
              "75%         37.000000\n",
              "max         52.000000\n",
              "Name: housing_median_age, dtype: float64"
            ]
          },
          "metadata": {
            "tags": []
          },
          "execution_count": 59
        }
      ]
    },
    {
      "cell_type": "code",
      "metadata": {
        "colab": {
          "base_uri": "https://localhost:8080/"
        },
        "id": "fyyoF5XoZaRI",
        "outputId": "4437c322-15da-4547-a31e-af43372fc7c7"
      },
      "source": [
        "# alternatively,\r\n",
        "df_ca_housing['housing_median_age'].max()"
      ],
      "execution_count": null,
      "outputs": [
        {
          "output_type": "execute_result",
          "data": {
            "text/plain": [
              "52.0"
            ]
          },
          "metadata": {
            "tags": []
          },
          "execution_count": 60
        }
      ]
    },
    {
      "cell_type": "code",
      "metadata": {
        "colab": {
          "base_uri": "https://localhost:8080/",
          "height": 282
        },
        "id": "HMKqdhldX9xN",
        "outputId": "347ba618-e19a-4bb9-c0f5-1779ca3bebef"
      },
      "source": [
        "df_ca_housing['housing_median_age'].hist()"
      ],
      "execution_count": null,
      "outputs": [
        {
          "output_type": "execute_result",
          "data": {
            "text/plain": [
              "<matplotlib.axes._subplots.AxesSubplot at 0x7efd62da3908>"
            ]
          },
          "metadata": {
            "tags": []
          },
          "execution_count": 58
        },
        {
          "output_type": "display_data",
          "data": {
            "image/png": "[encoded data removed]",
            "text/plain": [
              "<Figure size 432x288 with 1 Axes>"
            ]
          },
          "metadata": {
            "tags": [],
            "needs_background": "light"
          }
        }
      ]
    },
    {
      "cell_type": "markdown",
      "metadata": {
        "id": "NVEYNiZoKmBQ"
      },
      "source": [
        "# References\r\n",
        "\r\n",
        "* [Getting Started with BigQuery](https://colab.research.google.com/notebooks/bigquery.ipynb#scrollTo=OHCBQv4uTCPc)\r\n",
        "* [Intro to pandas in Colab](https://colab.research.google.com/notebooks/mlcc/intro_to_pandas.ipynb#scrollTo=rHLcriKWLRe4)"
      ]
    }
  ]
}