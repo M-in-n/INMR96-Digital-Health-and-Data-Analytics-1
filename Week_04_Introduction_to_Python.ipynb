{
  "nbformat": 4,
  "nbformat_minor": 0,
  "metadata": {
    "colab": {
      "provenance": [],
      "toc_visible": true,
      "authorship_tag": "ABX9TyN6F3YYxBgevEVq+3irR9jX",
      "include_colab_link": true
    },
    "kernelspec": {
      "name": "python3",
      "display_name": "Python 3"
    }
  },
  "cells": [
    {
      "cell_type": "markdown",
      "metadata": {
        "id": "view-in-github",
        "colab_type": "text"
      },
      "source": [
        "<a href=\"https://colab.research.google.com/github/nbchan/INMR96-Digital-Health-and-Data-Analytics/blob/main/Week_04_Introduction_to_Python.ipynb\" target=\"_parent\"><img src=\"https://colab.research.google.com/assets/colab-badge.svg\" alt=\"Open In Colab\"/></a>"
      ]
    },
    {
      "cell_type": "markdown",
      "metadata": {
        "id": "kTcsRRinQTVd"
      },
      "source": [
        "# 1. Printing values\n",
        "\n",
        "Use `print()` for displaying outputs on screen. \n",
        "\n",
        "If you do not specify `print`, only the last output within a cell will be shown."
      ]
    },
    {
      "cell_type": "code",
      "metadata": {
        "colab": {
          "base_uri": "https://localhost:8080/"
        },
        "id": "3LzwhYhuRhlw",
        "outputId": "4f08a259-e7a4-4f3f-c67b-4be9266a3c06"
      },
      "source": [
        "print('Hello World!')"
      ],
      "execution_count": null,
      "outputs": [
        {
          "output_type": "stream",
          "name": "stdout",
          "text": [
            "Hello World!\n"
          ]
        }
      ]
    },
    {
      "cell_type": "markdown",
      "metadata": {
        "id": "JZR0UkETd7MN"
      },
      "source": [
        "---\n",
        "\n",
        "# 2. Comments\n",
        "\n",
        "Apart from using text cells, you can also add comments within code cells to enhance clarity of your code. \n",
        "\n",
        "In code cells, anything written after a `#` would be regarded as a comment and not be processed."
      ]
    },
    {
      "cell_type": "code",
      "metadata": {
        "colab": {
          "base_uri": "https://localhost:8080/"
        },
        "id": "8lX_VIXNeaY9",
        "outputId": "11aef11a-dd6d-4f98-e14d-ac6fc5cb9bdf"
      },
      "source": [
        "print('Hello World!') # This is a comment\n",
        "# This is another comment\n",
        "\n",
        "print('Script goes on')"
      ],
      "execution_count": null,
      "outputs": [
        {
          "output_type": "stream",
          "name": "stdout",
          "text": [
            "Hello World!\n",
            "Script goes on\n"
          ]
        }
      ]
    },
    {
      "cell_type": "markdown",
      "metadata": {
        "id": "NI-fLUPKVwXT"
      },
      "source": [
        "---\n",
        "\n",
        "# 3. Variable Types"
      ]
    },
    {
      "cell_type": "markdown",
      "metadata": {
        "id": "nHPfsZuYSDa7"
      },
      "source": [
        "* Variables are how values are stored in a Python script.\n",
        "* You assign a value using the `=` operator (as opposed to using `<-` in R). \n",
        "* Each variable should be assigned with a unique variable name. If you assign a value to an existing variable, the old value will be overwritten. \n",
        "* There are different variable types, the basic ones include:\n",
        "  * Number (integers and decimals)\n",
        "  * Boolean (True or False)\n",
        "  * Text/String\n",
        "  * Date\n",
        "  * List\n",
        "  * Dictionary\n",
        "* You cannot perform operations that are incompatible with the variable data type. For example, you cannot multiply two variables with type text. \n",
        "\n",
        "You can use `type()` to inspect a variable's data type when needed."
      ]
    },
    {
      "cell_type": "code",
      "metadata": {
        "colab": {
          "base_uri": "https://localhost:8080/"
        },
        "id": "e08CtMZ9Sf98",
        "outputId": "edcde45c-8539-4b40-f3ef-428ed90c468f"
      },
      "source": [
        "person_name = 'Johnson'\n",
        "type(person_name)"
      ],
      "execution_count": 1,
      "outputs": [
        {
          "output_type": "execute_result",
          "data": {
            "text/plain": [
              "str"
            ]
          },
          "metadata": {},
          "execution_count": 1
        }
      ]
    },
    {
      "cell_type": "code",
      "metadata": {
        "colab": {
          "base_uri": "https://localhost:8080/"
        },
        "id": "W8lCdx87V8AK",
        "outputId": "eb12ccd8-a8d0-4029-b1d7-cbdcd2f1f68d"
      },
      "source": [
        "person_age = 56\n",
        "type(person_age)"
      ],
      "execution_count": 2,
      "outputs": [
        {
          "output_type": "execute_result",
          "data": {
            "text/plain": [
              "int"
            ]
          },
          "metadata": {},
          "execution_count": 2
        }
      ]
    },
    {
      "cell_type": "markdown",
      "metadata": {
        "id": "P6XAp2AKWywf"
      },
      "source": [
        "---\n",
        "\n",
        "# 4. Basic Arithmetic Operators"
      ]
    },
    {
      "cell_type": "markdown",
      "metadata": {
        "id": "lPjwjlsFWrcM"
      },
      "source": [
        "The following table outlines the basic operators for arithmetics.\n",
        "\n",
        "| Operator | Description | Example | Result |\n",
        "|----------| ----------- | ------- | ------ |\n",
        "| `+`  | Addition           | `7 + 2`  | `9`   | \n",
        "| `-`  | Subtraction        | `7 - 2`  | `5`   |\n",
        "| `/`  | Division           | `7 / 2`  | `3.5` |\n",
        "| `//` | Integer division | `7 // 2` | `3`   | \n",
        "| `*`  | Multiplication     | `7 * 2` | `14`  | \n",
        "| `%`  | Modulus            | `7 % 3`  | 1   |\n",
        "| `**` | Exponentiation | `7 ** 2` | `49` | \n",
        "\n",
        "We can perform calculations based on the variables we create. "
      ]
    },
    {
      "cell_type": "code",
      "metadata": {
        "colab": {
          "base_uri": "https://localhost:8080/"
        },
        "id": "G4Am1maPXS2e",
        "outputId": "190d39e3-f553-4995-853b-23f8a1cb1603"
      },
      "source": [
        "a = 7\n",
        "b = 2\n",
        "\n",
        "print(a + b)\n",
        "print(a / b)\n",
        "print(a ** b)"
      ],
      "execution_count": null,
      "outputs": [
        {
          "output_type": "stream",
          "name": "stdout",
          "text": [
            "9\n",
            "3.5\n",
            "49\n"
          ]
        }
      ]
    },
    {
      "cell_type": "markdown",
      "metadata": {
        "id": "6P7jCjGsYk5-"
      },
      "source": [
        "---\n",
        "\n",
        "# 5. Comparison/Relational Operators\n",
        "\n",
        "* Comparison operators compare two values and output a Boolean variable (`True` or `False`).\n",
        "\n",
        "| Operator | Description | Example | Output |\n",
        "|----------| ----------- | ------- | ------ |\n",
        "| `==` | True if values are equal     | `2 == 2`  | True  | \n",
        "| `!=` | True if values are not equal | `2 != 1`  | True  |\n",
        "| `>`  | Greater than                 | `100 > 2` | True  |\n",
        "| `<`  | Less than                    | `2 < 2`  | False | \n",
        "| `>=` | Greater than or equal        | `5 >= 5`  | True  | \n",
        "| `<=` | Less than or equal           | `8 <= 2`  | False  |"
      ]
    },
    {
      "cell_type": "code",
      "metadata": {
        "colab": {
          "base_uri": "https://localhost:8080/"
        },
        "id": "3oqrl68UbXtg",
        "outputId": "80c78229-c4fa-490c-fd32-85f3582b2601"
      },
      "source": [
        "print(person_name == 'johnson') # note that text variables are case sensitive\n",
        "print(a / b < 3)\n",
        "print(a * b > a + b)"
      ],
      "execution_count": null,
      "outputs": [
        {
          "output_type": "stream",
          "name": "stdout",
          "text": [
            "False\n",
            "False\n",
            "True\n"
          ]
        }
      ]
    },
    {
      "cell_type": "markdown",
      "metadata": {
        "id": "LNWrH95hYcf6"
      },
      "source": [
        "---\n",
        "\n",
        "# 6. Logical operators\n",
        "\n",
        "* Logical operators combine two or more boolean variables into one.\n",
        "\n",
        "| Operator | Description | Example | Output |\n",
        "|----------| ----------- | ------- | ------ |\n",
        "| `and` | check if both conditions are true | `2 > 1 and 3 > 4` | False  | \n",
        "| `or`  | check if either condition is true | `2 < 3 or 1 > 8`  | True  |\n",
        "| `not` | reverses the logical value | `not 2 < 3` | True |"
      ]
    },
    {
      "cell_type": "code",
      "source": [
        "print(person_name == 'Johnson' and person_age == 56)\n",
        "print(not person_name == 'Truss')"
      ],
      "metadata": {
        "colab": {
          "base_uri": "https://localhost:8080/"
        },
        "id": "9GX6NNVhk3EO",
        "outputId": "cd856803-ee09-44e4-d7b1-2bfe069335de"
      },
      "execution_count": 4,
      "outputs": [
        {
          "output_type": "stream",
          "name": "stdout",
          "text": [
            "True\n",
            "True\n"
          ]
        }
      ]
    },
    {
      "cell_type": "markdown",
      "metadata": {
        "id": "tBhhGZf4gxfr"
      },
      "source": [
        "---\n",
        "\n",
        "# 7. Strings"
      ]
    },
    {
      "cell_type": "markdown",
      "metadata": {
        "id": "x-5f5C6Og34P"
      },
      "source": [
        "* String data types store sequences of characters.\n",
        "* These must be enclosed in quotes (`'`) or double-quotes (`\"`) to distinguish them from variable names.\n",
        "* You can concatenate multiple string variables with `+`\n",
        "* The `len()` function can return the length of a string (total number of characters).\n",
        "* Strings also have many other [built-in functions](https://docs.python.org/2/library/stdtypes.html#string-methods) for manipulating them."
      ]
    },
    {
      "cell_type": "code",
      "metadata": {
        "colab": {
          "base_uri": "https://localhost:8080/"
        },
        "id": "wwe6SMegjTx-",
        "outputId": "ff60fb31-8b0d-43ee-ebff-541e01b6572c"
      },
      "source": [
        "string_greeting = \"Hi, this is \"\n",
        "print(string_greeting + person_name)"
      ],
      "execution_count": null,
      "outputs": [
        {
          "output_type": "stream",
          "name": "stdout",
          "text": [
            "Hi, this is Johnson\n"
          ]
        }
      ]
    },
    {
      "cell_type": "markdown",
      "metadata": {
        "id": "yN0vnQIVhlxC"
      },
      "source": [
        "*Caveat*: Sometimes you have to be aware of numbers stored as strings in a dataset. They are treated differently and have different behaviours. "
      ]
    },
    {
      "cell_type": "code",
      "metadata": {
        "colab": {
          "base_uri": "https://localhost:8080/"
        },
        "id": "EPy4n-PRhKlU",
        "outputId": "b845d2ce-1341-4445-8c2f-b49a95dc2f4c"
      },
      "source": [
        "c = '12.3' # this variable is stored as a string\n",
        "print(c == 12.3)\n",
        "print(c == '12.3')"
      ],
      "execution_count": null,
      "outputs": [
        {
          "output_type": "stream",
          "name": "stdout",
          "text": [
            "False\n",
            "True\n"
          ]
        }
      ]
    },
    {
      "cell_type": "code",
      "metadata": {
        "colab": {
          "base_uri": "https://localhost:8080/",
          "height": 165
        },
        "id": "dRQVhz9Hh1Xg",
        "outputId": "a96a2efc-b650-4c5c-ca40-eca17fd503f3"
      },
      "source": [
        "# this would result in an error\n",
        "c + 4 "
      ],
      "execution_count": null,
      "outputs": [
        {
          "output_type": "error",
          "ename": "TypeError",
          "evalue": "ignored",
          "traceback": [
            "\u001b[0;31m---------------------------------------------------------------------------\u001b[0m",
            "\u001b[0;31mTypeError\u001b[0m                                 Traceback (most recent call last)",
            "\u001b[0;32m<ipython-input-33-6810691dad70>\u001b[0m in \u001b[0;36m<module>\u001b[0;34m()\u001b[0m\n\u001b[0;32m----> 1\u001b[0;31m \u001b[0mc\u001b[0m \u001b[0;34m+\u001b[0m \u001b[0;36m4\u001b[0m \u001b[0;31m# would result in an error\u001b[0m\u001b[0;34m\u001b[0m\u001b[0;34m\u001b[0m\u001b[0m\n\u001b[0m",
            "\u001b[0;31mTypeError\u001b[0m: can only concatenate str (not \"int\") to str"
          ]
        }
      ]
    },
    {
      "cell_type": "code",
      "source": [
        "# this would not. The output is a string instead of a number\n",
        "c + '4'"
      ],
      "metadata": {
        "colab": {
          "base_uri": "https://localhost:8080/",
          "height": 35
        },
        "id": "fiOyXqTMEgvQ",
        "outputId": "164307d5-192e-4c6d-8d29-e0f0703a4bdb"
      },
      "execution_count": null,
      "outputs": [
        {
          "output_type": "execute_result",
          "data": {
            "application/vnd.google.colaboratory.intrinsic+json": {
              "type": "string"
            },
            "text/plain": [
              "'12.34'"
            ]
          },
          "metadata": {},
          "execution_count": 32
        }
      ]
    },
    {
      "cell_type": "code",
      "source": [
        "# use `float()` (or `int()`) in case you need to convert a string into a decimal (or integer)\n",
        "float(c) + 4 "
      ],
      "metadata": {
        "colab": {
          "base_uri": "https://localhost:8080/"
        },
        "id": "ViA-dy6rJVqV",
        "outputId": "d56317ba-22e1-4562-96fb-031657b99636"
      },
      "execution_count": null,
      "outputs": [
        {
          "output_type": "execute_result",
          "data": {
            "text/plain": [
              "16.3"
            ]
          },
          "metadata": {},
          "execution_count": 41
        }
      ]
    },
    {
      "cell_type": "markdown",
      "metadata": {
        "id": "lMSEzhrNkFeF"
      },
      "source": [
        "---\n",
        "\n",
        "# 8. Lists"
      ]
    },
    {
      "cell_type": "markdown",
      "metadata": {
        "id": "lV6tb-NVkffy"
      },
      "source": [
        "* Lists are used to **group** multiple values **together**.\n",
        "* The values are usually, but not necessarily, of the same type.\n",
        "* Lists are enclosed by **square brackets** `[` and `]`. \n",
        "* Elements in lists can be added, removed or changed.\n",
        "\n",
        "There are several functions associated with lists in Python. \n",
        "\n",
        "* `len(list_name)` returns the number of elements in a list\n",
        "* `list_name.append(x)` adds a new element `x` to the end of the list\n",
        "* `list_name.count(x)` counts the number of times the value `x` appears in the list\n",
        "\n",
        "As an example, the body temperature of some patients is represented as a list and stored in `patients_body_temperature`.\n",
        "\n"
      ]
    },
    {
      "cell_type": "code",
      "metadata": {
        "colab": {
          "base_uri": "https://localhost:8080/"
        },
        "id": "4fUvjpW6k0mi",
        "outputId": "effe97f3-dc95-4cad-92d3-99d089ad2d66"
      },
      "source": [
        "patients_body_temperature = [36.4, 37.8, 37, 35.8, 35.6, 36.2, 36.4, 36.9, 37.5]\n",
        "\n",
        "print(patients_body_temperature)\n",
        "print(len(patients_body_temperature))\n",
        "print(patients_body_temperature.count(36.4))"
      ],
      "execution_count": null,
      "outputs": [
        {
          "output_type": "stream",
          "name": "stdout",
          "text": [
            "[36.4, 37.8, 37, 35.8, 35.6, 36.2, 36.4, 36.9, 37.5]\n",
            "9\n",
            "2\n"
          ]
        }
      ]
    },
    {
      "cell_type": "code",
      "metadata": {
        "colab": {
          "base_uri": "https://localhost:8080/"
        },
        "id": "sNKp60LVnXiD",
        "outputId": "a49064ac-5820-4ffb-af77-ef41d3bc74d0"
      },
      "source": [
        "patients_body_temperature.append(36.4) # add 36.4 to the list\n",
        "\n",
        "print(patients_body_temperature)\n",
        "print(len(patients_body_temperature))\n",
        "print(patients_body_temperature.count(36.4))"
      ],
      "execution_count": null,
      "outputs": [
        {
          "output_type": "stream",
          "name": "stdout",
          "text": [
            "[36.4, 37.8, 37, 35.8, 35.6, 36.2, 36.4, 36.9, 37.5, 36.4]\n",
            "10\n",
            "3\n"
          ]
        }
      ]
    },
    {
      "cell_type": "markdown",
      "metadata": {
        "id": "GcVRZfqCmXKc"
      },
      "source": [
        "## Slicing\n",
        "\n",
        "Slicing refers to accessing particular list elements or sublists. This is done by the using `list_name[i]` notation after a list's variable name. \n",
        "\n",
        "* Elements in lists are indexed.\n",
        "* **Python counts from 0**, meaning that the first element is indexed 0, the second one is indexed 1, etc."
      ]
    },
    {
      "cell_type": "code",
      "metadata": {
        "colab": {
          "base_uri": "https://localhost:8080/"
        },
        "id": "7i6eFdXiqncl",
        "outputId": "27725817-ad18-445e-8d2e-e857e2d47eb8"
      },
      "source": [
        "example_list = [10, 12, 14, 15, 17, 20]\n",
        "\n",
        "print(example_list)         # Prints \"[10, 12, 14, 15, 17, 20]\"\n",
        "\n",
        "print(example_list[0])      # Get the 0th element; prints \"10\"\n",
        "print(example_list[1])      # Get the 1st element; prints \"12\"\n",
        "print(example_list[4])      # Get the 4th element; prints \"17\"\n",
        "\n",
        "print(example_list[-1])     # Get the last element; prints \"20\""
      ],
      "execution_count": null,
      "outputs": [
        {
          "output_type": "stream",
          "name": "stdout",
          "text": [
            "[10, 12, 14, 15, 17, 20]\n",
            "10\n",
            "12\n",
            "17\n",
            "20\n"
          ]
        }
      ]
    },
    {
      "cell_type": "code",
      "metadata": {
        "colab": {
          "base_uri": "https://localhost:8080/"
        },
        "id": "VPn4o__5tfTH",
        "outputId": "8406a193-5482-4bd9-806d-b82e41d62973"
      },
      "source": [
        "# we can also edit an element in a list\n",
        "example_list[1] = example_list[1] + 20\n",
        "print(example_list)"
      ],
      "execution_count": null,
      "outputs": [
        {
          "output_type": "stream",
          "name": "stdout",
          "text": [
            "[10, 32, 14, 15, 17, 20]\n"
          ]
        }
      ]
    },
    {
      "cell_type": "markdown",
      "metadata": {
        "id": "uhzvDVHOsGI5"
      },
      "source": [
        "If you want to access a sublist, use the `list_name[i:j]` notation instead. Here, `i` is inclusive but `j` is exclusive.\n"
      ]
    },
    {
      "cell_type": "code",
      "metadata": {
        "colab": {
          "base_uri": "https://localhost:8080/"
        },
        "id": "Zv1vK7APrRHC",
        "outputId": "32eb94d6-f061-436e-b6f6-1c294416d6b4"
      },
      "source": [
        "print(example_list[2:4])    # Get a slice from index 2 to 4 (exclusive); prints \"[14, 15]\"\n",
        "print(example_list[2:])     # Get a slice from index 2 to the end; prints \"[14, 15, 17, 20]\"\n",
        "print(example_list[:2])     # Get a slice from the start to index 2 (exclusive); prints \"[10, 12]\"\n",
        "print(example_list[:-2])    # Get a slice from the start to the second last element (exclusive); prints \"[10, 12, 14, 15, 17]\""
      ],
      "execution_count": null,
      "outputs": [
        {
          "output_type": "stream",
          "name": "stdout",
          "text": [
            "[14, 15]\n",
            "[14, 15, 17, 20]\n",
            "[10, 32]\n",
            "[10, 32, 14, 15]\n"
          ]
        }
      ]
    },
    {
      "cell_type": "markdown",
      "source": [
        "The slicing syntax also applies to strings for extracting substrings. In that case, every character within the string can be treated as an entry to a list. For example, to extract district from a postcode, we can write"
      ],
      "metadata": {
        "id": "5CMo8b8wOSOe"
      }
    },
    {
      "cell_type": "code",
      "source": [
        "postcode = 'RG6 6UR'\n",
        "\n",
        "postcode[:4]"
      ],
      "metadata": {
        "colab": {
          "base_uri": "https://localhost:8080/",
          "height": 35
        },
        "id": "njXWHqS0OmtT",
        "outputId": "7ae9fd39-e359-4353-ea77-195ca8fb687c"
      },
      "execution_count": null,
      "outputs": [
        {
          "output_type": "execute_result",
          "data": {
            "application/vnd.google.colaboratory.intrinsic+json": {
              "type": "string"
            },
            "text/plain": [
              "'RG6 '"
            ]
          },
          "metadata": {},
          "execution_count": 42
        }
      ]
    },
    {
      "cell_type": "markdown",
      "metadata": {
        "id": "OodiXT9vvM_Q"
      },
      "source": [
        "---\n",
        "\n",
        "# 9. Loops\n",
        "\n",
        "`for` iterates over entries of a list or sequence in order.\n",
        "You can loop over the elements of a list like this. Note that \n",
        "* indentation is used to indicate which part of the code is within the `for` loop\n",
        "* the variable `animal` is a dummy variable that is only used as a token in the for loop."
      ]
    },
    {
      "cell_type": "code",
      "metadata": {
        "colab": {
          "base_uri": "https://localhost:8080/"
        },
        "id": "XkaGA-TWvgDK",
        "outputId": "1e4db69d-6dd9-496d-d805-c105f5704b3e"
      },
      "source": [
        "animal_list = ['cats', 'dogs', 'hedgehogs']\n",
        "for animal in animal_list:\n",
        "    print(animal + ' are cute!')"
      ],
      "execution_count": null,
      "outputs": [
        {
          "output_type": "stream",
          "name": "stdout",
          "text": [
            "cat\n",
            "dog\n",
            "monkey\n"
          ]
        }
      ]
    },
    {
      "cell_type": "markdown",
      "metadata": {
        "id": "9J0PJNGsvj-k"
      },
      "source": [
        "When analyzing data, frequently we want to transform one type of data into another. As a simple example, consider the following code that computes square numbers:"
      ]
    },
    {
      "cell_type": "code",
      "metadata": {
        "colab": {
          "base_uri": "https://localhost:8080/"
        },
        "id": "TDiC3Oq3v7Xw",
        "outputId": "40814e70-40df-4913-a183-c6e3aadc28d8"
      },
      "source": [
        "print(example_list)\n",
        "\n",
        "squares_list = [] # first create an empty list to store our results\n",
        "\n",
        "for x in example_list: # loop through the original list\n",
        "    squares_list.append(x ** 2) # compute squares then add to the squares_list\n",
        "\n",
        "print(squares_list) # print our result"
      ],
      "execution_count": null,
      "outputs": [
        {
          "output_type": "stream",
          "name": "stdout",
          "text": [
            "[10, 32, 14, 15, 17, 20]\n",
            "[100, 1024, 196, 225, 289, 400]\n"
          ]
        }
      ]
    },
    {
      "cell_type": "markdown",
      "metadata": {
        "id": "5WE5jBsvv_YF"
      },
      "source": [
        "Alternatively, you can make this code simpler by using *list comprehension*, which loops through a list and creates a new list on the fly."
      ]
    },
    {
      "cell_type": "code",
      "metadata": {
        "colab": {
          "base_uri": "https://localhost:8080/"
        },
        "id": "2zAmjGf0wVTF",
        "outputId": "b1f9d241-b236-4129-bb02-333690e4884c"
      },
      "source": [
        "squares_list = [x ** 2 for x in example_list]\n",
        "print(squares_list)"
      ],
      "execution_count": null,
      "outputs": [
        {
          "output_type": "stream",
          "name": "stdout",
          "text": [
            "[100, 1024, 196, 225, 289, 400]\n"
          ]
        }
      ]
    }
  ]
}