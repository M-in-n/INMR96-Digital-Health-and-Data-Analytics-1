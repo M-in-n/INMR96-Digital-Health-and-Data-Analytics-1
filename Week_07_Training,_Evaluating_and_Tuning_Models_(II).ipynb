{
  "nbformat": 4,
  "nbformat_minor": 0,
  "metadata": {
    "colab": {
      "name": "Week 07 Training, Evaluating and Tuning Models (II)",
      "provenance": [],
      "collapsed_sections": [],
      "toc_visible": true,
      "authorship_tag": "ABX9TyPX9VMuInCMRL5bM805ycn8",
      "include_colab_link": true
    },
    "kernelspec": {
      "name": "python3",
      "display_name": "Python 3"
    }
  },
  "cells": [
    {
      "cell_type": "markdown",
      "metadata": {
        "id": "view-in-github",
        "colab_type": "text"
      },
      "source": [
        "<a href=\"https://colab.research.google.com/github/nbchan/INMR96-Digital-Health-and-Data-Analytics/blob/main/Week_07_Training%2C_Evaluating_and_Tuning_Models_(II).ipynb\" target=\"_parent\"><img src=\"https://colab.research.google.com/assets/colab-badge.svg\" alt=\"Open In Colab\"/></a>"
      ]
    },
    {
      "cell_type": "markdown",
      "metadata": {
        "id": "s39jAG4G2tE_"
      },
      "source": [
        "# MIMIC-III Example: In-hospital Mortality Prediction (Cont'd)"
      ]
    },
    {
      "cell_type": "markdown",
      "metadata": {
        "id": "oDYp8UvF2tFA"
      },
      "source": [
        "# 1. Setting up"
      ]
    },
    {
      "cell_type": "markdown",
      "metadata": {
        "id": "N7t0JfNL2tFA"
      },
      "source": [
        "**Packages for data handling and visualization**"
      ]
    },
    {
      "cell_type": "code",
      "metadata": {
        "id": "-YoSGBFb2tFA"
      },
      "source": [
        "import pandas as pd\n",
        "import numpy as np\n",
        "\n",
        "import matplotlib.pyplot as plt\n",
        "import seaborn as sns\n",
        "%matplotlib inline\n",
        "sns.set_theme()"
      ],
      "execution_count": 1,
      "outputs": []
    },
    {
      "cell_type": "markdown",
      "metadata": {
        "id": "oFE1oCun2tFB"
      },
      "source": [
        "**Packages for data analysis and modelling**"
      ]
    },
    {
      "cell_type": "code",
      "metadata": {
        "id": "bIlIhxSG2tFB"
      },
      "source": [
        "from sklearn.model_selection import train_test_split, GridSearchCV\n",
        "from sklearn.ensemble import RandomForestClassifier\n",
        "from sklearn.metrics import accuracy_score, f1_score, roc_auc_score, classification_report, ConfusionMatrixDisplay, RocCurveDisplay"
      ],
      "execution_count": 2,
      "outputs": []
    },
    {
      "cell_type": "markdown",
      "metadata": {
        "id": "Y8YGOrsV2tFB"
      },
      "source": [
        "**Import the intermediate dataset and Authenication for Google Drive access**\n",
        "\n",
        "If you saved the intermediate dataset in your Google Drive by following all the steps in the previous tutorial, you can grant Colab access to your Google Drive and import the intermediate dataset to the current notebook.\n",
        "\n",
        "Alternatively, when you are working on your own analysis, you may also put everything (e.g. codes for extracting data from BigQuery; exploring data; preparing and cleaning data; building models) in a single notebook. In that case, you do not need to import the dataset from your Google Drive - simply continue with the cleaned dataset in your existing notebook environment. \n"
      ]
    },
    {
      "cell_type": "code",
      "metadata": {
        "colab": {
          "base_uri": "https://localhost:8080/"
        },
        "outputId": "44f7af94-832e-4c49-f696-cc5a921f708a",
        "id": "eeVCvbHI2tFB"
      },
      "source": [
        "from google.colab import drive \n",
        "drive.mount('/content/gdrive', force_remount = True) # you would need to authenicate yourself here\n",
        "\n",
        "gdrive_rootpath = '/content/gdrive/MyDrive/' \n",
        "# if you saved the file inside a folder in your Google Drive (instead of the base path), \n",
        "# you would need to append the folder name to the above"
      ],
      "execution_count": 3,
      "outputs": [
        {
          "output_type": "stream",
          "name": "stdout",
          "text": [
            "Mounted at /content/gdrive\n"
          ]
        }
      ]
    },
    {
      "cell_type": "code",
      "metadata": {
        "colab": {
          "base_uri": "https://localhost:8080/"
        },
        "outputId": "4338dbad-e660-4b62-fdfa-090e55771152",
        "id": "a7Qk4oXm2tFC"
      },
      "source": [
        "df = pd.read_csv(gdrive_rootpath + 'mimic_in_hosp_death_clean.csv')"
      ],
      "execution_count": 4,
      "outputs": [
        {
          "output_type": "stream",
          "name": "stderr",
          "text": [
            "/usr/local/lib/python3.7/dist-packages/IPython/core/interactiveshell.py:2882: DtypeWarning: Columns (5) have mixed types.Specify dtype option on import or set low_memory=False.\n",
            "  exec(code_obj, self.user_global_ns, self.user_ns)\n"
          ]
        }
      ]
    },
    {
      "cell_type": "code",
      "metadata": {
        "colab": {
          "base_uri": "https://localhost:8080/"
        },
        "outputId": "ca306405-7b8e-4dc5-a861-ed5e2800a9e8",
        "id": "eGp3Q8C62tFC"
      },
      "source": [
        "df.info()"
      ],
      "execution_count": 5,
      "outputs": [
        {
          "output_type": "stream",
          "name": "stdout",
          "text": [
            "<class 'pandas.core.frame.DataFrame'>\n",
            "RangeIndex: 58976 entries, 0 to 58975\n",
            "Data columns (total 64 columns):\n",
            " #   Column                            Non-Null Count  Dtype  \n",
            "---  ------                            --------------  -----  \n",
            " 0   SUBJECT_ID                        58976 non-null  int64  \n",
            " 1   HADM_ID                           58976 non-null  int64  \n",
            " 2   ADMISSION_TYPE                    58976 non-null  object \n",
            " 3   ADMITTIME                         58976 non-null  object \n",
            " 4   DISCHTIME                         58976 non-null  object \n",
            " 5   DEATHTIME                         5854 non-null   object \n",
            " 6   DIAGNOSIS                         58951 non-null  object \n",
            " 7   MARITAL_STATUS                    58976 non-null  object \n",
            " 8   INSURANCE                         58976 non-null  object \n",
            " 9   LANGUAGE                          58976 non-null  object \n",
            " 10  RELIGION                          58976 non-null  object \n",
            " 11  ETHNICITY                         58976 non-null  object \n",
            " 12  GENDER                            58976 non-null  object \n",
            " 13  DOB                               58976 non-null  object \n",
            " 14  LOS_ICU                           58976 non-null  float64\n",
            " 15  CALLOUT_COUNT                     58976 non-null  float64\n",
            " 16  DIAG_COUNT                        58976 non-null  int64  \n",
            " 17  PRES_COUNT                        58976 non-null  float64\n",
            " 18  PROC_COUNT                        58976 non-null  float64\n",
            " 19  CPT_COUNT                         58976 non-null  float64\n",
            " 20  LAB_COUNT                         58976 non-null  float64\n",
            " 21  INPUTS_CV_COUNT                   58976 non-null  float64\n",
            " 22  INPUTS_MV_COUNT                   58976 non-null  float64\n",
            " 23  OUTPUT_COUNT                      58976 non-null  float64\n",
            " 24  TRANSFER_COUNT                    58976 non-null  int64  \n",
            " 25  MICRO_COUNT                       58976 non-null  float64\n",
            " 26  IN_HOSP_DEATH                     58976 non-null  int64  \n",
            " 27  AGE                               58976 non-null  int64  \n",
            " 28  LOS                               58976 non-null  float64\n",
            " 29  CALLOUT_COUNT_DAY                 58976 non-null  float64\n",
            " 30  PRES_COUNT_DAY                    58976 non-null  float64\n",
            " 31  PROC_COUNT_DAY                    58976 non-null  float64\n",
            " 32  CPT_COUNT_DAY                     58976 non-null  float64\n",
            " 33  LAB_COUNT_DAY                     58976 non-null  float64\n",
            " 34  INPUTS_CV_COUNT_DAY               58976 non-null  float64\n",
            " 35  INPUTS_MV_COUNT_DAY               58976 non-null  float64\n",
            " 36  OUTPUT_COUNT_DAY                  58976 non-null  float64\n",
            " 37  TRANSFER_COUNT_DAY                58976 non-null  float64\n",
            " 38  MICRO_COUNT_DAY                   58976 non-null  float64\n",
            " 39  ADMISSION_TYPE_ELECTIVE           58976 non-null  int64  \n",
            " 40  ADMISSION_TYPE_EMERGENCY          58976 non-null  int64  \n",
            " 41  ADMISSION_TYPE_NEWBORN            58976 non-null  int64  \n",
            " 42  ADMISSION_TYPE_URGENT             58976 non-null  int64  \n",
            " 43  GENDER_F                          58976 non-null  int64  \n",
            " 44  RELIGION_CATHOLIC                 58976 non-null  int64  \n",
            " 45  RELIGION_NOT SPECIFIED            58976 non-null  int64  \n",
            " 46  RELIGION_UNOBTAINABLE             58976 non-null  int64  \n",
            " 47  RELIGION_OTHERS                   58976 non-null  int64  \n",
            " 48  INSURANCE_Medicare                58976 non-null  int64  \n",
            " 49  INSURANCE_Private                 58976 non-null  int64  \n",
            " 50  INSURANCE_Medicaid                58976 non-null  int64  \n",
            " 51  INSURANCE_OTHERS                  58976 non-null  int64  \n",
            " 52  MARITAL_STATUS_MARRIED            58976 non-null  int64  \n",
            " 53  MARITAL_STATUS_SINGLE             58976 non-null  int64  \n",
            " 54  MARITAL_STATUS_UNKNOWN (DEFAULT)  58976 non-null  int64  \n",
            " 55  MARITAL_STATUS_OTHERS             58976 non-null  int64  \n",
            " 56  LANGUAGE_ENGL                     58976 non-null  int64  \n",
            " 57  LANGUAGE_SPAN                     58976 non-null  int64  \n",
            " 58  LANGUAGE_RUSS                     58976 non-null  int64  \n",
            " 59  LANGUAGE_OTHERS                   58976 non-null  int64  \n",
            " 60  ETHNICITY_WHITE                   58976 non-null  int64  \n",
            " 61  ETHNICITY_BLACK/AFRICAN AMERICAN  58976 non-null  int64  \n",
            " 62  ETHNICITY_UNKNOWN/NOT SPECIFIED   58976 non-null  int64  \n",
            " 63  ETHNICITY_OTHERS                  58976 non-null  int64  \n",
            "dtypes: float64(21), int64(31), object(12)\n",
            "memory usage: 28.8+ MB\n"
          ]
        }
      ]
    },
    {
      "cell_type": "code",
      "metadata": {
        "colab": {
          "base_uri": "https://localhost:8080/",
          "height": 461
        },
        "outputId": "697fae0d-b449-4a8e-d2cb-d5dcdd41e887",
        "id": "q0WeSO8u2tFC"
      },
      "source": [
        "df.head()"
      ],
      "execution_count": 6,
      "outputs": [
        {
          "output_type": "execute_result",
          "data": {
            "text/html": [
              "\n",
              "  <div id=\"df-d72da197-cc8c-48c9-be1c-56ceda534031\">\n",
              "    <div class=\"colab-df-container\">\n",
              "      <div>\n",
              "<style scoped>\n",
              "    .dataframe tbody tr th:only-of-type {\n",
              "        vertical-align: middle;\n",
              "    }\n",
              "\n",
              "    .dataframe tbody tr th {\n",
              "        vertical-align: top;\n",
              "    }\n",
              "\n",
              "    .dataframe thead th {\n",
              "        text-align: right;\n",
              "    }\n",
              "</style>\n",
              "<table border=\"1\" class=\"dataframe\">\n",
              "  <thead>\n",
              "    <tr style=\"text-align: right;\">\n",
              "      <th></th>\n",
              "      <th>SUBJECT_ID</th>\n",
              "      <th>HADM_ID</th>\n",
              "      <th>ADMISSION_TYPE</th>\n",
              "      <th>ADMITTIME</th>\n",
              "      <th>DISCHTIME</th>\n",
              "      <th>DEATHTIME</th>\n",
              "      <th>DIAGNOSIS</th>\n",
              "      <th>MARITAL_STATUS</th>\n",
              "      <th>INSURANCE</th>\n",
              "      <th>LANGUAGE</th>\n",
              "      <th>RELIGION</th>\n",
              "      <th>ETHNICITY</th>\n",
              "      <th>GENDER</th>\n",
              "      <th>DOB</th>\n",
              "      <th>LOS_ICU</th>\n",
              "      <th>CALLOUT_COUNT</th>\n",
              "      <th>DIAG_COUNT</th>\n",
              "      <th>PRES_COUNT</th>\n",
              "      <th>PROC_COUNT</th>\n",
              "      <th>CPT_COUNT</th>\n",
              "      <th>LAB_COUNT</th>\n",
              "      <th>INPUTS_CV_COUNT</th>\n",
              "      <th>INPUTS_MV_COUNT</th>\n",
              "      <th>OUTPUT_COUNT</th>\n",
              "      <th>TRANSFER_COUNT</th>\n",
              "      <th>MICRO_COUNT</th>\n",
              "      <th>IN_HOSP_DEATH</th>\n",
              "      <th>AGE</th>\n",
              "      <th>LOS</th>\n",
              "      <th>CALLOUT_COUNT_DAY</th>\n",
              "      <th>PRES_COUNT_DAY</th>\n",
              "      <th>PROC_COUNT_DAY</th>\n",
              "      <th>CPT_COUNT_DAY</th>\n",
              "      <th>LAB_COUNT_DAY</th>\n",
              "      <th>INPUTS_CV_COUNT_DAY</th>\n",
              "      <th>INPUTS_MV_COUNT_DAY</th>\n",
              "      <th>OUTPUT_COUNT_DAY</th>\n",
              "      <th>TRANSFER_COUNT_DAY</th>\n",
              "      <th>MICRO_COUNT_DAY</th>\n",
              "      <th>ADMISSION_TYPE_ELECTIVE</th>\n",
              "      <th>ADMISSION_TYPE_EMERGENCY</th>\n",
              "      <th>ADMISSION_TYPE_NEWBORN</th>\n",
              "      <th>ADMISSION_TYPE_URGENT</th>\n",
              "      <th>GENDER_F</th>\n",
              "      <th>RELIGION_CATHOLIC</th>\n",
              "      <th>RELIGION_NOT SPECIFIED</th>\n",
              "      <th>RELIGION_UNOBTAINABLE</th>\n",
              "      <th>RELIGION_OTHERS</th>\n",
              "      <th>INSURANCE_Medicare</th>\n",
              "      <th>INSURANCE_Private</th>\n",
              "      <th>INSURANCE_Medicaid</th>\n",
              "      <th>INSURANCE_OTHERS</th>\n",
              "      <th>MARITAL_STATUS_MARRIED</th>\n",
              "      <th>MARITAL_STATUS_SINGLE</th>\n",
              "      <th>MARITAL_STATUS_UNKNOWN (DEFAULT)</th>\n",
              "      <th>MARITAL_STATUS_OTHERS</th>\n",
              "      <th>LANGUAGE_ENGL</th>\n",
              "      <th>LANGUAGE_SPAN</th>\n",
              "      <th>LANGUAGE_RUSS</th>\n",
              "      <th>LANGUAGE_OTHERS</th>\n",
              "      <th>ETHNICITY_WHITE</th>\n",
              "      <th>ETHNICITY_BLACK/AFRICAN AMERICAN</th>\n",
              "      <th>ETHNICITY_UNKNOWN/NOT SPECIFIED</th>\n",
              "      <th>ETHNICITY_OTHERS</th>\n",
              "    </tr>\n",
              "  </thead>\n",
              "  <tbody>\n",
              "    <tr>\n",
              "      <th>0</th>\n",
              "      <td>7275</td>\n",
              "      <td>136809</td>\n",
              "      <td>EMERGENCY</td>\n",
              "      <td>2139-08-28 12:35:00</td>\n",
              "      <td>2139-09-01 16:32:00</td>\n",
              "      <td>NaN</td>\n",
              "      <td>ALTERED MENTAL STATUS; DYSPNEA</td>\n",
              "      <td>DIVORCED</td>\n",
              "      <td>Medicare</td>\n",
              "      <td>ENGL</td>\n",
              "      <td>EPISCOPALIAN</td>\n",
              "      <td>WHITE</td>\n",
              "      <td>M</td>\n",
              "      <td>2078-11-11 00:00:00</td>\n",
              "      <td>1.3848</td>\n",
              "      <td>1.0</td>\n",
              "      <td>15</td>\n",
              "      <td>44.0</td>\n",
              "      <td>1.0</td>\n",
              "      <td>7.0</td>\n",
              "      <td>182.0</td>\n",
              "      <td>0.0</td>\n",
              "      <td>18.0</td>\n",
              "      <td>0.0</td>\n",
              "      <td>3</td>\n",
              "      <td>47.0</td>\n",
              "      <td>0</td>\n",
              "      <td>60</td>\n",
              "      <td>4.164583</td>\n",
              "      <td>0.200000</td>\n",
              "      <td>8.800000</td>\n",
              "      <td>0.200000</td>\n",
              "      <td>1.400000</td>\n",
              "      <td>36.4</td>\n",
              "      <td>0.000000</td>\n",
              "      <td>3.6</td>\n",
              "      <td>0.000000</td>\n",
              "      <td>0.600000</td>\n",
              "      <td>9.400000</td>\n",
              "      <td>0</td>\n",
              "      <td>1</td>\n",
              "      <td>0</td>\n",
              "      <td>0</td>\n",
              "      <td>0</td>\n",
              "      <td>0</td>\n",
              "      <td>0</td>\n",
              "      <td>0</td>\n",
              "      <td>1</td>\n",
              "      <td>1</td>\n",
              "      <td>0</td>\n",
              "      <td>0</td>\n",
              "      <td>0</td>\n",
              "      <td>0</td>\n",
              "      <td>0</td>\n",
              "      <td>0</td>\n",
              "      <td>1</td>\n",
              "      <td>1</td>\n",
              "      <td>0</td>\n",
              "      <td>0</td>\n",
              "      <td>0</td>\n",
              "      <td>1</td>\n",
              "      <td>0</td>\n",
              "      <td>0</td>\n",
              "      <td>0</td>\n",
              "    </tr>\n",
              "    <tr>\n",
              "      <th>1</th>\n",
              "      <td>17575</td>\n",
              "      <td>187131</td>\n",
              "      <td>EMERGENCY</td>\n",
              "      <td>2124-10-21 08:32:00</td>\n",
              "      <td>2124-11-01 11:14:00</td>\n",
              "      <td>NaN</td>\n",
              "      <td>MVA;TRAUMA</td>\n",
              "      <td>SINGLE</td>\n",
              "      <td>Government</td>\n",
              "      <td>ENGL</td>\n",
              "      <td>OTHER</td>\n",
              "      <td>BLACK/AFRICAN AMERICAN</td>\n",
              "      <td>M</td>\n",
              "      <td>2106-01-23 00:00:00</td>\n",
              "      <td>3.2653</td>\n",
              "      <td>0.0</td>\n",
              "      <td>9</td>\n",
              "      <td>0.0</td>\n",
              "      <td>9.0</td>\n",
              "      <td>0.0</td>\n",
              "      <td>408.0</td>\n",
              "      <td>331.0</td>\n",
              "      <td>0.0</td>\n",
              "      <td>89.0</td>\n",
              "      <td>3</td>\n",
              "      <td>27.0</td>\n",
              "      <td>0</td>\n",
              "      <td>18</td>\n",
              "      <td>11.112500</td>\n",
              "      <td>0.000000</td>\n",
              "      <td>0.000000</td>\n",
              "      <td>0.750000</td>\n",
              "      <td>0.000000</td>\n",
              "      <td>34.0</td>\n",
              "      <td>27.583333</td>\n",
              "      <td>0.0</td>\n",
              "      <td>7.416667</td>\n",
              "      <td>0.250000</td>\n",
              "      <td>2.250000</td>\n",
              "      <td>0</td>\n",
              "      <td>1</td>\n",
              "      <td>0</td>\n",
              "      <td>0</td>\n",
              "      <td>0</td>\n",
              "      <td>0</td>\n",
              "      <td>0</td>\n",
              "      <td>0</td>\n",
              "      <td>1</td>\n",
              "      <td>0</td>\n",
              "      <td>0</td>\n",
              "      <td>0</td>\n",
              "      <td>1</td>\n",
              "      <td>0</td>\n",
              "      <td>1</td>\n",
              "      <td>0</td>\n",
              "      <td>0</td>\n",
              "      <td>1</td>\n",
              "      <td>0</td>\n",
              "      <td>0</td>\n",
              "      <td>0</td>\n",
              "      <td>0</td>\n",
              "      <td>1</td>\n",
              "      <td>0</td>\n",
              "      <td>0</td>\n",
              "    </tr>\n",
              "    <tr>\n",
              "      <th>2</th>\n",
              "      <td>25251</td>\n",
              "      <td>142346</td>\n",
              "      <td>EMERGENCY</td>\n",
              "      <td>2167-01-23 16:23:00</td>\n",
              "      <td>2167-02-06 13:53:00</td>\n",
              "      <td>NaN</td>\n",
              "      <td>INFECTED RIGHT FOOT</td>\n",
              "      <td>DIVORCED</td>\n",
              "      <td>Medicare</td>\n",
              "      <td>ENGL</td>\n",
              "      <td>EPISCOPALIAN</td>\n",
              "      <td>WHITE</td>\n",
              "      <td>M</td>\n",
              "      <td>2096-08-27 00:00:00</td>\n",
              "      <td>3.2458</td>\n",
              "      <td>0.0</td>\n",
              "      <td>9</td>\n",
              "      <td>0.0</td>\n",
              "      <td>8.0</td>\n",
              "      <td>0.0</td>\n",
              "      <td>574.0</td>\n",
              "      <td>390.0</td>\n",
              "      <td>0.0</td>\n",
              "      <td>90.0</td>\n",
              "      <td>6</td>\n",
              "      <td>46.0</td>\n",
              "      <td>0</td>\n",
              "      <td>70</td>\n",
              "      <td>13.895833</td>\n",
              "      <td>0.000000</td>\n",
              "      <td>0.000000</td>\n",
              "      <td>0.571429</td>\n",
              "      <td>0.000000</td>\n",
              "      <td>41.0</td>\n",
              "      <td>27.857143</td>\n",
              "      <td>0.0</td>\n",
              "      <td>6.428571</td>\n",
              "      <td>0.428571</td>\n",
              "      <td>3.285714</td>\n",
              "      <td>0</td>\n",
              "      <td>1</td>\n",
              "      <td>0</td>\n",
              "      <td>0</td>\n",
              "      <td>0</td>\n",
              "      <td>0</td>\n",
              "      <td>0</td>\n",
              "      <td>0</td>\n",
              "      <td>1</td>\n",
              "      <td>1</td>\n",
              "      <td>0</td>\n",
              "      <td>0</td>\n",
              "      <td>0</td>\n",
              "      <td>0</td>\n",
              "      <td>0</td>\n",
              "      <td>0</td>\n",
              "      <td>1</td>\n",
              "      <td>1</td>\n",
              "      <td>0</td>\n",
              "      <td>0</td>\n",
              "      <td>0</td>\n",
              "      <td>1</td>\n",
              "      <td>0</td>\n",
              "      <td>0</td>\n",
              "      <td>0</td>\n",
              "    </tr>\n",
              "    <tr>\n",
              "      <th>3</th>\n",
              "      <td>32339</td>\n",
              "      <td>181355</td>\n",
              "      <td>EMERGENCY</td>\n",
              "      <td>2110-07-29 23:56:00</td>\n",
              "      <td>2110-08-04 15:10:00</td>\n",
              "      <td>NaN</td>\n",
              "      <td>GASTROINTESTINAL BLEED;CHEST PAIN;TELEMETRY</td>\n",
              "      <td>MARRIED</td>\n",
              "      <td>Medicare</td>\n",
              "      <td>ENGL</td>\n",
              "      <td>JEWISH</td>\n",
              "      <td>WHITE</td>\n",
              "      <td>M</td>\n",
              "      <td>1810-07-29 00:00:00</td>\n",
              "      <td>1.7603</td>\n",
              "      <td>1.0</td>\n",
              "      <td>15</td>\n",
              "      <td>30.0</td>\n",
              "      <td>2.0</td>\n",
              "      <td>8.0</td>\n",
              "      <td>207.0</td>\n",
              "      <td>0.0</td>\n",
              "      <td>21.0</td>\n",
              "      <td>20.0</td>\n",
              "      <td>4</td>\n",
              "      <td>0.0</td>\n",
              "      <td>0</td>\n",
              "      <td>90</td>\n",
              "      <td>5.634722</td>\n",
              "      <td>0.166667</td>\n",
              "      <td>5.000000</td>\n",
              "      <td>0.333333</td>\n",
              "      <td>1.333333</td>\n",
              "      <td>34.5</td>\n",
              "      <td>0.000000</td>\n",
              "      <td>3.5</td>\n",
              "      <td>3.333333</td>\n",
              "      <td>0.666667</td>\n",
              "      <td>0.000000</td>\n",
              "      <td>0</td>\n",
              "      <td>1</td>\n",
              "      <td>0</td>\n",
              "      <td>0</td>\n",
              "      <td>0</td>\n",
              "      <td>0</td>\n",
              "      <td>0</td>\n",
              "      <td>0</td>\n",
              "      <td>1</td>\n",
              "      <td>1</td>\n",
              "      <td>0</td>\n",
              "      <td>0</td>\n",
              "      <td>0</td>\n",
              "      <td>1</td>\n",
              "      <td>0</td>\n",
              "      <td>0</td>\n",
              "      <td>0</td>\n",
              "      <td>1</td>\n",
              "      <td>0</td>\n",
              "      <td>0</td>\n",
              "      <td>0</td>\n",
              "      <td>1</td>\n",
              "      <td>0</td>\n",
              "      <td>0</td>\n",
              "      <td>0</td>\n",
              "    </tr>\n",
              "    <tr>\n",
              "      <th>4</th>\n",
              "      <td>30746</td>\n",
              "      <td>155603</td>\n",
              "      <td>EMERGENCY</td>\n",
              "      <td>2131-08-22 23:07:00</td>\n",
              "      <td>2131-08-28 13:10:00</td>\n",
              "      <td>NaN</td>\n",
              "      <td>ALTERED MENTAL STATUS</td>\n",
              "      <td>DIVORCED</td>\n",
              "      <td>Medicare</td>\n",
              "      <td>ENGL</td>\n",
              "      <td>JEWISH</td>\n",
              "      <td>WHITE</td>\n",
              "      <td>M</td>\n",
              "      <td>2055-03-16 00:00:00</td>\n",
              "      <td>5.5894</td>\n",
              "      <td>0.0</td>\n",
              "      <td>22</td>\n",
              "      <td>53.0</td>\n",
              "      <td>6.0</td>\n",
              "      <td>10.0</td>\n",
              "      <td>378.0</td>\n",
              "      <td>165.0</td>\n",
              "      <td>0.0</td>\n",
              "      <td>115.0</td>\n",
              "      <td>7</td>\n",
              "      <td>5.0</td>\n",
              "      <td>0</td>\n",
              "      <td>76</td>\n",
              "      <td>5.585417</td>\n",
              "      <td>0.000000</td>\n",
              "      <td>8.833333</td>\n",
              "      <td>1.000000</td>\n",
              "      <td>1.666667</td>\n",
              "      <td>63.0</td>\n",
              "      <td>27.500000</td>\n",
              "      <td>0.0</td>\n",
              "      <td>19.166667</td>\n",
              "      <td>1.166667</td>\n",
              "      <td>0.833333</td>\n",
              "      <td>0</td>\n",
              "      <td>1</td>\n",
              "      <td>0</td>\n",
              "      <td>0</td>\n",
              "      <td>0</td>\n",
              "      <td>0</td>\n",
              "      <td>0</td>\n",
              "      <td>0</td>\n",
              "      <td>1</td>\n",
              "      <td>1</td>\n",
              "      <td>0</td>\n",
              "      <td>0</td>\n",
              "      <td>0</td>\n",
              "      <td>0</td>\n",
              "      <td>0</td>\n",
              "      <td>0</td>\n",
              "      <td>1</td>\n",
              "      <td>1</td>\n",
              "      <td>0</td>\n",
              "      <td>0</td>\n",
              "      <td>0</td>\n",
              "      <td>1</td>\n",
              "      <td>0</td>\n",
              "      <td>0</td>\n",
              "      <td>0</td>\n",
              "    </tr>\n",
              "  </tbody>\n",
              "</table>\n",
              "</div>\n",
              "      <button class=\"colab-df-convert\" onclick=\"convertToInteractive('df-d72da197-cc8c-48c9-be1c-56ceda534031')\"\n",
              "              title=\"Convert this dataframe to an interactive table.\"\n",
              "              style=\"display:none;\">\n",
              "        \n",
              "  <svg xmlns=\"http://www.w3.org/2000/svg\" height=\"24px\"viewBox=\"0 0 24 24\"\n",
              "       width=\"24px\">\n",
              "    <path d=\"M0 0h24v24H0V0z\" fill=\"none\"/>\n",
              "    <path d=\"M18.56 5.44l.94 2.06.94-2.06 2.06-.94-2.06-.94-.94-2.06-.94 2.06-2.06.94zm-11 1L8.5 8.5l.94-2.06 2.06-.94-2.06-.94L8.5 2.5l-.94 2.06-2.06.94zm10 10l.94 2.06.94-2.06 2.06-.94-2.06-.94-.94-2.06-.94 2.06-2.06.94z\"/><path d=\"M17.41 7.96l-1.37-1.37c-.4-.4-.92-.59-1.43-.59-.52 0-1.04.2-1.43.59L10.3 9.45l-7.72 7.72c-.78.78-.78 2.05 0 2.83L4 21.41c.39.39.9.59 1.41.59.51 0 1.02-.2 1.41-.59l7.78-7.78 2.81-2.81c.8-.78.8-2.07 0-2.86zM5.41 20L4 18.59l7.72-7.72 1.47 1.35L5.41 20z\"/>\n",
              "  </svg>\n",
              "      </button>\n",
              "      \n",
              "  <style>\n",
              "    .colab-df-container {\n",
              "      display:flex;\n",
              "      flex-wrap:wrap;\n",
              "      gap: 12px;\n",
              "    }\n",
              "\n",
              "    .colab-df-convert {\n",
              "      background-color: #E8F0FE;\n",
              "      border: none;\n",
              "      border-radius: 50%;\n",
              "      cursor: pointer;\n",
              "      display: none;\n",
              "      fill: #1967D2;\n",
              "      height: 32px;\n",
              "      padding: 0 0 0 0;\n",
              "      width: 32px;\n",
              "    }\n",
              "\n",
              "    .colab-df-convert:hover {\n",
              "      background-color: #E2EBFA;\n",
              "      box-shadow: 0px 1px 2px rgba(60, 64, 67, 0.3), 0px 1px 3px 1px rgba(60, 64, 67, 0.15);\n",
              "      fill: #174EA6;\n",
              "    }\n",
              "\n",
              "    [theme=dark] .colab-df-convert {\n",
              "      background-color: #3B4455;\n",
              "      fill: #D2E3FC;\n",
              "    }\n",
              "\n",
              "    [theme=dark] .colab-df-convert:hover {\n",
              "      background-color: #434B5C;\n",
              "      box-shadow: 0px 1px 3px 1px rgba(0, 0, 0, 0.15);\n",
              "      filter: drop-shadow(0px 1px 2px rgba(0, 0, 0, 0.3));\n",
              "      fill: #FFFFFF;\n",
              "    }\n",
              "  </style>\n",
              "\n",
              "      <script>\n",
              "        const buttonEl =\n",
              "          document.querySelector('#df-d72da197-cc8c-48c9-be1c-56ceda534031 button.colab-df-convert');\n",
              "        buttonEl.style.display =\n",
              "          google.colab.kernel.accessAllowed ? 'block' : 'none';\n",
              "\n",
              "        async function convertToInteractive(key) {\n",
              "          const element = document.querySelector('#df-d72da197-cc8c-48c9-be1c-56ceda534031');\n",
              "          const dataTable =\n",
              "            await google.colab.kernel.invokeFunction('convertToInteractive',\n",
              "                                                     [key], {});\n",
              "          if (!dataTable) return;\n",
              "\n",
              "          const docLinkHtml = 'Like what you see? Visit the ' +\n",
              "            '<a target=\"_blank\" href=https://colab.research.google.com/notebooks/data_table.ipynb>data table notebook</a>'\n",
              "            + ' to learn more about interactive tables.';\n",
              "          element.innerHTML = '';\n",
              "          dataTable['output_type'] = 'display_data';\n",
              "          await google.colab.output.renderOutput(dataTable, element);\n",
              "          const docLink = document.createElement('div');\n",
              "          docLink.innerHTML = docLinkHtml;\n",
              "          element.appendChild(docLink);\n",
              "        }\n",
              "      </script>\n",
              "    </div>\n",
              "  </div>\n",
              "  "
            ],
            "text/plain": [
              "   SUBJECT_ID  HADM_ID  ... ETHNICITY_UNKNOWN/NOT SPECIFIED ETHNICITY_OTHERS\n",
              "0        7275   136809  ...                               0                0\n",
              "1       17575   187131  ...                               0                0\n",
              "2       25251   142346  ...                               0                0\n",
              "3       32339   181355  ...                               0                0\n",
              "4       30746   155603  ...                               0                0\n",
              "\n",
              "[5 rows x 64 columns]"
            ]
          },
          "metadata": {},
          "execution_count": 6
        }
      ]
    },
    {
      "cell_type": "markdown",
      "source": [
        "---\n",
        "\n",
        "# 2. Training, Evaluating and Tuning Models"
      ],
      "metadata": {
        "id": "GuexQoL6ENqs"
      }
    },
    {
      "cell_type": "markdown",
      "metadata": {
        "id": "ciDSdMSXjI9V"
      },
      "source": [
        "## 2.1. Train-test Split\n",
        "\n",
        "We will split the dataset into a training set and a test set with the same codes included in the previous tutorial. "
      ]
    },
    {
      "cell_type": "markdown",
      "metadata": {
        "id": "7kNWwOYsnnF5"
      },
      "source": [
        "`IN_HOSP_DEATH` would be our prediction target. Here, let's define a list of 38 column names for features/inputs we would use in the model as not all columns are appropriate (e.g. `SUBJECT_ID`). "
      ]
    },
    {
      "cell_type": "code",
      "metadata": {
        "colab": {
          "base_uri": "https://localhost:8080/"
        },
        "id": "OwtYw-H2nj-Z",
        "outputId": "5bd17598-d79f-4e67-837f-8a3926eb3c3c"
      },
      "source": [
        "features_list = ['GENDER_F', 'AGE', 'LOS', 'LOS_ICU', \n",
        "                 'CALLOUT_COUNT_DAY', 'PRES_COUNT_DAY', 'PROC_COUNT_DAY',\n",
        "                 'CPT_COUNT_DAY', 'LAB_COUNT_DAY', 'INPUTS_CV_COUNT_DAY',\n",
        "                 'INPUTS_MV_COUNT_DAY', 'OUTPUT_COUNT_DAY', 'TRANSFER_COUNT_DAY',\n",
        "                 'MICRO_COUNT_DAY', \n",
        "                 'ADMISSION_TYPE_ELECTIVE', 'ADMISSION_TYPE_EMERGENCY', 'ADMISSION_TYPE_NEWBORN', 'ADMISSION_TYPE_URGENT', \n",
        "                 'RELIGION_CATHOLIC', 'RELIGION_NOT SPECIFIED', 'RELIGION_UNOBTAINABLE', 'RELIGION_OTHERS', \n",
        "                 'INSURANCE_Medicare', 'INSURANCE_Private', 'INSURANCE_Medicaid', 'INSURANCE_OTHERS',\n",
        "                 'MARITAL_STATUS_MARRIED', 'MARITAL_STATUS_SINGLE', 'MARITAL_STATUS_UNKNOWN (DEFAULT)', 'MARITAL_STATUS_OTHERS',\n",
        "                 'LANGUAGE_ENGL', 'LANGUAGE_SPAN', 'LANGUAGE_RUSS', 'LANGUAGE_OTHERS',\n",
        "                 'ETHNICITY_WHITE', 'ETHNICITY_BLACK/AFRICAN AMERICAN', 'ETHNICITY_UNKNOWN/NOT SPECIFIED', 'ETHNICITY_OTHERS']\n",
        "\n",
        "len(features_list)"
      ],
      "execution_count": 7,
      "outputs": [
        {
          "output_type": "execute_result",
          "data": {
            "text/plain": [
              "38"
            ]
          },
          "metadata": {},
          "execution_count": 7
        }
      ]
    },
    {
      "cell_type": "markdown",
      "source": [
        " Then, create a DataFrame containing input features only as well as a Series containing our prediction target. "
      ],
      "metadata": {
        "id": "xEEq6odyFt7H"
      }
    },
    {
      "cell_type": "code",
      "metadata": {
        "id": "cnPEJnMjq8dG"
      },
      "source": [
        "X = df[features_list]\n",
        "y = df['IN_HOSP_DEATH']"
      ],
      "execution_count": 8,
      "outputs": []
    },
    {
      "cell_type": "markdown",
      "source": [
        "Finally, use `train_test_split()` from the package [Scikit-learn](https://scikit-learn.org/stable/) to perform a train-test split. \n",
        "\n",
        "Note that the function outputs four things: the input and output datasets for training and testing respectively. "
      ],
      "metadata": {
        "id": "VCDqkhj2F8fk"
      }
    },
    {
      "cell_type": "code",
      "metadata": {
        "id": "A6MFgGhUjYwb"
      },
      "source": [
        "X_train, X_test, y_train, y_test = train_test_split(X, y, \n",
        "                                                    test_size = 0.2,  # 20% of data belongs to the test set\n",
        "                                                    random_state = 1, # make sure the split is the same across different devices for illustrative purposes\n",
        "                                                    stratify = y)     # ensure the number of positive examples in the train and test sets are similar"
      ],
      "execution_count": 9,
      "outputs": []
    },
    {
      "cell_type": "code",
      "metadata": {
        "colab": {
          "base_uri": "https://localhost:8080/"
        },
        "id": "lhSH-NEhrcVI",
        "outputId": "1b462fc8-4a58-4aa9-8fc8-a8c1f136dd0a"
      },
      "source": [
        "X_train.shape"
      ],
      "execution_count": 10,
      "outputs": [
        {
          "output_type": "execute_result",
          "data": {
            "text/plain": [
              "(47180, 38)"
            ]
          },
          "metadata": {},
          "execution_count": 10
        }
      ]
    },
    {
      "cell_type": "code",
      "metadata": {
        "colab": {
          "base_uri": "https://localhost:8080/"
        },
        "id": "H_C9DfnRrsjS",
        "outputId": "fc5e58f3-2d41-4462-dab7-93d3795934a3"
      },
      "source": [
        "X_test.shape"
      ],
      "execution_count": 11,
      "outputs": [
        {
          "output_type": "execute_result",
          "data": {
            "text/plain": [
              "(11796, 38)"
            ]
          },
          "metadata": {},
          "execution_count": 11
        }
      ]
    },
    {
      "cell_type": "markdown",
      "metadata": {
        "id": "BIzFO247rmjB"
      },
      "source": [
        "As a result, our training and test set would include 47,180 and 11,796 admissions respectively. "
      ]
    },
    {
      "cell_type": "markdown",
      "metadata": {
        "id": "3MzozqJp3Vgi"
      },
      "source": [
        "---\n",
        "\n",
        "## 2.2. Training a Random Forest Model"
      ]
    },
    {
      "cell_type": "markdown",
      "metadata": {
        "id": "Gq_fZIosiaFl"
      },
      "source": [
        "* A Random Forest model consists of multiple Decision Tree models.\n",
        "* Each decision tree consists of levels of nodes that represent yes/no questions. By following these rules given by a decision tree, each sample arrives to the end node which outputs a prediction. \n",
        "* Decision trees are trained by minimizing metrics such as gini score or entropy. \n",
        "* Random Forest is trained by first training multiple decision trees with different subsets of the training dataset as inputs; then aggregate the predictions from all decision trees via a majority vote or averaging. \n",
        "\n",
        "![Random Forest](https://cdn.analyticsvidhya.com/wp-content/uploads/2020/02/rfc_vs_dt1.png)\n",
        "\n",
        "([Source](https://www.analyticsvidhya.com/blog/2020/05/decision-tree-vs-random-forest-algorithm/))\n",
        "\n",
        "As discussed in the last tutorial, model training in Scikit-learn follows a 3-step process:\n",
        "\n",
        "1. Specify a model to be trained\n",
        "  * Choose a type of model based on your task and dataset. A full list of available models in the package can be found [here](https://scikit-learn.org/stable/modules/classes.html).\n",
        "  * Set the hyperparameters of the model. \n",
        "  * Assign the model to a variable.\n",
        "2. Train the model\n",
        "  * Call the `.fit()` function using your cleaned train dataset.\n",
        "3. Make predictions\n",
        "  * Call the `.predict()` function using your cleaned test dataset."
      ]
    },
    {
      "cell_type": "markdown",
      "metadata": {
        "id": "V5tJmuoF2fns"
      },
      "source": [
        "Define the configuration/hyperparameters of a random forest model. Here we specify that the model contains 200 decision trees."
      ]
    },
    {
      "cell_type": "code",
      "metadata": {
        "id": "Wqmi5cLRiiOY"
      },
      "source": [
        "# 1. Specify a model to be trained\n",
        "# Also define the configuration/hyperparameters of a random forest model. \n",
        "# Here we specify that the model contains 200 decision trees.\n",
        "model_rf1 = RandomForestClassifier(n_estimators = 200, \n",
        "                                   random_state = 1,\n",
        "                                   n_jobs = -1)"
      ],
      "execution_count": 12,
      "outputs": []
    },
    {
      "cell_type": "code",
      "metadata": {
        "colab": {
          "base_uri": "https://localhost:8080/"
        },
        "id": "OjdZWia9seQG",
        "outputId": "18d3f26d-e6d6-4447-ba2c-07da58db1e0e"
      },
      "source": [
        "# 2. Train the model\n",
        "model_rf1.fit(X_train, y_train)"
      ],
      "execution_count": 13,
      "outputs": [
        {
          "output_type": "execute_result",
          "data": {
            "text/plain": [
              "RandomForestClassifier(n_estimators=200, n_jobs=-1, random_state=1)"
            ]
          },
          "metadata": {},
          "execution_count": 13
        }
      ]
    },
    {
      "cell_type": "code",
      "metadata": {
        "id": "UCT2LIRVspQm",
        "colab": {
          "base_uri": "https://localhost:8080/"
        },
        "outputId": "dc4441e4-de7c-4a34-8375-886317927a15"
      },
      "source": [
        "# 3. Make predictions\n",
        "y_pred_rf1 = model_rf1.predict(X_test)\n",
        "y_pred_rf1"
      ],
      "execution_count": 14,
      "outputs": [
        {
          "output_type": "execute_result",
          "data": {
            "text/plain": [
              "array([1, 0, 0, ..., 0, 0, 0])"
            ]
          },
          "metadata": {},
          "execution_count": 14
        }
      ]
    },
    {
      "cell_type": "markdown",
      "source": [
        "Use `.predict_proba()` instead if you want probabilistic outputs over class outputs. "
      ],
      "metadata": {
        "id": "StcejcXe-M2B"
      }
    },
    {
      "cell_type": "code",
      "source": [
        "y_pred_prob_rf1 = model_rf1.predict_proba(X_test) \n",
        "y_pred_prob_rf1 # the two columns represent the prob of 0 and 1 respectively "
      ],
      "metadata": {
        "colab": {
          "base_uri": "https://localhost:8080/"
        },
        "id": "HQvw6z-R-C_H",
        "outputId": "b9710d55-bef7-4c5f-8492-647c9b5dd6ec"
      },
      "execution_count": 15,
      "outputs": [
        {
          "output_type": "execute_result",
          "data": {
            "text/plain": [
              "array([[0.15 , 0.85 ],\n",
              "       [0.975, 0.025],\n",
              "       [0.985, 0.015],\n",
              "       ...,\n",
              "       [0.965, 0.035],\n",
              "       [0.885, 0.115],\n",
              "       [0.965, 0.035]])"
            ]
          },
          "metadata": {},
          "execution_count": 15
        }
      ]
    },
    {
      "cell_type": "markdown",
      "metadata": {
        "id": "tTRnCjeQo99E"
      },
      "source": [
        "---\n",
        "\n",
        "## 2.3. Evaluation"
      ]
    },
    {
      "cell_type": "code",
      "metadata": {
        "colab": {
          "base_uri": "https://localhost:8080/"
        },
        "id": "jnlsu2WX8PYR",
        "outputId": "fc44254e-3c9e-4e91-8569-0a816d0cf0fc"
      },
      "source": [
        "# to calculate accuracy:\n",
        "accuracy_score(y_test, y_pred_rf1)"
      ],
      "execution_count": 16,
      "outputs": [
        {
          "output_type": "execute_result",
          "data": {
            "text/plain": [
              "0.9379450661241099"
            ]
          },
          "metadata": {},
          "execution_count": 16
        }
      ]
    },
    {
      "cell_type": "code",
      "source": [
        "# to calculate F1 score:\n",
        "f1_score(y_test, y_pred_rf1)"
      ],
      "metadata": {
        "colab": {
          "base_uri": "https://localhost:8080/"
        },
        "id": "X-dMcUpaVx-6",
        "outputId": "145d2caf-e014-4b3b-e8c5-c65e50f3d407"
      },
      "execution_count": 17,
      "outputs": [
        {
          "output_type": "execute_result",
          "data": {
            "text/plain": [
              "0.5896860986547086"
            ]
          },
          "metadata": {},
          "execution_count": 17
        }
      ]
    },
    {
      "cell_type": "code",
      "metadata": {
        "colab": {
          "base_uri": "https://localhost:8080/"
        },
        "id": "qwZSc1LA8Tf3",
        "outputId": "03ea6d26-ad92-4258-c1a7-9f41ade0bd25"
      },
      "source": [
        "# to display multiple classification-related metrics:\n",
        "print(classification_report(y_test, y_pred_rf1, digits = 3))"
      ],
      "execution_count": 18,
      "outputs": [
        {
          "output_type": "stream",
          "name": "stdout",
          "text": [
            "              precision    recall  f1-score   support\n",
            "\n",
            "           0      0.942     0.992     0.966     10625\n",
            "           1      0.858     0.449     0.590      1171\n",
            "\n",
            "    accuracy                          0.938     11796\n",
            "   macro avg      0.900     0.721     0.778     11796\n",
            "weighted avg      0.934     0.938     0.929     11796\n",
            "\n"
          ]
        }
      ]
    },
    {
      "cell_type": "code",
      "metadata": {
        "colab": {
          "base_uri": "https://localhost:8080/",
          "height": 285
        },
        "id": "HFe6SKZG8YRE",
        "outputId": "c018a4fb-9171-4cd8-eb13-27e5e57a0cd2"
      },
      "source": [
        "# to visualise a confusion matrix using a heatmap:\n",
        "ConfusionMatrixDisplay.from_estimator(model_rf1, X_test, y_test)\n",
        "plt.grid(False) # just to disable grid lines for this plot"
      ],
      "execution_count": 19,
      "outputs": [
        {
          "output_type": "display_data",
          "data": {
            "image/png": "[encoded data removed]",
            "text/plain": [
              "<Figure size 432x288 with 2 Axes>"
            ]
          },
          "metadata": {
            "needs_background": "light"
          }
        }
      ]
    },
    {
      "cell_type": "markdown",
      "source": [
        "Note that the colour in the above plot has little implications as the quantity of the two classes differ by too much. We can express them as ratios and percentages instead. "
      ],
      "metadata": {
        "id": "mxiHZe5nMbm7"
      }
    },
    {
      "cell_type": "code",
      "metadata": {
        "colab": {
          "base_uri": "https://localhost:8080/",
          "height": 285
        },
        "id": "lvT6wt7D8h2K",
        "outputId": "c9d21827-cf27-4137-add4-af3aa28d0b58"
      },
      "source": [
        "# recall-related metrics (% of row)\n",
        "ConfusionMatrixDisplay.from_estimator(model_rf1, X_test, y_test, normalize = 'true') \n",
        "plt.grid(False)"
      ],
      "execution_count": 20,
      "outputs": [
        {
          "output_type": "display_data",
          "data": {
            "image/png": "[encoded data removed]",
            "text/plain": [
              "<Figure size 432x288 with 2 Axes>"
            ]
          },
          "metadata": {
            "needs_background": "light"
          }
        }
      ]
    },
    {
      "cell_type": "code",
      "metadata": {
        "colab": {
          "base_uri": "https://localhost:8080/",
          "height": 285
        },
        "id": "KqwWsT628lgb",
        "outputId": "d64356e0-143c-4098-baeb-e2a651b4f73e"
      },
      "source": [
        "# precision-related metrics (% of column)\n",
        "ConfusionMatrixDisplay.from_estimator(model_rf1, X_test, y_test, normalize = 'pred')\n",
        "plt.grid(False)"
      ],
      "execution_count": 21,
      "outputs": [
        {
          "output_type": "display_data",
          "data": {
            "image/png": "[encoded data removed]",
            "text/plain": [
              "<Figure size 432x288 with 2 Axes>"
            ]
          },
          "metadata": {
            "needs_background": "light"
          }
        }
      ]
    },
    {
      "cell_type": "code",
      "metadata": {
        "colab": {
          "base_uri": "https://localhost:8080/",
          "height": 411
        },
        "id": "l3Hx-hA49EAY",
        "outputId": "9342d199-fdbf-4f91-812d-c90ae05416b7"
      },
      "source": [
        "# to plot an ROC:\n",
        "fig, ax = plt.subplots(figsize=(6, 6)) # modify figure size\n",
        "RocCurveDisplay.from_estimator(model_rf1, X_test, y_test, ax = ax)"
      ],
      "execution_count": 22,
      "outputs": [
        {
          "output_type": "execute_result",
          "data": {
            "text/plain": [
              "<sklearn.metrics._plot.roc_curve.RocCurveDisplay at 0x7fccac97ac50>"
            ]
          },
          "metadata": {},
          "execution_count": 22
        },
        {
          "output_type": "display_data",
          "data": {
            "image/png": "[encoded data removed]",
            "text/plain": [
              "<Figure size 432x432 with 1 Axes>"
            ]
          },
          "metadata": {
            "needs_background": "light"
          }
        }
      ]
    },
    {
      "cell_type": "code",
      "source": [
        "# to calculate Area under ROC:\n",
        "roc_auc_score(y_test, y_pred_prob_rf1[:,1])"
      ],
      "metadata": {
        "colab": {
          "base_uri": "https://localhost:8080/"
        },
        "id": "BPq78LguO-dC",
        "outputId": "a6b89702-fdf6-4556-b051-6cc19cafb82d"
      },
      "execution_count": 23,
      "outputs": [
        {
          "output_type": "execute_result",
          "data": {
            "text/plain": [
              "0.9250772090219521"
            ]
          },
          "metadata": {},
          "execution_count": 23
        }
      ]
    },
    {
      "cell_type": "markdown",
      "source": [
        "**Some Observations**\n",
        "\n",
        "* This model outperforms the logistic regression model we have trained last tutorial in several metrics:\n",
        "\n",
        "|           | Random Forest | Logistic Regression |\n",
        "|-----------|--------------:|--------------------:|\n",
        "| Accuracy  |         93.8% |               92.6% |\n",
        "| F1 Score  |         59.0% |               49.2% |\n",
        "| Precision |         85.8% |               79.7% |\n",
        "| Recall    |         44.9% |               35.6% |\n",
        "| AUC       |         92.5% |               86.2% |\n",
        "\n",
        "* The recall is still not optimal at 44.9%, meaning that only around half of those who died within their hospital stay is successfully detected by the model. Depending on the objectives of your model, it **could be beneficial to choose another cutoff point** for binary classification predictions rather than the default 0.5. One might prioritise recall over precision if the impact of having false negatives outweighs false positives. For example, for cancer prediction, minimising the risk of unidentified positive cases (hence delayed treatment) could outweigh the inconvenience and costs incurred by additional checkup appointments for negative cases. "
      ],
      "metadata": {
        "id": "WyAb-_xW_MxN"
      }
    },
    {
      "cell_type": "markdown",
      "source": [
        "As an example, let's lower the cutoff to 0.2 so that more patients will be classified as positive (hence higher recall at the cost of lower precision). We can use the probablistic outputs from the model (saved in `y_pred_prob_rf1`) and define a new cutoff ourselves. "
      ],
      "metadata": {
        "id": "TNuIVcnEGjwW"
      }
    },
    {
      "cell_type": "code",
      "source": [
        "sns.histplot(y_pred_prob_rf1[:,1])"
      ],
      "metadata": {
        "colab": {
          "base_uri": "https://localhost:8080/",
          "height": 285
        },
        "id": "iPptwIMgGamH",
        "outputId": "7ef1e451-e841-43b4-fe3c-fb4ba1b13232"
      },
      "execution_count": 24,
      "outputs": [
        {
          "output_type": "execute_result",
          "data": {
            "text/plain": [
              "<matplotlib.axes._subplots.AxesSubplot at 0x7fccac89c9d0>"
            ]
          },
          "metadata": {},
          "execution_count": 24
        },
        {
          "output_type": "display_data",
          "data": {
            "image/png": "[encoded data removed]",
            "text/plain": [
              "<Figure size 432x288 with 1 Axes>"
            ]
          },
          "metadata": {
            "needs_background": "light"
          }
        }
      ]
    },
    {
      "cell_type": "code",
      "source": [
        "y_pred_rf1_cutoff20 = (y_pred_prob_rf1[:,1] > 0.2) * 1\n",
        "y_pred_rf1_cutoff20"
      ],
      "metadata": {
        "colab": {
          "base_uri": "https://localhost:8080/"
        },
        "id": "p2qPSGj_G2Fg",
        "outputId": "1140b3fa-963b-42bc-b7eb-eac6c8ae2243"
      },
      "execution_count": 25,
      "outputs": [
        {
          "output_type": "execute_result",
          "data": {
            "text/plain": [
              "array([1, 0, 0, ..., 0, 0, 0])"
            ]
          },
          "metadata": {},
          "execution_count": 25
        }
      ]
    },
    {
      "cell_type": "code",
      "source": [
        "pd.Series(y_pred_rf1).value_counts() # 0.5 as cutoff"
      ],
      "metadata": {
        "colab": {
          "base_uri": "https://localhost:8080/"
        },
        "id": "aqGg-IOjJeHb",
        "outputId": "40bc9d4c-a7be-4711-c91c-33a8c4c80b93"
      },
      "execution_count": 26,
      "outputs": [
        {
          "output_type": "execute_result",
          "data": {
            "text/plain": [
              "0    11183\n",
              "1      613\n",
              "dtype: int64"
            ]
          },
          "metadata": {},
          "execution_count": 26
        }
      ]
    },
    {
      "cell_type": "code",
      "source": [
        "pd.Series(y_pred_rf1_cutoff20).value_counts() # 0.2 as cutoff"
      ],
      "metadata": {
        "colab": {
          "base_uri": "https://localhost:8080/"
        },
        "id": "hGvflppzJig7",
        "outputId": "c66f126d-8b9a-4d57-d591-5c98d85a67cd"
      },
      "execution_count": 27,
      "outputs": [
        {
          "output_type": "execute_result",
          "data": {
            "text/plain": [
              "0    10201\n",
              "1     1595\n",
              "dtype: int64"
            ]
          },
          "metadata": {},
          "execution_count": 27
        }
      ]
    },
    {
      "cell_type": "code",
      "source": [
        "# to display multiple classification-related metrics:\n",
        "print(classification_report(y_test, y_pred_rf1_cutoff20, digits = 3))"
      ],
      "metadata": {
        "colab": {
          "base_uri": "https://localhost:8080/"
        },
        "id": "lC1xcM7fHcui",
        "outputId": "f8a81102-70ea-4672-b6bd-d7cd53846684"
      },
      "execution_count": 28,
      "outputs": [
        {
          "output_type": "stream",
          "name": "stdout",
          "text": [
            "              precision    recall  f1-score   support\n",
            "\n",
            "           0      0.969     0.930     0.949     10625\n",
            "           1      0.534     0.728     0.616      1171\n",
            "\n",
            "    accuracy                          0.910     11796\n",
            "   macro avg      0.751     0.829     0.783     11796\n",
            "weighted avg      0.926     0.910     0.916     11796\n",
            "\n"
          ]
        }
      ]
    },
    {
      "cell_type": "code",
      "source": [
        "# recall-related metrics (% of row)\n",
        "ConfusionMatrixDisplay.from_predictions(y_test, y_pred_rf1_cutoff20, normalize = 'true') \n",
        "plt.grid(False)"
      ],
      "metadata": {
        "colab": {
          "base_uri": "https://localhost:8080/",
          "height": 285
        },
        "id": "KZLit0sqHtPG",
        "outputId": "2b148b20-cb72-4955-ee8a-dccc13ee8b3a"
      },
      "execution_count": 29,
      "outputs": [
        {
          "output_type": "display_data",
          "data": {
            "image/png": "[encoded data removed]",
            "text/plain": [
              "<Figure size 432x288 with 2 Axes>"
            ]
          },
          "metadata": {
            "needs_background": "light"
          }
        }
      ]
    },
    {
      "cell_type": "code",
      "source": [
        "# precision-related metrics (% of column)\n",
        "ConfusionMatrixDisplay.from_predictions(y_test, y_pred_rf1_cutoff20, normalize = 'pred')\n",
        "plt.grid(False)"
      ],
      "metadata": {
        "colab": {
          "base_uri": "https://localhost:8080/",
          "height": 285
        },
        "id": "mXPKg4uKIELC",
        "outputId": "01e19db5-8239-470e-84aa-f6afa8b13efb"
      },
      "execution_count": 30,
      "outputs": [
        {
          "output_type": "display_data",
          "data": {
            "image/png": "[encoded data removed]",
            "text/plain": [
              "<Figure size 432x288 with 2 Axes>"
            ]
          },
          "metadata": {
            "needs_background": "light"
          }
        }
      ]
    },
    {
      "cell_type": "markdown",
      "source": [
        "* As we lower the cutoff, more patients were classified as positive (613 -> 1,595), leading to a better recall (44.9% -> 72.8%) and a worse precision (85.8% -> 53.4%)"
      ],
      "metadata": {
        "id": "Goa26L0mJAtL"
      }
    },
    {
      "cell_type": "markdown",
      "metadata": {
        "id": "gLnxdK8HxsU8"
      },
      "source": [
        "---\n",
        "\n",
        "## 2.4. Tuning a Random Forest Model"
      ]
    },
    {
      "cell_type": "markdown",
      "metadata": {
        "id": "bs2HkiyHpB3J"
      },
      "source": [
        "Hyperparameters are a pre-defined set of configurations of a machine learning model. Examples of that include the number of decision trees as well as the depth of each tree in a random forest model. Although Scikit-learn provides a good set of default values for you to start with, these hyperparameters often need to be tuned for further optimise the model's performance. \n",
        "\n",
        "Now, we try to **tune the hyperparameters** of the random forest model above based on **cross-validation** and **grid search**. We apply the `GridSearchCV()` function and specify a list of hyperparameters and their respective values to be tested. Models are trained for each combination of potential values and fold. The best performing set of hyperparameters across all folds would then be reported and used. \n",
        "\n",
        "![train-validation-test split](https://scikit-learn.org/stable/_images/grid_search_cross_validation.png)\n",
        "\n",
        "([Source](https://scikit-learn.org/stable/))\n",
        "\n",
        "Performing this step requires at least a basic understanding on the meaning and effect of each hyperparameter. You should always refer to the docs of the model you are using in this step ([RandomForestClassifier](https://scikit-learn.org/stable/modules/generated/sklearn.ensemble.RandomForestClassifier.html#sklearn.ensemble.RandomForestClassifier) in this case). An explanation of Random Forest hyperparameters can also be found [here](https://www.analyticsvidhya.com/blog/2020/03/beginners-guide-random-forest-hyperparameter-tuning/).\n"
      ]
    },
    {
      "cell_type": "code",
      "metadata": {
        "id": "Y4vRJXjmxvrN"
      },
      "source": [
        "# a set of hyperparameters and their respective values to be tested\n",
        "\n",
        "param_grid = {\n",
        "    'n_estimators': [30, 100, 300],    # number of decision trees in the forest \n",
        "    'max_depth': [2, 10, None],        # how many times can each tree be split. 'None' means no specific limit. \n",
        "    'class_weight': ['balanced', None] # weight of each sample. 'None' means equal weight, \n",
        "                                       # 'balanced' would put more weight on the less represented classes to help tackle class imbalance problem\n",
        "}"
      ],
      "execution_count": 31,
      "outputs": []
    },
    {
      "cell_type": "code",
      "metadata": {
        "id": "EFtKiI7c0VjS"
      },
      "source": [
        "grid_search_rf = GridSearchCV(\n",
        "    estimator = RandomForestClassifier(random_state = 1, n_jobs = -1), # define type of model to be tuned\n",
        "    param_grid = param_grid,                                           # hyperparameters to be tested\n",
        "    cv = 5,                                                            # 5-fold cross-validation\n",
        "    scoring = 'f1',                                                    # metric to be optimized\n",
        "    verbose = 2\n",
        "    )"
      ],
      "execution_count": 32,
      "outputs": []
    },
    {
      "cell_type": "code",
      "metadata": {
        "colab": {
          "base_uri": "https://localhost:8080/"
        },
        "id": "wS14hVIj0uM_",
        "outputId": "41ad97ab-9d01-4662-81b9-eeb40b60a6d0"
      },
      "source": [
        "%%time\n",
        "\n",
        "grid_search_rf.fit(X_train, y_train)\n",
        "\n",
        "# this would take **5 to 15 minutes** to run\n",
        "# this could take even longer depending on the number of hyperparameters to be tested, number of folds and the size of the dataset"
      ],
      "execution_count": 33,
      "outputs": [
        {
          "output_type": "stream",
          "name": "stdout",
          "text": [
            "Fitting 5 folds for each of 18 candidates, totalling 90 fits\n",
            "[CV] END class_weight=balanced, max_depth=2, n_estimators=30; total time=   1.8s\n",
            "[CV] END class_weight=balanced, max_depth=2, n_estimators=30; total time=   0.7s\n",
            "[CV] END class_weight=balanced, max_depth=2, n_estimators=30; total time=   0.7s\n",
            "[CV] END class_weight=balanced, max_depth=2, n_estimators=30; total time=   0.7s\n",
            "[CV] END class_weight=balanced, max_depth=2, n_estimators=30; total time=   0.7s\n",
            "[CV] END class_weight=balanced, max_depth=2, n_estimators=100; total time=   1.6s\n",
            "[CV] END class_weight=balanced, max_depth=2, n_estimators=100; total time=   1.6s\n",
            "[CV] END class_weight=balanced, max_depth=2, n_estimators=100; total time=   1.6s\n",
            "[CV] END class_weight=balanced, max_depth=2, n_estimators=100; total time=   1.6s\n",
            "[CV] END class_weight=balanced, max_depth=2, n_estimators=100; total time=   1.6s\n",
            "[CV] END class_weight=balanced, max_depth=2, n_estimators=300; total time=   4.0s\n",
            "[CV] END class_weight=balanced, max_depth=2, n_estimators=300; total time=   4.1s\n",
            "[CV] END class_weight=balanced, max_depth=2, n_estimators=300; total time=   4.1s\n",
            "[CV] END class_weight=balanced, max_depth=2, n_estimators=300; total time=   4.1s\n",
            "[CV] END class_weight=balanced, max_depth=2, n_estimators=300; total time=   4.1s\n",
            "[CV] END class_weight=balanced, max_depth=10, n_estimators=30; total time=   1.6s\n",
            "[CV] END class_weight=balanced, max_depth=10, n_estimators=30; total time=   1.5s\n",
            "[CV] END class_weight=balanced, max_depth=10, n_estimators=30; total time=   1.6s\n",
            "[CV] END class_weight=balanced, max_depth=10, n_estimators=30; total time=   1.5s\n",
            "[CV] END class_weight=balanced, max_depth=10, n_estimators=30; total time=   1.5s\n",
            "[CV] END class_weight=balanced, max_depth=10, n_estimators=100; total time=   4.6s\n",
            "[CV] END class_weight=balanced, max_depth=10, n_estimators=100; total time=   5.5s\n",
            "[CV] END class_weight=balanced, max_depth=10, n_estimators=100; total time=   5.6s\n",
            "[CV] END class_weight=balanced, max_depth=10, n_estimators=100; total time=   4.6s\n",
            "[CV] END class_weight=balanced, max_depth=10, n_estimators=100; total time=   4.7s\n",
            "[CV] END class_weight=balanced, max_depth=10, n_estimators=300; total time=  13.2s\n",
            "[CV] END class_weight=balanced, max_depth=10, n_estimators=300; total time=  13.5s\n",
            "[CV] END class_weight=balanced, max_depth=10, n_estimators=300; total time=  13.5s\n",
            "[CV] END class_weight=balanced, max_depth=10, n_estimators=300; total time=  13.4s\n",
            "[CV] END class_weight=balanced, max_depth=10, n_estimators=300; total time=  13.2s\n",
            "[CV] END class_weight=balanced, max_depth=None, n_estimators=30; total time=   2.0s\n",
            "[CV] END class_weight=balanced, max_depth=None, n_estimators=30; total time=   2.0s\n",
            "[CV] END class_weight=balanced, max_depth=None, n_estimators=30; total time=   2.0s\n",
            "[CV] END class_weight=balanced, max_depth=None, n_estimators=30; total time=   2.0s\n",
            "[CV] END class_weight=balanced, max_depth=None, n_estimators=30; total time=   2.1s\n",
            "[CV] END class_weight=balanced, max_depth=None, n_estimators=100; total time=   6.2s\n",
            "[CV] END class_weight=balanced, max_depth=None, n_estimators=100; total time=   6.2s\n",
            "[CV] END class_weight=balanced, max_depth=None, n_estimators=100; total time=   6.2s\n",
            "[CV] END class_weight=balanced, max_depth=None, n_estimators=100; total time=   6.2s\n",
            "[CV] END class_weight=balanced, max_depth=None, n_estimators=100; total time=   6.3s\n",
            "[CV] END class_weight=balanced, max_depth=None, n_estimators=300; total time=  18.2s\n",
            "[CV] END class_weight=balanced, max_depth=None, n_estimators=300; total time=  17.9s\n",
            "[CV] END class_weight=balanced, max_depth=None, n_estimators=300; total time=  18.1s\n",
            "[CV] END class_weight=balanced, max_depth=None, n_estimators=300; total time=  18.4s\n",
            "[CV] END class_weight=balanced, max_depth=None, n_estimators=300; total time=  18.3s\n",
            "[CV] END ....class_weight=None, max_depth=2, n_estimators=30; total time=   0.6s\n",
            "[CV] END ....class_weight=None, max_depth=2, n_estimators=30; total time=   0.7s\n",
            "[CV] END ....class_weight=None, max_depth=2, n_estimators=30; total time=   0.7s\n",
            "[CV] END ....class_weight=None, max_depth=2, n_estimators=30; total time=   0.7s\n",
            "[CV] END ....class_weight=None, max_depth=2, n_estimators=30; total time=   0.7s\n",
            "[CV] END ...class_weight=None, max_depth=2, n_estimators=100; total time=   1.5s\n",
            "[CV] END ...class_weight=None, max_depth=2, n_estimators=100; total time=   1.5s\n",
            "[CV] END ...class_weight=None, max_depth=2, n_estimators=100; total time=   1.5s\n",
            "[CV] END ...class_weight=None, max_depth=2, n_estimators=100; total time=   1.5s\n",
            "[CV] END ...class_weight=None, max_depth=2, n_estimators=100; total time=   1.6s\n",
            "[CV] END ...class_weight=None, max_depth=2, n_estimators=300; total time=   4.0s\n",
            "[CV] END ...class_weight=None, max_depth=2, n_estimators=300; total time=   4.0s\n",
            "[CV] END ...class_weight=None, max_depth=2, n_estimators=300; total time=   4.0s\n",
            "[CV] END ...class_weight=None, max_depth=2, n_estimators=300; total time=   4.0s\n",
            "[CV] END ...class_weight=None, max_depth=2, n_estimators=300; total time=   4.1s\n",
            "[CV] END ...class_weight=None, max_depth=10, n_estimators=30; total time=   1.5s\n",
            "[CV] END ...class_weight=None, max_depth=10, n_estimators=30; total time=   1.5s\n",
            "[CV] END ...class_weight=None, max_depth=10, n_estimators=30; total time=   1.5s\n",
            "[CV] END ...class_weight=None, max_depth=10, n_estimators=30; total time=   1.5s\n",
            "[CV] END ...class_weight=None, max_depth=10, n_estimators=30; total time=   1.5s\n",
            "[CV] END ..class_weight=None, max_depth=10, n_estimators=100; total time=   4.5s\n",
            "[CV] END ..class_weight=None, max_depth=10, n_estimators=100; total time=   4.6s\n",
            "[CV] END ..class_weight=None, max_depth=10, n_estimators=100; total time=   4.6s\n",
            "[CV] END ..class_weight=None, max_depth=10, n_estimators=100; total time=   4.7s\n",
            "[CV] END ..class_weight=None, max_depth=10, n_estimators=100; total time=   4.5s\n",
            "[CV] END ..class_weight=None, max_depth=10, n_estimators=300; total time=  13.2s\n",
            "[CV] END ..class_weight=None, max_depth=10, n_estimators=300; total time=  13.0s\n",
            "[CV] END ..class_weight=None, max_depth=10, n_estimators=300; total time=  13.1s\n",
            "[CV] END ..class_weight=None, max_depth=10, n_estimators=300; total time=  13.1s\n",
            "[CV] END ..class_weight=None, max_depth=10, n_estimators=300; total time=  12.9s\n",
            "[CV] END .class_weight=None, max_depth=None, n_estimators=30; total time=   2.3s\n",
            "[CV] END .class_weight=None, max_depth=None, n_estimators=30; total time=   2.2s\n",
            "[CV] END .class_weight=None, max_depth=None, n_estimators=30; total time=   2.2s\n",
            "[CV] END .class_weight=None, max_depth=None, n_estimators=30; total time=   2.2s\n",
            "[CV] END .class_weight=None, max_depth=None, n_estimators=30; total time=   2.2s\n",
            "[CV] END class_weight=None, max_depth=None, n_estimators=100; total time=   6.9s\n",
            "[CV] END class_weight=None, max_depth=None, n_estimators=100; total time=   6.9s\n",
            "[CV] END class_weight=None, max_depth=None, n_estimators=100; total time=   6.9s\n",
            "[CV] END class_weight=None, max_depth=None, n_estimators=100; total time=   6.9s\n",
            "[CV] END class_weight=None, max_depth=None, n_estimators=100; total time=   7.0s\n",
            "[CV] END class_weight=None, max_depth=None, n_estimators=300; total time=  20.5s\n",
            "[CV] END class_weight=None, max_depth=None, n_estimators=300; total time=  20.5s\n",
            "[CV] END class_weight=None, max_depth=None, n_estimators=300; total time=  20.2s\n",
            "[CV] END class_weight=None, max_depth=None, n_estimators=300; total time=  20.3s\n",
            "[CV] END class_weight=None, max_depth=None, n_estimators=300; total time=  20.6s\n",
            "CPU times: user 1min 32s, sys: 5.07 s, total: 1min 37s\n",
            "Wall time: 9min 14s\n"
          ]
        },
        {
          "output_type": "execute_result",
          "data": {
            "text/plain": [
              "GridSearchCV(cv=5, estimator=RandomForestClassifier(n_jobs=-1, random_state=1),\n",
              "             param_grid={'class_weight': ['balanced', None],\n",
              "                         'max_depth': [2, 10, None],\n",
              "                         'n_estimators': [30, 100, 300]},\n",
              "             scoring='f1', verbose=2)"
            ]
          },
          "metadata": {},
          "execution_count": 33
        }
      ]
    },
    {
      "cell_type": "markdown",
      "metadata": {
        "id": "1gA6PwpnvPC2"
      },
      "source": [
        "### 2.4.1. Tuning Results"
      ]
    },
    {
      "cell_type": "markdown",
      "metadata": {
        "id": "sLNk7_ZTvbhB"
      },
      "source": [
        "Retrieve the best performing set of hyperparams using `.best_params_`"
      ]
    },
    {
      "cell_type": "code",
      "metadata": {
        "colab": {
          "base_uri": "https://localhost:8080/"
        },
        "id": "8jep2Ldq1Emf",
        "outputId": "7a51dcaf-b9db-4a15-bbbe-a8c02cd2bd82"
      },
      "source": [
        "grid_search_rf.best_params_"
      ],
      "execution_count": 34,
      "outputs": [
        {
          "output_type": "execute_result",
          "data": {
            "text/plain": [
              "{'class_weight': 'balanced', 'max_depth': 10, 'n_estimators': 300}"
            ]
          },
          "metadata": {},
          "execution_count": 34
        }
      ]
    },
    {
      "cell_type": "markdown",
      "metadata": {
        "id": "a6VcIv99vjLg"
      },
      "source": [
        "Retrieve the best performing model from `.best_estimator_` and save it as a seperate variable."
      ]
    },
    {
      "cell_type": "code",
      "metadata": {
        "id": "mv0WdXk3vwvi"
      },
      "source": [
        "model_rf2 = grid_search_rf.best_estimator_\n",
        "\n",
        "# Note: this would be the same as training a seperate model using the same hyperparameters, i.e.\n",
        "# model_rf2 = RandomForestClassifier(class_weight='balanced', max_depth=10, n_estimators=300,\n",
        "#                                    n_jobs=-1, random_state=1)\n",
        "# model_rf2.fit(X_train, y_train)"
      ],
      "execution_count": 35,
      "outputs": []
    },
    {
      "cell_type": "markdown",
      "metadata": {
        "id": "P5HT7AZjvzoL"
      },
      "source": [
        "Use `.cv_results_` in case you want to look into the details of each set of hyperparams. This could help you determine the apprioriate range of each hyperparameter, and thus setting up better `param_grid`'s in any subsequent tuning using more refined ranges. In the example below, we can deduce that having a `max_depth` of 2 is insufficient. Having a 'balanced' weighting across samples also helps. "
      ]
    },
    {
      "cell_type": "code",
      "metadata": {
        "colab": {
          "base_uri": "https://localhost:8080/",
          "height": 1000
        },
        "id": "AWBGTs2McRBb",
        "outputId": "aa807d5e-6c31-4dd3-c294-54431e900dae"
      },
      "source": [
        "rf_cv_results = pd.DataFrame(grid_search_rf.cv_results_)\n",
        "rf_cv_results = rf_cv_results.fillna('None')\n",
        "rf_cv_results"
      ],
      "execution_count": 36,
      "outputs": [
        {
          "output_type": "execute_result",
          "data": {
            "text/html": [
              "\n",
              "  <div id=\"df-952785ad-79e0-4183-b007-91d0bef4ffbf\">\n",
              "    <div class=\"colab-df-container\">\n",
              "      <div>\n",
              "<style scoped>\n",
              "    .dataframe tbody tr th:only-of-type {\n",
              "        vertical-align: middle;\n",
              "    }\n",
              "\n",
              "    .dataframe tbody tr th {\n",
              "        vertical-align: top;\n",
              "    }\n",
              "\n",
              "    .dataframe thead th {\n",
              "        text-align: right;\n",
              "    }\n",
              "</style>\n",
              "<table border=\"1\" class=\"dataframe\">\n",
              "  <thead>\n",
              "    <tr style=\"text-align: right;\">\n",
              "      <th></th>\n",
              "      <th>mean_fit_time</th>\n",
              "      <th>std_fit_time</th>\n",
              "      <th>mean_score_time</th>\n",
              "      <th>std_score_time</th>\n",
              "      <th>param_class_weight</th>\n",
              "      <th>param_max_depth</th>\n",
              "      <th>param_n_estimators</th>\n",
              "      <th>params</th>\n",
              "      <th>split0_test_score</th>\n",
              "      <th>split1_test_score</th>\n",
              "      <th>split2_test_score</th>\n",
              "      <th>split3_test_score</th>\n",
              "      <th>split4_test_score</th>\n",
              "      <th>mean_test_score</th>\n",
              "      <th>std_test_score</th>\n",
              "      <th>rank_test_score</th>\n",
              "    </tr>\n",
              "  </thead>\n",
              "  <tbody>\n",
              "    <tr>\n",
              "      <th>0</th>\n",
              "      <td>0.790292</td>\n",
              "      <td>0.457358</td>\n",
              "      <td>0.110445</td>\n",
              "      <td>0.000813</td>\n",
              "      <td>balanced</td>\n",
              "      <td>2</td>\n",
              "      <td>30</td>\n",
              "      <td>{'class_weight': 'balanced', 'max_depth': 2, '...</td>\n",
              "      <td>0.481521</td>\n",
              "      <td>0.478564</td>\n",
              "      <td>0.482903</td>\n",
              "      <td>0.500540</td>\n",
              "      <td>0.475009</td>\n",
              "      <td>0.483707</td>\n",
              "      <td>0.008842</td>\n",
              "      <td>13</td>\n",
              "    </tr>\n",
              "    <tr>\n",
              "      <th>1</th>\n",
              "      <td>1.445136</td>\n",
              "      <td>0.005690</td>\n",
              "      <td>0.110061</td>\n",
              "      <td>0.000163</td>\n",
              "      <td>balanced</td>\n",
              "      <td>2</td>\n",
              "      <td>100</td>\n",
              "      <td>{'class_weight': 'balanced', 'max_depth': 2, '...</td>\n",
              "      <td>0.479138</td>\n",
              "      <td>0.469871</td>\n",
              "      <td>0.470507</td>\n",
              "      <td>0.500356</td>\n",
              "      <td>0.474453</td>\n",
              "      <td>0.478865</td>\n",
              "      <td>0.011244</td>\n",
              "      <td>15</td>\n",
              "    </tr>\n",
              "    <tr>\n",
              "      <th>2</th>\n",
              "      <td>3.887712</td>\n",
              "      <td>0.042067</td>\n",
              "      <td>0.210496</td>\n",
              "      <td>0.000271</td>\n",
              "      <td>balanced</td>\n",
              "      <td>2</td>\n",
              "      <td>300</td>\n",
              "      <td>{'class_weight': 'balanced', 'max_depth': 2, '...</td>\n",
              "      <td>0.481109</td>\n",
              "      <td>0.475746</td>\n",
              "      <td>0.474705</td>\n",
              "      <td>0.497706</td>\n",
              "      <td>0.472793</td>\n",
              "      <td>0.480412</td>\n",
              "      <td>0.009077</td>\n",
              "      <td>14</td>\n",
              "    </tr>\n",
              "    <tr>\n",
              "      <th>3</th>\n",
              "      <td>1.435934</td>\n",
              "      <td>0.027481</td>\n",
              "      <td>0.110835</td>\n",
              "      <td>0.001468</td>\n",
              "      <td>balanced</td>\n",
              "      <td>10</td>\n",
              "      <td>30</td>\n",
              "      <td>{'class_weight': 'balanced', 'max_depth': 10, ...</td>\n",
              "      <td>0.590791</td>\n",
              "      <td>0.589011</td>\n",
              "      <td>0.591008</td>\n",
              "      <td>0.595289</td>\n",
              "      <td>0.587245</td>\n",
              "      <td>0.590669</td>\n",
              "      <td>0.002681</td>\n",
              "      <td>5</td>\n",
              "    </tr>\n",
              "    <tr>\n",
              "      <th>4</th>\n",
              "      <td>4.729553</td>\n",
              "      <td>0.415289</td>\n",
              "      <td>0.258875</td>\n",
              "      <td>0.096551</td>\n",
              "      <td>balanced</td>\n",
              "      <td>10</td>\n",
              "      <td>100</td>\n",
              "      <td>{'class_weight': 'balanced', 'max_depth': 10, ...</td>\n",
              "      <td>0.591623</td>\n",
              "      <td>0.594763</td>\n",
              "      <td>0.588031</td>\n",
              "      <td>0.606751</td>\n",
              "      <td>0.584931</td>\n",
              "      <td>0.593220</td>\n",
              "      <td>0.007532</td>\n",
              "      <td>3</td>\n",
              "    </tr>\n",
              "    <tr>\n",
              "      <th>5</th>\n",
              "      <td>12.925978</td>\n",
              "      <td>0.121747</td>\n",
              "      <td>0.412179</td>\n",
              "      <td>0.002143</td>\n",
              "      <td>balanced</td>\n",
              "      <td>10</td>\n",
              "      <td>300</td>\n",
              "      <td>{'class_weight': 'balanced', 'max_depth': 10, ...</td>\n",
              "      <td>0.591266</td>\n",
              "      <td>0.594954</td>\n",
              "      <td>0.596923</td>\n",
              "      <td>0.610721</td>\n",
              "      <td>0.594104</td>\n",
              "      <td>0.597594</td>\n",
              "      <td>0.006811</td>\n",
              "      <td>1</td>\n",
              "    </tr>\n",
              "    <tr>\n",
              "      <th>6</th>\n",
              "      <td>1.898186</td>\n",
              "      <td>0.036032</td>\n",
              "      <td>0.110166</td>\n",
              "      <td>0.000494</td>\n",
              "      <td>balanced</td>\n",
              "      <td>None</td>\n",
              "      <td>30</td>\n",
              "      <td>{'class_weight': 'balanced', 'max_depth': None...</td>\n",
              "      <td>0.556999</td>\n",
              "      <td>0.562857</td>\n",
              "      <td>0.551625</td>\n",
              "      <td>0.577086</td>\n",
              "      <td>0.530138</td>\n",
              "      <td>0.555741</td>\n",
              "      <td>0.015364</td>\n",
              "      <td>11</td>\n",
              "    </tr>\n",
              "    <tr>\n",
              "      <th>7</th>\n",
              "      <td>5.989187</td>\n",
              "      <td>0.040388</td>\n",
              "      <td>0.210858</td>\n",
              "      <td>0.001105</td>\n",
              "      <td>balanced</td>\n",
              "      <td>None</td>\n",
              "      <td>100</td>\n",
              "      <td>{'class_weight': 'balanced', 'max_depth': None...</td>\n",
              "      <td>0.566092</td>\n",
              "      <td>0.570413</td>\n",
              "      <td>0.573267</td>\n",
              "      <td>0.579134</td>\n",
              "      <td>0.538628</td>\n",
              "      <td>0.565507</td>\n",
              "      <td>0.014091</td>\n",
              "      <td>7</td>\n",
              "    </tr>\n",
              "    <tr>\n",
              "      <th>8</th>\n",
              "      <td>17.671044</td>\n",
              "      <td>0.158273</td>\n",
              "      <td>0.511293</td>\n",
              "      <td>0.000983</td>\n",
              "      <td>balanced</td>\n",
              "      <td>None</td>\n",
              "      <td>300</td>\n",
              "      <td>{'class_weight': 'balanced', 'max_depth': None...</td>\n",
              "      <td>0.562995</td>\n",
              "      <td>0.570219</td>\n",
              "      <td>0.576731</td>\n",
              "      <td>0.579915</td>\n",
              "      <td>0.525781</td>\n",
              "      <td>0.563128</td>\n",
              "      <td>0.019555</td>\n",
              "      <td>8</td>\n",
              "    </tr>\n",
              "    <tr>\n",
              "      <th>9</th>\n",
              "      <td>0.544223</td>\n",
              "      <td>0.006836</td>\n",
              "      <td>0.111117</td>\n",
              "      <td>0.001614</td>\n",
              "      <td>None</td>\n",
              "      <td>2</td>\n",
              "      <td>30</td>\n",
              "      <td>{'class_weight': None, 'max_depth': 2, 'n_esti...</td>\n",
              "      <td>0.171540</td>\n",
              "      <td>0.171540</td>\n",
              "      <td>0.198473</td>\n",
              "      <td>0.138614</td>\n",
              "      <td>0.165692</td>\n",
              "      <td>0.169172</td>\n",
              "      <td>0.019056</td>\n",
              "      <td>17</td>\n",
              "    </tr>\n",
              "    <tr>\n",
              "      <th>10</th>\n",
              "      <td>1.427690</td>\n",
              "      <td>0.011099</td>\n",
              "      <td>0.110195</td>\n",
              "      <td>0.000630</td>\n",
              "      <td>None</td>\n",
              "      <td>2</td>\n",
              "      <td>100</td>\n",
              "      <td>{'class_weight': None, 'max_depth': 2, 'n_esti...</td>\n",
              "      <td>0.190751</td>\n",
              "      <td>0.192493</td>\n",
              "      <td>0.215909</td>\n",
              "      <td>0.172983</td>\n",
              "      <td>0.172816</td>\n",
              "      <td>0.188990</td>\n",
              "      <td>0.015861</td>\n",
              "      <td>16</td>\n",
              "    </tr>\n",
              "    <tr>\n",
              "      <th>11</th>\n",
              "      <td>3.832485</td>\n",
              "      <td>0.024495</td>\n",
              "      <td>0.210297</td>\n",
              "      <td>0.000388</td>\n",
              "      <td>None</td>\n",
              "      <td>2</td>\n",
              "      <td>300</td>\n",
              "      <td>{'class_weight': None, 'max_depth': 2, 'n_esti...</td>\n",
              "      <td>0.170088</td>\n",
              "      <td>0.173152</td>\n",
              "      <td>0.181643</td>\n",
              "      <td>0.138751</td>\n",
              "      <td>0.155054</td>\n",
              "      <td>0.163737</td>\n",
              "      <td>0.015161</td>\n",
              "      <td>18</td>\n",
              "    </tr>\n",
              "    <tr>\n",
              "      <th>12</th>\n",
              "      <td>1.422358</td>\n",
              "      <td>0.005544</td>\n",
              "      <td>0.110057</td>\n",
              "      <td>0.000201</td>\n",
              "      <td>None</td>\n",
              "      <td>10</td>\n",
              "      <td>30</td>\n",
              "      <td>{'class_weight': None, 'max_depth': 10, 'n_est...</td>\n",
              "      <td>0.550257</td>\n",
              "      <td>0.557637</td>\n",
              "      <td>0.551873</td>\n",
              "      <td>0.583691</td>\n",
              "      <td>0.536158</td>\n",
              "      <td>0.555923</td>\n",
              "      <td>0.015577</td>\n",
              "      <td>10</td>\n",
              "    </tr>\n",
              "    <tr>\n",
              "      <th>13</th>\n",
              "      <td>4.412474</td>\n",
              "      <td>0.031246</td>\n",
              "      <td>0.170581</td>\n",
              "      <td>0.048470</td>\n",
              "      <td>None</td>\n",
              "      <td>10</td>\n",
              "      <td>100</td>\n",
              "      <td>{'class_weight': None, 'max_depth': 10, 'n_est...</td>\n",
              "      <td>0.546520</td>\n",
              "      <td>0.571634</td>\n",
              "      <td>0.561378</td>\n",
              "      <td>0.584109</td>\n",
              "      <td>0.528634</td>\n",
              "      <td>0.558455</td>\n",
              "      <td>0.019350</td>\n",
              "      <td>9</td>\n",
              "    </tr>\n",
              "    <tr>\n",
              "      <th>14</th>\n",
              "      <td>12.763662</td>\n",
              "      <td>0.077338</td>\n",
              "      <td>0.310454</td>\n",
              "      <td>0.000926</td>\n",
              "      <td>None</td>\n",
              "      <td>10</td>\n",
              "      <td>300</td>\n",
              "      <td>{'class_weight': None, 'max_depth': 10, 'n_est...</td>\n",
              "      <td>0.549192</td>\n",
              "      <td>0.568345</td>\n",
              "      <td>0.562232</td>\n",
              "      <td>0.577586</td>\n",
              "      <td>0.518847</td>\n",
              "      <td>0.555241</td>\n",
              "      <td>0.020401</td>\n",
              "      <td>12</td>\n",
              "    </tr>\n",
              "    <tr>\n",
              "      <th>15</th>\n",
              "      <td>2.118056</td>\n",
              "      <td>0.030419</td>\n",
              "      <td>0.110000</td>\n",
              "      <td>0.000228</td>\n",
              "      <td>None</td>\n",
              "      <td>None</td>\n",
              "      <td>30</td>\n",
              "      <td>{'class_weight': None, 'max_depth': None, 'n_e...</td>\n",
              "      <td>0.566572</td>\n",
              "      <td>0.587749</td>\n",
              "      <td>0.591922</td>\n",
              "      <td>0.605605</td>\n",
              "      <td>0.559944</td>\n",
              "      <td>0.582358</td>\n",
              "      <td>0.016808</td>\n",
              "      <td>6</td>\n",
              "    </tr>\n",
              "    <tr>\n",
              "      <th>16</th>\n",
              "      <td>6.716919</td>\n",
              "      <td>0.029711</td>\n",
              "      <td>0.210392</td>\n",
              "      <td>0.000311</td>\n",
              "      <td>None</td>\n",
              "      <td>None</td>\n",
              "      <td>100</td>\n",
              "      <td>{'class_weight': None, 'max_depth': None, 'n_e...</td>\n",
              "      <td>0.579426</td>\n",
              "      <td>0.602459</td>\n",
              "      <td>0.595304</td>\n",
              "      <td>0.614227</td>\n",
              "      <td>0.569435</td>\n",
              "      <td>0.592170</td>\n",
              "      <td>0.016009</td>\n",
              "      <td>4</td>\n",
              "    </tr>\n",
              "    <tr>\n",
              "      <th>17</th>\n",
              "      <td>19.879790</td>\n",
              "      <td>0.141341</td>\n",
              "      <td>0.512629</td>\n",
              "      <td>0.001937</td>\n",
              "      <td>None</td>\n",
              "      <td>None</td>\n",
              "      <td>300</td>\n",
              "      <td>{'class_weight': None, 'max_depth': None, 'n_e...</td>\n",
              "      <td>0.581690</td>\n",
              "      <td>0.607094</td>\n",
              "      <td>0.599308</td>\n",
              "      <td>0.615172</td>\n",
              "      <td>0.573622</td>\n",
              "      <td>0.595377</td>\n",
              "      <td>0.015526</td>\n",
              "      <td>2</td>\n",
              "    </tr>\n",
              "  </tbody>\n",
              "</table>\n",
              "</div>\n",
              "      <button class=\"colab-df-convert\" onclick=\"convertToInteractive('df-952785ad-79e0-4183-b007-91d0bef4ffbf')\"\n",
              "              title=\"Convert this dataframe to an interactive table.\"\n",
              "              style=\"display:none;\">\n",
              "        \n",
              "  <svg xmlns=\"http://www.w3.org/2000/svg\" height=\"24px\"viewBox=\"0 0 24 24\"\n",
              "       width=\"24px\">\n",
              "    <path d=\"M0 0h24v24H0V0z\" fill=\"none\"/>\n",
              "    <path d=\"M18.56 5.44l.94 2.06.94-2.06 2.06-.94-2.06-.94-.94-2.06-.94 2.06-2.06.94zm-11 1L8.5 8.5l.94-2.06 2.06-.94-2.06-.94L8.5 2.5l-.94 2.06-2.06.94zm10 10l.94 2.06.94-2.06 2.06-.94-2.06-.94-.94-2.06-.94 2.06-2.06.94z\"/><path d=\"M17.41 7.96l-1.37-1.37c-.4-.4-.92-.59-1.43-.59-.52 0-1.04.2-1.43.59L10.3 9.45l-7.72 7.72c-.78.78-.78 2.05 0 2.83L4 21.41c.39.39.9.59 1.41.59.51 0 1.02-.2 1.41-.59l7.78-7.78 2.81-2.81c.8-.78.8-2.07 0-2.86zM5.41 20L4 18.59l7.72-7.72 1.47 1.35L5.41 20z\"/>\n",
              "  </svg>\n",
              "      </button>\n",
              "      \n",
              "  <style>\n",
              "    .colab-df-container {\n",
              "      display:flex;\n",
              "      flex-wrap:wrap;\n",
              "      gap: 12px;\n",
              "    }\n",
              "\n",
              "    .colab-df-convert {\n",
              "      background-color: #E8F0FE;\n",
              "      border: none;\n",
              "      border-radius: 50%;\n",
              "      cursor: pointer;\n",
              "      display: none;\n",
              "      fill: #1967D2;\n",
              "      height: 32px;\n",
              "      padding: 0 0 0 0;\n",
              "      width: 32px;\n",
              "    }\n",
              "\n",
              "    .colab-df-convert:hover {\n",
              "      background-color: #E2EBFA;\n",
              "      box-shadow: 0px 1px 2px rgba(60, 64, 67, 0.3), 0px 1px 3px 1px rgba(60, 64, 67, 0.15);\n",
              "      fill: #174EA6;\n",
              "    }\n",
              "\n",
              "    [theme=dark] .colab-df-convert {\n",
              "      background-color: #3B4455;\n",
              "      fill: #D2E3FC;\n",
              "    }\n",
              "\n",
              "    [theme=dark] .colab-df-convert:hover {\n",
              "      background-color: #434B5C;\n",
              "      box-shadow: 0px 1px 3px 1px rgba(0, 0, 0, 0.15);\n",
              "      filter: drop-shadow(0px 1px 2px rgba(0, 0, 0, 0.3));\n",
              "      fill: #FFFFFF;\n",
              "    }\n",
              "  </style>\n",
              "\n",
              "      <script>\n",
              "        const buttonEl =\n",
              "          document.querySelector('#df-952785ad-79e0-4183-b007-91d0bef4ffbf button.colab-df-convert');\n",
              "        buttonEl.style.display =\n",
              "          google.colab.kernel.accessAllowed ? 'block' : 'none';\n",
              "\n",
              "        async function convertToInteractive(key) {\n",
              "          const element = document.querySelector('#df-952785ad-79e0-4183-b007-91d0bef4ffbf');\n",
              "          const dataTable =\n",
              "            await google.colab.kernel.invokeFunction('convertToInteractive',\n",
              "                                                     [key], {});\n",
              "          if (!dataTable) return;\n",
              "\n",
              "          const docLinkHtml = 'Like what you see? Visit the ' +\n",
              "            '<a target=\"_blank\" href=https://colab.research.google.com/notebooks/data_table.ipynb>data table notebook</a>'\n",
              "            + ' to learn more about interactive tables.';\n",
              "          element.innerHTML = '';\n",
              "          dataTable['output_type'] = 'display_data';\n",
              "          await google.colab.output.renderOutput(dataTable, element);\n",
              "          const docLink = document.createElement('div');\n",
              "          docLink.innerHTML = docLinkHtml;\n",
              "          element.appendChild(docLink);\n",
              "        }\n",
              "      </script>\n",
              "    </div>\n",
              "  </div>\n",
              "  "
            ],
            "text/plain": [
              "    mean_fit_time  std_fit_time  ...  std_test_score  rank_test_score\n",
              "0        0.790292      0.457358  ...        0.008842               13\n",
              "1        1.445136      0.005690  ...        0.011244               15\n",
              "2        3.887712      0.042067  ...        0.009077               14\n",
              "3        1.435934      0.027481  ...        0.002681                5\n",
              "4        4.729553      0.415289  ...        0.007532                3\n",
              "5       12.925978      0.121747  ...        0.006811                1\n",
              "6        1.898186      0.036032  ...        0.015364               11\n",
              "7        5.989187      0.040388  ...        0.014091                7\n",
              "8       17.671044      0.158273  ...        0.019555                8\n",
              "9        0.544223      0.006836  ...        0.019056               17\n",
              "10       1.427690      0.011099  ...        0.015861               16\n",
              "11       3.832485      0.024495  ...        0.015161               18\n",
              "12       1.422358      0.005544  ...        0.015577               10\n",
              "13       4.412474      0.031246  ...        0.019350                9\n",
              "14      12.763662      0.077338  ...        0.020401               12\n",
              "15       2.118056      0.030419  ...        0.016808                6\n",
              "16       6.716919      0.029711  ...        0.016009                4\n",
              "17      19.879790      0.141341  ...        0.015526                2\n",
              "\n",
              "[18 rows x 16 columns]"
            ]
          },
          "metadata": {},
          "execution_count": 36
        }
      ]
    },
    {
      "cell_type": "code",
      "source": [
        "sns.boxplot(x = 'param_class_weight', y = 'mean_test_score', data = rf_cv_results)"
      ],
      "metadata": {
        "colab": {
          "base_uri": "https://localhost:8080/",
          "height": 302
        },
        "id": "Rarx42WDSZP3",
        "outputId": "cfee8a98-7b8e-4e2d-c841-53b070a704a5"
      },
      "execution_count": 37,
      "outputs": [
        {
          "output_type": "execute_result",
          "data": {
            "text/plain": [
              "<matplotlib.axes._subplots.AxesSubplot at 0x7fccac6a6b90>"
            ]
          },
          "metadata": {},
          "execution_count": 37
        },
        {
          "output_type": "display_data",
          "data": {
            "image/png": "[encoded data removed]",
            "text/plain": [
              "<Figure size 432x288 with 1 Axes>"
            ]
          },
          "metadata": {
            "needs_background": "light"
          }
        }
      ]
    },
    {
      "cell_type": "code",
      "source": [
        "sns.boxplot(x = 'param_max_depth', y = 'mean_test_score', data = rf_cv_results)"
      ],
      "metadata": {
        "colab": {
          "base_uri": "https://localhost:8080/",
          "height": 302
        },
        "id": "8iQ8dpvPSyRL",
        "outputId": "c6687df5-5ba7-4618-ce2a-b777896cc736"
      },
      "execution_count": 38,
      "outputs": [
        {
          "output_type": "execute_result",
          "data": {
            "text/plain": [
              "<matplotlib.axes._subplots.AxesSubplot at 0x7fccac9f3b10>"
            ]
          },
          "metadata": {},
          "execution_count": 38
        },
        {
          "output_type": "display_data",
          "data": {
            "image/png": "[encoded data removed]",
            "text/plain": [
              "<Figure size 432x288 with 1 Axes>"
            ]
          },
          "metadata": {
            "needs_background": "light"
          }
        }
      ]
    },
    {
      "cell_type": "code",
      "source": [
        "sns.boxplot(x = 'param_n_estimators', y = 'mean_test_score', data = rf_cv_results) # the outliers are the ones with max_depth 2"
      ],
      "metadata": {
        "colab": {
          "base_uri": "https://localhost:8080/",
          "height": 302
        },
        "id": "yRO0JBdwQuKB",
        "outputId": "ecd3a089-fd24-40fc-b09c-87ef1f244a06"
      },
      "execution_count": 39,
      "outputs": [
        {
          "output_type": "execute_result",
          "data": {
            "text/plain": [
              "<matplotlib.axes._subplots.AxesSubplot at 0x7fccac599dd0>"
            ]
          },
          "metadata": {},
          "execution_count": 39
        },
        {
          "output_type": "display_data",
          "data": {
            "image/png": "[encoded data removed]",
            "text/plain": [
              "<Figure size 432x288 with 1 Axes>"
            ]
          },
          "metadata": {
            "needs_background": "light"
          }
        }
      ]
    },
    {
      "cell_type": "markdown",
      "metadata": {
        "id": "SvVnZRpAvLBa"
      },
      "source": [
        "### 2.4.2. Evaluation"
      ]
    },
    {
      "cell_type": "code",
      "metadata": {
        "id": "Gjo5zOBx-RzT"
      },
      "source": [
        "y_pred_rf2 = model_rf2.predict(X_test)\n",
        "y_pred_prob_rf2 = model_rf2.predict_proba(X_test)"
      ],
      "execution_count": 40,
      "outputs": []
    },
    {
      "cell_type": "code",
      "metadata": {
        "colab": {
          "base_uri": "https://localhost:8080/"
        },
        "outputId": "454d79ee-91f9-4177-aa90-4f6aecae131c",
        "id": "oBXe2-pkQRaQ"
      },
      "source": [
        "# to calculate accuracy:\n",
        "accuracy_score(y_test, y_pred_rf2)"
      ],
      "execution_count": 41,
      "outputs": [
        {
          "output_type": "execute_result",
          "data": {
            "text/plain": [
              "0.9033570701932858"
            ]
          },
          "metadata": {},
          "execution_count": 41
        }
      ]
    },
    {
      "cell_type": "code",
      "source": [
        "# to calculate F1 score:\n",
        "f1_score(y_test, y_pred_rf2)"
      ],
      "metadata": {
        "colab": {
          "base_uri": "https://localhost:8080/"
        },
        "outputId": "c7c6a79c-67e5-4f07-c33f-7eaa5ee94e61",
        "id": "QQD7gzExQRaQ"
      },
      "execution_count": 42,
      "outputs": [
        {
          "output_type": "execute_result",
          "data": {
            "text/plain": [
              "0.5957446808510638"
            ]
          },
          "metadata": {},
          "execution_count": 42
        }
      ]
    },
    {
      "cell_type": "code",
      "metadata": {
        "colab": {
          "base_uri": "https://localhost:8080/"
        },
        "outputId": "17a81cb4-5f8f-4a9e-c1cd-a6b93a49ebad",
        "id": "mRL2DXjPQRaQ"
      },
      "source": [
        "# to display multiple classification-related metrics:\n",
        "print(classification_report(y_test, y_pred_rf2, digits = 3))"
      ],
      "execution_count": 43,
      "outputs": [
        {
          "output_type": "stream",
          "name": "stdout",
          "text": [
            "              precision    recall  f1-score   support\n",
            "\n",
            "           0      0.967     0.924     0.945     10625\n",
            "           1      0.509     0.717     0.596      1171\n",
            "\n",
            "    accuracy                          0.903     11796\n",
            "   macro avg      0.738     0.821     0.770     11796\n",
            "weighted avg      0.922     0.903     0.910     11796\n",
            "\n"
          ]
        }
      ]
    },
    {
      "cell_type": "code",
      "metadata": {
        "colab": {
          "base_uri": "https://localhost:8080/",
          "height": 285
        },
        "outputId": "d31affad-d0bb-412a-8d5c-ac424efb3524",
        "id": "jTlK3wsGQRaR"
      },
      "source": [
        "# recall-related metrics (% of row)\n",
        "ConfusionMatrixDisplay.from_estimator(model_rf2, X_test, y_test, normalize = 'true') \n",
        "plt.grid(False)"
      ],
      "execution_count": 44,
      "outputs": [
        {
          "output_type": "display_data",
          "data": {
            "image/png": "[encoded data removed]",
            "text/plain": [
              "<Figure size 432x288 with 2 Axes>"
            ]
          },
          "metadata": {
            "needs_background": "light"
          }
        }
      ]
    },
    {
      "cell_type": "code",
      "metadata": {
        "colab": {
          "base_uri": "https://localhost:8080/",
          "height": 285
        },
        "outputId": "9e413443-cf51-4f87-e688-da864da4f318",
        "id": "mZf3WnDmQRaR"
      },
      "source": [
        "# precision-related metrics (% of column)\n",
        "ConfusionMatrixDisplay.from_estimator(model_rf2, X_test, y_test, normalize = 'pred')\n",
        "plt.grid(False)"
      ],
      "execution_count": 45,
      "outputs": [
        {
          "output_type": "display_data",
          "data": {
            "image/png": "[encoded data removed]",
            "text/plain": [
              "<Figure size 432x288 with 2 Axes>"
            ]
          },
          "metadata": {
            "needs_background": "light"
          }
        }
      ]
    },
    {
      "cell_type": "code",
      "metadata": {
        "colab": {
          "base_uri": "https://localhost:8080/",
          "height": 411
        },
        "outputId": "f68cb313-d538-4128-abbc-d061c77cc37f",
        "id": "tpiNrpCaQRaR"
      },
      "source": [
        "# to plot an ROC:\n",
        "fig, ax = plt.subplots(figsize=(6, 6)) # modify figure size\n",
        "RocCurveDisplay.from_estimator(model_rf2, X_test, y_test, ax = ax)"
      ],
      "execution_count": 46,
      "outputs": [
        {
          "output_type": "execute_result",
          "data": {
            "text/plain": [
              "<sklearn.metrics._plot.roc_curve.RocCurveDisplay at 0x7fccac3aa910>"
            ]
          },
          "metadata": {},
          "execution_count": 46
        },
        {
          "output_type": "display_data",
          "data": {
            "image/png": "[encoded data removed]",
            "text/plain": [
              "<Figure size 432x432 with 1 Axes>"
            ]
          },
          "metadata": {
            "needs_background": "light"
          }
        }
      ]
    },
    {
      "cell_type": "code",
      "source": [
        "# to calculate Area under ROC:\n",
        "roc_auc_score(y_test, y_pred_prob_rf2[:,1])"
      ],
      "metadata": {
        "colab": {
          "base_uri": "https://localhost:8080/"
        },
        "outputId": "9ecf8c72-16ef-443e-9713-079ce1ec210e",
        "id": "3ZDdPQUqQRaR"
      },
      "execution_count": 47,
      "outputs": [
        {
          "output_type": "execute_result",
          "data": {
            "text/plain": [
              "0.9202944090018585"
            ]
          },
          "metadata": {},
          "execution_count": 47
        }
      ]
    },
    {
      "cell_type": "markdown",
      "metadata": {
        "id": "9t197Ojpytec"
      },
      "source": [
        "**Some Observations**\n",
        "\n",
        "* The AUC, accuracy and F1-scores of the untuned and tuned model are comparable. \n",
        "* However, the overall recall of the tuned model is remarkably higher (71.7% vs 44.9%). That is because of changing the `class_weight` hyperparameter. "
      ]
    },
    {
      "cell_type": "markdown",
      "metadata": {
        "id": "sgSQuIWj2JVA"
      },
      "source": [
        "---\n",
        "\n",
        "## 2.5. Understanding a Random Forest Model\n",
        "\n",
        "One major strength of tree-based machine learning models is its inherent ability to easily report **feature importance**. This could be useful to finding insights in the model."
      ]
    },
    {
      "cell_type": "code",
      "metadata": {
        "colab": {
          "base_uri": "https://localhost:8080/"
        },
        "id": "ZQryJO6r3Hm5",
        "outputId": "7bbd860f-0ba2-4646-82cd-22406979b417"
      },
      "source": [
        "model_rf2_importance = pd.Series(model_rf2.feature_importances_, index = features_list)\n",
        "model_rf2_importance"
      ],
      "execution_count": 48,
      "outputs": [
        {
          "output_type": "execute_result",
          "data": {
            "text/plain": [
              "GENDER_F                            0.001669\n",
              "AGE                                 0.061888\n",
              "LOS                                 0.063390\n",
              "LOS_ICU                             0.047363\n",
              "CALLOUT_COUNT_DAY                   0.072474\n",
              "PRES_COUNT_DAY                      0.051626\n",
              "PROC_COUNT_DAY                      0.031751\n",
              "CPT_COUNT_DAY                       0.091681\n",
              "LAB_COUNT_DAY                       0.201426\n",
              "INPUTS_CV_COUNT_DAY                 0.071637\n",
              "INPUTS_MV_COUNT_DAY                 0.028054\n",
              "OUTPUT_COUNT_DAY                    0.041742\n",
              "TRANSFER_COUNT_DAY                  0.029640\n",
              "MICRO_COUNT_DAY                     0.106056\n",
              "ADMISSION_TYPE_ELECTIVE             0.010868\n",
              "ADMISSION_TYPE_EMERGENCY            0.033706\n",
              "ADMISSION_TYPE_NEWBORN              0.010128\n",
              "ADMISSION_TYPE_URGENT               0.001587\n",
              "RELIGION_CATHOLIC                   0.001478\n",
              "RELIGION_NOT SPECIFIED              0.001292\n",
              "RELIGION_UNOBTAINABLE               0.001953\n",
              "RELIGION_OTHERS                     0.001545\n",
              "INSURANCE_Medicare                  0.012644\n",
              "INSURANCE_Private                   0.005139\n",
              "INSURANCE_Medicaid                  0.001536\n",
              "INSURANCE_OTHERS                    0.000698\n",
              "MARITAL_STATUS_MARRIED              0.001581\n",
              "MARITAL_STATUS_SINGLE               0.003379\n",
              "MARITAL_STATUS_UNKNOWN (DEFAULT)    0.002433\n",
              "MARITAL_STATUS_OTHERS               0.001396\n",
              "LANGUAGE_ENGL                       0.000793\n",
              "LANGUAGE_SPAN                       0.000448\n",
              "LANGUAGE_RUSS                       0.000461\n",
              "LANGUAGE_OTHERS                     0.000918\n",
              "ETHNICITY_WHITE                     0.001474\n",
              "ETHNICITY_BLACK/AFRICAN AMERICAN    0.001299\n",
              "ETHNICITY_UNKNOWN/NOT SPECIFIED     0.001818\n",
              "ETHNICITY_OTHERS                    0.001031\n",
              "dtype: float64"
            ]
          },
          "metadata": {},
          "execution_count": 48
        }
      ]
    },
    {
      "cell_type": "code",
      "metadata": {
        "colab": {
          "base_uri": "https://localhost:8080/",
          "height": 611
        },
        "id": "HxSsX1dc3e3r",
        "outputId": "09e0c238-ad01-498a-92a6-53c871f0e10d"
      },
      "source": [
        "plt.figure(figsize = (10, 10))\n",
        "sns.barplot(x = model_rf2.feature_importances_, y = features_list)"
      ],
      "execution_count": 49,
      "outputs": [
        {
          "output_type": "execute_result",
          "data": {
            "text/plain": [
              "<matplotlib.axes._subplots.AxesSubplot at 0x7fccac2b2c10>"
            ]
          },
          "metadata": {},
          "execution_count": 49
        },
        {
          "output_type": "display_data",
          "data": {
            "image/png": "[encoded data removed]",
            "text/plain": [
              "<Figure size 720x720 with 1 Axes>"
            ]
          },
          "metadata": {
            "needs_background": "light"
          }
        }
      ]
    },
    {
      "cell_type": "markdown",
      "metadata": {
        "id": "N-5l_n25hGIw"
      },
      "source": [
        "## 2.6. Saving and Loading your trained model\n",
        "\n",
        "After training a model you might want to save your model to your Google Drive so that you do not need to re-train it next time. (As a side note, due to the random nature of most machine learning algorithms, if you did not set a `random_state` while training, you would end up with a model with different trained parameters when you re-train a model)"
      ]
    },
    {
      "cell_type": "code",
      "metadata": {
        "id": "sT3b-nFyhFeJ"
      },
      "source": [
        "import joblib"
      ],
      "execution_count": 50,
      "outputs": []
    },
    {
      "cell_type": "markdown",
      "metadata": {
        "id": "hCQcVCAfizIk"
      },
      "source": [
        "To save:"
      ]
    },
    {
      "cell_type": "code",
      "metadata": {
        "colab": {
          "base_uri": "https://localhost:8080/"
        },
        "id": "Hn79ixExiQoJ",
        "outputId": "f7a85cf0-b02f-47f7-e7de-7fc492eac8d9"
      },
      "source": [
        "joblib.dump(model_rf2, gdrive_rootpath + 'mimic_in_hosp_mortality_model_rf2.joblib') # specify your filename here"
      ],
      "execution_count": 51,
      "outputs": [
        {
          "output_type": "execute_result",
          "data": {
            "text/plain": [
              "['/content/gdrive/MyDrive/mimic_in_hosp_mortality_model_rf2.joblib']"
            ]
          },
          "metadata": {},
          "execution_count": 51
        }
      ]
    },
    {
      "cell_type": "markdown",
      "metadata": {
        "id": "Mglo1oGMi2X7"
      },
      "source": [
        "To load:"
      ]
    },
    {
      "cell_type": "code",
      "metadata": {
        "id": "6aKNGrqaidOb"
      },
      "source": [
        "model_rf2_loaded = joblib.load(gdrive_rootpath + 'mimic_in_hosp_mortality_model_rf2.joblib') # specify your filename here"
      ],
      "execution_count": 52,
      "outputs": []
    },
    {
      "cell_type": "code",
      "metadata": {
        "colab": {
          "base_uri": "https://localhost:8080/"
        },
        "id": "PHez_PgUir71",
        "outputId": "d5a76601-5a09-40c1-8c49-5e46650f665f"
      },
      "source": [
        "model_rf2_loaded"
      ],
      "execution_count": 53,
      "outputs": [
        {
          "output_type": "execute_result",
          "data": {
            "text/plain": [
              "RandomForestClassifier(class_weight='balanced', max_depth=10, n_estimators=300,\n",
              "                       n_jobs=-1, random_state=1)"
            ]
          },
          "metadata": {},
          "execution_count": 53
        }
      ]
    },
    {
      "cell_type": "markdown",
      "metadata": {
        "id": "6PIaRwWU58lW"
      },
      "source": [
        "## 2.7. Discussion\n",
        "\n",
        "How well will the models above translate into a decision support system in practice? Here are some issues you may think about (which is beyond the scope of training machine learning models itself):\n",
        "\n",
        "* What are the purposes or goals of the model? Do they align with the interests and focuses of clinicians, patients or other stakeholders? \n",
        "* Suppose we trained a reasonably reliable model. What could be the associated interventions based on the model predictions?\n",
        "* What are the limitations of the model from an operational perspective? \n",
        "  * e.g. consider the time of which the variables becomes available. Could the model deliver the predictions in a timely manner? Can this be improved? "
      ]
    },
    {
      "cell_type": "markdown",
      "metadata": {
        "id": "4ABKsxHLhb_i"
      },
      "source": [
        "# References\n",
        "\n",
        "* [Which machine learning algorithm should I use?](https://blogs.sas.com/content/subconsciousmusings/2020/12/09/machine-learning-algorithm-use/)\n",
        "![](https://blogs.sas.com/content/subconsciousmusings/files/2017/04/machine-learning-cheet-sheet-2.png)\n",
        "* [Decision Tree vs. Random Forest – Which Algorithm Should you Use?](https://www.analyticsvidhya.com/blog/2020/05/decision-tree-vs-random-forest-algorithm/)\n",
        "* [Train/Test Split and Cross Validation in Python](https://towardsdatascience.com/train-test-split-and-cross-validation-in-python-80b61beca4b6)\n"
      ]
    }
  ]
}