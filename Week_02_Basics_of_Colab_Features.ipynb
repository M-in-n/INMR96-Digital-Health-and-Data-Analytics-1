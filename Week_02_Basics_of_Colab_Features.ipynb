{
  "nbformat": 4,
  "nbformat_minor": 0,
  "metadata": {
    "colab": {
      "name": "Week 02 Basics of Colab Features",
      "provenance": [],
      "collapsed_sections": [],
      "toc_visible": true,
      "include_colab_link": true
    },
    "kernelspec": {
      "display_name": "Python 3",
      "name": "python3"
    }
  },
  "cells": [
    {
      "cell_type": "markdown",
      "metadata": {
        "id": "view-in-github",
        "colab_type": "text"
      },
      "source": [
        "<a href=\"https://colab.research.google.com/github/nbchan/INMR96-Digital-Health-and-Data-Analytics/blob/main/Week_02_Basics_of_Colab_Features.ipynb\" target=\"_parent\"><img src=\"https://colab.research.google.com/assets/colab-badge.svg\" alt=\"Open In Colab\"/></a>"
      ]
    },
    {
      "cell_type": "markdown",
      "metadata": {
        "id": "JyG45Qk3qQLS"
      },
      "source": [
        "# 1. Cells\n",
        "A notebook is a list of cells. Cells contain either explanatory text or executable code and its output. Click a cell to select it."
      ]
    },
    {
      "cell_type": "markdown",
      "metadata": {
        "id": "KR921S_OQSHG"
      },
      "source": [
        "## Code cells\n",
        "Below is a **code cell**. Note the grey background. Click in the cell to select it and execute the contents in the following ways:\n",
        "\n",
        "* Click the **Play icon** in the left gutter of the cell;\n",
        "* Type **Cmd/Ctrl+Enter** to run the cell in place;\n",
        "* Type **Shift+Enter** to run the cell and move focus to the next cell (adding one if none exists).\n"
      ]
    },
    {
      "cell_type": "code",
      "metadata": {
        "cellView": "both",
        "colab": {
          "base_uri": "https://localhost:8080/"
        },
        "id": "WUtu4316QSHL",
        "outputId": "29ee383b-5f20-4930-9e73-9cd262e6897e"
      },
      "source": [
        "a = 12\n",
        "a"
      ],
      "execution_count": null,
      "outputs": [
        {
          "output_type": "execute_result",
          "data": {
            "text/plain": [
              "12"
            ]
          },
          "metadata": {},
          "execution_count": 1
        }
      ]
    },
    {
      "cell_type": "markdown",
      "metadata": {
        "id": "Id6tDF1HQSHD"
      },
      "source": [
        "## Text cells\n",
        "This is a **text cell**. You can **double-click** to **edit** these cells. \n",
        "\n",
        "Text cells use the *markdown* syntax. You can also write text cells in plain text, then format them by using the buttons above the cell editor. \n",
        "\n",
        "\n",
        "\n"
      ]
    },
    {
      "cell_type": "markdown",
      "metadata": {
        "id": "efuTpWALFx69"
      },
      "source": [
        "To learn more, see [markdown\n",
        "guide](/notebooks/markdown_guide.ipynb)."
      ]
    },
    {
      "cell_type": "markdown",
      "metadata": {
        "id": "5roZzLBcE9Uo"
      },
      "source": [
        "### Organising your notebook\n",
        "\n",
        "If your notebook is long, it is often useful to include headings in text cells so that you can navigate quicking through the Table of Contents. \n",
        "\n",
        "In text cells, use `#`, `##` and `###` to indicate headings and subheadings respectively. For example, \n",
        "\n",
        "```\n",
        "# 1 Heading\n",
        "\n",
        "## 1.1 Subheading\n",
        "\n",
        "### Section Header\n",
        "Code cells\n",
        "\n",
        "### Section Header\n",
        "Code cells\n",
        "\n",
        "## 1.2 Subheading\n",
        "\n",
        "### Section Header\n",
        "Code cells\n",
        "\n",
        "### Section Header\n",
        "Code cells\n",
        "```"
      ]
    },
    {
      "cell_type": "markdown",
      "metadata": {
        "id": "7bqjkGKwQSHW"
      },
      "source": [
        "## Adding and moving cells\n",
        "\n",
        "* Add new cells by using the **+ CODE** and **+ TEXT** buttons that show when you hover between cells. These buttons are also in the toolbar above the notebook where they can be used to add a cell below the currently selected cell.\n",
        "\n",
        "* Move a cell by selecting it and clicking **Cell Up** or **Cell Down** in the top toolbar. You can also cut and paste cells in the toolbar. \n",
        "\n",
        "* Non-adjacent cells can be selected concurrently by clicking one and then holding down Ctrl while clicking another.  Similarly, using Shift instead of Ctrl will select all intermediate cells."
      ]
    },
    {
      "cell_type": "markdown",
      "metadata": {
        "id": "GOwlZRXEQSHZ"
      },
      "source": [
        "---\n",
        "\n",
        "# 2. Working with Python\n",
        "Colab is built on top of [Jupyter Notebook](https://jupyter.org/). Below are some examples of convenience functions provided."
      ]
    },
    {
      "cell_type": "markdown",
      "metadata": {
        "id": "d4L9TOP9QSHn"
      },
      "source": [
        "## Automatic completions and exploring code\n",
        "\n",
        "Colab provides automatic completions to explore attributes of Python objects, as well as to quickly view documentation strings. As an example, first run the following cell to import the  [`pandas`](https://pandas.pydata.org/) module."
      ]
    },
    {
      "cell_type": "code",
      "metadata": {
        "cellView": "both",
        "id": "Q0JKWcmtQSHp"
      },
      "source": [
        "import pandas as pd"
      ],
      "execution_count": null,
      "outputs": []
    },
    {
      "cell_type": "markdown",
      "metadata": {
        "id": "1M890-bXeyYp"
      },
      "source": [
        "If you now insert your cursor after `pd` and press **Period**(`.`), you will see the list of available completions within the `pd` library. "
      ]
    },
    {
      "cell_type": "code",
      "metadata": {
        "cellView": "both",
        "id": "j6QRIfUHQSHq",
        "colab": {
          "base_uri": "https://localhost:8080/"
        },
        "outputId": "4c2fea1c-04f9-4211-902d-86da34bf0d36"
      },
      "source": [
        "pd"
      ],
      "execution_count": null,
      "outputs": [
        {
          "output_type": "execute_result",
          "data": {
            "text/plain": [
              "<module 'pandas' from '/usr/local/lib/python3.7/dist-packages/pandas/__init__.py'>"
            ]
          },
          "metadata": {},
          "execution_count": 3
        }
      ]
    },
    {
      "cell_type": "markdown",
      "metadata": {
        "id": "g6MfomFhQSHs"
      },
      "source": [
        "If you type an open parenthesis after any function or class in the library, you will see a pop-up of its documentation string on how to use it:"
      ]
    },
    {
      "cell_type": "code",
      "metadata": {
        "cellView": "both",
        "id": "SD0XnrVhQSHt",
        "colab": {
          "base_uri": "https://localhost:8080/"
        },
        "outputId": "13d3fc7e-f158-429d-da8e-b5ca917f8029"
      },
      "source": [
        "pd.DataFrame"
      ],
      "execution_count": null,
      "outputs": [
        {
          "output_type": "execute_result",
          "data": {
            "text/plain": [
              "pandas.core.frame.DataFrame"
            ]
          },
          "metadata": {},
          "execution_count": 4
        }
      ]
    },
    {
      "cell_type": "markdown",
      "metadata": {
        "id": "mn4nEGxbIQ2z"
      },
      "source": [
        "## Interrupting code execution"
      ]
    },
    {
      "cell_type": "markdown",
      "metadata": {
        "id": "RVuqWUXPQSHa"
      },
      "source": [
        "When needed, long running python processes can be interrupted. Run the following cell and click the **Stop icon** in the left gutter of the cell;. You can also select **Runtime -> Interrupt execution** to stop execution.\n",
        "\n",
        "If you don't interrupt the execution within 15 seconds, two messages will show up:\n",
        "```\n",
        "Sleeping\n",
        "Done Sleeping\n",
        "```\n",
        "\n",
        "Otherwise, you will see the `Sleeping` message as well as a `KeyboardInterrupt` message."
      ]
    },
    {
      "cell_type": "code",
      "metadata": {
        "cellView": "both",
        "colab": {
          "base_uri": "https://localhost:8080/"
        },
        "id": "d-S-3nYLQSHb",
        "outputId": "e5f58ded-4736-41d3-951f-2b5e4e3fbeaa"
      },
      "source": [
        "import time\n",
        "print(\"Sleeping\")\n",
        "time.sleep(15) # this line causes the system to pause execution for 15 seconds; interrupt me!\n",
        "print(\"Done Sleeping\")"
      ],
      "execution_count": null,
      "outputs": [
        {
          "output_type": "stream",
          "name": "stdout",
          "text": [
            "Sleeping\n",
            "Done Sleeping\n"
          ]
        }
      ]
    },
    {
      "cell_type": "markdown",
      "metadata": {
        "id": "7cRnhv_7N4Pa"
      },
      "source": [
        "## Chart outputs\n",
        "\n",
        "Apart from text, the output of code cells can also be charts. "
      ]
    },
    {
      "cell_type": "code",
      "metadata": {
        "colab": {
          "base_uri": "https://localhost:8080/",
          "height": 301
        },
        "id": "JVXnTqyE9RET",
        "outputId": "1ea66f9c-bba0-4997-9cc1-37668312a683"
      },
      "source": [
        "import numpy as np\n",
        "import matplotlib.pyplot as plt\n",
        "import seaborn as sns\n",
        "\n",
        "ys = 36.5 + 0.5 * np.random.randn(30)\n",
        "x = list(range(len(ys)))\n",
        "\n",
        "sns.set()\n",
        "sns.lineplot(x = x, y = ys)\n",
        "\n",
        "plt.title(\"A Sample Plot\")\n",
        "plt.ylabel(\"Body Temperature\")\n",
        "plt.xlabel(\"Day\")\n",
        "plt.show()"
      ],
      "execution_count": null,
      "outputs": [
        {
          "output_type": "display_data",
          "data": {
            "image/png": "[encoded data removed]",
            "text/plain": [
              "<Figure size 432x288 with 1 Axes>"
            ]
          },
          "metadata": {}
        }
      ]
    },
    {
      "cell_type": "markdown",
      "metadata": {
        "id": "aro-UJgUQSH1"
      },
      "source": [
        "---\n",
        "\n",
        "# 3. Integration with Drive\n",
        "\n",
        "Colaboratory is integrated with Google Drive. It allows you to share, comment, and collaborate on the same document with multiple people:\n",
        "\n",
        "* The **Share** button (top-right of the toolbar) allows you to share the notebook and control permissions set on it.\n",
        "\n",
        "* **File->Make a Copy** creates a copy of the notebook in Drive.\n",
        "\n",
        "* **File->Save** saves the File to Drive. Note that all changes to the notebook are automatically saved for you once in a while.\n",
        "\n",
        "*  **File->Save and checkpoint** pins the version so you can recover the file to this version afterwards. **File->Revision history** shows the notebook's revision history. "
      ]
    },
    {
      "cell_type": "markdown",
      "metadata": {
        "id": "Z-N9XnNLNYpX"
      },
      "source": [
        "---\n",
        "\n",
        "# 4. Notebook and Sessions"
      ]
    },
    {
      "cell_type": "markdown",
      "metadata": {
        "id": "oq8saJvjNcHu"
      },
      "source": [
        "## Renaming your notebooks\n",
        "\n",
        "The name of the current notebook is shown on the top-left of the page. You can rename it by clicking it and editing it."
      ]
    },
    {
      "cell_type": "markdown",
      "source": [
        "## Sessions\n",
        "\n",
        "* Although the notebooks are automatically saved for you, all Python variables you have created within a session are **not saved** after you **close the webpage**. \n",
        "\n",
        "* In other words, if you have assigned a Python variable called `my_data` when you worked on the notebook previously, you would not be able to retrieve `my_data` when you re-open the notebook. Instead, you would have to **re-run** all your previously written code cells to obtain `my_data` again. If you want to reuse an object (a cleaned dataset) without re-running all the cells, consider saving it to Google Drive and importing it next time."
      ],
      "metadata": {
        "id": "db3ygYVX-5AJ"
      }
    },
    {
      "cell_type": "markdown",
      "metadata": {
        "id": "6SXVNrJaRGkG"
      },
      "source": [
        "---\n",
        "\n",
        "# 5. References\n",
        "\n",
        "* [Google Colab FAQ](https://research.google.com/colaboratory/faq.html)\n",
        "* [Overview of Colaboratory Features](https://colab.research.google.com/notebooks/basic_features_overview.ipynb)\n",
        "* [Google Colab Tutorial for beginners](https://www.tutorialspoint.com/google_colab/)"
      ]
    }
  ]
}