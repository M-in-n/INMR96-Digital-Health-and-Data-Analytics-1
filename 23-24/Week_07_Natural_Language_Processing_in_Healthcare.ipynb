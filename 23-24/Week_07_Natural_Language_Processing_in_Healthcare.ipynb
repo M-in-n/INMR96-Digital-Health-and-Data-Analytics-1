{
  "cells": [
    {
      "cell_type": "markdown",
      "metadata": {
        "id": "view-in-github",
        "colab_type": "text"
      },
      "source": [
        "<a href=\"https://colab.research.google.com/github/nbchan/INMR96-Digital-Health-and-Data-Analytics/blob/main/Week_07_Natural_Language_Processing_in_Healthcare.ipynb\" target=\"_parent\"><img src=\"https://colab.research.google.com/assets/colab-badge.svg\" alt=\"Open In Colab\"/></a>"
      ]
    },
    {
      "cell_type": "markdown",
      "metadata": {
        "id": "J-nt_S-8ovvQ"
      },
      "source": [
        "# Natural Language Processing (NLP) in Healthcare\n",
        "\n",
        "NLP is a branch of data analytics that focuses on understanding and interpreting **human language** using computational techniques. It involves algorithms and models designed to process, analyze, and derive meaning from **text and speech data**, as opposed to typical structured tabular data. Clinical notes are the most common form of such kind of data in the context of healthcare.\n",
        "\n",
        "Clinical notes are available in MIMIC-III. You can assess the clinical notes included in MIMIC-III by either (i) navigating to the database called `physionet-data.mimiciii_notes` (instead of the usual `physionet-data.mimiciii_clinical`)  on [Google BigQuery](https://console.cloud.google.com/bigquery) and look of the table called `noteevents`; or (ii) directly downloading the file named `NOTEEVENTS.csv.gz` on the [MIMIC-III project page](https://physionet.org/content/mimiciii/1.4/). However, we will be using another simpler dataset for this demo."
      ]
    },
    {
      "cell_type": "markdown",
      "metadata": {
        "id": "xcLpjj6PTQQT"
      },
      "source": [
        "---\n",
        "\n",
        "# 1. Background and Objectives\n",
        "\n",
        "**Dataset Description**\n",
        "\n",
        "We will be using the [Drug Review Dataset](https://archive.ics.uci.edu/ml/datasets/Drug+Review+Dataset+%28Drugs.com%29) for this code demonstration, which is inspired by a paper that used the same dataset (see citation below). The dataset provides patient reviews on specific drugs along with their related conditions and a 10-star patient rating reflecting their overall patient satisfaction. The data was obtained by crawling online pharmaceutical review sites.\n",
        "\n",
        "The objective of this notebook is to build a model that predicts whether a drug review is positive or not by utilising NLP.\n",
        "\n",
        "**Dataset Split**\n",
        "\n",
        "The data is split into a train (75%) and a test (25%) partition (see publication) and stored in two .tsv (tab-separated-values) files, respectively.\n",
        "\n",
        "**Dataset Description**\n",
        "\n",
        "|  | Column Name | Data Type | Description |\n",
        "|---|---|---|---|\n",
        "| 1 | drugName | categorical | name of drug |\n",
        "| 2 | condition | categorical | name of condition |\n",
        "| 3 | review | **_text_** | patient review |\n",
        "| 4 | rating | numeric | patient rating ranging from 1 to 10 |\n",
        "| 5 | date | date | date of review entry |\n",
        "| 6 | usefulCount | numeric | number of users who found the review useful |\n",
        "\n",
        "**Citation**\n",
        "\n",
        "Felix Gräßer, Surya Kallumadi, Hagen Malberg, and Sebastian Zaunseder. 2018. Aspect-Based Sentiment Analysis of Drug Reviews Applying Cross-Domain and Cross-Data Learning. In Proceedings of the 2018 International Conference on Digital Health (DH '18). ACM, New York, NY, USA, 121-125."
      ]
    },
    {
      "cell_type": "markdown",
      "metadata": {
        "id": "wCHETLMTpUfA"
      },
      "source": [
        "---\n",
        "\n",
        "# 2. Setting up"
      ]
    },
    {
      "cell_type": "markdown",
      "metadata": {
        "id": "WWYk5Agn84Dx"
      },
      "source": [
        "**Data Imoprt**"
      ]
    },
    {
      "cell_type": "code",
      "execution_count": null,
      "metadata": {
        "colab": {
          "base_uri": "https://localhost:8080/"
        },
        "id": "kLQ2TrngtCgZ",
        "outputId": "bc7e2359-7c2a-4956-f5c0-fe524c0cf984"
      },
      "outputs": [
        {
          "name": "stdout",
          "output_type": "stream",
          "text": [
            "/content\n"
          ]
        }
      ],
      "source": [
        "# Set up our base working folder to data import.\n",
        "work_path = \"/content\"\n",
        "print(work_path)"
      ]
    },
    {
      "cell_type": "code",
      "execution_count": null,
      "metadata": {
        "colab": {
          "base_uri": "https://localhost:8080/"
        },
        "id": "Aj16bL9nnYPY",
        "outputId": "3868aa02-8c03-4c41-ea5e-4e2a98063e2a"
      },
      "outputs": [
        {
          "name": "stdout",
          "output_type": "stream",
          "text": [
            "--2024-02-26 15:20:38--  https://archive.ics.uci.edu/ml/machine-learning-databases/00462/drugsCom_raw.zip\n",
            "Resolving archive.ics.uci.edu (archive.ics.uci.edu)... 128.195.10.252\n",
            "Connecting to archive.ics.uci.edu (archive.ics.uci.edu)|128.195.10.252|:443... connected.\n",
            "HTTP request sent, awaiting response... 200 OK\n",
            "Length: unspecified\n",
            "Saving to: ‘/content/drugsCom_raw.zip’\n",
            "\n",
            "drugsCom_raw.zip        [       <=>          ]  41.00M  29.1MB/s    in 1.4s    \n",
            "\n",
            "2024-02-26 15:20:40 (29.1 MB/s) - ‘/content/drugsCom_raw.zip’ saved [42989872]\n",
            "\n"
          ]
        }
      ],
      "source": [
        "# Download the compressed dataset to our Colab runtime.\n",
        "# If you wish to download it to your Google Drive instead, you would have to\n",
        "# grant Colab access to your Google Drive like what we have done in previous\n",
        "# sessions.\n",
        "!wget -P $work_path https://archive.ics.uci.edu/ml/machine-learning-databases/00462/drugsCom_raw.zip"
      ]
    },
    {
      "cell_type": "code",
      "execution_count": null,
      "metadata": {
        "id": "5CiTj51unYM7"
      },
      "outputs": [],
      "source": [
        "# Uncompress the raw data into the base folder by using the python\n",
        "# package zipfile. Doing so would create two files in the folder:\n",
        "# `drugsComTrain_raw.tsv` and `drugsComTest_raw.tsv`\n",
        "import os\n",
        "from zipfile import ZipFile\n",
        "\n",
        "# Load the drugom_raw.zip file and create a zip object, which will\n",
        "# be used to unzip the raw data.\n",
        "with ZipFile(os.path.join(work_path, \"drugsCom_raw.zip\"), 'r') as zo:\n",
        "  # Extract specific file in the zip into our base folder.\n",
        "  zo.extractall(path=work_path)\n",
        "\n",
        "  # It is always recommended to close the zip object after the unzip progress\n",
        "  # to free up memory.\n",
        "  zo.close()"
      ]
    },
    {
      "cell_type": "code",
      "execution_count": null,
      "metadata": {
        "colab": {
          "base_uri": "https://localhost:8080/"
        },
        "id": "Zq02YahvrzOg",
        "outputId": "59537c2e-824f-445d-99f2-3ddb765ad381"
      },
      "outputs": [
        {
          "name": "stdout",
          "output_type": "stream",
          "text": [
            "total 151732\n",
            "drwxr-xr-x 1 root root     4096 Feb 26 15:23 .\n",
            "drwxr-xr-x 1 root root     4096 Feb 26 15:19 ..\n",
            "drwxr-xr-x 4 root root     4096 Feb 22 14:24 .config\n",
            "-rw-r--r-- 1 root root 42989872 Feb 26 15:20 drugsCom_raw.zip\n",
            "-rw-r--r-- 1 root root 28071166 Feb 26 15:23 drugsComTest_raw.tsv\n",
            "-rw-r--r-- 1 root root 84289175 Feb 26 15:23 drugsComTrain_raw.tsv\n",
            "drwxr-xr-x 1 root root     4096 Feb 22 14:24 sample_data\n"
          ]
        }
      ],
      "source": [
        "# Have a look at what we have under this folder.\n",
        "# Note that `drugsComTrain_raw.tsv` and `drugsComTest_raw.tsv` are on the list,\n",
        "# meaning we have successfully extracted the compressed data.\n",
        "!ls -al $work_path"
      ]
    },
    {
      "cell_type": "code",
      "execution_count": null,
      "metadata": {
        "id": "D4na7UlRnYKQ"
      },
      "outputs": [],
      "source": [
        "import pandas as pd"
      ]
    },
    {
      "cell_type": "code",
      "execution_count": 50,
      "metadata": {
        "id": "ltyPH3zQnYIL"
      },
      "outputs": [],
      "source": [
        "# Read in the raw `drugsComTrain_raw.tsv` file into a pandas DataFrame.\n",
        "df_train = pd.read_csv(os.path.join(work_path, \"drugsComTrain_raw.tsv\"), sep=\"\\t\")"
      ]
    },
    {
      "cell_type": "code",
      "execution_count": 51,
      "metadata": {
        "colab": {
          "base_uri": "https://localhost:8080/",
          "height": 441
        },
        "id": "_eN3v4tWKpm1",
        "outputId": "e1504d52-9d7c-486f-c974-11a768e2285d"
      },
      "outputs": [
        {
          "output_type": "stream",
          "name": "stdout",
          "text": [
            "(161297, 7)\n"
          ]
        },
        {
          "output_type": "execute_result",
          "data": {
            "text/plain": [
              "        Unnamed: 0                  drugName                     condition  \\\n",
              "0           206461                 Valsartan  Left Ventricular Dysfunction   \n",
              "1            95260                Guanfacine                          ADHD   \n",
              "2            92703                    Lybrel                 Birth Control   \n",
              "3           138000                Ortho Evra                 Birth Control   \n",
              "4            35696  Buprenorphine / naloxone             Opiate Dependence   \n",
              "...            ...                       ...                           ...   \n",
              "161292      191035                   Campral            Alcohol Dependence   \n",
              "161293      127085            Metoclopramide               Nausea/Vomiting   \n",
              "161294      187382                   Orencia          Rheumatoid Arthritis   \n",
              "161295       47128        Thyroid desiccated           Underactive Thyroid   \n",
              "161296      215220              Lubiprostone         Constipation, Chronic   \n",
              "\n",
              "                                                   review  rating  \\\n",
              "0       \"It has no side effect, I take it in combinati...     9.0   \n",
              "1       \"My son is halfway through his fourth week of ...     8.0   \n",
              "2       \"I used to take another oral contraceptive, wh...     5.0   \n",
              "3       \"This is my first time using any form of birth...     8.0   \n",
              "4       \"Suboxone has completely turned my life around...     9.0   \n",
              "...                                                   ...     ...   \n",
              "161292  \"I wrote my first report in Mid-October of 201...    10.0   \n",
              "161293  \"I was given this in IV before surgey. I immed...     1.0   \n",
              "161294  \"Limited improvement after 4 months, developed...     2.0   \n",
              "161295  \"I&#039;ve been on thyroid medication 49 years...    10.0   \n",
              "161296  \"I&#039;ve had chronic constipation all my adu...     9.0   \n",
              "\n",
              "                      date  usefulCount  \n",
              "0             May 20, 2012           27  \n",
              "1           April 27, 2010          192  \n",
              "2        December 14, 2009           17  \n",
              "3         November 3, 2015           10  \n",
              "4        November 27, 2016           37  \n",
              "...                    ...          ...  \n",
              "161292        May 31, 2015          125  \n",
              "161293    November 1, 2011           34  \n",
              "161294      March 15, 2014           35  \n",
              "161295  September 19, 2015           79  \n",
              "161296   December 13, 2014          116  \n",
              "\n",
              "[161297 rows x 7 columns]"
            ],
            "text/html": [
              "\n",
              "  <div id=\"df-bbf3c5b4-c014-4a94-a1ba-e982fd97310f\" class=\"colab-df-container\">\n",
              "    <div>\n",
              "<style scoped>\n",
              "    .dataframe tbody tr th:only-of-type {\n",
              "        vertical-align: middle;\n",
              "    }\n",
              "\n",
              "    .dataframe tbody tr th {\n",
              "        vertical-align: top;\n",
              "    }\n",
              "\n",
              "    .dataframe thead th {\n",
              "        text-align: right;\n",
              "    }\n",
              "</style>\n",
              "<table border=\"1\" class=\"dataframe\">\n",
              "  <thead>\n",
              "    <tr style=\"text-align: right;\">\n",
              "      <th></th>\n",
              "      <th>Unnamed: 0</th>\n",
              "      <th>drugName</th>\n",
              "      <th>condition</th>\n",
              "      <th>review</th>\n",
              "      <th>rating</th>\n",
              "      <th>date</th>\n",
              "      <th>usefulCount</th>\n",
              "    </tr>\n",
              "  </thead>\n",
              "  <tbody>\n",
              "    <tr>\n",
              "      <th>0</th>\n",
              "      <td>206461</td>\n",
              "      <td>Valsartan</td>\n",
              "      <td>Left Ventricular Dysfunction</td>\n",
              "      <td>\"It has no side effect, I take it in combinati...</td>\n",
              "      <td>9.0</td>\n",
              "      <td>May 20, 2012</td>\n",
              "      <td>27</td>\n",
              "    </tr>\n",
              "    <tr>\n",
              "      <th>1</th>\n",
              "      <td>95260</td>\n",
              "      <td>Guanfacine</td>\n",
              "      <td>ADHD</td>\n",
              "      <td>\"My son is halfway through his fourth week of ...</td>\n",
              "      <td>8.0</td>\n",
              "      <td>April 27, 2010</td>\n",
              "      <td>192</td>\n",
              "    </tr>\n",
              "    <tr>\n",
              "      <th>2</th>\n",
              "      <td>92703</td>\n",
              "      <td>Lybrel</td>\n",
              "      <td>Birth Control</td>\n",
              "      <td>\"I used to take another oral contraceptive, wh...</td>\n",
              "      <td>5.0</td>\n",
              "      <td>December 14, 2009</td>\n",
              "      <td>17</td>\n",
              "    </tr>\n",
              "    <tr>\n",
              "      <th>3</th>\n",
              "      <td>138000</td>\n",
              "      <td>Ortho Evra</td>\n",
              "      <td>Birth Control</td>\n",
              "      <td>\"This is my first time using any form of birth...</td>\n",
              "      <td>8.0</td>\n",
              "      <td>November 3, 2015</td>\n",
              "      <td>10</td>\n",
              "    </tr>\n",
              "    <tr>\n",
              "      <th>4</th>\n",
              "      <td>35696</td>\n",
              "      <td>Buprenorphine / naloxone</td>\n",
              "      <td>Opiate Dependence</td>\n",
              "      <td>\"Suboxone has completely turned my life around...</td>\n",
              "      <td>9.0</td>\n",
              "      <td>November 27, 2016</td>\n",
              "      <td>37</td>\n",
              "    </tr>\n",
              "    <tr>\n",
              "      <th>...</th>\n",
              "      <td>...</td>\n",
              "      <td>...</td>\n",
              "      <td>...</td>\n",
              "      <td>...</td>\n",
              "      <td>...</td>\n",
              "      <td>...</td>\n",
              "      <td>...</td>\n",
              "    </tr>\n",
              "    <tr>\n",
              "      <th>161292</th>\n",
              "      <td>191035</td>\n",
              "      <td>Campral</td>\n",
              "      <td>Alcohol Dependence</td>\n",
              "      <td>\"I wrote my first report in Mid-October of 201...</td>\n",
              "      <td>10.0</td>\n",
              "      <td>May 31, 2015</td>\n",
              "      <td>125</td>\n",
              "    </tr>\n",
              "    <tr>\n",
              "      <th>161293</th>\n",
              "      <td>127085</td>\n",
              "      <td>Metoclopramide</td>\n",
              "      <td>Nausea/Vomiting</td>\n",
              "      <td>\"I was given this in IV before surgey. I immed...</td>\n",
              "      <td>1.0</td>\n",
              "      <td>November 1, 2011</td>\n",
              "      <td>34</td>\n",
              "    </tr>\n",
              "    <tr>\n",
              "      <th>161294</th>\n",
              "      <td>187382</td>\n",
              "      <td>Orencia</td>\n",
              "      <td>Rheumatoid Arthritis</td>\n",
              "      <td>\"Limited improvement after 4 months, developed...</td>\n",
              "      <td>2.0</td>\n",
              "      <td>March 15, 2014</td>\n",
              "      <td>35</td>\n",
              "    </tr>\n",
              "    <tr>\n",
              "      <th>161295</th>\n",
              "      <td>47128</td>\n",
              "      <td>Thyroid desiccated</td>\n",
              "      <td>Underactive Thyroid</td>\n",
              "      <td>\"I&amp;#039;ve been on thyroid medication 49 years...</td>\n",
              "      <td>10.0</td>\n",
              "      <td>September 19, 2015</td>\n",
              "      <td>79</td>\n",
              "    </tr>\n",
              "    <tr>\n",
              "      <th>161296</th>\n",
              "      <td>215220</td>\n",
              "      <td>Lubiprostone</td>\n",
              "      <td>Constipation, Chronic</td>\n",
              "      <td>\"I&amp;#039;ve had chronic constipation all my adu...</td>\n",
              "      <td>9.0</td>\n",
              "      <td>December 13, 2014</td>\n",
              "      <td>116</td>\n",
              "    </tr>\n",
              "  </tbody>\n",
              "</table>\n",
              "<p>161297 rows × 7 columns</p>\n",
              "</div>\n",
              "    <div class=\"colab-df-buttons\">\n",
              "\n",
              "  <div class=\"colab-df-container\">\n",
              "    <button class=\"colab-df-convert\" onclick=\"convertToInteractive('df-bbf3c5b4-c014-4a94-a1ba-e982fd97310f')\"\n",
              "            title=\"Convert this dataframe to an interactive table.\"\n",
              "            style=\"display:none;\">\n",
              "\n",
              "  <svg xmlns=\"http://www.w3.org/2000/svg\" height=\"24px\" viewBox=\"0 -960 960 960\">\n",
              "    <path d=\"M120-120v-720h720v720H120Zm60-500h600v-160H180v160Zm220 220h160v-160H400v160Zm0 220h160v-160H400v160ZM180-400h160v-160H180v160Zm440 0h160v-160H620v160ZM180-180h160v-160H180v160Zm440 0h160v-160H620v160Z\"/>\n",
              "  </svg>\n",
              "    </button>\n",
              "\n",
              "  <style>\n",
              "    .colab-df-container {\n",
              "      display:flex;\n",
              "      gap: 12px;\n",
              "    }\n",
              "\n",
              "    .colab-df-convert {\n",
              "      background-color: #E8F0FE;\n",
              "      border: none;\n",
              "      border-radius: 50%;\n",
              "      cursor: pointer;\n",
              "      display: none;\n",
              "      fill: #1967D2;\n",
              "      height: 32px;\n",
              "      padding: 0 0 0 0;\n",
              "      width: 32px;\n",
              "    }\n",
              "\n",
              "    .colab-df-convert:hover {\n",
              "      background-color: #E2EBFA;\n",
              "      box-shadow: 0px 1px 2px rgba(60, 64, 67, 0.3), 0px 1px 3px 1px rgba(60, 64, 67, 0.15);\n",
              "      fill: #174EA6;\n",
              "    }\n",
              "\n",
              "    .colab-df-buttons div {\n",
              "      margin-bottom: 4px;\n",
              "    }\n",
              "\n",
              "    [theme=dark] .colab-df-convert {\n",
              "      background-color: #3B4455;\n",
              "      fill: #D2E3FC;\n",
              "    }\n",
              "\n",
              "    [theme=dark] .colab-df-convert:hover {\n",
              "      background-color: #434B5C;\n",
              "      box-shadow: 0px 1px 3px 1px rgba(0, 0, 0, 0.15);\n",
              "      filter: drop-shadow(0px 1px 2px rgba(0, 0, 0, 0.3));\n",
              "      fill: #FFFFFF;\n",
              "    }\n",
              "  </style>\n",
              "\n",
              "    <script>\n",
              "      const buttonEl =\n",
              "        document.querySelector('#df-bbf3c5b4-c014-4a94-a1ba-e982fd97310f button.colab-df-convert');\n",
              "      buttonEl.style.display =\n",
              "        google.colab.kernel.accessAllowed ? 'block' : 'none';\n",
              "\n",
              "      async function convertToInteractive(key) {\n",
              "        const element = document.querySelector('#df-bbf3c5b4-c014-4a94-a1ba-e982fd97310f');\n",
              "        const dataTable =\n",
              "          await google.colab.kernel.invokeFunction('convertToInteractive',\n",
              "                                                    [key], {});\n",
              "        if (!dataTable) return;\n",
              "\n",
              "        const docLinkHtml = 'Like what you see? Visit the ' +\n",
              "          '<a target=\"_blank\" href=https://colab.research.google.com/notebooks/data_table.ipynb>data table notebook</a>'\n",
              "          + ' to learn more about interactive tables.';\n",
              "        element.innerHTML = '';\n",
              "        dataTable['output_type'] = 'display_data';\n",
              "        await google.colab.output.renderOutput(dataTable, element);\n",
              "        const docLink = document.createElement('div');\n",
              "        docLink.innerHTML = docLinkHtml;\n",
              "        element.appendChild(docLink);\n",
              "      }\n",
              "    </script>\n",
              "  </div>\n",
              "\n",
              "\n",
              "<div id=\"df-902bb7b7-e800-49b7-b9a4-ad24f877a4c9\">\n",
              "  <button class=\"colab-df-quickchart\" onclick=\"quickchart('df-902bb7b7-e800-49b7-b9a4-ad24f877a4c9')\"\n",
              "            title=\"Suggest charts\"\n",
              "            style=\"display:none;\">\n",
              "\n",
              "<svg xmlns=\"http://www.w3.org/2000/svg\" height=\"24px\"viewBox=\"0 0 24 24\"\n",
              "     width=\"24px\">\n",
              "    <g>\n",
              "        <path d=\"M19 3H5c-1.1 0-2 .9-2 2v14c0 1.1.9 2 2 2h14c1.1 0 2-.9 2-2V5c0-1.1-.9-2-2-2zM9 17H7v-7h2v7zm4 0h-2V7h2v10zm4 0h-2v-4h2v4z\"/>\n",
              "    </g>\n",
              "</svg>\n",
              "  </button>\n",
              "\n",
              "<style>\n",
              "  .colab-df-quickchart {\n",
              "      --bg-color: #E8F0FE;\n",
              "      --fill-color: #1967D2;\n",
              "      --hover-bg-color: #E2EBFA;\n",
              "      --hover-fill-color: #174EA6;\n",
              "      --disabled-fill-color: #AAA;\n",
              "      --disabled-bg-color: #DDD;\n",
              "  }\n",
              "\n",
              "  [theme=dark] .colab-df-quickchart {\n",
              "      --bg-color: #3B4455;\n",
              "      --fill-color: #D2E3FC;\n",
              "      --hover-bg-color: #434B5C;\n",
              "      --hover-fill-color: #FFFFFF;\n",
              "      --disabled-bg-color: #3B4455;\n",
              "      --disabled-fill-color: #666;\n",
              "  }\n",
              "\n",
              "  .colab-df-quickchart {\n",
              "    background-color: var(--bg-color);\n",
              "    border: none;\n",
              "    border-radius: 50%;\n",
              "    cursor: pointer;\n",
              "    display: none;\n",
              "    fill: var(--fill-color);\n",
              "    height: 32px;\n",
              "    padding: 0;\n",
              "    width: 32px;\n",
              "  }\n",
              "\n",
              "  .colab-df-quickchart:hover {\n",
              "    background-color: var(--hover-bg-color);\n",
              "    box-shadow: 0 1px 2px rgba(60, 64, 67, 0.3), 0 1px 3px 1px rgba(60, 64, 67, 0.15);\n",
              "    fill: var(--button-hover-fill-color);\n",
              "  }\n",
              "\n",
              "  .colab-df-quickchart-complete:disabled,\n",
              "  .colab-df-quickchart-complete:disabled:hover {\n",
              "    background-color: var(--disabled-bg-color);\n",
              "    fill: var(--disabled-fill-color);\n",
              "    box-shadow: none;\n",
              "  }\n",
              "\n",
              "  .colab-df-spinner {\n",
              "    border: 2px solid var(--fill-color);\n",
              "    border-color: transparent;\n",
              "    border-bottom-color: var(--fill-color);\n",
              "    animation:\n",
              "      spin 1s steps(1) infinite;\n",
              "  }\n",
              "\n",
              "  @keyframes spin {\n",
              "    0% {\n",
              "      border-color: transparent;\n",
              "      border-bottom-color: var(--fill-color);\n",
              "      border-left-color: var(--fill-color);\n",
              "    }\n",
              "    20% {\n",
              "      border-color: transparent;\n",
              "      border-left-color: var(--fill-color);\n",
              "      border-top-color: var(--fill-color);\n",
              "    }\n",
              "    30% {\n",
              "      border-color: transparent;\n",
              "      border-left-color: var(--fill-color);\n",
              "      border-top-color: var(--fill-color);\n",
              "      border-right-color: var(--fill-color);\n",
              "    }\n",
              "    40% {\n",
              "      border-color: transparent;\n",
              "      border-right-color: var(--fill-color);\n",
              "      border-top-color: var(--fill-color);\n",
              "    }\n",
              "    60% {\n",
              "      border-color: transparent;\n",
              "      border-right-color: var(--fill-color);\n",
              "    }\n",
              "    80% {\n",
              "      border-color: transparent;\n",
              "      border-right-color: var(--fill-color);\n",
              "      border-bottom-color: var(--fill-color);\n",
              "    }\n",
              "    90% {\n",
              "      border-color: transparent;\n",
              "      border-bottom-color: var(--fill-color);\n",
              "    }\n",
              "  }\n",
              "</style>\n",
              "\n",
              "  <script>\n",
              "    async function quickchart(key) {\n",
              "      const quickchartButtonEl =\n",
              "        document.querySelector('#' + key + ' button');\n",
              "      quickchartButtonEl.disabled = true;  // To prevent multiple clicks.\n",
              "      quickchartButtonEl.classList.add('colab-df-spinner');\n",
              "      try {\n",
              "        const charts = await google.colab.kernel.invokeFunction(\n",
              "            'suggestCharts', [key], {});\n",
              "      } catch (error) {\n",
              "        console.error('Error during call to suggestCharts:', error);\n",
              "      }\n",
              "      quickchartButtonEl.classList.remove('colab-df-spinner');\n",
              "      quickchartButtonEl.classList.add('colab-df-quickchart-complete');\n",
              "    }\n",
              "    (() => {\n",
              "      let quickchartButtonEl =\n",
              "        document.querySelector('#df-902bb7b7-e800-49b7-b9a4-ad24f877a4c9 button');\n",
              "      quickchartButtonEl.style.display =\n",
              "        google.colab.kernel.accessAllowed ? 'block' : 'none';\n",
              "    })();\n",
              "  </script>\n",
              "</div>\n",
              "    </div>\n",
              "  </div>\n"
            ],
            "application/vnd.google.colaboratory.intrinsic+json": {
              "type": "dataframe",
              "variable_name": "df_train"
            }
          },
          "metadata": {},
          "execution_count": 51
        }
      ],
      "source": [
        "# Print the size of the train set, and have a look at it to make sure the import was successful.\n",
        "print(df_train.shape)\n",
        "df_train"
      ]
    },
    {
      "cell_type": "code",
      "execution_count": 52,
      "metadata": {
        "colab": {
          "base_uri": "https://localhost:8080/",
          "height": 447
        },
        "id": "BYKh0PXjenfi",
        "outputId": "270326eb-0e6e-4b79-a790-c7b2e92d8018"
      },
      "outputs": [
        {
          "output_type": "execute_result",
          "data": {
            "text/plain": [
              "<Axes: >"
            ]
          },
          "metadata": {},
          "execution_count": 52
        },
        {
          "output_type": "display_data",
          "data": {
            "text/plain": [
              "<Figure size 640x480 with 1 Axes>"
            ],
            "image/png": "[encoded data removed]"
          },
          "metadata": {}
        }
      ],
      "source": [
        "# Having the quick look of the distribution of the \"rating\" column\n",
        "df_train['rating'].hist()"
      ]
    },
    {
      "cell_type": "code",
      "execution_count": 53,
      "metadata": {
        "id": "k0fySxb72gfi"
      },
      "outputs": [],
      "source": [
        "# Read the `drugsComTest_raw.tsv` file into a pandas DataFrame as our test set.\n",
        "df_test = pd.read_csv(os.path.join(work_path, \"drugsComTest_raw.tsv\"), sep=\"\\t\")"
      ]
    },
    {
      "cell_type": "code",
      "execution_count": 54,
      "metadata": {
        "colab": {
          "base_uri": "https://localhost:8080/",
          "height": 441
        },
        "id": "LcVQ1N0EK5zA",
        "outputId": "3f802c24-451f-44b6-c29e-8f24adfa6e25"
      },
      "outputs": [
        {
          "output_type": "stream",
          "name": "stdout",
          "text": [
            "(53766, 7)\n"
          ]
        },
        {
          "output_type": "execute_result",
          "data": {
            "text/plain": [
              "       Unnamed: 0         drugName                     condition  \\\n",
              "0          163740      Mirtazapine                    Depression   \n",
              "1          206473       Mesalamine  Crohn's Disease, Maintenance   \n",
              "2          159672          Bactrim       Urinary Tract Infection   \n",
              "3           39293         Contrave                   Weight Loss   \n",
              "4           97768  Cyclafem 1 / 35                 Birth Control   \n",
              "...           ...              ...                           ...   \n",
              "53761      159999        Tamoxifen     Breast Cancer, Prevention   \n",
              "53762      140714     Escitalopram                       Anxiety   \n",
              "53763      130945   Levonorgestrel                 Birth Control   \n",
              "53764       47656       Tapentadol                          Pain   \n",
              "53765      113712        Arthrotec                      Sciatica   \n",
              "\n",
              "                                                  review  rating  \\\n",
              "0      \"I&#039;ve tried a few antidepressants over th...    10.0   \n",
              "1      \"My son has Crohn&#039;s disease and has done ...     8.0   \n",
              "2                          \"Quick reduction of symptoms\"     9.0   \n",
              "3      \"Contrave combines drugs that were used for al...     9.0   \n",
              "4      \"I have been on this birth control for one cyc...     9.0   \n",
              "...                                                  ...     ...   \n",
              "53761  \"I have taken Tamoxifen for 5 years. Side effe...    10.0   \n",
              "53762  \"I&#039;ve been taking Lexapro (escitaploprgra...     9.0   \n",
              "53763  \"I&#039;m married, 34 years old and I have no ...     8.0   \n",
              "53764  \"I was prescribed Nucynta for severe neck/shou...     1.0   \n",
              "53765                                      \"It works!!!\"     9.0   \n",
              "\n",
              "                     date  usefulCount  \n",
              "0       February 28, 2012           22  \n",
              "1            May 17, 2009           17  \n",
              "2      September 29, 2017            3  \n",
              "3           March 5, 2017           35  \n",
              "4        October 22, 2015            4  \n",
              "...                   ...          ...  \n",
              "53761  September 13, 2014           43  \n",
              "53762     October 8, 2016           11  \n",
              "53763   November 15, 2010            7  \n",
              "53764   November 28, 2011           20  \n",
              "53765  September 13, 2009           46  \n",
              "\n",
              "[53766 rows x 7 columns]"
            ],
            "text/html": [
              "\n",
              "  <div id=\"df-3f1b6566-ed02-4e6a-8ac2-fb42653972df\" class=\"colab-df-container\">\n",
              "    <div>\n",
              "<style scoped>\n",
              "    .dataframe tbody tr th:only-of-type {\n",
              "        vertical-align: middle;\n",
              "    }\n",
              "\n",
              "    .dataframe tbody tr th {\n",
              "        vertical-align: top;\n",
              "    }\n",
              "\n",
              "    .dataframe thead th {\n",
              "        text-align: right;\n",
              "    }\n",
              "</style>\n",
              "<table border=\"1\" class=\"dataframe\">\n",
              "  <thead>\n",
              "    <tr style=\"text-align: right;\">\n",
              "      <th></th>\n",
              "      <th>Unnamed: 0</th>\n",
              "      <th>drugName</th>\n",
              "      <th>condition</th>\n",
              "      <th>review</th>\n",
              "      <th>rating</th>\n",
              "      <th>date</th>\n",
              "      <th>usefulCount</th>\n",
              "    </tr>\n",
              "  </thead>\n",
              "  <tbody>\n",
              "    <tr>\n",
              "      <th>0</th>\n",
              "      <td>163740</td>\n",
              "      <td>Mirtazapine</td>\n",
              "      <td>Depression</td>\n",
              "      <td>\"I&amp;#039;ve tried a few antidepressants over th...</td>\n",
              "      <td>10.0</td>\n",
              "      <td>February 28, 2012</td>\n",
              "      <td>22</td>\n",
              "    </tr>\n",
              "    <tr>\n",
              "      <th>1</th>\n",
              "      <td>206473</td>\n",
              "      <td>Mesalamine</td>\n",
              "      <td>Crohn's Disease, Maintenance</td>\n",
              "      <td>\"My son has Crohn&amp;#039;s disease and has done ...</td>\n",
              "      <td>8.0</td>\n",
              "      <td>May 17, 2009</td>\n",
              "      <td>17</td>\n",
              "    </tr>\n",
              "    <tr>\n",
              "      <th>2</th>\n",
              "      <td>159672</td>\n",
              "      <td>Bactrim</td>\n",
              "      <td>Urinary Tract Infection</td>\n",
              "      <td>\"Quick reduction of symptoms\"</td>\n",
              "      <td>9.0</td>\n",
              "      <td>September 29, 2017</td>\n",
              "      <td>3</td>\n",
              "    </tr>\n",
              "    <tr>\n",
              "      <th>3</th>\n",
              "      <td>39293</td>\n",
              "      <td>Contrave</td>\n",
              "      <td>Weight Loss</td>\n",
              "      <td>\"Contrave combines drugs that were used for al...</td>\n",
              "      <td>9.0</td>\n",
              "      <td>March 5, 2017</td>\n",
              "      <td>35</td>\n",
              "    </tr>\n",
              "    <tr>\n",
              "      <th>4</th>\n",
              "      <td>97768</td>\n",
              "      <td>Cyclafem 1 / 35</td>\n",
              "      <td>Birth Control</td>\n",
              "      <td>\"I have been on this birth control for one cyc...</td>\n",
              "      <td>9.0</td>\n",
              "      <td>October 22, 2015</td>\n",
              "      <td>4</td>\n",
              "    </tr>\n",
              "    <tr>\n",
              "      <th>...</th>\n",
              "      <td>...</td>\n",
              "      <td>...</td>\n",
              "      <td>...</td>\n",
              "      <td>...</td>\n",
              "      <td>...</td>\n",
              "      <td>...</td>\n",
              "      <td>...</td>\n",
              "    </tr>\n",
              "    <tr>\n",
              "      <th>53761</th>\n",
              "      <td>159999</td>\n",
              "      <td>Tamoxifen</td>\n",
              "      <td>Breast Cancer, Prevention</td>\n",
              "      <td>\"I have taken Tamoxifen for 5 years. Side effe...</td>\n",
              "      <td>10.0</td>\n",
              "      <td>September 13, 2014</td>\n",
              "      <td>43</td>\n",
              "    </tr>\n",
              "    <tr>\n",
              "      <th>53762</th>\n",
              "      <td>140714</td>\n",
              "      <td>Escitalopram</td>\n",
              "      <td>Anxiety</td>\n",
              "      <td>\"I&amp;#039;ve been taking Lexapro (escitaploprgra...</td>\n",
              "      <td>9.0</td>\n",
              "      <td>October 8, 2016</td>\n",
              "      <td>11</td>\n",
              "    </tr>\n",
              "    <tr>\n",
              "      <th>53763</th>\n",
              "      <td>130945</td>\n",
              "      <td>Levonorgestrel</td>\n",
              "      <td>Birth Control</td>\n",
              "      <td>\"I&amp;#039;m married, 34 years old and I have no ...</td>\n",
              "      <td>8.0</td>\n",
              "      <td>November 15, 2010</td>\n",
              "      <td>7</td>\n",
              "    </tr>\n",
              "    <tr>\n",
              "      <th>53764</th>\n",
              "      <td>47656</td>\n",
              "      <td>Tapentadol</td>\n",
              "      <td>Pain</td>\n",
              "      <td>\"I was prescribed Nucynta for severe neck/shou...</td>\n",
              "      <td>1.0</td>\n",
              "      <td>November 28, 2011</td>\n",
              "      <td>20</td>\n",
              "    </tr>\n",
              "    <tr>\n",
              "      <th>53765</th>\n",
              "      <td>113712</td>\n",
              "      <td>Arthrotec</td>\n",
              "      <td>Sciatica</td>\n",
              "      <td>\"It works!!!\"</td>\n",
              "      <td>9.0</td>\n",
              "      <td>September 13, 2009</td>\n",
              "      <td>46</td>\n",
              "    </tr>\n",
              "  </tbody>\n",
              "</table>\n",
              "<p>53766 rows × 7 columns</p>\n",
              "</div>\n",
              "    <div class=\"colab-df-buttons\">\n",
              "\n",
              "  <div class=\"colab-df-container\">\n",
              "    <button class=\"colab-df-convert\" onclick=\"convertToInteractive('df-3f1b6566-ed02-4e6a-8ac2-fb42653972df')\"\n",
              "            title=\"Convert this dataframe to an interactive table.\"\n",
              "            style=\"display:none;\">\n",
              "\n",
              "  <svg xmlns=\"http://www.w3.org/2000/svg\" height=\"24px\" viewBox=\"0 -960 960 960\">\n",
              "    <path d=\"M120-120v-720h720v720H120Zm60-500h600v-160H180v160Zm220 220h160v-160H400v160Zm0 220h160v-160H400v160ZM180-400h160v-160H180v160Zm440 0h160v-160H620v160ZM180-180h160v-160H180v160Zm440 0h160v-160H620v160Z\"/>\n",
              "  </svg>\n",
              "    </button>\n",
              "\n",
              "  <style>\n",
              "    .colab-df-container {\n",
              "      display:flex;\n",
              "      gap: 12px;\n",
              "    }\n",
              "\n",
              "    .colab-df-convert {\n",
              "      background-color: #E8F0FE;\n",
              "      border: none;\n",
              "      border-radius: 50%;\n",
              "      cursor: pointer;\n",
              "      display: none;\n",
              "      fill: #1967D2;\n",
              "      height: 32px;\n",
              "      padding: 0 0 0 0;\n",
              "      width: 32px;\n",
              "    }\n",
              "\n",
              "    .colab-df-convert:hover {\n",
              "      background-color: #E2EBFA;\n",
              "      box-shadow: 0px 1px 2px rgba(60, 64, 67, 0.3), 0px 1px 3px 1px rgba(60, 64, 67, 0.15);\n",
              "      fill: #174EA6;\n",
              "    }\n",
              "\n",
              "    .colab-df-buttons div {\n",
              "      margin-bottom: 4px;\n",
              "    }\n",
              "\n",
              "    [theme=dark] .colab-df-convert {\n",
              "      background-color: #3B4455;\n",
              "      fill: #D2E3FC;\n",
              "    }\n",
              "\n",
              "    [theme=dark] .colab-df-convert:hover {\n",
              "      background-color: #434B5C;\n",
              "      box-shadow: 0px 1px 3px 1px rgba(0, 0, 0, 0.15);\n",
              "      filter: drop-shadow(0px 1px 2px rgba(0, 0, 0, 0.3));\n",
              "      fill: #FFFFFF;\n",
              "    }\n",
              "  </style>\n",
              "\n",
              "    <script>\n",
              "      const buttonEl =\n",
              "        document.querySelector('#df-3f1b6566-ed02-4e6a-8ac2-fb42653972df button.colab-df-convert');\n",
              "      buttonEl.style.display =\n",
              "        google.colab.kernel.accessAllowed ? 'block' : 'none';\n",
              "\n",
              "      async function convertToInteractive(key) {\n",
              "        const element = document.querySelector('#df-3f1b6566-ed02-4e6a-8ac2-fb42653972df');\n",
              "        const dataTable =\n",
              "          await google.colab.kernel.invokeFunction('convertToInteractive',\n",
              "                                                    [key], {});\n",
              "        if (!dataTable) return;\n",
              "\n",
              "        const docLinkHtml = 'Like what you see? Visit the ' +\n",
              "          '<a target=\"_blank\" href=https://colab.research.google.com/notebooks/data_table.ipynb>data table notebook</a>'\n",
              "          + ' to learn more about interactive tables.';\n",
              "        element.innerHTML = '';\n",
              "        dataTable['output_type'] = 'display_data';\n",
              "        await google.colab.output.renderOutput(dataTable, element);\n",
              "        const docLink = document.createElement('div');\n",
              "        docLink.innerHTML = docLinkHtml;\n",
              "        element.appendChild(docLink);\n",
              "      }\n",
              "    </script>\n",
              "  </div>\n",
              "\n",
              "\n",
              "<div id=\"df-11f2d440-2d11-4abf-af1a-471b200da789\">\n",
              "  <button class=\"colab-df-quickchart\" onclick=\"quickchart('df-11f2d440-2d11-4abf-af1a-471b200da789')\"\n",
              "            title=\"Suggest charts\"\n",
              "            style=\"display:none;\">\n",
              "\n",
              "<svg xmlns=\"http://www.w3.org/2000/svg\" height=\"24px\"viewBox=\"0 0 24 24\"\n",
              "     width=\"24px\">\n",
              "    <g>\n",
              "        <path d=\"M19 3H5c-1.1 0-2 .9-2 2v14c0 1.1.9 2 2 2h14c1.1 0 2-.9 2-2V5c0-1.1-.9-2-2-2zM9 17H7v-7h2v7zm4 0h-2V7h2v10zm4 0h-2v-4h2v4z\"/>\n",
              "    </g>\n",
              "</svg>\n",
              "  </button>\n",
              "\n",
              "<style>\n",
              "  .colab-df-quickchart {\n",
              "      --bg-color: #E8F0FE;\n",
              "      --fill-color: #1967D2;\n",
              "      --hover-bg-color: #E2EBFA;\n",
              "      --hover-fill-color: #174EA6;\n",
              "      --disabled-fill-color: #AAA;\n",
              "      --disabled-bg-color: #DDD;\n",
              "  }\n",
              "\n",
              "  [theme=dark] .colab-df-quickchart {\n",
              "      --bg-color: #3B4455;\n",
              "      --fill-color: #D2E3FC;\n",
              "      --hover-bg-color: #434B5C;\n",
              "      --hover-fill-color: #FFFFFF;\n",
              "      --disabled-bg-color: #3B4455;\n",
              "      --disabled-fill-color: #666;\n",
              "  }\n",
              "\n",
              "  .colab-df-quickchart {\n",
              "    background-color: var(--bg-color);\n",
              "    border: none;\n",
              "    border-radius: 50%;\n",
              "    cursor: pointer;\n",
              "    display: none;\n",
              "    fill: var(--fill-color);\n",
              "    height: 32px;\n",
              "    padding: 0;\n",
              "    width: 32px;\n",
              "  }\n",
              "\n",
              "  .colab-df-quickchart:hover {\n",
              "    background-color: var(--hover-bg-color);\n",
              "    box-shadow: 0 1px 2px rgba(60, 64, 67, 0.3), 0 1px 3px 1px rgba(60, 64, 67, 0.15);\n",
              "    fill: var(--button-hover-fill-color);\n",
              "  }\n",
              "\n",
              "  .colab-df-quickchart-complete:disabled,\n",
              "  .colab-df-quickchart-complete:disabled:hover {\n",
              "    background-color: var(--disabled-bg-color);\n",
              "    fill: var(--disabled-fill-color);\n",
              "    box-shadow: none;\n",
              "  }\n",
              "\n",
              "  .colab-df-spinner {\n",
              "    border: 2px solid var(--fill-color);\n",
              "    border-color: transparent;\n",
              "    border-bottom-color: var(--fill-color);\n",
              "    animation:\n",
              "      spin 1s steps(1) infinite;\n",
              "  }\n",
              "\n",
              "  @keyframes spin {\n",
              "    0% {\n",
              "      border-color: transparent;\n",
              "      border-bottom-color: var(--fill-color);\n",
              "      border-left-color: var(--fill-color);\n",
              "    }\n",
              "    20% {\n",
              "      border-color: transparent;\n",
              "      border-left-color: var(--fill-color);\n",
              "      border-top-color: var(--fill-color);\n",
              "    }\n",
              "    30% {\n",
              "      border-color: transparent;\n",
              "      border-left-color: var(--fill-color);\n",
              "      border-top-color: var(--fill-color);\n",
              "      border-right-color: var(--fill-color);\n",
              "    }\n",
              "    40% {\n",
              "      border-color: transparent;\n",
              "      border-right-color: var(--fill-color);\n",
              "      border-top-color: var(--fill-color);\n",
              "    }\n",
              "    60% {\n",
              "      border-color: transparent;\n",
              "      border-right-color: var(--fill-color);\n",
              "    }\n",
              "    80% {\n",
              "      border-color: transparent;\n",
              "      border-right-color: var(--fill-color);\n",
              "      border-bottom-color: var(--fill-color);\n",
              "    }\n",
              "    90% {\n",
              "      border-color: transparent;\n",
              "      border-bottom-color: var(--fill-color);\n",
              "    }\n",
              "  }\n",
              "</style>\n",
              "\n",
              "  <script>\n",
              "    async function quickchart(key) {\n",
              "      const quickchartButtonEl =\n",
              "        document.querySelector('#' + key + ' button');\n",
              "      quickchartButtonEl.disabled = true;  // To prevent multiple clicks.\n",
              "      quickchartButtonEl.classList.add('colab-df-spinner');\n",
              "      try {\n",
              "        const charts = await google.colab.kernel.invokeFunction(\n",
              "            'suggestCharts', [key], {});\n",
              "      } catch (error) {\n",
              "        console.error('Error during call to suggestCharts:', error);\n",
              "      }\n",
              "      quickchartButtonEl.classList.remove('colab-df-spinner');\n",
              "      quickchartButtonEl.classList.add('colab-df-quickchart-complete');\n",
              "    }\n",
              "    (() => {\n",
              "      let quickchartButtonEl =\n",
              "        document.querySelector('#df-11f2d440-2d11-4abf-af1a-471b200da789 button');\n",
              "      quickchartButtonEl.style.display =\n",
              "        google.colab.kernel.accessAllowed ? 'block' : 'none';\n",
              "    })();\n",
              "  </script>\n",
              "</div>\n",
              "    </div>\n",
              "  </div>\n"
            ],
            "application/vnd.google.colaboratory.intrinsic+json": {
              "type": "dataframe",
              "variable_name": "df_test",
              "repr_error": "'str' object has no attribute 'empty'"
            }
          },
          "metadata": {},
          "execution_count": 54
        }
      ],
      "source": [
        "# Have a glimpse of the test dataset.\n",
        "print(df_test.shape)\n",
        "df_test"
      ]
    },
    {
      "cell_type": "markdown",
      "metadata": {
        "id": "2XZnMFQ-_CCk"
      },
      "source": [
        "---\n",
        "\n",
        "# 3. Creating our Training and Testing Sets"
      ]
    },
    {
      "cell_type": "markdown",
      "metadata": {
        "id": "iFD77juEz7AH"
      },
      "source": [
        "\n",
        "## 3.1. Subsetting the data\n",
        "\n",
        "The original dataset is rather large (161,297 training samples and 53,766 testing samples). For illustrative purposes in this demo, we would only include 800 and 200 training and testing samples respectively to speed things up.\n"
      ]
    },
    {
      "cell_type": "code",
      "execution_count": 55,
      "metadata": {
        "id": "_JXqhgAc6lqo"
      },
      "outputs": [],
      "source": [
        "# Drop all columns except for `review` and `rating` for the training set.\n",
        "# Randomly select a small portion into our train data, say 800.\n",
        "df_train = df_train[['review', 'rating']]\n",
        "df_train = df_train.sample(n=800, random_state=1)"
      ]
    },
    {
      "cell_type": "code",
      "execution_count": 56,
      "metadata": {
        "id": "LxaEEnNXtPsP"
      },
      "outputs": [],
      "source": [
        "# Reset the index.\n",
        "df_train = df_train.reset_index(drop=True)"
      ]
    },
    {
      "cell_type": "code",
      "execution_count": 57,
      "metadata": {
        "colab": {
          "base_uri": "https://localhost:8080/",
          "height": 441
        },
        "id": "XsFVuzXpLH9W",
        "outputId": "8f94822e-dbce-4844-9ca1-fedc5cc777e3"
      },
      "outputs": [
        {
          "output_type": "stream",
          "name": "stdout",
          "text": [
            "(800, 2)\n"
          ]
        },
        {
          "output_type": "execute_result",
          "data": {
            "text/plain": [
              "                                                review  rating\n",
              "0    \"This was my first pill I have ever tried, and...     1.0\n",
              "1    \"Hi there,\\r\\n\\r\\nI also wanted to write a pos...    10.0\n",
              "2    \"I&#039;m basically a very hard sell when it c...    10.0\n",
              "3    \"My son is 5 1/2. We&#039;ve always noticed hi...     8.0\n",
              "4    \"I&#039;ve had it about 2 months now, and my e...    10.0\n",
              "..                                                 ...     ...\n",
              "795  \"I completely stopped having panic attacks aft...     8.0\n",
              "796  \"I&#039;m 23, never given birth, had it insert...     6.0\n",
              "797  \"I had Implanon for 3 years now. It&#039;s tim...    10.0\n",
              "798  \"Simply wonderful. I took 20 mg for the first ...     9.0\n",
              "799  \"I feel compelled to write a review on Pregaba...     6.0\n",
              "\n",
              "[800 rows x 2 columns]"
            ],
            "text/html": [
              "\n",
              "  <div id=\"df-1b47709b-83c2-4acb-9abd-2969f109856b\" class=\"colab-df-container\">\n",
              "    <div>\n",
              "<style scoped>\n",
              "    .dataframe tbody tr th:only-of-type {\n",
              "        vertical-align: middle;\n",
              "    }\n",
              "\n",
              "    .dataframe tbody tr th {\n",
              "        vertical-align: top;\n",
              "    }\n",
              "\n",
              "    .dataframe thead th {\n",
              "        text-align: right;\n",
              "    }\n",
              "</style>\n",
              "<table border=\"1\" class=\"dataframe\">\n",
              "  <thead>\n",
              "    <tr style=\"text-align: right;\">\n",
              "      <th></th>\n",
              "      <th>review</th>\n",
              "      <th>rating</th>\n",
              "    </tr>\n",
              "  </thead>\n",
              "  <tbody>\n",
              "    <tr>\n",
              "      <th>0</th>\n",
              "      <td>\"This was my first pill I have ever tried, and...</td>\n",
              "      <td>1.0</td>\n",
              "    </tr>\n",
              "    <tr>\n",
              "      <th>1</th>\n",
              "      <td>\"Hi there,\\r\\n\\r\\nI also wanted to write a pos...</td>\n",
              "      <td>10.0</td>\n",
              "    </tr>\n",
              "    <tr>\n",
              "      <th>2</th>\n",
              "      <td>\"I&amp;#039;m basically a very hard sell when it c...</td>\n",
              "      <td>10.0</td>\n",
              "    </tr>\n",
              "    <tr>\n",
              "      <th>3</th>\n",
              "      <td>\"My son is 5 1/2. We&amp;#039;ve always noticed hi...</td>\n",
              "      <td>8.0</td>\n",
              "    </tr>\n",
              "    <tr>\n",
              "      <th>4</th>\n",
              "      <td>\"I&amp;#039;ve had it about 2 months now, and my e...</td>\n",
              "      <td>10.0</td>\n",
              "    </tr>\n",
              "    <tr>\n",
              "      <th>...</th>\n",
              "      <td>...</td>\n",
              "      <td>...</td>\n",
              "    </tr>\n",
              "    <tr>\n",
              "      <th>795</th>\n",
              "      <td>\"I completely stopped having panic attacks aft...</td>\n",
              "      <td>8.0</td>\n",
              "    </tr>\n",
              "    <tr>\n",
              "      <th>796</th>\n",
              "      <td>\"I&amp;#039;m 23, never given birth, had it insert...</td>\n",
              "      <td>6.0</td>\n",
              "    </tr>\n",
              "    <tr>\n",
              "      <th>797</th>\n",
              "      <td>\"I had Implanon for 3 years now. It&amp;#039;s tim...</td>\n",
              "      <td>10.0</td>\n",
              "    </tr>\n",
              "    <tr>\n",
              "      <th>798</th>\n",
              "      <td>\"Simply wonderful. I took 20 mg for the first ...</td>\n",
              "      <td>9.0</td>\n",
              "    </tr>\n",
              "    <tr>\n",
              "      <th>799</th>\n",
              "      <td>\"I feel compelled to write a review on Pregaba...</td>\n",
              "      <td>6.0</td>\n",
              "    </tr>\n",
              "  </tbody>\n",
              "</table>\n",
              "<p>800 rows × 2 columns</p>\n",
              "</div>\n",
              "    <div class=\"colab-df-buttons\">\n",
              "\n",
              "  <div class=\"colab-df-container\">\n",
              "    <button class=\"colab-df-convert\" onclick=\"convertToInteractive('df-1b47709b-83c2-4acb-9abd-2969f109856b')\"\n",
              "            title=\"Convert this dataframe to an interactive table.\"\n",
              "            style=\"display:none;\">\n",
              "\n",
              "  <svg xmlns=\"http://www.w3.org/2000/svg\" height=\"24px\" viewBox=\"0 -960 960 960\">\n",
              "    <path d=\"M120-120v-720h720v720H120Zm60-500h600v-160H180v160Zm220 220h160v-160H400v160Zm0 220h160v-160H400v160ZM180-400h160v-160H180v160Zm440 0h160v-160H620v160ZM180-180h160v-160H180v160Zm440 0h160v-160H620v160Z\"/>\n",
              "  </svg>\n",
              "    </button>\n",
              "\n",
              "  <style>\n",
              "    .colab-df-container {\n",
              "      display:flex;\n",
              "      gap: 12px;\n",
              "    }\n",
              "\n",
              "    .colab-df-convert {\n",
              "      background-color: #E8F0FE;\n",
              "      border: none;\n",
              "      border-radius: 50%;\n",
              "      cursor: pointer;\n",
              "      display: none;\n",
              "      fill: #1967D2;\n",
              "      height: 32px;\n",
              "      padding: 0 0 0 0;\n",
              "      width: 32px;\n",
              "    }\n",
              "\n",
              "    .colab-df-convert:hover {\n",
              "      background-color: #E2EBFA;\n",
              "      box-shadow: 0px 1px 2px rgba(60, 64, 67, 0.3), 0px 1px 3px 1px rgba(60, 64, 67, 0.15);\n",
              "      fill: #174EA6;\n",
              "    }\n",
              "\n",
              "    .colab-df-buttons div {\n",
              "      margin-bottom: 4px;\n",
              "    }\n",
              "\n",
              "    [theme=dark] .colab-df-convert {\n",
              "      background-color: #3B4455;\n",
              "      fill: #D2E3FC;\n",
              "    }\n",
              "\n",
              "    [theme=dark] .colab-df-convert:hover {\n",
              "      background-color: #434B5C;\n",
              "      box-shadow: 0px 1px 3px 1px rgba(0, 0, 0, 0.15);\n",
              "      filter: drop-shadow(0px 1px 2px rgba(0, 0, 0, 0.3));\n",
              "      fill: #FFFFFF;\n",
              "    }\n",
              "  </style>\n",
              "\n",
              "    <script>\n",
              "      const buttonEl =\n",
              "        document.querySelector('#df-1b47709b-83c2-4acb-9abd-2969f109856b button.colab-df-convert');\n",
              "      buttonEl.style.display =\n",
              "        google.colab.kernel.accessAllowed ? 'block' : 'none';\n",
              "\n",
              "      async function convertToInteractive(key) {\n",
              "        const element = document.querySelector('#df-1b47709b-83c2-4acb-9abd-2969f109856b');\n",
              "        const dataTable =\n",
              "          await google.colab.kernel.invokeFunction('convertToInteractive',\n",
              "                                                    [key], {});\n",
              "        if (!dataTable) return;\n",
              "\n",
              "        const docLinkHtml = 'Like what you see? Visit the ' +\n",
              "          '<a target=\"_blank\" href=https://colab.research.google.com/notebooks/data_table.ipynb>data table notebook</a>'\n",
              "          + ' to learn more about interactive tables.';\n",
              "        element.innerHTML = '';\n",
              "        dataTable['output_type'] = 'display_data';\n",
              "        await google.colab.output.renderOutput(dataTable, element);\n",
              "        const docLink = document.createElement('div');\n",
              "        docLink.innerHTML = docLinkHtml;\n",
              "        element.appendChild(docLink);\n",
              "      }\n",
              "    </script>\n",
              "  </div>\n",
              "\n",
              "\n",
              "<div id=\"df-409e4752-32fd-4a7e-b27e-b38b3920638d\">\n",
              "  <button class=\"colab-df-quickchart\" onclick=\"quickchart('df-409e4752-32fd-4a7e-b27e-b38b3920638d')\"\n",
              "            title=\"Suggest charts\"\n",
              "            style=\"display:none;\">\n",
              "\n",
              "<svg xmlns=\"http://www.w3.org/2000/svg\" height=\"24px\"viewBox=\"0 0 24 24\"\n",
              "     width=\"24px\">\n",
              "    <g>\n",
              "        <path d=\"M19 3H5c-1.1 0-2 .9-2 2v14c0 1.1.9 2 2 2h14c1.1 0 2-.9 2-2V5c0-1.1-.9-2-2-2zM9 17H7v-7h2v7zm4 0h-2V7h2v10zm4 0h-2v-4h2v4z\"/>\n",
              "    </g>\n",
              "</svg>\n",
              "  </button>\n",
              "\n",
              "<style>\n",
              "  .colab-df-quickchart {\n",
              "      --bg-color: #E8F0FE;\n",
              "      --fill-color: #1967D2;\n",
              "      --hover-bg-color: #E2EBFA;\n",
              "      --hover-fill-color: #174EA6;\n",
              "      --disabled-fill-color: #AAA;\n",
              "      --disabled-bg-color: #DDD;\n",
              "  }\n",
              "\n",
              "  [theme=dark] .colab-df-quickchart {\n",
              "      --bg-color: #3B4455;\n",
              "      --fill-color: #D2E3FC;\n",
              "      --hover-bg-color: #434B5C;\n",
              "      --hover-fill-color: #FFFFFF;\n",
              "      --disabled-bg-color: #3B4455;\n",
              "      --disabled-fill-color: #666;\n",
              "  }\n",
              "\n",
              "  .colab-df-quickchart {\n",
              "    background-color: var(--bg-color);\n",
              "    border: none;\n",
              "    border-radius: 50%;\n",
              "    cursor: pointer;\n",
              "    display: none;\n",
              "    fill: var(--fill-color);\n",
              "    height: 32px;\n",
              "    padding: 0;\n",
              "    width: 32px;\n",
              "  }\n",
              "\n",
              "  .colab-df-quickchart:hover {\n",
              "    background-color: var(--hover-bg-color);\n",
              "    box-shadow: 0 1px 2px rgba(60, 64, 67, 0.3), 0 1px 3px 1px rgba(60, 64, 67, 0.15);\n",
              "    fill: var(--button-hover-fill-color);\n",
              "  }\n",
              "\n",
              "  .colab-df-quickchart-complete:disabled,\n",
              "  .colab-df-quickchart-complete:disabled:hover {\n",
              "    background-color: var(--disabled-bg-color);\n",
              "    fill: var(--disabled-fill-color);\n",
              "    box-shadow: none;\n",
              "  }\n",
              "\n",
              "  .colab-df-spinner {\n",
              "    border: 2px solid var(--fill-color);\n",
              "    border-color: transparent;\n",
              "    border-bottom-color: var(--fill-color);\n",
              "    animation:\n",
              "      spin 1s steps(1) infinite;\n",
              "  }\n",
              "\n",
              "  @keyframes spin {\n",
              "    0% {\n",
              "      border-color: transparent;\n",
              "      border-bottom-color: var(--fill-color);\n",
              "      border-left-color: var(--fill-color);\n",
              "    }\n",
              "    20% {\n",
              "      border-color: transparent;\n",
              "      border-left-color: var(--fill-color);\n",
              "      border-top-color: var(--fill-color);\n",
              "    }\n",
              "    30% {\n",
              "      border-color: transparent;\n",
              "      border-left-color: var(--fill-color);\n",
              "      border-top-color: var(--fill-color);\n",
              "      border-right-color: var(--fill-color);\n",
              "    }\n",
              "    40% {\n",
              "      border-color: transparent;\n",
              "      border-right-color: var(--fill-color);\n",
              "      border-top-color: var(--fill-color);\n",
              "    }\n",
              "    60% {\n",
              "      border-color: transparent;\n",
              "      border-right-color: var(--fill-color);\n",
              "    }\n",
              "    80% {\n",
              "      border-color: transparent;\n",
              "      border-right-color: var(--fill-color);\n",
              "      border-bottom-color: var(--fill-color);\n",
              "    }\n",
              "    90% {\n",
              "      border-color: transparent;\n",
              "      border-bottom-color: var(--fill-color);\n",
              "    }\n",
              "  }\n",
              "</style>\n",
              "\n",
              "  <script>\n",
              "    async function quickchart(key) {\n",
              "      const quickchartButtonEl =\n",
              "        document.querySelector('#' + key + ' button');\n",
              "      quickchartButtonEl.disabled = true;  // To prevent multiple clicks.\n",
              "      quickchartButtonEl.classList.add('colab-df-spinner');\n",
              "      try {\n",
              "        const charts = await google.colab.kernel.invokeFunction(\n",
              "            'suggestCharts', [key], {});\n",
              "      } catch (error) {\n",
              "        console.error('Error during call to suggestCharts:', error);\n",
              "      }\n",
              "      quickchartButtonEl.classList.remove('colab-df-spinner');\n",
              "      quickchartButtonEl.classList.add('colab-df-quickchart-complete');\n",
              "    }\n",
              "    (() => {\n",
              "      let quickchartButtonEl =\n",
              "        document.querySelector('#df-409e4752-32fd-4a7e-b27e-b38b3920638d button');\n",
              "      quickchartButtonEl.style.display =\n",
              "        google.colab.kernel.accessAllowed ? 'block' : 'none';\n",
              "    })();\n",
              "  </script>\n",
              "</div>\n",
              "    </div>\n",
              "  </div>\n"
            ],
            "application/vnd.google.colaboratory.intrinsic+json": {
              "type": "dataframe",
              "variable_name": "df_train",
              "summary": "{\n  \"name\": \"df_train\",\n  \"rows\": 800,\n  \"fields\": [\n    {\n      \"column\": \"review\",\n      \"properties\": {\n        \"dtype\": \"string\",\n        \"num_unique_values\": 799,\n        \"samples\": [\n          \"\\\"I have a lot of vomiting after the shot, but it goes away. The voices are minimal, hallucinations are almost gone. I think it&#039;s worth it; hopefully my body will get used to it.\\\"\",\n          \"\\\"I have had the Implanon for three months now, the first month nothing happened, the second month I had severe mood swings &#039;pretend periods&#039; (acts like I&#039;m about to get it but nothing) and no sex drive whatsoever. The third month the mood swings left, &#039;pretend periods&#039; gone. Sex drive off and on. Now I just got my period, had it for two weeks now. Mild cramping, its all spotting. I had horrifying painful periods before that were irregular, horrible. So far this birth control has been worth it. I recommend it. I don&#039;t have a scar..only mild bruising and I can&#039;t lay on my arm or put pressure on it or it&#039;ll feel weird or hurt.\\\"\",\n          \"\\\"I had knee surgery last week and I wouldn&#039;t be able to go through the recovery without Percocet.  Before the pain was really frustrating.  I would wake up at least every 2 hours at night because I would subconsciously move my knee.  I feel its effects within 15 minutes.  Although some pain is still there, it is quite minor, and very manageable. It works.\\\"\"\n        ],\n        \"semantic_type\": \"\",\n        \"description\": \"\"\n      }\n    },\n    {\n      \"column\": \"rating\",\n      \"properties\": {\n        \"dtype\": \"number\",\n        \"std\": 3.2323459089481537,\n        \"min\": 1.0,\n        \"max\": 10.0,\n        \"num_unique_values\": 10,\n        \"samples\": [\n          2.0,\n          10.0,\n          4.0\n        ],\n        \"semantic_type\": \"\",\n        \"description\": \"\"\n      }\n    }\n  ]\n}"
            }
          },
          "metadata": {},
          "execution_count": 57
        }
      ],
      "source": [
        "# Print the sub train set information.\n",
        "print(df_train.shape)\n",
        "df_train"
      ]
    },
    {
      "cell_type": "code",
      "source": [
        "from IPython.display import HTML, display"
      ],
      "metadata": {
        "id": "Fs2I1S63Ckyd"
      },
      "execution_count": 58,
      "outputs": []
    },
    {
      "cell_type": "markdown",
      "metadata": {
        "id": "oeDn0Bcu-qqO"
      },
      "source": [
        "Here is an example of a review with rating \"1\":"
      ]
    },
    {
      "cell_type": "code",
      "execution_count": 59,
      "metadata": {
        "colab": {
          "base_uri": "https://localhost:8080/",
          "height": 34
        },
        "id": "NKK_cvDsfwNf",
        "outputId": "24e1749c-58ba-4203-f276-730c8c31a42a"
      },
      "outputs": [
        {
          "output_type": "display_data",
          "data": {
            "text/plain": [
              "<IPython.core.display.HTML object>"
            ],
            "text/html": [
              "\"This was my first pill I have ever tried, and it was by far the worst one. Depression is a silent killer, no sex drive, tired, weight gain. It was not healthy for me, when I quit it I felt much better and became myself again, not worth it.\""
            ]
          },
          "metadata": {}
        }
      ],
      "source": [
        "display(HTML(df_train.loc[0]['review']))"
      ]
    },
    {
      "cell_type": "markdown",
      "metadata": {
        "id": "-EDdyTuS-xGP"
      },
      "source": [
        "And here is an example of a review with rating \"10\":"
      ]
    },
    {
      "cell_type": "code",
      "execution_count": 60,
      "metadata": {
        "colab": {
          "base_uri": "https://localhost:8080/",
          "height": 69
        },
        "id": "HZ9Qt9RCgTP-",
        "outputId": "5dcc5a29-d0d1-45b4-fd37-f867905a5d94"
      },
      "outputs": [
        {
          "output_type": "display_data",
          "data": {
            "text/plain": [
              "<IPython.core.display.HTML object>"
            ],
            "text/html": [
              "\"I&#039;m basically a very hard sell when it comes to taking ANY medicines, but pain is a great motivator. Oral NSAIDs have given me some minor distress in the past. A friend turned me on to Voltaren Gel . I used it on my knees, neck, and lower back. This is as close to a miracle as I have experienced in my 50  years of arthritis producing activities.\r\n",
              "\r\n",
              "The best part is that dosing is applied directly and only to the problem areas so consequently much less ends up in your system overall than if taken orally.\r\n",
              "\r\n",
              "Win. Win.\""
            ]
          },
          "metadata": {}
        }
      ],
      "source": [
        "display(HTML(df_train.loc[2]['review']))"
      ]
    },
    {
      "cell_type": "code",
      "execution_count": 61,
      "metadata": {
        "id": "J7qY4AUd7KsM"
      },
      "outputs": [],
      "source": [
        "# Drop columns in the test set except for review and rating like the train set.\n",
        "# Here only 200 records are chosen at random into the test set.\n",
        "# Also the index would be reset.\n",
        "df_test = df_test[['review', 'rating']]\n",
        "df_test = df_test.sample(n=200, random_state=1)\n",
        "df_test = df_test.reset_index(drop=True)"
      ]
    },
    {
      "cell_type": "code",
      "execution_count": 62,
      "metadata": {
        "colab": {
          "base_uri": "https://localhost:8080/",
          "height": 441
        },
        "id": "d0Piy7_jLMcv",
        "outputId": "65b7d040-e19a-403b-de32-8a1cb7de917c"
      },
      "outputs": [
        {
          "output_type": "stream",
          "name": "stdout",
          "text": [
            "(200, 2)\n"
          ]
        },
        {
          "output_type": "execute_result",
          "data": {
            "text/plain": [
              "                                                review  rating\n",
              "0    \"I turned into a total zombie on this.  Litera...     1.0\n",
              "1    \"I took this yesterday after a whole night wit...    10.0\n",
              "2    \"I have been on Latuda 80mg for almost 2 month...     1.0\n",
              "3    \"I have been taking Victoza 1.2mg for about a ...     5.0\n",
              "4    \"I started Siliq 6 months ago at 90 % body cov...    10.0\n",
              "..                                                 ...     ...\n",
              "195  \"I took this pill next day after having unprot...    10.0\n",
              "196  \"I&#039;ve loved Nexplanon. The insertion was ...    10.0\n",
              "197  \"I receive the highest dose of this drug for s...     8.0\n",
              "198  \"I absolutely hate this medication. I had cold...     1.0\n",
              "199  \"As soon as rag weed season starts in the mid-...    10.0\n",
              "\n",
              "[200 rows x 2 columns]"
            ],
            "text/html": [
              "\n",
              "  <div id=\"df-c1570879-6580-48d8-8806-28f36ef6785d\" class=\"colab-df-container\">\n",
              "    <div>\n",
              "<style scoped>\n",
              "    .dataframe tbody tr th:only-of-type {\n",
              "        vertical-align: middle;\n",
              "    }\n",
              "\n",
              "    .dataframe tbody tr th {\n",
              "        vertical-align: top;\n",
              "    }\n",
              "\n",
              "    .dataframe thead th {\n",
              "        text-align: right;\n",
              "    }\n",
              "</style>\n",
              "<table border=\"1\" class=\"dataframe\">\n",
              "  <thead>\n",
              "    <tr style=\"text-align: right;\">\n",
              "      <th></th>\n",
              "      <th>review</th>\n",
              "      <th>rating</th>\n",
              "    </tr>\n",
              "  </thead>\n",
              "  <tbody>\n",
              "    <tr>\n",
              "      <th>0</th>\n",
              "      <td>\"I turned into a total zombie on this.  Litera...</td>\n",
              "      <td>1.0</td>\n",
              "    </tr>\n",
              "    <tr>\n",
              "      <th>1</th>\n",
              "      <td>\"I took this yesterday after a whole night wit...</td>\n",
              "      <td>10.0</td>\n",
              "    </tr>\n",
              "    <tr>\n",
              "      <th>2</th>\n",
              "      <td>\"I have been on Latuda 80mg for almost 2 month...</td>\n",
              "      <td>1.0</td>\n",
              "    </tr>\n",
              "    <tr>\n",
              "      <th>3</th>\n",
              "      <td>\"I have been taking Victoza 1.2mg for about a ...</td>\n",
              "      <td>5.0</td>\n",
              "    </tr>\n",
              "    <tr>\n",
              "      <th>4</th>\n",
              "      <td>\"I started Siliq 6 months ago at 90 % body cov...</td>\n",
              "      <td>10.0</td>\n",
              "    </tr>\n",
              "    <tr>\n",
              "      <th>...</th>\n",
              "      <td>...</td>\n",
              "      <td>...</td>\n",
              "    </tr>\n",
              "    <tr>\n",
              "      <th>195</th>\n",
              "      <td>\"I took this pill next day after having unprot...</td>\n",
              "      <td>10.0</td>\n",
              "    </tr>\n",
              "    <tr>\n",
              "      <th>196</th>\n",
              "      <td>\"I&amp;#039;ve loved Nexplanon. The insertion was ...</td>\n",
              "      <td>10.0</td>\n",
              "    </tr>\n",
              "    <tr>\n",
              "      <th>197</th>\n",
              "      <td>\"I receive the highest dose of this drug for s...</td>\n",
              "      <td>8.0</td>\n",
              "    </tr>\n",
              "    <tr>\n",
              "      <th>198</th>\n",
              "      <td>\"I absolutely hate this medication. I had cold...</td>\n",
              "      <td>1.0</td>\n",
              "    </tr>\n",
              "    <tr>\n",
              "      <th>199</th>\n",
              "      <td>\"As soon as rag weed season starts in the mid-...</td>\n",
              "      <td>10.0</td>\n",
              "    </tr>\n",
              "  </tbody>\n",
              "</table>\n",
              "<p>200 rows × 2 columns</p>\n",
              "</div>\n",
              "    <div class=\"colab-df-buttons\">\n",
              "\n",
              "  <div class=\"colab-df-container\">\n",
              "    <button class=\"colab-df-convert\" onclick=\"convertToInteractive('df-c1570879-6580-48d8-8806-28f36ef6785d')\"\n",
              "            title=\"Convert this dataframe to an interactive table.\"\n",
              "            style=\"display:none;\">\n",
              "\n",
              "  <svg xmlns=\"http://www.w3.org/2000/svg\" height=\"24px\" viewBox=\"0 -960 960 960\">\n",
              "    <path d=\"M120-120v-720h720v720H120Zm60-500h600v-160H180v160Zm220 220h160v-160H400v160Zm0 220h160v-160H400v160ZM180-400h160v-160H180v160Zm440 0h160v-160H620v160ZM180-180h160v-160H180v160Zm440 0h160v-160H620v160Z\"/>\n",
              "  </svg>\n",
              "    </button>\n",
              "\n",
              "  <style>\n",
              "    .colab-df-container {\n",
              "      display:flex;\n",
              "      gap: 12px;\n",
              "    }\n",
              "\n",
              "    .colab-df-convert {\n",
              "      background-color: #E8F0FE;\n",
              "      border: none;\n",
              "      border-radius: 50%;\n",
              "      cursor: pointer;\n",
              "      display: none;\n",
              "      fill: #1967D2;\n",
              "      height: 32px;\n",
              "      padding: 0 0 0 0;\n",
              "      width: 32px;\n",
              "    }\n",
              "\n",
              "    .colab-df-convert:hover {\n",
              "      background-color: #E2EBFA;\n",
              "      box-shadow: 0px 1px 2px rgba(60, 64, 67, 0.3), 0px 1px 3px 1px rgba(60, 64, 67, 0.15);\n",
              "      fill: #174EA6;\n",
              "    }\n",
              "\n",
              "    .colab-df-buttons div {\n",
              "      margin-bottom: 4px;\n",
              "    }\n",
              "\n",
              "    [theme=dark] .colab-df-convert {\n",
              "      background-color: #3B4455;\n",
              "      fill: #D2E3FC;\n",
              "    }\n",
              "\n",
              "    [theme=dark] .colab-df-convert:hover {\n",
              "      background-color: #434B5C;\n",
              "      box-shadow: 0px 1px 3px 1px rgba(0, 0, 0, 0.15);\n",
              "      filter: drop-shadow(0px 1px 2px rgba(0, 0, 0, 0.3));\n",
              "      fill: #FFFFFF;\n",
              "    }\n",
              "  </style>\n",
              "\n",
              "    <script>\n",
              "      const buttonEl =\n",
              "        document.querySelector('#df-c1570879-6580-48d8-8806-28f36ef6785d button.colab-df-convert');\n",
              "      buttonEl.style.display =\n",
              "        google.colab.kernel.accessAllowed ? 'block' : 'none';\n",
              "\n",
              "      async function convertToInteractive(key) {\n",
              "        const element = document.querySelector('#df-c1570879-6580-48d8-8806-28f36ef6785d');\n",
              "        const dataTable =\n",
              "          await google.colab.kernel.invokeFunction('convertToInteractive',\n",
              "                                                    [key], {});\n",
              "        if (!dataTable) return;\n",
              "\n",
              "        const docLinkHtml = 'Like what you see? Visit the ' +\n",
              "          '<a target=\"_blank\" href=https://colab.research.google.com/notebooks/data_table.ipynb>data table notebook</a>'\n",
              "          + ' to learn more about interactive tables.';\n",
              "        element.innerHTML = '';\n",
              "        dataTable['output_type'] = 'display_data';\n",
              "        await google.colab.output.renderOutput(dataTable, element);\n",
              "        const docLink = document.createElement('div');\n",
              "        docLink.innerHTML = docLinkHtml;\n",
              "        element.appendChild(docLink);\n",
              "      }\n",
              "    </script>\n",
              "  </div>\n",
              "\n",
              "\n",
              "<div id=\"df-81095638-d2e8-441c-879e-65de115d4cb4\">\n",
              "  <button class=\"colab-df-quickchart\" onclick=\"quickchart('df-81095638-d2e8-441c-879e-65de115d4cb4')\"\n",
              "            title=\"Suggest charts\"\n",
              "            style=\"display:none;\">\n",
              "\n",
              "<svg xmlns=\"http://www.w3.org/2000/svg\" height=\"24px\"viewBox=\"0 0 24 24\"\n",
              "     width=\"24px\">\n",
              "    <g>\n",
              "        <path d=\"M19 3H5c-1.1 0-2 .9-2 2v14c0 1.1.9 2 2 2h14c1.1 0 2-.9 2-2V5c0-1.1-.9-2-2-2zM9 17H7v-7h2v7zm4 0h-2V7h2v10zm4 0h-2v-4h2v4z\"/>\n",
              "    </g>\n",
              "</svg>\n",
              "  </button>\n",
              "\n",
              "<style>\n",
              "  .colab-df-quickchart {\n",
              "      --bg-color: #E8F0FE;\n",
              "      --fill-color: #1967D2;\n",
              "      --hover-bg-color: #E2EBFA;\n",
              "      --hover-fill-color: #174EA6;\n",
              "      --disabled-fill-color: #AAA;\n",
              "      --disabled-bg-color: #DDD;\n",
              "  }\n",
              "\n",
              "  [theme=dark] .colab-df-quickchart {\n",
              "      --bg-color: #3B4455;\n",
              "      --fill-color: #D2E3FC;\n",
              "      --hover-bg-color: #434B5C;\n",
              "      --hover-fill-color: #FFFFFF;\n",
              "      --disabled-bg-color: #3B4455;\n",
              "      --disabled-fill-color: #666;\n",
              "  }\n",
              "\n",
              "  .colab-df-quickchart {\n",
              "    background-color: var(--bg-color);\n",
              "    border: none;\n",
              "    border-radius: 50%;\n",
              "    cursor: pointer;\n",
              "    display: none;\n",
              "    fill: var(--fill-color);\n",
              "    height: 32px;\n",
              "    padding: 0;\n",
              "    width: 32px;\n",
              "  }\n",
              "\n",
              "  .colab-df-quickchart:hover {\n",
              "    background-color: var(--hover-bg-color);\n",
              "    box-shadow: 0 1px 2px rgba(60, 64, 67, 0.3), 0 1px 3px 1px rgba(60, 64, 67, 0.15);\n",
              "    fill: var(--button-hover-fill-color);\n",
              "  }\n",
              "\n",
              "  .colab-df-quickchart-complete:disabled,\n",
              "  .colab-df-quickchart-complete:disabled:hover {\n",
              "    background-color: var(--disabled-bg-color);\n",
              "    fill: var(--disabled-fill-color);\n",
              "    box-shadow: none;\n",
              "  }\n",
              "\n",
              "  .colab-df-spinner {\n",
              "    border: 2px solid var(--fill-color);\n",
              "    border-color: transparent;\n",
              "    border-bottom-color: var(--fill-color);\n",
              "    animation:\n",
              "      spin 1s steps(1) infinite;\n",
              "  }\n",
              "\n",
              "  @keyframes spin {\n",
              "    0% {\n",
              "      border-color: transparent;\n",
              "      border-bottom-color: var(--fill-color);\n",
              "      border-left-color: var(--fill-color);\n",
              "    }\n",
              "    20% {\n",
              "      border-color: transparent;\n",
              "      border-left-color: var(--fill-color);\n",
              "      border-top-color: var(--fill-color);\n",
              "    }\n",
              "    30% {\n",
              "      border-color: transparent;\n",
              "      border-left-color: var(--fill-color);\n",
              "      border-top-color: var(--fill-color);\n",
              "      border-right-color: var(--fill-color);\n",
              "    }\n",
              "    40% {\n",
              "      border-color: transparent;\n",
              "      border-right-color: var(--fill-color);\n",
              "      border-top-color: var(--fill-color);\n",
              "    }\n",
              "    60% {\n",
              "      border-color: transparent;\n",
              "      border-right-color: var(--fill-color);\n",
              "    }\n",
              "    80% {\n",
              "      border-color: transparent;\n",
              "      border-right-color: var(--fill-color);\n",
              "      border-bottom-color: var(--fill-color);\n",
              "    }\n",
              "    90% {\n",
              "      border-color: transparent;\n",
              "      border-bottom-color: var(--fill-color);\n",
              "    }\n",
              "  }\n",
              "</style>\n",
              "\n",
              "  <script>\n",
              "    async function quickchart(key) {\n",
              "      const quickchartButtonEl =\n",
              "        document.querySelector('#' + key + ' button');\n",
              "      quickchartButtonEl.disabled = true;  // To prevent multiple clicks.\n",
              "      quickchartButtonEl.classList.add('colab-df-spinner');\n",
              "      try {\n",
              "        const charts = await google.colab.kernel.invokeFunction(\n",
              "            'suggestCharts', [key], {});\n",
              "      } catch (error) {\n",
              "        console.error('Error during call to suggestCharts:', error);\n",
              "      }\n",
              "      quickchartButtonEl.classList.remove('colab-df-spinner');\n",
              "      quickchartButtonEl.classList.add('colab-df-quickchart-complete');\n",
              "    }\n",
              "    (() => {\n",
              "      let quickchartButtonEl =\n",
              "        document.querySelector('#df-81095638-d2e8-441c-879e-65de115d4cb4 button');\n",
              "      quickchartButtonEl.style.display =\n",
              "        google.colab.kernel.accessAllowed ? 'block' : 'none';\n",
              "    })();\n",
              "  </script>\n",
              "</div>\n",
              "    </div>\n",
              "  </div>\n"
            ],
            "application/vnd.google.colaboratory.intrinsic+json": {
              "type": "dataframe",
              "variable_name": "df_test",
              "summary": "{\n  \"name\": \"df_test\",\n  \"rows\": 200,\n  \"fields\": [\n    {\n      \"column\": \"review\",\n      \"properties\": {\n        \"dtype\": \"string\",\n        \"num_unique_values\": 200,\n        \"samples\": [\n          \"\\\"There were negatives about this drug and I even put off taking it. I ended up starting it and as far as I can tell I have/had no side effects, I felt better quickly, I feel different. My racing mind had come back a little, as seroquel kept racing thoughts under control, I&#039;m all but weaned off seroquel. And Latuda is good. Its been months, since I started Latuda and I don&rsquo;t have a worry about taking it.\\\"\",\n          \"\\\"This is not all the doctors crack it up to be. I got my nexplanon inserted in February of 2017 and after a week I started bleeding and it has not stopped, it&#039;s currently July 2017. It also have taken away all of my energy and caused me to have severe mood problems. My doctor gave me estrogen pills to help with the bleeding but so far it hasn&#039;t stopped. Although, they did help with my mood. I never could remember to take my birth control pill, so I thought this was a good alternative, but it may be the worst decision that I have ever made. I&#039;m giving it one more month to see if anything changes then I&#039;m getting rid of it.\\\"\",\n          \"\\\"I have had the implanon since February 2012 and I hate it. The first 6 months were okay only had 2 periods on it not got pregnant but ive gained a lot of weight more than I did when I gave birth. Before birth I was 156 now im 198. I get bad headaches and stomache aches. My back always hurts and I always feel tired. I get dizzy alot and it scares me having our little girl while im driving. It has caused me to faint 1 time at home while my husband was there. I just want my energy back so I can do the things I want to with our little girl who is almost 2. I havent lost my sex drive but my husbands job is 1week on 1week off so I guess its hard to tell. I just want to feel normal and happy again. Im tired of the mood swings and depression also.\\\"\"\n        ],\n        \"semantic_type\": \"\",\n        \"description\": \"\"\n      }\n    },\n    {\n      \"column\": \"rating\",\n      \"properties\": {\n        \"dtype\": \"number\",\n        \"std\": 3.3354951114026465,\n        \"min\": 1.0,\n        \"max\": 10.0,\n        \"num_unique_values\": 10,\n        \"samples\": [\n          8.0,\n          10.0,\n          6.0\n        ],\n        \"semantic_type\": \"\",\n        \"description\": \"\"\n      }\n    }\n  ]\n}"
            }
          },
          "metadata": {},
          "execution_count": 62
        }
      ],
      "source": [
        "# Print the sub-test set.\n",
        "print(df_test.shape)\n",
        "df_test"
      ]
    },
    {
      "cell_type": "markdown",
      "metadata": {
        "id": "mJAK0LFMdp40"
      },
      "source": [
        "## 3.2. Transform the `rating` column into a binary variable\n",
        "\n",
        "Here, we transform the prediction outcome into a binary variable to simplify it a bit, which changes our final model from a regression model into a **classification model**. The binary variable is saved in a new column called `pos_rating`.\n",
        "If the rating is equal to or greater than 5, set it to 1. Otherwise, set it to 0."
      ]
    },
    {
      "cell_type": "code",
      "execution_count": 65,
      "metadata": {
        "id": "z0kHZMmx4Hzf"
      },
      "outputs": [],
      "source": [
        "import numpy as np\n",
        "\n",
        "# Frist, transform the column type of `rating` to int.\n",
        "# Then, if the rating is equal to or greater than 5, set it to 1.\n",
        "# Otherwise, set it to 0.\n",
        "df_train['rating'] = df_train['rating'].apply(np.int64)\n",
        "df_train['pos_rating'] = df_train['rating'].apply(lambda x: 1 if x >= 5 else 0)\n",
        "\n",
        "df_test['rating'] = df_test['rating'].apply(np.int64)\n",
        "df_test['pos_rating'] = df_test['rating'].apply(lambda x: 1 if x >= 5 else 0)\n",
        "\n",
        "# More about apply and lambda could be found:\n",
        "# Pandas apply function:\n",
        "# https://medium.com/analytics-vidhya/no-more-confusion-between-apply-map-and-applymap-f982bb98c099\n",
        "# https://www.geeksforgeeks.org/difference-between-map-applymap-and-apply-methods-in-pandas/\n",
        "# Python lambda function:\n",
        "# https://realpython.com/python-lambda/"
      ]
    },
    {
      "cell_type": "code",
      "execution_count": 66,
      "metadata": {
        "colab": {
          "base_uri": "https://localhost:8080/"
        },
        "id": "qItdGFYbXtiD",
        "outputId": "d5d1a940-7fdc-4c3b-90a9-a7458354c689"
      },
      "outputs": [
        {
          "output_type": "stream",
          "name": "stdout",
          "text": [
            "Train set:\n",
            "1    608\n",
            "0    192\n",
            "Name: pos_rating, dtype: int64\n",
            "\n",
            "Test set:\n",
            "1    150\n",
            "0     50\n",
            "Name: pos_rating, dtype: int64\n"
          ]
        }
      ],
      "source": [
        "# Numbers of rating group by rating.\n",
        "print(\"Train set:\")\n",
        "print(df_train['pos_rating'].value_counts())\n",
        "print()\n",
        "print(\"Test set:\")\n",
        "print(df_test['pos_rating'].value_counts())"
      ]
    },
    {
      "cell_type": "code",
      "execution_count": 67,
      "metadata": {
        "colab": {
          "base_uri": "https://localhost:8080/"
        },
        "id": "C3BvmK7CnYFT",
        "outputId": "ec97828f-323c-4b80-8d95-c26876ef82e7"
      },
      "outputs": [
        {
          "output_type": "stream",
          "name": "stdout",
          "text": [
            "Train set: (800, 3)\n",
            "Test set: (200, 3)\n"
          ]
        }
      ],
      "source": [
        "# Print the shape of the dataset.\n",
        "print(f\"Train set: {df_train.shape}\")\n",
        "print(f\"Test set: {df_test.shape}\")"
      ]
    },
    {
      "cell_type": "code",
      "execution_count": 81,
      "metadata": {
        "id": "xHWNG2f2nYCw"
      },
      "outputs": [],
      "source": [
        "# Prepare our dataset for vectorization.\n",
        "X_train, y_train = df_train['review'], df_train['pos_rating']\n",
        "X_test, y_test = df_test['review'], df_test['pos_rating']"
      ]
    },
    {
      "cell_type": "markdown",
      "metadata": {
        "id": "qs_qwifQjGcg"
      },
      "source": [
        "---\n",
        "\n",
        "# Vectorization\n",
        "\n",
        "Vectorization is the process of converting data into a format that can be operated on by computers more efficiently. In the context of NLP, vectorization involves representing textual data as numerical vectors (or a series of numbers), making it easier for algorithms to process and analyze.\n",
        "\n",
        "Likewise, as we cannot use the `review` column (which is in text format) for modelling directly. We need to find ways to convert it into a series of numbers for further computation and modelling, or in other words, to **vectorize** them. Here, we demonstrate two methods to do so (section 4 and 5 below), both using TF-IDF (term frequency-inverse document frequency).\n",
        "\n",
        "\n",
        "TF-IDF is a simple technique in NLP to understand the relative importance of a word in a document or a collection of documents.\n",
        "\n",
        "* The TF part (Term Frequency) measures how often a word appears in a document. If a word appears many times in a document, it's likely important.\n",
        "\n",
        "* The IDF part (Inverse Document Frequency) measures how unique or rare a word is relative to all documents. If a word appears rarely in many documents, it's likely significant. In contrast, if a word appears across multiple documents (e.g. \"the\", \"a\", \"it\"), it's likely insignificant.\n",
        "\n",
        "Combining these measures, TF-IDF gives higher weight to words that appear often in a document but rarely in other documents. This helps identify the importance of words in distinguishing one document from another."
      ]
    },
    {
      "cell_type": "markdown",
      "metadata": {
        "id": "WaiwZlzUeVsY"
      },
      "source": [
        "---\n",
        "\n",
        "# 4. Option A: Directly Apply TF-IDF to Embed Textual Data"
      ]
    },
    {
      "cell_type": "markdown",
      "metadata": {
        "id": "t65ZnKdVinao"
      },
      "source": [
        "**1. Set up the TF-IDF vectorizer**"
      ]
    },
    {
      "cell_type": "code",
      "execution_count": 69,
      "metadata": {
        "id": "EKPYU_SY_S9S"
      },
      "outputs": [],
      "source": [
        "from sklearn.feature_extraction.text import TfidfVectorizer\n",
        "vectorizer = TfidfVectorizer()"
      ]
    },
    {
      "cell_type": "markdown",
      "metadata": {
        "id": "8vgsSYXRit0v"
      },
      "source": [
        "**2. Perform the TF-IDF vectorization**"
      ]
    },
    {
      "cell_type": "code",
      "execution_count": 70,
      "metadata": {
        "id": "AU__1VUAA53b"
      },
      "outputs": [],
      "source": [
        "# Perform the TF-IDF vectorization.\n",
        "x_train_tfidf_a = vectorizer.fit_transform(X_train)\n",
        "x_test_tfidf_a = vectorizer.transform(X_test)"
      ]
    },
    {
      "cell_type": "code",
      "execution_count": 71,
      "metadata": {
        "colab": {
          "base_uri": "https://localhost:8080/"
        },
        "id": "AWMK4CSiYlJL",
        "outputId": "e0f284ac-5f8e-45e9-99bf-b7a3ea3dbb07"
      },
      "outputs": [
        {
          "output_type": "stream",
          "name": "stdout",
          "text": [
            "Train set: (800, 5200)\n",
            "Test set: (200, 5200)\n"
          ]
        }
      ],
      "source": [
        "# Check the dimensions of the vectoried dataset.\n",
        "# Note that there is a total of 5,200 words (features) in our corpus.\n",
        "print(f\"Train set: {x_train_tfidf_a.shape}\")\n",
        "print(f\"Test set: {x_test_tfidf_a.shape}\")"
      ]
    },
    {
      "cell_type": "code",
      "execution_count": 75,
      "metadata": {
        "id": "MTUodZQIAFwf",
        "colab": {
          "base_uri": "https://localhost:8080/"
        },
        "outputId": "e8e51279-9ba8-4b4d-9307-dd7e2d878e12"
      },
      "outputs": [
        {
          "output_type": "execute_result",
          "data": {
            "text/plain": [
              "array([[0., 0., 0., ..., 0., 0., 0.],\n",
              "       [0., 0., 0., ..., 0., 0., 0.],\n",
              "       [0., 0., 0., ..., 0., 0., 0.],\n",
              "       ...,\n",
              "       [0., 0., 0., ..., 0., 0., 0.],\n",
              "       [0., 0., 0., ..., 0., 0., 0.],\n",
              "       [0., 0., 0., ..., 0., 0., 0.]])"
            ]
          },
          "metadata": {},
          "execution_count": 75
        }
      ],
      "source": [
        "# A preview of the vectoried results. As there are 5,200 words in our corpus and\n",
        "# each review only includes a handful of words, most of the entires would be 0,\n",
        "# indicating no occurence of those words in that specific review.\n",
        "x_train_tfidf_a.toarray()"
      ]
    },
    {
      "cell_type": "markdown",
      "metadata": {
        "id": "HG3OKFaQXy26"
      },
      "source": [
        "---\n",
        "\n",
        "# 5. Option B: Use NLP-specific Data Preprocessing Steps and TF-IDF to Embed Textual Data\n",
        "\n",
        "In NLP, data preprocessing aims to clean and prepare text data so that computers can understand and analyze it better. This involves tasks like removing unnecessary information (like punctuation or special characters), converting text to lowercase, and splitting text into individual words or tokens. The goal is to make the text data **consistent and easier** for algorithms to work with, helping them to extract meaningful insights or perform tasks like sentiment analysis or language translation more accurately. Applying these preprocessing steps would also result in a smaller corpus (from 5,200 words to 4,509 in this example)."
      ]
    },
    {
      "cell_type": "markdown",
      "metadata": {
        "id": "kQg3ijqN0qNG"
      },
      "source": [
        "Let us look at a specific review and see how various NLP steps transform the sentence."
      ]
    },
    {
      "cell_type": "code",
      "execution_count": 76,
      "metadata": {
        "colab": {
          "base_uri": "https://localhost:8080/",
          "height": 122
        },
        "id": "v03UEMDvkrFz",
        "outputId": "4045aaf7-c633-41a7-c695-30a0d66975db"
      },
      "outputs": [
        {
          "output_type": "execute_result",
          "data": {
            "text/plain": [
              "'\"Hi there,\\r\\n\\r\\nI also wanted to write a positive review. The first few days of having the Copper IUD was difficult. IBprofin became my best friend. I was bloated and swollen in my abdomen area for the first week but after that everything was fine. I did experience my first period recently and honestly it wasn&#039;t that bad. My period before the IUD lasted about 5 days with medium flow. Once I got the IUD and on my next period, it was light the first two days with cramping 2 days before and about 3-4 days during my period. On the 3rd and 4th day of my period, it was pretty heavy heavy but after that went back to a normal flow. Definitely advise to have super size tampons if your getting the copper IUD. Honestly I&#039;m fine with my period and was expecting it to be heavier, nice thing the heavy flow didn&#039;t last that long. In total my period was about 7 days. I think I&#039;ll get use to it. I&#039;m really happy with it and haven&#039;t experienced any other side effects since my period ended... no spotting, nothing :-)\"'"
            ],
            "application/vnd.google.colaboratory.intrinsic+json": {
              "type": "string"
            }
          },
          "metadata": {},
          "execution_count": 76
        }
      ],
      "source": [
        "# the original review\n",
        "X_train[1]"
      ]
    },
    {
      "cell_type": "markdown",
      "metadata": {
        "id": "fQR2aMNBZztD"
      },
      "source": [
        "**1. Convert all characters to lower case**"
      ]
    },
    {
      "cell_type": "code",
      "execution_count": 82,
      "metadata": {
        "id": "486znitlFogE"
      },
      "outputs": [],
      "source": [
        "X_train = X_train.apply(lambda x: \" \".join(x.lower() for x in str(x).split()))\n",
        "X_test = X_test.apply(lambda x: \" \".join(x.lower() for x in str(x).split()))"
      ]
    },
    {
      "cell_type": "code",
      "execution_count": 83,
      "metadata": {
        "colab": {
          "base_uri": "https://localhost:8080/",
          "height": 122
        },
        "id": "U9Kj7C3Dk9vE",
        "outputId": "5c8ad246-8a65-480a-c5aa-177d1d864679"
      },
      "outputs": [
        {
          "output_type": "execute_result",
          "data": {
            "text/plain": [
              "'\"hi there, i also wanted to write a positive review. the first few days of having the copper iud was difficult. ibprofin became my best friend. i was bloated and swollen in my abdomen area for the first week but after that everything was fine. i did experience my first period recently and honestly it wasn&#039;t that bad. my period before the iud lasted about 5 days with medium flow. once i got the iud and on my next period, it was light the first two days with cramping 2 days before and about 3-4 days during my period. on the 3rd and 4th day of my period, it was pretty heavy heavy but after that went back to a normal flow. definitely advise to have super size tampons if your getting the copper iud. honestly i&#039;m fine with my period and was expecting it to be heavier, nice thing the heavy flow didn&#039;t last that long. in total my period was about 7 days. i think i&#039;ll get use to it. i&#039;m really happy with it and haven&#039;t experienced any other side effects since my period ended... no spotting, nothing :-)\"'"
            ],
            "application/vnd.google.colaboratory.intrinsic+json": {
              "type": "string"
            }
          },
          "metadata": {},
          "execution_count": 83
        }
      ],
      "source": [
        "X_train[1]"
      ]
    },
    {
      "cell_type": "markdown",
      "metadata": {
        "id": "ECUMdvGPaoKV"
      },
      "source": [
        "**2. Remove non-alphabetical characters**"
      ]
    },
    {
      "cell_type": "code",
      "execution_count": 84,
      "metadata": {
        "id": "NhszFQ3vFojC"
      },
      "outputs": [],
      "source": [
        "import nltk # package for general NLP\n",
        "import re\n",
        "\n",
        "X_train = X_train.apply(lambda x: \" \".join([re.sub(\"[^A-Za-z]+\",\"\", x) for x in nltk.word_tokenize(x)]))\n",
        "X_test = X_test.apply(lambda x: \" \".join([re.sub(\"[^A-Za-z]+\",\"\", x) for x in nltk.word_tokenize(x)]))"
      ]
    },
    {
      "cell_type": "code",
      "execution_count": 85,
      "metadata": {
        "colab": {
          "base_uri": "https://localhost:8080/",
          "height": 122
        },
        "id": "bjRKweQhlCB4",
        "outputId": "c14ed6cf-c900-49dc-f2b6-2f9ad285bc64"
      },
      "outputs": [
        {
          "output_type": "execute_result",
          "data": {
            "text/plain": [
              "' hi there  i also wanted to write a positive review  the first few days of having the copper iud was difficult  ibprofin became my best friend  i was bloated and swollen in my abdomen area for the first week but after that everything was fine  i did experience my first period recently and honestly it wasn     t that bad  my period before the iud lasted about  days with medium flow  once i got the iud and on my next period  it was light the first two days with cramping  days before and about  days during my period  on the rd and th day of my period  it was pretty heavy heavy but after that went back to a normal flow  definitely advise to have super size tampons if your getting the copper iud  honestly i     m fine with my period and was expecting it to be heavier  nice thing the heavy flow didn     t last that long  in total my period was about  days  i think i     ll get use to it  i     m really happy with it and haven     t experienced any other side effects since my period ended  no spotting  nothing    '"
            ],
            "application/vnd.google.colaboratory.intrinsic+json": {
              "type": "string"
            }
          },
          "metadata": {},
          "execution_count": 85
        }
      ],
      "source": [
        "X_train[1]"
      ]
    },
    {
      "cell_type": "markdown",
      "metadata": {
        "id": "RC2iwx2TaqAW"
      },
      "source": [
        "**3. Remove extra spaces**"
      ]
    },
    {
      "cell_type": "code",
      "execution_count": 86,
      "metadata": {
        "id": "A680UKF7GuIj"
      },
      "outputs": [],
      "source": [
        "X_train = X_train.apply(lambda x: re.sub(\" +\", \" \", x))\n",
        "X_test = X_test.apply(lambda x: re.sub(\" +\", \" \", x))"
      ]
    },
    {
      "cell_type": "code",
      "execution_count": 87,
      "metadata": {
        "colab": {
          "base_uri": "https://localhost:8080/",
          "height": 122
        },
        "id": "DLZroG6VlFWL",
        "outputId": "f7c1a80b-f712-4dab-bf15-147164556b2d"
      },
      "outputs": [
        {
          "output_type": "execute_result",
          "data": {
            "text/plain": [
              "' hi there i also wanted to write a positive review the first few days of having the copper iud was difficult ibprofin became my best friend i was bloated and swollen in my abdomen area for the first week but after that everything was fine i did experience my first period recently and honestly it wasn t that bad my period before the iud lasted about days with medium flow once i got the iud and on my next period it was light the first two days with cramping days before and about days during my period on the rd and th day of my period it was pretty heavy heavy but after that went back to a normal flow definitely advise to have super size tampons if your getting the copper iud honestly i m fine with my period and was expecting it to be heavier nice thing the heavy flow didn t last that long in total my period was about days i think i ll get use to it i m really happy with it and haven t experienced any other side effects since my period ended no spotting nothing '"
            ],
            "application/vnd.google.colaboratory.intrinsic+json": {
              "type": "string"
            }
          },
          "metadata": {},
          "execution_count": 87
        }
      ],
      "source": [
        "X_train[1]"
      ]
    },
    {
      "cell_type": "markdown",
      "metadata": {
        "id": "HDTR9ZP7atN5"
      },
      "source": [
        "**4. Remove the stopwords from corpus to reduce dimensions**\n",
        "\n",
        "Stop words are commonly used words (such as \"the\", \"a\", \"an\", \"in\") that a search engine has been programmed to ignore, both when indexing entries for searching and when retrieving them as the result of a search query. We would not want these words to take up space in our dataset, or taking up valuable processing time because they contain very limited information."
      ]
    },
    {
      "cell_type": "code",
      "execution_count": 88,
      "metadata": {
        "colab": {
          "base_uri": "https://localhost:8080/"
        },
        "id": "KqrPVTMEA6oJ",
        "outputId": "994bd7b5-6cc8-4459-96fa-98ce39c49a75"
      },
      "outputs": [
        {
          "output_type": "stream",
          "name": "stderr",
          "text": [
            "[nltk_data] Downloading package stopwords to /root/nltk_data...\n",
            "[nltk_data]   Unzipping corpora/stopwords.zip.\n"
          ]
        }
      ],
      "source": [
        "# Here, we download a predefined list of english stopwords from the package `nltk`\n",
        "nltk.download('stopwords')\n",
        "from nltk.corpus import stopwords\n",
        "stop = stopwords.words(\"english\")"
      ]
    },
    {
      "cell_type": "code",
      "execution_count": 91,
      "metadata": {
        "colab": {
          "base_uri": "https://localhost:8080/"
        },
        "id": "SifYU2ylWM8C",
        "outputId": "49b81a54-5444-40dc-e3b4-b0b98f9fd515"
      },
      "outputs": [
        {
          "output_type": "stream",
          "name": "stdout",
          "text": [
            "179\n",
            "['i', 'me', 'my', 'myself', 'we', 'our', 'ours', 'ourselves', 'you', \"you're\", \"you've\", \"you'll\", \"you'd\", 'your', 'yours', 'yourself', 'yourselves', 'he', 'him', 'his']\n"
          ]
        }
      ],
      "source": [
        "# Print the top 20 english stopwords.\n",
        "print(len(stop))\n",
        "print(stop[:20])"
      ]
    },
    {
      "cell_type": "code",
      "execution_count": 92,
      "metadata": {
        "id": "F07Flvd4D1kL"
      },
      "outputs": [],
      "source": [
        "X_train = X_train.apply(lambda x: \" \".join([x for x in x.split() if x not in stop]))\n",
        "X_test = X_test.apply(lambda x: \" \".join([x for x in x.split() if x not in stop]))"
      ]
    },
    {
      "cell_type": "code",
      "execution_count": 93,
      "metadata": {
        "colab": {
          "base_uri": "https://localhost:8080/",
          "height": 87
        },
        "id": "aIh1hDY_lI75",
        "outputId": "403851ca-cb77-458d-99ee-66f97df0967a"
      },
      "outputs": [
        {
          "output_type": "execute_result",
          "data": {
            "text/plain": [
              "'hi also wanted write positive review first days copper iud difficult ibprofin became best friend bloated swollen abdomen area first week everything fine experience first period recently honestly bad period iud lasted days medium flow got iud next period light first two days cramping days days period rd th day period pretty heavy heavy went back normal flow definitely advise super size tampons getting copper iud honestly fine period expecting heavier nice thing heavy flow last long total period days think get use really happy experienced side effects since period ended spotting nothing'"
            ],
            "application/vnd.google.colaboratory.intrinsic+json": {
              "type": "string"
            }
          },
          "metadata": {},
          "execution_count": 93
        }
      ],
      "source": [
        "X_train[1]\n",
        "# Note how the \"i\"s are removed"
      ]
    },
    {
      "cell_type": "markdown",
      "metadata": {
        "id": "hYbHCIHda5kx"
      },
      "source": [
        "**5. Lemmatization**\n",
        "\n",
        "Intuitively, lemmatization is about reducing words to their simplest form so that they can be understood better by computers. For example, \"drug\", \"drugs\" and \"drug's\" would be regarded as the same word and share the same token. This simplifies understanding and improves accuracy in NLP-related tasks.\n",
        "\n"
      ]
    },
    {
      "cell_type": "code",
      "execution_count": 104,
      "metadata": {
        "colab": {
          "base_uri": "https://localhost:8080/"
        },
        "id": "aZLHB1rtBm6S",
        "outputId": "bd8f8ba4-4c2f-4ee0-e3b2-e076b6115ae0"
      },
      "outputs": [
        {
          "output_type": "stream",
          "name": "stderr",
          "text": [
            "[nltk_data] Downloading package wordnet to /root/nltk_data...\n",
            "[nltk_data]   Package wordnet is already up-to-date!\n",
            "[nltk_data] Downloading package omw-1.4 to /root/nltk_data...\n",
            "[nltk_data]   Package omw-1.4 is already up-to-date!\n",
            "[nltk_data] Downloading package punkt to /root/nltk_data...\n",
            "[nltk_data]   Package punkt is already up-to-date!\n"
          ]
        }
      ],
      "source": [
        "from nltk.stem import WordNetLemmatizer\n",
        "nltk.download('wordnet')\n",
        "nltk.download('omw-1.4')\n",
        "nltk.download('punkt')\n",
        "lemmatizer = WordNetLemmatizer()"
      ]
    },
    {
      "cell_type": "code",
      "execution_count": 105,
      "metadata": {
        "id": "B2P7YBHPAGPg"
      },
      "outputs": [],
      "source": [
        "X_train = X_train.apply(lambda x: \" \".join([lemmatizer.lemmatize(w) for w in nltk.word_tokenize(x)]))\n",
        "X_test = X_test.apply(lambda x: \" \".join([lemmatizer.lemmatize(w) for w in nltk.word_tokenize(x)]))"
      ]
    },
    {
      "cell_type": "code",
      "execution_count": 106,
      "metadata": {
        "colab": {
          "base_uri": "https://localhost:8080/",
          "height": 87
        },
        "id": "SNT7tlveloiv",
        "outputId": "b7c9102f-dad6-453c-cd1c-12a24a83f712"
      },
      "outputs": [
        {
          "output_type": "execute_result",
          "data": {
            "text/plain": [
              "'hi also wanted write positive review first day copper iud difficult ibprofin became best friend bloated swollen abdomen area first week everything fine experience first period recently honestly bad period iud lasted day medium flow got iud next period light first two day cramping day day period rd th day period pretty heavy heavy went back normal flow definitely advise super size tampon getting copper iud honestly fine period expecting heavier nice thing heavy flow last long total period day think get use really happy experienced side effect since period ended spotting nothing'"
            ],
            "application/vnd.google.colaboratory.intrinsic+json": {
              "type": "string"
            }
          },
          "metadata": {},
          "execution_count": 106
        }
      ],
      "source": [
        "X_train[1]\n",
        "# Note how \"days\" are converted to \"day\""
      ]
    },
    {
      "cell_type": "markdown",
      "metadata": {
        "id": "IJCrkABAkkVo"
      },
      "source": [
        "**6. Perform the TF-IDF vectorization**"
      ]
    },
    {
      "cell_type": "code",
      "execution_count": 117,
      "metadata": {
        "id": "ARqFuLH9E_Gq"
      },
      "outputs": [],
      "source": [
        "x_train_tfidf_b = vectorizer.fit_transform(X_train)\n",
        "x_test_tfidf_b = vectorizer.transform(X_test)"
      ]
    },
    {
      "cell_type": "code",
      "execution_count": 118,
      "metadata": {
        "colab": {
          "base_uri": "https://localhost:8080/"
        },
        "id": "PNBN_5YJi1P7",
        "outputId": "984b6186-1b61-4a10-c56d-1397ed3bcedb"
      },
      "outputs": [
        {
          "output_type": "stream",
          "name": "stdout",
          "text": [
            "Train set: (800, 4506)\n",
            "Test set: (200, 4506)\n"
          ]
        }
      ],
      "source": [
        "# Check the dimensions of the vectoried dataset.\n",
        "# Note that there is a total of 4,509 word tokens (features) in our corpus,\n",
        "# which is less then that in Option A!\n",
        "print(f\"Train set: {x_train_tfidf_b.shape}\")\n",
        "print(f\"Test set: {x_test_tfidf_b.shape}\")"
      ]
    },
    {
      "cell_type": "code",
      "source": [
        "# the first 30 words in our corpus\n",
        "print(vectorizer.get_feature_names_out()[:30])"
      ],
      "metadata": {
        "colab": {
          "base_uri": "https://localhost:8080/"
        },
        "id": "xUtgvuoEMnsr",
        "outputId": "a70d773f-7479-4953-b8eb-c3a2d356aefe"
      },
      "execution_count": 119,
      "outputs": [
        {
          "output_type": "stream",
          "name": "stdout",
          "text": [
            "['abandon' 'abdomen' 'abdominal' 'abilify' 'ability' 'ablation' 'able'\n",
            " 'abnormal' 'abroad' 'abscess' 'absolute' 'absolutely' 'abt' 'abuse'\n",
            " 'abused' 'abut' 'ac' 'acanya' 'accept' 'acceptable' 'acceptably' 'access'\n",
            " 'accident' 'accidentally' 'accompanied' 'accompanying' 'accomplish'\n",
            " 'accomplishing' 'according' 'accutane']\n"
          ]
        }
      ]
    },
    {
      "cell_type": "code",
      "source": [
        "# A preview of the vectoried results. As each review only includes a handful of\n",
        "# words, most of the entires would be 0, indicating no occurence of those words\n",
        "# in that specific review.\n",
        "# The one non-zero entry below is due to the occurence of\n",
        "# the word 'abdomen' (index 1 in the corpus) of\n",
        "# the second review in the train set (`X_train[1]`).\n",
        "x_train_tfidf_b.toarray()"
      ],
      "metadata": {
        "colab": {
          "base_uri": "https://localhost:8080/"
        },
        "id": "B-eIBbmrMzWC",
        "outputId": "47f12757-f3ab-46ee-e914-10a0aa06faa6"
      },
      "execution_count": 120,
      "outputs": [
        {
          "output_type": "execute_result",
          "data": {
            "text/plain": [
              "array([[0.        , 0.        , 0.        , ..., 0.        , 0.        ,\n",
              "        0.        ],\n",
              "       [0.        , 0.11404118, 0.        , ..., 0.        , 0.        ,\n",
              "        0.        ],\n",
              "       [0.        , 0.        , 0.        , ..., 0.        , 0.        ,\n",
              "        0.        ],\n",
              "       ...,\n",
              "       [0.        , 0.        , 0.        , ..., 0.        , 0.        ,\n",
              "        0.        ],\n",
              "       [0.        , 0.        , 0.        , ..., 0.        , 0.        ,\n",
              "        0.        ],\n",
              "       [0.        , 0.        , 0.        , ..., 0.        , 0.        ,\n",
              "        0.        ]])"
            ]
          },
          "metadata": {},
          "execution_count": 120
        }
      ]
    },
    {
      "cell_type": "markdown",
      "metadata": {
        "id": "TJg_7AyE3Kys"
      },
      "source": [
        "---\n",
        "\n",
        "# 6. Model Development and Evaluation"
      ]
    },
    {
      "cell_type": "markdown",
      "metadata": {
        "id": "bxbDv6rwgvYA"
      },
      "source": [
        "Now, let's train a simple random forest model, with default settings, based on our list of 4,509 tokens/features from Option B to see if we can predict whether the rating is positive or not."
      ]
    },
    {
      "cell_type": "code",
      "execution_count": 123,
      "metadata": {
        "id": "Ezz6_ZtcnYAK"
      },
      "outputs": [],
      "source": [
        "from sklearn.ensemble import RandomForestClassifier\n",
        "from sklearn.metrics import classification_report, RocCurveDisplay"
      ]
    },
    {
      "cell_type": "code",
      "execution_count": 124,
      "metadata": {
        "id": "2Kahv2CJkmqU"
      },
      "outputs": [],
      "source": [
        "model_tfidf = RandomForestClassifier()"
      ]
    },
    {
      "cell_type": "code",
      "execution_count": 125,
      "metadata": {
        "colab": {
          "base_uri": "https://localhost:8080/",
          "height": 75
        },
        "id": "Nhi8Z54wMVbo",
        "outputId": "b7b17f70-3f53-407b-9849-1f259708866a"
      },
      "outputs": [
        {
          "output_type": "execute_result",
          "data": {
            "text/plain": [
              "RandomForestClassifier()"
            ],
            "text/html": [
              "<style>#sk-container-id-1 {color: black;background-color: white;}#sk-container-id-1 pre{padding: 0;}#sk-container-id-1 div.sk-toggleable {background-color: white;}#sk-container-id-1 label.sk-toggleable__label {cursor: pointer;display: block;width: 100%;margin-bottom: 0;padding: 0.3em;box-sizing: border-box;text-align: center;}#sk-container-id-1 label.sk-toggleable__label-arrow:before {content: \"▸\";float: left;margin-right: 0.25em;color: #696969;}#sk-container-id-1 label.sk-toggleable__label-arrow:hover:before {color: black;}#sk-container-id-1 div.sk-estimator:hover label.sk-toggleable__label-arrow:before {color: black;}#sk-container-id-1 div.sk-toggleable__content {max-height: 0;max-width: 0;overflow: hidden;text-align: left;background-color: #f0f8ff;}#sk-container-id-1 div.sk-toggleable__content pre {margin: 0.2em;color: black;border-radius: 0.25em;background-color: #f0f8ff;}#sk-container-id-1 input.sk-toggleable__control:checked~div.sk-toggleable__content {max-height: 200px;max-width: 100%;overflow: auto;}#sk-container-id-1 input.sk-toggleable__control:checked~label.sk-toggleable__label-arrow:before {content: \"▾\";}#sk-container-id-1 div.sk-estimator input.sk-toggleable__control:checked~label.sk-toggleable__label {background-color: #d4ebff;}#sk-container-id-1 div.sk-label input.sk-toggleable__control:checked~label.sk-toggleable__label {background-color: #d4ebff;}#sk-container-id-1 input.sk-hidden--visually {border: 0;clip: rect(1px 1px 1px 1px);clip: rect(1px, 1px, 1px, 1px);height: 1px;margin: -1px;overflow: hidden;padding: 0;position: absolute;width: 1px;}#sk-container-id-1 div.sk-estimator {font-family: monospace;background-color: #f0f8ff;border: 1px dotted black;border-radius: 0.25em;box-sizing: border-box;margin-bottom: 0.5em;}#sk-container-id-1 div.sk-estimator:hover {background-color: #d4ebff;}#sk-container-id-1 div.sk-parallel-item::after {content: \"\";width: 100%;border-bottom: 1px solid gray;flex-grow: 1;}#sk-container-id-1 div.sk-label:hover label.sk-toggleable__label {background-color: #d4ebff;}#sk-container-id-1 div.sk-serial::before {content: \"\";position: absolute;border-left: 1px solid gray;box-sizing: border-box;top: 0;bottom: 0;left: 50%;z-index: 0;}#sk-container-id-1 div.sk-serial {display: flex;flex-direction: column;align-items: center;background-color: white;padding-right: 0.2em;padding-left: 0.2em;position: relative;}#sk-container-id-1 div.sk-item {position: relative;z-index: 1;}#sk-container-id-1 div.sk-parallel {display: flex;align-items: stretch;justify-content: center;background-color: white;position: relative;}#sk-container-id-1 div.sk-item::before, #sk-container-id-1 div.sk-parallel-item::before {content: \"\";position: absolute;border-left: 1px solid gray;box-sizing: border-box;top: 0;bottom: 0;left: 50%;z-index: -1;}#sk-container-id-1 div.sk-parallel-item {display: flex;flex-direction: column;z-index: 1;position: relative;background-color: white;}#sk-container-id-1 div.sk-parallel-item:first-child::after {align-self: flex-end;width: 50%;}#sk-container-id-1 div.sk-parallel-item:last-child::after {align-self: flex-start;width: 50%;}#sk-container-id-1 div.sk-parallel-item:only-child::after {width: 0;}#sk-container-id-1 div.sk-dashed-wrapped {border: 1px dashed gray;margin: 0 0.4em 0.5em 0.4em;box-sizing: border-box;padding-bottom: 0.4em;background-color: white;}#sk-container-id-1 div.sk-label label {font-family: monospace;font-weight: bold;display: inline-block;line-height: 1.2em;}#sk-container-id-1 div.sk-label-container {text-align: center;}#sk-container-id-1 div.sk-container {/* jupyter's `normalize.less` sets `[hidden] { display: none; }` but bootstrap.min.css set `[hidden] { display: none !important; }` so we also need the `!important` here to be able to override the default hidden behavior on the sphinx rendered scikit-learn.org. See: https://github.com/scikit-learn/scikit-learn/issues/21755 */display: inline-block !important;position: relative;}#sk-container-id-1 div.sk-text-repr-fallback {display: none;}</style><div id=\"sk-container-id-1\" class=\"sk-top-container\"><div class=\"sk-text-repr-fallback\"><pre>RandomForestClassifier()</pre><b>In a Jupyter environment, please rerun this cell to show the HTML representation or trust the notebook. <br />On GitHub, the HTML representation is unable to render, please try loading this page with nbviewer.org.</b></div><div class=\"sk-container\" hidden><div class=\"sk-item\"><div class=\"sk-estimator sk-toggleable\"><input class=\"sk-toggleable__control sk-hidden--visually\" id=\"sk-estimator-id-1\" type=\"checkbox\" checked><label for=\"sk-estimator-id-1\" class=\"sk-toggleable__label sk-toggleable__label-arrow\">RandomForestClassifier</label><div class=\"sk-toggleable__content\"><pre>RandomForestClassifier()</pre></div></div></div></div></div>"
            ]
          },
          "metadata": {},
          "execution_count": 125
        }
      ],
      "source": [
        "model_tfidf.fit(x_train_tfidf_b, y_train)"
      ]
    },
    {
      "cell_type": "code",
      "execution_count": 134,
      "metadata": {
        "id": "M3P5scfLkxjI"
      },
      "outputs": [],
      "source": [
        "y_pred_tfidf = model_tfidf.predict(x_test_tfidf_b)"
      ]
    },
    {
      "cell_type": "code",
      "execution_count": 135,
      "metadata": {
        "colab": {
          "base_uri": "https://localhost:8080/"
        },
        "id": "20h6XG78Mrna",
        "outputId": "91533e15-1374-4cfc-a284-89b6ae76ae35"
      },
      "outputs": [
        {
          "output_type": "stream",
          "name": "stdout",
          "text": [
            "              precision    recall  f1-score   support\n",
            "\n",
            "           0       1.00      0.06      0.11        50\n",
            "           1       0.76      1.00      0.86       150\n",
            "\n",
            "    accuracy                           0.77       200\n",
            "   macro avg       0.88      0.53      0.49       200\n",
            "weighted avg       0.82      0.77      0.68       200\n",
            "\n"
          ]
        }
      ],
      "source": [
        "print(classification_report(y_test, y_pred_tfidf))"
      ]
    },
    {
      "cell_type": "code",
      "execution_count": 137,
      "metadata": {
        "colab": {
          "base_uri": "https://localhost:8080/",
          "height": 559
        },
        "id": "q3iR_9dXyQwx",
        "outputId": "5159a44e-469a-452b-d448-40fa78de91c6"
      },
      "outputs": [
        {
          "output_type": "execute_result",
          "data": {
            "text/plain": [
              "<sklearn.metrics._plot.roc_curve.RocCurveDisplay at 0x7dc6f3977b50>"
            ]
          },
          "metadata": {},
          "execution_count": 137
        },
        {
          "output_type": "display_data",
          "data": {
            "text/plain": [
              "<Figure size 600x600 with 1 Axes>"
            ],
            "image/png": "[encoded data removed]"
          },
          "metadata": {}
        }
      ],
      "source": [
        "import matplotlib.pyplot as plt\n",
        "fig, ax = plt.subplots(figsize=(6, 6)) # modify figure size\n",
        "RocCurveDisplay.from_estimator(model_tfidf, x_test_tfidf_b, y_test, ax = ax)"
      ]
    },
    {
      "cell_type": "code",
      "execution_count": 138,
      "metadata": {
        "colab": {
          "base_uri": "https://localhost:8080/"
        },
        "id": "Mwlh6noYvc17",
        "outputId": "17ee2a86-99c1-4e82-e68f-64ed6272c66a"
      },
      "outputs": [
        {
          "output_type": "execute_result",
          "data": {
            "text/plain": [
              "worst           0.010274\n",
              "horrible        0.010116\n",
              "made            0.009681\n",
              "worse           0.009382\n",
              "bleeding        0.009065\n",
              "                  ...   \n",
              "doryx           0.000000\n",
              "passion         0.000000\n",
              "dopaminergic    0.000000\n",
              "pastry          0.000000\n",
              "cyclen          0.000000\n",
              "Length: 4506, dtype: float64"
            ]
          },
          "metadata": {},
          "execution_count": 138
        }
      ],
      "source": [
        "model_tfidf_importance = pd.Series(model_tfidf.feature_importances_,\n",
        "                                   index=dict(sorted({v: k for k, v in vectorizer.vocabulary_.items()}.items())).values()).sort_values(ascending=False)\n",
        "model_tfidf_importance"
      ]
    },
    {
      "cell_type": "code",
      "execution_count": 142,
      "metadata": {
        "colab": {
          "base_uri": "https://localhost:8080/",
          "height": 847
        },
        "id": "0_kL27x6x0Pm",
        "outputId": "99882b60-69e9-4e14-ba06-9fd1ef448367"
      },
      "outputs": [
        {
          "output_type": "execute_result",
          "data": {
            "text/plain": [
              "<Axes: >"
            ]
          },
          "metadata": {},
          "execution_count": 142
        },
        {
          "output_type": "display_data",
          "data": {
            "text/plain": [
              "<Figure size 1000x1000 with 1 Axes>"
            ],
            "image/png": "[encoded data removed]"
          },
          "metadata": {}
        }
      ],
      "source": [
        "# show the 20 most influential word tokens\n",
        "import seaborn as sns\n",
        "\n",
        "plt.figure(figsize = (10, 10))\n",
        "sns.barplot(data = model_tfidf_importance[:20], orient='h')"
      ]
    },
    {
      "cell_type": "markdown",
      "metadata": {
        "id": "1HGtVcacetaC"
      },
      "source": [
        "---\n",
        "\n",
        "# 7. Extras: Using OpenAI to Embed the Text Data"
      ]
    },
    {
      "cell_type": "markdown",
      "metadata": {
        "id": "Mj0RKSdgpjBX"
      },
      "source": [
        "It is also possible to utilise **external models** and resources to obtain rich text embeddings and vectorizations. Sometimes this could help because these external **large language models** were trained on a very large body of text with a vast amount of model weights using advanced NLP techniques. Note that these are usually **paid services**, but are available for free within a certain usage as a free trial. Here, we would use OpenAI's (developer of ChatGPT) [embeddings model](https://platform.openai.com/docs/guides/embeddings/what-are-embeddings) to vectorize our data. However, note that in order to use their embeddings and run the code in this section, you have to have an [OpenAI account](https://platform.openai.com/signup) and obtain your own [OpenAI API key](https://help.openai.com/en/articles/4936850-where-do-i-find-my-secret-api-key)."
      ]
    },
    {
      "cell_type": "markdown",
      "metadata": {
        "id": "bTwHcnR39viM"
      },
      "source": [
        "## 7.1 Connecting to the OpenAI Environment"
      ]
    },
    {
      "cell_type": "code",
      "execution_count": 144,
      "metadata": {
        "colab": {
          "base_uri": "https://localhost:8080/"
        },
        "id": "zQgeuRTR5Irq",
        "outputId": "aa22138d-4eb8-4894-89ad-38e7b711169f"
      },
      "outputs": [
        {
          "output_type": "stream",
          "name": "stdout",
          "text": [
            "Collecting openai\n",
            "  Downloading openai-1.12.0-py3-none-any.whl (226 kB)\n",
            "\u001b[2K     \u001b[90m━━━━━━━━━━━━━━━━━━━━━━━━━━━━━━━━━━━━━━━━\u001b[0m \u001b[32m226.7/226.7 kB\u001b[0m \u001b[31m5.7 MB/s\u001b[0m eta \u001b[36m0:00:00\u001b[0m\n",
            "\u001b[?25hRequirement already satisfied: anyio<5,>=3.5.0 in /usr/local/lib/python3.10/dist-packages (from openai) (3.7.1)\n",
            "Requirement already satisfied: distro<2,>=1.7.0 in /usr/lib/python3/dist-packages (from openai) (1.7.0)\n",
            "Collecting httpx<1,>=0.23.0 (from openai)\n",
            "  Downloading httpx-0.27.0-py3-none-any.whl (75 kB)\n",
            "\u001b[2K     \u001b[90m━━━━━━━━━━━━━━━━━━━━━━━━━━━━━━━━━━━━━━━━\u001b[0m \u001b[32m75.6/75.6 kB\u001b[0m \u001b[31m10.2 MB/s\u001b[0m eta \u001b[36m0:00:00\u001b[0m\n",
            "\u001b[?25hRequirement already satisfied: pydantic<3,>=1.9.0 in /usr/local/lib/python3.10/dist-packages (from openai) (2.6.1)\n",
            "Requirement already satisfied: sniffio in /usr/local/lib/python3.10/dist-packages (from openai) (1.3.0)\n",
            "Requirement already satisfied: tqdm>4 in /usr/local/lib/python3.10/dist-packages (from openai) (4.66.2)\n",
            "Requirement already satisfied: typing-extensions<5,>=4.7 in /usr/local/lib/python3.10/dist-packages (from openai) (4.9.0)\n",
            "Requirement already satisfied: idna>=2.8 in /usr/local/lib/python3.10/dist-packages (from anyio<5,>=3.5.0->openai) (3.6)\n",
            "Requirement already satisfied: exceptiongroup in /usr/local/lib/python3.10/dist-packages (from anyio<5,>=3.5.0->openai) (1.2.0)\n",
            "Requirement already satisfied: certifi in /usr/local/lib/python3.10/dist-packages (from httpx<1,>=0.23.0->openai) (2024.2.2)\n",
            "Collecting httpcore==1.* (from httpx<1,>=0.23.0->openai)\n",
            "  Downloading httpcore-1.0.4-py3-none-any.whl (77 kB)\n",
            "\u001b[2K     \u001b[90m━━━━━━━━━━━━━━━━━━━━━━━━━━━━━━━━━━━━━━━━\u001b[0m \u001b[32m77.8/77.8 kB\u001b[0m \u001b[31m9.3 MB/s\u001b[0m eta \u001b[36m0:00:00\u001b[0m\n",
            "\u001b[?25hCollecting h11<0.15,>=0.13 (from httpcore==1.*->httpx<1,>=0.23.0->openai)\n",
            "  Downloading h11-0.14.0-py3-none-any.whl (58 kB)\n",
            "\u001b[2K     \u001b[90m━━━━━━━━━━━━━━━━━━━━━━━━━━━━━━━━━━━━━━━━\u001b[0m \u001b[32m58.3/58.3 kB\u001b[0m \u001b[31m7.6 MB/s\u001b[0m eta \u001b[36m0:00:00\u001b[0m\n",
            "\u001b[?25hRequirement already satisfied: annotated-types>=0.4.0 in /usr/local/lib/python3.10/dist-packages (from pydantic<3,>=1.9.0->openai) (0.6.0)\n",
            "Requirement already satisfied: pydantic-core==2.16.2 in /usr/local/lib/python3.10/dist-packages (from pydantic<3,>=1.9.0->openai) (2.16.2)\n",
            "Installing collected packages: h11, httpcore, httpx, openai\n",
            "Successfully installed h11-0.14.0 httpcore-1.0.4 httpx-0.27.0 openai-1.12.0\n"
          ]
        }
      ],
      "source": [
        "# Install openai package firt.\n",
        "!pip install openai"
      ]
    },
    {
      "cell_type": "code",
      "source": [
        "from openai import OpenAI\n",
        "\n",
        "# Set up OpenAI API Key.\n",
        "# **IMPORTANT: Be sure to replace this with your own key.**\n",
        "openai_api_key = \"Your_OpenAI_API_Key\"\n",
        "\n",
        "client = OpenAI(api_key=openai_api_key)\n",
        "\n",
        "def get_openai_embedding(text, model=\"text-embedding-ada-002\"):\n",
        "   text = text.replace(\"\\n\", \" \")\n",
        "   return client.embeddings.create(input = [text], model=model).data[0].embedding"
      ],
      "metadata": {
        "id": "v3zivmYdUXbR"
      },
      "execution_count": 158,
      "outputs": []
    },
    {
      "cell_type": "markdown",
      "metadata": {
        "id": "FLF4mHsNe-vQ"
      },
      "source": [
        "## 7.2. Apply OpenAI's Embeddings Model to the `review`s"
      ]
    },
    {
      "cell_type": "code",
      "execution_count": null,
      "metadata": {
        "id": "o0g_wymSe2iq"
      },
      "outputs": [],
      "source": [
        "# Vectorise the `review` column, save it into a new column called `embedding`\n",
        "# Note: this may take 15 mins or longer to run\n",
        "df_train['embedding'] = df_train['review'].apply(get_openai_embedding)\n",
        "df_test['embedding'] = df_test['review'].apply(get_openai_embedding)\n",
        "\n",
        "df_train.to_csv(os.path.join(work_path, \"train_ebd.csv\"), index=False)\n",
        "df_test.to_csv(os.path.join(work_path, \"test_ebd.csv\"), index=False)\n",
        "\n",
        "df_train"
      ]
    },
    {
      "cell_type": "code",
      "execution_count": null,
      "metadata": {
        "colab": {
          "base_uri": "https://localhost:8080/",
          "height": 424
        },
        "id": "AL-oO7H7GSCG",
        "outputId": "99345fcd-5fb8-438d-e625-47e124a124e3"
      },
      "outputs": [
        {
          "data": {
            "text/html": [
              "\n",
              "  <div id=\"df-1ef13d35-4220-4183-b9ca-3a9bfab6bed3\">\n",
              "    <div class=\"colab-df-container\">\n",
              "      <div>\n",
              "<style scoped>\n",
              "    .dataframe tbody tr th:only-of-type {\n",
              "        vertical-align: middle;\n",
              "    }\n",
              "\n",
              "    .dataframe tbody tr th {\n",
              "        vertical-align: top;\n",
              "    }\n",
              "\n",
              "    .dataframe thead th {\n",
              "        text-align: right;\n",
              "    }\n",
              "</style>\n",
              "<table border=\"1\" class=\"dataframe\">\n",
              "  <thead>\n",
              "    <tr style=\"text-align: right;\">\n",
              "      <th></th>\n",
              "      <th>rating</th>\n",
              "      <th>embedding</th>\n",
              "    </tr>\n",
              "  </thead>\n",
              "  <tbody>\n",
              "    <tr>\n",
              "      <th>0</th>\n",
              "      <td>0</td>\n",
              "      <td>[-0.020021311938762665, -0.0066970461048185825...</td>\n",
              "    </tr>\n",
              "    <tr>\n",
              "      <th>1</th>\n",
              "      <td>1</td>\n",
              "      <td>[-0.03104434907436371, -0.010345912538468838, ...</td>\n",
              "    </tr>\n",
              "    <tr>\n",
              "      <th>2</th>\n",
              "      <td>1</td>\n",
              "      <td>[-0.009887202642858028, -0.0012491806410253048...</td>\n",
              "    </tr>\n",
              "    <tr>\n",
              "      <th>3</th>\n",
              "      <td>1</td>\n",
              "      <td>[-0.01926681026816368, 0.01790885627269745, 0....</td>\n",
              "    </tr>\n",
              "    <tr>\n",
              "      <th>4</th>\n",
              "      <td>1</td>\n",
              "      <td>[-0.04033423960208893, -0.005322061944752932, ...</td>\n",
              "    </tr>\n",
              "    <tr>\n",
              "      <th>...</th>\n",
              "      <td>...</td>\n",
              "      <td>...</td>\n",
              "    </tr>\n",
              "    <tr>\n",
              "      <th>795</th>\n",
              "      <td>1</td>\n",
              "      <td>[-0.012448159046471119, -0.00443376787006855, ...</td>\n",
              "    </tr>\n",
              "    <tr>\n",
              "      <th>796</th>\n",
              "      <td>1</td>\n",
              "      <td>[-0.03957827761769295, -0.015751084312796593, ...</td>\n",
              "    </tr>\n",
              "    <tr>\n",
              "      <th>797</th>\n",
              "      <td>1</td>\n",
              "      <td>[-0.03470670059323311, -0.013816523365676403, ...</td>\n",
              "    </tr>\n",
              "    <tr>\n",
              "      <th>798</th>\n",
              "      <td>1</td>\n",
              "      <td>[-0.012469958513975143, 0.014196568168699741, ...</td>\n",
              "    </tr>\n",
              "    <tr>\n",
              "      <th>799</th>\n",
              "      <td>1</td>\n",
              "      <td>[-0.010141279548406601, 0.01799701526761055, 0...</td>\n",
              "    </tr>\n",
              "  </tbody>\n",
              "</table>\n",
              "<p>800 rows × 2 columns</p>\n",
              "</div>\n",
              "      <button class=\"colab-df-convert\" onclick=\"convertToInteractive('df-1ef13d35-4220-4183-b9ca-3a9bfab6bed3')\"\n",
              "              title=\"Convert this dataframe to an interactive table.\"\n",
              "              style=\"display:none;\">\n",
              "        \n",
              "  <svg xmlns=\"http://www.w3.org/2000/svg\" height=\"24px\"viewBox=\"0 0 24 24\"\n",
              "       width=\"24px\">\n",
              "    <path d=\"M0 0h24v24H0V0z\" fill=\"none\"/>\n",
              "    <path d=\"M18.56 5.44l.94 2.06.94-2.06 2.06-.94-2.06-.94-.94-2.06-.94 2.06-2.06.94zm-11 1L8.5 8.5l.94-2.06 2.06-.94-2.06-.94L8.5 2.5l-.94 2.06-2.06.94zm10 10l.94 2.06.94-2.06 2.06-.94-2.06-.94-.94-2.06-.94 2.06-2.06.94z\"/><path d=\"M17.41 7.96l-1.37-1.37c-.4-.4-.92-.59-1.43-.59-.52 0-1.04.2-1.43.59L10.3 9.45l-7.72 7.72c-.78.78-.78 2.05 0 2.83L4 21.41c.39.39.9.59 1.41.59.51 0 1.02-.2 1.41-.59l7.78-7.78 2.81-2.81c.8-.78.8-2.07 0-2.86zM5.41 20L4 18.59l7.72-7.72 1.47 1.35L5.41 20z\"/>\n",
              "  </svg>\n",
              "      </button>\n",
              "      \n",
              "  <style>\n",
              "    .colab-df-container {\n",
              "      display:flex;\n",
              "      flex-wrap:wrap;\n",
              "      gap: 12px;\n",
              "    }\n",
              "\n",
              "    .colab-df-convert {\n",
              "      background-color: #E8F0FE;\n",
              "      border: none;\n",
              "      border-radius: 50%;\n",
              "      cursor: pointer;\n",
              "      display: none;\n",
              "      fill: #1967D2;\n",
              "      height: 32px;\n",
              "      padding: 0 0 0 0;\n",
              "      width: 32px;\n",
              "    }\n",
              "\n",
              "    .colab-df-convert:hover {\n",
              "      background-color: #E2EBFA;\n",
              "      box-shadow: 0px 1px 2px rgba(60, 64, 67, 0.3), 0px 1px 3px 1px rgba(60, 64, 67, 0.15);\n",
              "      fill: #174EA6;\n",
              "    }\n",
              "\n",
              "    [theme=dark] .colab-df-convert {\n",
              "      background-color: #3B4455;\n",
              "      fill: #D2E3FC;\n",
              "    }\n",
              "\n",
              "    [theme=dark] .colab-df-convert:hover {\n",
              "      background-color: #434B5C;\n",
              "      box-shadow: 0px 1px 3px 1px rgba(0, 0, 0, 0.15);\n",
              "      filter: drop-shadow(0px 1px 2px rgba(0, 0, 0, 0.3));\n",
              "      fill: #FFFFFF;\n",
              "    }\n",
              "  </style>\n",
              "\n",
              "      <script>\n",
              "        const buttonEl =\n",
              "          document.querySelector('#df-1ef13d35-4220-4183-b9ca-3a9bfab6bed3 button.colab-df-convert');\n",
              "        buttonEl.style.display =\n",
              "          google.colab.kernel.accessAllowed ? 'block' : 'none';\n",
              "\n",
              "        async function convertToInteractive(key) {\n",
              "          const element = document.querySelector('#df-1ef13d35-4220-4183-b9ca-3a9bfab6bed3');\n",
              "          const dataTable =\n",
              "            await google.colab.kernel.invokeFunction('convertToInteractive',\n",
              "                                                     [key], {});\n",
              "          if (!dataTable) return;\n",
              "\n",
              "          const docLinkHtml = 'Like what you see? Visit the ' +\n",
              "            '<a target=\"_blank\" href=https://colab.research.google.com/notebooks/data_table.ipynb>data table notebook</a>'\n",
              "            + ' to learn more about interactive tables.';\n",
              "          element.innerHTML = '';\n",
              "          dataTable['output_type'] = 'display_data';\n",
              "          await google.colab.output.renderOutput(dataTable, element);\n",
              "          const docLink = document.createElement('div');\n",
              "          docLink.innerHTML = docLinkHtml;\n",
              "          element.appendChild(docLink);\n",
              "        }\n",
              "      </script>\n",
              "    </div>\n",
              "  </div>\n",
              "  "
            ],
            "text/plain": [
              "     rating                                          embedding\n",
              "0         0  [-0.020021311938762665, -0.0066970461048185825...\n",
              "1         1  [-0.03104434907436371, -0.010345912538468838, ...\n",
              "2         1  [-0.009887202642858028, -0.0012491806410253048...\n",
              "3         1  [-0.01926681026816368, 0.01790885627269745, 0....\n",
              "4         1  [-0.04033423960208893, -0.005322061944752932, ...\n",
              "..      ...                                                ...\n",
              "795       1  [-0.012448159046471119, -0.00443376787006855, ...\n",
              "796       1  [-0.03957827761769295, -0.015751084312796593, ...\n",
              "797       1  [-0.03470670059323311, -0.013816523365676403, ...\n",
              "798       1  [-0.012469958513975143, 0.014196568168699741, ...\n",
              "799       1  [-0.010141279548406601, 0.01799701526761055, 0...\n",
              "\n",
              "[800 rows x 2 columns]"
            ]
          },
          "execution_count": 65,
          "metadata": {},
          "output_type": "execute_result"
        }
      ],
      "source": [
        "train_ebd = pd.read_csv(os.path.join(work_path, \"train_ebd.csv\"))\n",
        "train_ebd['embedding'] = train_ebd.embedding.apply(eval).apply(np.array)\n",
        "\n",
        "train_ebd = train_ebd[['pos_rating', 'embedding']]\n",
        "train_ebd"
      ]
    },
    {
      "cell_type": "code",
      "execution_count": null,
      "metadata": {
        "colab": {
          "base_uri": "https://localhost:8080/",
          "height": 424
        },
        "id": "V4KckO7AfIi7",
        "outputId": "ce1dd72f-a1d2-4145-e6b5-800f848e7b6e"
      },
      "outputs": [
        {
          "data": {
            "text/html": [
              "\n",
              "  <div id=\"df-e114e980-299b-46e3-89c6-a2d26b315b22\">\n",
              "    <div class=\"colab-df-container\">\n",
              "      <div>\n",
              "<style scoped>\n",
              "    .dataframe tbody tr th:only-of-type {\n",
              "        vertical-align: middle;\n",
              "    }\n",
              "\n",
              "    .dataframe tbody tr th {\n",
              "        vertical-align: top;\n",
              "    }\n",
              "\n",
              "    .dataframe thead th {\n",
              "        text-align: right;\n",
              "    }\n",
              "</style>\n",
              "<table border=\"1\" class=\"dataframe\">\n",
              "  <thead>\n",
              "    <tr style=\"text-align: right;\">\n",
              "      <th></th>\n",
              "      <th>rating</th>\n",
              "      <th>embedding</th>\n",
              "    </tr>\n",
              "  </thead>\n",
              "  <tbody>\n",
              "    <tr>\n",
              "      <th>0</th>\n",
              "      <td>0</td>\n",
              "      <td>[-0.016931885853409767, -0.0051310695707798, 0...</td>\n",
              "    </tr>\n",
              "    <tr>\n",
              "      <th>1</th>\n",
              "      <td>1</td>\n",
              "      <td>[-0.00980688538402319, 0.00024382547417189926,...</td>\n",
              "    </tr>\n",
              "    <tr>\n",
              "      <th>2</th>\n",
              "      <td>0</td>\n",
              "      <td>[-0.007015461102128029, 0.01202203519642353, 0...</td>\n",
              "    </tr>\n",
              "    <tr>\n",
              "      <th>3</th>\n",
              "      <td>1</td>\n",
              "      <td>[-0.011468385346233845, -0.028590109199285507,...</td>\n",
              "    </tr>\n",
              "    <tr>\n",
              "      <th>4</th>\n",
              "      <td>1</td>\n",
              "      <td>[0.007943474687635899, 0.0037498159799724817, ...</td>\n",
              "    </tr>\n",
              "    <tr>\n",
              "      <th>...</th>\n",
              "      <td>...</td>\n",
              "      <td>...</td>\n",
              "    </tr>\n",
              "    <tr>\n",
              "      <th>195</th>\n",
              "      <td>1</td>\n",
              "      <td>[-0.03534695506095886, -0.008992795832455158, ...</td>\n",
              "    </tr>\n",
              "    <tr>\n",
              "      <th>196</th>\n",
              "      <td>1</td>\n",
              "      <td>[-0.04101385176181793, 0.0009351476328447461, ...</td>\n",
              "    </tr>\n",
              "    <tr>\n",
              "      <th>197</th>\n",
              "      <td>1</td>\n",
              "      <td>[-0.016397397965192795, 0.019382361322641373, ...</td>\n",
              "    </tr>\n",
              "    <tr>\n",
              "      <th>198</th>\n",
              "      <td>0</td>\n",
              "      <td>[-0.00025293021462857723, 0.021311169490218163...</td>\n",
              "    </tr>\n",
              "    <tr>\n",
              "      <th>199</th>\n",
              "      <td>1</td>\n",
              "      <td>[-0.014106092043220997, 0.013114674016833305, ...</td>\n",
              "    </tr>\n",
              "  </tbody>\n",
              "</table>\n",
              "<p>200 rows × 2 columns</p>\n",
              "</div>\n",
              "      <button class=\"colab-df-convert\" onclick=\"convertToInteractive('df-e114e980-299b-46e3-89c6-a2d26b315b22')\"\n",
              "              title=\"Convert this dataframe to an interactive table.\"\n",
              "              style=\"display:none;\">\n",
              "        \n",
              "  <svg xmlns=\"http://www.w3.org/2000/svg\" height=\"24px\"viewBox=\"0 0 24 24\"\n",
              "       width=\"24px\">\n",
              "    <path d=\"M0 0h24v24H0V0z\" fill=\"none\"/>\n",
              "    <path d=\"M18.56 5.44l.94 2.06.94-2.06 2.06-.94-2.06-.94-.94-2.06-.94 2.06-2.06.94zm-11 1L8.5 8.5l.94-2.06 2.06-.94-2.06-.94L8.5 2.5l-.94 2.06-2.06.94zm10 10l.94 2.06.94-2.06 2.06-.94-2.06-.94-.94-2.06-.94 2.06-2.06.94z\"/><path d=\"M17.41 7.96l-1.37-1.37c-.4-.4-.92-.59-1.43-.59-.52 0-1.04.2-1.43.59L10.3 9.45l-7.72 7.72c-.78.78-.78 2.05 0 2.83L4 21.41c.39.39.9.59 1.41.59.51 0 1.02-.2 1.41-.59l7.78-7.78 2.81-2.81c.8-.78.8-2.07 0-2.86zM5.41 20L4 18.59l7.72-7.72 1.47 1.35L5.41 20z\"/>\n",
              "  </svg>\n",
              "      </button>\n",
              "      \n",
              "  <style>\n",
              "    .colab-df-container {\n",
              "      display:flex;\n",
              "      flex-wrap:wrap;\n",
              "      gap: 12px;\n",
              "    }\n",
              "\n",
              "    .colab-df-convert {\n",
              "      background-color: #E8F0FE;\n",
              "      border: none;\n",
              "      border-radius: 50%;\n",
              "      cursor: pointer;\n",
              "      display: none;\n",
              "      fill: #1967D2;\n",
              "      height: 32px;\n",
              "      padding: 0 0 0 0;\n",
              "      width: 32px;\n",
              "    }\n",
              "\n",
              "    .colab-df-convert:hover {\n",
              "      background-color: #E2EBFA;\n",
              "      box-shadow: 0px 1px 2px rgba(60, 64, 67, 0.3), 0px 1px 3px 1px rgba(60, 64, 67, 0.15);\n",
              "      fill: #174EA6;\n",
              "    }\n",
              "\n",
              "    [theme=dark] .colab-df-convert {\n",
              "      background-color: #3B4455;\n",
              "      fill: #D2E3FC;\n",
              "    }\n",
              "\n",
              "    [theme=dark] .colab-df-convert:hover {\n",
              "      background-color: #434B5C;\n",
              "      box-shadow: 0px 1px 3px 1px rgba(0, 0, 0, 0.15);\n",
              "      filter: drop-shadow(0px 1px 2px rgba(0, 0, 0, 0.3));\n",
              "      fill: #FFFFFF;\n",
              "    }\n",
              "  </style>\n",
              "\n",
              "      <script>\n",
              "        const buttonEl =\n",
              "          document.querySelector('#df-e114e980-299b-46e3-89c6-a2d26b315b22 button.colab-df-convert');\n",
              "        buttonEl.style.display =\n",
              "          google.colab.kernel.accessAllowed ? 'block' : 'none';\n",
              "\n",
              "        async function convertToInteractive(key) {\n",
              "          const element = document.querySelector('#df-e114e980-299b-46e3-89c6-a2d26b315b22');\n",
              "          const dataTable =\n",
              "            await google.colab.kernel.invokeFunction('convertToInteractive',\n",
              "                                                     [key], {});\n",
              "          if (!dataTable) return;\n",
              "\n",
              "          const docLinkHtml = 'Like what you see? Visit the ' +\n",
              "            '<a target=\"_blank\" href=https://colab.research.google.com/notebooks/data_table.ipynb>data table notebook</a>'\n",
              "            + ' to learn more about interactive tables.';\n",
              "          element.innerHTML = '';\n",
              "          dataTable['output_type'] = 'display_data';\n",
              "          await google.colab.output.renderOutput(dataTable, element);\n",
              "          const docLink = document.createElement('div');\n",
              "          docLink.innerHTML = docLinkHtml;\n",
              "          element.appendChild(docLink);\n",
              "        }\n",
              "      </script>\n",
              "    </div>\n",
              "  </div>\n",
              "  "
            ],
            "text/plain": [
              "     rating                                          embedding\n",
              "0         0  [-0.016931885853409767, -0.0051310695707798, 0...\n",
              "1         1  [-0.00980688538402319, 0.00024382547417189926,...\n",
              "2         0  [-0.007015461102128029, 0.01202203519642353, 0...\n",
              "3         1  [-0.011468385346233845, -0.028590109199285507,...\n",
              "4         1  [0.007943474687635899, 0.0037498159799724817, ...\n",
              "..      ...                                                ...\n",
              "195       1  [-0.03534695506095886, -0.008992795832455158, ...\n",
              "196       1  [-0.04101385176181793, 0.0009351476328447461, ...\n",
              "197       1  [-0.016397397965192795, 0.019382361322641373, ...\n",
              "198       0  [-0.00025293021462857723, 0.021311169490218163...\n",
              "199       1  [-0.014106092043220997, 0.013114674016833305, ...\n",
              "\n",
              "[200 rows x 2 columns]"
            ]
          },
          "execution_count": 66,
          "metadata": {},
          "output_type": "execute_result"
        }
      ],
      "source": [
        "test_ebd = pd.read_csv(os.path.join(work_path, \"test_ebd.csv\"))\n",
        "test_ebd['embedding'] = test_ebd.embedding.apply(eval).apply(np.array)\n",
        "\n",
        "test_ebd = test_ebd[['pos_rating', 'embedding']]\n",
        "test_ebd"
      ]
    },
    {
      "cell_type": "code",
      "execution_count": null,
      "metadata": {
        "colab": {
          "base_uri": "https://localhost:8080/",
          "height": 488
        },
        "id": "87jQLo5hT5nq",
        "outputId": "78de745b-4baf-432a-9bcd-b1822a647fd9"
      },
      "outputs": [
        {
          "data": {
            "text/html": [
              "\n",
              "  <div id=\"df-e6104613-ef01-4564-9386-14b15baeddde\">\n",
              "    <div class=\"colab-df-container\">\n",
              "      <div>\n",
              "<style scoped>\n",
              "    .dataframe tbody tr th:only-of-type {\n",
              "        vertical-align: middle;\n",
              "    }\n",
              "\n",
              "    .dataframe tbody tr th {\n",
              "        vertical-align: top;\n",
              "    }\n",
              "\n",
              "    .dataframe thead th {\n",
              "        text-align: right;\n",
              "    }\n",
              "</style>\n",
              "<table border=\"1\" class=\"dataframe\">\n",
              "  <thead>\n",
              "    <tr style=\"text-align: right;\">\n",
              "      <th></th>\n",
              "      <th>0</th>\n",
              "      <th>1</th>\n",
              "      <th>2</th>\n",
              "      <th>3</th>\n",
              "      <th>4</th>\n",
              "      <th>5</th>\n",
              "      <th>6</th>\n",
              "      <th>7</th>\n",
              "      <th>8</th>\n",
              "      <th>9</th>\n",
              "      <th>...</th>\n",
              "      <th>1527</th>\n",
              "      <th>1528</th>\n",
              "      <th>1529</th>\n",
              "      <th>1530</th>\n",
              "      <th>1531</th>\n",
              "      <th>1532</th>\n",
              "      <th>1533</th>\n",
              "      <th>1534</th>\n",
              "      <th>1535</th>\n",
              "      <th>rating</th>\n",
              "    </tr>\n",
              "  </thead>\n",
              "  <tbody>\n",
              "    <tr>\n",
              "      <th>0</th>\n",
              "      <td>-0.020021</td>\n",
              "      <td>-0.006697</td>\n",
              "      <td>0.033669</td>\n",
              "      <td>-0.018549</td>\n",
              "      <td>-0.018701</td>\n",
              "      <td>0.011528</td>\n",
              "      <td>-0.002480</td>\n",
              "      <td>-0.017749</td>\n",
              "      <td>-0.017723</td>\n",
              "      <td>-0.029175</td>\n",
              "      <td>...</td>\n",
              "      <td>-0.015083</td>\n",
              "      <td>0.021964</td>\n",
              "      <td>-0.028134</td>\n",
              "      <td>-0.007357</td>\n",
              "      <td>0.022332</td>\n",
              "      <td>-0.017216</td>\n",
              "      <td>-0.007205</td>\n",
              "      <td>-0.010982</td>\n",
              "      <td>-0.013356</td>\n",
              "      <td>0</td>\n",
              "    </tr>\n",
              "    <tr>\n",
              "      <th>1</th>\n",
              "      <td>-0.031044</td>\n",
              "      <td>-0.010346</td>\n",
              "      <td>0.008501</td>\n",
              "      <td>-0.020612</td>\n",
              "      <td>-0.011721</td>\n",
              "      <td>0.007397</td>\n",
              "      <td>-0.024196</td>\n",
              "      <td>-0.027131</td>\n",
              "      <td>-0.011780</td>\n",
              "      <td>-0.031335</td>\n",
              "      <td>...</td>\n",
              "      <td>-0.014134</td>\n",
              "      <td>0.048391</td>\n",
              "      <td>-0.032314</td>\n",
              "      <td>0.001023</td>\n",
              "      <td>0.009533</td>\n",
              "      <td>0.001683</td>\n",
              "      <td>0.001452</td>\n",
              "      <td>-0.019832</td>\n",
              "      <td>-0.027237</td>\n",
              "      <td>1</td>\n",
              "    </tr>\n",
              "    <tr>\n",
              "      <th>2</th>\n",
              "      <td>-0.009887</td>\n",
              "      <td>-0.001249</td>\n",
              "      <td>0.038061</td>\n",
              "      <td>-0.025458</td>\n",
              "      <td>-0.007244</td>\n",
              "      <td>0.020877</td>\n",
              "      <td>-0.022816</td>\n",
              "      <td>-0.047862</td>\n",
              "      <td>-0.025206</td>\n",
              "      <td>-0.019442</td>\n",
              "      <td>...</td>\n",
              "      <td>-0.019256</td>\n",
              "      <td>0.041355</td>\n",
              "      <td>-0.021169</td>\n",
              "      <td>-0.019509</td>\n",
              "      <td>0.002495</td>\n",
              "      <td>0.009323</td>\n",
              "      <td>-0.034077</td>\n",
              "      <td>0.022537</td>\n",
              "      <td>-0.011554</td>\n",
              "      <td>1</td>\n",
              "    </tr>\n",
              "    <tr>\n",
              "      <th>3</th>\n",
              "      <td>-0.019267</td>\n",
              "      <td>0.017909</td>\n",
              "      <td>0.017546</td>\n",
              "      <td>-0.046493</td>\n",
              "      <td>-0.015301</td>\n",
              "      <td>0.026608</td>\n",
              "      <td>-0.027589</td>\n",
              "      <td>-0.021418</td>\n",
              "      <td>-0.032026</td>\n",
              "      <td>0.011543</td>\n",
              "      <td>...</td>\n",
              "      <td>-0.011361</td>\n",
              "      <td>0.010655</td>\n",
              "      <td>-0.017062</td>\n",
              "      <td>0.006682</td>\n",
              "      <td>-0.022682</td>\n",
              "      <td>-0.030090</td>\n",
              "      <td>-0.012464</td>\n",
              "      <td>-0.011986</td>\n",
              "      <td>-0.024994</td>\n",
              "      <td>1</td>\n",
              "    </tr>\n",
              "    <tr>\n",
              "      <th>4</th>\n",
              "      <td>-0.040334</td>\n",
              "      <td>-0.005322</td>\n",
              "      <td>0.027250</td>\n",
              "      <td>-0.014337</td>\n",
              "      <td>-0.016342</td>\n",
              "      <td>0.009061</td>\n",
              "      <td>-0.022106</td>\n",
              "      <td>-0.049303</td>\n",
              "      <td>-0.018703</td>\n",
              "      <td>-0.015115</td>\n",
              "      <td>...</td>\n",
              "      <td>-0.004663</td>\n",
              "      <td>0.057296</td>\n",
              "      <td>-0.037037</td>\n",
              "      <td>-0.028332</td>\n",
              "      <td>-0.004607</td>\n",
              "      <td>-0.023900</td>\n",
              "      <td>-0.007729</td>\n",
              "      <td>-0.000958</td>\n",
              "      <td>-0.030046</td>\n",
              "      <td>1</td>\n",
              "    </tr>\n",
              "    <tr>\n",
              "      <th>...</th>\n",
              "      <td>...</td>\n",
              "      <td>...</td>\n",
              "      <td>...</td>\n",
              "      <td>...</td>\n",
              "      <td>...</td>\n",
              "      <td>...</td>\n",
              "      <td>...</td>\n",
              "      <td>...</td>\n",
              "      <td>...</td>\n",
              "      <td>...</td>\n",
              "      <td>...</td>\n",
              "      <td>...</td>\n",
              "      <td>...</td>\n",
              "      <td>...</td>\n",
              "      <td>...</td>\n",
              "      <td>...</td>\n",
              "      <td>...</td>\n",
              "      <td>...</td>\n",
              "      <td>...</td>\n",
              "      <td>...</td>\n",
              "      <td>...</td>\n",
              "    </tr>\n",
              "    <tr>\n",
              "      <th>795</th>\n",
              "      <td>-0.012448</td>\n",
              "      <td>-0.004434</td>\n",
              "      <td>0.038986</td>\n",
              "      <td>-0.042787</td>\n",
              "      <td>-0.024224</td>\n",
              "      <td>0.034539</td>\n",
              "      <td>-0.020656</td>\n",
              "      <td>-0.046613</td>\n",
              "      <td>-0.020566</td>\n",
              "      <td>-0.020850</td>\n",
              "      <td>...</td>\n",
              "      <td>-0.006457</td>\n",
              "      <td>0.024534</td>\n",
              "      <td>-0.010703</td>\n",
              "      <td>0.006505</td>\n",
              "      <td>0.017140</td>\n",
              "      <td>-0.032394</td>\n",
              "      <td>0.003256</td>\n",
              "      <td>-0.017502</td>\n",
              "      <td>-0.042890</td>\n",
              "      <td>1</td>\n",
              "    </tr>\n",
              "    <tr>\n",
              "      <th>796</th>\n",
              "      <td>-0.039578</td>\n",
              "      <td>-0.015751</td>\n",
              "      <td>0.007909</td>\n",
              "      <td>-0.011873</td>\n",
              "      <td>-0.016888</td>\n",
              "      <td>0.013959</td>\n",
              "      <td>-0.040728</td>\n",
              "      <td>-0.032492</td>\n",
              "      <td>-0.037305</td>\n",
              "      <td>-0.014267</td>\n",
              "      <td>...</td>\n",
              "      <td>-0.019388</td>\n",
              "      <td>0.040701</td>\n",
              "      <td>-0.032090</td>\n",
              "      <td>0.000705</td>\n",
              "      <td>-0.000933</td>\n",
              "      <td>-0.021487</td>\n",
              "      <td>-0.000255</td>\n",
              "      <td>0.004820</td>\n",
              "      <td>-0.022758</td>\n",
              "      <td>1</td>\n",
              "    </tr>\n",
              "    <tr>\n",
              "      <th>797</th>\n",
              "      <td>-0.034707</td>\n",
              "      <td>-0.013817</td>\n",
              "      <td>0.012576</td>\n",
              "      <td>0.013219</td>\n",
              "      <td>-0.026183</td>\n",
              "      <td>-0.007010</td>\n",
              "      <td>-0.019185</td>\n",
              "      <td>-0.027608</td>\n",
              "      <td>-0.026335</td>\n",
              "      <td>0.007354</td>\n",
              "      <td>...</td>\n",
              "      <td>-0.032900</td>\n",
              "      <td>0.033409</td>\n",
              "      <td>-0.019847</td>\n",
              "      <td>-0.012811</td>\n",
              "      <td>0.010560</td>\n",
              "      <td>-0.019554</td>\n",
              "      <td>-0.018778</td>\n",
              "      <td>0.002094</td>\n",
              "      <td>-0.012226</td>\n",
              "      <td>1</td>\n",
              "    </tr>\n",
              "    <tr>\n",
              "      <th>798</th>\n",
              "      <td>-0.012470</td>\n",
              "      <td>0.014197</td>\n",
              "      <td>0.014911</td>\n",
              "      <td>-0.017994</td>\n",
              "      <td>-0.010995</td>\n",
              "      <td>0.009486</td>\n",
              "      <td>-0.006639</td>\n",
              "      <td>-0.044376</td>\n",
              "      <td>-0.024464</td>\n",
              "      <td>-0.039163</td>\n",
              "      <td>...</td>\n",
              "      <td>-0.017861</td>\n",
              "      <td>0.051044</td>\n",
              "      <td>-0.004882</td>\n",
              "      <td>-0.007826</td>\n",
              "      <td>0.003546</td>\n",
              "      <td>-0.015917</td>\n",
              "      <td>-0.029557</td>\n",
              "      <td>-0.007747</td>\n",
              "      <td>-0.003041</td>\n",
              "      <td>1</td>\n",
              "    </tr>\n",
              "    <tr>\n",
              "      <th>799</th>\n",
              "      <td>-0.010141</td>\n",
              "      <td>0.017997</td>\n",
              "      <td>0.028968</td>\n",
              "      <td>-0.036778</td>\n",
              "      <td>-0.016626</td>\n",
              "      <td>0.017710</td>\n",
              "      <td>-0.023770</td>\n",
              "      <td>-0.034401</td>\n",
              "      <td>-0.007333</td>\n",
              "      <td>-0.029281</td>\n",
              "      <td>...</td>\n",
              "      <td>-0.008319</td>\n",
              "      <td>0.052032</td>\n",
              "      <td>-0.015137</td>\n",
              "      <td>-0.007177</td>\n",
              "      <td>0.015489</td>\n",
              "      <td>-0.020700</td>\n",
              "      <td>-0.023156</td>\n",
              "      <td>-0.005962</td>\n",
              "      <td>-0.035733</td>\n",
              "      <td>1</td>\n",
              "    </tr>\n",
              "  </tbody>\n",
              "</table>\n",
              "<p>800 rows × 1537 columns</p>\n",
              "</div>\n",
              "      <button class=\"colab-df-convert\" onclick=\"convertToInteractive('df-e6104613-ef01-4564-9386-14b15baeddde')\"\n",
              "              title=\"Convert this dataframe to an interactive table.\"\n",
              "              style=\"display:none;\">\n",
              "        \n",
              "  <svg xmlns=\"http://www.w3.org/2000/svg\" height=\"24px\"viewBox=\"0 0 24 24\"\n",
              "       width=\"24px\">\n",
              "    <path d=\"M0 0h24v24H0V0z\" fill=\"none\"/>\n",
              "    <path d=\"M18.56 5.44l.94 2.06.94-2.06 2.06-.94-2.06-.94-.94-2.06-.94 2.06-2.06.94zm-11 1L8.5 8.5l.94-2.06 2.06-.94-2.06-.94L8.5 2.5l-.94 2.06-2.06.94zm10 10l.94 2.06.94-2.06 2.06-.94-2.06-.94-.94-2.06-.94 2.06-2.06.94z\"/><path d=\"M17.41 7.96l-1.37-1.37c-.4-.4-.92-.59-1.43-.59-.52 0-1.04.2-1.43.59L10.3 9.45l-7.72 7.72c-.78.78-.78 2.05 0 2.83L4 21.41c.39.39.9.59 1.41.59.51 0 1.02-.2 1.41-.59l7.78-7.78 2.81-2.81c.8-.78.8-2.07 0-2.86zM5.41 20L4 18.59l7.72-7.72 1.47 1.35L5.41 20z\"/>\n",
              "  </svg>\n",
              "      </button>\n",
              "      \n",
              "  <style>\n",
              "    .colab-df-container {\n",
              "      display:flex;\n",
              "      flex-wrap:wrap;\n",
              "      gap: 12px;\n",
              "    }\n",
              "\n",
              "    .colab-df-convert {\n",
              "      background-color: #E8F0FE;\n",
              "      border: none;\n",
              "      border-radius: 50%;\n",
              "      cursor: pointer;\n",
              "      display: none;\n",
              "      fill: #1967D2;\n",
              "      height: 32px;\n",
              "      padding: 0 0 0 0;\n",
              "      width: 32px;\n",
              "    }\n",
              "\n",
              "    .colab-df-convert:hover {\n",
              "      background-color: #E2EBFA;\n",
              "      box-shadow: 0px 1px 2px rgba(60, 64, 67, 0.3), 0px 1px 3px 1px rgba(60, 64, 67, 0.15);\n",
              "      fill: #174EA6;\n",
              "    }\n",
              "\n",
              "    [theme=dark] .colab-df-convert {\n",
              "      background-color: #3B4455;\n",
              "      fill: #D2E3FC;\n",
              "    }\n",
              "\n",
              "    [theme=dark] .colab-df-convert:hover {\n",
              "      background-color: #434B5C;\n",
              "      box-shadow: 0px 1px 3px 1px rgba(0, 0, 0, 0.15);\n",
              "      filter: drop-shadow(0px 1px 2px rgba(0, 0, 0, 0.3));\n",
              "      fill: #FFFFFF;\n",
              "    }\n",
              "  </style>\n",
              "\n",
              "      <script>\n",
              "        const buttonEl =\n",
              "          document.querySelector('#df-e6104613-ef01-4564-9386-14b15baeddde button.colab-df-convert');\n",
              "        buttonEl.style.display =\n",
              "          google.colab.kernel.accessAllowed ? 'block' : 'none';\n",
              "\n",
              "        async function convertToInteractive(key) {\n",
              "          const element = document.querySelector('#df-e6104613-ef01-4564-9386-14b15baeddde');\n",
              "          const dataTable =\n",
              "            await google.colab.kernel.invokeFunction('convertToInteractive',\n",
              "                                                     [key], {});\n",
              "          if (!dataTable) return;\n",
              "\n",
              "          const docLinkHtml = 'Like what you see? Visit the ' +\n",
              "            '<a target=\"_blank\" href=https://colab.research.google.com/notebooks/data_table.ipynb>data table notebook</a>'\n",
              "            + ' to learn more about interactive tables.';\n",
              "          element.innerHTML = '';\n",
              "          dataTable['output_type'] = 'display_data';\n",
              "          await google.colab.output.renderOutput(dataTable, element);\n",
              "          const docLink = document.createElement('div');\n",
              "          docLink.innerHTML = docLinkHtml;\n",
              "          element.appendChild(docLink);\n",
              "        }\n",
              "      </script>\n",
              "    </div>\n",
              "  </div>\n",
              "  "
            ],
            "text/plain": [
              "            0         1         2         3         4         5         6  \\\n",
              "0   -0.020021 -0.006697  0.033669 -0.018549 -0.018701  0.011528 -0.002480   \n",
              "1   -0.031044 -0.010346  0.008501 -0.020612 -0.011721  0.007397 -0.024196   \n",
              "2   -0.009887 -0.001249  0.038061 -0.025458 -0.007244  0.020877 -0.022816   \n",
              "3   -0.019267  0.017909  0.017546 -0.046493 -0.015301  0.026608 -0.027589   \n",
              "4   -0.040334 -0.005322  0.027250 -0.014337 -0.016342  0.009061 -0.022106   \n",
              "..        ...       ...       ...       ...       ...       ...       ...   \n",
              "795 -0.012448 -0.004434  0.038986 -0.042787 -0.024224  0.034539 -0.020656   \n",
              "796 -0.039578 -0.015751  0.007909 -0.011873 -0.016888  0.013959 -0.040728   \n",
              "797 -0.034707 -0.013817  0.012576  0.013219 -0.026183 -0.007010 -0.019185   \n",
              "798 -0.012470  0.014197  0.014911 -0.017994 -0.010995  0.009486 -0.006639   \n",
              "799 -0.010141  0.017997  0.028968 -0.036778 -0.016626  0.017710 -0.023770   \n",
              "\n",
              "            7         8         9  ...      1527      1528      1529  \\\n",
              "0   -0.017749 -0.017723 -0.029175  ... -0.015083  0.021964 -0.028134   \n",
              "1   -0.027131 -0.011780 -0.031335  ... -0.014134  0.048391 -0.032314   \n",
              "2   -0.047862 -0.025206 -0.019442  ... -0.019256  0.041355 -0.021169   \n",
              "3   -0.021418 -0.032026  0.011543  ... -0.011361  0.010655 -0.017062   \n",
              "4   -0.049303 -0.018703 -0.015115  ... -0.004663  0.057296 -0.037037   \n",
              "..        ...       ...       ...  ...       ...       ...       ...   \n",
              "795 -0.046613 -0.020566 -0.020850  ... -0.006457  0.024534 -0.010703   \n",
              "796 -0.032492 -0.037305 -0.014267  ... -0.019388  0.040701 -0.032090   \n",
              "797 -0.027608 -0.026335  0.007354  ... -0.032900  0.033409 -0.019847   \n",
              "798 -0.044376 -0.024464 -0.039163  ... -0.017861  0.051044 -0.004882   \n",
              "799 -0.034401 -0.007333 -0.029281  ... -0.008319  0.052032 -0.015137   \n",
              "\n",
              "         1530      1531      1532      1533      1534      1535  rating  \n",
              "0   -0.007357  0.022332 -0.017216 -0.007205 -0.010982 -0.013356       0  \n",
              "1    0.001023  0.009533  0.001683  0.001452 -0.019832 -0.027237       1  \n",
              "2   -0.019509  0.002495  0.009323 -0.034077  0.022537 -0.011554       1  \n",
              "3    0.006682 -0.022682 -0.030090 -0.012464 -0.011986 -0.024994       1  \n",
              "4   -0.028332 -0.004607 -0.023900 -0.007729 -0.000958 -0.030046       1  \n",
              "..        ...       ...       ...       ...       ...       ...     ...  \n",
              "795  0.006505  0.017140 -0.032394  0.003256 -0.017502 -0.042890       1  \n",
              "796  0.000705 -0.000933 -0.021487 -0.000255  0.004820 -0.022758       1  \n",
              "797 -0.012811  0.010560 -0.019554 -0.018778  0.002094 -0.012226       1  \n",
              "798 -0.007826  0.003546 -0.015917 -0.029557 -0.007747 -0.003041       1  \n",
              "799 -0.007177  0.015489 -0.020700 -0.023156 -0.005962 -0.035733       1  \n",
              "\n",
              "[800 rows x 1537 columns]"
            ]
          },
          "execution_count": 67,
          "metadata": {},
          "output_type": "execute_result"
        }
      ],
      "source": [
        "ratings = train_ebd.rating\n",
        "train_ebd = train_ebd.embedding.apply(pd.Series)\n",
        "train_ebd['pos_rating'] = ratings\n",
        "\n",
        "train_ebd\n",
        "# the final vector from OpenAI contained 1,536 features.\n",
        "# Note that unlike TF-IDF, these features do not correspond to any particular\n",
        "# word tokens. Thus, the usefulness of investigating feature importance in\n",
        "# the final model is limited in this case."
      ]
    },
    {
      "cell_type": "code",
      "execution_count": null,
      "metadata": {
        "colab": {
          "base_uri": "https://localhost:8080/",
          "height": 488
        },
        "id": "U6_w3HYeWVTO",
        "outputId": "2072174b-0cad-4710-9128-a34fd5a0022d"
      },
      "outputs": [
        {
          "data": {
            "text/html": [
              "\n",
              "  <div id=\"df-0c9c49ec-c990-4bd2-96b5-93ac27db0156\">\n",
              "    <div class=\"colab-df-container\">\n",
              "      <div>\n",
              "<style scoped>\n",
              "    .dataframe tbody tr th:only-of-type {\n",
              "        vertical-align: middle;\n",
              "    }\n",
              "\n",
              "    .dataframe tbody tr th {\n",
              "        vertical-align: top;\n",
              "    }\n",
              "\n",
              "    .dataframe thead th {\n",
              "        text-align: right;\n",
              "    }\n",
              "</style>\n",
              "<table border=\"1\" class=\"dataframe\">\n",
              "  <thead>\n",
              "    <tr style=\"text-align: right;\">\n",
              "      <th></th>\n",
              "      <th>0</th>\n",
              "      <th>1</th>\n",
              "      <th>2</th>\n",
              "      <th>3</th>\n",
              "      <th>4</th>\n",
              "      <th>5</th>\n",
              "      <th>6</th>\n",
              "      <th>7</th>\n",
              "      <th>8</th>\n",
              "      <th>9</th>\n",
              "      <th>...</th>\n",
              "      <th>1527</th>\n",
              "      <th>1528</th>\n",
              "      <th>1529</th>\n",
              "      <th>1530</th>\n",
              "      <th>1531</th>\n",
              "      <th>1532</th>\n",
              "      <th>1533</th>\n",
              "      <th>1534</th>\n",
              "      <th>1535</th>\n",
              "      <th>rating</th>\n",
              "    </tr>\n",
              "  </thead>\n",
              "  <tbody>\n",
              "    <tr>\n",
              "      <th>0</th>\n",
              "      <td>-0.016932</td>\n",
              "      <td>-0.005131</td>\n",
              "      <td>0.002047</td>\n",
              "      <td>-0.013610</td>\n",
              "      <td>-0.013855</td>\n",
              "      <td>0.000470</td>\n",
              "      <td>-0.023524</td>\n",
              "      <td>-0.045066</td>\n",
              "      <td>-0.028250</td>\n",
              "      <td>-0.020563</td>\n",
              "      <td>...</td>\n",
              "      <td>-0.009953</td>\n",
              "      <td>0.043933</td>\n",
              "      <td>-0.010751</td>\n",
              "      <td>-0.011994</td>\n",
              "      <td>0.006312</td>\n",
              "      <td>-0.043624</td>\n",
              "      <td>0.008556</td>\n",
              "      <td>-0.009773</td>\n",
              "      <td>-0.050242</td>\n",
              "      <td>0</td>\n",
              "    </tr>\n",
              "    <tr>\n",
              "      <th>1</th>\n",
              "      <td>-0.009807</td>\n",
              "      <td>0.000244</td>\n",
              "      <td>0.012804</td>\n",
              "      <td>-0.002620</td>\n",
              "      <td>-0.025595</td>\n",
              "      <td>0.004499</td>\n",
              "      <td>-0.002824</td>\n",
              "      <td>-0.056099</td>\n",
              "      <td>-0.020880</td>\n",
              "      <td>-0.020149</td>\n",
              "      <td>...</td>\n",
              "      <td>-0.017616</td>\n",
              "      <td>0.033038</td>\n",
              "      <td>-0.030269</td>\n",
              "      <td>0.012993</td>\n",
              "      <td>0.006823</td>\n",
              "      <td>-0.032463</td>\n",
              "      <td>-0.003862</td>\n",
              "      <td>-0.005958</td>\n",
              "      <td>-0.028128</td>\n",
              "      <td>1</td>\n",
              "    </tr>\n",
              "    <tr>\n",
              "      <th>2</th>\n",
              "      <td>-0.007015</td>\n",
              "      <td>0.012022</td>\n",
              "      <td>0.037599</td>\n",
              "      <td>-0.029489</td>\n",
              "      <td>-0.035647</td>\n",
              "      <td>0.008280</td>\n",
              "      <td>-0.021941</td>\n",
              "      <td>-0.009331</td>\n",
              "      <td>-0.019926</td>\n",
              "      <td>-0.003395</td>\n",
              "      <td>...</td>\n",
              "      <td>-0.007466</td>\n",
              "      <td>0.022730</td>\n",
              "      <td>-0.017798</td>\n",
              "      <td>-0.006621</td>\n",
              "      <td>-0.000213</td>\n",
              "      <td>-0.023381</td>\n",
              "      <td>0.004159</td>\n",
              "      <td>-0.009043</td>\n",
              "      <td>-0.031617</td>\n",
              "      <td>0</td>\n",
              "    </tr>\n",
              "    <tr>\n",
              "      <th>3</th>\n",
              "      <td>-0.011468</td>\n",
              "      <td>-0.028590</td>\n",
              "      <td>0.043700</td>\n",
              "      <td>-0.012219</td>\n",
              "      <td>-0.015136</td>\n",
              "      <td>0.029030</td>\n",
              "      <td>-0.020026</td>\n",
              "      <td>-0.027348</td>\n",
              "      <td>-0.025123</td>\n",
              "      <td>-0.010013</td>\n",
              "      <td>...</td>\n",
              "      <td>-0.001472</td>\n",
              "      <td>0.037077</td>\n",
              "      <td>-0.011080</td>\n",
              "      <td>0.007387</td>\n",
              "      <td>0.005213</td>\n",
              "      <td>-0.029211</td>\n",
              "      <td>-0.008176</td>\n",
              "      <td>-0.005857</td>\n",
              "      <td>-0.019897</td>\n",
              "      <td>1</td>\n",
              "    </tr>\n",
              "    <tr>\n",
              "      <th>4</th>\n",
              "      <td>0.007943</td>\n",
              "      <td>0.003750</td>\n",
              "      <td>0.022022</td>\n",
              "      <td>-0.042348</td>\n",
              "      <td>-0.000971</td>\n",
              "      <td>0.022179</td>\n",
              "      <td>-0.031487</td>\n",
              "      <td>-0.035037</td>\n",
              "      <td>-0.011507</td>\n",
              "      <td>-0.017963</td>\n",
              "      <td>...</td>\n",
              "      <td>-0.012160</td>\n",
              "      <td>0.037779</td>\n",
              "      <td>-0.028275</td>\n",
              "      <td>0.005072</td>\n",
              "      <td>0.006103</td>\n",
              "      <td>-0.015430</td>\n",
              "      <td>-0.007017</td>\n",
              "      <td>0.005685</td>\n",
              "      <td>-0.016905</td>\n",
              "      <td>1</td>\n",
              "    </tr>\n",
              "    <tr>\n",
              "      <th>...</th>\n",
              "      <td>...</td>\n",
              "      <td>...</td>\n",
              "      <td>...</td>\n",
              "      <td>...</td>\n",
              "      <td>...</td>\n",
              "      <td>...</td>\n",
              "      <td>...</td>\n",
              "      <td>...</td>\n",
              "      <td>...</td>\n",
              "      <td>...</td>\n",
              "      <td>...</td>\n",
              "      <td>...</td>\n",
              "      <td>...</td>\n",
              "      <td>...</td>\n",
              "      <td>...</td>\n",
              "      <td>...</td>\n",
              "      <td>...</td>\n",
              "      <td>...</td>\n",
              "      <td>...</td>\n",
              "      <td>...</td>\n",
              "      <td>...</td>\n",
              "    </tr>\n",
              "    <tr>\n",
              "      <th>195</th>\n",
              "      <td>-0.035347</td>\n",
              "      <td>-0.008993</td>\n",
              "      <td>0.019520</td>\n",
              "      <td>-0.012218</td>\n",
              "      <td>-0.013577</td>\n",
              "      <td>0.009454</td>\n",
              "      <td>-0.006155</td>\n",
              "      <td>-0.036283</td>\n",
              "      <td>-0.032356</td>\n",
              "      <td>-0.019416</td>\n",
              "      <td>...</td>\n",
              "      <td>-0.017205</td>\n",
              "      <td>0.037454</td>\n",
              "      <td>-0.028767</td>\n",
              "      <td>-0.019234</td>\n",
              "      <td>0.002074</td>\n",
              "      <td>-0.029833</td>\n",
              "      <td>-0.019494</td>\n",
              "      <td>-0.010144</td>\n",
              "      <td>-0.028715</td>\n",
              "      <td>1</td>\n",
              "    </tr>\n",
              "    <tr>\n",
              "      <th>196</th>\n",
              "      <td>-0.041014</td>\n",
              "      <td>0.000935</td>\n",
              "      <td>0.015533</td>\n",
              "      <td>-0.008363</td>\n",
              "      <td>-0.002192</td>\n",
              "      <td>0.003999</td>\n",
              "      <td>-0.030323</td>\n",
              "      <td>-0.030880</td>\n",
              "      <td>-0.015957</td>\n",
              "      <td>-0.005661</td>\n",
              "      <td>...</td>\n",
              "      <td>-0.011573</td>\n",
              "      <td>0.032763</td>\n",
              "      <td>-0.025375</td>\n",
              "      <td>-0.017151</td>\n",
              "      <td>-0.001643</td>\n",
              "      <td>-0.023040</td>\n",
              "      <td>-0.021435</td>\n",
              "      <td>0.003575</td>\n",
              "      <td>-0.028625</td>\n",
              "      <td>1</td>\n",
              "    </tr>\n",
              "    <tr>\n",
              "      <th>197</th>\n",
              "      <td>-0.016397</td>\n",
              "      <td>0.019382</td>\n",
              "      <td>0.014328</td>\n",
              "      <td>-0.032848</td>\n",
              "      <td>-0.012272</td>\n",
              "      <td>0.036085</td>\n",
              "      <td>-0.006003</td>\n",
              "      <td>-0.017897</td>\n",
              "      <td>-0.041710</td>\n",
              "      <td>-0.001211</td>\n",
              "      <td>...</td>\n",
              "      <td>-0.023482</td>\n",
              "      <td>0.034705</td>\n",
              "      <td>-0.024954</td>\n",
              "      <td>-0.003436</td>\n",
              "      <td>0.005625</td>\n",
              "      <td>-0.029744</td>\n",
              "      <td>-0.013134</td>\n",
              "      <td>-0.000661</td>\n",
              "      <td>-0.016822</td>\n",
              "      <td>1</td>\n",
              "    </tr>\n",
              "    <tr>\n",
              "      <th>198</th>\n",
              "      <td>-0.000253</td>\n",
              "      <td>0.021311</td>\n",
              "      <td>0.020982</td>\n",
              "      <td>-0.026066</td>\n",
              "      <td>-0.033192</td>\n",
              "      <td>0.011439</td>\n",
              "      <td>-0.008443</td>\n",
              "      <td>-0.040383</td>\n",
              "      <td>0.014383</td>\n",
              "      <td>0.007995</td>\n",
              "      <td>...</td>\n",
              "      <td>-0.011433</td>\n",
              "      <td>0.048207</td>\n",
              "      <td>-0.037828</td>\n",
              "      <td>-0.002386</td>\n",
              "      <td>-0.011472</td>\n",
              "      <td>-0.027080</td>\n",
              "      <td>-0.011571</td>\n",
              "      <td>0.008193</td>\n",
              "      <td>-0.019335</td>\n",
              "      <td>0</td>\n",
              "    </tr>\n",
              "    <tr>\n",
              "      <th>199</th>\n",
              "      <td>-0.014106</td>\n",
              "      <td>0.013115</td>\n",
              "      <td>-0.007659</td>\n",
              "      <td>-0.015982</td>\n",
              "      <td>-0.001508</td>\n",
              "      <td>0.023182</td>\n",
              "      <td>-0.037315</td>\n",
              "      <td>-0.034893</td>\n",
              "      <td>-0.039816</td>\n",
              "      <td>0.005589</td>\n",
              "      <td>...</td>\n",
              "      <td>-0.007758</td>\n",
              "      <td>0.019842</td>\n",
              "      <td>-0.032710</td>\n",
              "      <td>-0.020041</td>\n",
              "      <td>0.004877</td>\n",
              "      <td>-0.015889</td>\n",
              "      <td>-0.011657</td>\n",
              "      <td>-0.009408</td>\n",
              "      <td>-0.000978</td>\n",
              "      <td>1</td>\n",
              "    </tr>\n",
              "  </tbody>\n",
              "</table>\n",
              "<p>200 rows × 1537 columns</p>\n",
              "</div>\n",
              "      <button class=\"colab-df-convert\" onclick=\"convertToInteractive('df-0c9c49ec-c990-4bd2-96b5-93ac27db0156')\"\n",
              "              title=\"Convert this dataframe to an interactive table.\"\n",
              "              style=\"display:none;\">\n",
              "        \n",
              "  <svg xmlns=\"http://www.w3.org/2000/svg\" height=\"24px\"viewBox=\"0 0 24 24\"\n",
              "       width=\"24px\">\n",
              "    <path d=\"M0 0h24v24H0V0z\" fill=\"none\"/>\n",
              "    <path d=\"M18.56 5.44l.94 2.06.94-2.06 2.06-.94-2.06-.94-.94-2.06-.94 2.06-2.06.94zm-11 1L8.5 8.5l.94-2.06 2.06-.94-2.06-.94L8.5 2.5l-.94 2.06-2.06.94zm10 10l.94 2.06.94-2.06 2.06-.94-2.06-.94-.94-2.06-.94 2.06-2.06.94z\"/><path d=\"M17.41 7.96l-1.37-1.37c-.4-.4-.92-.59-1.43-.59-.52 0-1.04.2-1.43.59L10.3 9.45l-7.72 7.72c-.78.78-.78 2.05 0 2.83L4 21.41c.39.39.9.59 1.41.59.51 0 1.02-.2 1.41-.59l7.78-7.78 2.81-2.81c.8-.78.8-2.07 0-2.86zM5.41 20L4 18.59l7.72-7.72 1.47 1.35L5.41 20z\"/>\n",
              "  </svg>\n",
              "      </button>\n",
              "      \n",
              "  <style>\n",
              "    .colab-df-container {\n",
              "      display:flex;\n",
              "      flex-wrap:wrap;\n",
              "      gap: 12px;\n",
              "    }\n",
              "\n",
              "    .colab-df-convert {\n",
              "      background-color: #E8F0FE;\n",
              "      border: none;\n",
              "      border-radius: 50%;\n",
              "      cursor: pointer;\n",
              "      display: none;\n",
              "      fill: #1967D2;\n",
              "      height: 32px;\n",
              "      padding: 0 0 0 0;\n",
              "      width: 32px;\n",
              "    }\n",
              "\n",
              "    .colab-df-convert:hover {\n",
              "      background-color: #E2EBFA;\n",
              "      box-shadow: 0px 1px 2px rgba(60, 64, 67, 0.3), 0px 1px 3px 1px rgba(60, 64, 67, 0.15);\n",
              "      fill: #174EA6;\n",
              "    }\n",
              "\n",
              "    [theme=dark] .colab-df-convert {\n",
              "      background-color: #3B4455;\n",
              "      fill: #D2E3FC;\n",
              "    }\n",
              "\n",
              "    [theme=dark] .colab-df-convert:hover {\n",
              "      background-color: #434B5C;\n",
              "      box-shadow: 0px 1px 3px 1px rgba(0, 0, 0, 0.15);\n",
              "      filter: drop-shadow(0px 1px 2px rgba(0, 0, 0, 0.3));\n",
              "      fill: #FFFFFF;\n",
              "    }\n",
              "  </style>\n",
              "\n",
              "      <script>\n",
              "        const buttonEl =\n",
              "          document.querySelector('#df-0c9c49ec-c990-4bd2-96b5-93ac27db0156 button.colab-df-convert');\n",
              "        buttonEl.style.display =\n",
              "          google.colab.kernel.accessAllowed ? 'block' : 'none';\n",
              "\n",
              "        async function convertToInteractive(key) {\n",
              "          const element = document.querySelector('#df-0c9c49ec-c990-4bd2-96b5-93ac27db0156');\n",
              "          const dataTable =\n",
              "            await google.colab.kernel.invokeFunction('convertToInteractive',\n",
              "                                                     [key], {});\n",
              "          if (!dataTable) return;\n",
              "\n",
              "          const docLinkHtml = 'Like what you see? Visit the ' +\n",
              "            '<a target=\"_blank\" href=https://colab.research.google.com/notebooks/data_table.ipynb>data table notebook</a>'\n",
              "            + ' to learn more about interactive tables.';\n",
              "          element.innerHTML = '';\n",
              "          dataTable['output_type'] = 'display_data';\n",
              "          await google.colab.output.renderOutput(dataTable, element);\n",
              "          const docLink = document.createElement('div');\n",
              "          docLink.innerHTML = docLinkHtml;\n",
              "          element.appendChild(docLink);\n",
              "        }\n",
              "      </script>\n",
              "    </div>\n",
              "  </div>\n",
              "  "
            ],
            "text/plain": [
              "            0         1         2         3         4         5         6  \\\n",
              "0   -0.016932 -0.005131  0.002047 -0.013610 -0.013855  0.000470 -0.023524   \n",
              "1   -0.009807  0.000244  0.012804 -0.002620 -0.025595  0.004499 -0.002824   \n",
              "2   -0.007015  0.012022  0.037599 -0.029489 -0.035647  0.008280 -0.021941   \n",
              "3   -0.011468 -0.028590  0.043700 -0.012219 -0.015136  0.029030 -0.020026   \n",
              "4    0.007943  0.003750  0.022022 -0.042348 -0.000971  0.022179 -0.031487   \n",
              "..        ...       ...       ...       ...       ...       ...       ...   \n",
              "195 -0.035347 -0.008993  0.019520 -0.012218 -0.013577  0.009454 -0.006155   \n",
              "196 -0.041014  0.000935  0.015533 -0.008363 -0.002192  0.003999 -0.030323   \n",
              "197 -0.016397  0.019382  0.014328 -0.032848 -0.012272  0.036085 -0.006003   \n",
              "198 -0.000253  0.021311  0.020982 -0.026066 -0.033192  0.011439 -0.008443   \n",
              "199 -0.014106  0.013115 -0.007659 -0.015982 -0.001508  0.023182 -0.037315   \n",
              "\n",
              "            7         8         9  ...      1527      1528      1529  \\\n",
              "0   -0.045066 -0.028250 -0.020563  ... -0.009953  0.043933 -0.010751   \n",
              "1   -0.056099 -0.020880 -0.020149  ... -0.017616  0.033038 -0.030269   \n",
              "2   -0.009331 -0.019926 -0.003395  ... -0.007466  0.022730 -0.017798   \n",
              "3   -0.027348 -0.025123 -0.010013  ... -0.001472  0.037077 -0.011080   \n",
              "4   -0.035037 -0.011507 -0.017963  ... -0.012160  0.037779 -0.028275   \n",
              "..        ...       ...       ...  ...       ...       ...       ...   \n",
              "195 -0.036283 -0.032356 -0.019416  ... -0.017205  0.037454 -0.028767   \n",
              "196 -0.030880 -0.015957 -0.005661  ... -0.011573  0.032763 -0.025375   \n",
              "197 -0.017897 -0.041710 -0.001211  ... -0.023482  0.034705 -0.024954   \n",
              "198 -0.040383  0.014383  0.007995  ... -0.011433  0.048207 -0.037828   \n",
              "199 -0.034893 -0.039816  0.005589  ... -0.007758  0.019842 -0.032710   \n",
              "\n",
              "         1530      1531      1532      1533      1534      1535  rating  \n",
              "0   -0.011994  0.006312 -0.043624  0.008556 -0.009773 -0.050242       0  \n",
              "1    0.012993  0.006823 -0.032463 -0.003862 -0.005958 -0.028128       1  \n",
              "2   -0.006621 -0.000213 -0.023381  0.004159 -0.009043 -0.031617       0  \n",
              "3    0.007387  0.005213 -0.029211 -0.008176 -0.005857 -0.019897       1  \n",
              "4    0.005072  0.006103 -0.015430 -0.007017  0.005685 -0.016905       1  \n",
              "..        ...       ...       ...       ...       ...       ...     ...  \n",
              "195 -0.019234  0.002074 -0.029833 -0.019494 -0.010144 -0.028715       1  \n",
              "196 -0.017151 -0.001643 -0.023040 -0.021435  0.003575 -0.028625       1  \n",
              "197 -0.003436  0.005625 -0.029744 -0.013134 -0.000661 -0.016822       1  \n",
              "198 -0.002386 -0.011472 -0.027080 -0.011571  0.008193 -0.019335       0  \n",
              "199 -0.020041  0.004877 -0.015889 -0.011657 -0.009408 -0.000978       1  \n",
              "\n",
              "[200 rows x 1537 columns]"
            ]
          },
          "execution_count": 69,
          "metadata": {},
          "output_type": "execute_result"
        }
      ],
      "source": [
        "ratings = test_ebd.rating\n",
        "test_ebd = test_ebd.embedding.apply(pd.Series)\n",
        "test_ebd['rating'] = ratings\n",
        "\n",
        "test_ebd"
      ]
    },
    {
      "cell_type": "markdown",
      "metadata": {
        "id": "4TyvDMVlfBo7"
      },
      "source": [
        "## 7.3. Model Development and Evaluation"
      ]
    },
    {
      "cell_type": "code",
      "execution_count": null,
      "metadata": {
        "id": "i6JlWexgfxLe"
      },
      "outputs": [],
      "source": [
        "model_openai = RandomForestClassifier()"
      ]
    },
    {
      "cell_type": "code",
      "execution_count": null,
      "metadata": {
        "colab": {
          "base_uri": "https://localhost:8080/"
        },
        "id": "ByxGPtRhhLEd",
        "outputId": "91c33216-eba3-425a-a790-dc189efa6998"
      },
      "outputs": [
        {
          "name": "stdout",
          "output_type": "stream",
          "text": [
            "(800, 1536) (800,)\n"
          ]
        }
      ],
      "source": [
        "X_train, y_train = train_ebd.loc[:, ~train_ebd.columns.isin(['rating'])], train_ebd['pos_rating']\n",
        "print(X_train.shape, y_train.shape)"
      ]
    },
    {
      "cell_type": "code",
      "execution_count": null,
      "metadata": {
        "colab": {
          "base_uri": "https://localhost:8080/"
        },
        "id": "PBftLGaOg60X",
        "outputId": "a8bc984c-2ab5-4dc2-ab67-18dd5d2707e5"
      },
      "outputs": [
        {
          "name": "stdout",
          "output_type": "stream",
          "text": [
            "(200, 1536) (200,)\n"
          ]
        }
      ],
      "source": [
        "X_test, y_test = test_ebd.loc[:, ~test_ebd.columns.isin(['rating'])], test_ebd['pos_rating']\n",
        "print(X_test.shape, y_test.shape)"
      ]
    },
    {
      "cell_type": "code",
      "execution_count": null,
      "metadata": {
        "colab": {
          "base_uri": "https://localhost:8080/",
          "height": 75
        },
        "id": "pqHcKt3ogozK",
        "outputId": "733135d8-e270-4a9a-b8d2-52d45195b681"
      },
      "outputs": [
        {
          "data": {
            "text/html": [
              "<style>#sk-container-id-2 {color: black;background-color: white;}#sk-container-id-2 pre{padding: 0;}#sk-container-id-2 div.sk-toggleable {background-color: white;}#sk-container-id-2 label.sk-toggleable__label {cursor: pointer;display: block;width: 100%;margin-bottom: 0;padding: 0.3em;box-sizing: border-box;text-align: center;}#sk-container-id-2 label.sk-toggleable__label-arrow:before {content: \"▸\";float: left;margin-right: 0.25em;color: #696969;}#sk-container-id-2 label.sk-toggleable__label-arrow:hover:before {color: black;}#sk-container-id-2 div.sk-estimator:hover label.sk-toggleable__label-arrow:before {color: black;}#sk-container-id-2 div.sk-toggleable__content {max-height: 0;max-width: 0;overflow: hidden;text-align: left;background-color: #f0f8ff;}#sk-container-id-2 div.sk-toggleable__content pre {margin: 0.2em;color: black;border-radius: 0.25em;background-color: #f0f8ff;}#sk-container-id-2 input.sk-toggleable__control:checked~div.sk-toggleable__content {max-height: 200px;max-width: 100%;overflow: auto;}#sk-container-id-2 input.sk-toggleable__control:checked~label.sk-toggleable__label-arrow:before {content: \"▾\";}#sk-container-id-2 div.sk-estimator input.sk-toggleable__control:checked~label.sk-toggleable__label {background-color: #d4ebff;}#sk-container-id-2 div.sk-label input.sk-toggleable__control:checked~label.sk-toggleable__label {background-color: #d4ebff;}#sk-container-id-2 input.sk-hidden--visually {border: 0;clip: rect(1px 1px 1px 1px);clip: rect(1px, 1px, 1px, 1px);height: 1px;margin: -1px;overflow: hidden;padding: 0;position: absolute;width: 1px;}#sk-container-id-2 div.sk-estimator {font-family: monospace;background-color: #f0f8ff;border: 1px dotted black;border-radius: 0.25em;box-sizing: border-box;margin-bottom: 0.5em;}#sk-container-id-2 div.sk-estimator:hover {background-color: #d4ebff;}#sk-container-id-2 div.sk-parallel-item::after {content: \"\";width: 100%;border-bottom: 1px solid gray;flex-grow: 1;}#sk-container-id-2 div.sk-label:hover label.sk-toggleable__label {background-color: #d4ebff;}#sk-container-id-2 div.sk-serial::before {content: \"\";position: absolute;border-left: 1px solid gray;box-sizing: border-box;top: 0;bottom: 0;left: 50%;z-index: 0;}#sk-container-id-2 div.sk-serial {display: flex;flex-direction: column;align-items: center;background-color: white;padding-right: 0.2em;padding-left: 0.2em;position: relative;}#sk-container-id-2 div.sk-item {position: relative;z-index: 1;}#sk-container-id-2 div.sk-parallel {display: flex;align-items: stretch;justify-content: center;background-color: white;position: relative;}#sk-container-id-2 div.sk-item::before, #sk-container-id-2 div.sk-parallel-item::before {content: \"\";position: absolute;border-left: 1px solid gray;box-sizing: border-box;top: 0;bottom: 0;left: 50%;z-index: -1;}#sk-container-id-2 div.sk-parallel-item {display: flex;flex-direction: column;z-index: 1;position: relative;background-color: white;}#sk-container-id-2 div.sk-parallel-item:first-child::after {align-self: flex-end;width: 50%;}#sk-container-id-2 div.sk-parallel-item:last-child::after {align-self: flex-start;width: 50%;}#sk-container-id-2 div.sk-parallel-item:only-child::after {width: 0;}#sk-container-id-2 div.sk-dashed-wrapped {border: 1px dashed gray;margin: 0 0.4em 0.5em 0.4em;box-sizing: border-box;padding-bottom: 0.4em;background-color: white;}#sk-container-id-2 div.sk-label label {font-family: monospace;font-weight: bold;display: inline-block;line-height: 1.2em;}#sk-container-id-2 div.sk-label-container {text-align: center;}#sk-container-id-2 div.sk-container {/* jupyter's `normalize.less` sets `[hidden] { display: none; }` but bootstrap.min.css set `[hidden] { display: none !important; }` so we also need the `!important` here to be able to override the default hidden behavior on the sphinx rendered scikit-learn.org. See: https://github.com/scikit-learn/scikit-learn/issues/21755 */display: inline-block !important;position: relative;}#sk-container-id-2 div.sk-text-repr-fallback {display: none;}</style><div id=\"sk-container-id-2\" class=\"sk-top-container\"><div class=\"sk-text-repr-fallback\"><pre>RandomForestClassifier()</pre><b>In a Jupyter environment, please rerun this cell to show the HTML representation or trust the notebook. <br />On GitHub, the HTML representation is unable to render, please try loading this page with nbviewer.org.</b></div><div class=\"sk-container\" hidden><div class=\"sk-item\"><div class=\"sk-estimator sk-toggleable\"><input class=\"sk-toggleable__control sk-hidden--visually\" id=\"sk-estimator-id-2\" type=\"checkbox\" checked><label for=\"sk-estimator-id-2\" class=\"sk-toggleable__label sk-toggleable__label-arrow\">RandomForestClassifier</label><div class=\"sk-toggleable__content\"><pre>RandomForestClassifier()</pre></div></div></div></div></div>"
            ],
            "text/plain": [
              "RandomForestClassifier()"
            ]
          },
          "execution_count": 74,
          "metadata": {},
          "output_type": "execute_result"
        }
      ],
      "source": [
        "model_openai.fit(X_train, y_train)"
      ]
    },
    {
      "cell_type": "code",
      "execution_count": null,
      "metadata": {
        "id": "cb2tUPyogo12"
      },
      "outputs": [],
      "source": [
        "y_pred = model_openai.predict(X_test)"
      ]
    },
    {
      "cell_type": "code",
      "execution_count": null,
      "metadata": {
        "colab": {
          "base_uri": "https://localhost:8080/"
        },
        "id": "7SokovlMfxOg",
        "outputId": "e8473f76-97dc-4c2c-e988-3012e21732ad"
      },
      "outputs": [
        {
          "name": "stdout",
          "output_type": "stream",
          "text": [
            "              precision    recall  f1-score   support\n",
            "\n",
            "           0       1.00      0.24      0.39        50\n",
            "           1       0.80      1.00      0.89       150\n",
            "\n",
            "    accuracy                           0.81       200\n",
            "   macro avg       0.90      0.62      0.64       200\n",
            "weighted avg       0.85      0.81      0.76       200\n",
            "\n"
          ]
        }
      ],
      "source": [
        "print(classification_report(y_test, y_pred))"
      ]
    },
    {
      "cell_type": "code",
      "execution_count": null,
      "metadata": {
        "colab": {
          "base_uri": "https://localhost:8080/",
          "height": 406
        },
        "id": "qyjeCCsxzoow",
        "outputId": "b76c2cda-ad2f-491b-83be-7033ab4b0174"
      },
      "outputs": [
        {
          "data": {
            "text/plain": [
              "<sklearn.metrics._plot.roc_curve.RocCurveDisplay at 0x7f5548240a60>"
            ]
          },
          "execution_count": 77,
          "metadata": {},
          "output_type": "execute_result"
        },
        {
          "data": {
            "image/png": "[encoded data removed]",
            "text/plain": [
              "<Figure size 432x432 with 1 Axes>"
            ]
          },
          "metadata": {},
          "output_type": "display_data"
        }
      ],
      "source": [
        "fig, ax = plt.subplots(figsize=(6, 6)) # modify figure size\n",
        "RocCurveDisplay.from_estimator(model_openai, X_test, y_test, ax = ax)"
      ]
    },
    {
      "cell_type": "markdown",
      "metadata": {
        "id": "tofKLYn34QmC"
      },
      "source": [
        "A much better performance in terms of AUC!"
      ]
    },
    {
      "cell_type": "markdown",
      "metadata": {
        "id": "OQFuBVc2bq4q"
      },
      "source": [
        "---\n",
        "\n",
        "# 8. Exercise\n",
        "\n",
        "In the above sections, only the review data were used to build the model. But obviously, the `drugName` and `condition`, to some extent, also contain useful information, which might be useful to further improve the model's prediction performance. Thus, in this excercise, you are required to use `drugName`, `condition`, as well as embeddings from `review` data altogether to build a machine leaning model to predict the `rating`, and compare the performance of it with the model using only the `review` data (`model_tfidf`).\n",
        "\n",
        "To begin, start by running codes in sections 1 and 2 to import the drug review dataset."
      ]
    },
    {
      "cell_type": "markdown",
      "metadata": {
        "id": "lxfzOTcv6v7E"
      },
      "source": [
        "**Part 1**: Create a training and testing dataset that includes `drugName`, `condition`, `review`, and `rating`.\n",
        "\n",
        "You are encouraged to start with a small portion of data, such as the 1,000 patients that I used in above sections, because the more data is used, the more computation time is required."
      ]
    },
    {
      "cell_type": "code",
      "execution_count": null,
      "metadata": {
        "id": "kLILKTSrMrsi"
      },
      "outputs": [],
      "source": [
        "## YOUR CODE HERE ##\n",
        "\n",
        "# hint: refer to section 3 above.\n",
        "# Include more columns in df_train rather than just 'review' and 'rating'.\n",
        "# Concatenate columns you choose to generate a new column."
      ]
    },
    {
      "cell_type": "markdown",
      "metadata": {
        "id": "g3PH3VG9JBXJ"
      },
      "source": [
        "**Part 2**: Use TF-IDF or OpenAI embedding method to vectorize the new generated column.\n",
        "\n",
        "If you choose to use the OpenAI embedding method, please don't include too much data. Otherwise, it will take a long time to get the embedding data from OpenAI."
      ]
    },
    {
      "cell_type": "code",
      "execution_count": null,
      "metadata": {
        "id": "562MNhFSr5xs"
      },
      "outputs": [],
      "source": [
        "## YOUR CODE HERE ##\n",
        "\n",
        "# hint: refer to either section 4, 5 or 7 above."
      ]
    },
    {
      "cell_type": "markdown",
      "metadata": {
        "id": "iJryVw4nJTa9"
      },
      "source": [
        "**Part 4**: Define a Random Forest Classifier and train the model.\n",
        "\n",
        "You may use any other models you want to try, including the models you learnt from this class or other models you learnt elsewhere.\n"
      ]
    },
    {
      "cell_type": "code",
      "execution_count": null,
      "metadata": {
        "id": "nKisMBFMr509"
      },
      "outputs": [],
      "source": [
        "## YOUR CODE HERE ##\n",
        "\n",
        "# hint: refer to section 6 above."
      ]
    },
    {
      "cell_type": "markdown",
      "metadata": {
        "id": "iei8vgkSJ2Fz"
      },
      "source": [
        "**Part 5**: Test the model on test dataset and compare the performance with the models with just review data.\n"
      ]
    },
    {
      "cell_type": "code",
      "execution_count": null,
      "metadata": {
        "id": "afVjbcEPr55j"
      },
      "outputs": [],
      "source": [
        "## YOUR CODE HERE ##\n",
        "\n",
        "# hint: refer to section 6 above."
      ]
    },
    {
      "cell_type": "code",
      "execution_count": null,
      "metadata": {
        "id": "xRHE3bphr4z5"
      },
      "outputs": [],
      "source": []
    }
  ],
  "metadata": {
    "colab": {
      "toc_visible": true,
      "provenance": [],
      "include_colab_link": true
    },
    "kernelspec": {
      "display_name": "Python 3",
      "name": "python3"
    }
  },
  "nbformat": 4,
  "nbformat_minor": 0
}